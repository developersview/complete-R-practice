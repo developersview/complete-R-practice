{
 "cells": [
  {
   "cell_type": "code",
   "execution_count": 1,
   "id": "b1d22855-2df6-4834-8094-bb0e66b69efe",
   "metadata": {},
   "outputs": [
    {
     "data": {
      "text/html": [
       "<ol class=list-inline>\n",
       "\t<li>-20</li>\n",
       "\t<li>-10</li>\n",
       "\t<li>-15</li>\n",
       "\t<li>0</li>\n",
       "\t<li>1</li>\n",
       "\t<li>4</li>\n",
       "\t<li>5</li>\n",
       "\t<li>6</li>\n",
       "\t<li>-15</li>\n",
       "</ol>\n"
      ],
      "text/latex": [
       "\\begin{enumerate*}\n",
       "\\item -20\n",
       "\\item -10\n",
       "\\item -15\n",
       "\\item 0\n",
       "\\item 1\n",
       "\\item 4\n",
       "\\item 5\n",
       "\\item 6\n",
       "\\item -15\n",
       "\\end{enumerate*}\n"
      ],
      "text/markdown": [
       "1. -20\n",
       "2. -10\n",
       "3. -15\n",
       "4. 0\n",
       "5. 1\n",
       "6. 4\n",
       "7. 5\n",
       "8. 6\n",
       "9. -15\n",
       "\n",
       "\n"
      ],
      "text/plain": [
       "[1] -20 -10 -15   0   1   4   5   6 -15"
      ]
     },
     "metadata": {},
     "output_type": "display_data"
    }
   ],
   "source": [
    "vector.random <- c(-20, -10, -15, 0, 1, 4, 5, 6, -15)\n",
    "vector.random"
   ]
  },
  {
   "cell_type": "code",
   "execution_count": 3,
   "id": "c14a3080-d29d-4979-9ca4-a0a897971202",
   "metadata": {},
   "outputs": [
    {
     "data": {
      "text/html": [
       "<ol class=list-inline>\n",
       "\t<li>FALSE</li>\n",
       "\t<li>FALSE</li>\n",
       "\t<li>FALSE</li>\n",
       "\t<li>TRUE</li>\n",
       "\t<li>TRUE</li>\n",
       "\t<li>TRUE</li>\n",
       "\t<li>TRUE</li>\n",
       "\t<li>TRUE</li>\n",
       "\t<li>FALSE</li>\n",
       "</ol>\n"
      ],
      "text/latex": [
       "\\begin{enumerate*}\n",
       "\\item FALSE\n",
       "\\item FALSE\n",
       "\\item FALSE\n",
       "\\item TRUE\n",
       "\\item TRUE\n",
       "\\item TRUE\n",
       "\\item TRUE\n",
       "\\item TRUE\n",
       "\\item FALSE\n",
       "\\end{enumerate*}\n"
      ],
      "text/markdown": [
       "1. FALSE\n",
       "2. FALSE\n",
       "3. FALSE\n",
       "4. TRUE\n",
       "5. TRUE\n",
       "6. TRUE\n",
       "7. TRUE\n",
       "8. TRUE\n",
       "9. FALSE\n",
       "\n",
       "\n"
      ],
      "text/plain": [
       "[1] FALSE FALSE FALSE  TRUE  TRUE  TRUE  TRUE  TRUE FALSE"
      ]
     },
     "metadata": {},
     "output_type": "display_data"
    }
   ],
   "source": [
    "vector.random >= 0"
   ]
  },
  {
   "cell_type": "code",
   "execution_count": 5,
   "id": "c9aa539c-72a4-47bd-b83d-9f906b21225a",
   "metadata": {},
   "outputs": [
    {
     "data": {
      "text/html": [
       "<ol class=list-inline>\n",
       "\t<li>FALSE</li>\n",
       "\t<li>FALSE</li>\n",
       "\t<li>FALSE</li>\n",
       "\t<li>TRUE</li>\n",
       "\t<li>TRUE</li>\n",
       "\t<li>TRUE</li>\n",
       "\t<li>TRUE</li>\n",
       "\t<li>TRUE</li>\n",
       "\t<li>FALSE</li>\n",
       "</ol>\n"
      ],
      "text/latex": [
       "\\begin{enumerate*}\n",
       "\\item FALSE\n",
       "\\item FALSE\n",
       "\\item FALSE\n",
       "\\item TRUE\n",
       "\\item TRUE\n",
       "\\item TRUE\n",
       "\\item TRUE\n",
       "\\item TRUE\n",
       "\\item FALSE\n",
       "\\end{enumerate*}\n"
      ],
      "text/markdown": [
       "1. FALSE\n",
       "2. FALSE\n",
       "3. FALSE\n",
       "4. TRUE\n",
       "5. TRUE\n",
       "6. TRUE\n",
       "7. TRUE\n",
       "8. TRUE\n",
       "9. FALSE\n",
       "\n",
       "\n"
      ],
      "text/plain": [
       "[1] FALSE FALSE FALSE  TRUE  TRUE  TRUE  TRUE  TRUE FALSE"
      ]
     },
     "metadata": {},
     "output_type": "display_data"
    }
   ],
   "source": [
    "vector.positive <- vector.random >= 0\n",
    "vector.positive"
   ]
  },
  {
   "cell_type": "code",
   "execution_count": 7,
   "id": "c4c704b6-3806-439a-85e0-c73f1d9be35f",
   "metadata": {},
   "outputs": [
    {
     "data": {
      "text/html": [
       "<ol class=list-inline>\n",
       "\t<li>0</li>\n",
       "\t<li>1</li>\n",
       "\t<li>4</li>\n",
       "\t<li>5</li>\n",
       "\t<li>6</li>\n",
       "</ol>\n"
      ],
      "text/latex": [
       "\\begin{enumerate*}\n",
       "\\item 0\n",
       "\\item 1\n",
       "\\item 4\n",
       "\\item 5\n",
       "\\item 6\n",
       "\\end{enumerate*}\n"
      ],
      "text/markdown": [
       "1. 0\n",
       "2. 1\n",
       "3. 4\n",
       "4. 5\n",
       "5. 6\n",
       "\n",
       "\n"
      ],
      "text/plain": [
       "[1] 0 1 4 5 6"
      ]
     },
     "metadata": {},
     "output_type": "display_data"
    }
   ],
   "source": [
    "vector.random[vector.positive]"
   ]
  },
  {
   "cell_type": "code",
   "execution_count": 9,
   "id": "9f6eb3a0-5631-4d00-9e03-c8a7eca54b44",
   "metadata": {},
   "outputs": [
    {
     "data": {
      "text/html": [
       "<ol class=list-inline>\n",
       "\t<li>0</li>\n",
       "\t<li>1</li>\n",
       "\t<li>4</li>\n",
       "\t<li>5</li>\n",
       "\t<li>6</li>\n",
       "</ol>\n"
      ],
      "text/latex": [
       "\\begin{enumerate*}\n",
       "\\item 0\n",
       "\\item 1\n",
       "\\item 4\n",
       "\\item 5\n",
       "\\item 6\n",
       "\\end{enumerate*}\n"
      ],
      "text/markdown": [
       "1. 0\n",
       "2. 1\n",
       "3. 4\n",
       "4. 5\n",
       "5. 6\n",
       "\n",
       "\n"
      ],
      "text/plain": [
       "[1] 0 1 4 5 6"
      ]
     },
     "metadata": {},
     "output_type": "display_data"
    }
   ],
   "source": [
    "vector.random[vector.random >= 0]"
   ]
  },
  {
   "cell_type": "code",
   "execution_count": 11,
   "id": "e8768347-4fe8-443b-a254-23261a707bb7",
   "metadata": {},
   "outputs": [
    {
     "data": {
      "text/html": [
       "<ol class=list-inline>\n",
       "\t<li>-20</li>\n",
       "\t<li>-10</li>\n",
       "\t<li>-15</li>\n",
       "\t<li>0</li>\n",
       "\t<li>-15</li>\n",
       "</ol>\n"
      ],
      "text/latex": [
       "\\begin{enumerate*}\n",
       "\\item -20\n",
       "\\item -10\n",
       "\\item -15\n",
       "\\item 0\n",
       "\\item -15\n",
       "\\end{enumerate*}\n"
      ],
      "text/markdown": [
       "1. -20\n",
       "2. -10\n",
       "3. -15\n",
       "4. 0\n",
       "5. -15\n",
       "\n",
       "\n"
      ],
      "text/plain": [
       "[1] -20 -10 -15   0 -15"
      ]
     },
     "metadata": {},
     "output_type": "display_data"
    }
   ],
   "source": [
    "vector.random[vector.random <= 0]"
   ]
  },
  {
   "cell_type": "code",
   "execution_count": 15,
   "id": "ae119b79-8e9b-4752-bd02-dec041ca2aaa",
   "metadata": {},
   "outputs": [
    {
     "data": {
      "text/html": [
       "<ol class=list-inline>\n",
       "\t<li>-20</li>\n",
       "\t<li>-10</li>\n",
       "\t<li>0</li>\n",
       "\t<li>4</li>\n",
       "\t<li>6</li>\n",
       "</ol>\n"
      ],
      "text/latex": [
       "\\begin{enumerate*}\n",
       "\\item -20\n",
       "\\item -10\n",
       "\\item 0\n",
       "\\item 4\n",
       "\\item 6\n",
       "\\end{enumerate*}\n"
      ],
      "text/markdown": [
       "1. -20\n",
       "2. -10\n",
       "3. 0\n",
       "4. 4\n",
       "5. 6\n",
       "\n",
       "\n"
      ],
      "text/plain": [
       "[1] -20 -10   0   4   6"
      ]
     },
     "metadata": {},
     "output_type": "display_data"
    }
   ],
   "source": [
    "vector.random[vector.random %% 2 == 0]"
   ]
  },
  {
   "cell_type": "code",
   "execution_count": 21,
   "id": "8e473fb1-d701-483e-9a43-8e62a20fc9e5",
   "metadata": {},
   "outputs": [
    {
     "data": {
      "text/html": [
       "<ol class=list-inline>\n",
       "\t<li>-20</li>\n",
       "\t<li>-10</li>\n",
       "\t<li>-15</li>\n",
       "\t<li>1</li>\n",
       "\t<li>4</li>\n",
       "\t<li>5</li>\n",
       "\t<li>6</li>\n",
       "\t<li>-15</li>\n",
       "</ol>\n"
      ],
      "text/latex": [
       "\\begin{enumerate*}\n",
       "\\item -20\n",
       "\\item -10\n",
       "\\item -15\n",
       "\\item 1\n",
       "\\item 4\n",
       "\\item 5\n",
       "\\item 6\n",
       "\\item -15\n",
       "\\end{enumerate*}\n"
      ],
      "text/markdown": [
       "1. -20\n",
       "2. -10\n",
       "3. -15\n",
       "4. 1\n",
       "5. 4\n",
       "6. 5\n",
       "7. 6\n",
       "8. -15\n",
       "\n",
       "\n"
      ],
      "text/plain": [
       "[1] -20 -10 -15   1   4   5   6 -15"
      ]
     },
     "metadata": {},
     "output_type": "display_data"
    }
   ],
   "source": [
    "vector.random[vector.random ** 2 > 0]"
   ]
  },
  {
   "cell_type": "code",
   "execution_count": 23,
   "id": "c5439aab-1852-4a57-8e3c-843cf9b6a10a",
   "metadata": {},
   "outputs": [
    {
     "data": {
      "text/html": [
       "<ol class=list-inline>\n",
       "\t<li>-20</li>\n",
       "\t<li>-10</li>\n",
       "\t<li>-15</li>\n",
       "\t<li>0</li>\n",
       "\t<li>1</li>\n",
       "\t<li>4</li>\n",
       "\t<li>&lt;NA&gt;</li>\n",
       "\t<li>5</li>\n",
       "\t<li>6</li>\n",
       "\t<li>-15</li>\n",
       "\t<li>&lt;NA&gt;</li>\n",
       "</ol>\n"
      ],
      "text/latex": [
       "\\begin{enumerate*}\n",
       "\\item -20\n",
       "\\item -10\n",
       "\\item -15\n",
       "\\item 0\n",
       "\\item 1\n",
       "\\item 4\n",
       "\\item <NA>\n",
       "\\item 5\n",
       "\\item 6\n",
       "\\item -15\n",
       "\\item <NA>\n",
       "\\end{enumerate*}\n"
      ],
      "text/markdown": [
       "1. -20\n",
       "2. -10\n",
       "3. -15\n",
       "4. 0\n",
       "5. 1\n",
       "6. 4\n",
       "7. &lt;NA&gt;\n",
       "8. 5\n",
       "9. 6\n",
       "10. -15\n",
       "11. &lt;NA&gt;\n",
       "\n",
       "\n"
      ],
      "text/plain": [
       " [1] -20 -10 -15   0   1   4  NA   5   6 -15  NA"
      ]
     },
     "metadata": {},
     "output_type": "display_data"
    }
   ],
   "source": [
    "vector.random <- c(-20, -10, -15, 0, 1, 4, NA, 5, 6, -15, NA)\n",
    "vector.random"
   ]
  },
  {
   "cell_type": "code",
   "execution_count": 25,
   "id": "99951010-d036-4994-8e76-9ec807e6d6cb",
   "metadata": {},
   "outputs": [
    {
     "data": {
      "text/html": [
       "<ol class=list-inline>\n",
       "\t<li>0</li>\n",
       "\t<li>1</li>\n",
       "\t<li>4</li>\n",
       "\t<li>&lt;NA&gt;</li>\n",
       "\t<li>5</li>\n",
       "\t<li>6</li>\n",
       "\t<li>&lt;NA&gt;</li>\n",
       "</ol>\n"
      ],
      "text/latex": [
       "\\begin{enumerate*}\n",
       "\\item 0\n",
       "\\item 1\n",
       "\\item 4\n",
       "\\item <NA>\n",
       "\\item 5\n",
       "\\item 6\n",
       "\\item <NA>\n",
       "\\end{enumerate*}\n"
      ],
      "text/markdown": [
       "1. 0\n",
       "2. 1\n",
       "3. 4\n",
       "4. &lt;NA&gt;\n",
       "5. 5\n",
       "6. 6\n",
       "7. &lt;NA&gt;\n",
       "\n",
       "\n"
      ],
      "text/plain": [
       "[1]  0  1  4 NA  5  6 NA"
      ]
     },
     "metadata": {},
     "output_type": "display_data"
    }
   ],
   "source": [
    "vector.random[vector.random >= 0]"
   ]
  },
  {
   "cell_type": "code",
   "execution_count": 27,
   "id": "e688b545-5e98-416a-badb-d18baf91ecdc",
   "metadata": {},
   "outputs": [
    {
     "data": {
      "text/html": [
       "<ol class=list-inline>\n",
       "\t<li>-20</li>\n",
       "\t<li>-10</li>\n",
       "\t<li>-15</li>\n",
       "\t<li>0</li>\n",
       "\t<li>&lt;NA&gt;</li>\n",
       "\t<li>-15</li>\n",
       "\t<li>&lt;NA&gt;</li>\n",
       "</ol>\n"
      ],
      "text/latex": [
       "\\begin{enumerate*}\n",
       "\\item -20\n",
       "\\item -10\n",
       "\\item -15\n",
       "\\item 0\n",
       "\\item <NA>\n",
       "\\item -15\n",
       "\\item <NA>\n",
       "\\end{enumerate*}\n"
      ],
      "text/markdown": [
       "1. -20\n",
       "2. -10\n",
       "3. -15\n",
       "4. 0\n",
       "5. &lt;NA&gt;\n",
       "6. -15\n",
       "7. &lt;NA&gt;\n",
       "\n",
       "\n"
      ],
      "text/plain": [
       "[1] -20 -10 -15   0  NA -15  NA"
      ]
     },
     "metadata": {},
     "output_type": "display_data"
    }
   ],
   "source": [
    "vector.random[vector.random <= 0]"
   ]
  },
  {
   "cell_type": "code",
   "execution_count": 29,
   "id": "dc5a1253-5d5b-491d-a498-facebb09f98d",
   "metadata": {},
   "outputs": [
    {
     "data": {
      "text/html": [
       "<ol class=list-inline>\n",
       "\t<li>-20</li>\n",
       "\t<li>-10</li>\n",
       "\t<li>-15</li>\n",
       "\t<li>0</li>\n",
       "\t<li>-15</li>\n",
       "</ol>\n"
      ],
      "text/latex": [
       "\\begin{enumerate*}\n",
       "\\item -20\n",
       "\\item -10\n",
       "\\item -15\n",
       "\\item 0\n",
       "\\item -15\n",
       "\\end{enumerate*}\n"
      ],
      "text/markdown": [
       "1. -20\n",
       "2. -10\n",
       "3. -15\n",
       "4. 0\n",
       "5. -15\n",
       "\n",
       "\n"
      ],
      "text/plain": [
       "[1] -20 -10 -15   0 -15"
      ]
     },
     "metadata": {},
     "output_type": "display_data"
    }
   ],
   "source": [
    "subset(vector.random, vector.random <= 0)"
   ]
  },
  {
   "cell_type": "code",
   "execution_count": 31,
   "id": "0b737870-04a4-40d0-b033-618cdecf88e5",
   "metadata": {},
   "outputs": [
    {
     "data": {
      "text/html": [
       "<ol class=list-inline>\n",
       "\t<li>-20</li>\n",
       "\t<li>-10</li>\n",
       "\t<li>-15</li>\n",
       "\t<li>0</li>\n",
       "\t<li>1</li>\n",
       "\t<li>4</li>\n",
       "\t<li>5</li>\n",
       "\t<li>6</li>\n",
       "\t<li>-15</li>\n",
       "</ol>\n"
      ],
      "text/latex": [
       "\\begin{enumerate*}\n",
       "\\item -20\n",
       "\\item -10\n",
       "\\item -15\n",
       "\\item 0\n",
       "\\item 1\n",
       "\\item 4\n",
       "\\item 5\n",
       "\\item 6\n",
       "\\item -15\n",
       "\\end{enumerate*}\n"
      ],
      "text/markdown": [
       "1. -20\n",
       "2. -10\n",
       "3. -15\n",
       "4. 0\n",
       "5. 1\n",
       "6. 4\n",
       "7. 5\n",
       "8. 6\n",
       "9. -15\n",
       "\n",
       "\n"
      ],
      "text/plain": [
       "[1] -20 -10 -15   0   1   4   5   6 -15"
      ]
     },
     "metadata": {},
     "output_type": "display_data"
    }
   ],
   "source": [
    "vector.random <- c(-20, -10, -15, 0, 1, 4, 5, 6, -15)\n",
    "vector.random"
   ]
  },
  {
   "cell_type": "code",
   "execution_count": 37,
   "id": "d1fa4c9c-7c45-495e-849c-e2122afb5d93",
   "metadata": {},
   "outputs": [
    {
     "data": {
      "text/html": [
       "<ol class=list-inline>\n",
       "\t<li>4</li>\n",
       "\t<li>5</li>\n",
       "\t<li>6</li>\n",
       "\t<li>7</li>\n",
       "\t<li>8</li>\n",
       "</ol>\n"
      ],
      "text/latex": [
       "\\begin{enumerate*}\n",
       "\\item 4\n",
       "\\item 5\n",
       "\\item 6\n",
       "\\item 7\n",
       "\\item 8\n",
       "\\end{enumerate*}\n"
      ],
      "text/markdown": [
       "1. 4\n",
       "2. 5\n",
       "3. 6\n",
       "4. 7\n",
       "5. 8\n",
       "\n",
       "\n"
      ],
      "text/plain": [
       "[1] 4 5 6 7 8"
      ]
     },
     "metadata": {},
     "output_type": "display_data"
    }
   ],
   "source": [
    "which(vector.random >= 0) # return indexes not values"
   ]
  },
  {
   "cell_type": "code",
   "execution_count": 43,
   "id": "e1bb13a0-5f79-4947-a592-5607f2f6b2f3",
   "metadata": {},
   "outputs": [
    {
     "data": {
      "text/html": [
       "<ol class=list-inline>\n",
       "\t<li>1</li>\n",
       "\t<li>2</li>\n",
       "\t<li>4</li>\n",
       "</ol>\n"
      ],
      "text/latex": [
       "\\begin{enumerate*}\n",
       "\\item 1\n",
       "\\item 2\n",
       "\\item 4\n",
       "\\end{enumerate*}\n"
      ],
      "text/markdown": [
       "1. 1\n",
       "2. 2\n",
       "3. 4\n",
       "\n",
       "\n"
      ],
      "text/plain": [
       "[1] 1 2 4"
      ]
     },
     "metadata": {},
     "output_type": "display_data"
    }
   ],
   "source": [
    "which(vector.random %% 10 == 0)"
   ]
  },
  {
   "cell_type": "code",
   "execution_count": 49,
   "id": "e7d14da2-358e-4f04-b180-1a548259ee8b",
   "metadata": {},
   "outputs": [
    {
     "data": {
      "text/html": [
       "TRUE"
      ],
      "text/latex": [
       "TRUE"
      ],
      "text/markdown": [
       "TRUE"
      ],
      "text/plain": [
       "[1] TRUE"
      ]
     },
     "metadata": {},
     "output_type": "display_data"
    }
   ],
   "source": [
    "any(vector.random > 1)"
   ]
  },
  {
   "cell_type": "code",
   "execution_count": 53,
   "id": "0461769d-11d5-4b96-b3d5-bc26da4b9e18",
   "metadata": {},
   "outputs": [
    {
     "data": {
      "text/html": [
       "TRUE"
      ],
      "text/latex": [
       "TRUE"
      ],
      "text/markdown": [
       "TRUE"
      ],
      "text/plain": [
       "[1] TRUE"
      ]
     },
     "metadata": {},
     "output_type": "display_data"
    }
   ],
   "source": [
    "any(vector.random %% 10 == 1)"
   ]
  },
  {
   "cell_type": "code",
   "execution_count": 55,
   "id": "8ec0097a-e429-4825-bfac-412bc3d44628",
   "metadata": {},
   "outputs": [
    {
     "data": {
      "text/html": [
       "FALSE"
      ],
      "text/latex": [
       "FALSE"
      ],
      "text/markdown": [
       "FALSE"
      ],
      "text/plain": [
       "[1] FALSE"
      ]
     },
     "metadata": {},
     "output_type": "display_data"
    }
   ],
   "source": [
    "any(vector.random %% 10 == 17)"
   ]
  },
  {
   "cell_type": "code",
   "execution_count": 57,
   "id": "257c56c0-ab14-4554-9510-59d04e252adc",
   "metadata": {},
   "outputs": [
    {
     "data": {
      "text/html": [
       "\n",
       "<table width=\"100%\" summary=\"page for any {base}\"><tr><td>any {base}</td><td style=\"text-align: right;\">R Documentation</td></tr></table>\n",
       "\n",
       "<h2>Are Some Values True?</h2>\n",
       "\n",
       "<h3>Description</h3>\n",
       "\n",
       "<p>Given a set of logical vectors, is at least one of the values true?\n",
       "</p>\n",
       "\n",
       "\n",
       "<h3>Usage</h3>\n",
       "\n",
       "<pre>\n",
       "any(..., na.rm = FALSE)\n",
       "</pre>\n",
       "\n",
       "\n",
       "<h3>Arguments</h3>\n",
       "\n",
       "<table summary=\"R argblock\">\n",
       "<tr valign=\"top\"><td><code>...</code></td>\n",
       "<td>\n",
       "<p>zero or more logical vectors.  Other objects of zero\n",
       "length are ignored, and the rest are coerced to logical ignoring\n",
       "any class.</p>\n",
       "</td></tr>\n",
       "<tr valign=\"top\"><td><code>na.rm</code></td>\n",
       "<td>\n",
       "<p>logical.  If true <code>NA</code> values are removed before\n",
       "the result is computed.</p>\n",
       "</td></tr>\n",
       "</table>\n",
       "\n",
       "\n",
       "<h3>Details</h3>\n",
       "\n",
       "<p>This is a generic function: methods can be defined for it\n",
       "directly or via the <code>Summary</code> group generic.\n",
       "For this to work properly, the arguments <code>...</code> should be\n",
       "unnamed, and dispatch is on the first argument.\n",
       "</p>\n",
       "<p>Coercion of types other than integer (raw, double, complex, character,\n",
       "list) gives a warning as this is often unintentional.\n",
       "</p>\n",
       "<p>This is a primitive function.\n",
       "</p>\n",
       "\n",
       "\n",
       "<h3>Value</h3>\n",
       "\n",
       "<p>The value is a logical vector of length one.\n",
       "</p>\n",
       "<p>Let <code>x</code> denote the concatenation of all the logical vectors in\n",
       "<code>...</code> (after coercion), after removing <code>NA</code>s if requested by\n",
       "<code>na.rm = TRUE</code>.\n",
       "</p>\n",
       "<p>The value returned is <code>TRUE</code> if at least one of the values in\n",
       "<code>x</code> is <code>TRUE</code>, and <code>FALSE</code> if all of the values in\n",
       "<code>x</code> are <code>FALSE</code> (including if there are no values).  Otherwise\n",
       "the value is <code>NA</code> (which can only occur if <code>na.rm = FALSE</code>\n",
       "and <code>...</code> contains no <code>TRUE</code> values and at least one\n",
       "<code>NA</code> value).\n",
       "</p>\n",
       "\n",
       "\n",
       "<h3>S4 methods</h3>\n",
       "\n",
       "<p>This is part of the S4 <code>Summary</code>\n",
       "group generic.  Methods for it must use the signature\n",
       "<code>x, ..., na.rm</code>.\n",
       "</p>\n",
       "\n",
       "\n",
       "<h3>References</h3>\n",
       "\n",
       "<p>Becker, R. A., Chambers, J. M. and Wilks, A. R. (1988)\n",
       "<em>The New S Language</em>.\n",
       "Wadsworth &amp; Brooks/Cole.\n",
       "</p>\n",
       "\n",
       "\n",
       "<h3>See Also</h3>\n",
       "\n",
       "<p><code>all</code>, the &lsquo;complement&rsquo; of <code>any</code>.\n",
       "</p>\n",
       "\n",
       "\n",
       "<h3>Examples</h3>\n",
       "\n",
       "<pre>\n",
       "range(x &lt;- sort(round(stats::rnorm(10) - 1.2, 1)))\n",
       "if(any(x &lt; 0)) cat(\"x contains negative values\\n\")\n",
       "</pre>\n",
       "\n",
       "<hr /><div style=\"text-align: center;\">[Package <em>base</em> version 3.6.1 ]</div>"
      ],
      "text/latex": [
       "\\inputencoding{utf8}\n",
       "\\HeaderA{any}{Are Some Values True?}{any}\n",
       "\\keyword{logic}{any}\n",
       "%\n",
       "\\begin{Description}\\relax\n",
       "Given a set of logical vectors, is at least one of the values true?\n",
       "\\end{Description}\n",
       "%\n",
       "\\begin{Usage}\n",
       "\\begin{verbatim}\n",
       "any(..., na.rm = FALSE)\n",
       "\\end{verbatim}\n",
       "\\end{Usage}\n",
       "%\n",
       "\\begin{Arguments}\n",
       "\\begin{ldescription}\n",
       "\\item[\\code{...}] zero or more logical vectors.  Other objects of zero\n",
       "length are ignored, and the rest are coerced to logical ignoring\n",
       "any class.\n",
       "\\item[\\code{na.rm}] logical.  If true \\code{NA} values are removed before\n",
       "the result is computed.\n",
       "\\end{ldescription}\n",
       "\\end{Arguments}\n",
       "%\n",
       "\\begin{Details}\\relax\n",
       "This is a generic function: methods can be defined for it\n",
       "directly or via the \\code{\\LinkA{Summary}{S3groupGeneric}} group generic.\n",
       "For this to work properly, the arguments \\code{...} should be\n",
       "unnamed, and dispatch is on the first argument.\n",
       "\n",
       "Coercion of types other than integer (raw, double, complex, character,\n",
       "list) gives a warning as this is often unintentional.\n",
       "\n",
       "This is a \\LinkA{primitive}{primitive} function.\n",
       "\\end{Details}\n",
       "%\n",
       "\\begin{Value}\n",
       "The value is a logical vector of length one.\n",
       "\n",
       "Let \\code{x} denote the concatenation of all the logical vectors in\n",
       "\\code{...} (after coercion), after removing \\code{NA}s if requested by\n",
       "\\code{na.rm = TRUE}.\n",
       "\n",
       "The value returned is \\code{TRUE} if at least one of the values in\n",
       "\\code{x} is \\code{TRUE}, and \\code{FALSE} if all of the values in\n",
       "\\code{x} are \\code{FALSE} (including if there are no values).  Otherwise\n",
       "the value is \\code{NA} (which can only occur if \\code{na.rm = FALSE}\n",
       "and \\code{...} contains no \\code{TRUE} values and at least one\n",
       "\\code{NA} value).\n",
       "\\end{Value}\n",
       "%\n",
       "\\begin{Section}{S4 methods}\n",
       "This is part of the S4 \\code{\\LinkA{Summary}{S4groupGeneric}}\n",
       "group generic.  Methods for it must use the signature\n",
       "\\code{x, ..., na.rm}.\n",
       "\\end{Section}\n",
       "%\n",
       "\\begin{References}\\relax\n",
       "Becker, R. A., Chambers, J. M. and Wilks, A. R. (1988)\n",
       "\\emph{The New S Language}.\n",
       "Wadsworth \\& Brooks/Cole.\n",
       "\\end{References}\n",
       "%\n",
       "\\begin{SeeAlso}\\relax\n",
       "\\code{\\LinkA{all}{all}}, the `complement' of \\code{any}.\n",
       "\\end{SeeAlso}\n",
       "%\n",
       "\\begin{Examples}\n",
       "\\begin{ExampleCode}\n",
       "range(x <- sort(round(stats::rnorm(10) - 1.2, 1)))\n",
       "if(any(x < 0)) cat(\"x contains negative values\\n\")\n",
       "\\end{ExampleCode}\n",
       "\\end{Examples}"
      ],
      "text/plain": [
       "any                    package:base                    R Documentation\n",
       "\n",
       "_\bA_\br_\be _\bS_\bo_\bm_\be _\bV_\ba_\bl_\bu_\be_\bs _\bT_\br_\bu_\be?\n",
       "\n",
       "_\bD_\be_\bs_\bc_\br_\bi_\bp_\bt_\bi_\bo_\bn:\n",
       "\n",
       "     Given a set of logical vectors, is at least one of the values\n",
       "     true?\n",
       "\n",
       "_\bU_\bs_\ba_\bg_\be:\n",
       "\n",
       "     any(..., na.rm = FALSE)\n",
       "     \n",
       "_\bA_\br_\bg_\bu_\bm_\be_\bn_\bt_\bs:\n",
       "\n",
       "     ...: zero or more logical vectors.  Other objects of zero length\n",
       "          are ignored, and the rest are coerced to logical ignoring any\n",
       "          class.\n",
       "\n",
       "   na.rm: logical.  If true 'NA' values are removed before the result\n",
       "          is computed.\n",
       "\n",
       "_\bD_\be_\bt_\ba_\bi_\bl_\bs:\n",
       "\n",
       "     This is a generic function: methods can be defined for it directly\n",
       "     or via the 'Summary' group generic.  For this to work properly,\n",
       "     the arguments '...' should be unnamed, and dispatch is on the\n",
       "     first argument.\n",
       "\n",
       "     Coercion of types other than integer (raw, double, complex,\n",
       "     character, list) gives a warning as this is often unintentional.\n",
       "\n",
       "     This is a primitive function.\n",
       "\n",
       "_\bV_\ba_\bl_\bu_\be:\n",
       "\n",
       "     The value is a logical vector of length one.\n",
       "\n",
       "     Let 'x' denote the concatenation of all the logical vectors in\n",
       "     '...' (after coercion), after removing 'NA's if requested by\n",
       "     'na.rm = TRUE'.\n",
       "\n",
       "     The value returned is 'TRUE' if at least one of the values in 'x'\n",
       "     is 'TRUE', and 'FALSE' if all of the values in 'x' are 'FALSE'\n",
       "     (including if there are no values).  Otherwise the value is 'NA'\n",
       "     (which can only occur if 'na.rm = FALSE' and '...' contains no\n",
       "     'TRUE' values and at least one 'NA' value).\n",
       "\n",
       "_\bS_\b4 _\bm_\be_\bt_\bh_\bo_\bd_\bs:\n",
       "\n",
       "     This is part of the S4 'Summary' group generic.  Methods for it\n",
       "     must use the signature 'x, ..., na.rm'.\n",
       "\n",
       "_\bR_\be_\bf_\be_\br_\be_\bn_\bc_\be_\bs:\n",
       "\n",
       "     Becker, R. A., Chambers, J. M. and Wilks, A. R. (1988) _The New S\n",
       "     Language_.  Wadsworth & Brooks/Cole.\n",
       "\n",
       "_\bS_\be_\be _\bA_\bl_\bs_\bo:\n",
       "\n",
       "     'all', the 'complement' of 'any'.\n",
       "\n",
       "_\bE_\bx_\ba_\bm_\bp_\bl_\be_\bs:\n",
       "\n",
       "     range(x <- sort(round(stats::rnorm(10) - 1.2, 1)))\n",
       "     if(any(x < 0)) cat(\"x contains negative values\\n\")\n",
       "     "
      ]
     },
     "metadata": {},
     "output_type": "display_data"
    }
   ],
   "source": [
    "?any"
   ]
  },
  {
   "cell_type": "code",
   "execution_count": 61,
   "id": "f4168dfb-92fa-44ab-ad4c-158dd04afcf5",
   "metadata": {},
   "outputs": [
    {
     "data": {
      "text/html": [
       "TRUE"
      ],
      "text/latex": [
       "TRUE"
      ],
      "text/markdown": [
       "TRUE"
      ],
      "text/plain": [
       "[1] TRUE"
      ]
     },
     "metadata": {},
     "output_type": "display_data"
    }
   ],
   "source": [
    "all(vector.random > -21)"
   ]
  },
  {
   "cell_type": "code",
   "execution_count": 65,
   "id": "6b5022f9-2098-41aa-b2c0-2a89a1377e01",
   "metadata": {},
   "outputs": [
    {
     "data": {
      "text/html": [
       "FALSE"
      ],
      "text/latex": [
       "FALSE"
      ],
      "text/markdown": [
       "FALSE"
      ],
      "text/plain": [
       "[1] FALSE"
      ]
     },
     "metadata": {},
     "output_type": "display_data"
    }
   ],
   "source": [
    "all(vector.random > 0)"
   ]
  },
  {
   "cell_type": "code",
   "execution_count": 73,
   "id": "e5725096-eee6-4741-b319-2437b7014d40",
   "metadata": {},
   "outputs": [],
   "source": [
    "vect1 <- 2:7\n",
    "vect2 <- seq(2, 12, by = 2)"
   ]
  },
  {
   "cell_type": "code",
   "execution_count": 75,
   "id": "eeaeff43-ad81-4511-9359-a2dd0d13d491",
   "metadata": {},
   "outputs": [
    {
     "data": {
      "text/html": [
       "<ol class=list-inline>\n",
       "\t<li>2</li>\n",
       "\t<li>3</li>\n",
       "\t<li>4</li>\n",
       "\t<li>5</li>\n",
       "\t<li>6</li>\n",
       "\t<li>7</li>\n",
       "</ol>\n"
      ],
      "text/latex": [
       "\\begin{enumerate*}\n",
       "\\item 2\n",
       "\\item 3\n",
       "\\item 4\n",
       "\\item 5\n",
       "\\item 6\n",
       "\\item 7\n",
       "\\end{enumerate*}\n"
      ],
      "text/markdown": [
       "1. 2\n",
       "2. 3\n",
       "3. 4\n",
       "4. 5\n",
       "5. 6\n",
       "6. 7\n",
       "\n",
       "\n"
      ],
      "text/plain": [
       "[1] 2 3 4 5 6 7"
      ]
     },
     "metadata": {},
     "output_type": "display_data"
    }
   ],
   "source": [
    "vect1"
   ]
  },
  {
   "cell_type": "code",
   "execution_count": 77,
   "id": "112e5d08-d9b7-4238-80cf-f0b2e8931f24",
   "metadata": {},
   "outputs": [
    {
     "data": {
      "text/html": [
       "<ol class=list-inline>\n",
       "\t<li>2</li>\n",
       "\t<li>4</li>\n",
       "\t<li>6</li>\n",
       "\t<li>8</li>\n",
       "\t<li>10</li>\n",
       "\t<li>12</li>\n",
       "</ol>\n"
      ],
      "text/latex": [
       "\\begin{enumerate*}\n",
       "\\item 2\n",
       "\\item 4\n",
       "\\item 6\n",
       "\\item 8\n",
       "\\item 10\n",
       "\\item 12\n",
       "\\end{enumerate*}\n"
      ],
      "text/markdown": [
       "1. 2\n",
       "2. 4\n",
       "3. 6\n",
       "4. 8\n",
       "5. 10\n",
       "6. 12\n",
       "\n",
       "\n"
      ],
      "text/plain": [
       "[1]  2  4  6  8 10 12"
      ]
     },
     "metadata": {},
     "output_type": "display_data"
    }
   ],
   "source": [
    "vect2"
   ]
  },
  {
   "cell_type": "code",
   "execution_count": 79,
   "id": "39a84c89-0c37-4c74-a0a2-768ad1d1265a",
   "metadata": {},
   "outputs": [
    {
     "data": {
      "text/html": [
       "<ol class=list-inline>\n",
       "\t<li>TRUE</li>\n",
       "\t<li>FALSE</li>\n",
       "\t<li>FALSE</li>\n",
       "\t<li>FALSE</li>\n",
       "\t<li>FALSE</li>\n",
       "\t<li>FALSE</li>\n",
       "</ol>\n"
      ],
      "text/latex": [
       "\\begin{enumerate*}\n",
       "\\item TRUE\n",
       "\\item FALSE\n",
       "\\item FALSE\n",
       "\\item FALSE\n",
       "\\item FALSE\n",
       "\\item FALSE\n",
       "\\end{enumerate*}\n"
      ],
      "text/markdown": [
       "1. TRUE\n",
       "2. FALSE\n",
       "3. FALSE\n",
       "4. FALSE\n",
       "5. FALSE\n",
       "6. FALSE\n",
       "\n",
       "\n"
      ],
      "text/plain": [
       "[1]  TRUE FALSE FALSE FALSE FALSE FALSE"
      ]
     },
     "metadata": {},
     "output_type": "display_data"
    }
   ],
   "source": [
    "vect1 == vect2"
   ]
  },
  {
   "cell_type": "code",
   "execution_count": 81,
   "id": "1b72f540-aac3-451f-afc6-cb60f427f7bb",
   "metadata": {},
   "outputs": [
    {
     "data": {
      "text/html": [
       "FALSE"
      ],
      "text/latex": [
       "FALSE"
      ],
      "text/markdown": [
       "FALSE"
      ],
      "text/plain": [
       "[1] FALSE"
      ]
     },
     "metadata": {},
     "output_type": "display_data"
    }
   ],
   "source": [
    "identical(vect1, vect2)"
   ]
  },
  {
   "cell_type": "code",
   "execution_count": 85,
   "id": "6be7f267-01e6-4d32-9dcf-d452b5c7e25e",
   "metadata": {},
   "outputs": [
    {
     "data": {
      "text/html": [
       "<ol class=list-inline>\n",
       "\t<li>2</li>\n",
       "\t<li>3</li>\n",
       "\t<li>4</li>\n",
       "\t<li>5</li>\n",
       "\t<li>6</li>\n",
       "\t<li>7</li>\n",
       "</ol>\n"
      ],
      "text/latex": [
       "\\begin{enumerate*}\n",
       "\\item 2\n",
       "\\item 3\n",
       "\\item 4\n",
       "\\item 5\n",
       "\\item 6\n",
       "\\item 7\n",
       "\\end{enumerate*}\n"
      ],
      "text/markdown": [
       "1. 2\n",
       "2. 3\n",
       "3. 4\n",
       "4. 5\n",
       "5. 6\n",
       "6. 7\n",
       "\n",
       "\n"
      ],
      "text/plain": [
       "[1] 2 3 4 5 6 7"
      ]
     },
     "metadata": {},
     "output_type": "display_data"
    }
   ],
   "source": [
    "vect3 <- 2:7\n",
    "vect3"
   ]
  },
  {
   "cell_type": "code",
   "execution_count": 87,
   "id": "35ab6644-7a00-4000-b23c-67440adf3978",
   "metadata": {},
   "outputs": [
    {
     "data": {
      "text/html": [
       "TRUE"
      ],
      "text/latex": [
       "TRUE"
      ],
      "text/markdown": [
       "TRUE"
      ],
      "text/plain": [
       "[1] TRUE"
      ]
     },
     "metadata": {},
     "output_type": "display_data"
    }
   ],
   "source": [
    "identical(vect1, vect3)"
   ]
  },
  {
   "cell_type": "code",
   "execution_count": 89,
   "id": "2dc8c614-a47f-40f3-b7bf-2a4b644c67d8",
   "metadata": {},
   "outputs": [
    {
     "data": {
      "text/html": [
       "<ol class=list-inline>\n",
       "\t<li>100</li>\n",
       "\t<li>150</li>\n",
       "</ol>\n"
      ],
      "text/latex": [
       "\\begin{enumerate*}\n",
       "\\item 100\n",
       "\\item 150\n",
       "\\end{enumerate*}\n"
      ],
      "text/markdown": [
       "1. 100\n",
       "2. 150\n",
       "\n",
       "\n"
      ],
      "text/plain": [
       "[1] 100 150"
      ]
     },
     "metadata": {},
     "output_type": "display_data"
    }
   ],
   "source": [
    "vector.numbers <- c(100, 50, 150)\n",
    "vector.condition <- vector.numbers >= 100\n",
    "vector.numbers[vector.condition]"
   ]
  },
  {
   "cell_type": "code",
   "execution_count": 91,
   "id": "81d242a7-4bdf-4a40-96d2-c75311271ac8",
   "metadata": {},
   "outputs": [
    {
     "data": {
      "text/html": [
       "<ol class=list-inline>\n",
       "\t<li>TRUE</li>\n",
       "\t<li>FALSE</li>\n",
       "\t<li>TRUE</li>\n",
       "</ol>\n"
      ],
      "text/latex": [
       "\\begin{enumerate*}\n",
       "\\item TRUE\n",
       "\\item FALSE\n",
       "\\item TRUE\n",
       "\\end{enumerate*}\n"
      ],
      "text/markdown": [
       "1. TRUE\n",
       "2. FALSE\n",
       "3. TRUE\n",
       "\n",
       "\n"
      ],
      "text/plain": [
       "[1]  TRUE FALSE  TRUE"
      ]
     },
     "metadata": {},
     "output_type": "display_data"
    }
   ],
   "source": [
    "vector.condition"
   ]
  },
  {
   "cell_type": "code",
   "execution_count": 93,
   "id": "6620f423-56f5-4299-a736-066ad80a7174",
   "metadata": {},
   "outputs": [
    {
     "data": {
      "text/html": [
       "<ol class=list-inline>\n",
       "\t<li>0</li>\n",
       "\t<li>0</li>\n",
       "\t<li>0</li>\n",
       "\t<li>0</li>\n",
       "</ol>\n"
      ],
      "text/latex": [
       "\\begin{enumerate*}\n",
       "\\item 0\n",
       "\\item 0\n",
       "\\item 0\n",
       "\\item 0\n",
       "\\end{enumerate*}\n"
      ],
      "text/markdown": [
       "1. 0\n",
       "2. 0\n",
       "3. 0\n",
       "4. 0\n",
       "\n",
       "\n"
      ],
      "text/plain": [
       "[1] 0 0 0 0"
      ]
     },
     "metadata": {},
     "output_type": "display_data"
    }
   ],
   "source": [
    "numeric(4)"
   ]
  },
  {
   "cell_type": "code",
   "execution_count": null,
   "id": "29b9c264-f762-4b8d-9cf8-f1fc27d8a47c",
   "metadata": {},
   "outputs": [],
   "source": []
  }
 ],
 "metadata": {
  "kernelspec": {
   "display_name": "R",
   "language": "R",
   "name": "ir"
  },
  "language_info": {
   "codemirror_mode": "r",
   "file_extension": ".r",
   "mimetype": "text/x-r-source",
   "name": "R",
   "pygments_lexer": "r",
   "version": "3.6.1"
  }
 },
 "nbformat": 4,
 "nbformat_minor": 5
}
