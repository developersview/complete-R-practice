{
 "cells": [
  {
   "cell_type": "code",
   "execution_count": 1,
   "id": "43b8448e-025d-468d-a56b-79dabee3196e",
   "metadata": {},
   "outputs": [
    {
     "data": {
      "text/html": [
       "\n",
       "<table width=\"100%\" summary=\"page for Reserved {base}\"><tr><td>Reserved {base}</td><td style=\"text-align: right;\">R Documentation</td></tr></table>\n",
       "\n",
       "<h2>Reserved Words in R</h2>\n",
       "\n",
       "<h3>Description</h3>\n",
       "\n",
       "<p>The reserved words in <span style=\"font-family: Courier New, Courier; color: #666666;\"><b>R</b></span>'s parser are\n",
       "</p>\n",
       "<p><code>if</code> <code>else</code> <code>repeat</code> <code>while</code>\n",
       "<code>function</code> <code>for</code> <code>in</code>\n",
       "<code>next</code> <code>break</code>\n",
       "</p>\n",
       "<p><code>TRUE</code> <code>FALSE</code> <code>NULL</code>\n",
       "<code>Inf</code> <code>NaN</code>\n",
       "<code>NA</code> <code>NA_integer_</code> <code>NA_real_</code>\n",
       "<code>NA_complex_</code> <code>NA_character_</code>\n",
       "</p>\n",
       "<p><code>...</code> and <code>..1</code>, <code>..2</code> etc, which are used to refer to\n",
       "arguments passed down from a calling function, see <code>...</code>.\n",
       "</p>\n",
       "\n",
       "\n",
       "<h3>Details</h3>\n",
       "\n",
       "<p>Reserved words outside quotes are always parsed to be\n",
       "references to the objects linked to in the &lsquo;Description&rsquo;, and\n",
       "hence they are not allowed as syntactic names (see\n",
       "<code>make.names</code>).  They <b>are</b> allowed as non-syntactic\n",
       "names, e.g. inside backtick quotes.\n",
       "</p>\n",
       "\n",
       "<hr /><div style=\"text-align: center;\">[Package <em>base</em> version 3.6.1 ]</div>"
      ],
      "text/latex": [
       "\\inputencoding{utf8}\n",
       "\\HeaderA{Reserved}{Reserved Words in R}{Reserved}\n",
       "\\aliasA{reserved}{Reserved}{reserved}\n",
       "\\keyword{programming}{Reserved}\n",
       "\\keyword{documentation}{Reserved}\n",
       "%\n",
       "\\begin{Description}\\relax\n",
       "The reserved words in \\R{}'s parser are\n",
       "\n",
       "\\code{\\LinkA{if}{if}} \\code{\\LinkA{else}{else}} \\code{\\LinkA{repeat}{repeat}} \\code{\\LinkA{while}{while}}\n",
       "\\code{\\LinkA{function}{function}} \\code{\\LinkA{for}{for}} \\code{in}\n",
       "\\code{\\LinkA{next}{next}} \\code{\\LinkA{break}{break}}\n",
       "\n",
       "\\code{\\LinkA{TRUE}{TRUE}} \\code{\\LinkA{FALSE}{FALSE}} \\code{\\LinkA{NULL}{NULL}}\n",
       "\\code{\\LinkA{Inf}{Inf}} \\code{\\LinkA{NaN}{NaN}}\n",
       "\\code{\\LinkA{NA}{NA}} \\code{\\LinkA{NA\\_integer\\_}{NA.Rul.integer.Rul.}} \\code{\\LinkA{NA\\_real\\_}{NA.Rul.real.Rul.}}\n",
       "\\code{\\LinkA{NA\\_complex\\_}{NA.Rul.complex.Rul.}} \\code{\\LinkA{NA\\_character\\_}{NA.Rul.character.Rul.}}\n",
       "\n",
       "\\code{...} and \\code{..1}, \\code{..2} etc, which are used to refer to\n",
       "arguments passed down from a calling function, see \\code{\\LinkA{...}{...}}.\n",
       "\\end{Description}\n",
       "%\n",
       "\\begin{Details}\\relax\n",
       "Reserved words outside \\LinkA{quotes}{Quotes} are always parsed to be\n",
       "references to the objects linked to in the `Description', and\n",
       "hence they are not allowed as syntactic names (see\n",
       "\\code{\\LinkA{make.names}{make.names}}).  They \\bold{are} allowed as non-syntactic\n",
       "names, e.g.~inside \\LinkA{backtick}{backtick} quotes.\n",
       "\\end{Details}"
      ],
      "text/plain": [
       "Reserved                 package:base                  R Documentation\n",
       "\n",
       "_\bR_\be_\bs_\be_\br_\bv_\be_\bd _\bW_\bo_\br_\bd_\bs _\bi_\bn _\bR\n",
       "\n",
       "_\bD_\be_\bs_\bc_\br_\bi_\bp_\bt_\bi_\bo_\bn:\n",
       "\n",
       "     The reserved words in R's parser are\n",
       "\n",
       "     'if' 'else' 'repeat' 'while' 'function' 'for' 'in' 'next' 'break'\n",
       "\n",
       "     'TRUE' 'FALSE' 'NULL' 'Inf' 'NaN' 'NA' 'NA_integer_' 'NA_real_'\n",
       "     'NA_complex_' 'NA_character_'\n",
       "\n",
       "     '...' and '..1', '..2' etc, which are used to refer to arguments\n",
       "     passed down from a calling function, see '...'.\n",
       "\n",
       "_\bD_\be_\bt_\ba_\bi_\bl_\bs:\n",
       "\n",
       "     Reserved words outside quotes are always parsed to be references\n",
       "     to the objects linked to in the 'Description', and hence they are\n",
       "     not allowed as syntactic names (see 'make.names').  They *are*\n",
       "     allowed as non-syntactic names, e.g. inside backtick quotes.\n"
      ]
     },
     "metadata": {},
     "output_type": "display_data"
    }
   ],
   "source": [
    "?reserved"
   ]
  },
  {
   "cell_type": "code",
   "execution_count": 3,
   "id": "24c21866-6156-45cf-a1fb-2c4174d9af98",
   "metadata": {},
   "outputs": [
    {
     "data": {
      "text/html": [
       "TRUE"
      ],
      "text/latex": [
       "TRUE"
      ],
      "text/markdown": [
       "TRUE"
      ],
      "text/plain": [
       "[1] TRUE"
      ]
     },
     "metadata": {},
     "output_type": "display_data"
    }
   ],
   "source": [
    "TRUE"
   ]
  },
  {
   "cell_type": "code",
   "execution_count": 5,
   "id": "ee5f18e6-3692-4889-9de2-81d800ebabff",
   "metadata": {},
   "outputs": [
    {
     "data": {
      "text/html": [
       "FALSE"
      ],
      "text/latex": [
       "FALSE"
      ],
      "text/markdown": [
       "FALSE"
      ],
      "text/plain": [
       "[1] FALSE"
      ]
     },
     "metadata": {},
     "output_type": "display_data"
    }
   ],
   "source": [
    "FALSE"
   ]
  },
  {
   "cell_type": "code",
   "execution_count": 11,
   "id": "2ea70227-7b3c-4794-a5fa-4c36fd8b3042",
   "metadata": {},
   "outputs": [
    {
     "data": {
      "text/html": [
       "Inf"
      ],
      "text/latex": [
       "Inf"
      ],
      "text/markdown": [
       "Inf"
      ],
      "text/plain": [
       "[1] Inf"
      ]
     },
     "metadata": {},
     "output_type": "display_data"
    }
   ],
   "source": [
    "Inf"
   ]
  },
  {
   "cell_type": "code",
   "execution_count": 17,
   "id": "c3f26156-f018-4666-8b01-5a366037237f",
   "metadata": {},
   "outputs": [
    {
     "data": {
      "text/html": [
       "-Inf"
      ],
      "text/latex": [
       "-Inf"
      ],
      "text/markdown": [
       "-Inf"
      ],
      "text/plain": [
       "[1] -Inf"
      ]
     },
     "metadata": {},
     "output_type": "display_data"
    }
   ],
   "source": [
    "- Inf"
   ]
  },
  {
   "cell_type": "code",
   "execution_count": 15,
   "id": "8fdf8d05-d6a9-4913-80a5-f28d82a49284",
   "metadata": {},
   "outputs": [
    {
     "data": {
      "text/html": [
       "NaN"
      ],
      "text/latex": [
       "NaN"
      ],
      "text/markdown": [
       "NaN"
      ],
      "text/plain": [
       "[1] NaN"
      ]
     },
     "metadata": {},
     "output_type": "display_data"
    }
   ],
   "source": [
    "NaN #Not a Number"
   ]
  },
  {
   "cell_type": "code",
   "execution_count": 19,
   "id": "a281d8bc-0e01-4399-948b-7a5f24b562f2",
   "metadata": {},
   "outputs": [
    {
     "data": {
      "text/html": [
       "&lt;NA&gt;"
      ],
      "text/latex": [
       "<NA>"
      ],
      "text/markdown": [
       "&lt;NA&gt;"
      ],
      "text/plain": [
       "[1] NA"
      ]
     },
     "metadata": {},
     "output_type": "display_data"
    }
   ],
   "source": [
    "NA #Not Available"
   ]
  },
  {
   "cell_type": "code",
   "execution_count": 21,
   "id": "4337712b-d534-4d8c-99cb-e4cb80c83c6c",
   "metadata": {},
   "outputs": [
    {
     "data": {
      "text/html": [
       "34"
      ],
      "text/latex": [
       "34"
      ],
      "text/markdown": [
       "34"
      ],
      "text/plain": [
       "[1] 34"
      ]
     },
     "metadata": {},
     "output_type": "display_data"
    }
   ],
   "source": [
    "intVar <- 34 # <- is recommended assignment operator, = is used for specifying arguments while invoking functions\n",
    "intVar"
   ]
  },
  {
   "cell_type": "code",
   "execution_count": 25,
   "id": "3e1b0271-f97b-45a1-b4cd-80014144a426",
   "metadata": {},
   "outputs": [
    {
     "data": {
      "text/html": [
       "-35"
      ],
      "text/latex": [
       "-35"
      ],
      "text/markdown": [
       "-35"
      ],
      "text/plain": [
       "[1] -35"
      ]
     },
     "metadata": {},
     "output_type": "display_data"
    }
   ],
   "source": [
    "int_var <- -35\n",
    "int_var"
   ]
  },
  {
   "cell_type": "code",
   "execution_count": 27,
   "id": "c581f44c-fe53-4342-a753-69cc3ad19003",
   "metadata": {},
   "outputs": [
    {
     "data": {
      "text/html": [
       "-100.5"
      ],
      "text/latex": [
       "-100.5"
      ],
      "text/markdown": [
       "-100.5"
      ],
      "text/plain": [
       "[1] -100.5"
      ]
     },
     "metadata": {},
     "output_type": "display_data"
    }
   ],
   "source": [
    ".float_var <- -100.5\n",
    ".float_var"
   ]
  },
  {
   "cell_type": "code",
   "execution_count": 33,
   "id": "3ea02a11-dfbd-429b-a4b7-d789fd1823a5",
   "metadata": {},
   "outputs": [
    {
     "data": {
      "text/html": [
       "Inf"
      ],
      "text/latex": [
       "Inf"
      ],
      "text/markdown": [
       "Inf"
      ],
      "text/plain": [
       "[1] Inf"
      ]
     },
     "metadata": {},
     "output_type": "display_data"
    }
   ],
   "source": [
    "int.var <- Inf\n",
    "int.var"
   ]
  },
  {
   "cell_type": "code",
   "execution_count": 37,
   "id": "16fdc6b9-163b-48d6-b992-25b82ef92fab",
   "metadata": {},
   "outputs": [
    {
     "data": {
      "text/html": [
       "41500"
      ],
      "text/latex": [
       "41500"
      ],
      "text/markdown": [
       "41500"
      ],
      "text/plain": [
       "[1] 41500"
      ]
     },
     "metadata": {},
     "output_type": "display_data"
    }
   ],
   "source": [
    "salary <- 50000\n",
    "expenses <- 8500\n",
    "savings <- salary - expenses\n",
    "savings"
   ]
  },
  {
   "cell_type": "code",
   "execution_count": 39,
   "id": "7720c446-661c-48ca-94c1-4c9cb5a78e85",
   "metadata": {},
   "outputs": [
    {
     "data": {
      "text/html": [
       "81"
      ],
      "text/latex": [
       "81"
      ],
      "text/markdown": [
       "81"
      ],
      "text/plain": [
       "[1] 81"
      ]
     },
     "metadata": {},
     "output_type": "display_data"
    }
   ],
   "source": [
    "math.score <- 76\n",
    "math.score <- math.score + 5\n",
    "math.score"
   ]
  },
  {
   "cell_type": "code",
   "execution_count": 43,
   "id": "61ccde76-e2f8-4980-9de3-0d8980c3efd2",
   "metadata": {},
   "outputs": [
    {
     "data": {
      "text/html": [
       "'Pranoy'"
      ],
      "text/latex": [
       "'Pranoy'"
      ],
      "text/markdown": [
       "'Pranoy'"
      ],
      "text/plain": [
       "[1] \"Pranoy\""
      ]
     },
     "metadata": {},
     "output_type": "display_data"
    }
   ],
   "source": [
    "student.name <- \"Pranoy\"\n",
    "student.id <- 123456\n",
    "student.major <- 'Data Science'\n",
    "student.name"
   ]
  },
  {
   "cell_type": "code",
   "execution_count": 47,
   "id": "fc3db0fa-8025-4306-8725-740b9474d5e6",
   "metadata": {},
   "outputs": [
    {
     "data": {
      "text/html": [
       "'double'"
      ],
      "text/latex": [
       "'double'"
      ],
      "text/markdown": [
       "'double'"
      ],
      "text/plain": [
       "[1] \"double\""
      ]
     },
     "metadata": {},
     "output_type": "display_data"
    }
   ],
   "source": [
    "typeof(6)"
   ]
  },
  {
   "cell_type": "code",
   "execution_count": 49,
   "id": "3b287555-ce29-43a2-99fe-4f318d897d40",
   "metadata": {},
   "outputs": [
    {
     "data": {
      "text/html": [
       "'integer'"
      ],
      "text/latex": [
       "'integer'"
      ],
      "text/markdown": [
       "'integer'"
      ],
      "text/plain": [
       "[1] \"integer\""
      ]
     },
     "metadata": {},
     "output_type": "display_data"
    }
   ],
   "source": [
    "typeof(6L)"
   ]
  },
  {
   "cell_type": "code",
   "execution_count": 51,
   "id": "e9a0b1c3-b18e-4e21-b4f4-f26668ca50d1",
   "metadata": {},
   "outputs": [
    {
     "data": {
      "text/html": [
       "'complex'"
      ],
      "text/latex": [
       "'complex'"
      ],
      "text/markdown": [
       "'complex'"
      ],
      "text/plain": [
       "[1] \"complex\""
      ]
     },
     "metadata": {},
     "output_type": "display_data"
    }
   ],
   "source": [
    "typeof(6+3i)"
   ]
  },
  {
   "cell_type": "code",
   "execution_count": 55,
   "id": "36dcedd6-7120-4c8d-92e7-e327c96ab330",
   "metadata": {},
   "outputs": [
    {
     "data": {
      "text/html": [
       "'character'"
      ],
      "text/latex": [
       "'character'"
      ],
      "text/markdown": [
       "'character'"
      ],
      "text/plain": [
       "[1] \"character\""
      ]
     },
     "metadata": {},
     "output_type": "display_data"
    }
   ],
   "source": [
    "typeof('Hello World') #doesnit matter wheather we use '' or \"\""
   ]
  },
  {
   "cell_type": "code",
   "execution_count": 57,
   "id": "baa582eb-d663-4c78-81fa-964609823a8f",
   "metadata": {},
   "outputs": [
    {
     "data": {
      "text/html": [
       "'logical'"
      ],
      "text/latex": [
       "'logical'"
      ],
      "text/markdown": [
       "'logical'"
      ],
      "text/plain": [
       "[1] \"logical\""
      ]
     },
     "metadata": {},
     "output_type": "display_data"
    }
   ],
   "source": [
    "typeof(FALSE)"
   ]
  },
  {
   "cell_type": "code",
   "execution_count": 59,
   "id": "dee273f5-efb3-4bea-b4d7-92a6256e4bb6",
   "metadata": {},
   "outputs": [
    {
     "data": {
      "text/html": [
       "<ol class=list-inline>\n",
       "\t<li>'A'</li>\n",
       "\t<li>'B'</li>\n",
       "\t<li>'C'</li>\n",
       "\t<li>'D'</li>\n",
       "\t<li>'E'</li>\n",
       "\t<li>'F'</li>\n",
       "\t<li>'G'</li>\n",
       "\t<li>'H'</li>\n",
       "\t<li>'I'</li>\n",
       "\t<li>'J'</li>\n",
       "\t<li>'K'</li>\n",
       "\t<li>'L'</li>\n",
       "\t<li>'M'</li>\n",
       "\t<li>'N'</li>\n",
       "\t<li>'O'</li>\n",
       "\t<li>'P'</li>\n",
       "\t<li>'Q'</li>\n",
       "\t<li>'R'</li>\n",
       "\t<li>'S'</li>\n",
       "\t<li>'T'</li>\n",
       "\t<li>'U'</li>\n",
       "\t<li>'V'</li>\n",
       "\t<li>'W'</li>\n",
       "\t<li>'X'</li>\n",
       "\t<li>'Y'</li>\n",
       "\t<li>'Z'</li>\n",
       "</ol>\n"
      ],
      "text/latex": [
       "\\begin{enumerate*}\n",
       "\\item 'A'\n",
       "\\item 'B'\n",
       "\\item 'C'\n",
       "\\item 'D'\n",
       "\\item 'E'\n",
       "\\item 'F'\n",
       "\\item 'G'\n",
       "\\item 'H'\n",
       "\\item 'I'\n",
       "\\item 'J'\n",
       "\\item 'K'\n",
       "\\item 'L'\n",
       "\\item 'M'\n",
       "\\item 'N'\n",
       "\\item 'O'\n",
       "\\item 'P'\n",
       "\\item 'Q'\n",
       "\\item 'R'\n",
       "\\item 'S'\n",
       "\\item 'T'\n",
       "\\item 'U'\n",
       "\\item 'V'\n",
       "\\item 'W'\n",
       "\\item 'X'\n",
       "\\item 'Y'\n",
       "\\item 'Z'\n",
       "\\end{enumerate*}\n"
      ],
      "text/markdown": [
       "1. 'A'\n",
       "2. 'B'\n",
       "3. 'C'\n",
       "4. 'D'\n",
       "5. 'E'\n",
       "6. 'F'\n",
       "7. 'G'\n",
       "8. 'H'\n",
       "9. 'I'\n",
       "10. 'J'\n",
       "11. 'K'\n",
       "12. 'L'\n",
       "13. 'M'\n",
       "14. 'N'\n",
       "15. 'O'\n",
       "16. 'P'\n",
       "17. 'Q'\n",
       "18. 'R'\n",
       "19. 'S'\n",
       "20. 'T'\n",
       "21. 'U'\n",
       "22. 'V'\n",
       "23. 'W'\n",
       "24. 'X'\n",
       "25. 'Y'\n",
       "26. 'Z'\n",
       "\n",
       "\n"
      ],
      "text/plain": [
       " [1] \"A\" \"B\" \"C\" \"D\" \"E\" \"F\" \"G\" \"H\" \"I\" \"J\" \"K\" \"L\" \"M\" \"N\" \"O\" \"P\" \"Q\" \"R\" \"S\"\n",
       "[20] \"T\" \"U\" \"V\" \"W\" \"X\" \"Y\" \"Z\""
      ]
     },
     "metadata": {},
     "output_type": "display_data"
    }
   ],
   "source": [
    "LETTERS"
   ]
  },
  {
   "cell_type": "code",
   "execution_count": 61,
   "id": "5eae9fb8-b9d6-4fbe-9017-5b94cdca2922",
   "metadata": {},
   "outputs": [
    {
     "data": {
      "text/html": [
       "'character'"
      ],
      "text/latex": [
       "'character'"
      ],
      "text/markdown": [
       "'character'"
      ],
      "text/plain": [
       "[1] \"character\""
      ]
     },
     "metadata": {},
     "output_type": "display_data"
    }
   ],
   "source": [
    "typeof(LETTERS)"
   ]
  },
  {
   "cell_type": "code",
   "execution_count": 63,
   "id": "6bbb9af0-d989-4f3e-9856-a5172b558972",
   "metadata": {},
   "outputs": [
    {
     "data": {
      "text/html": [
       "<ol class=list-inline>\n",
       "\t<li>'a'</li>\n",
       "\t<li>'b'</li>\n",
       "\t<li>'c'</li>\n",
       "\t<li>'d'</li>\n",
       "\t<li>'e'</li>\n",
       "\t<li>'f'</li>\n",
       "\t<li>'g'</li>\n",
       "\t<li>'h'</li>\n",
       "\t<li>'i'</li>\n",
       "\t<li>'j'</li>\n",
       "\t<li>'k'</li>\n",
       "\t<li>'l'</li>\n",
       "\t<li>'m'</li>\n",
       "\t<li>'n'</li>\n",
       "\t<li>'o'</li>\n",
       "\t<li>'p'</li>\n",
       "\t<li>'q'</li>\n",
       "\t<li>'r'</li>\n",
       "\t<li>'s'</li>\n",
       "\t<li>'t'</li>\n",
       "\t<li>'u'</li>\n",
       "\t<li>'v'</li>\n",
       "\t<li>'w'</li>\n",
       "\t<li>'x'</li>\n",
       "\t<li>'y'</li>\n",
       "\t<li>'z'</li>\n",
       "</ol>\n"
      ],
      "text/latex": [
       "\\begin{enumerate*}\n",
       "\\item 'a'\n",
       "\\item 'b'\n",
       "\\item 'c'\n",
       "\\item 'd'\n",
       "\\item 'e'\n",
       "\\item 'f'\n",
       "\\item 'g'\n",
       "\\item 'h'\n",
       "\\item 'i'\n",
       "\\item 'j'\n",
       "\\item 'k'\n",
       "\\item 'l'\n",
       "\\item 'm'\n",
       "\\item 'n'\n",
       "\\item 'o'\n",
       "\\item 'p'\n",
       "\\item 'q'\n",
       "\\item 'r'\n",
       "\\item 's'\n",
       "\\item 't'\n",
       "\\item 'u'\n",
       "\\item 'v'\n",
       "\\item 'w'\n",
       "\\item 'x'\n",
       "\\item 'y'\n",
       "\\item 'z'\n",
       "\\end{enumerate*}\n"
      ],
      "text/markdown": [
       "1. 'a'\n",
       "2. 'b'\n",
       "3. 'c'\n",
       "4. 'd'\n",
       "5. 'e'\n",
       "6. 'f'\n",
       "7. 'g'\n",
       "8. 'h'\n",
       "9. 'i'\n",
       "10. 'j'\n",
       "11. 'k'\n",
       "12. 'l'\n",
       "13. 'm'\n",
       "14. 'n'\n",
       "15. 'o'\n",
       "16. 'p'\n",
       "17. 'q'\n",
       "18. 'r'\n",
       "19. 's'\n",
       "20. 't'\n",
       "21. 'u'\n",
       "22. 'v'\n",
       "23. 'w'\n",
       "24. 'x'\n",
       "25. 'y'\n",
       "26. 'z'\n",
       "\n",
       "\n"
      ],
      "text/plain": [
       " [1] \"a\" \"b\" \"c\" \"d\" \"e\" \"f\" \"g\" \"h\" \"i\" \"j\" \"k\" \"l\" \"m\" \"n\" \"o\" \"p\" \"q\" \"r\" \"s\"\n",
       "[20] \"t\" \"u\" \"v\" \"w\" \"x\" \"y\" \"z\""
      ]
     },
     "metadata": {},
     "output_type": "display_data"
    }
   ],
   "source": [
    "letters"
   ]
  },
  {
   "cell_type": "code",
   "execution_count": 65,
   "id": "671ddd86-f2ad-48d4-b82f-f92d271087d0",
   "metadata": {},
   "outputs": [
    {
     "data": {
      "text/html": [
       "3.14159265358979"
      ],
      "text/latex": [
       "3.14159265358979"
      ],
      "text/markdown": [
       "3.14159265358979"
      ],
      "text/plain": [
       "[1] 3.141593"
      ]
     },
     "metadata": {},
     "output_type": "display_data"
    }
   ],
   "source": [
    "pi"
   ]
  },
  {
   "cell_type": "code",
   "execution_count": 67,
   "id": "cf9c960e-ecf9-469a-9916-42aa854e4790",
   "metadata": {},
   "outputs": [
    {
     "data": {
      "text/html": [
       "'double'"
      ],
      "text/latex": [
       "'double'"
      ],
      "text/markdown": [
       "'double'"
      ],
      "text/plain": [
       "[1] \"double\""
      ]
     },
     "metadata": {},
     "output_type": "display_data"
    }
   ],
   "source": [
    "typeof(pi)"
   ]
  },
  {
   "cell_type": "code",
   "execution_count": 69,
   "id": "b7173980-3372-4113-b9e9-7db3b6e69629",
   "metadata": {},
   "outputs": [
    {
     "data": {
      "text/html": [
       "<ol class=list-inline>\n",
       "\t<li>'January'</li>\n",
       "\t<li>'February'</li>\n",
       "\t<li>'March'</li>\n",
       "\t<li>'April'</li>\n",
       "\t<li>'May'</li>\n",
       "\t<li>'June'</li>\n",
       "\t<li>'July'</li>\n",
       "\t<li>'August'</li>\n",
       "\t<li>'September'</li>\n",
       "\t<li>'October'</li>\n",
       "\t<li>'November'</li>\n",
       "\t<li>'December'</li>\n",
       "</ol>\n"
      ],
      "text/latex": [
       "\\begin{enumerate*}\n",
       "\\item 'January'\n",
       "\\item 'February'\n",
       "\\item 'March'\n",
       "\\item 'April'\n",
       "\\item 'May'\n",
       "\\item 'June'\n",
       "\\item 'July'\n",
       "\\item 'August'\n",
       "\\item 'September'\n",
       "\\item 'October'\n",
       "\\item 'November'\n",
       "\\item 'December'\n",
       "\\end{enumerate*}\n"
      ],
      "text/markdown": [
       "1. 'January'\n",
       "2. 'February'\n",
       "3. 'March'\n",
       "4. 'April'\n",
       "5. 'May'\n",
       "6. 'June'\n",
       "7. 'July'\n",
       "8. 'August'\n",
       "9. 'September'\n",
       "10. 'October'\n",
       "11. 'November'\n",
       "12. 'December'\n",
       "\n",
       "\n"
      ],
      "text/plain": [
       " [1] \"January\"   \"February\"  \"March\"     \"April\"     \"May\"       \"June\"     \n",
       " [7] \"July\"      \"August\"    \"September\" \"October\"   \"November\"  \"December\" "
      ]
     },
     "metadata": {},
     "output_type": "display_data"
    }
   ],
   "source": [
    "month.name"
   ]
  },
  {
   "cell_type": "code",
   "execution_count": 73,
   "id": "97ee9231-adb4-4c58-bff7-1c31d57c3ca3",
   "metadata": {},
   "outputs": [
    {
     "data": {
      "text/html": [
       "<ol class=list-inline>\n",
       "\t<li>'Jan'</li>\n",
       "\t<li>'Feb'</li>\n",
       "\t<li>'Mar'</li>\n",
       "\t<li>'Apr'</li>\n",
       "\t<li>'May'</li>\n",
       "\t<li>'Jun'</li>\n",
       "\t<li>'Jul'</li>\n",
       "\t<li>'Aug'</li>\n",
       "\t<li>'Sep'</li>\n",
       "\t<li>'Oct'</li>\n",
       "\t<li>'Nov'</li>\n",
       "\t<li>'Dec'</li>\n",
       "</ol>\n"
      ],
      "text/latex": [
       "\\begin{enumerate*}\n",
       "\\item 'Jan'\n",
       "\\item 'Feb'\n",
       "\\item 'Mar'\n",
       "\\item 'Apr'\n",
       "\\item 'May'\n",
       "\\item 'Jun'\n",
       "\\item 'Jul'\n",
       "\\item 'Aug'\n",
       "\\item 'Sep'\n",
       "\\item 'Oct'\n",
       "\\item 'Nov'\n",
       "\\item 'Dec'\n",
       "\\end{enumerate*}\n"
      ],
      "text/markdown": [
       "1. 'Jan'\n",
       "2. 'Feb'\n",
       "3. 'Mar'\n",
       "4. 'Apr'\n",
       "5. 'May'\n",
       "6. 'Jun'\n",
       "7. 'Jul'\n",
       "8. 'Aug'\n",
       "9. 'Sep'\n",
       "10. 'Oct'\n",
       "11. 'Nov'\n",
       "12. 'Dec'\n",
       "\n",
       "\n"
      ],
      "text/plain": [
       " [1] \"Jan\" \"Feb\" \"Mar\" \"Apr\" \"May\" \"Jun\" \"Jul\" \"Aug\" \"Sep\" \"Oct\" \"Nov\" \"Dec\""
      ]
     },
     "metadata": {},
     "output_type": "display_data"
    }
   ],
   "source": [
    "month.abb"
   ]
  },
  {
   "cell_type": "code",
   "execution_count": 75,
   "id": "72086fa0-decb-41cd-9408-fabcca7a9669",
   "metadata": {},
   "outputs": [
    {
     "data": {
      "text/html": [
       "'character'"
      ],
      "text/latex": [
       "'character'"
      ],
      "text/markdown": [
       "'character'"
      ],
      "text/plain": [
       "[1] \"character\""
      ]
     },
     "metadata": {},
     "output_type": "display_data"
    }
   ],
   "source": [
    "typeof(month.name)"
   ]
  },
  {
   "cell_type": "code",
   "execution_count": null,
   "id": "a1ecaa7a-e06d-4bd8-8157-d4e3d6986019",
   "metadata": {},
   "outputs": [],
   "source": []
  }
 ],
 "metadata": {
  "kernelspec": {
   "display_name": "R",
   "language": "R",
   "name": "ir"
  },
  "language_info": {
   "codemirror_mode": "r",
   "file_extension": ".r",
   "mimetype": "text/x-r-source",
   "name": "R",
   "pygments_lexer": "r",
   "version": "3.6.1"
  }
 },
 "nbformat": 4,
 "nbformat_minor": 5
}
