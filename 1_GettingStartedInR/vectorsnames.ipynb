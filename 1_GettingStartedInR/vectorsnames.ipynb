{
 "cells": [
  {
   "cell_type": "code",
   "execution_count": 1,
   "id": "5a1a84e2-e8c7-4bb5-86bf-81f5490cc827",
   "metadata": {},
   "outputs": [
    {
     "data": {
      "text/html": [
       "<ol class=list-inline>\n",
       "\t<li>10</li>\n",
       "\t<li>3</li>\n",
       "\t<li>5</li>\n",
       "\t<li>6</li>\n",
       "</ol>\n"
      ],
      "text/latex": [
       "\\begin{enumerate*}\n",
       "\\item 10\n",
       "\\item 3\n",
       "\\item 5\n",
       "\\item 6\n",
       "\\end{enumerate*}\n"
      ],
      "text/markdown": [
       "1. 10\n",
       "2. 3\n",
       "3. 5\n",
       "4. 6\n",
       "\n",
       "\n"
      ],
      "text/plain": [
       "[1] 10  3  5  6"
      ]
     },
     "metadata": {},
     "output_type": "display_data"
    }
   ],
   "source": [
    "fruit.quantities <- c(10, 3, 5, 6)\n",
    "fruit.quantities"
   ]
  },
  {
   "cell_type": "code",
   "execution_count": 5,
   "id": "b1a580a9-ed22-4889-baf1-6c6720e28fa4",
   "metadata": {},
   "outputs": [
    {
     "data": {
      "text/html": [
       "<dl class=dl-horizontal>\n",
       "\t<dt>bananas</dt>\n",
       "\t\t<dd>10</dd>\n",
       "\t<dt>apples</dt>\n",
       "\t\t<dd>5</dd>\n",
       "\t<dt>oranges</dt>\n",
       "\t\t<dd>7</dd>\n",
       "</dl>\n"
      ],
      "text/latex": [
       "\\begin{description*}\n",
       "\\item[bananas] 10\n",
       "\\item[apples] 5\n",
       "\\item[oranges] 7\n",
       "\\end{description*}\n"
      ],
      "text/markdown": [
       "bananas\n",
       ":   10apples\n",
       ":   5oranges\n",
       ":   7\n",
       "\n"
      ],
      "text/plain": [
       "bananas  apples oranges \n",
       "     10       5       7 "
      ]
     },
     "metadata": {},
     "output_type": "display_data"
    }
   ],
   "source": [
    "fruit.quantities <- c(bananas = 10, apples = 5, \"oranges\" = 7)\n",
    "fruit.quantities"
   ]
  },
  {
   "cell_type": "code",
   "execution_count": 9,
   "id": "f384fa96-2404-425b-a01c-46b88ff2af75",
   "metadata": {},
   "outputs": [
    {
     "data": {
      "text/html": [
       "<dl class=dl-horizontal>\n",
       "\t<dt>bananas</dt>\n",
       "\t\t<dd>10</dd>\n",
       "\t<dt>apples</dt>\n",
       "\t\t<dd>5</dd>\n",
       "\t<dt>oranges</dt>\n",
       "\t\t<dd>7</dd>\n",
       "\t<dt>kiwi</dt>\n",
       "\t\t<dd>6</dd>\n",
       "</dl>\n"
      ],
      "text/latex": [
       "\\begin{description*}\n",
       "\\item[bananas] 10\n",
       "\\item[apples] 5\n",
       "\\item[oranges] 7\n",
       "\\item[kiwi] 6\n",
       "\\end{description*}\n"
      ],
      "text/markdown": [
       "bananas\n",
       ":   10apples\n",
       ":   5oranges\n",
       ":   7kiwi\n",
       ":   6\n",
       "\n"
      ],
      "text/plain": [
       "bananas  apples oranges    kiwi \n",
       "     10       5       7       6 "
      ]
     },
     "metadata": {},
     "output_type": "display_data"
    }
   ],
   "source": [
    "fruit.quantities <- c(bananas = 10, apples = 5, \"oranges\" = 7, kiwi = 6)\n",
    "fruit.quantities"
   ]
  },
  {
   "cell_type": "code",
   "execution_count": 11,
   "id": "d9b31384-7037-4a43-8267-6ee852377887",
   "metadata": {},
   "outputs": [
    {
     "data": {
      "text/html": [
       "<ol class=list-inline>\n",
       "\t<li>'bananas'</li>\n",
       "\t<li>'apples'</li>\n",
       "\t<li>'oranges'</li>\n",
       "\t<li>'kiwi'</li>\n",
       "</ol>\n"
      ],
      "text/latex": [
       "\\begin{enumerate*}\n",
       "\\item 'bananas'\n",
       "\\item 'apples'\n",
       "\\item 'oranges'\n",
       "\\item 'kiwi'\n",
       "\\end{enumerate*}\n"
      ],
      "text/markdown": [
       "1. 'bananas'\n",
       "2. 'apples'\n",
       "3. 'oranges'\n",
       "4. 'kiwi'\n",
       "\n",
       "\n"
      ],
      "text/plain": [
       "[1] \"bananas\" \"apples\"  \"oranges\" \"kiwi\"   "
      ]
     },
     "metadata": {},
     "output_type": "display_data"
    }
   ],
   "source": [
    "names(fruit.quantities)"
   ]
  },
  {
   "cell_type": "code",
   "execution_count": 13,
   "id": "940b6740-7781-4c62-8164-266a7122942f",
   "metadata": {},
   "outputs": [
    {
     "data": {
      "text/html": [
       "<strong>bananas:</strong> 10"
      ],
      "text/latex": [
       "\\textbf{bananas:} 10"
      ],
      "text/markdown": [
       "**bananas:** 10"
      ],
      "text/plain": [
       "bananas \n",
       "     10 "
      ]
     },
     "metadata": {},
     "output_type": "display_data"
    }
   ],
   "source": [
    "fruit.quantities[1]"
   ]
  },
  {
   "cell_type": "code",
   "execution_count": 15,
   "id": "35ba3a33-f308-48e8-9213-c5a61a37a468",
   "metadata": {},
   "outputs": [
    {
     "data": {
      "text/html": [
       "<dl class=dl-horizontal>\n",
       "\t<dt>bananas</dt>\n",
       "\t\t<dd>10</dd>\n",
       "\t<dt>apples</dt>\n",
       "\t\t<dd>5</dd>\n",
       "\t<dt>oranges</dt>\n",
       "\t\t<dd>7</dd>\n",
       "</dl>\n"
      ],
      "text/latex": [
       "\\begin{description*}\n",
       "\\item[bananas] 10\n",
       "\\item[apples] 5\n",
       "\\item[oranges] 7\n",
       "\\end{description*}\n"
      ],
      "text/markdown": [
       "bananas\n",
       ":   10apples\n",
       ":   5oranges\n",
       ":   7\n",
       "\n"
      ],
      "text/plain": [
       "bananas  apples oranges \n",
       "     10       5       7 "
      ]
     },
     "metadata": {},
     "output_type": "display_data"
    }
   ],
   "source": [
    "fruit.quantities[1:3]"
   ]
  },
  {
   "cell_type": "code",
   "execution_count": 19,
   "id": "8c318a55-ce13-4f8c-ac36-aec625e96fe7",
   "metadata": {},
   "outputs": [
    {
     "data": {
      "text/html": [
       "<strong>kiwi:</strong> 6"
      ],
      "text/latex": [
       "\\textbf{kiwi:} 6"
      ],
      "text/markdown": [
       "**kiwi:** 6"
      ],
      "text/plain": [
       "kiwi \n",
       "   6 "
      ]
     },
     "metadata": {},
     "output_type": "display_data"
    }
   ],
   "source": [
    "fruit.quantities['kiwi']"
   ]
  },
  {
   "cell_type": "code",
   "execution_count": 21,
   "id": "3cebd482-48ee-4af3-b4bd-714afb65a7d8",
   "metadata": {},
   "outputs": [
    {
     "data": {
      "text/html": [
       "<strong>NA:</strong> &lt;NA&gt;"
      ],
      "text/latex": [
       "\\textbf{NA:} <NA>"
      ],
      "text/markdown": [
       "**NA:** &lt;NA&gt;"
      ],
      "text/plain": [
       "<NA> \n",
       "  NA "
      ]
     },
     "metadata": {},
     "output_type": "display_data"
    }
   ],
   "source": [
    "fruit.quantities['']"
   ]
  },
  {
   "cell_type": "code",
   "execution_count": 31,
   "id": "f0ef85c7-85d3-4167-8bf9-da3c6830cc69",
   "metadata": {},
   "outputs": [
    {
     "data": {
      "text/html": [
       "<ol class=list-inline>\n",
       "\t<li>30000</li>\n",
       "\t<li>60000</li>\n",
       "\t<li>80000</li>\n",
       "\t<li>85000</li>\n",
       "\t<li>105000</li>\n",
       "</ol>\n"
      ],
      "text/latex": [
       "\\begin{enumerate*}\n",
       "\\item 30000\n",
       "\\item 60000\n",
       "\\item 80000\n",
       "\\item 85000\n",
       "\\item 105000\n",
       "\\end{enumerate*}\n"
      ],
      "text/markdown": [
       "1. 30000\n",
       "2. 60000\n",
       "3. 80000\n",
       "4. 85000\n",
       "5. 105000\n",
       "\n",
       "\n"
      ],
      "text/plain": [
       "[1]  30000  60000  80000  85000 105000"
      ]
     },
     "metadata": {},
     "output_type": "display_data"
    }
   ],
   "source": [
    "car.prices <- c(30000, 60000, 80000, 85000, 105000)\n",
    "car.prices\n",
    "                "
   ]
  },
  {
   "cell_type": "code",
   "execution_count": 37,
   "id": "57a4a7d2-f252-4c1f-b3bf-78be6c5e8075",
   "metadata": {},
   "outputs": [
    {
     "data": {
      "text/html": [
       "<ol class=list-inline>\n",
       "\t<li>'Honda'</li>\n",
       "\t<li>'Audi'</li>\n",
       "\t<li>'BMW'</li>\n",
       "\t<li>'Tesla'</li>\n",
       "\t<li>'Porsche'</li>\n",
       "</ol>\n"
      ],
      "text/latex": [
       "\\begin{enumerate*}\n",
       "\\item 'Honda'\n",
       "\\item 'Audi'\n",
       "\\item 'BMW'\n",
       "\\item 'Tesla'\n",
       "\\item 'Porsche'\n",
       "\\end{enumerate*}\n"
      ],
      "text/markdown": [
       "1. 'Honda'\n",
       "2. 'Audi'\n",
       "3. 'BMW'\n",
       "4. 'Tesla'\n",
       "5. 'Porsche'\n",
       "\n",
       "\n"
      ],
      "text/plain": [
       "[1] \"Honda\"   \"Audi\"    \"BMW\"     \"Tesla\"   \"Porsche\""
      ]
     },
     "metadata": {},
     "output_type": "display_data"
    }
   ],
   "source": [
    "car.names <- c('Honda', 'Audi', 'BMW', 'Tesla', 'Porsche')\n",
    "car.names"
   ]
  },
  {
   "cell_type": "code",
   "execution_count": 39,
   "id": "2b052819-cd38-426f-9de7-309944338e24",
   "metadata": {},
   "outputs": [
    {
     "data": {
      "text/html": [
       "<dl class=dl-horizontal>\n",
       "\t<dt>Honda</dt>\n",
       "\t\t<dd>30000</dd>\n",
       "\t<dt>Audi</dt>\n",
       "\t\t<dd>60000</dd>\n",
       "\t<dt>BMW</dt>\n",
       "\t\t<dd>80000</dd>\n",
       "\t<dt>Tesla</dt>\n",
       "\t\t<dd>85000</dd>\n",
       "\t<dt>Porsche</dt>\n",
       "\t\t<dd>105000</dd>\n",
       "</dl>\n"
      ],
      "text/latex": [
       "\\begin{description*}\n",
       "\\item[Honda] 30000\n",
       "\\item[Audi] 60000\n",
       "\\item[BMW] 80000\n",
       "\\item[Tesla] 85000\n",
       "\\item[Porsche] 105000\n",
       "\\end{description*}\n"
      ],
      "text/markdown": [
       "Honda\n",
       ":   30000Audi\n",
       ":   60000BMW\n",
       ":   80000Tesla\n",
       ":   85000Porsche\n",
       ":   105000\n",
       "\n"
      ],
      "text/plain": [
       "  Honda    Audi     BMW   Tesla Porsche \n",
       "  30000   60000   80000   85000  105000 "
      ]
     },
     "metadata": {},
     "output_type": "display_data"
    }
   ],
   "source": [
    "names(car.prices) <- car.names\n",
    "car.prices"
   ]
  },
  {
   "cell_type": "code",
   "execution_count": 41,
   "id": "2ba06475-a023-4cd6-bfaf-ededd398f45d",
   "metadata": {},
   "outputs": [
    {
     "data": {
      "text/html": [
       "<ol class=list-inline>\n",
       "\t<li>'Honda'</li>\n",
       "\t<li>'Audi'</li>\n",
       "\t<li>'BMW'</li>\n",
       "\t<li>'Tesla'</li>\n",
       "\t<li>'Porsche'</li>\n",
       "</ol>\n"
      ],
      "text/latex": [
       "\\begin{enumerate*}\n",
       "\\item 'Honda'\n",
       "\\item 'Audi'\n",
       "\\item 'BMW'\n",
       "\\item 'Tesla'\n",
       "\\item 'Porsche'\n",
       "\\end{enumerate*}\n"
      ],
      "text/markdown": [
       "1. 'Honda'\n",
       "2. 'Audi'\n",
       "3. 'BMW'\n",
       "4. 'Tesla'\n",
       "5. 'Porsche'\n",
       "\n",
       "\n"
      ],
      "text/plain": [
       "[1] \"Honda\"   \"Audi\"    \"BMW\"     \"Tesla\"   \"Porsche\""
      ]
     },
     "metadata": {},
     "output_type": "display_data"
    }
   ],
   "source": [
    "names(car.prices)"
   ]
  },
  {
   "cell_type": "code",
   "execution_count": 75,
   "id": "f2de03c0-f92b-4046-a265-b139e1e8b36f",
   "metadata": {},
   "outputs": [],
   "source": [
    "vector.1 <- c(1,2,3,4,5,6)\n",
    "vector.2 <- c(10,20,30,40,50,60)"
   ]
  },
  {
   "cell_type": "code",
   "execution_count": 77,
   "id": "5887bace-3877-4720-a770-f2e04b59a2fc",
   "metadata": {},
   "outputs": [
    {
     "data": {
      "text/html": [
       "<ol class=list-inline>\n",
       "\t<li>11</li>\n",
       "\t<li>22</li>\n",
       "\t<li>33</li>\n",
       "\t<li>44</li>\n",
       "\t<li>55</li>\n",
       "\t<li>66</li>\n",
       "</ol>\n"
      ],
      "text/latex": [
       "\\begin{enumerate*}\n",
       "\\item 11\n",
       "\\item 22\n",
       "\\item 33\n",
       "\\item 44\n",
       "\\item 55\n",
       "\\item 66\n",
       "\\end{enumerate*}\n"
      ],
      "text/markdown": [
       "1. 11\n",
       "2. 22\n",
       "3. 33\n",
       "4. 44\n",
       "5. 55\n",
       "6. 66\n",
       "\n",
       "\n"
      ],
      "text/plain": [
       "[1] 11 22 33 44 55 66"
      ]
     },
     "metadata": {},
     "output_type": "display_data"
    }
   ],
   "source": [
    "vector.3 <- vector.1 + vector.2\n",
    "vector.3"
   ]
  },
  {
   "cell_type": "code",
   "execution_count": 79,
   "id": "322214c0-8a78-4d9d-8e65-87bd6249554a",
   "metadata": {},
   "outputs": [
    {
     "data": {
      "text/html": [
       "<ol class=list-inline>\n",
       "\t<li>2.6</li>\n",
       "\t<li>3.6</li>\n",
       "\t<li>4.6</li>\n",
       "\t<li>5.6</li>\n",
       "\t<li>6.6</li>\n",
       "\t<li>7.6</li>\n",
       "</ol>\n"
      ],
      "text/latex": [
       "\\begin{enumerate*}\n",
       "\\item 2.6\n",
       "\\item 3.6\n",
       "\\item 4.6\n",
       "\\item 5.6\n",
       "\\item 6.6\n",
       "\\item 7.6\n",
       "\\end{enumerate*}\n"
      ],
      "text/markdown": [
       "1. 2.6\n",
       "2. 3.6\n",
       "3. 4.6\n",
       "4. 5.6\n",
       "5. 6.6\n",
       "6. 7.6\n",
       "\n",
       "\n"
      ],
      "text/plain": [
       "[1] 2.6 3.6 4.6 5.6 6.6 7.6"
      ]
     },
     "metadata": {},
     "output_type": "display_data"
    }
   ],
   "source": [
    "vector.1 + 1.6"
   ]
  },
  {
   "cell_type": "code",
   "execution_count": 81,
   "id": "db477613-6d50-4f59-94cb-0146931f0bd0",
   "metadata": {},
   "outputs": [
    {
     "data": {
      "text/html": [
       "<ol class=list-inline>\n",
       "\t<li>11</li>\n",
       "\t<li>22</li>\n",
       "\t<li>31</li>\n",
       "\t<li>42</li>\n",
       "\t<li>51</li>\n",
       "\t<li>62</li>\n",
       "</ol>\n"
      ],
      "text/latex": [
       "\\begin{enumerate*}\n",
       "\\item 11\n",
       "\\item 22\n",
       "\\item 31\n",
       "\\item 42\n",
       "\\item 51\n",
       "\\item 62\n",
       "\\end{enumerate*}\n"
      ],
      "text/markdown": [
       "1. 11\n",
       "2. 22\n",
       "3. 31\n",
       "4. 42\n",
       "5. 51\n",
       "6. 62\n",
       "\n",
       "\n"
      ],
      "text/plain": [
       "[1] 11 22 31 42 51 62"
      ]
     },
     "metadata": {},
     "output_type": "display_data"
    }
   ],
   "source": [
    "vector.2 + 1:2"
   ]
  },
  {
   "cell_type": "code",
   "execution_count": 83,
   "id": "008a5b78-842b-4543-a59d-22eafa1fc5b6",
   "metadata": {},
   "outputs": [
    {
     "data": {
      "text/html": [
       "<ol class=list-inline>\n",
       "\t<li>11</li>\n",
       "\t<li>22</li>\n",
       "\t<li>33</li>\n",
       "\t<li>41</li>\n",
       "\t<li>52</li>\n",
       "\t<li>63</li>\n",
       "</ol>\n"
      ],
      "text/latex": [
       "\\begin{enumerate*}\n",
       "\\item 11\n",
       "\\item 22\n",
       "\\item 33\n",
       "\\item 41\n",
       "\\item 52\n",
       "\\item 63\n",
       "\\end{enumerate*}\n"
      ],
      "text/markdown": [
       "1. 11\n",
       "2. 22\n",
       "3. 33\n",
       "4. 41\n",
       "5. 52\n",
       "6. 63\n",
       "\n",
       "\n"
      ],
      "text/plain": [
       "[1] 11 22 33 41 52 63"
      ]
     },
     "metadata": {},
     "output_type": "display_data"
    }
   ],
   "source": [
    "vector.2 + 1:3"
   ]
  },
  {
   "cell_type": "code",
   "execution_count": 86,
   "id": "12f4dccf-e448-4f0b-958d-320bbbb3555b",
   "metadata": {},
   "outputs": [
    {
     "name": "stderr",
     "output_type": "stream",
     "text": [
      "Warning message in vector.2 + 1:4:\n",
      "\"longer object length is not a multiple of shorter object length\""
     ]
    },
    {
     "data": {
      "text/html": [
       "<ol class=list-inline>\n",
       "\t<li>11</li>\n",
       "\t<li>22</li>\n",
       "\t<li>33</li>\n",
       "\t<li>44</li>\n",
       "\t<li>51</li>\n",
       "\t<li>62</li>\n",
       "</ol>\n"
      ],
      "text/latex": [
       "\\begin{enumerate*}\n",
       "\\item 11\n",
       "\\item 22\n",
       "\\item 33\n",
       "\\item 44\n",
       "\\item 51\n",
       "\\item 62\n",
       "\\end{enumerate*}\n"
      ],
      "text/markdown": [
       "1. 11\n",
       "2. 22\n",
       "3. 33\n",
       "4. 44\n",
       "5. 51\n",
       "6. 62\n",
       "\n",
       "\n"
      ],
      "text/plain": [
       "[1] 11 22 33 44 51 62"
      ]
     },
     "metadata": {},
     "output_type": "display_data"
    }
   ],
   "source": [
    "vector.2 + 1:4"
   ]
  }
 ],
 "metadata": {
  "kernelspec": {
   "display_name": "R",
   "language": "R",
   "name": "ir"
  },
  "language_info": {
   "codemirror_mode": "r",
   "file_extension": ".r",
   "mimetype": "text/x-r-source",
   "name": "R",
   "pygments_lexer": "r",
   "version": "3.6.1"
  }
 },
 "nbformat": 4,
 "nbformat_minor": 5
}
