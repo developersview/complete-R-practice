{
 "cells": [
  {
   "cell_type": "markdown",
   "id": "0308313a-0f25-4f1a-8b0f-c62846db3b5a",
   "metadata": {},
   "source": [
    "## Builtin Functions"
   ]
  },
  {
   "cell_type": "code",
   "execution_count": 2,
   "id": "0931440a-1bab-4152-a489-7b3d1416682c",
   "metadata": {},
   "outputs": [
    {
     "name": "stdout",
     "output_type": "stream",
     "text": [
      "[1] \"Hello World\"\n"
     ]
    }
   ],
   "source": [
    "print(\"Hello World\")"
   ]
  },
  {
   "cell_type": "code",
   "execution_count": 4,
   "id": "eb586740-67fb-4b99-bc6c-4a94531978ff",
   "metadata": {},
   "outputs": [
    {
     "name": "stdout",
     "output_type": "stream",
     "text": [
      "[1] 59\n"
     ]
    }
   ],
   "source": [
    "print(3 + 56)"
   ]
  },
  {
   "cell_type": "code",
   "execution_count": 6,
   "id": "61f80f14-10d8-4c40-85b4-9163100a7905",
   "metadata": {},
   "outputs": [
    {
     "name": "stdout",
     "output_type": "stream",
     "text": [
      "[1] 24\n"
     ]
    }
   ],
   "source": [
    "return.val <- print(24)"
   ]
  },
  {
   "cell_type": "code",
   "execution_count": 8,
   "id": "7269dd34-f99a-46a1-ac2c-b04f6691d962",
   "metadata": {},
   "outputs": [
    {
     "data": {
      "text/html": [
       "24"
      ],
      "text/latex": [
       "24"
      ],
      "text/markdown": [
       "24"
      ],
      "text/plain": [
       "[1] 24"
      ]
     },
     "metadata": {},
     "output_type": "display_data"
    }
   ],
   "source": [
    "return.val"
   ]
  },
  {
   "cell_type": "code",
   "execution_count": 11,
   "id": "dc59b151-274d-42ee-8ca1-461669ee54a2",
   "metadata": {},
   "outputs": [
    {
     "data": {
      "text/html": [
       "10"
      ],
      "text/latex": [
       "10"
      ],
      "text/markdown": [
       "10"
      ],
      "text/plain": [
       "[1] 10"
      ]
     },
     "metadata": {},
     "output_type": "display_data"
    }
   ],
   "source": [
    "abs(-10)"
   ]
  },
  {
   "cell_type": "code",
   "execution_count": 13,
   "id": "331ed696-43e8-4db3-9ab3-8f18ba5ac8a3",
   "metadata": {},
   "outputs": [
    {
     "data": {
      "text/html": [
       "10"
      ],
      "text/latex": [
       "10"
      ],
      "text/markdown": [
       "10"
      ],
      "text/plain": [
       "[1] 10"
      ]
     },
     "metadata": {},
     "output_type": "display_data"
    }
   ],
   "source": [
    "abs.value <- abs(-10)\n",
    "abs.value"
   ]
  },
  {
   "cell_type": "code",
   "execution_count": 15,
   "id": "5f6b7f78-b63f-4cdc-a4c0-863a93d1c95b",
   "metadata": {},
   "outputs": [
    {
     "data": {
      "text/html": [
       "10"
      ],
      "text/latex": [
       "10"
      ],
      "text/markdown": [
       "10"
      ],
      "text/plain": [
       "[1] 10"
      ]
     },
     "metadata": {},
     "output_type": "display_data"
    }
   ],
   "source": [
    "sqrt(100)"
   ]
  },
  {
   "cell_type": "code",
   "execution_count": 17,
   "id": "beda3807-51ff-4bd7-90aa-7db72529a5d8",
   "metadata": {},
   "outputs": [
    {
     "data": {
      "text/html": [
       "31.6227766016838"
      ],
      "text/latex": [
       "31.6227766016838"
      ],
      "text/markdown": [
       "31.6227766016838"
      ],
      "text/plain": [
       "[1] 31.62278"
      ]
     },
     "metadata": {},
     "output_type": "display_data"
    }
   ],
   "source": [
    "sqrt(1000)"
   ]
  },
  {
   "cell_type": "code",
   "execution_count": 19,
   "id": "9acb9b9d-309b-4ce0-a7fc-44ab991144b1",
   "metadata": {},
   "outputs": [
    {
     "data": {
      "text/html": [
       "4"
      ],
      "text/latex": [
       "4"
      ],
      "text/markdown": [
       "4"
      ],
      "text/plain": [
       "[1] 4"
      ]
     },
     "metadata": {},
     "output_type": "display_data"
    }
   ],
   "source": [
    "ceiling(3.4)"
   ]
  },
  {
   "cell_type": "code",
   "execution_count": 23,
   "id": "c84f575c-a5a6-44e3-beb9-25b4f3bc1f5a",
   "metadata": {},
   "outputs": [
    {
     "data": {
      "text/html": [
       "3"
      ],
      "text/latex": [
       "3"
      ],
      "text/markdown": [
       "3"
      ],
      "text/plain": [
       "[1] 3"
      ]
     },
     "metadata": {},
     "output_type": "display_data"
    }
   ],
   "source": [
    "round(3.4)"
   ]
  },
  {
   "cell_type": "code",
   "execution_count": 25,
   "id": "7494c7f8-1b87-40f4-99e1-d166910d80ab",
   "metadata": {},
   "outputs": [
    {
     "data": {
      "text/html": [
       "4"
      ],
      "text/latex": [
       "4"
      ],
      "text/markdown": [
       "4"
      ],
      "text/plain": [
       "[1] 4"
      ]
     },
     "metadata": {},
     "output_type": "display_data"
    }
   ],
   "source": [
    "ceiling(3.6)"
   ]
  },
  {
   "cell_type": "code",
   "execution_count": 27,
   "id": "ee94b396-e79b-495f-bb15-18709fe4b9a3",
   "metadata": {},
   "outputs": [
    {
     "data": {
      "text/html": [
       "4"
      ],
      "text/latex": [
       "4"
      ],
      "text/markdown": [
       "4"
      ],
      "text/plain": [
       "[1] 4"
      ]
     },
     "metadata": {},
     "output_type": "display_data"
    }
   ],
   "source": [
    "round(3.6)"
   ]
  },
  {
   "cell_type": "code",
   "execution_count": 29,
   "id": "85121394-5c99-40b7-b227-3282bb134a97",
   "metadata": {},
   "outputs": [
    {
     "data": {
      "text/html": [
       "3"
      ],
      "text/latex": [
       "3"
      ],
      "text/markdown": [
       "3"
      ],
      "text/plain": [
       "[1] 3"
      ]
     },
     "metadata": {},
     "output_type": "display_data"
    }
   ],
   "source": [
    "floor(3.6)"
   ]
  },
  {
   "cell_type": "code",
   "execution_count": 31,
   "id": "10518352-9517-4685-9d50-110f3a8abcea",
   "metadata": {},
   "outputs": [
    {
     "data": {
      "text/html": [
       "3"
      ],
      "text/latex": [
       "3"
      ],
      "text/markdown": [
       "3"
      ],
      "text/plain": [
       "[1] 3"
      ]
     },
     "metadata": {},
     "output_type": "display_data"
    }
   ],
   "source": [
    "trunc(3.8)"
   ]
  },
  {
   "cell_type": "code",
   "execution_count": 33,
   "id": "4ffdea1a-7252-40ed-b0b9-df618f06e2ae",
   "metadata": {},
   "outputs": [
    {
     "data": {
      "text/html": [
       "'Hello World'"
      ],
      "text/latex": [
       "'Hello World'"
      ],
      "text/markdown": [
       "'Hello World'"
      ],
      "text/plain": [
       "[1] \"Hello World\""
      ]
     },
     "metadata": {},
     "output_type": "display_data"
    }
   ],
   "source": [
    "some.string <- \"Hello World\"\n",
    "some.string"
   ]
  },
  {
   "cell_type": "code",
   "execution_count": 35,
   "id": "feef8933-648a-4aa9-983c-318b06f8eb53",
   "metadata": {},
   "outputs": [
    {
     "data": {
      "text/html": [
       "'Hello'"
      ],
      "text/latex": [
       "'Hello'"
      ],
      "text/markdown": [
       "'Hello'"
      ],
      "text/plain": [
       "[1] \"Hello\""
      ]
     },
     "metadata": {},
     "output_type": "display_data"
    }
   ],
   "source": [
    "substr(some.string, 1, 5)"
   ]
  },
  {
   "cell_type": "code",
   "execution_count": 37,
   "id": "72b2e03c-2af4-4cc5-aa0d-dbf8995f96e8",
   "metadata": {},
   "outputs": [
    {
     "data": {
      "text/html": [
       "'HELLO WORLD'"
      ],
      "text/latex": [
       "'HELLO WORLD'"
      ],
      "text/markdown": [
       "'HELLO WORLD'"
      ],
      "text/plain": [
       "[1] \"HELLO WORLD\""
      ]
     },
     "metadata": {},
     "output_type": "display_data"
    }
   ],
   "source": [
    "upper.string <- toupper(some.string)\n",
    "upper.string"
   ]
  },
  {
   "cell_type": "code",
   "execution_count": 39,
   "id": "a25c7a8d-05e4-448f-a19e-812f7fb01995",
   "metadata": {},
   "outputs": [
    {
     "data": {
      "text/html": [
       "'hello world'"
      ],
      "text/latex": [
       "'hello world'"
      ],
      "text/markdown": [
       "'hello world'"
      ],
      "text/plain": [
       "[1] \"hello world\""
      ]
     },
     "metadata": {},
     "output_type": "display_data"
    }
   ],
   "source": [
    "lower.string <- tolower(some.string)\n",
    "lower.string"
   ]
  },
  {
   "cell_type": "code",
   "execution_count": 41,
   "id": "d10e54c3-1615-408c-a915-a1b8d0ccdd6e",
   "metadata": {},
   "outputs": [
    {
     "data": {
      "text/html": [
       "11"
      ],
      "text/latex": [
       "11"
      ],
      "text/markdown": [
       "11"
      ],
      "text/plain": [
       "[1] 11"
      ]
     },
     "metadata": {},
     "output_type": "display_data"
    }
   ],
   "source": [
    "string.len <- nchar(some.string)\n",
    "string.len"
   ]
  },
  {
   "cell_type": "code",
   "execution_count": 43,
   "id": "bde4a6b4-4277-4fcc-96eb-80576973ee19",
   "metadata": {},
   "outputs": [
    {
     "data": {
      "text/html": [
       "<ol class=list-inline>\n",
       "\t<li>1</li>\n",
       "\t<li>2</li>\n",
       "\t<li>3</li>\n",
       "\t<li>4</li>\n",
       "\t<li>5</li>\n",
       "\t<li>6</li>\n",
       "\t<li>7</li>\n",
       "</ol>\n"
      ],
      "text/latex": [
       "\\begin{enumerate*}\n",
       "\\item 1\n",
       "\\item 2\n",
       "\\item 3\n",
       "\\item 4\n",
       "\\item 5\n",
       "\\item 6\n",
       "\\item 7\n",
       "\\end{enumerate*}\n"
      ],
      "text/markdown": [
       "1. 1\n",
       "2. 2\n",
       "3. 3\n",
       "4. 4\n",
       "5. 5\n",
       "6. 6\n",
       "7. 7\n",
       "\n",
       "\n"
      ],
      "text/plain": [
       "[1] 1 2 3 4 5 6 7"
      ]
     },
     "metadata": {},
     "output_type": "display_data"
    }
   ],
   "source": [
    "vector.a <- c(1,2,3,4,5,6,7)\n",
    "vector.a"
   ]
  },
  {
   "cell_type": "code",
   "execution_count": 45,
   "id": "f00e5af6-4c30-40b9-8c1e-cc7a46252790",
   "metadata": {},
   "outputs": [
    {
     "data": {
      "text/html": [
       "7"
      ],
      "text/latex": [
       "7"
      ],
      "text/markdown": [
       "7"
      ],
      "text/plain": [
       "[1] 7"
      ]
     },
     "metadata": {},
     "output_type": "display_data"
    }
   ],
   "source": [
    "vector.len <- length(vector.a)\n",
    "vector.len"
   ]
  },
  {
   "cell_type": "code",
   "execution_count": 47,
   "id": "96b1dae8-6c1b-4a72-a19b-73e66efdf09e",
   "metadata": {},
   "outputs": [
    {
     "data": {
      "text/html": [
       "<ol class=list-inline>\n",
       "\t<li>1</li>\n",
       "\t<li>2</li>\n",
       "\t<li>3</li>\n",
       "\t<li>4</li>\n",
       "\t<li>5</li>\n",
       "\t<li>6</li>\n",
       "\t<li>7</li>\n",
       "\t<li>8</li>\n",
       "\t<li>9</li>\n",
       "\t<li>10</li>\n",
       "</ol>\n"
      ],
      "text/latex": [
       "\\begin{enumerate*}\n",
       "\\item 1\n",
       "\\item 2\n",
       "\\item 3\n",
       "\\item 4\n",
       "\\item 5\n",
       "\\item 6\n",
       "\\item 7\n",
       "\\item 8\n",
       "\\item 9\n",
       "\\item 10\n",
       "\\end{enumerate*}\n"
      ],
      "text/markdown": [
       "1. 1\n",
       "2. 2\n",
       "3. 3\n",
       "4. 4\n",
       "5. 5\n",
       "6. 6\n",
       "7. 7\n",
       "8. 8\n",
       "9. 9\n",
       "10. 10\n",
       "\n",
       "\n"
      ],
      "text/plain": [
       " [1]  1  2  3  4  5  6  7  8  9 10"
      ]
     },
     "metadata": {},
     "output_type": "display_data"
    }
   ],
   "source": [
    "vector.number1 <- seq(1,10)\n",
    "vector.number1"
   ]
  },
  {
   "cell_type": "code",
   "execution_count": 49,
   "id": "e97e4d82-3694-432b-afae-b4e20a739d42",
   "metadata": {},
   "outputs": [
    {
     "data": {
      "text/html": [
       "10"
      ],
      "text/latex": [
       "10"
      ],
      "text/markdown": [
       "10"
      ],
      "text/plain": [
       "[1] 10"
      ]
     },
     "metadata": {},
     "output_type": "display_data"
    }
   ],
   "source": [
    "length(vector.number1)"
   ]
  },
  {
   "cell_type": "code",
   "execution_count": 51,
   "id": "3a0d3c43-2e76-407f-a8a0-403fdfed2653",
   "metadata": {},
   "outputs": [
    {
     "data": {
      "text/html": [
       "<ol class=list-inline>\n",
       "\t<li>10</li>\n",
       "\t<li>11</li>\n",
       "\t<li>12</li>\n",
       "\t<li>13</li>\n",
       "\t<li>14</li>\n",
       "\t<li>15</li>\n",
       "</ol>\n"
      ],
      "text/latex": [
       "\\begin{enumerate*}\n",
       "\\item 10\n",
       "\\item 11\n",
       "\\item 12\n",
       "\\item 13\n",
       "\\item 14\n",
       "\\item 15\n",
       "\\end{enumerate*}\n"
      ],
      "text/markdown": [
       "1. 10\n",
       "2. 11\n",
       "3. 12\n",
       "4. 13\n",
       "5. 14\n",
       "6. 15\n",
       "\n",
       "\n"
      ],
      "text/plain": [
       "[1] 10 11 12 13 14 15"
      ]
     },
     "metadata": {},
     "output_type": "display_data"
    }
   ],
   "source": [
    "vector.num2 <- 10:15\n",
    "vector.num2"
   ]
  },
  {
   "cell_type": "code",
   "execution_count": 55,
   "id": "a21da9c7-1111-4066-9cbb-630fbc73aeff",
   "metadata": {},
   "outputs": [
    {
     "data": {
      "text/html": [
       "<ol class=list-inline>\n",
       "\t<li>3</li>\n",
       "\t<li>3.5</li>\n",
       "\t<li>4</li>\n",
       "\t<li>4.5</li>\n",
       "\t<li>5</li>\n",
       "\t<li>5.5</li>\n",
       "\t<li>6</li>\n",
       "\t<li>6.5</li>\n",
       "\t<li>7</li>\n",
       "\t<li>7.5</li>\n",
       "\t<li>8</li>\n",
       "\t<li>8.5</li>\n",
       "\t<li>9</li>\n",
       "</ol>\n"
      ],
      "text/latex": [
       "\\begin{enumerate*}\n",
       "\\item 3\n",
       "\\item 3.5\n",
       "\\item 4\n",
       "\\item 4.5\n",
       "\\item 5\n",
       "\\item 5.5\n",
       "\\item 6\n",
       "\\item 6.5\n",
       "\\item 7\n",
       "\\item 7.5\n",
       "\\item 8\n",
       "\\item 8.5\n",
       "\\item 9\n",
       "\\end{enumerate*}\n"
      ],
      "text/markdown": [
       "1. 3\n",
       "2. 3.5\n",
       "3. 4\n",
       "4. 4.5\n",
       "5. 5\n",
       "6. 5.5\n",
       "7. 6\n",
       "8. 6.5\n",
       "9. 7\n",
       "10. 7.5\n",
       "11. 8\n",
       "12. 8.5\n",
       "13. 9\n",
       "\n",
       "\n"
      ],
      "text/plain": [
       " [1] 3.0 3.5 4.0 4.5 5.0 5.5 6.0 6.5 7.0 7.5 8.0 8.5 9.0"
      ]
     },
     "metadata": {},
     "output_type": "display_data"
    }
   ],
   "source": [
    "seq(3, 9, by = 0.5)"
   ]
  },
  {
   "cell_type": "code",
   "execution_count": 61,
   "id": "4579f09b-33b1-43af-bdbb-c1f127a709d9",
   "metadata": {},
   "outputs": [
    {
     "data": {
      "text/html": [
       "<ol class=list-inline>\n",
       "\t<li>10</li>\n",
       "\t<li>9.8</li>\n",
       "\t<li>9.6</li>\n",
       "\t<li>9.4</li>\n",
       "\t<li>9.2</li>\n",
       "\t<li>9</li>\n",
       "\t<li>8.8</li>\n",
       "\t<li>8.6</li>\n",
       "\t<li>8.4</li>\n",
       "\t<li>8.2</li>\n",
       "\t<li>8</li>\n",
       "\t<li>7.8</li>\n",
       "\t<li>7.6</li>\n",
       "\t<li>7.4</li>\n",
       "\t<li>7.2</li>\n",
       "\t<li>7</li>\n",
       "\t<li>6.8</li>\n",
       "\t<li>6.6</li>\n",
       "\t<li>6.4</li>\n",
       "\t<li>6.2</li>\n",
       "\t<li>6</li>\n",
       "\t<li>5.8</li>\n",
       "\t<li>5.6</li>\n",
       "\t<li>5.4</li>\n",
       "\t<li>5.2</li>\n",
       "\t<li>5</li>\n",
       "\t<li>4.8</li>\n",
       "\t<li>4.6</li>\n",
       "\t<li>4.4</li>\n",
       "\t<li>4.2</li>\n",
       "\t<li>4</li>\n",
       "\t<li>3.8</li>\n",
       "\t<li>3.6</li>\n",
       "\t<li>3.4</li>\n",
       "\t<li>3.2</li>\n",
       "\t<li>3</li>\n",
       "</ol>\n"
      ],
      "text/latex": [
       "\\begin{enumerate*}\n",
       "\\item 10\n",
       "\\item 9.8\n",
       "\\item 9.6\n",
       "\\item 9.4\n",
       "\\item 9.2\n",
       "\\item 9\n",
       "\\item 8.8\n",
       "\\item 8.6\n",
       "\\item 8.4\n",
       "\\item 8.2\n",
       "\\item 8\n",
       "\\item 7.8\n",
       "\\item 7.6\n",
       "\\item 7.4\n",
       "\\item 7.2\n",
       "\\item 7\n",
       "\\item 6.8\n",
       "\\item 6.6\n",
       "\\item 6.4\n",
       "\\item 6.2\n",
       "\\item 6\n",
       "\\item 5.8\n",
       "\\item 5.6\n",
       "\\item 5.4\n",
       "\\item 5.2\n",
       "\\item 5\n",
       "\\item 4.8\n",
       "\\item 4.6\n",
       "\\item 4.4\n",
       "\\item 4.2\n",
       "\\item 4\n",
       "\\item 3.8\n",
       "\\item 3.6\n",
       "\\item 3.4\n",
       "\\item 3.2\n",
       "\\item 3\n",
       "\\end{enumerate*}\n"
      ],
      "text/markdown": [
       "1. 10\n",
       "2. 9.8\n",
       "3. 9.6\n",
       "4. 9.4\n",
       "5. 9.2\n",
       "6. 9\n",
       "7. 8.8\n",
       "8. 8.6\n",
       "9. 8.4\n",
       "10. 8.2\n",
       "11. 8\n",
       "12. 7.8\n",
       "13. 7.6\n",
       "14. 7.4\n",
       "15. 7.2\n",
       "16. 7\n",
       "17. 6.8\n",
       "18. 6.6\n",
       "19. 6.4\n",
       "20. 6.2\n",
       "21. 6\n",
       "22. 5.8\n",
       "23. 5.6\n",
       "24. 5.4\n",
       "25. 5.2\n",
       "26. 5\n",
       "27. 4.8\n",
       "28. 4.6\n",
       "29. 4.4\n",
       "30. 4.2\n",
       "31. 4\n",
       "32. 3.8\n",
       "33. 3.6\n",
       "34. 3.4\n",
       "35. 3.2\n",
       "36. 3\n",
       "\n",
       "\n"
      ],
      "text/plain": [
       " [1] 10.0  9.8  9.6  9.4  9.2  9.0  8.8  8.6  8.4  8.2  8.0  7.8  7.6  7.4  7.2\n",
       "[16]  7.0  6.8  6.6  6.4  6.2  6.0  5.8  5.6  5.4  5.2  5.0  4.8  4.6  4.4  4.2\n",
       "[31]  4.0  3.8  3.6  3.4  3.2  3.0"
      ]
     },
     "metadata": {},
     "output_type": "display_data"
    }
   ],
   "source": [
    "seq(10, 3, by = -0.2)"
   ]
  },
  {
   "cell_type": "code",
   "execution_count": 67,
   "id": "cce0d2cf-1cf9-44f1-8903-ac097d980b6a",
   "metadata": {},
   "outputs": [
    {
     "data": {
      "text/html": [
       "<ol class=list-inline>\n",
       "\t<li>10</li>\n",
       "\t<li>16.6666666666667</li>\n",
       "\t<li>23.3333333333333</li>\n",
       "\t<li>30</li>\n",
       "\t<li>36.6666666666667</li>\n",
       "\t<li>43.3333333333333</li>\n",
       "\t<li>50</li>\n",
       "</ol>\n"
      ],
      "text/latex": [
       "\\begin{enumerate*}\n",
       "\\item 10\n",
       "\\item 16.6666666666667\n",
       "\\item 23.3333333333333\n",
       "\\item 30\n",
       "\\item 36.6666666666667\n",
       "\\item 43.3333333333333\n",
       "\\item 50\n",
       "\\end{enumerate*}\n"
      ],
      "text/markdown": [
       "1. 10\n",
       "2. 16.6666666666667\n",
       "3. 23.3333333333333\n",
       "4. 30\n",
       "5. 36.6666666666667\n",
       "6. 43.3333333333333\n",
       "7. 50\n",
       "\n",
       "\n"
      ],
      "text/plain": [
       "[1] 10.00000 16.66667 23.33333 30.00000 36.66667 43.33333 50.00000"
      ]
     },
     "metadata": {},
     "output_type": "display_data"
    }
   ],
   "source": [
    "seq(10, 50, length = 7)"
   ]
  },
  {
   "cell_type": "code",
   "execution_count": 69,
   "id": "c5c5437c-a394-4668-93e0-ae5e4cf676c8",
   "metadata": {},
   "outputs": [
    {
     "data": {
      "text/html": [
       "<ol class=list-inline>\n",
       "\t<li>1</li>\n",
       "\t<li>1.25</li>\n",
       "\t<li>1.5</li>\n",
       "\t<li>1.75</li>\n",
       "\t<li>2</li>\n",
       "</ol>\n"
      ],
      "text/latex": [
       "\\begin{enumerate*}\n",
       "\\item 1\n",
       "\\item 1.25\n",
       "\\item 1.5\n",
       "\\item 1.75\n",
       "\\item 2\n",
       "\\end{enumerate*}\n"
      ],
      "text/markdown": [
       "1. 1\n",
       "2. 1.25\n",
       "3. 1.5\n",
       "4. 1.75\n",
       "5. 2\n",
       "\n",
       "\n"
      ],
      "text/plain": [
       "[1] 1.00 1.25 1.50 1.75 2.00"
      ]
     },
     "metadata": {},
     "output_type": "display_data"
    }
   ],
   "source": [
    "seq(1, 2, length = 5)"
   ]
  },
  {
   "cell_type": "code",
   "execution_count": 71,
   "id": "48ec1e22-d57e-4029-9ba8-c0637dc755aa",
   "metadata": {},
   "outputs": [
    {
     "data": {
      "text/html": [
       "<ol class=list-inline>\n",
       "\t<li>10</li>\n",
       "\t<li>10</li>\n",
       "\t<li>10</li>\n",
       "\t<li>10</li>\n",
       "\t<li>10</li>\n",
       "\t<li>10</li>\n",
       "</ol>\n"
      ],
      "text/latex": [
       "\\begin{enumerate*}\n",
       "\\item 10\n",
       "\\item 10\n",
       "\\item 10\n",
       "\\item 10\n",
       "\\item 10\n",
       "\\item 10\n",
       "\\end{enumerate*}\n"
      ],
      "text/markdown": [
       "1. 10\n",
       "2. 10\n",
       "3. 10\n",
       "4. 10\n",
       "5. 10\n",
       "6. 10\n",
       "\n",
       "\n"
      ],
      "text/plain": [
       "[1] 10 10 10 10 10 10"
      ]
     },
     "metadata": {},
     "output_type": "display_data"
    }
   ],
   "source": [
    "rep(10, times = 6)"
   ]
  },
  {
   "cell_type": "code",
   "execution_count": 73,
   "id": "28d53154-0f61-4534-828a-9478195fa291",
   "metadata": {},
   "outputs": [
    {
     "data": {
      "text/html": [
       "<ol class=list-inline>\n",
       "\t<li>'Pranoy'</li>\n",
       "\t<li>'Pranoy'</li>\n",
       "\t<li>'Pranoy'</li>\n",
       "\t<li>'Pranoy'</li>\n",
       "\t<li>'Pranoy'</li>\n",
       "\t<li>'Pranoy'</li>\n",
       "\t<li>'Pranoy'</li>\n",
       "\t<li>'Pranoy'</li>\n",
       "\t<li>'Pranoy'</li>\n",
       "</ol>\n"
      ],
      "text/latex": [
       "\\begin{enumerate*}\n",
       "\\item 'Pranoy'\n",
       "\\item 'Pranoy'\n",
       "\\item 'Pranoy'\n",
       "\\item 'Pranoy'\n",
       "\\item 'Pranoy'\n",
       "\\item 'Pranoy'\n",
       "\\item 'Pranoy'\n",
       "\\item 'Pranoy'\n",
       "\\item 'Pranoy'\n",
       "\\end{enumerate*}\n"
      ],
      "text/markdown": [
       "1. 'Pranoy'\n",
       "2. 'Pranoy'\n",
       "3. 'Pranoy'\n",
       "4. 'Pranoy'\n",
       "5. 'Pranoy'\n",
       "6. 'Pranoy'\n",
       "7. 'Pranoy'\n",
       "8. 'Pranoy'\n",
       "9. 'Pranoy'\n",
       "\n",
       "\n"
      ],
      "text/plain": [
       "[1] \"Pranoy\" \"Pranoy\" \"Pranoy\" \"Pranoy\" \"Pranoy\" \"Pranoy\" \"Pranoy\" \"Pranoy\"\n",
       "[9] \"Pranoy\""
      ]
     },
     "metadata": {},
     "output_type": "display_data"
    }
   ],
   "source": [
    "rep('Pranoy', times = 9)"
   ]
  },
  {
   "cell_type": "code",
   "execution_count": 79,
   "id": "b32442ae-9b34-409e-8b66-0a6b21ee5a10",
   "metadata": {},
   "outputs": [
    {
     "data": {
      "text/html": [
       "<ol class=list-inline>\n",
       "\t<li>1</li>\n",
       "\t<li>2</li>\n",
       "\t<li>3</li>\n",
       "\t<li>4</li>\n",
       "\t<li>1</li>\n",
       "\t<li>2</li>\n",
       "\t<li>3</li>\n",
       "\t<li>4</li>\n",
       "\t<li>1</li>\n",
       "\t<li>2</li>\n",
       "\t<li>3</li>\n",
       "\t<li>4</li>\n",
       "\t<li>1</li>\n",
       "\t<li>2</li>\n",
       "\t<li>3</li>\n",
       "\t<li>4</li>\n",
       "\t<li>1</li>\n",
       "\t<li>2</li>\n",
       "\t<li>3</li>\n",
       "\t<li>4</li>\n",
       "\t<li>1</li>\n",
       "\t<li>2</li>\n",
       "\t<li>3</li>\n",
       "\t<li>4</li>\n",
       "</ol>\n"
      ],
      "text/latex": [
       "\\begin{enumerate*}\n",
       "\\item 1\n",
       "\\item 2\n",
       "\\item 3\n",
       "\\item 4\n",
       "\\item 1\n",
       "\\item 2\n",
       "\\item 3\n",
       "\\item 4\n",
       "\\item 1\n",
       "\\item 2\n",
       "\\item 3\n",
       "\\item 4\n",
       "\\item 1\n",
       "\\item 2\n",
       "\\item 3\n",
       "\\item 4\n",
       "\\item 1\n",
       "\\item 2\n",
       "\\item 3\n",
       "\\item 4\n",
       "\\item 1\n",
       "\\item 2\n",
       "\\item 3\n",
       "\\item 4\n",
       "\\end{enumerate*}\n"
      ],
      "text/markdown": [
       "1. 1\n",
       "2. 2\n",
       "3. 3\n",
       "4. 4\n",
       "5. 1\n",
       "6. 2\n",
       "7. 3\n",
       "8. 4\n",
       "9. 1\n",
       "10. 2\n",
       "11. 3\n",
       "12. 4\n",
       "13. 1\n",
       "14. 2\n",
       "15. 3\n",
       "16. 4\n",
       "17. 1\n",
       "18. 2\n",
       "19. 3\n",
       "20. 4\n",
       "21. 1\n",
       "22. 2\n",
       "23. 3\n",
       "24. 4\n",
       "\n",
       "\n"
      ],
      "text/plain": [
       " [1] 1 2 3 4 1 2 3 4 1 2 3 4 1 2 3 4 1 2 3 4 1 2 3 4"
      ]
     },
     "metadata": {},
     "output_type": "display_data"
    }
   ],
   "source": [
    "rep(1:4, 6)"
   ]
  },
  {
   "cell_type": "code",
   "execution_count": 81,
   "id": "ade80d82-3df7-47f7-bb55-960a6cf587c3",
   "metadata": {},
   "outputs": [
    {
     "data": {
      "text/html": [
       "<ol class=list-inline>\n",
       "\t<li>1</li>\n",
       "\t<li>1</li>\n",
       "\t<li>1</li>\n",
       "\t<li>2</li>\n",
       "\t<li>2</li>\n",
       "\t<li>2</li>\n",
       "\t<li>3</li>\n",
       "\t<li>3</li>\n",
       "\t<li>3</li>\n",
       "\t<li>4</li>\n",
       "\t<li>4</li>\n",
       "\t<li>4</li>\n",
       "</ol>\n"
      ],
      "text/latex": [
       "\\begin{enumerate*}\n",
       "\\item 1\n",
       "\\item 1\n",
       "\\item 1\n",
       "\\item 2\n",
       "\\item 2\n",
       "\\item 2\n",
       "\\item 3\n",
       "\\item 3\n",
       "\\item 3\n",
       "\\item 4\n",
       "\\item 4\n",
       "\\item 4\n",
       "\\end{enumerate*}\n"
      ],
      "text/markdown": [
       "1. 1\n",
       "2. 1\n",
       "3. 1\n",
       "4. 2\n",
       "5. 2\n",
       "6. 2\n",
       "7. 3\n",
       "8. 3\n",
       "9. 3\n",
       "10. 4\n",
       "11. 4\n",
       "12. 4\n",
       "\n",
       "\n"
      ],
      "text/plain": [
       " [1] 1 1 1 2 2 2 3 3 3 4 4 4"
      ]
     },
     "metadata": {},
     "output_type": "display_data"
    }
   ],
   "source": [
    "rep(1:4, each = 3)"
   ]
  },
  {
   "cell_type": "code",
   "execution_count": 83,
   "id": "2fa97dc0-ff84-4349-9d61-ca550419e292",
   "metadata": {},
   "outputs": [
    {
     "data": {
      "text/html": [
       "<ol class=list-inline>\n",
       "\t<li>55</li>\n",
       "\t<li>67</li>\n",
       "\t<li>34</li>\n",
       "\t<li>92</li>\n",
       "\t<li>95</li>\n",
       "\t<li>48</li>\n",
       "\t<li>83</li>\n",
       "</ol>\n"
      ],
      "text/latex": [
       "\\begin{enumerate*}\n",
       "\\item 55\n",
       "\\item 67\n",
       "\\item 34\n",
       "\\item 92\n",
       "\\item 95\n",
       "\\item 48\n",
       "\\item 83\n",
       "\\end{enumerate*}\n"
      ],
      "text/markdown": [
       "1. 55\n",
       "2. 67\n",
       "3. 34\n",
       "4. 92\n",
       "5. 95\n",
       "6. 48\n",
       "7. 83\n",
       "\n",
       "\n"
      ],
      "text/plain": [
       "[1] 55 67 34 92 95 48 83"
      ]
     },
     "metadata": {},
     "output_type": "display_data"
    }
   ],
   "source": [
    "student.test.score <- c(55, 67, 34, 92, 95, 48, 83)\n",
    "student.test.score"
   ]
  },
  {
   "cell_type": "code",
   "execution_count": 89,
   "id": "e71c3004-81d4-45eb-982d-9720bbbad9f5",
   "metadata": {},
   "outputs": [
    {
     "data": {
      "text/html": [
       "67.7142857142857"
      ],
      "text/latex": [
       "67.7142857142857"
      ],
      "text/markdown": [
       "67.7142857142857"
      ],
      "text/plain": [
       "[1] 67.71429"
      ]
     },
     "metadata": {},
     "output_type": "display_data"
    }
   ],
   "source": [
    "mean(student.test.score)"
   ]
  },
  {
   "cell_type": "code",
   "execution_count": 91,
   "id": "4499e639-33da-48ec-805c-210bfc0168c8",
   "metadata": {},
   "outputs": [
    {
     "data": {
      "text/html": [
       "67"
      ],
      "text/latex": [
       "67"
      ],
      "text/markdown": [
       "67"
      ],
      "text/plain": [
       "[1] 67"
      ]
     },
     "metadata": {},
     "output_type": "display_data"
    }
   ],
   "source": [
    "median(student.test.score)"
   ]
  },
  {
   "cell_type": "code",
   "execution_count": 93,
   "id": "3216319a-0887-4ab2-bd5b-74762e506f9b",
   "metadata": {},
   "outputs": [
    {
     "data": {
      "text/html": [
       "23.2931627000592"
      ],
      "text/latex": [
       "23.2931627000592"
      ],
      "text/markdown": [
       "23.2931627000592"
      ],
      "text/plain": [
       "[1] 23.29316"
      ]
     },
     "metadata": {},
     "output_type": "display_data"
    }
   ],
   "source": [
    "sd(student.test.score) # n -1 denominator"
   ]
  },
  {
   "cell_type": "code",
   "execution_count": 95,
   "id": "c19661f1-a998-454c-aeff-3294fbe6e831",
   "metadata": {},
   "outputs": [
    {
     "data": {
      "text/plain": [
       "   Min. 1st Qu.  Median    Mean 3rd Qu.    Max. \n",
       "  34.00   51.50   67.00   67.71   87.50   95.00 "
      ]
     },
     "metadata": {},
     "output_type": "display_data"
    }
   ],
   "source": [
    "summary(student.test.score)"
   ]
  },
  {
   "cell_type": "code",
   "execution_count": 97,
   "id": "fcb50d7e-ae87-47a8-9a6a-51d8b39479ac",
   "metadata": {},
   "outputs": [
    {
     "data": {
      "text/html": [
       "4.44089209850063e-16"
      ],
      "text/latex": [
       "4.44089209850063e-16"
      ],
      "text/markdown": [
       "4.44089209850063e-16"
      ],
      "text/plain": [
       "[1] 4.440892e-16"
      ]
     },
     "metadata": {},
     "output_type": "display_data"
    }
   ],
   "source": [
    "sqrt(2) ** 2 - 2"
   ]
  },
  {
   "cell_type": "code",
   "execution_count": 99,
   "id": "277edd8b-7c1c-4c5e-bb0d-a4559d2c6dab",
   "metadata": {},
   "outputs": [
    {
     "data": {
      "text/html": [
       "FALSE"
      ],
      "text/latex": [
       "FALSE"
      ],
      "text/markdown": [
       "FALSE"
      ],
      "text/plain": [
       "[1] FALSE"
      ]
     },
     "metadata": {},
     "output_type": "display_data"
    }
   ],
   "source": [
    "sqrt(2) ** 2 - 2 == 0"
   ]
  },
  {
   "cell_type": "code",
   "execution_count": 2,
   "id": "94a9a089-eb0e-4ebd-9c85-d6212b50d055",
   "metadata": {},
   "outputs": [
    {
     "data": {
      "text/html": [
       "TRUE"
      ],
      "text/latex": [
       "TRUE"
      ],
      "text/markdown": [
       "TRUE"
      ],
      "text/plain": [
       "[1] TRUE"
      ]
     },
     "metadata": {},
     "output_type": "display_data"
    }
   ],
   "source": [
    "all.equal(sqrt(2) ** 2 - 2, 0)"
   ]
  }
 ],
 "metadata": {
  "kernelspec": {
   "display_name": "R",
   "language": "R",
   "name": "ir"
  },
  "language_info": {
   "codemirror_mode": "r",
   "file_extension": ".r",
   "mimetype": "text/x-r-source",
   "name": "R",
   "pygments_lexer": "r",
   "version": "3.6.1"
  }
 },
 "nbformat": 4,
 "nbformat_minor": 5
}
