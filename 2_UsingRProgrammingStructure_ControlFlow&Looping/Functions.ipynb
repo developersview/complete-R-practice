{
 "cells": [
  {
   "cell_type": "code",
   "execution_count": 1,
   "id": "4ef20940-640a-4304-8341-6d37f9889b2d",
   "metadata": {},
   "outputs": [
    {
     "data": {
      "text/html": [
       "\n",
       "<table width=\"100%\" summary=\"page for sample {base}\"><tr><td>sample {base}</td><td style=\"text-align: right;\">R Documentation</td></tr></table>\n",
       "\n",
       "<h2>Random Samples and Permutations</h2>\n",
       "\n",
       "<h3>Description</h3>\n",
       "\n",
       "<p><code>sample</code> takes a sample of the specified size from the elements\n",
       "of <code>x</code> using either with or without replacement.\n",
       "</p>\n",
       "\n",
       "\n",
       "<h3>Usage</h3>\n",
       "\n",
       "<pre>\n",
       "sample(x, size, replace = FALSE, prob = NULL)\n",
       "\n",
       "sample.int(n, size = n, replace = FALSE, prob = NULL,\n",
       "           useHash = (!replace &amp;&amp; is.null(prob) &amp;&amp; size &lt;= n/2 &amp;&amp; n &gt; 1e7))\n",
       "</pre>\n",
       "\n",
       "\n",
       "<h3>Arguments</h3>\n",
       "\n",
       "<table summary=\"R argblock\">\n",
       "<tr valign=\"top\"><td><code>x</code></td>\n",
       "<td>\n",
       "<p>either a vector of one or more elements from which to choose,\n",
       "or a positive integer.  See &lsquo;Details.&rsquo;</p>\n",
       "</td></tr>\n",
       "<tr valign=\"top\"><td><code>n</code></td>\n",
       "<td>\n",
       "<p>a positive number, the number of items to choose from.  See\n",
       "&lsquo;Details.&rsquo;</p>\n",
       "</td></tr>\n",
       "<tr valign=\"top\"><td><code>size</code></td>\n",
       "<td>\n",
       "<p>a non-negative integer giving the number of items to choose.</p>\n",
       "</td></tr>\n",
       "<tr valign=\"top\"><td><code>replace</code></td>\n",
       "<td>\n",
       "<p>should sampling be with replacement?</p>\n",
       "</td></tr>\n",
       "<tr valign=\"top\"><td><code>prob</code></td>\n",
       "<td>\n",
       "<p>a vector of probability weights for obtaining the elements\n",
       "of the vector being sampled.</p>\n",
       "</td></tr>\n",
       "<tr valign=\"top\"><td><code>useHash</code></td>\n",
       "<td>\n",
       "<p><code>logical</code> indicating if the hash-version of\n",
       "the algorithm should be used.  Can only be used for <code>replace =\n",
       "      FALSE</code>, <code>prob = NULL</code>, and <code>size &lt;= n/2</code>, and really\n",
       "should be used for large <code>n</code>, as <code>useHash=FALSE</code> will use\n",
       "memory proportional to <code>n</code>.</p>\n",
       "</td></tr>\n",
       "</table>\n",
       "\n",
       "\n",
       "<h3>Details</h3>\n",
       "\n",
       "<p>If <code>x</code> has length 1, is numeric (in the sense of\n",
       "<code>is.numeric</code>) and <code>x &gt;= 1</code>, sampling <em>via</em>\n",
       "<code>sample</code> takes place from <code>1:x</code>.  <em>Note</em> that this\n",
       "convenience feature may lead to undesired behaviour when <code>x</code> is\n",
       "of varying length in calls such as <code>sample(x)</code>.  See the examples.\n",
       "</p>\n",
       "<p>Otherwise <code>x</code> can be any <span style=\"font-family: Courier New, Courier; color: #666666;\"><b>R</b></span> object for which <code>length</code> and\n",
       "subsetting by integers make sense: S3 or S4 methods for these\n",
       "operations will be dispatched as appropriate.\n",
       "</p>\n",
       "<p>For <code>sample</code> the default for <code>size</code> is the number of items\n",
       "inferred from the first argument, so that <code>sample(x)</code> generates a\n",
       "random permutation of the elements of <code>x</code> (or <code>1:x</code>).\n",
       "</p>\n",
       "<p>It is allowed to ask for <code>size = 0</code> samples with <code>n = 0</code> or\n",
       "a length-zero <code>x</code>, but otherwise <code>n &gt; 0</code> or positive\n",
       "<code>length(x)</code> is required.\n",
       "</p>\n",
       "<p>Non-integer positive numerical values of <code>n</code> or <code>x</code> will be\n",
       "truncated to the next smallest integer, which has to be no larger than\n",
       "<code>.Machine$integer.max</code>.\n",
       "</p>\n",
       "<p>The optional <code>prob</code> argument can be used to give a vector of\n",
       "weights for obtaining the elements of the vector being sampled.  They\n",
       "need not sum to one, but they should be non-negative and not all zero.\n",
       "If <code>replace</code> is true, Walker's alias method (Ripley, 1987) is\n",
       "used when there are more than 200 reasonably probable values: this\n",
       "gives results incompatible with those from <span style=\"font-family: Courier New, Courier; color: #666666;\"><b>R</b></span> &lt; 2.2.0.\n",
       "</p>\n",
       "<p>If <code>replace</code> is false, these probabilities are applied\n",
       "sequentially, that is the probability of choosing the next item is\n",
       "proportional to the weights amongst the remaining items.  The number\n",
       "of nonzero weights must be at least <code>size</code> in this case.\n",
       "</p>\n",
       "<p><code>sample.int</code> is a bare interface in which both <code>n</code> and\n",
       "<code>size</code> must be supplied as integers.\n",
       "</p>\n",
       "<p>Argument <code>n</code> can be larger than the largest integer of\n",
       "type <code>integer</code>, up to the largest representable integer in type\n",
       "<code>double</code>.  Only uniform sampling is supported.  Two\n",
       "random numbers are used to ensure uniform sampling of large integers.\n",
       "</p>\n",
       "\n",
       "\n",
       "<h3>Value</h3>\n",
       "\n",
       "<p>For <code>sample</code> a vector of length <code>size</code> with elements\n",
       "drawn from either <code>x</code> or from the integers <code>1:x</code>.\n",
       "</p>\n",
       "<p>For <code>sample.int</code>, an integer vector of length <code>size</code> with\n",
       "elements from <code>1:n</code>, or a double vector if\n",
       "<i>n &gt;= 2^31</i>.\n",
       "</p>\n",
       "\n",
       "\n",
       "<h3>References</h3>\n",
       "\n",
       "<p>Becker, R. A., Chambers, J. M. and Wilks, A. R. (1988)\n",
       "<em>The New S Language</em>.\n",
       "Wadsworth &amp; Brooks/Cole.\n",
       "</p>\n",
       "<p>Ripley, B. D. (1987) <em>Stochastic Simulation</em>. Wiley.\n",
       "</p>\n",
       "\n",
       "\n",
       "<h3>See Also</h3>\n",
       "\n",
       "<p><code>RNGkind(sample.kind = ..)</code> about random number generation,\n",
       "notably the change of <code>sample()</code> results with <span style=\"font-family: Courier New, Courier; color: #666666;\"><b>R</b></span> version 3.6.0.\n",
       "</p>\n",
       "<p>CRAN package <a href=\"https://CRAN.R-project.org/package=sampling\"><span class=\"pkg\">sampling</span></a> for other methods of weighted sampling\n",
       "without replacement.\n",
       "</p>\n",
       "\n",
       "\n",
       "<h3>Examples</h3>\n",
       "\n",
       "<pre>\n",
       "x &lt;- 1:12\n",
       "# a random permutation\n",
       "sample(x)\n",
       "# bootstrap resampling -- only if length(x) &gt; 1 !\n",
       "sample(x, replace = TRUE)\n",
       "\n",
       "# 100 Bernoulli trials\n",
       "sample(c(0,1), 100, replace = TRUE)\n",
       "\n",
       "## More careful bootstrapping --  Consider this when using sample()\n",
       "## programmatically (i.e., in your function or simulation)!\n",
       "\n",
       "# sample()'s surprise -- example\n",
       "x &lt;- 1:10\n",
       "    sample(x[x &gt;  8]) # length 2\n",
       "    sample(x[x &gt;  9]) # oops -- length 10!\n",
       "    sample(x[x &gt; 10]) # length 0\n",
       "\n",
       "## safer version:\n",
       "resample &lt;- function(x, ...) x[sample.int(length(x), ...)]\n",
       "resample(x[x &gt;  8]) # length 2\n",
       "resample(x[x &gt;  9]) # length 1\n",
       "resample(x[x &gt; 10]) # length 0\n",
       "\n",
       "## R 3.x.y only\n",
       "sample.int(1e10, 12, replace = TRUE)\n",
       "sample.int(1e10, 12) # not that there is much chance of duplicates\n",
       "</pre>\n",
       "\n",
       "<hr /><div style=\"text-align: center;\">[Package <em>base</em> version 3.6.1 ]</div>"
      ],
      "text/latex": [
       "\\inputencoding{utf8}\n",
       "\\HeaderA{sample}{Random Samples and Permutations}{sample}\n",
       "\\methaliasA{sample.int}{sample}{sample.int}\n",
       "\\keyword{distribution}{sample}\n",
       "%\n",
       "\\begin{Description}\\relax\n",
       "\\code{sample} takes a sample of the specified size from the elements\n",
       "of \\code{x} using either with or without replacement.\n",
       "\\end{Description}\n",
       "%\n",
       "\\begin{Usage}\n",
       "\\begin{verbatim}\n",
       "sample(x, size, replace = FALSE, prob = NULL)\n",
       "\n",
       "sample.int(n, size = n, replace = FALSE, prob = NULL,\n",
       "           useHash = (!replace && is.null(prob) && size <= n/2 && n > 1e7))\n",
       "\\end{verbatim}\n",
       "\\end{Usage}\n",
       "%\n",
       "\\begin{Arguments}\n",
       "\\begin{ldescription}\n",
       "\\item[\\code{x}] either a vector of one or more elements from which to choose,\n",
       "or a positive integer.  See `Details.'\n",
       "\\item[\\code{n}] a positive number, the number of items to choose from.  See\n",
       "`Details.'\n",
       "\\item[\\code{size}] a non-negative integer giving the number of items to choose.\n",
       "\\item[\\code{replace}] should sampling be with replacement?\n",
       "\\item[\\code{prob}] a vector of probability weights for obtaining the elements\n",
       "of the vector being sampled.\n",
       "\\item[\\code{useHash}] \\code{\\LinkA{logical}{logical}} indicating if the hash-version of\n",
       "the algorithm should be used.  Can only be used for \\code{replace =\n",
       "      FALSE}, \\code{prob = NULL}, and \\code{size <= n/2}, and really\n",
       "should be used for large \\code{n}, as \\code{useHash=FALSE} will use\n",
       "memory proportional to \\code{n}.\n",
       "\\end{ldescription}\n",
       "\\end{Arguments}\n",
       "%\n",
       "\\begin{Details}\\relax\n",
       "If \\code{x} has length 1, is numeric (in the sense of\n",
       "\\code{\\LinkA{is.numeric}{is.numeric}}) and \\code{x >= 1}, sampling \\emph{via}\n",
       "\\code{sample} takes place from \\code{1:x}.  \\emph{Note} that this\n",
       "convenience feature may lead to undesired behaviour when \\code{x} is\n",
       "of varying length in calls such as \\code{sample(x)}.  See the examples.\n",
       "\n",
       "Otherwise \\code{x} can be any \\R{} object for which \\code{length} and\n",
       "subsetting by integers make sense: S3 or S4 methods for these\n",
       "operations will be dispatched as appropriate.\n",
       "\n",
       "For \\code{sample} the default for \\code{size} is the number of items\n",
       "inferred from the first argument, so that \\code{sample(x)} generates a\n",
       "random permutation of the elements of \\code{x} (or \\code{1:x}).\n",
       "\n",
       "It is allowed to ask for \\code{size = 0} samples with \\code{n = 0} or\n",
       "a length-zero \\code{x}, but otherwise \\code{n > 0} or positive\n",
       "\\code{length(x)} is required.\n",
       "\n",
       "Non-integer positive numerical values of \\code{n} or \\code{x} will be\n",
       "truncated to the next smallest integer, which has to be no larger than\n",
       "\\code{\\LinkA{.Machine}{.Machine}\\$integer.max}.\n",
       "\n",
       "The optional \\code{prob} argument can be used to give a vector of\n",
       "weights for obtaining the elements of the vector being sampled.  They\n",
       "need not sum to one, but they should be non-negative and not all zero.\n",
       "If \\code{replace} is true, Walker's alias method (Ripley, 1987) is\n",
       "used when there are more than 200 reasonably probable values: this\n",
       "gives results incompatible with those from \\R{} < 2.2.0.\n",
       "\n",
       "If \\code{replace} is false, these probabilities are applied\n",
       "sequentially, that is the probability of choosing the next item is\n",
       "proportional to the weights amongst the remaining items.  The number\n",
       "of nonzero weights must be at least \\code{size} in this case.\n",
       "\n",
       "\\code{sample.int} is a bare interface in which both \\code{n} and\n",
       "\\code{size} must be supplied as integers.\n",
       "\n",
       "Argument \\code{n} can be larger than the largest integer of\n",
       "type \\code{integer}, up to the largest representable integer in type\n",
       "\\code{double}.  Only uniform sampling is supported.  Two\n",
       "random numbers are used to ensure uniform sampling of large integers.\n",
       "\\end{Details}\n",
       "%\n",
       "\\begin{Value}\n",
       "For \\code{sample} a vector of length \\code{size} with elements\n",
       "drawn from either \\code{x} or from the integers \\code{1:x}.\n",
       "\n",
       "For \\code{sample.int}, an integer vector of length \\code{size} with\n",
       "elements from \\code{1:n}, or a double vector if\n",
       "\\eqn{n \\ge 2^{31}}{}.\n",
       "\\end{Value}\n",
       "%\n",
       "\\begin{References}\\relax\n",
       "Becker, R. A., Chambers, J. M. and Wilks, A. R. (1988)\n",
       "\\emph{The New S Language}.\n",
       "Wadsworth \\& Brooks/Cole.\n",
       "\n",
       "Ripley, B. D. (1987) \\emph{Stochastic Simulation}. Wiley.\n",
       "\\end{References}\n",
       "%\n",
       "\\begin{SeeAlso}\\relax\n",
       "\\code{\\LinkA{RNGkind}{RNGkind}(sample.kind = ..)} about random number generation,\n",
       "notably the change of \\code{sample()} results with \\R{} version 3.6.0.\n",
       "\n",
       "CRAN package \\Rhref{https://CRAN.R-project.org/package=sampling}{\\pkg{sampling}} for other methods of weighted sampling\n",
       "without replacement.\n",
       "\\end{SeeAlso}\n",
       "%\n",
       "\\begin{Examples}\n",
       "\\begin{ExampleCode}\n",
       "x <- 1:12\n",
       "# a random permutation\n",
       "sample(x)\n",
       "# bootstrap resampling -- only if length(x) > 1 !\n",
       "sample(x, replace = TRUE)\n",
       "\n",
       "# 100 Bernoulli trials\n",
       "sample(c(0,1), 100, replace = TRUE)\n",
       "\n",
       "## More careful bootstrapping --  Consider this when using sample()\n",
       "## programmatically (i.e., in your function or simulation)!\n",
       "\n",
       "# sample()'s surprise -- example\n",
       "x <- 1:10\n",
       "    sample(x[x >  8]) # length 2\n",
       "    sample(x[x >  9]) # oops -- length 10!\n",
       "    sample(x[x > 10]) # length 0\n",
       "\n",
       "## safer version:\n",
       "resample <- function(x, ...) x[sample.int(length(x), ...)]\n",
       "resample(x[x >  8]) # length 2\n",
       "resample(x[x >  9]) # length 1\n",
       "resample(x[x > 10]) # length 0\n",
       "\n",
       "## R 3.x.y only\n",
       "sample.int(1e10, 12, replace = TRUE)\n",
       "sample.int(1e10, 12) # not that there is much chance of duplicates\n",
       "\\end{ExampleCode}\n",
       "\\end{Examples}"
      ],
      "text/plain": [
       "sample                  package:base                   R Documentation\n",
       "\n",
       "_\bR_\ba_\bn_\bd_\bo_\bm _\bS_\ba_\bm_\bp_\bl_\be_\bs _\ba_\bn_\bd _\bP_\be_\br_\bm_\bu_\bt_\ba_\bt_\bi_\bo_\bn_\bs\n",
       "\n",
       "_\bD_\be_\bs_\bc_\br_\bi_\bp_\bt_\bi_\bo_\bn:\n",
       "\n",
       "     'sample' takes a sample of the specified size from the elements of\n",
       "     'x' using either with or without replacement.\n",
       "\n",
       "_\bU_\bs_\ba_\bg_\be:\n",
       "\n",
       "     sample(x, size, replace = FALSE, prob = NULL)\n",
       "     \n",
       "     sample.int(n, size = n, replace = FALSE, prob = NULL,\n",
       "                useHash = (!replace && is.null(prob) && size <= n/2 && n > 1e7))\n",
       "     \n",
       "_\bA_\br_\bg_\bu_\bm_\be_\bn_\bt_\bs:\n",
       "\n",
       "       x: either a vector of one or more elements from which to choose,\n",
       "          or a positive integer.  See 'Details.'\n",
       "\n",
       "       n: a positive number, the number of items to choose from.  See\n",
       "          'Details.'\n",
       "\n",
       "    size: a non-negative integer giving the number of items to choose.\n",
       "\n",
       " replace: should sampling be with replacement?\n",
       "\n",
       "    prob: a vector of probability weights for obtaining the elements of\n",
       "          the vector being sampled.\n",
       "\n",
       " useHash: 'logical' indicating if the hash-version of the algorithm\n",
       "          should be used.  Can only be used for 'replace = FALSE',\n",
       "          'prob = NULL', and 'size <= n/2', and really should be used\n",
       "          for large 'n', as 'useHash=FALSE' will use memory\n",
       "          proportional to 'n'.\n",
       "\n",
       "_\bD_\be_\bt_\ba_\bi_\bl_\bs:\n",
       "\n",
       "     If 'x' has length 1, is numeric (in the sense of 'is.numeric') and\n",
       "     'x >= 1', sampling _via_ 'sample' takes place from '1:x'.  _Note_\n",
       "     that this convenience feature may lead to undesired behaviour when\n",
       "     'x' is of varying length in calls such as 'sample(x)'.  See the\n",
       "     examples.\n",
       "\n",
       "     Otherwise 'x' can be any R object for which 'length' and\n",
       "     subsetting by integers make sense: S3 or S4 methods for these\n",
       "     operations will be dispatched as appropriate.\n",
       "\n",
       "     For 'sample' the default for 'size' is the number of items\n",
       "     inferred from the first argument, so that 'sample(x)' generates a\n",
       "     random permutation of the elements of 'x' (or '1:x').\n",
       "\n",
       "     It is allowed to ask for 'size = 0' samples with 'n = 0' or a\n",
       "     length-zero 'x', but otherwise 'n > 0' or positive 'length(x)' is\n",
       "     required.\n",
       "\n",
       "     Non-integer positive numerical values of 'n' or 'x' will be\n",
       "     truncated to the next smallest integer, which has to be no larger\n",
       "     than '.Machine$integer.max'.\n",
       "\n",
       "     The optional 'prob' argument can be used to give a vector of\n",
       "     weights for obtaining the elements of the vector being sampled.\n",
       "     They need not sum to one, but they should be non-negative and not\n",
       "     all zero.  If 'replace' is true, Walker's alias method (Ripley,\n",
       "     1987) is used when there are more than 200 reasonably probable\n",
       "     values: this gives results incompatible with those from R < 2.2.0.\n",
       "\n",
       "     If 'replace' is false, these probabilities are applied\n",
       "     sequentially, that is the probability of choosing the next item is\n",
       "     proportional to the weights amongst the remaining items.  The\n",
       "     number of nonzero weights must be at least 'size' in this case.\n",
       "\n",
       "     'sample.int' is a bare interface in which both 'n' and 'size' must\n",
       "     be supplied as integers.\n",
       "\n",
       "     Argument 'n' can be larger than the largest integer of type\n",
       "     'integer', up to the largest representable integer in type\n",
       "     'double'.  Only uniform sampling is supported.  Two random numbers\n",
       "     are used to ensure uniform sampling of large integers.\n",
       "\n",
       "_\bV_\ba_\bl_\bu_\be:\n",
       "\n",
       "     For 'sample' a vector of length 'size' with elements drawn from\n",
       "     either 'x' or from the integers '1:x'.\n",
       "\n",
       "     For 'sample.int', an integer vector of length 'size' with elements\n",
       "     from '1:n', or a double vector if n >= 2^31.\n",
       "\n",
       "_\bR_\be_\bf_\be_\br_\be_\bn_\bc_\be_\bs:\n",
       "\n",
       "     Becker, R. A., Chambers, J. M. and Wilks, A. R. (1988) _The New S\n",
       "     Language_.  Wadsworth & Brooks/Cole.\n",
       "\n",
       "     Ripley, B. D. (1987) _Stochastic Simulation_. Wiley.\n",
       "\n",
       "_\bS_\be_\be _\bA_\bl_\bs_\bo:\n",
       "\n",
       "     'RNGkind(sample.kind = ..)' about random number generation,\n",
       "     notably the change of 'sample()' results with R version 3.6.0.\n",
       "\n",
       "     CRAN package 'sampling' for other methods of weighted sampling\n",
       "     without replacement.\n",
       "\n",
       "_\bE_\bx_\ba_\bm_\bp_\bl_\be_\bs:\n",
       "\n",
       "     x <- 1:12\n",
       "     # a random permutation\n",
       "     sample(x)\n",
       "     # bootstrap resampling -- only if length(x) > 1 !\n",
       "     sample(x, replace = TRUE)\n",
       "     \n",
       "     # 100 Bernoulli trials\n",
       "     sample(c(0,1), 100, replace = TRUE)\n",
       "     \n",
       "     ## More careful bootstrapping --  Consider this when using sample()\n",
       "     ## programmatically (i.e., in your function or simulation)!\n",
       "     \n",
       "     # sample()'s surprise -- example\n",
       "     x <- 1:10\n",
       "         sample(x[x >  8]) # length 2\n",
       "         sample(x[x >  9]) # oops -- length 10!\n",
       "         sample(x[x > 10]) # length 0\n",
       "     \n",
       "     ## safer version:\n",
       "     resample <- function(x, ...) x[sample.int(length(x), ...)]\n",
       "     resample(x[x >  8]) # length 2\n",
       "     resample(x[x >  9]) # length 1\n",
       "     resample(x[x > 10]) # length 0\n",
       "     \n",
       "     ## R 3.x.y only\n",
       "     sample.int(1e10, 12, replace = TRUE)\n",
       "     sample.int(1e10, 12) # not that there is much chance of duplicates\n",
       "     "
      ]
     },
     "metadata": {},
     "output_type": "display_data"
    }
   ],
   "source": [
    "?sample"
   ]
  },
  {
   "cell_type": "code",
   "execution_count": 3,
   "id": "54da4638-4665-479f-a809-2fb3f09f8e47",
   "metadata": {},
   "outputs": [
    {
     "data": {
      "text/html": [
       "<pre class=language-r><code>function (x, size, replace = FALSE, prob = NULL) \n",
       "{\n",
       "<span style=white-space:pre-wrap>    if (length(x) == 1L &amp;&amp; is.numeric(x) &amp;&amp; is.finite(x) &amp;&amp; x &gt;= </span>\n",
       "<span style=white-space:pre-wrap>        1) {</span>\n",
       "<span style=white-space:pre-wrap>        if (missing(size)) </span>\n",
       "<span style=white-space:pre-wrap>            size &lt;- x</span>\n",
       "<span style=white-space:pre-wrap>        sample.int(x, size, replace, prob)</span>\n",
       "<span style=white-space:pre-wrap>    }</span>\n",
       "<span style=white-space:pre-wrap>    else {</span>\n",
       "<span style=white-space:pre-wrap>        if (missing(size)) </span>\n",
       "<span style=white-space:pre-wrap>            size &lt;- length(x)</span>\n",
       "<span style=white-space:pre-wrap>        x[sample.int(length(x), size, replace, prob)]</span>\n",
       "<span style=white-space:pre-wrap>    }</span>\n",
       "}</code></pre>"
      ],
      "text/latex": [
       "\\begin{minted}{r}\n",
       "function (x, size, replace = FALSE, prob = NULL) \n",
       "\\{\n",
       "    if (length(x) == 1L \\&\\& is.numeric(x) \\&\\& is.finite(x) \\&\\& x >= \n",
       "        1) \\{\n",
       "        if (missing(size)) \n",
       "            size <- x\n",
       "        sample.int(x, size, replace, prob)\n",
       "    \\}\n",
       "    else \\{\n",
       "        if (missing(size)) \n",
       "            size <- length(x)\n",
       "        x{[}sample.int(length(x), size, replace, prob){]}\n",
       "    \\}\n",
       "\\}\n",
       "\\end{minted}"
      ],
      "text/markdown": [
       "```r\n",
       "function (x, size, replace = FALSE, prob = NULL) \n",
       "{\n",
       "    if (length(x) == 1L && is.numeric(x) && is.finite(x) && x >= \n",
       "        1) {\n",
       "        if (missing(size)) \n",
       "            size <- x\n",
       "        sample.int(x, size, replace, prob)\n",
       "    }\n",
       "    else {\n",
       "        if (missing(size)) \n",
       "            size <- length(x)\n",
       "        x[sample.int(length(x), size, replace, prob)]\n",
       "    }\n",
       "}\n",
       "```"
      ],
      "text/plain": [
       "function (x, size, replace = FALSE, prob = NULL) \n",
       "{\n",
       "    if (length(x) == 1L && is.numeric(x) && is.finite(x) && x >= \n",
       "        1) {\n",
       "        if (missing(size)) \n",
       "            size <- x\n",
       "        sample.int(x, size, replace, prob)\n",
       "    }\n",
       "    else {\n",
       "        if (missing(size)) \n",
       "            size <- length(x)\n",
       "        x[sample.int(length(x), size, replace, prob)]\n",
       "    }\n",
       "}\n",
       "<bytecode: 0x0000000069a5d918>\n",
       "<environment: namespace:base>"
      ]
     },
     "metadata": {},
     "output_type": "display_data"
    }
   ],
   "source": [
    "sample"
   ]
  },
  {
   "cell_type": "code",
   "execution_count": 5,
   "id": "44c1c065-7251-448c-b71a-d5dd20556a70",
   "metadata": {},
   "outputs": [
    {
     "data": {
      "text/plain": [
       "$x\n",
       "\n",
       "\n",
       "$size\n",
       "\n",
       "\n",
       "$replace\n",
       "[1] FALSE\n",
       "\n",
       "$prob\n",
       "NULL\n"
      ]
     },
     "metadata": {},
     "output_type": "display_data"
    }
   ],
   "source": [
    "formals(sample)"
   ]
  },
  {
   "cell_type": "code",
   "execution_count": 7,
   "id": "e544d66c-9946-445d-8d98-132d6d9f6def",
   "metadata": {},
   "outputs": [
    {
     "data": {
      "text/plain": [
       "{\n",
       "    if (length(x) == 1L && is.numeric(x) && is.finite(x) && x >= \n",
       "        1) {\n",
       "        if (missing(size)) \n",
       "            size <- x\n",
       "        sample.int(x, size, replace, prob)\n",
       "    }\n",
       "    else {\n",
       "        if (missing(size)) \n",
       "            size <- length(x)\n",
       "        x[sample.int(length(x), size, replace, prob)]\n",
       "    }\n",
       "}"
      ]
     },
     "metadata": {},
     "output_type": "display_data"
    }
   ],
   "source": [
    "body(sample)"
   ]
  },
  {
   "cell_type": "code",
   "execution_count": 13,
   "id": "588c2a84-473f-4f31-bf3f-47e2402c54d5",
   "metadata": {},
   "outputs": [
    {
     "data": {
      "text/html": [
       "<pre class=language-r><code>.Primitive(\"length\")</code></pre>"
      ],
      "text/latex": [
       "\\begin{minted}{r}\n",
       ".Primitive(\"length\")\n",
       "\\end{minted}"
      ],
      "text/markdown": [
       "```r\n",
       ".Primitive(\"length\")\n",
       "```"
      ],
      "text/plain": [
       "function (x)  .Primitive(\"length\")"
      ]
     },
     "metadata": {},
     "output_type": "display_data"
    }
   ],
   "source": [
    "length"
   ]
  },
  {
   "cell_type": "code",
   "execution_count": 17,
   "id": "437238a3-5580-4105-a48e-38d6e0b1c284",
   "metadata": {},
   "outputs": [
    {
     "data": {
      "text/html": [
       "<pre class=language-r><code>.Primitive(\"c\")</code></pre>"
      ],
      "text/latex": [
       "\\begin{minted}{r}\n",
       ".Primitive(\"c\")\n",
       "\\end{minted}"
      ],
      "text/markdown": [
       "```r\n",
       ".Primitive(\"c\")\n",
       "```"
      ],
      "text/plain": [
       "function (...)  .Primitive(\"c\")"
      ]
     },
     "metadata": {},
     "output_type": "display_data"
    }
   ],
   "source": [
    "c"
   ]
  },
  {
   "cell_type": "code",
   "execution_count": 19,
   "id": "893373c2-4694-49f1-b5e0-a4c35ce2bad6",
   "metadata": {},
   "outputs": [
    {
     "data": {
      "text/plain": [
       "NULL"
      ]
     },
     "metadata": {},
     "output_type": "display_data"
    }
   ],
   "source": [
    "formals(c)"
   ]
  },
  {
   "cell_type": "code",
   "execution_count": 23,
   "id": "9508e5ed-b724-400e-8597-47ec64e4e178",
   "metadata": {},
   "outputs": [
    {
     "data": {
      "text/html": [
       "\n",
       "<table width=\"100%\" summary=\"page for Paren {base}\"><tr><td>Paren {base}</td><td style=\"text-align: right;\">R Documentation</td></tr></table>\n",
       "\n",
       "<h2>Parentheses and Braces</h2>\n",
       "\n",
       "<h3>Description</h3>\n",
       "\n",
       "<p>Open parenthesis, <code>(</code>, and open brace, <code>{</code>, are\n",
       "<code>.Primitive</code> functions in <span style=\"font-family: Courier New, Courier; color: #666666;\"><b>R</b></span>.\n",
       "</p>\n",
       "<p>Effectively, <code>(</code> is semantically equivalent to the identity\n",
       "<code>function(x) x</code>, whereas <code>{</code> is slightly more interesting,\n",
       "see examples.\n",
       "</p>\n",
       "\n",
       "\n",
       "<h3>Usage</h3>\n",
       "\n",
       "<pre>\n",
       "( \\dots )\n",
       "\n",
       "{ \\dots }\n",
       "</pre>\n",
       "\n",
       "\n",
       "<h3>Value</h3>\n",
       "\n",
       "<p>For <code>(</code>, the result of evaluating the argument.  This has\n",
       "visibility set, so will auto-print if used at top-level.\n",
       "</p>\n",
       "<p>For <code>{</code>, the result of the last expression evaluated.  This has\n",
       "the visibility of the last evaluation.\n",
       "</p>\n",
       "\n",
       "\n",
       "<h3>References</h3>\n",
       "\n",
       "<p>Becker, R. A., Chambers, J. M. and Wilks, A. R. (1988)\n",
       "<em>The New S Language</em>.\n",
       "Wadsworth &amp; Brooks/Cole.\n",
       "</p>\n",
       "\n",
       "\n",
       "<h3>See Also</h3>\n",
       "\n",
       "<p><code>if</code>, <code>return</code>, etc for other objects used in\n",
       "the <span style=\"font-family: Courier New, Courier; color: #666666;\"><b>R</b></span> language itself.\n",
       "</p>\n",
       "<p><code>Syntax</code> for operator precedence.\n",
       "</p>\n",
       "\n",
       "\n",
       "<h3>Examples</h3>\n",
       "\n",
       "<pre>\n",
       "f &lt;- get(\"(\")\n",
       "e &lt;- expression(3 + 2 * 4)\n",
       "identical(f(e), e)\n",
       "\n",
       "do &lt;- get(\"{\")\n",
       "do(x &lt;- 3, y &lt;- 2*x-3, 6-x-y); x; y\n",
       "\n",
       "## note the differences\n",
       "(2+3)\n",
       "{2+3; 4+5}\n",
       "(invisible(2+3))\n",
       "{invisible(2+3)}\n",
       "</pre>\n",
       "\n",
       "<hr /><div style=\"text-align: center;\">[Package <em>base</em> version 3.6.1 ]</div>"
      ],
      "text/latex": [
       "\\inputencoding{utf8}\n",
       "\\HeaderA{Paren}{Parentheses and Braces}{Paren}\n",
       "\\aliasB{(}{Paren}{(}\n",
       "\\aliasB{\\{}{Paren}{.Rlbrace.}\n",
       "\\keyword{programming}{Paren}\n",
       "%\n",
       "\\begin{Description}\\relax\n",
       "Open parenthesis, \\code{(}, and open brace, \\code{\\{}, are\n",
       "\\code{\\LinkA{.Primitive}{.Primitive}} functions in \\R{}.\n",
       "\n",
       "Effectively, \\code{(} is semantically equivalent to the identity\n",
       "\\code{function(x) x}, whereas \\code{\\{} is slightly more interesting,\n",
       "see examples.\n",
       "\\end{Description}\n",
       "%\n",
       "\\begin{Usage}\n",
       "\\begin{verbatim}\n",
       "( ... )\n",
       "\n",
       "{ ... }\n",
       "\\end{verbatim}\n",
       "\\end{Usage}\n",
       "%\n",
       "\\begin{Value}\n",
       "For \\code{(}, the result of evaluating the argument.  This has\n",
       "visibility set, so will auto-print if used at top-level.\n",
       "\n",
       "For \\code{\\{}, the result of the last expression evaluated.  This has\n",
       "the visibility of the last evaluation.\n",
       "\\end{Value}\n",
       "%\n",
       "\\begin{References}\\relax\n",
       "Becker, R. A., Chambers, J. M. and Wilks, A. R. (1988)\n",
       "\\emph{The New S Language}.\n",
       "Wadsworth \\& Brooks/Cole.\n",
       "\\end{References}\n",
       "%\n",
       "\\begin{SeeAlso}\\relax\n",
       "\\code{\\LinkA{if}{if}}, \\code{\\LinkA{return}{return}}, etc for other objects used in\n",
       "the \\R{} language itself.\n",
       "\n",
       "\\code{\\LinkA{Syntax}{Syntax}} for operator precedence.\n",
       "\\end{SeeAlso}\n",
       "%\n",
       "\\begin{Examples}\n",
       "\\begin{ExampleCode}\n",
       "f <- get(\"(\")\n",
       "e <- expression(3 + 2 * 4)\n",
       "identical(f(e), e)\n",
       "\n",
       "do <- get(\"{\")\n",
       "do(x <- 3, y <- 2*x-3, 6-x-y); x; y\n",
       "\n",
       "## note the differences\n",
       "(2+3)\n",
       "{2+3; 4+5}\n",
       "(invisible(2+3))\n",
       "{invisible(2+3)}\n",
       "\\end{ExampleCode}\n",
       "\\end{Examples}"
      ],
      "text/plain": [
       "Paren                   package:base                   R Documentation\n",
       "\n",
       "_\bP_\ba_\br_\be_\bn_\bt_\bh_\be_\bs_\be_\bs _\ba_\bn_\bd _\bB_\br_\ba_\bc_\be_\bs\n",
       "\n",
       "_\bD_\be_\bs_\bc_\br_\bi_\bp_\bt_\bi_\bo_\bn:\n",
       "\n",
       "     Open parenthesis, '(', and open brace, '{', are '.Primitive'\n",
       "     functions in R.\n",
       "\n",
       "     Effectively, '(' is semantically equivalent to the identity\n",
       "     'function(x) x', whereas '{' is slightly more interesting, see\n",
       "     examples.\n",
       "\n",
       "_\bU_\bs_\ba_\bg_\be:\n",
       "\n",
       "     ( ... )\n",
       "     \n",
       "     { ... }\n",
       "     \n",
       "_\bV_\ba_\bl_\bu_\be:\n",
       "\n",
       "     For '(', the result of evaluating the argument.  This has\n",
       "     visibility set, so will auto-print if used at top-level.\n",
       "\n",
       "     For '{', the result of the last expression evaluated.  This has\n",
       "     the visibility of the last evaluation.\n",
       "\n",
       "_\bR_\be_\bf_\be_\br_\be_\bn_\bc_\be_\bs:\n",
       "\n",
       "     Becker, R. A., Chambers, J. M. and Wilks, A. R. (1988) _The New S\n",
       "     Language_.  Wadsworth & Brooks/Cole.\n",
       "\n",
       "_\bS_\be_\be _\bA_\bl_\bs_\bo:\n",
       "\n",
       "     'if', 'return', etc for other objects used in the R language\n",
       "     itself.\n",
       "\n",
       "     'Syntax' for operator precedence.\n",
       "\n",
       "_\bE_\bx_\ba_\bm_\bp_\bl_\be_\bs:\n",
       "\n",
       "     f <- get(\"(\")\n",
       "     e <- expression(3 + 2 * 4)\n",
       "     identical(f(e), e)\n",
       "     \n",
       "     do <- get(\"{\")\n",
       "     do(x <- 3, y <- 2*x-3, 6-x-y); x; y\n",
       "     \n",
       "     ## note the differences\n",
       "     (2+3)\n",
       "     {2+3; 4+5}\n",
       "     (invisible(2+3))\n",
       "     {invisible(2+3)}\n",
       "     "
      ]
     },
     "metadata": {},
     "output_type": "display_data"
    }
   ],
   "source": [
    "?{}"
   ]
  },
  {
   "cell_type": "code",
   "execution_count": 25,
   "id": "e87c44d6-f32d-469d-ae0c-998398c1f400",
   "metadata": {},
   "outputs": [],
   "source": [
    "display_hello_world <- function(){\n",
    "    message(\"Hello World!\")\n",
    "}"
   ]
  },
  {
   "cell_type": "code",
   "execution_count": 29,
   "id": "6050af46-55bb-4c26-92d4-d464197ed0ec",
   "metadata": {},
   "outputs": [
    {
     "data": {
      "text/html": [
       "<pre class=language-r><code>function () \n",
       "{\n",
       "<span style=white-space:pre-wrap>    message(\"Hello World!\")</span>\n",
       "}</code></pre>"
      ],
      "text/latex": [
       "\\begin{minted}{r}\n",
       "function () \n",
       "\\{\n",
       "    message(\"Hello World!\")\n",
       "\\}\n",
       "\\end{minted}"
      ],
      "text/markdown": [
       "```r\n",
       "function () \n",
       "{\n",
       "    message(\"Hello World!\")\n",
       "}\n",
       "```"
      ],
      "text/plain": [
       "function(){\n",
       "    message(\"Hello World!\")\n",
       "}"
      ]
     },
     "metadata": {},
     "output_type": "display_data"
    }
   ],
   "source": [
    "display_hello_world"
   ]
  },
  {
   "cell_type": "code",
   "execution_count": 31,
   "id": "37704ea7-02bf-4710-9ee9-bbfdc115a9e4",
   "metadata": {},
   "outputs": [
    {
     "name": "stderr",
     "output_type": "stream",
     "text": [
      "Hello World!\n"
     ]
    }
   ],
   "source": [
    "display_hello_world()"
   ]
  },
  {
   "cell_type": "code",
   "execution_count": 33,
   "id": "43ea5ec6-45e5-433b-996b-7bb7dd7269f9",
   "metadata": {},
   "outputs": [
    {
     "name": "stdout",
     "output_type": "stream",
     "text": [
      "function(){\n",
      "    message(\"Hello World!\")\n",
      "}\n",
      "<bytecode: 0x0000000064417988>\n"
     ]
    }
   ],
   "source": [
    "print(display_hello_world)"
   ]
  },
  {
   "cell_type": "code",
   "execution_count": 35,
   "id": "c33eecbb-8f2f-47df-94dc-0cb1c5a9aae4",
   "metadata": {},
   "outputs": [
    {
     "name": "stderr",
     "output_type": "stream",
     "text": [
      "Hello World!\n"
     ]
    },
    {
     "name": "stdout",
     "output_type": "stream",
     "text": [
      "NULL\n"
     ]
    }
   ],
   "source": [
    "print(display_hello_world())"
   ]
  },
  {
   "cell_type": "code",
   "execution_count": 37,
   "id": "4cbae355-8f87-4540-993e-20d9e60c903a",
   "metadata": {},
   "outputs": [
    {
     "ename": "ERROR",
     "evalue": "Error in eval(expr, envir, enclos): object 'compute_sqaure' not found\n",
     "output_type": "error",
     "traceback": [
      "Error in eval(expr, envir, enclos): object 'compute_sqaure' not found\nTraceback:\n"
     ]
    }
   ],
   "source": [
    "compute_sqaure"
   ]
  },
  {
   "cell_type": "code",
   "execution_count": 69,
   "id": "a4bf3bc4-b850-494e-a40b-05c3054007e7",
   "metadata": {},
   "outputs": [],
   "source": [
    "compute_sqaure <- function(x){\n",
    "    message(sprintf(\"Number: %d, Square: %d\", x, x^2))\n",
    "}"
   ]
  },
  {
   "cell_type": "code",
   "execution_count": 71,
   "id": "50bd194e-af39-4f9a-867f-2e5b5b834adb",
   "metadata": {},
   "outputs": [
    {
     "data": {
      "text/html": [
       "<pre class=language-r><code>function (x) \n",
       "{\n",
       "<span style=white-space:pre-wrap>    message(sprintf(\"Number: %d, Square: %d\", x, x^2))</span>\n",
       "}</code></pre>"
      ],
      "text/latex": [
       "\\begin{minted}{r}\n",
       "function (x) \n",
       "\\{\n",
       "    message(sprintf(\"Number: \\%d, Square: \\%d\", x, x\\textasciicircum{}2))\n",
       "\\}\n",
       "\\end{minted}"
      ],
      "text/markdown": [
       "```r\n",
       "function (x) \n",
       "{\n",
       "    message(sprintf(\"Number: %d, Square: %d\", x, x^2))\n",
       "}\n",
       "```"
      ],
      "text/plain": [
       "function(x){\n",
       "    message(sprintf(\"Number: %d, Square: %d\", x, x^2))\n",
       "}"
      ]
     },
     "metadata": {},
     "output_type": "display_data"
    }
   ],
   "source": [
    "compute_sqaure"
   ]
  },
  {
   "cell_type": "code",
   "execution_count": 73,
   "id": "d57f852d-f348-4215-aaee-91fde9a91acf",
   "metadata": {},
   "outputs": [
    {
     "ename": "ERROR",
     "evalue": "Error in sprintf(\"Number: %d, Square: %d\", x, x^2): argument \"x\" is missing, with no default\n",
     "output_type": "error",
     "traceback": [
      "Error in sprintf(\"Number: %d, Square: %d\", x, x^2): argument \"x\" is missing, with no default\nTraceback:\n",
      "1. compute_sqaure()",
      "2. message(sprintf(\"Number: %d, Square: %d\", x, x^2))   # at line 2 of file <text>",
      "3. sprintf(\"Number: %d, Square: %d\", x, x^2)"
     ]
    }
   ],
   "source": [
    "compute_sqaure()"
   ]
  },
  {
   "cell_type": "code",
   "execution_count": 75,
   "id": "a2baf78f-164c-48c4-b966-c42a29036284",
   "metadata": {},
   "outputs": [
    {
     "name": "stderr",
     "output_type": "stream",
     "text": [
      "Number: 5, Square: 25\n"
     ]
    }
   ],
   "source": [
    "compute_sqaure(5)"
   ]
  },
  {
   "cell_type": "code",
   "execution_count": 77,
   "id": "0613d2a5-5c68-4a37-acc4-9fc4af686457",
   "metadata": {},
   "outputs": [
    {
     "name": "stderr",
     "output_type": "stream",
     "text": [
      "Number: 77, Square: 5929\n"
     ]
    }
   ],
   "source": [
    "compute_sqaure(77)"
   ]
  },
  {
   "cell_type": "code",
   "execution_count": 79,
   "id": "3b16ee06-72ba-48df-bfde-ec884b7c1d58",
   "metadata": {},
   "outputs": [
    {
     "name": "stderr",
     "output_type": "stream",
     "text": [
      "Number: 8, Square: 64\n"
     ]
    },
    {
     "data": {
      "text/plain": [
       "NULL"
      ]
     },
     "metadata": {},
     "output_type": "display_data"
    }
   ],
   "source": [
    "result <- compute_sqaure(8)\n",
    "result"
   ]
  },
  {
   "cell_type": "code",
   "execution_count": 81,
   "id": "80a9f445-5c4f-4b44-a693-95213c97a551",
   "metadata": {},
   "outputs": [],
   "source": [
    "compute_sqaure <- function(x) {\n",
    "    return (x^2)\n",
    "}\n",
    "result <- compute_sqaure(5)"
   ]
  },
  {
   "cell_type": "code",
   "execution_count": 83,
   "id": "a333a6d1-c03a-4b3e-b783-46872ccf5fff",
   "metadata": {},
   "outputs": [
    {
     "data": {
      "text/html": [
       "25"
      ],
      "text/latex": [
       "25"
      ],
      "text/markdown": [
       "25"
      ],
      "text/plain": [
       "[1] 25"
      ]
     },
     "metadata": {},
     "output_type": "display_data"
    }
   ],
   "source": [
    "result"
   ]
  },
  {
   "cell_type": "code",
   "execution_count": 85,
   "id": "4254c410-6ad3-4d54-baf5-e0d43375e718",
   "metadata": {},
   "outputs": [
    {
     "data": {
      "text/html": [
       "125"
      ],
      "text/latex": [
       "125"
      ],
      "text/markdown": [
       "125"
      ],
      "text/plain": [
       "[1] 125"
      ]
     },
     "metadata": {},
     "output_type": "display_data"
    }
   ],
   "source": [
    "compute_cube <- function(x) {\n",
    "    x ** 3\n",
    "}\n",
    "result <- compute_cube(5)\n",
    "result"
   ]
  },
  {
   "cell_type": "code",
   "execution_count": 93,
   "id": "6ef57212-ff83-4a6d-a526-e297d97e0def",
   "metadata": {},
   "outputs": [],
   "source": [
    "create_student <- function(id, name, gpa) {\n",
    "    details <- list(ids = id, names = name, grades = gpa)\n",
    "    details\n",
    "}"
   ]
  },
  {
   "cell_type": "code",
   "execution_count": 95,
   "id": "089f34e2-9ffe-43fc-986d-8d68a677bd82",
   "metadata": {},
   "outputs": [
    {
     "data": {
      "text/html": [
       "<dl>\n",
       "\t<dt>$ids</dt>\n",
       "\t\t<dd>1002</dd>\n",
       "\t<dt>$names</dt>\n",
       "\t\t<dd>'Fred'</dd>\n",
       "\t<dt>$grades</dt>\n",
       "\t\t<dd>7.6</dd>\n",
       "</dl>\n"
      ],
      "text/latex": [
       "\\begin{description}\n",
       "\\item[\\$ids] 1002\n",
       "\\item[\\$names] 'Fred'\n",
       "\\item[\\$grades] 7.6\n",
       "\\end{description}\n"
      ],
      "text/markdown": [
       "$ids\n",
       ":   1002\n",
       "$names\n",
       ":   'Fred'\n",
       "$grades\n",
       ":   7.6\n",
       "\n",
       "\n"
      ],
      "text/plain": [
       "$ids\n",
       "[1] 1002\n",
       "\n",
       "$names\n",
       "[1] \"Fred\"\n",
       "\n",
       "$grades\n",
       "[1] 7.6\n"
      ]
     },
     "metadata": {},
     "output_type": "display_data"
    }
   ],
   "source": [
    "student.fred <- create_student(1002, \"Fred\", 7.6)\n",
    "student.fred"
   ]
  },
  {
   "cell_type": "code",
   "execution_count": 97,
   "id": "df642112-f506-4797-a80d-a5a91d730f82",
   "metadata": {},
   "outputs": [
    {
     "data": {
      "text/html": [
       "<dl>\n",
       "\t<dt>$ids</dt>\n",
       "\t\t<dd>1003</dd>\n",
       "\t<dt>$names</dt>\n",
       "\t\t<dd>'Mark'</dd>\n",
       "\t<dt>$grades</dt>\n",
       "\t\t<dd>8.6</dd>\n",
       "</dl>\n"
      ],
      "text/latex": [
       "\\begin{description}\n",
       "\\item[\\$ids] 1003\n",
       "\\item[\\$names] 'Mark'\n",
       "\\item[\\$grades] 8.6\n",
       "\\end{description}\n"
      ],
      "text/markdown": [
       "$ids\n",
       ":   1003\n",
       "$names\n",
       ":   'Mark'\n",
       "$grades\n",
       ":   8.6\n",
       "\n",
       "\n"
      ],
      "text/plain": [
       "$ids\n",
       "[1] 1003\n",
       "\n",
       "$names\n",
       "[1] \"Mark\"\n",
       "\n",
       "$grades\n",
       "[1] 8.6\n"
      ]
     },
     "metadata": {},
     "output_type": "display_data"
    }
   ],
   "source": [
    "student.mark <- create_student(1003, \"Mark\", 8.6)\n",
    "student.mark"
   ]
  },
  {
   "cell_type": "code",
   "execution_count": 111,
   "id": "f5a18710-1e0a-4388-b1b2-2ad0fed768c2",
   "metadata": {},
   "outputs": [],
   "source": [
    "append_student_row <- function(df, id, name, gpa) {\n",
    "    student.list <- create_student(id, name, gpa)\n",
    "    df <- rbind(df, student.list)\n",
    "    return(df)\n",
    "}"
   ]
  },
  {
   "cell_type": "code",
   "execution_count": 113,
   "id": "5575d6c4-3013-426a-9005-4f0158ea80d8",
   "metadata": {},
   "outputs": [
    {
     "data": {
      "text/html": [
       "<table>\n",
       "<thead><tr><th scope=col>ids</th><th scope=col>names</th><th scope=col>grades</th></tr></thead>\n",
       "<tbody>\n",
       "\t<tr><td>1      </td><td>Alice  </td><td>90     </td></tr>\n",
       "\t<tr><td>2      </td><td>Bob    </td><td>85     </td></tr>\n",
       "\t<tr><td>3      </td><td>Charlie</td><td>92     </td></tr>\n",
       "\t<tr><td>4      </td><td>David  </td><td>78     </td></tr>\n",
       "\t<tr><td>5      </td><td>Eve    </td><td>88     </td></tr>\n",
       "</tbody>\n",
       "</table>\n"
      ],
      "text/latex": [
       "\\begin{tabular}{r|lll}\n",
       " ids & names & grades\\\\\n",
       "\\hline\n",
       "\t 1       & Alice   & 90     \\\\\n",
       "\t 2       & Bob     & 85     \\\\\n",
       "\t 3       & Charlie & 92     \\\\\n",
       "\t 4       & David   & 78     \\\\\n",
       "\t 5       & Eve     & 88     \\\\\n",
       "\\end{tabular}\n"
      ],
      "text/markdown": [
       "\n",
       "| ids | names | grades |\n",
       "|---|---|---|\n",
       "| 1       | Alice   | 90      |\n",
       "| 2       | Bob     | 85      |\n",
       "| 3       | Charlie | 92      |\n",
       "| 4       | David   | 78      |\n",
       "| 5       | Eve     | 88      |\n",
       "\n"
      ],
      "text/plain": [
       "  ids names   grades\n",
       "1 1   Alice   90    \n",
       "2 2   Bob     85    \n",
       "3 3   Charlie 92    \n",
       "4 4   David   78    \n",
       "5 5   Eve     88    "
      ]
     },
     "metadata": {},
     "output_type": "display_data"
    }
   ],
   "source": [
    "ids <- c(1, 2, 3, 4, 5)\n",
    "names <- c(\"Alice\", \"Bob\", \"Charlie\", \"David\", \"Eve\")\n",
    "grades <- c(90, 85, 92, 78, 88)\n",
    "\n",
    "students.df <- data.frame(ids, names, grades, stringsAsFactors = FALSE)\n",
    "students.df"
   ]
  },
  {
   "cell_type": "code",
   "execution_count": 121,
   "id": "379131ea-8ce6-48e2-9e82-405902961e7e",
   "metadata": {},
   "outputs": [
    {
     "data": {
      "text/html": [
       "<table>\n",
       "<thead><tr><th scope=col>ids</th><th scope=col>names</th><th scope=col>grades</th></tr></thead>\n",
       "<tbody>\n",
       "\t<tr><td>1      </td><td>Alice  </td><td>90     </td></tr>\n",
       "\t<tr><td>2      </td><td>Bob    </td><td>85     </td></tr>\n",
       "\t<tr><td>3      </td><td>Charlie</td><td>92     </td></tr>\n",
       "\t<tr><td>4      </td><td>David  </td><td>78     </td></tr>\n",
       "\t<tr><td>5      </td><td>Eve    </td><td>88     </td></tr>\n",
       "\t<tr><td>6      </td><td>Mark   </td><td>89     </td></tr>\n",
       "\t<tr><td>6      </td><td>Mark   </td><td>89     </td></tr>\n",
       "</tbody>\n",
       "</table>\n"
      ],
      "text/latex": [
       "\\begin{tabular}{r|lll}\n",
       " ids & names & grades\\\\\n",
       "\\hline\n",
       "\t 1       & Alice   & 90     \\\\\n",
       "\t 2       & Bob     & 85     \\\\\n",
       "\t 3       & Charlie & 92     \\\\\n",
       "\t 4       & David   & 78     \\\\\n",
       "\t 5       & Eve     & 88     \\\\\n",
       "\t 6       & Mark    & 89     \\\\\n",
       "\t 6       & Mark    & 89     \\\\\n",
       "\\end{tabular}\n"
      ],
      "text/markdown": [
       "\n",
       "| ids | names | grades |\n",
       "|---|---|---|\n",
       "| 1       | Alice   | 90      |\n",
       "| 2       | Bob     | 85      |\n",
       "| 3       | Charlie | 92      |\n",
       "| 4       | David   | 78      |\n",
       "| 5       | Eve     | 88      |\n",
       "| 6       | Mark    | 89      |\n",
       "| 6       | Mark    | 89      |\n",
       "\n"
      ],
      "text/plain": [
       "  ids names   grades\n",
       "1 1   Alice   90    \n",
       "2 2   Bob     85    \n",
       "3 3   Charlie 92    \n",
       "4 4   David   78    \n",
       "5 5   Eve     88    \n",
       "6 6   Mark    89    \n",
       "7 6   Mark    89    "
      ]
     },
     "metadata": {},
     "output_type": "display_data"
    }
   ],
   "source": [
    "students.df <- append_student_row(students.df, 6, 'Mark', 89)\n",
    "students.df"
   ]
  },
  {
   "cell_type": "code",
   "execution_count": 123,
   "id": "c28c2a7f-c286-48c9-873c-7f232ab7bb2f",
   "metadata": {},
   "outputs": [
    {
     "data": {
      "text/html": [
       "<table>\n",
       "<thead><tr><th></th><th scope=col>ids</th><th scope=col>names</th><th scope=col>grades</th></tr></thead>\n",
       "<tbody>\n",
       "\t<tr><th scope=row>df</th><td>6</td><td>6</td><td>6</td></tr>\n",
       "\t<tr><th scope=row>student.list</th><td>Mark                                                                                                                                                                                       </td><td>89                                                                                                                                                                                         </td><td>1      , 2      , 3      , 4      , 5      , 6      , 6      , Alice  , Bob    , Charlie, David  , Eve    , Mark   , Mark   , 90     , 85     , 92     , 78     , 88     , 89     , 89     </td></tr>\n",
       "</tbody>\n",
       "</table>\n"
      ],
      "text/latex": [
       "\\begin{tabular}{r|lll}\n",
       "  & ids & names & grades\\\\\n",
       "\\hline\n",
       "\tdf & 6 & 6 & 6\\\\\n",
       "\tstudent.list & Mark                                                                                                                                                                                        & 89                                                                                                                                                                                          & 1      , 2      , 3      , 4      , 5      , 6      , 6      , Alice  , Bob    , Charlie, David  , Eve    , Mark   , Mark   , 90     , 85     , 92     , 78     , 88     , 89     , 89     \\\\\n",
       "\\end{tabular}\n"
      ],
      "text/markdown": [
       "\n",
       "| <!--/--> | ids | names | grades |\n",
       "|---|---|---|---|\n",
       "| df | 6 | 6 | 6 |\n",
       "| student.list | Mark                                                                                                                                                                                        | 89                                                                                                                                                                                          | 1      , 2      , 3      , 4      , 5      , 6      , 6      , Alice  , Bob    , Charlie, David  , Eve    , Mark   , Mark   , 90     , 85     , 92     , 78     , 88     , 89     , 89      |\n",
       "\n"
      ],
      "text/plain": [
       "             ids  names\n",
       "df           6    6    \n",
       "student.list Mark 89   \n",
       "             grades                                                                                                                                                                                     \n",
       "df           6                                                                                                                                                                                          \n",
       "student.list 1      , 2      , 3      , 4      , 5      , 6      , 6      , Alice  , Bob    , Charlie, David  , Eve    , Mark   , Mark   , 90     , 85     , 92     , 78     , 88     , 89     , 89     "
      ]
     },
     "metadata": {},
     "output_type": "display_data"
    }
   ],
   "source": [
    "students.df <- append_student_row(6, 'Mark', 89, students.df)\n",
    "students.df"
   ]
  },
  {
   "cell_type": "code",
   "execution_count": 125,
   "id": "7e9273d1-3153-4b75-9473-199f27b5c22e",
   "metadata": {},
   "outputs": [
    {
     "data": {
      "text/html": [
       "<table>\n",
       "<thead><tr><th scope=col>ids</th><th scope=col>names</th><th scope=col>grades</th></tr></thead>\n",
       "<tbody>\n",
       "\t<tr><td>1      </td><td>Alice  </td><td>90     </td></tr>\n",
       "\t<tr><td>2      </td><td>Bob    </td><td>85     </td></tr>\n",
       "\t<tr><td>3      </td><td>Charlie</td><td>92     </td></tr>\n",
       "\t<tr><td>4      </td><td>David  </td><td>78     </td></tr>\n",
       "\t<tr><td>5      </td><td>Eve    </td><td>88     </td></tr>\n",
       "</tbody>\n",
       "</table>\n"
      ],
      "text/latex": [
       "\\begin{tabular}{r|lll}\n",
       " ids & names & grades\\\\\n",
       "\\hline\n",
       "\t 1       & Alice   & 90     \\\\\n",
       "\t 2       & Bob     & 85     \\\\\n",
       "\t 3       & Charlie & 92     \\\\\n",
       "\t 4       & David   & 78     \\\\\n",
       "\t 5       & Eve     & 88     \\\\\n",
       "\\end{tabular}\n"
      ],
      "text/markdown": [
       "\n",
       "| ids | names | grades |\n",
       "|---|---|---|\n",
       "| 1       | Alice   | 90      |\n",
       "| 2       | Bob     | 85      |\n",
       "| 3       | Charlie | 92      |\n",
       "| 4       | David   | 78      |\n",
       "| 5       | Eve     | 88      |\n",
       "\n"
      ],
      "text/plain": [
       "  ids names   grades\n",
       "1 1   Alice   90    \n",
       "2 2   Bob     85    \n",
       "3 3   Charlie 92    \n",
       "4 4   David   78    \n",
       "5 5   Eve     88    "
      ]
     },
     "metadata": {},
     "output_type": "display_data"
    }
   ],
   "source": [
    "ids <- c(1, 2, 3, 4, 5)\n",
    "names <- c(\"Alice\", \"Bob\", \"Charlie\", \"David\", \"Eve\")\n",
    "grades <- c(90, 85, 92, 78, 88)\n",
    "\n",
    "students.df <- data.frame(ids, names, grades, stringsAsFactors = FALSE)\n",
    "students.df"
   ]
  },
  {
   "cell_type": "code",
   "execution_count": 127,
   "id": "faff02ff-1208-41f2-82ce-500de8a98f66",
   "metadata": {},
   "outputs": [
    {
     "data": {
      "text/plain": [
       "$df\n",
       "\n",
       "\n",
       "$id\n",
       "\n",
       "\n",
       "$name\n",
       "\n",
       "\n",
       "$gpa\n",
       "\n"
      ]
     },
     "metadata": {},
     "output_type": "display_data"
    }
   ],
   "source": [
    "formals(append_student_row)"
   ]
  },
  {
   "cell_type": "code",
   "execution_count": 133,
   "id": "1d99a32e-b3ab-4512-94f0-d03873478e86",
   "metadata": {},
   "outputs": [],
   "source": [
    "#default parameters\n",
    "append_student_row <- function(df, id, name='unknown', gpa=0) {\n",
    "    student.list <- create_student(id, name, gpa)\n",
    "    df <- rbind(df, student.list)\n",
    "    return(df)\n",
    "}"
   ]
  },
  {
   "cell_type": "code",
   "execution_count": 135,
   "id": "8132c407-47b3-424d-be06-23f23de443ad",
   "metadata": {},
   "outputs": [
    {
     "data": {
      "text/html": [
       "<table>\n",
       "<thead><tr><th scope=col>ids</th><th scope=col>names</th><th scope=col>grades</th></tr></thead>\n",
       "<tbody>\n",
       "\t<tr><td>1      </td><td>Alice  </td><td>90     </td></tr>\n",
       "\t<tr><td>2      </td><td>Bob    </td><td>85     </td></tr>\n",
       "\t<tr><td>3      </td><td>Charlie</td><td>92     </td></tr>\n",
       "\t<tr><td>4      </td><td>David  </td><td>78     </td></tr>\n",
       "\t<tr><td>5      </td><td>Eve    </td><td>88     </td></tr>\n",
       "\t<tr><td>6      </td><td>unknown</td><td> 0     </td></tr>\n",
       "\t<tr><td>6      </td><td>unknown</td><td> 0     </td></tr>\n",
       "</tbody>\n",
       "</table>\n"
      ],
      "text/latex": [
       "\\begin{tabular}{r|lll}\n",
       " ids & names & grades\\\\\n",
       "\\hline\n",
       "\t 1       & Alice   & 90     \\\\\n",
       "\t 2       & Bob     & 85     \\\\\n",
       "\t 3       & Charlie & 92     \\\\\n",
       "\t 4       & David   & 78     \\\\\n",
       "\t 5       & Eve     & 88     \\\\\n",
       "\t 6       & unknown &  0     \\\\\n",
       "\t 6       & unknown &  0     \\\\\n",
       "\\end{tabular}\n"
      ],
      "text/markdown": [
       "\n",
       "| ids | names | grades |\n",
       "|---|---|---|\n",
       "| 1       | Alice   | 90      |\n",
       "| 2       | Bob     | 85      |\n",
       "| 3       | Charlie | 92      |\n",
       "| 4       | David   | 78      |\n",
       "| 5       | Eve     | 88      |\n",
       "| 6       | unknown |  0      |\n",
       "| 6       | unknown |  0      |\n",
       "\n"
      ],
      "text/plain": [
       "  ids names   grades\n",
       "1 1   Alice   90    \n",
       "2 2   Bob     85    \n",
       "3 3   Charlie 92    \n",
       "4 4   David   78    \n",
       "5 5   Eve     88    \n",
       "6 6   unknown  0    \n",
       "7 6   unknown  0    "
      ]
     },
     "metadata": {},
     "output_type": "display_data"
    }
   ],
   "source": [
    "students.df <- append_student_row(students.df, 6)\n",
    "students.df"
   ]
  },
  {
   "cell_type": "code",
   "execution_count": 149,
   "id": "1689cf60-104c-4f7a-a0e1-f87d85bf8f38",
   "metadata": {},
   "outputs": [],
   "source": [
    "tag_above_below <- function(numeric.vector, threshold = median(numeric.vector)) {\n",
    "    cat(\"Threshold is: \", threshold)\n",
    "    df <- data.frame(values = numeric.vector)\n",
    "    df$above <- ifelse(numeric.vector > threshold, TRUE, FALSE)\n",
    "    df\n",
    "}"
   ]
  },
  {
   "cell_type": "code",
   "execution_count": 151,
   "id": "02ea33b3-90a6-4d80-aa64-30935c03a5c2",
   "metadata": {},
   "outputs": [
    {
     "data": {
      "text/html": [
       "<ol class=list-inline>\n",
       "\t<li>7</li>\n",
       "\t<li>8</li>\n",
       "\t<li>9</li>\n",
       "\t<li>6</li>\n",
       "\t<li>4</li>\n",
       "\t<li>5</li>\n",
       "\t<li>6</li>\n",
       "\t<li>84</li>\n",
       "\t<li>2</li>\n",
       "\t<li>7</li>\n",
       "\t<li>8</li>\n",
       "\t<li>63</li>\n",
       "\t<li>2</li>\n",
       "\t<li>77</li>\n",
       "\t<li>8</li>\n",
       "\t<li>95</li>\n",
       "\t<li>1</li>\n",
       "</ol>\n"
      ],
      "text/latex": [
       "\\begin{enumerate*}\n",
       "\\item 7\n",
       "\\item 8\n",
       "\\item 9\n",
       "\\item 6\n",
       "\\item 4\n",
       "\\item 5\n",
       "\\item 6\n",
       "\\item 84\n",
       "\\item 2\n",
       "\\item 7\n",
       "\\item 8\n",
       "\\item 63\n",
       "\\item 2\n",
       "\\item 77\n",
       "\\item 8\n",
       "\\item 95\n",
       "\\item 1\n",
       "\\end{enumerate*}\n"
      ],
      "text/markdown": [
       "1. 7\n",
       "2. 8\n",
       "3. 9\n",
       "4. 6\n",
       "5. 4\n",
       "6. 5\n",
       "7. 6\n",
       "8. 84\n",
       "9. 2\n",
       "10. 7\n",
       "11. 8\n",
       "12. 63\n",
       "13. 2\n",
       "14. 77\n",
       "15. 8\n",
       "16. 95\n",
       "17. 1\n",
       "\n",
       "\n"
      ],
      "text/plain": [
       " [1]  7  8  9  6  4  5  6 84  2  7  8 63  2 77  8 95  1"
      ]
     },
     "metadata": {},
     "output_type": "display_data"
    }
   ],
   "source": [
    "num <- c(7,8,9,6,4,5,6,84,2,7,8,63,2,77,8,95,1)\n",
    "num"
   ]
  },
  {
   "cell_type": "code",
   "execution_count": 153,
   "id": "8320512e-f7bf-4556-80a4-dfca74f144e1",
   "metadata": {},
   "outputs": [
    {
     "name": "stdout",
     "output_type": "stream",
     "text": [
      "Threshold is:  50"
     ]
    },
    {
     "data": {
      "text/html": [
       "<table>\n",
       "<thead><tr><th scope=col>values</th><th scope=col>above</th></tr></thead>\n",
       "<tbody>\n",
       "\t<tr><td> 7   </td><td>FALSE</td></tr>\n",
       "\t<tr><td> 8   </td><td>FALSE</td></tr>\n",
       "\t<tr><td> 9   </td><td>FALSE</td></tr>\n",
       "\t<tr><td> 6   </td><td>FALSE</td></tr>\n",
       "\t<tr><td> 4   </td><td>FALSE</td></tr>\n",
       "\t<tr><td> 5   </td><td>FALSE</td></tr>\n",
       "\t<tr><td> 6   </td><td>FALSE</td></tr>\n",
       "\t<tr><td>84   </td><td> TRUE</td></tr>\n",
       "\t<tr><td> 2   </td><td>FALSE</td></tr>\n",
       "\t<tr><td> 7   </td><td>FALSE</td></tr>\n",
       "\t<tr><td> 8   </td><td>FALSE</td></tr>\n",
       "\t<tr><td>63   </td><td> TRUE</td></tr>\n",
       "\t<tr><td> 2   </td><td>FALSE</td></tr>\n",
       "\t<tr><td>77   </td><td> TRUE</td></tr>\n",
       "\t<tr><td> 8   </td><td>FALSE</td></tr>\n",
       "\t<tr><td>95   </td><td> TRUE</td></tr>\n",
       "\t<tr><td> 1   </td><td>FALSE</td></tr>\n",
       "</tbody>\n",
       "</table>\n"
      ],
      "text/latex": [
       "\\begin{tabular}{r|ll}\n",
       " values & above\\\\\n",
       "\\hline\n",
       "\t  7    & FALSE\\\\\n",
       "\t  8    & FALSE\\\\\n",
       "\t  9    & FALSE\\\\\n",
       "\t  6    & FALSE\\\\\n",
       "\t  4    & FALSE\\\\\n",
       "\t  5    & FALSE\\\\\n",
       "\t  6    & FALSE\\\\\n",
       "\t 84    &  TRUE\\\\\n",
       "\t  2    & FALSE\\\\\n",
       "\t  7    & FALSE\\\\\n",
       "\t  8    & FALSE\\\\\n",
       "\t 63    &  TRUE\\\\\n",
       "\t  2    & FALSE\\\\\n",
       "\t 77    &  TRUE\\\\\n",
       "\t  8    & FALSE\\\\\n",
       "\t 95    &  TRUE\\\\\n",
       "\t  1    & FALSE\\\\\n",
       "\\end{tabular}\n"
      ],
      "text/markdown": [
       "\n",
       "| values | above |\n",
       "|---|---|\n",
       "|  7    | FALSE |\n",
       "|  8    | FALSE |\n",
       "|  9    | FALSE |\n",
       "|  6    | FALSE |\n",
       "|  4    | FALSE |\n",
       "|  5    | FALSE |\n",
       "|  6    | FALSE |\n",
       "| 84    |  TRUE |\n",
       "|  2    | FALSE |\n",
       "|  7    | FALSE |\n",
       "|  8    | FALSE |\n",
       "| 63    |  TRUE |\n",
       "|  2    | FALSE |\n",
       "| 77    |  TRUE |\n",
       "|  8    | FALSE |\n",
       "| 95    |  TRUE |\n",
       "|  1    | FALSE |\n",
       "\n"
      ],
      "text/plain": [
       "   values above\n",
       "1   7     FALSE\n",
       "2   8     FALSE\n",
       "3   9     FALSE\n",
       "4   6     FALSE\n",
       "5   4     FALSE\n",
       "6   5     FALSE\n",
       "7   6     FALSE\n",
       "8  84      TRUE\n",
       "9   2     FALSE\n",
       "10  7     FALSE\n",
       "11  8     FALSE\n",
       "12 63      TRUE\n",
       "13  2     FALSE\n",
       "14 77      TRUE\n",
       "15  8     FALSE\n",
       "16 95      TRUE\n",
       "17  1     FALSE"
      ]
     },
     "metadata": {},
     "output_type": "display_data"
    }
   ],
   "source": [
    "tag_above_below(num, 50)"
   ]
  },
  {
   "cell_type": "code",
   "execution_count": 155,
   "id": "c7f66101-25be-4d2f-9c9e-184d7f310b72",
   "metadata": {},
   "outputs": [
    {
     "name": "stdout",
     "output_type": "stream",
     "text": [
      "Threshold is:  7"
     ]
    },
    {
     "data": {
      "text/html": [
       "<table>\n",
       "<thead><tr><th scope=col>values</th><th scope=col>above</th></tr></thead>\n",
       "<tbody>\n",
       "\t<tr><td> 7   </td><td>FALSE</td></tr>\n",
       "\t<tr><td> 8   </td><td> TRUE</td></tr>\n",
       "\t<tr><td> 9   </td><td> TRUE</td></tr>\n",
       "\t<tr><td> 6   </td><td>FALSE</td></tr>\n",
       "\t<tr><td> 4   </td><td>FALSE</td></tr>\n",
       "\t<tr><td> 5   </td><td>FALSE</td></tr>\n",
       "\t<tr><td> 6   </td><td>FALSE</td></tr>\n",
       "\t<tr><td>84   </td><td> TRUE</td></tr>\n",
       "\t<tr><td> 2   </td><td>FALSE</td></tr>\n",
       "\t<tr><td> 7   </td><td>FALSE</td></tr>\n",
       "\t<tr><td> 8   </td><td> TRUE</td></tr>\n",
       "\t<tr><td>63   </td><td> TRUE</td></tr>\n",
       "\t<tr><td> 2   </td><td>FALSE</td></tr>\n",
       "\t<tr><td>77   </td><td> TRUE</td></tr>\n",
       "\t<tr><td> 8   </td><td> TRUE</td></tr>\n",
       "\t<tr><td>95   </td><td> TRUE</td></tr>\n",
       "\t<tr><td> 1   </td><td>FALSE</td></tr>\n",
       "</tbody>\n",
       "</table>\n"
      ],
      "text/latex": [
       "\\begin{tabular}{r|ll}\n",
       " values & above\\\\\n",
       "\\hline\n",
       "\t  7    & FALSE\\\\\n",
       "\t  8    &  TRUE\\\\\n",
       "\t  9    &  TRUE\\\\\n",
       "\t  6    & FALSE\\\\\n",
       "\t  4    & FALSE\\\\\n",
       "\t  5    & FALSE\\\\\n",
       "\t  6    & FALSE\\\\\n",
       "\t 84    &  TRUE\\\\\n",
       "\t  2    & FALSE\\\\\n",
       "\t  7    & FALSE\\\\\n",
       "\t  8    &  TRUE\\\\\n",
       "\t 63    &  TRUE\\\\\n",
       "\t  2    & FALSE\\\\\n",
       "\t 77    &  TRUE\\\\\n",
       "\t  8    &  TRUE\\\\\n",
       "\t 95    &  TRUE\\\\\n",
       "\t  1    & FALSE\\\\\n",
       "\\end{tabular}\n"
      ],
      "text/markdown": [
       "\n",
       "| values | above |\n",
       "|---|---|\n",
       "|  7    | FALSE |\n",
       "|  8    |  TRUE |\n",
       "|  9    |  TRUE |\n",
       "|  6    | FALSE |\n",
       "|  4    | FALSE |\n",
       "|  5    | FALSE |\n",
       "|  6    | FALSE |\n",
       "| 84    |  TRUE |\n",
       "|  2    | FALSE |\n",
       "|  7    | FALSE |\n",
       "|  8    |  TRUE |\n",
       "| 63    |  TRUE |\n",
       "|  2    | FALSE |\n",
       "| 77    |  TRUE |\n",
       "|  8    |  TRUE |\n",
       "| 95    |  TRUE |\n",
       "|  1    | FALSE |\n",
       "\n"
      ],
      "text/plain": [
       "   values above\n",
       "1   7     FALSE\n",
       "2   8      TRUE\n",
       "3   9      TRUE\n",
       "4   6     FALSE\n",
       "5   4     FALSE\n",
       "6   5     FALSE\n",
       "7   6     FALSE\n",
       "8  84      TRUE\n",
       "9   2     FALSE\n",
       "10  7     FALSE\n",
       "11  8      TRUE\n",
       "12 63      TRUE\n",
       "13  2     FALSE\n",
       "14 77      TRUE\n",
       "15  8      TRUE\n",
       "16 95      TRUE\n",
       "17  1     FALSE"
      ]
     },
     "metadata": {},
     "output_type": "display_data"
    }
   ],
   "source": [
    "tag_above_below(num)"
   ]
  },
  {
   "cell_type": "code",
   "execution_count": 157,
   "id": "fe8ecc2f-7375-4207-9444-42ea6474b600",
   "metadata": {},
   "outputs": [
    {
     "name": "stdout",
     "output_type": "stream",
     "text": [
      "Threshold is:  NA"
     ]
    },
    {
     "data": {
      "text/html": [
       "<table>\n",
       "<thead><tr><th scope=col>values</th><th scope=col>above</th></tr></thead>\n",
       "<tbody>\n",
       "\t<tr><td> 7</td><td>NA</td></tr>\n",
       "\t<tr><td> 8</td><td>NA</td></tr>\n",
       "\t<tr><td> 9</td><td>NA</td></tr>\n",
       "\t<tr><td> 6</td><td>NA</td></tr>\n",
       "\t<tr><td> 4</td><td>NA</td></tr>\n",
       "\t<tr><td> 5</td><td>NA</td></tr>\n",
       "\t<tr><td> 6</td><td>NA</td></tr>\n",
       "\t<tr><td>84</td><td>NA</td></tr>\n",
       "\t<tr><td> 2</td><td>NA</td></tr>\n",
       "\t<tr><td> 7</td><td>NA</td></tr>\n",
       "\t<tr><td>NA</td><td>NA</td></tr>\n",
       "\t<tr><td>63</td><td>NA</td></tr>\n",
       "\t<tr><td> 2</td><td>NA</td></tr>\n",
       "\t<tr><td>77</td><td>NA</td></tr>\n",
       "\t<tr><td> 8</td><td>NA</td></tr>\n",
       "\t<tr><td>95</td><td>NA</td></tr>\n",
       "\t<tr><td> 1</td><td>NA</td></tr>\n",
       "</tbody>\n",
       "</table>\n"
      ],
      "text/latex": [
       "\\begin{tabular}{r|ll}\n",
       " values & above\\\\\n",
       "\\hline\n",
       "\t  7 & NA\\\\\n",
       "\t  8 & NA\\\\\n",
       "\t  9 & NA\\\\\n",
       "\t  6 & NA\\\\\n",
       "\t  4 & NA\\\\\n",
       "\t  5 & NA\\\\\n",
       "\t  6 & NA\\\\\n",
       "\t 84 & NA\\\\\n",
       "\t  2 & NA\\\\\n",
       "\t  7 & NA\\\\\n",
       "\t NA & NA\\\\\n",
       "\t 63 & NA\\\\\n",
       "\t  2 & NA\\\\\n",
       "\t 77 & NA\\\\\n",
       "\t  8 & NA\\\\\n",
       "\t 95 & NA\\\\\n",
       "\t  1 & NA\\\\\n",
       "\\end{tabular}\n"
      ],
      "text/markdown": [
       "\n",
       "| values | above |\n",
       "|---|---|\n",
       "|  7 | NA |\n",
       "|  8 | NA |\n",
       "|  9 | NA |\n",
       "|  6 | NA |\n",
       "|  4 | NA |\n",
       "|  5 | NA |\n",
       "|  6 | NA |\n",
       "| 84 | NA |\n",
       "|  2 | NA |\n",
       "|  7 | NA |\n",
       "| NA | NA |\n",
       "| 63 | NA |\n",
       "|  2 | NA |\n",
       "| 77 | NA |\n",
       "|  8 | NA |\n",
       "| 95 | NA |\n",
       "|  1 | NA |\n",
       "\n"
      ],
      "text/plain": [
       "   values above\n",
       "1   7     NA   \n",
       "2   8     NA   \n",
       "3   9     NA   \n",
       "4   6     NA   \n",
       "5   4     NA   \n",
       "6   5     NA   \n",
       "7   6     NA   \n",
       "8  84     NA   \n",
       "9   2     NA   \n",
       "10  7     NA   \n",
       "11 NA     NA   \n",
       "12 63     NA   \n",
       "13  2     NA   \n",
       "14 77     NA   \n",
       "15  8     NA   \n",
       "16 95     NA   \n",
       "17  1     NA   "
      ]
     },
     "metadata": {},
     "output_type": "display_data"
    }
   ],
   "source": [
    "num <- c(7,8,9,6,4,5,6,84,2,7,NA,63,2,77,8,95,1)\n",
    "tag_above_below(num)"
   ]
  },
  {
   "cell_type": "code",
   "execution_count": 161,
   "id": "84cdbf4c-12b9-4e0e-ad6b-83fcbe20d9ec",
   "metadata": {},
   "outputs": [
    {
     "data": {
      "text/html": [
       "\n",
       "<table width=\"100%\" summary=\"page for median {stats}\"><tr><td>median {stats}</td><td style=\"text-align: right;\">R Documentation</td></tr></table>\n",
       "\n",
       "<h2>Median Value</h2>\n",
       "\n",
       "<h3>Description</h3>\n",
       "\n",
       "<p>Compute the sample median.\n",
       "</p>\n",
       "\n",
       "\n",
       "<h3>Usage</h3>\n",
       "\n",
       "<pre>\n",
       "median(x, na.rm = FALSE, ...)\n",
       "</pre>\n",
       "\n",
       "\n",
       "<h3>Arguments</h3>\n",
       "\n",
       "<table summary=\"R argblock\">\n",
       "<tr valign=\"top\"><td><code>x</code></td>\n",
       "<td>\n",
       "<p>an object for which a method has been defined, or a\n",
       "numeric vector containing the values whose median is to be computed.</p>\n",
       "</td></tr>\n",
       "<tr valign=\"top\"><td><code>na.rm</code></td>\n",
       "<td>\n",
       "<p>a logical value indicating whether <code>NA</code>\n",
       "values should be stripped before the computation proceeds.</p>\n",
       "</td></tr>\n",
       "<tr valign=\"top\"><td><code>...</code></td>\n",
       "<td>\n",
       "<p>potentially further arguments for methods; not used in\n",
       "the default method.</p>\n",
       "</td></tr>\n",
       "</table>\n",
       "\n",
       "\n",
       "<h3>Details</h3>\n",
       "\n",
       "<p>This is a generic function for which methods can be written.  However,\n",
       "the default method makes use of <code>is.na</code>, <code>sort</code> and\n",
       "<code>mean</code> from package <span class=\"pkg\">base</span> all of which are generic, and so\n",
       "the default method will work for most classes\n",
       "(e.g., <code>\"Date\"</code>) for which a median is a reasonable\n",
       "concept.\n",
       "</p>\n",
       "\n",
       "\n",
       "<h3>Value</h3>\n",
       "\n",
       "<p>The default method returns a length-one object of the same type as\n",
       "<code>x</code>, except when <code>x</code> is logical or integer of even length,\n",
       "when the result will be double.\n",
       "</p>\n",
       "<p>If there are no values or if <code>na.rm = FALSE</code> and there are <code>NA</code>\n",
       "values the result is <code>NA</code> of the same type as <code>x</code> (or more\n",
       "generally the result of <code>x[FALSE][NA]</code>).\n",
       "</p>\n",
       "\n",
       "\n",
       "<h3>References</h3>\n",
       "\n",
       "<p>Becker, R. A., Chambers, J. M. and Wilks, A. R. (1988)\n",
       "<em>The New S Language</em>.\n",
       "Wadsworth &amp; Brooks/Cole.\n",
       "</p>\n",
       "\n",
       "\n",
       "<h3>See Also</h3>\n",
       "\n",
       "<p><code>quantile</code> for general quantiles.</p>\n",
       "\n",
       "\n",
       "<h3>Examples</h3>\n",
       "\n",
       "<pre>\n",
       "median(1:4)                # = 2.5 [even number]\n",
       "median(c(1:3, 100, 1000))  # = 3 [odd, robust]\n",
       "</pre>\n",
       "\n",
       "<hr /><div style=\"text-align: center;\">[Package <em>stats</em> version 3.6.1 ]</div>"
      ],
      "text/latex": [
       "\\inputencoding{utf8}\n",
       "\\HeaderA{median}{Median Value}{median}\n",
       "\\methaliasA{median.default}{median}{median.default}\n",
       "\\keyword{univar}{median}\n",
       "\\keyword{robust}{median}\n",
       "%\n",
       "\\begin{Description}\\relax\n",
       "Compute the sample median.\n",
       "\\end{Description}\n",
       "%\n",
       "\\begin{Usage}\n",
       "\\begin{verbatim}\n",
       "median(x, na.rm = FALSE, ...)\n",
       "\\end{verbatim}\n",
       "\\end{Usage}\n",
       "%\n",
       "\\begin{Arguments}\n",
       "\\begin{ldescription}\n",
       "\\item[\\code{x}] an object for which a method has been defined, or a\n",
       "numeric vector containing the values whose median is to be computed.\n",
       "\\item[\\code{na.rm}] a logical value indicating whether \\code{NA}\n",
       "values should be stripped before the computation proceeds.\n",
       "\\item[\\code{...}] potentially further arguments for methods; not used in\n",
       "the default method.\n",
       "\\end{ldescription}\n",
       "\\end{Arguments}\n",
       "%\n",
       "\\begin{Details}\\relax\n",
       "This is a generic function for which methods can be written.  However,\n",
       "the default method makes use of \\code{is.na}, \\code{sort} and\n",
       "\\code{mean} from package \\pkg{base} all of which are generic, and so\n",
       "the default method will work for most classes\n",
       "(e.g., \\code{\"\\LinkA{Date}{Date}\"}) for which a median is a reasonable\n",
       "concept.\n",
       "\\end{Details}\n",
       "%\n",
       "\\begin{Value}\n",
       "The default method returns a length-one object of the same type as\n",
       "\\code{x}, except when \\code{x} is logical or integer of even length,\n",
       "when the result will be double.\n",
       "\n",
       "If there are no values or if \\code{na.rm = FALSE} and there are \\code{NA}\n",
       "values the result is \\code{NA} of the same type as \\code{x} (or more\n",
       "generally the result of \\code{x[FALSE][NA]}).\n",
       "\\end{Value}\n",
       "%\n",
       "\\begin{References}\\relax\n",
       "Becker, R. A., Chambers, J. M. and Wilks, A. R. (1988)\n",
       "\\emph{The New S Language}.\n",
       "Wadsworth \\& Brooks/Cole.\n",
       "\\end{References}\n",
       "%\n",
       "\\begin{SeeAlso}\\relax\n",
       "\\code{\\LinkA{quantile}{quantile}} for general quantiles.\n",
       "\\end{SeeAlso}\n",
       "%\n",
       "\\begin{Examples}\n",
       "\\begin{ExampleCode}\n",
       "median(1:4)                # = 2.5 [even number]\n",
       "median(c(1:3, 100, 1000))  # = 3 [odd, robust]\n",
       "\\end{ExampleCode}\n",
       "\\end{Examples}"
      ],
      "text/plain": [
       "median                  package:stats                  R Documentation\n",
       "\n",
       "_\bM_\be_\bd_\bi_\ba_\bn _\bV_\ba_\bl_\bu_\be\n",
       "\n",
       "_\bD_\be_\bs_\bc_\br_\bi_\bp_\bt_\bi_\bo_\bn:\n",
       "\n",
       "     Compute the sample median.\n",
       "\n",
       "_\bU_\bs_\ba_\bg_\be:\n",
       "\n",
       "     median(x, na.rm = FALSE, ...)\n",
       "     \n",
       "_\bA_\br_\bg_\bu_\bm_\be_\bn_\bt_\bs:\n",
       "\n",
       "       x: an object for which a method has been defined, or a numeric\n",
       "          vector containing the values whose median is to be computed.\n",
       "\n",
       "   na.rm: a logical value indicating whether 'NA' values should be\n",
       "          stripped before the computation proceeds.\n",
       "\n",
       "     ...: potentially further arguments for methods; not used in the\n",
       "          default method.\n",
       "\n",
       "_\bD_\be_\bt_\ba_\bi_\bl_\bs:\n",
       "\n",
       "     This is a generic function for which methods can be written.\n",
       "     However, the default method makes use of 'is.na', 'sort' and\n",
       "     'mean' from package 'base' all of which are generic, and so the\n",
       "     default method will work for most classes (e.g., '\"Date\"') for\n",
       "     which a median is a reasonable concept.\n",
       "\n",
       "_\bV_\ba_\bl_\bu_\be:\n",
       "\n",
       "     The default method returns a length-one object of the same type as\n",
       "     'x', except when 'x' is logical or integer of even length, when\n",
       "     the result will be double.\n",
       "\n",
       "     If there are no values or if 'na.rm = FALSE' and there are 'NA'\n",
       "     values the result is 'NA' of the same type as 'x' (or more\n",
       "     generally the result of 'x[FALSE][NA]').\n",
       "\n",
       "_\bR_\be_\bf_\be_\br_\be_\bn_\bc_\be_\bs:\n",
       "\n",
       "     Becker, R. A., Chambers, J. M. and Wilks, A. R. (1988) _The New S\n",
       "     Language_.  Wadsworth & Brooks/Cole.\n",
       "\n",
       "_\bS_\be_\be _\bA_\bl_\bs_\bo:\n",
       "\n",
       "     'quantile' for general quantiles.\n",
       "\n",
       "_\bE_\bx_\ba_\bm_\bp_\bl_\be_\bs:\n",
       "\n",
       "     median(1:4)                # = 2.5 [even number]\n",
       "     median(c(1:3, 100, 1000))  # = 3 [odd, robust]\n",
       "     "
      ]
     },
     "metadata": {},
     "output_type": "display_data"
    }
   ],
   "source": [
    "?median"
   ]
  },
  {
   "cell_type": "code",
   "execution_count": 163,
   "id": "c6b3ac31-3eb2-4ee1-b054-0e96da33287f",
   "metadata": {},
   "outputs": [],
   "source": [
    "tag_above_below <- function(numeric.vector, threshold = median(numeric.vector, na.rm = na.rm), na.rm) {\n",
    "    cat(\"Threshold is: \", threshold)\n",
    "    df <- data.frame(values = numeric.vector)\n",
    "    df$above <- ifelse(numeric.vector > threshold, TRUE, FALSE)\n",
    "    df\n",
    "}"
   ]
  },
  {
   "cell_type": "code",
   "execution_count": 167,
   "id": "cadb420f-eddc-420d-904f-dc816406c2d8",
   "metadata": {},
   "outputs": [
    {
     "name": "stdout",
     "output_type": "stream",
     "text": [
      "Threshold is:  7"
     ]
    },
    {
     "data": {
      "text/html": [
       "<table>\n",
       "<thead><tr><th scope=col>values</th><th scope=col>above</th></tr></thead>\n",
       "<tbody>\n",
       "\t<tr><td> 7   </td><td>FALSE</td></tr>\n",
       "\t<tr><td> 8   </td><td> TRUE</td></tr>\n",
       "\t<tr><td> 9   </td><td> TRUE</td></tr>\n",
       "\t<tr><td> 6   </td><td>FALSE</td></tr>\n",
       "\t<tr><td> 4   </td><td>FALSE</td></tr>\n",
       "\t<tr><td> 5   </td><td>FALSE</td></tr>\n",
       "\t<tr><td> 6   </td><td>FALSE</td></tr>\n",
       "\t<tr><td>84   </td><td> TRUE</td></tr>\n",
       "\t<tr><td> 2   </td><td>FALSE</td></tr>\n",
       "\t<tr><td> 7   </td><td>FALSE</td></tr>\n",
       "\t<tr><td>NA   </td><td>   NA</td></tr>\n",
       "\t<tr><td>63   </td><td> TRUE</td></tr>\n",
       "\t<tr><td> 2   </td><td>FALSE</td></tr>\n",
       "\t<tr><td>77   </td><td> TRUE</td></tr>\n",
       "\t<tr><td> 8   </td><td> TRUE</td></tr>\n",
       "\t<tr><td>95   </td><td> TRUE</td></tr>\n",
       "\t<tr><td> 1   </td><td>FALSE</td></tr>\n",
       "</tbody>\n",
       "</table>\n"
      ],
      "text/latex": [
       "\\begin{tabular}{r|ll}\n",
       " values & above\\\\\n",
       "\\hline\n",
       "\t  7    & FALSE\\\\\n",
       "\t  8    &  TRUE\\\\\n",
       "\t  9    &  TRUE\\\\\n",
       "\t  6    & FALSE\\\\\n",
       "\t  4    & FALSE\\\\\n",
       "\t  5    & FALSE\\\\\n",
       "\t  6    & FALSE\\\\\n",
       "\t 84    &  TRUE\\\\\n",
       "\t  2    & FALSE\\\\\n",
       "\t  7    & FALSE\\\\\n",
       "\t NA    &    NA\\\\\n",
       "\t 63    &  TRUE\\\\\n",
       "\t  2    & FALSE\\\\\n",
       "\t 77    &  TRUE\\\\\n",
       "\t  8    &  TRUE\\\\\n",
       "\t 95    &  TRUE\\\\\n",
       "\t  1    & FALSE\\\\\n",
       "\\end{tabular}\n"
      ],
      "text/markdown": [
       "\n",
       "| values | above |\n",
       "|---|---|\n",
       "|  7    | FALSE |\n",
       "|  8    |  TRUE |\n",
       "|  9    |  TRUE |\n",
       "|  6    | FALSE |\n",
       "|  4    | FALSE |\n",
       "|  5    | FALSE |\n",
       "|  6    | FALSE |\n",
       "| 84    |  TRUE |\n",
       "|  2    | FALSE |\n",
       "|  7    | FALSE |\n",
       "| NA    |    NA |\n",
       "| 63    |  TRUE |\n",
       "|  2    | FALSE |\n",
       "| 77    |  TRUE |\n",
       "|  8    |  TRUE |\n",
       "| 95    |  TRUE |\n",
       "|  1    | FALSE |\n",
       "\n"
      ],
      "text/plain": [
       "   values above\n",
       "1   7     FALSE\n",
       "2   8      TRUE\n",
       "3   9      TRUE\n",
       "4   6     FALSE\n",
       "5   4     FALSE\n",
       "6   5     FALSE\n",
       "7   6     FALSE\n",
       "8  84      TRUE\n",
       "9   2     FALSE\n",
       "10  7     FALSE\n",
       "11 NA        NA\n",
       "12 63      TRUE\n",
       "13  2     FALSE\n",
       "14 77      TRUE\n",
       "15  8      TRUE\n",
       "16 95      TRUE\n",
       "17  1     FALSE"
      ]
     },
     "metadata": {},
     "output_type": "display_data"
    }
   ],
   "source": [
    "num <- c(7,8,9,6,4,5,6,84,2,7,NA,63,2,77,8,95,1)\n",
    "tag_above_below(num, na.rm = TRUE)"
   ]
  },
  {
   "cell_type": "code",
   "execution_count": 169,
   "id": "4aee84b7-c5eb-44d5-a435-b7aabe39b7b2",
   "metadata": {},
   "outputs": [],
   "source": [
    "tag_above_below <- function(numeric.vector, threshold = median(numeric.vector, ...), ...) {\n",
    "    cat(\"Threshold is: \", threshold)\n",
    "    df <- data.frame(values = numeric.vector)\n",
    "    df$above <- ifelse(numeric.vector > threshold, TRUE, FALSE)\n",
    "    df\n",
    "}"
   ]
  },
  {
   "cell_type": "code",
   "execution_count": 171,
   "id": "e7123c6b-8584-40d1-b912-44acc2531f01",
   "metadata": {},
   "outputs": [
    {
     "name": "stdout",
     "output_type": "stream",
     "text": [
      "Threshold is:  7"
     ]
    },
    {
     "data": {
      "text/html": [
       "<table>\n",
       "<thead><tr><th scope=col>values</th><th scope=col>above</th></tr></thead>\n",
       "<tbody>\n",
       "\t<tr><td> 7   </td><td>FALSE</td></tr>\n",
       "\t<tr><td> 8   </td><td> TRUE</td></tr>\n",
       "\t<tr><td> 9   </td><td> TRUE</td></tr>\n",
       "\t<tr><td> 6   </td><td>FALSE</td></tr>\n",
       "\t<tr><td> 4   </td><td>FALSE</td></tr>\n",
       "\t<tr><td> 5   </td><td>FALSE</td></tr>\n",
       "\t<tr><td> 6   </td><td>FALSE</td></tr>\n",
       "\t<tr><td>84   </td><td> TRUE</td></tr>\n",
       "\t<tr><td> 2   </td><td>FALSE</td></tr>\n",
       "\t<tr><td> 7   </td><td>FALSE</td></tr>\n",
       "\t<tr><td>63   </td><td> TRUE</td></tr>\n",
       "\t<tr><td> 2   </td><td>FALSE</td></tr>\n",
       "\t<tr><td>77   </td><td> TRUE</td></tr>\n",
       "\t<tr><td> 8   </td><td> TRUE</td></tr>\n",
       "\t<tr><td>95   </td><td> TRUE</td></tr>\n",
       "\t<tr><td> 1   </td><td>FALSE</td></tr>\n",
       "</tbody>\n",
       "</table>\n"
      ],
      "text/latex": [
       "\\begin{tabular}{r|ll}\n",
       " values & above\\\\\n",
       "\\hline\n",
       "\t  7    & FALSE\\\\\n",
       "\t  8    &  TRUE\\\\\n",
       "\t  9    &  TRUE\\\\\n",
       "\t  6    & FALSE\\\\\n",
       "\t  4    & FALSE\\\\\n",
       "\t  5    & FALSE\\\\\n",
       "\t  6    & FALSE\\\\\n",
       "\t 84    &  TRUE\\\\\n",
       "\t  2    & FALSE\\\\\n",
       "\t  7    & FALSE\\\\\n",
       "\t 63    &  TRUE\\\\\n",
       "\t  2    & FALSE\\\\\n",
       "\t 77    &  TRUE\\\\\n",
       "\t  8    &  TRUE\\\\\n",
       "\t 95    &  TRUE\\\\\n",
       "\t  1    & FALSE\\\\\n",
       "\\end{tabular}\n"
      ],
      "text/markdown": [
       "\n",
       "| values | above |\n",
       "|---|---|\n",
       "|  7    | FALSE |\n",
       "|  8    |  TRUE |\n",
       "|  9    |  TRUE |\n",
       "|  6    | FALSE |\n",
       "|  4    | FALSE |\n",
       "|  5    | FALSE |\n",
       "|  6    | FALSE |\n",
       "| 84    |  TRUE |\n",
       "|  2    | FALSE |\n",
       "|  7    | FALSE |\n",
       "| 63    |  TRUE |\n",
       "|  2    | FALSE |\n",
       "| 77    |  TRUE |\n",
       "|  8    |  TRUE |\n",
       "| 95    |  TRUE |\n",
       "|  1    | FALSE |\n",
       "\n"
      ],
      "text/plain": [
       "   values above\n",
       "1   7     FALSE\n",
       "2   8      TRUE\n",
       "3   9      TRUE\n",
       "4   6     FALSE\n",
       "5   4     FALSE\n",
       "6   5     FALSE\n",
       "7   6     FALSE\n",
       "8  84      TRUE\n",
       "9   2     FALSE\n",
       "10  7     FALSE\n",
       "11 63      TRUE\n",
       "12  2     FALSE\n",
       "13 77      TRUE\n",
       "14  8      TRUE\n",
       "15 95      TRUE\n",
       "16  1     FALSE"
      ]
     },
     "metadata": {},
     "output_type": "display_data"
    }
   ],
   "source": [
    "num <- c(7,8,9,6,4,5,6,84,2,7,63,2,77,8,95,1)\n",
    "tag_above_below(num, na.rm = TRUE)"
   ]
  },
  {
   "cell_type": "code",
   "execution_count": 173,
   "id": "07f8e8d7-4cf6-4aa3-86d2-943f26479565",
   "metadata": {},
   "outputs": [
    {
     "data": {
      "text/html": [
       "<ol class=list-inline>\n",
       "\t<li>'append_student_row'</li>\n",
       "\t<li>'compute_cube'</li>\n",
       "\t<li>'compute_sqaure'</li>\n",
       "\t<li>'compute_square'</li>\n",
       "\t<li>'create_student'</li>\n",
       "\t<li>'df'</li>\n",
       "\t<li>'display_hello_world'</li>\n",
       "\t<li>'grades'</li>\n",
       "\t<li>'ids'</li>\n",
       "\t<li>'names'</li>\n",
       "\t<li>'num'</li>\n",
       "\t<li>'result'</li>\n",
       "\t<li>'student.fred'</li>\n",
       "\t<li>'student.mark'</li>\n",
       "\t<li>'students'</li>\n",
       "\t<li>'students.df'</li>\n",
       "\t<li>'tag_above_below'</li>\n",
       "</ol>\n"
      ],
      "text/latex": [
       "\\begin{enumerate*}\n",
       "\\item 'append\\_student\\_row'\n",
       "\\item 'compute\\_cube'\n",
       "\\item 'compute\\_sqaure'\n",
       "\\item 'compute\\_square'\n",
       "\\item 'create\\_student'\n",
       "\\item 'df'\n",
       "\\item 'display\\_hello\\_world'\n",
       "\\item 'grades'\n",
       "\\item 'ids'\n",
       "\\item 'names'\n",
       "\\item 'num'\n",
       "\\item 'result'\n",
       "\\item 'student.fred'\n",
       "\\item 'student.mark'\n",
       "\\item 'students'\n",
       "\\item 'students.df'\n",
       "\\item 'tag\\_above\\_below'\n",
       "\\end{enumerate*}\n"
      ],
      "text/markdown": [
       "1. 'append_student_row'\n",
       "2. 'compute_cube'\n",
       "3. 'compute_sqaure'\n",
       "4. 'compute_square'\n",
       "5. 'create_student'\n",
       "6. 'df'\n",
       "7. 'display_hello_world'\n",
       "8. 'grades'\n",
       "9. 'ids'\n",
       "10. 'names'\n",
       "11. 'num'\n",
       "12. 'result'\n",
       "13. 'student.fred'\n",
       "14. 'student.mark'\n",
       "15. 'students'\n",
       "16. 'students.df'\n",
       "17. 'tag_above_below'\n",
       "\n",
       "\n"
      ],
      "text/plain": [
       " [1] \"append_student_row\"  \"compute_cube\"        \"compute_sqaure\"     \n",
       " [4] \"compute_square\"      \"create_student\"      \"df\"                 \n",
       " [7] \"display_hello_world\" \"grades\"              \"ids\"                \n",
       "[10] \"names\"               \"num\"                 \"result\"             \n",
       "[13] \"student.fred\"        \"student.mark\"        \"students\"           \n",
       "[16] \"students.df\"         \"tag_above_below\"    "
      ]
     },
     "metadata": {},
     "output_type": "display_data"
    }
   ],
   "source": [
    "ls()"
   ]
  },
  {
   "cell_type": "code",
   "execution_count": 175,
   "id": "e6b316a8-ea71-47e7-aef6-a009b3c5d27b",
   "metadata": {},
   "outputs": [
    {
     "data": {
      "text/plain": [
       "append_student_row : function (df, id, name = \"unknown\", gpa = 0)  \n",
       "compute_cube : function (x)  \n",
       "compute_sqaure : function (x)  \n",
       "compute_square : function (x)  \n",
       "create_student : function (id, name, gpa)  \n",
       "df :  logi [1:17] FALSE FALSE FALSE FALSE FALSE FALSE ...\n",
       "display_hello_world : function ()  \n",
       "grades :  num [1:5] 90 85 92 78 88\n",
       "ids :  num [1:5] 1 2 3 4 5\n",
       "names :  chr [1:5] \"Alice\" \"Bob\" \"Charlie\" \"David\" \"Eve\"\n",
       "num :  num [1:16] 7 8 9 6 4 5 6 84 2 7 ...\n",
       "result :  num 125\n",
       "student.fred : List of 3\n",
       " $ ids   : num 1002\n",
       " $ names : chr \"Fred\"\n",
       " $ grades: num 7.6\n",
       "student.mark : List of 3\n",
       " $ ids   : num 1003\n",
       " $ names : chr \"Mark\"\n",
       " $ grades: num 8.6\n",
       "students : function (id, name, gpa)  \n",
       "students.df : 'data.frame':\t7 obs. of  3 variables:\n",
       " $ ids   : num  1 2 3 4 5 6 6\n",
       " $ names : chr  \"Alice\" \"Bob\" \"Charlie\" \"David\" ...\n",
       " $ grades: num  90 85 92 78 88 0 0\n",
       "tag_above_below : function (numeric.vector, threshold = median(numeric.vector, ...), ...)  "
      ]
     },
     "metadata": {},
     "output_type": "display_data"
    }
   ],
   "source": [
    "ls.str()"
   ]
  },
  {
   "cell_type": "code",
   "execution_count": null,
   "id": "65104142-9f33-457f-b2e8-00ce5f750172",
   "metadata": {},
   "outputs": [],
   "source": []
  }
 ],
 "metadata": {
  "kernelspec": {
   "display_name": "R",
   "language": "R",
   "name": "ir"
  },
  "language_info": {
   "codemirror_mode": "r",
   "file_extension": ".r",
   "mimetype": "text/x-r-source",
   "name": "R",
   "pygments_lexer": "r",
   "version": "3.6.1"
  }
 },
 "nbformat": 4,
 "nbformat_minor": 5
}
