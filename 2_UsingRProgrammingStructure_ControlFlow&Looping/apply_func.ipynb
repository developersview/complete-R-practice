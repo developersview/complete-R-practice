{
 "cells": [
  {
   "cell_type": "markdown",
   "id": "0d0337b3-a4d3-4b5a-9375-73d3832ab885",
   "metadata": {},
   "source": [
    "## 1️⃣ tapply() – Apply a function over subsets of a vector (grouped by a factor)"
   ]
  },
  {
   "cell_type": "code",
   "execution_count": 2,
   "id": "37c3afc0-127c-477a-b40e-d44cbda000d5",
   "metadata": {},
   "outputs": [
    {
     "data": {
      "text/html": [
       "<table>\n",
       "<thead><tr><th scope=col>name</th><th scope=col>department</th><th scope=col>salary</th></tr></thead>\n",
       "<tbody>\n",
       "\t<tr><td>Alice    </td><td>HR       </td><td>50000    </td></tr>\n",
       "\t<tr><td>Bob      </td><td>IT       </td><td>60000    </td></tr>\n",
       "\t<tr><td>Charlie  </td><td>Finance  </td><td>55000    </td></tr>\n",
       "\t<tr><td>David    </td><td>Marketing</td><td>30000    </td></tr>\n",
       "\t<tr><td>Eva      </td><td>Sales    </td><td>70000    </td></tr>\n",
       "\t<tr><td>Frank    </td><td>IT       </td><td>65000    </td></tr>\n",
       "\t<tr><td>Grace    </td><td>Finance  </td><td>75000    </td></tr>\n",
       "</tbody>\n",
       "</table>\n"
      ],
      "text/latex": [
       "\\begin{tabular}{r|lll}\n",
       " name & department & salary\\\\\n",
       "\\hline\n",
       "\t Alice     & HR        & 50000    \\\\\n",
       "\t Bob       & IT        & 60000    \\\\\n",
       "\t Charlie   & Finance   & 55000    \\\\\n",
       "\t David     & Marketing & 30000    \\\\\n",
       "\t Eva       & Sales     & 70000    \\\\\n",
       "\t Frank     & IT        & 65000    \\\\\n",
       "\t Grace     & Finance   & 75000    \\\\\n",
       "\\end{tabular}\n"
      ],
      "text/markdown": [
       "\n",
       "| name | department | salary |\n",
       "|---|---|---|\n",
       "| Alice     | HR        | 50000     |\n",
       "| Bob       | IT        | 60000     |\n",
       "| Charlie   | Finance   | 55000     |\n",
       "| David     | Marketing | 30000     |\n",
       "| Eva       | Sales     | 70000     |\n",
       "| Frank     | IT        | 65000     |\n",
       "| Grace     | Finance   | 75000     |\n",
       "\n"
      ],
      "text/plain": [
       "  name    department salary\n",
       "1 Alice   HR         50000 \n",
       "2 Bob     IT         60000 \n",
       "3 Charlie Finance    55000 \n",
       "4 David   Marketing  30000 \n",
       "5 Eva     Sales      70000 \n",
       "6 Frank   IT         65000 \n",
       "7 Grace   Finance    75000 "
      ]
     },
     "metadata": {},
     "output_type": "display_data"
    }
   ],
   "source": [
    "# Example: Calculate average salary by department\n",
    "employee.df <- data.frame(\n",
    "  name = c(\"Alice\", \"Bob\", \"Charlie\", \"David\", \"Eva\", \"Frank\", \"Grace\"),\n",
    "  department = c(\"HR\", \"IT\", \"Finance\", \"Marketing\", \"Sales\", \"IT\", \"Finance\"),\n",
    "  salary = c(50000, 60000, 55000, 30000, 70000, 65000, 75000)\n",
    ")\n",
    "\n",
    "employee.df"
   ]
  },
  {
   "cell_type": "code",
   "execution_count": 4,
   "id": "004fe14b-9f99-4be1-abe5-847de8f824b4",
   "metadata": {},
   "outputs": [
    {
     "data": {
      "text/html": [
       "<dl class=dl-horizontal>\n",
       "\t<dt>Finance</dt>\n",
       "\t\t<dd>65000</dd>\n",
       "\t<dt>HR</dt>\n",
       "\t\t<dd>50000</dd>\n",
       "\t<dt>IT</dt>\n",
       "\t\t<dd>62500</dd>\n",
       "\t<dt>Marketing</dt>\n",
       "\t\t<dd>30000</dd>\n",
       "\t<dt>Sales</dt>\n",
       "\t\t<dd>70000</dd>\n",
       "</dl>\n"
      ],
      "text/latex": [
       "\\begin{description*}\n",
       "\\item[Finance] 65000\n",
       "\\item[HR] 50000\n",
       "\\item[IT] 62500\n",
       "\\item[Marketing] 30000\n",
       "\\item[Sales] 70000\n",
       "\\end{description*}\n"
      ],
      "text/markdown": [
       "Finance\n",
       ":   65000HR\n",
       ":   50000IT\n",
       ":   62500Marketing\n",
       ":   30000Sales\n",
       ":   70000\n",
       "\n"
      ],
      "text/plain": [
       "  Finance        HR        IT Marketing     Sales \n",
       "    65000     50000     62500     30000     70000 "
      ]
     },
     "metadata": {},
     "output_type": "display_data"
    }
   ],
   "source": [
    "tapply(employee.df$salary, employee.df$department, mean)"
   ]
  },
  {
   "cell_type": "markdown",
   "id": "04dfb2d4-73d0-461c-a813-66c696b74b1d",
   "metadata": {},
   "source": [
    "## 2️⃣ lapply() – Apply a function over a list and return a list"
   ]
  },
  {
   "cell_type": "code",
   "execution_count": 15,
   "id": "264fd743-8745-424c-8b74-30d64a769cbe",
   "metadata": {},
   "outputs": [
    {
     "data": {
      "text/html": [
       "<ol>\n",
       "\t<li>1</li>\n",
       "\t<li>4</li>\n",
       "\t<li>9</li>\n",
       "\t<li>16</li>\n",
       "\t<li>25</li>\n",
       "</ol>\n"
      ],
      "text/latex": [
       "\\begin{enumerate}\n",
       "\\item 1\n",
       "\\item 4\n",
       "\\item 9\n",
       "\\item 16\n",
       "\\item 25\n",
       "\\end{enumerate}\n"
      ],
      "text/markdown": [
       "1. 1\n",
       "2. 4\n",
       "3. 9\n",
       "4. 16\n",
       "5. 25\n",
       "\n",
       "\n"
      ],
      "text/plain": [
       "[[1]]\n",
       "[1] 1\n",
       "\n",
       "[[2]]\n",
       "[1] 4\n",
       "\n",
       "[[3]]\n",
       "[1] 9\n",
       "\n",
       "[[4]]\n",
       "[1] 16\n",
       "\n",
       "[[5]]\n",
       "[1] 25\n"
      ]
     },
     "metadata": {},
     "output_type": "display_data"
    }
   ],
   "source": [
    "# Example: Calculate square of each number in a vector and return a list\n",
    "numbers <- c(1, 2, 3, 4, 5)\n",
    "lapply(numbers, function(x) x^2)"
   ]
  },
  {
   "cell_type": "code",
   "execution_count": 19,
   "id": "5c985231-4cf2-4671-ab91-f57944ce4d20",
   "metadata": {},
   "outputs": [
    {
     "data": {
      "text/html": [
       "'list'"
      ],
      "text/latex": [
       "'list'"
      ],
      "text/markdown": [
       "'list'"
      ],
      "text/plain": [
       "[1] \"list\""
      ]
     },
     "metadata": {},
     "output_type": "display_data"
    }
   ],
   "source": [
    "class(lapply(numbers, function(x) x^2))"
   ]
  },
  {
   "cell_type": "markdown",
   "id": "3b2d2a9a-436d-40dd-8e50-8f1aa2cbeff1",
   "metadata": {},
   "source": [
    "## 3️⃣ sapply() – Similar to lapply(), but returns a vector or matrix instead of a list"
   ]
  },
  {
   "cell_type": "code",
   "execution_count": 11,
   "id": "00d0b42f-2426-4205-a2a0-a384417bd64f",
   "metadata": {},
   "outputs": [
    {
     "data": {
      "text/html": [
       "<ol class=list-inline>\n",
       "\t<li>1</li>\n",
       "\t<li>4</li>\n",
       "\t<li>9</li>\n",
       "\t<li>16</li>\n",
       "\t<li>25</li>\n",
       "</ol>\n"
      ],
      "text/latex": [
       "\\begin{enumerate*}\n",
       "\\item 1\n",
       "\\item 4\n",
       "\\item 9\n",
       "\\item 16\n",
       "\\item 25\n",
       "\\end{enumerate*}\n"
      ],
      "text/markdown": [
       "1. 1\n",
       "2. 4\n",
       "3. 9\n",
       "4. 16\n",
       "5. 25\n",
       "\n",
       "\n"
      ],
      "text/plain": [
       "[1]  1  4  9 16 25"
      ]
     },
     "metadata": {},
     "output_type": "display_data"
    }
   ],
   "source": [
    "# Example: Calculate square of each number but return a vector\n",
    "sapply(numbers, function(x) x^2)"
   ]
  },
  {
   "cell_type": "code",
   "execution_count": 17,
   "id": "4fe9764e-5489-4c8a-a4ba-7c7dd9c09626",
   "metadata": {},
   "outputs": [
    {
     "data": {
      "text/html": [
       "'numeric'"
      ],
      "text/latex": [
       "'numeric'"
      ],
      "text/markdown": [
       "'numeric'"
      ],
      "text/plain": [
       "[1] \"numeric\""
      ]
     },
     "metadata": {},
     "output_type": "display_data"
    }
   ],
   "source": [
    "class(sapply(numbers, function(x) x^2))"
   ]
  },
  {
   "cell_type": "markdown",
   "id": "98b4ff93-8af2-487a-b0d9-288bf80a19e9",
   "metadata": {},
   "source": [
    "## 4️⃣ vapply() – Similar to sapply(), but requires a predefined output type"
   ]
  },
  {
   "cell_type": "code",
   "execution_count": 26,
   "id": "107471e3-2cd8-4ff0-b1b5-54d0b1fbbf3f",
   "metadata": {},
   "outputs": [
    {
     "data": {
      "text/html": [
       "<ol class=list-inline>\n",
       "\t<li>1</li>\n",
       "\t<li>4</li>\n",
       "\t<li>9</li>\n",
       "\t<li>16</li>\n",
       "\t<li>25</li>\n",
       "</ol>\n"
      ],
      "text/latex": [
       "\\begin{enumerate*}\n",
       "\\item 1\n",
       "\\item 4\n",
       "\\item 9\n",
       "\\item 16\n",
       "\\item 25\n",
       "\\end{enumerate*}\n"
      ],
      "text/markdown": [
       "1. 1\n",
       "2. 4\n",
       "3. 9\n",
       "4. 16\n",
       "5. 25\n",
       "\n",
       "\n"
      ],
      "text/plain": [
       "[1]  1  4  9 16 25"
      ]
     },
     "metadata": {},
     "output_type": "display_data"
    }
   ],
   "source": [
    "# Example: Calculate square of each number with predefined numeric output, returns vector or matrix\n",
    "numbers <- c(1, 2, 3, 4, 5)\n",
    "\n",
    "vapply(numbers, function(x) x^2, numeric(1))\n"
   ]
  },
  {
   "cell_type": "code",
   "execution_count": 28,
   "id": "a46b9ab2-d625-4e6b-9473-f3f3a56fe0ed",
   "metadata": {},
   "outputs": [
    {
     "data": {
      "text/html": [
       "'numeric'"
      ],
      "text/latex": [
       "'numeric'"
      ],
      "text/markdown": [
       "'numeric'"
      ],
      "text/plain": [
       "[1] \"numeric\""
      ]
     },
     "metadata": {},
     "output_type": "display_data"
    }
   ],
   "source": [
    "class(vapply(numbers, function(x) x^2, numeric(1)))"
   ]
  },
  {
   "cell_type": "markdown",
   "id": "36599bba-fc57-4b4d-8389-85a9cc7a0027",
   "metadata": {},
   "source": [
    "### ✅ Key Differences:\n",
    "\n",
    "- tapply(): Used for grouped operations on vectors.\n",
    "- lapply(): Returns a list.\n",
    "- sapply(): Returns a vector (or matrix if needed).\n",
    "\n",
    "### ✅ Key Difference Between sapply() and vapply():\n",
    "\n",
    "- sapply(): Tries to guess the output type (vector, matrix, or list).\n",
    "- vapply(): More strict, requires a specified output type (numeric(1), character(1), etc.).\n",
    "Safer than sapply(), as it prevents unexpected output formats."
   ]
  }
 ],
 "metadata": {
  "kernelspec": {
   "display_name": "R",
   "language": "R",
   "name": "ir"
  },
  "language_info": {
   "codemirror_mode": "r",
   "file_extension": ".r",
   "mimetype": "text/x-r-source",
   "name": "R",
   "pygments_lexer": "r",
   "version": "3.6.1"
  }
 },
 "nbformat": 4,
 "nbformat_minor": 5
}
