{
 "cells": [
  {
   "cell_type": "code",
   "execution_count": 1,
   "id": "c74d41b6-8335-4f4a-9c25-efef98a56885",
   "metadata": {},
   "outputs": [
    {
     "data": {
      "text/html": [
       "<ol class=list-inline>\n",
       "\t<li>'gog'</li>\n",
       "\t<li>'cat'</li>\n",
       "\t<li>'lion'</li>\n",
       "\t<li>'deer'</li>\n",
       "\t<li>'elephant'</li>\n",
       "</ol>\n"
      ],
      "text/latex": [
       "\\begin{enumerate*}\n",
       "\\item 'gog'\n",
       "\\item 'cat'\n",
       "\\item 'lion'\n",
       "\\item 'deer'\n",
       "\\item 'elephant'\n",
       "\\end{enumerate*}\n"
      ],
      "text/markdown": [
       "1. 'gog'\n",
       "2. 'cat'\n",
       "3. 'lion'\n",
       "4. 'deer'\n",
       "5. 'elephant'\n",
       "\n",
       "\n"
      ],
      "text/plain": [
       "[1] \"gog\"      \"cat\"      \"lion\"     \"deer\"     \"elephant\""
      ]
     },
     "metadata": {},
     "output_type": "display_data"
    }
   ],
   "source": [
    "animals <- c('gog', 'cat', 'lion', 'deer', 'elephant')\n",
    "animals"
   ]
  },
  {
   "cell_type": "code",
   "execution_count": 3,
   "id": "e39318f5-16e2-497f-8320-45781719f05c",
   "metadata": {},
   "outputs": [],
   "source": [
    "print_animals_shapes <- function() {\n",
    "    print(animals)\n",
    "    print(shapes)\n",
    "}"
   ]
  },
  {
   "cell_type": "code",
   "execution_count": 5,
   "id": "202b027b-d3b0-409f-b56b-8b59bf67cc59",
   "metadata": {},
   "outputs": [
    {
     "data": {
      "text/plain": [
       "animals :  chr [1:5] \"gog\" \"cat\" \"lion\" \"deer\" \"elephant\"\n",
       "print_animals_shapes : function ()  "
      ]
     },
     "metadata": {},
     "output_type": "display_data"
    }
   ],
   "source": [
    "ls.str()"
   ]
  },
  {
   "cell_type": "code",
   "execution_count": 7,
   "id": "a5404d9a-6dfe-4300-9206-12862370c26d",
   "metadata": {},
   "outputs": [
    {
     "name": "stdout",
     "output_type": "stream",
     "text": [
      "[1] \"gog\"      \"cat\"      \"lion\"     \"deer\"     \"elephant\"\n"
     ]
    },
    {
     "ename": "ERROR",
     "evalue": "Error in print(shapes): object 'shapes' not found\n",
     "output_type": "error",
     "traceback": [
      "Error in print(shapes): object 'shapes' not found\nTraceback:\n",
      "1. print_animals_shapes()",
      "2. print(shapes)   # at line 3 of file <text>"
     ]
    }
   ],
   "source": [
    "print_animals_shapes()"
   ]
  },
  {
   "cell_type": "code",
   "execution_count": 11,
   "id": "cae1f1e1-a75e-4ad1-bb7f-0c7ba549457d",
   "metadata": {},
   "outputs": [],
   "source": [
    "shapes <- c('sqaure', 'triangle', 'circle')"
   ]
  },
  {
   "cell_type": "code",
   "execution_count": 13,
   "id": "da745e51-8d6d-439d-9579-b9b9c58cb303",
   "metadata": {},
   "outputs": [
    {
     "name": "stdout",
     "output_type": "stream",
     "text": [
      "[1] \"gog\"      \"cat\"      \"lion\"     \"deer\"     \"elephant\"\n",
      "[1] \"sqaure\"   \"triangle\" \"circle\"  \n"
     ]
    }
   ],
   "source": [
    "print_animals_shapes()"
   ]
  },
  {
   "cell_type": "code",
   "execution_count": 15,
   "id": "99a23800-6015-442e-9478-2ef4e6dc9116",
   "metadata": {},
   "outputs": [
    {
     "data": {
      "text/plain": [
       "animals :  chr [1:5] \"gog\" \"cat\" \"lion\" \"deer\" \"elephant\"\n",
       "print_animals_shapes : function ()  \n",
       "shapes :  chr [1:3] \"sqaure\" \"triangle\" \"circle\""
      ]
     },
     "metadata": {},
     "output_type": "display_data"
    }
   ],
   "source": [
    "ls.str()"
   ]
  },
  {
   "cell_type": "code",
   "execution_count": 21,
   "id": "d8e8c471-6f1b-4f7c-a4a1-4635273da086",
   "metadata": {},
   "outputs": [],
   "source": [
    "outer_a <- function() {\n",
    "    birds <- c('Sparrow', 'piegeon', 'robin', 'crow')\n",
    "\n",
    "    inner_a <- function() {\n",
    "        print(animals)\n",
    "        print(birds)\n",
    "    }\n",
    "    \n",
    "    inner_a\n",
    "}"
   ]
  },
  {
   "cell_type": "code",
   "execution_count": 23,
   "id": "07c16f32-755a-4fed-820e-35c329408982",
   "metadata": {},
   "outputs": [
    {
     "data": {
      "text/html": [
       "<pre class=language-r><code>function () \n",
       "{\n",
       "<span style=white-space:pre-wrap>    print(animals)</span>\n",
       "<span style=white-space:pre-wrap>    print(birds)</span>\n",
       "}</code></pre>"
      ],
      "text/latex": [
       "\\begin{minted}{r}\n",
       "function () \n",
       "\\{\n",
       "    print(animals)\n",
       "    print(birds)\n",
       "\\}\n",
       "\\end{minted}"
      ],
      "text/markdown": [
       "```r\n",
       "function () \n",
       "{\n",
       "    print(animals)\n",
       "    print(birds)\n",
       "}\n",
       "```"
      ],
      "text/plain": [
       "function() {\n",
       "        print(animals)\n",
       "        print(birds)\n",
       "    }\n",
       "<environment: 0x0000000004601800>"
      ]
     },
     "metadata": {},
     "output_type": "display_data"
    }
   ],
   "source": [
    "outer_a()"
   ]
  },
  {
   "cell_type": "code",
   "execution_count": 27,
   "id": "a37a5264-34a1-4b3e-9073-e15c56ab463f",
   "metadata": {},
   "outputs": [
    {
     "data": {
      "text/html": [
       "<pre class=language-r><code>function () \n",
       "{\n",
       "<span style=white-space:pre-wrap>    birds &lt;- c(\"Sparrow\", \"piegeon\", \"robin\", \"crow\")</span>\n",
       "<span style=white-space:pre-wrap>    inner_a &lt;- function() {</span>\n",
       "<span style=white-space:pre-wrap>        print(animals)</span>\n",
       "<span style=white-space:pre-wrap>        print(birds)</span>\n",
       "<span style=white-space:pre-wrap>    }</span>\n",
       "<span style=white-space:pre-wrap>    inner_a</span>\n",
       "}</code></pre>"
      ],
      "text/latex": [
       "\\begin{minted}{r}\n",
       "function () \n",
       "\\{\n",
       "    birds <- c(\"Sparrow\", \"piegeon\", \"robin\", \"crow\")\n",
       "    inner\\_a <- function() \\{\n",
       "        print(animals)\n",
       "        print(birds)\n",
       "    \\}\n",
       "    inner\\_a\n",
       "\\}\n",
       "\\end{minted}"
      ],
      "text/markdown": [
       "```r\n",
       "function () \n",
       "{\n",
       "    birds <- c(\"Sparrow\", \"piegeon\", \"robin\", \"crow\")\n",
       "    inner_a <- function() {\n",
       "        print(animals)\n",
       "        print(birds)\n",
       "    }\n",
       "    inner_a\n",
       "}\n",
       "```"
      ],
      "text/plain": [
       "function() {\n",
       "    birds <- c('Sparrow', 'piegeon', 'robin', 'crow')\n",
       "\n",
       "    inner_a <- function() {\n",
       "        print(animals)\n",
       "        print(birds)\n",
       "    }\n",
       "    \n",
       "    inner_a\n",
       "}"
      ]
     },
     "metadata": {},
     "output_type": "display_data"
    }
   ],
   "source": [
    "outer_a"
   ]
  },
  {
   "cell_type": "code",
   "execution_count": 29,
   "id": "59d7e7dc-0840-4900-9e38-e51f5be24cf9",
   "metadata": {},
   "outputs": [
    {
     "data": {
      "text/plain": [
       "animals :  chr [1:5] \"gog\" \"cat\" \"lion\" \"deer\" \"elephant\"\n",
       "outer_a : function ()  \n",
       "print_animals_shapes : function ()  \n",
       "shapes :  chr [1:3] \"sqaure\" \"triangle\" \"circle\""
      ]
     },
     "metadata": {},
     "output_type": "display_data"
    }
   ],
   "source": [
    "ls.str()"
   ]
  },
  {
   "cell_type": "code",
   "execution_count": 33,
   "id": "07858e88-6e62-4751-8ebb-89db5ca9eca5",
   "metadata": {},
   "outputs": [
    {
     "name": "stdout",
     "output_type": "stream",
     "text": [
      "[1] \"gog\"      \"cat\"      \"lion\"     \"deer\"     \"elephant\"\n",
      "[1] \"Sparrow\" \"piegeon\" \"robin\"   \"crow\"   \n"
     ]
    }
   ],
   "source": [
    "inner_fn <- outer_a()\n",
    "inner_fn()"
   ]
  },
  {
   "cell_type": "code",
   "execution_count": 35,
   "id": "46fc7e32-1e4c-463e-94bf-27c2ff643e3a",
   "metadata": {},
   "outputs": [
    {
     "ename": "ERROR",
     "evalue": "Error in inner_a(): could not find function \"inner_a\"\n",
     "output_type": "error",
     "traceback": [
      "Error in inner_a(): could not find function \"inner_a\"\nTraceback:\n"
     ]
    }
   ],
   "source": [
    "inner_a()"
   ]
  },
  {
   "cell_type": "code",
   "execution_count": 37,
   "id": "c631aba5-074e-447b-adfc-6557a8878636",
   "metadata": {},
   "outputs": [],
   "source": [
    "outer_b <- function() {\n",
    "    colors <- c('red', 'green', 'yellow')\n",
    "    inner_a <- function() {\n",
    "        print(animals)\n",
    "        print(colors)\n",
    "        print(birds)\n",
    "    }\n",
    "}"
   ]
  },
  {
   "cell_type": "code",
   "execution_count": 39,
   "id": "20a77203-6399-45ec-841d-a42c01088439",
   "metadata": {},
   "outputs": [
    {
     "name": "stdout",
     "output_type": "stream",
     "text": [
      "[1] \"gog\"      \"cat\"      \"lion\"     \"deer\"     \"elephant\"\n",
      "[1] \"red\"    \"green\"  \"yellow\"\n"
     ]
    },
    {
     "ename": "ERROR",
     "evalue": "Error in print(birds): object 'birds' not found\n",
     "output_type": "error",
     "traceback": [
      "Error in print(birds): object 'birds' not found\nTraceback:\n",
      "1. inner_fn2()",
      "2. print(birds)   # at line 6 of file <text>"
     ]
    }
   ],
   "source": [
    "inner_fn2 <- outer_b()\n",
    "inner_fn2()"
   ]
  },
  {
   "cell_type": "code",
   "execution_count": 41,
   "id": "007b8946-fa20-42c5-8d25-5ae40e06762d",
   "metadata": {},
   "outputs": [],
   "source": [
    "birds <- c('Sparrow', 'piegeon')"
   ]
  },
  {
   "cell_type": "code",
   "execution_count": 43,
   "id": "21511248-3912-44b5-bac9-aa0ab9401f5d",
   "metadata": {},
   "outputs": [
    {
     "name": "stdout",
     "output_type": "stream",
     "text": [
      "[1] \"gog\"      \"cat\"      \"lion\"     \"deer\"     \"elephant\"\n",
      "[1] \"red\"    \"green\"  \"yellow\"\n",
      "[1] \"Sparrow\" \"piegeon\"\n"
     ]
    }
   ],
   "source": [
    "inner_fn2 <- outer_b()\n",
    "inner_fn2()"
   ]
  },
  {
   "cell_type": "code",
   "execution_count": 45,
   "id": "d91ece1c-fa54-4a35-bc3b-a43bd997603c",
   "metadata": {},
   "outputs": [
    {
     "name": "stdout",
     "output_type": "stream",
     "text": [
      "[1] \"gog\"      \"cat\"      \"lion\"     \"deer\"     \"elephant\"\n",
      "[1] \"Sparrow\" \"piegeon\" \"robin\"   \"crow\"   \n"
     ]
    }
   ],
   "source": [
    "inner_fn3 <- outer_a()\n",
    "inner_fn3()"
   ]
  },
  {
   "cell_type": "code",
   "execution_count": 47,
   "id": "8c690591-5628-4998-a5b8-f85a69fd0819",
   "metadata": {},
   "outputs": [],
   "source": []
  },
  {
   "cell_type": "code",
   "execution_count": null,
   "id": "d1ca641e-6d9d-4384-806b-228326c66637",
   "metadata": {},
   "outputs": [],
   "source": []
  }
 ],
 "metadata": {
  "kernelspec": {
   "display_name": "R",
   "language": "R",
   "name": "ir"
  },
  "language_info": {
   "codemirror_mode": "r",
   "file_extension": ".r",
   "mimetype": "text/x-r-source",
   "name": "R",
   "pygments_lexer": "r",
   "version": "3.6.1"
  }
 },
 "nbformat": 4,
 "nbformat_minor": 5
}
