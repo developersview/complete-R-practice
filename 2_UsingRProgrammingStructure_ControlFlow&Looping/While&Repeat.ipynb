{
 "cells": [
  {
   "cell_type": "code",
   "execution_count": 5,
   "id": "7c24446e-3044-4c53-81f0-850f8c40ae93",
   "metadata": {},
   "outputs": [
    {
     "name": "stdout",
     "output_type": "stream",
     "text": [
      "[1] 1\n",
      "[1] 2\n",
      "[1] 3\n",
      "[1] 4\n",
      "[1] 5\n"
     ]
    }
   ],
   "source": [
    "x <- 1\n",
    "\n",
    "while (x <= 5){\n",
    "    print(x)\n",
    "    x <- x + 1\n",
    "}"
   ]
  },
  {
   "cell_type": "code",
   "execution_count": 9,
   "id": "428e212f-acd7-4f4b-aa72-ac57b0cad3e2",
   "metadata": {},
   "outputs": [
    {
     "name": "stdout",
     "output_type": "stream",
     "text": [
      "[1] 1\n",
      "[1] 3\n",
      "[1] 5\n",
      "[1] 7\n",
      "[1] 9\n"
     ]
    }
   ],
   "source": [
    "x <- 1\n",
    "\n",
    "while (x <= 10){\n",
    "    print(x)\n",
    "    x <- x + 2\n",
    "}"
   ]
  },
  {
   "cell_type": "code",
   "execution_count": 13,
   "id": "fc8d0dd1-469b-408a-b9b1-0ffe608553d3",
   "metadata": {},
   "outputs": [
    {
     "name": "stdout",
     "output_type": "stream",
     "text": [
      "[1] 15\n",
      "[1] 7.5\n",
      "[1] 3.75\n",
      "[1] 1.875\n"
     ]
    }
   ],
   "source": [
    "x <- 15\n",
    "\n",
    "while (x >= 1){\n",
    "    print(x)\n",
    "    x <- x / 2\n",
    "}"
   ]
  },
  {
   "cell_type": "code",
   "execution_count": 15,
   "id": "c01e79f2-04d3-40a1-bbb8-bac69d8a487a",
   "metadata": {},
   "outputs": [],
   "source": [
    "x <- 5\n",
    "\n",
    "while (x < 1){\n",
    "    print(x)\n",
    "    x <- x + 1\n",
    "}"
   ]
  },
  {
   "cell_type": "code",
   "execution_count": 21,
   "id": "4580ba29-bdf9-4a7c-8b76-26c0aafb1ce1",
   "metadata": {},
   "outputs": [
    {
     "name": "stderr",
     "output_type": "stream",
     "text": [
      "This is repeat statement!\n"
     ]
    }
   ],
   "source": [
    "repeat {\n",
    "    message(\"This is repeat statement!\")\n",
    "    break\n",
    "}"
   ]
  },
  {
   "cell_type": "code",
   "execution_count": 23,
   "id": "7d92af66-0193-41bc-bd35-aff81c4f9b13",
   "metadata": {},
   "outputs": [
    {
     "name": "stdout",
     "output_type": "stream",
     "text": [
      "[1] 1\n",
      "[1] 3\n",
      "[1] 5\n",
      "[1] 7\n",
      "[1] 9\n",
      "[1] 11\n",
      "[1] 13\n",
      "[1] 15\n",
      "[1] 17\n",
      "[1] 19\n"
     ]
    }
   ],
   "source": [
    "x <- 1\n",
    "\n",
    "repeat {\n",
    "    print(x)\n",
    "    x <- x + 2\n",
    "    if(x >= 20){\n",
    "        break\n",
    "    }\n",
    "}"
   ]
  }
 ],
 "metadata": {
  "kernelspec": {
   "display_name": "R",
   "language": "R",
   "name": "ir"
  },
  "language_info": {
   "codemirror_mode": "r",
   "file_extension": ".r",
   "mimetype": "text/x-r-source",
   "name": "R",
   "pygments_lexer": "r",
   "version": "3.6.1"
  }
 },
 "nbformat": 4,
 "nbformat_minor": 5
}
