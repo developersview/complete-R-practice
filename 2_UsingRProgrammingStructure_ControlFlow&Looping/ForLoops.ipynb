{
 "cells": [
  {
   "cell_type": "code",
   "execution_count": 9,
   "id": "c775ec69-b388-4a19-ba91-25758c641dc5",
   "metadata": {},
   "outputs": [
    {
     "name": "stderr",
     "output_type": "stream",
     "text": [
      "Hello\n",
      "Hello\n",
      "Hello\n",
      "Hello\n",
      "Hello\n"
     ]
    }
   ],
   "source": [
    "for(i in 1:5)\n",
    "    message(\"Hello\")"
   ]
  },
  {
   "cell_type": "code",
   "execution_count": 11,
   "id": "e6a7d1ab-3c7d-4140-b329-43d3a0d77606",
   "metadata": {},
   "outputs": [
    {
     "name": "stderr",
     "output_type": "stream",
     "text": [
      "1st Message\n",
      "1st Message\n",
      "1st Message\n",
      "1st Message\n",
      "1st Message\n",
      "2nd Message\n"
     ]
    }
   ],
   "source": [
    "for(i in 1:5)\n",
    "    message(\"1st Message\")\n",
    "    message(\"2nd Message\")"
   ]
  },
  {
   "cell_type": "code",
   "execution_count": 13,
   "id": "fac3be2e-15d8-447a-b0ca-c94eec994a5a",
   "metadata": {},
   "outputs": [
    {
     "name": "stderr",
     "output_type": "stream",
     "text": [
      "1st Message\n",
      "2nd Message\n",
      "1st Message\n",
      "2nd Message\n",
      "1st Message\n",
      "2nd Message\n",
      "1st Message\n",
      "2nd Message\n",
      "1st Message\n",
      "2nd Message\n"
     ]
    }
   ],
   "source": [
    "for(i in 1:5){\n",
    "    message(\"1st Message\")\n",
    "    message(\"2nd Message\")\n",
    "}"
   ]
  },
  {
   "cell_type": "code",
   "execution_count": 17,
   "id": "4ab600c1-3b2f-482d-80d4-c3c6b0d240c2",
   "metadata": {},
   "outputs": [
    {
     "name": "stdout",
     "output_type": "stream",
     "text": [
      "Sqaure root of 1 is 1 \n",
      "Sqaure root of 4 is 2 \n",
      "Sqaure root of 7 is 2.645751 \n",
      "Sqaure root of 10 is 3.162278 \n",
      "Sqaure root of 13 is 3.605551 \n"
     ]
    }
   ],
   "source": [
    "for (x in seq(1, 15, by = 3)){\n",
    "    cat(\"Sqaure root of\", x, \"is\", x^0.5, \"\\n\")\n",
    "}"
   ]
  },
  {
   "cell_type": "code",
   "execution_count": 21,
   "id": "f6932a5d-eb1e-47c3-8d39-e70a4b2b1761",
   "metadata": {},
   "outputs": [
    {
     "name": "stderr",
     "output_type": "stream",
     "text": [
      "DOG\n",
      "CAT\n",
      "HORSE\n",
      "COW\n",
      "LION\n"
     ]
    }
   ],
   "source": [
    "animals <- c('dog', 'cat', 'horse', 'cow', 'lion')\n",
    "\n",
    "for (animal in animals){\n",
    "    message(toupper(animal))\n",
    "}"
   ]
  },
  {
   "cell_type": "code",
   "execution_count": 23,
   "id": "603fa716-7de7-4e9c-908b-a8be47cc44a9",
   "metadata": {},
   "outputs": [
    {
     "name": "stdout",
     "output_type": "stream",
     "text": [
      "[1] \"hello world\"\n"
     ]
    }
   ],
   "source": [
    "hello <- \"hello world\"\n",
    "for (ch in hello){\n",
    "    print(ch)\n",
    "}"
   ]
  },
  {
   "cell_type": "code",
   "execution_count": 27,
   "id": "af1b95a8-f1c2-4a50-8902-8df42765dca1",
   "metadata": {},
   "outputs": [
    {
     "data": {
      "text/html": [
       "<dl>\n",
       "\t<dt>$ids</dt>\n",
       "\t\t<dd><ol class=list-inline>\n",
       "\t<li>101</li>\n",
       "\t<li>102</li>\n",
       "\t<li>103</li>\n",
       "\t<li>104</li>\n",
       "</ol>\n",
       "</dd>\n",
       "\t<dt>$courses</dt>\n",
       "\t\t<dd><ol>\n",
       "\t<li>'R'</li>\n",
       "\t<li>'Python'</li>\n",
       "\t<li>'Java'</li>\n",
       "\t<li>'C#'</li>\n",
       "</ol>\n",
       "</dd>\n",
       "\t<dt>$available</dt>\n",
       "\t\t<dd><ol>\n",
       "\t<li>TRUE</li>\n",
       "\t<li>TRUE</li>\n",
       "\t<li>FALSE</li>\n",
       "\t<li>FALSE</li>\n",
       "</ol>\n",
       "</dd>\n",
       "</dl>\n"
      ],
      "text/latex": [
       "\\begin{description}\n",
       "\\item[\\$ids] \\begin{enumerate*}\n",
       "\\item 101\n",
       "\\item 102\n",
       "\\item 103\n",
       "\\item 104\n",
       "\\end{enumerate*}\n",
       "\n",
       "\\item[\\$courses] \\begin{enumerate}\n",
       "\\item 'R'\n",
       "\\item 'Python'\n",
       "\\item 'Java'\n",
       "\\item 'C\\#'\n",
       "\\end{enumerate}\n",
       "\n",
       "\\item[\\$available] \\begin{enumerate}\n",
       "\\item TRUE\n",
       "\\item TRUE\n",
       "\\item FALSE\n",
       "\\item FALSE\n",
       "\\end{enumerate}\n",
       "\n",
       "\\end{description}\n"
      ],
      "text/markdown": [
       "$ids\n",
       ":   1. 101\n",
       "2. 102\n",
       "3. 103\n",
       "4. 104\n",
       "\n",
       "\n",
       "\n",
       "$courses\n",
       ":   1. 'R'\n",
       "2. 'Python'\n",
       "3. 'Java'\n",
       "4. 'C#'\n",
       "\n",
       "\n",
       "\n",
       "$available\n",
       ":   1. TRUE\n",
       "2. TRUE\n",
       "3. FALSE\n",
       "4. FALSE\n",
       "\n",
       "\n",
       "\n",
       "\n",
       "\n"
      ],
      "text/plain": [
       "$ids\n",
       "[1] 101 102 103 104\n",
       "\n",
       "$courses\n",
       "$courses[[1]]\n",
       "[1] \"R\"\n",
       "\n",
       "$courses[[2]]\n",
       "[1] \"Python\"\n",
       "\n",
       "$courses[[3]]\n",
       "[1] \"Java\"\n",
       "\n",
       "$courses[[4]]\n",
       "[1] \"C#\"\n",
       "\n",
       "\n",
       "$available\n",
       "$available[[1]]\n",
       "[1] TRUE\n",
       "\n",
       "$available[[2]]\n",
       "[1] TRUE\n",
       "\n",
       "$available[[3]]\n",
       "[1] FALSE\n",
       "\n",
       "$available[[4]]\n",
       "[1] FALSE\n",
       "\n"
      ]
     },
     "metadata": {},
     "output_type": "display_data"
    }
   ],
   "source": [
    "course.list <- list('ids' = 101:104,\n",
    "                    'courses' = list('R', 'Python', 'Java', 'C#'),\n",
    "                    'available' = list(TRUE, TRUE, FALSE, FALSE)\n",
    "                    )\n",
    "course.list"
   ]
  },
  {
   "cell_type": "code",
   "execution_count": 31,
   "id": "8dafe8ce-7a44-4a41-905c-8e9dd8eea1ce",
   "metadata": {},
   "outputs": [
    {
     "name": "stderr",
     "output_type": "stream",
     "text": [
      "101102103104\n",
      "RPythonJavaC#\n",
      "TRUETRUEFALSEFALSE\n"
     ]
    }
   ],
   "source": [
    "for(item in course.list){\n",
    "    message(item)\n",
    "}"
   ]
  },
  {
   "cell_type": "code",
   "execution_count": 33,
   "id": "23918731-a1d9-4ed1-a3c5-38dd1395c7ce",
   "metadata": {},
   "outputs": [
    {
     "name": "stdout",
     "output_type": "stream",
     "text": [
      "[1] 101 102 103 104\n",
      "[[1]]\n",
      "[1] \"R\"\n",
      "\n",
      "[[2]]\n",
      "[1] \"Python\"\n",
      "\n",
      "[[3]]\n",
      "[1] \"Java\"\n",
      "\n",
      "[[4]]\n",
      "[1] \"C#\"\n",
      "\n",
      "[[1]]\n",
      "[1] TRUE\n",
      "\n",
      "[[2]]\n",
      "[1] TRUE\n",
      "\n",
      "[[3]]\n",
      "[1] FALSE\n",
      "\n",
      "[[4]]\n",
      "[1] FALSE\n",
      "\n"
     ]
    }
   ],
   "source": [
    "for(item in course.list){\n",
    "    print(item)\n",
    "}"
   ]
  },
  {
   "cell_type": "code",
   "execution_count": 35,
   "id": "8d1d5e2b-452d-4c48-9577-20dfde0ddfc0",
   "metadata": {},
   "outputs": [
    {
     "data": {
      "text/html": [
       "<dl>\n",
       "\t<dt>$ids</dt>\n",
       "\t\t<dd><ol class=list-inline>\n",
       "\t<li>101</li>\n",
       "\t<li>102</li>\n",
       "\t<li>103</li>\n",
       "\t<li>104</li>\n",
       "</ol>\n",
       "</dd>\n",
       "\t<dt>$courses</dt>\n",
       "\t\t<dd><ol class=list-inline>\n",
       "\t<li>'R'</li>\n",
       "\t<li>'Python'</li>\n",
       "\t<li>'Java'</li>\n",
       "\t<li>'C#'</li>\n",
       "</ol>\n",
       "</dd>\n",
       "\t<dt>$available</dt>\n",
       "\t\t<dd><ol class=list-inline>\n",
       "\t<li>TRUE</li>\n",
       "\t<li>TRUE</li>\n",
       "\t<li>FALSE</li>\n",
       "\t<li>FALSE</li>\n",
       "</ol>\n",
       "</dd>\n",
       "</dl>\n"
      ],
      "text/latex": [
       "\\begin{description}\n",
       "\\item[\\$ids] \\begin{enumerate*}\n",
       "\\item 101\n",
       "\\item 102\n",
       "\\item 103\n",
       "\\item 104\n",
       "\\end{enumerate*}\n",
       "\n",
       "\\item[\\$courses] \\begin{enumerate*}\n",
       "\\item 'R'\n",
       "\\item 'Python'\n",
       "\\item 'Java'\n",
       "\\item 'C\\#'\n",
       "\\end{enumerate*}\n",
       "\n",
       "\\item[\\$available] \\begin{enumerate*}\n",
       "\\item TRUE\n",
       "\\item TRUE\n",
       "\\item FALSE\n",
       "\\item FALSE\n",
       "\\end{enumerate*}\n",
       "\n",
       "\\end{description}\n"
      ],
      "text/markdown": [
       "$ids\n",
       ":   1. 101\n",
       "2. 102\n",
       "3. 103\n",
       "4. 104\n",
       "\n",
       "\n",
       "\n",
       "$courses\n",
       ":   1. 'R'\n",
       "2. 'Python'\n",
       "3. 'Java'\n",
       "4. 'C#'\n",
       "\n",
       "\n",
       "\n",
       "$available\n",
       ":   1. TRUE\n",
       "2. TRUE\n",
       "3. FALSE\n",
       "4. FALSE\n",
       "\n",
       "\n",
       "\n",
       "\n",
       "\n"
      ],
      "text/plain": [
       "$ids\n",
       "[1] 101 102 103 104\n",
       "\n",
       "$courses\n",
       "[1] \"R\"      \"Python\" \"Java\"   \"C#\"    \n",
       "\n",
       "$available\n",
       "[1]  TRUE  TRUE FALSE FALSE\n"
      ]
     },
     "metadata": {},
     "output_type": "display_data"
    }
   ],
   "source": [
    "course.list <- list('ids' = c(101:104),\n",
    "                    'courses' = c('R', 'Python', 'Java', 'C#'),\n",
    "                    'available' = c(TRUE, TRUE, FALSE, FALSE)\n",
    "                    )\n",
    "course.list"
   ]
  },
  {
   "cell_type": "code",
   "execution_count": 37,
   "id": "bf64389d-2409-459f-ab0a-14f29fb7ad97",
   "metadata": {},
   "outputs": [
    {
     "name": "stdout",
     "output_type": "stream",
     "text": [
      "[1] 101\n",
      "[1] 102\n",
      "[1] 103\n",
      "[1] 104\n",
      "[1] \"R\"\n",
      "[1] \"Python\"\n",
      "[1] \"Java\"\n",
      "[1] \"C#\"\n",
      "[1] TRUE\n",
      "[1] TRUE\n",
      "[1] FALSE\n",
      "[1] FALSE\n"
     ]
    }
   ],
   "source": [
    "for(items in course.list){\n",
    "    for(item in items){\n",
    "        print(item)\n",
    "    }\n",
    "}"
   ]
  },
  {
   "cell_type": "code",
   "execution_count": 43,
   "id": "83054c17-55fc-40a1-9015-52cad974420f",
   "metadata": {},
   "outputs": [
    {
     "data": {
      "text/html": [
       "<table>\n",
       "<tbody>\n",
       "\t<tr><td>1 </td><td> 2</td><td> 3</td><td> 4</td></tr>\n",
       "\t<tr><td>5 </td><td> 6</td><td> 7</td><td> 8</td></tr>\n",
       "\t<tr><td>9 </td><td>10</td><td>11</td><td>12</td></tr>\n",
       "</tbody>\n",
       "</table>\n"
      ],
      "text/latex": [
       "\\begin{tabular}{llll}\n",
       "\t 1  &  2 &  3 &  4\\\\\n",
       "\t 5  &  6 &  7 &  8\\\\\n",
       "\t 9  & 10 & 11 & 12\\\\\n",
       "\\end{tabular}\n"
      ],
      "text/markdown": [
       "\n",
       "| 1  |  2 |  3 |  4 |\n",
       "| 5  |  6 |  7 |  8 |\n",
       "| 9  | 10 | 11 | 12 |\n",
       "\n"
      ],
      "text/plain": [
       "     [,1] [,2] [,3] [,4]\n",
       "[1,] 1     2    3    4  \n",
       "[2,] 5     6    7    8  \n",
       "[3,] 9    10   11   12  "
      ]
     },
     "metadata": {},
     "output_type": "display_data"
    }
   ],
   "source": [
    "num <- matrix(1:12, nrow = 3, ncol = 4, byrow = TRUE)\n",
    "num"
   ]
  },
  {
   "cell_type": "code",
   "execution_count": 47,
   "id": "b557ec6a-c601-4b36-bb08-2034d0114847",
   "metadata": {},
   "outputs": [
    {
     "name": "stdout",
     "output_type": "stream",
     "text": [
      "1  2  3  4  5  6  7  8  9  10  11  12  "
     ]
    }
   ],
   "source": [
    "for(row in 1:nrow(num)){\n",
    "    for(col in 1:ncol(num)){\n",
    "        cat(num[row, col], \" \")\n",
    "    }\n",
    "}"
   ]
  },
  {
   "cell_type": "code",
   "execution_count": 49,
   "id": "c5f89cfa-3bf5-4dc9-ab15-def5871c292c",
   "metadata": {},
   "outputs": [
    {
     "data": {
      "text/html": [
       "<table>\n",
       "<tbody>\n",
       "\t<tr><td>1 </td><td>4 </td><td>7 </td><td>10</td></tr>\n",
       "\t<tr><td>2 </td><td>5 </td><td>8 </td><td>11</td></tr>\n",
       "\t<tr><td>3 </td><td>6 </td><td>9 </td><td>12</td></tr>\n",
       "</tbody>\n",
       "</table>\n"
      ],
      "text/latex": [
       "\\begin{tabular}{llll}\n",
       "\t 1  & 4  & 7  & 10\\\\\n",
       "\t 2  & 5  & 8  & 11\\\\\n",
       "\t 3  & 6  & 9  & 12\\\\\n",
       "\\end{tabular}\n"
      ],
      "text/markdown": [
       "\n",
       "| 1  | 4  | 7  | 10 |\n",
       "| 2  | 5  | 8  | 11 |\n",
       "| 3  | 6  | 9  | 12 |\n",
       "\n"
      ],
      "text/plain": [
       "     [,1] [,2] [,3] [,4]\n",
       "[1,] 1    4    7    10  \n",
       "[2,] 2    5    8    11  \n",
       "[3,] 3    6    9    12  "
      ]
     },
     "metadata": {},
     "output_type": "display_data"
    }
   ],
   "source": [
    "num <- matrix(1:12, nrow = 3, ncol = 4, byrow = FALSE)\n",
    "num"
   ]
  },
  {
   "cell_type": "code",
   "execution_count": 51,
   "id": "6ea52f8b-7467-4e85-afd5-33f362fbf1da",
   "metadata": {},
   "outputs": [
    {
     "name": "stdout",
     "output_type": "stream",
     "text": [
      "1  4  7  10  2  5  8  11  3  6  9  12  "
     ]
    }
   ],
   "source": [
    "for(row in 1:nrow(num)){\n",
    "    for(col in 1:ncol(num)){\n",
    "        cat(num[row, col], \" \")\n",
    "    }\n",
    "}"
   ]
  },
  {
   "cell_type": "code",
   "execution_count": 53,
   "id": "d12d0b11-ca03-42e1-87ac-a3d41ae0ef87",
   "metadata": {},
   "outputs": [
    {
     "name": "stdout",
     "output_type": "stream",
     "text": [
      "1  2  3  4  5  6  7  8  9  10  11  12  "
     ]
    }
   ],
   "source": [
    "for(col in 1:ncol(num)){\n",
    "    for(row in 1:nrow(num)){\n",
    "        cat(num[row, col], \" \")\n",
    "    }\n",
    "}"
   ]
  },
  {
   "cell_type": "code",
   "execution_count": 55,
   "id": "1b1438db-5560-473d-a753-e764d669de41",
   "metadata": {},
   "outputs": [
    {
     "name": "stdout",
     "output_type": "stream",
     "text": [
      "[1] 1\n",
      "[1] 2\n",
      "[1] 3\n",
      "[1] 4\n",
      "[1] 5\n"
     ]
    }
   ],
   "source": [
    "for(n in 1:10){\n",
    "    if(n == 6){\n",
    "        break\n",
    "    }\n",
    "    print(n)\n",
    "}"
   ]
  },
  {
   "cell_type": "code",
   "execution_count": 59,
   "id": "aecff34f-c09c-421e-9765-e5be004c3614",
   "metadata": {},
   "outputs": [
    {
     "name": "stdout",
     "output_type": "stream",
     "text": [
      "[1] 1\n",
      "[1] 2\n",
      "[1] 3\n",
      "[1] 4\n",
      "[1] 5\n",
      "[1] 6\n"
     ]
    }
   ],
   "source": [
    "for(n in 1:10){\n",
    "    print(n)\n",
    "    if(n == 6){\n",
    "        break\n",
    "    }\n",
    "\n",
    "}"
   ]
  },
  {
   "cell_type": "code",
   "execution_count": 61,
   "id": "ee8d15a3-7c21-4d8c-896c-d2ec1defd673",
   "metadata": {},
   "outputs": [
    {
     "name": "stdout",
     "output_type": "stream",
     "text": [
      "[1] 1\n",
      "[1] 2\n",
      "[1] 3\n",
      "[1] 4\n",
      "[1] 5\n",
      "[1] 7\n",
      "[1] 8\n",
      "[1] 9\n",
      "[1] 10\n"
     ]
    }
   ],
   "source": [
    "for(n in 1:10){\n",
    "\n",
    "    if(n == 6){\n",
    "        next\n",
    "    }\n",
    "    print(n)\n",
    "}"
   ]
  },
  {
   "cell_type": "code",
   "execution_count": 69,
   "id": "d124b722-bfeb-490a-bd91-6d50643dd994",
   "metadata": {},
   "outputs": [
    {
     "data": {
      "text/html": [
       "<ol class=list-inline>\n",
       "\t<li>'dog'</li>\n",
       "\t<li>'cat'</li>\n",
       "\t<li>'horse'</li>\n",
       "\t<li>'cow'</li>\n",
       "\t<li>'lion'</li>\n",
       "</ol>\n"
      ],
      "text/latex": [
       "\\begin{enumerate*}\n",
       "\\item 'dog'\n",
       "\\item 'cat'\n",
       "\\item 'horse'\n",
       "\\item 'cow'\n",
       "\\item 'lion'\n",
       "\\end{enumerate*}\n"
      ],
      "text/markdown": [
       "1. 'dog'\n",
       "2. 'cat'\n",
       "3. 'horse'\n",
       "4. 'cow'\n",
       "5. 'lion'\n",
       "\n",
       "\n"
      ],
      "text/plain": [
       "[1] \"dog\"   \"cat\"   \"horse\" \"cow\"   \"lion\" "
      ]
     },
     "metadata": {},
     "output_type": "display_data"
    }
   ],
   "source": [
    "animals <- c('dog', 'cat', 'horse', 'cow', 'lion')\n",
    "animals"
   ]
  },
  {
   "cell_type": "code",
   "execution_count": 71,
   "id": "61b4a9db-5b40-40ef-b35d-3d7418101eff",
   "metadata": {},
   "outputs": [
    {
     "data": {
      "text/html": [
       "<ol class=list-inline>\n",
       "\t<li>1</li>\n",
       "\t<li>2</li>\n",
       "\t<li>3</li>\n",
       "\t<li>4</li>\n",
       "\t<li>5</li>\n",
       "\t<li>6</li>\n",
       "\t<li>7</li>\n",
       "</ol>\n"
      ],
      "text/latex": [
       "\\begin{enumerate*}\n",
       "\\item 1\n",
       "\\item 2\n",
       "\\item 3\n",
       "\\item 4\n",
       "\\item 5\n",
       "\\item 6\n",
       "\\item 7\n",
       "\\end{enumerate*}\n"
      ],
      "text/markdown": [
       "1. 1\n",
       "2. 2\n",
       "3. 3\n",
       "4. 4\n",
       "5. 5\n",
       "6. 6\n",
       "7. 7\n",
       "\n",
       "\n"
      ],
      "text/plain": [
       "[1] 1 2 3 4 5 6 7"
      ]
     },
     "metadata": {},
     "output_type": "display_data"
    }
   ],
   "source": [
    "numbers <- 1:7\n",
    "numbers"
   ]
  },
  {
   "cell_type": "code",
   "execution_count": 73,
   "id": "92c27768-5e26-4528-91aa-6f1aebe2e12f",
   "metadata": {},
   "outputs": [
    {
     "data": {
      "text/html": [
       "<ol class=list-inline>\n",
       "\t<li>'a'</li>\n",
       "\t<li>'b'</li>\n",
       "\t<li>'c'</li>\n",
       "\t<li>'d'</li>\n",
       "\t<li>'e'</li>\n",
       "\t<li>'f'</li>\n",
       "\t<li>'g'</li>\n",
       "\t<li>'h'</li>\n",
       "\t<li>'i'</li>\n",
       "\t<li>'j'</li>\n",
       "\t<li>'k'</li>\n",
       "\t<li>'l'</li>\n",
       "\t<li>'m'</li>\n",
       "\t<li>'n'</li>\n",
       "\t<li>'o'</li>\n",
       "\t<li>'p'</li>\n",
       "\t<li>'q'</li>\n",
       "\t<li>'r'</li>\n",
       "\t<li>'s'</li>\n",
       "\t<li>'t'</li>\n",
       "\t<li>'u'</li>\n",
       "\t<li>'v'</li>\n",
       "\t<li>'w'</li>\n",
       "\t<li>'x'</li>\n",
       "\t<li>'y'</li>\n",
       "\t<li>'z'</li>\n",
       "</ol>\n"
      ],
      "text/latex": [
       "\\begin{enumerate*}\n",
       "\\item 'a'\n",
       "\\item 'b'\n",
       "\\item 'c'\n",
       "\\item 'd'\n",
       "\\item 'e'\n",
       "\\item 'f'\n",
       "\\item 'g'\n",
       "\\item 'h'\n",
       "\\item 'i'\n",
       "\\item 'j'\n",
       "\\item 'k'\n",
       "\\item 'l'\n",
       "\\item 'm'\n",
       "\\item 'n'\n",
       "\\item 'o'\n",
       "\\item 'p'\n",
       "\\item 'q'\n",
       "\\item 'r'\n",
       "\\item 's'\n",
       "\\item 't'\n",
       "\\item 'u'\n",
       "\\item 'v'\n",
       "\\item 'w'\n",
       "\\item 'x'\n",
       "\\item 'y'\n",
       "\\item 'z'\n",
       "\\end{enumerate*}\n"
      ],
      "text/markdown": [
       "1. 'a'\n",
       "2. 'b'\n",
       "3. 'c'\n",
       "4. 'd'\n",
       "5. 'e'\n",
       "6. 'f'\n",
       "7. 'g'\n",
       "8. 'h'\n",
       "9. 'i'\n",
       "10. 'j'\n",
       "11. 'k'\n",
       "12. 'l'\n",
       "13. 'm'\n",
       "14. 'n'\n",
       "15. 'o'\n",
       "16. 'p'\n",
       "17. 'q'\n",
       "18. 'r'\n",
       "19. 's'\n",
       "20. 't'\n",
       "21. 'u'\n",
       "22. 'v'\n",
       "23. 'w'\n",
       "24. 'x'\n",
       "25. 'y'\n",
       "26. 'z'\n",
       "\n",
       "\n"
      ],
      "text/plain": [
       " [1] \"a\" \"b\" \"c\" \"d\" \"e\" \"f\" \"g\" \"h\" \"i\" \"j\" \"k\" \"l\" \"m\" \"n\" \"o\" \"p\" \"q\" \"r\" \"s\"\n",
       "[20] \"t\" \"u\" \"v\" \"w\" \"x\" \"y\" \"z\""
      ]
     },
     "metadata": {},
     "output_type": "display_data"
    }
   ],
   "source": [
    "letters"
   ]
  },
  {
   "cell_type": "code",
   "execution_count": 80,
   "id": "2b828dff-68dd-49d4-9d09-541bb69aef53",
   "metadata": {},
   "outputs": [
    {
     "name": "stdout",
     "output_type": "stream",
     "text": [
      "[1] \"animals\"\n",
      "[1] \"numbers\"\n",
      "[1] \"letters\"\n"
     ]
    }
   ],
   "source": [
    "for(obj.string in c('animals', 'numbers', 'letters')){\n",
    "    print(obj.string)\n",
    "}"
   ]
  },
  {
   "cell_type": "code",
   "execution_count": 82,
   "id": "f39403c7-2e85-4174-bc73-0222fd929d10",
   "metadata": {},
   "outputs": [
    {
     "name": "stdout",
     "output_type": "stream",
     "text": [
      "[1] \"dog\"   \"cat\"   \"horse\" \"cow\"   \"lion\" \n",
      "[1] 1 2 3 4 5 6 7\n",
      " [1] \"a\" \"b\" \"c\" \"d\" \"e\" \"f\" \"g\" \"h\" \"i\" \"j\" \"k\" \"l\" \"m\" \"n\" \"o\" \"p\" \"q\" \"r\" \"s\"\n",
      "[20] \"t\" \"u\" \"v\" \"w\" \"x\" \"y\" \"z\"\n"
     ]
    }
   ],
   "source": [
    "for(obj.string in c('animals', 'numbers', 'letters')){\n",
    "    print(get(obj.string))\n",
    "}"
   ]
  },
  {
   "cell_type": "code",
   "execution_count": 9,
   "id": "7dfab805-da14-45f3-95d8-9f716577e2b3",
   "metadata": {},
   "outputs": [
    {
     "data": {
      "text/html": [
       "\n",
       "<table width=\"100%\" summary=\"page for tapply {base}\"><tr><td>tapply {base}</td><td style=\"text-align: right;\">R Documentation</td></tr></table>\n",
       "\n",
       "<h2>Apply a Function Over a Ragged Array</h2>\n",
       "\n",
       "<h3>Description</h3>\n",
       "\n",
       "<p>Apply a function to each cell of a ragged array, that is to each\n",
       "(non-empty) group of values given by a unique combination of the\n",
       "levels of certain factors.\n",
       "</p>\n",
       "\n",
       "\n",
       "<h3>Usage</h3>\n",
       "\n",
       "<pre>\n",
       "tapply(X, INDEX, FUN = NULL, ..., default = NA, simplify = TRUE)\n",
       "</pre>\n",
       "\n",
       "\n",
       "<h3>Arguments</h3>\n",
       "\n",
       "<table summary=\"R argblock\">\n",
       "<tr valign=\"top\"><td><code>X</code></td>\n",
       "<td>\n",
       "<p>an <span style=\"font-family: Courier New, Courier; color: #666666;\"><b>R</b></span> object for which a <code>split</code> method\n",
       "exists.  Typically vector-like, allowing subsetting with\n",
       "<code>[</code>.</p>\n",
       "</td></tr>\n",
       "<tr valign=\"top\"><td><code>INDEX</code></td>\n",
       "<td>\n",
       "<p>a <code>list</code> of one or more <code>factor</code>s,\n",
       "each of same length as <code>X</code>.  The elements are coerced to\n",
       "factors by <code>as.factor</code>.</p>\n",
       "</td></tr>\n",
       "<tr valign=\"top\"><td><code>FUN</code></td>\n",
       "<td>\n",
       "<p>a function (or name of a function) to be applied, or <code>NULL</code>.\n",
       "In the case of functions like <code>+</code>, <code>%*%</code>, etc.,\n",
       "the function name must be backquoted or quoted.  If <code>FUN</code> is\n",
       "<code>NULL</code>, tapply returns a vector which can be used to subscript\n",
       "the multi-way array <code>tapply</code> normally produces.</p>\n",
       "</td></tr>\n",
       "<tr valign=\"top\"><td><code>...</code></td>\n",
       "<td>\n",
       "<p>optional arguments to <code>FUN</code>: the Note section.</p>\n",
       "</td></tr>\n",
       "<tr valign=\"top\"><td><code>default</code></td>\n",
       "<td>\n",
       "<p>(only in the case of simplification to an array) the\n",
       "value with which the array is initialized as\n",
       "<code>array(default, dim = ..)</code>.  Before <span style=\"font-family: Courier New, Courier; color: #666666;\"><b>R</b></span> 3.4.0, this\n",
       "was hard coded to <code>array()</code>'s default <code>NA</code>.  If it\n",
       "is <code>NA</code> (the default), the missing value of the answer type,\n",
       "e.g. <code>NA_real_</code>, is chosen (<code>as.raw(0)</code> for\n",
       "<code>\"raw\"</code>).  In a numerical case, it may be set, e.g., to\n",
       "<code>FUN(integer(0))</code>, e.g., in the case of <code>FUN = sum</code> to\n",
       "<code>0</code> or <code>0L</code>.</p>\n",
       "</td></tr>\n",
       "<tr valign=\"top\"><td><code>simplify</code></td>\n",
       "<td>\n",
       "<p>logical; if <code>FALSE</code>, <code>tapply</code> always returns\n",
       "an array of mode <code>\"list\"</code>; in other words, a <code>list</code>\n",
       "with a <code>dim</code> attribute.  If <code>TRUE</code> (the default), then if\n",
       "<code>FUN</code> always returns a scalar, <code>tapply</code> returns an array\n",
       "with the mode of the scalar.</p>\n",
       "</td></tr>\n",
       "</table>\n",
       "\n",
       "\n",
       "<h3>Details</h3>\n",
       "\n",
       "<p>If <code>FUN</code> is not <code>NULL</code>, it is passed to\n",
       "<code>match.fun</code>, and hence it can be a function or a symbol or\n",
       "character string naming a function.\n",
       "</p>\n",
       "\n",
       "\n",
       "<h3>Value</h3>\n",
       "\n",
       "<p>When <code>FUN</code> is present, <code>tapply</code> calls <code>FUN</code> for each\n",
       "cell that has any data in it.  If <code>FUN</code> returns a single atomic\n",
       "value for each such cell (e.g., functions <code>mean</code> or <code>var</code>)\n",
       "and when <code>simplify</code> is <code>TRUE</code>, <code>tapply</code> returns a\n",
       "multi-way array containing the values, and <code>NA</code> for the\n",
       "empty cells.  The array has the same number of dimensions as\n",
       "<code>INDEX</code> has components; the number of levels in a dimension is\n",
       "the number of levels (<code>nlevels()</code>) in the corresponding component\n",
       "of <code>INDEX</code>.  Note that if the return value has a class (e.g., an\n",
       "object of class <code>\"Date\"</code>) the class is discarded.\n",
       "</p>\n",
       "<p><code>simplify = TRUE</code> always returns an array, possibly 1-dimensional.\n",
       "</p>\n",
       "<p>If <code>FUN</code> does not return a single atomic value, <code>tapply</code>\n",
       "returns an array of mode <code>list</code> whose components are the\n",
       "values of the individual calls to <code>FUN</code>, i.e., the result is a\n",
       "list with a <code>dim</code> attribute.\n",
       "</p>\n",
       "<p>When there is an array answer, its <code>dimnames</code> are named by\n",
       "the names of <code>INDEX</code> and are based on the levels of the grouping\n",
       "factors (possibly after coercion).\n",
       "</p>\n",
       "<p>For a list result, the elements corresponding to empty cells are\n",
       "<code>NULL</code>.\n",
       "</p>\n",
       "\n",
       "\n",
       "<h3>Note</h3>\n",
       "\n",
       "<p>Optional arguments to <code>FUN</code> supplied by the <code>...</code> argument\n",
       "are not divided into cells.  It is therefore inappropriate for\n",
       "<code>FUN</code> to expect additional arguments with the same length as\n",
       "<code>X</code>.\n",
       "</p>\n",
       "\n",
       "\n",
       "<h3>References</h3>\n",
       "\n",
       "<p>Becker, R. A., Chambers, J. M. and Wilks, A. R. (1988)\n",
       "<em>The New S Language</em>.\n",
       "Wadsworth &amp; Brooks/Cole.\n",
       "</p>\n",
       "\n",
       "\n",
       "<h3>See Also</h3>\n",
       "\n",
       "<p>the convenience functions <code>by</code> and\n",
       "<code>aggregate</code> (using <code>tapply</code>);\n",
       "<code>apply</code>,\n",
       "<code>lapply</code> with its versions\n",
       "<code>sapply</code> and <code>mapply</code>.\n",
       "</p>\n",
       "\n",
       "\n",
       "<h3>Examples</h3>\n",
       "\n",
       "<pre>\n",
       "require(stats)\n",
       "groups &lt;- as.factor(rbinom(32, n = 5, prob = 0.4))\n",
       "tapply(groups, groups, length) #- is almost the same as\n",
       "table(groups)\n",
       "\n",
       "## contingency table from data.frame : array with named dimnames\n",
       "tapply(warpbreaks$breaks, warpbreaks[,-1], sum)\n",
       "tapply(warpbreaks$breaks, warpbreaks[, 3, drop = FALSE], sum)\n",
       "\n",
       "n &lt;- 17; fac &lt;- factor(rep_len(1:3, n), levels = 1:5)\n",
       "table(fac)\n",
       "tapply(1:n, fac, sum)\n",
       "tapply(1:n, fac, sum, default = 0) # maybe more desirable\n",
       "tapply(1:n, fac, sum, simplify = FALSE)\n",
       "tapply(1:n, fac, range)\n",
       "tapply(1:n, fac, quantile)\n",
       "tapply(1:n, fac, length) ## NA's\n",
       "tapply(1:n, fac, length, default = 0) # == table(fac)\n",
       "\n",
       "## example of ... argument: find quarterly means\n",
       "tapply(presidents, cycle(presidents), mean, na.rm = TRUE)\n",
       "\n",
       "ind &lt;- list(c(1, 2, 2), c(\"A\", \"A\", \"B\"))\n",
       "table(ind)\n",
       "tapply(1:3, ind) #-&gt; the split vector\n",
       "tapply(1:3, ind, sum)\n",
       "\n",
       "## Some assertions (not held by all patch propsals):\n",
       "nq &lt;- names(quantile(1:5))\n",
       "stopifnot(\n",
       "  identical(tapply(1:3, ind), c(1L, 2L, 4L)),\n",
       "  identical(tapply(1:3, ind, sum),\n",
       "            matrix(c(1L, 2L, NA, 3L), 2, dimnames = list(c(\"1\", \"2\"), c(\"A\", \"B\")))),\n",
       "  identical(tapply(1:n, fac, quantile)[-1],\n",
       "            array(list(`2` = structure(c(2, 5.75, 9.5, 13.25, 17), .Names = nq),\n",
       "                 `3` = structure(c(3, 6, 9, 12, 15), .Names = nq),\n",
       "                 `4` = NULL, `5` = NULL), dim=4, dimnames=list(as.character(2:5)))))\n",
       "</pre>\n",
       "\n",
       "<hr /><div style=\"text-align: center;\">[Package <em>base</em> version 3.6.1 ]</div>"
      ],
      "text/latex": [
       "\\inputencoding{utf8}\n",
       "\\HeaderA{tapply}{Apply a Function Over a Ragged Array}{tapply}\n",
       "\\keyword{iteration}{tapply}\n",
       "\\keyword{category}{tapply}\n",
       "%\n",
       "\\begin{Description}\\relax\n",
       "Apply a function to each cell of a ragged array, that is to each\n",
       "(non-empty) group of values given by a unique combination of the\n",
       "levels of certain factors.\n",
       "\\end{Description}\n",
       "%\n",
       "\\begin{Usage}\n",
       "\\begin{verbatim}\n",
       "tapply(X, INDEX, FUN = NULL, ..., default = NA, simplify = TRUE)\n",
       "\\end{verbatim}\n",
       "\\end{Usage}\n",
       "%\n",
       "\\begin{Arguments}\n",
       "\\begin{ldescription}\n",
       "\\item[\\code{X}] an \\R{} object for which a \\code{\\LinkA{split}{split}} method\n",
       "exists.  Typically vector-like, allowing subsetting with\n",
       "\\code{\\LinkA{[}{[}}.\n",
       "\\item[\\code{INDEX}] a \\code{\\LinkA{list}{list}} of one or more \\code{\\LinkA{factor}{factor}}s,\n",
       "each of same length as \\code{X}.  The elements are coerced to\n",
       "factors by \\code{\\LinkA{as.factor}{as.factor}}.\n",
       "\\item[\\code{FUN}] a function (or name of a function) to be applied, or \\code{NULL}.\n",
       "In the case of functions like \\code{+}, \\code{\\%*\\%}, etc.,\n",
       "the function name must be backquoted or quoted.  If \\code{FUN} is\n",
       "\\code{NULL}, tapply returns a vector which can be used to subscript\n",
       "the multi-way array \\code{tapply} normally produces.\n",
       "\\item[\\code{...}] optional arguments to \\code{FUN}: the Note section.\n",
       "\\item[\\code{default}] (only in the case of simplification to an array) the\n",
       "value with which the array is initialized as\n",
       "\\code{\\LinkA{array}{array}(default, dim = ..)}.  Before \\R{} 3.4.0, this\n",
       "was hard coded to \\code{\\LinkA{array}{array}()}'s default \\code{NA}.  If it\n",
       "is \\code{NA} (the default), the missing value of the answer type,\n",
       "e.g. \\code{\\LinkA{NA\\_real\\_}{NA.Rul.real.Rul.}}, is chosen (\\code{\\LinkA{as.raw}{as.raw}(0)} for\n",
       "\\code{\"raw\"}).  In a numerical case, it may be set, e.g., to\n",
       "\\code{FUN(integer(0))}, e.g., in the case of \\code{FUN = sum} to\n",
       "\\code{0} or \\code{0L}.\n",
       "\\item[\\code{simplify}] logical; if \\code{FALSE}, \\code{tapply} always returns\n",
       "an array of mode \\code{\"list\"}; in other words, a \\code{\\LinkA{list}{list}}\n",
       "with a \\code{\\LinkA{dim}{dim}} attribute.  If \\code{TRUE} (the default), then if\n",
       "\\code{FUN} always returns a scalar, \\code{tapply} returns an array\n",
       "with the mode of the scalar.\n",
       "\\end{ldescription}\n",
       "\\end{Arguments}\n",
       "%\n",
       "\\begin{Details}\\relax\n",
       "If \\code{FUN} is not \\code{NULL}, it is passed to\n",
       "\\code{\\LinkA{match.fun}{match.fun}}, and hence it can be a function or a symbol or\n",
       "character string naming a function.\n",
       "\\end{Details}\n",
       "%\n",
       "\\begin{Value}\n",
       "When \\code{FUN} is present, \\code{tapply} calls \\code{FUN} for each\n",
       "cell that has any data in it.  If \\code{FUN} returns a single atomic\n",
       "value for each such cell (e.g., functions \\code{mean} or \\code{var})\n",
       "and when \\code{simplify} is \\code{TRUE}, \\code{tapply} returns a\n",
       "multi-way \\LinkA{array}{array} containing the values, and \\code{NA} for the\n",
       "empty cells.  The array has the same number of dimensions as\n",
       "\\code{INDEX} has components; the number of levels in a dimension is\n",
       "the number of levels (\\code{nlevels()}) in the corresponding component\n",
       "of \\code{INDEX}.  Note that if the return value has a class (e.g., an\n",
       "object of class \\code{\"\\LinkA{Date}{Date}\"}) the class is discarded.\n",
       "\n",
       "\\code{simplify = TRUE} always returns an array, possibly 1-dimensional.\n",
       "\n",
       "If \\code{FUN} does not return a single atomic value, \\code{tapply}\n",
       "returns an array of mode \\code{\\LinkA{list}{list}} whose components are the\n",
       "values of the individual calls to \\code{FUN}, i.e., the result is a\n",
       "list with a \\code{\\LinkA{dim}{dim}} attribute.\n",
       "\n",
       "When there is an array answer, its \\code{\\LinkA{dimnames}{dimnames}} are named by\n",
       "the names of \\code{INDEX} and are based on the levels of the grouping\n",
       "factors (possibly after coercion).\n",
       "\n",
       "For a list result, the elements corresponding to empty cells are\n",
       "\\code{NULL}.\n",
       "\\end{Value}\n",
       "%\n",
       "\\begin{Note}\\relax\n",
       "Optional arguments to \\code{FUN} supplied by the \\code{...} argument\n",
       "are not divided into cells.  It is therefore inappropriate for\n",
       "\\code{FUN} to expect additional arguments with the same length as\n",
       "\\code{X}.\n",
       "\\end{Note}\n",
       "%\n",
       "\\begin{References}\\relax\n",
       "Becker, R. A., Chambers, J. M. and Wilks, A. R. (1988)\n",
       "\\emph{The New S Language}.\n",
       "Wadsworth \\& Brooks/Cole.\n",
       "\\end{References}\n",
       "%\n",
       "\\begin{SeeAlso}\\relax\n",
       "the convenience functions \\code{\\LinkA{by}{by}} and\n",
       "\\code{\\LinkA{aggregate}{aggregate}} (using \\code{tapply});\n",
       "\\code{\\LinkA{apply}{apply}},\n",
       "\\code{\\LinkA{lapply}{lapply}} with its versions\n",
       "\\code{\\LinkA{sapply}{sapply}} and \\code{\\LinkA{mapply}{mapply}}.\n",
       "\\end{SeeAlso}\n",
       "%\n",
       "\\begin{Examples}\n",
       "\\begin{ExampleCode}\n",
       "require(stats)\n",
       "groups <- as.factor(rbinom(32, n = 5, prob = 0.4))\n",
       "tapply(groups, groups, length) #- is almost the same as\n",
       "table(groups)\n",
       "\n",
       "## contingency table from data.frame : array with named dimnames\n",
       "tapply(warpbreaks$breaks, warpbreaks[,-1], sum)\n",
       "tapply(warpbreaks$breaks, warpbreaks[, 3, drop = FALSE], sum)\n",
       "\n",
       "n <- 17; fac <- factor(rep_len(1:3, n), levels = 1:5)\n",
       "table(fac)\n",
       "tapply(1:n, fac, sum)\n",
       "tapply(1:n, fac, sum, default = 0) # maybe more desirable\n",
       "tapply(1:n, fac, sum, simplify = FALSE)\n",
       "tapply(1:n, fac, range)\n",
       "tapply(1:n, fac, quantile)\n",
       "tapply(1:n, fac, length) ## NA's\n",
       "tapply(1:n, fac, length, default = 0) # == table(fac)\n",
       "\n",
       "## example of ... argument: find quarterly means\n",
       "tapply(presidents, cycle(presidents), mean, na.rm = TRUE)\n",
       "\n",
       "ind <- list(c(1, 2, 2), c(\"A\", \"A\", \"B\"))\n",
       "table(ind)\n",
       "tapply(1:3, ind) #-> the split vector\n",
       "tapply(1:3, ind, sum)\n",
       "\n",
       "## Some assertions (not held by all patch propsals):\n",
       "nq <- names(quantile(1:5))\n",
       "stopifnot(\n",
       "  identical(tapply(1:3, ind), c(1L, 2L, 4L)),\n",
       "  identical(tapply(1:3, ind, sum),\n",
       "            matrix(c(1L, 2L, NA, 3L), 2, dimnames = list(c(\"1\", \"2\"), c(\"A\", \"B\")))),\n",
       "  identical(tapply(1:n, fac, quantile)[-1],\n",
       "            array(list(`2` = structure(c(2, 5.75, 9.5, 13.25, 17), .Names = nq),\n",
       "                 `3` = structure(c(3, 6, 9, 12, 15), .Names = nq),\n",
       "                 `4` = NULL, `5` = NULL), dim=4, dimnames=list(as.character(2:5)))))\n",
       "\\end{ExampleCode}\n",
       "\\end{Examples}"
      ],
      "text/plain": [
       "tapply                  package:base                   R Documentation\n",
       "\n",
       "_\bA_\bp_\bp_\bl_\by _\ba _\bF_\bu_\bn_\bc_\bt_\bi_\bo_\bn _\bO_\bv_\be_\br _\ba _\bR_\ba_\bg_\bg_\be_\bd _\bA_\br_\br_\ba_\by\n",
       "\n",
       "_\bD_\be_\bs_\bc_\br_\bi_\bp_\bt_\bi_\bo_\bn:\n",
       "\n",
       "     Apply a function to each cell of a ragged array, that is to each\n",
       "     (non-empty) group of values given by a unique combination of the\n",
       "     levels of certain factors.\n",
       "\n",
       "_\bU_\bs_\ba_\bg_\be:\n",
       "\n",
       "     tapply(X, INDEX, FUN = NULL, ..., default = NA, simplify = TRUE)\n",
       "     \n",
       "_\bA_\br_\bg_\bu_\bm_\be_\bn_\bt_\bs:\n",
       "\n",
       "       X: an R object for which a 'split' method exists.  Typically\n",
       "          vector-like, allowing subsetting with '['.\n",
       "\n",
       "   INDEX: a 'list' of one or more 'factor's, each of same length as\n",
       "          'X'.  The elements are coerced to factors by 'as.factor'.\n",
       "\n",
       "     FUN: a function (or name of a function) to be applied, or 'NULL'.\n",
       "          In the case of functions like '+', '%*%', etc., the function\n",
       "          name must be backquoted or quoted.  If 'FUN' is 'NULL',\n",
       "          tapply returns a vector which can be used to subscript the\n",
       "          multi-way array 'tapply' normally produces.\n",
       "\n",
       "     ...: optional arguments to 'FUN': the Note section.\n",
       "\n",
       " default: (only in the case of simplification to an array) the value\n",
       "          with which the array is initialized as 'array(default, dim =\n",
       "          ..)'.  Before R 3.4.0, this was hard coded to 'array()''s\n",
       "          default 'NA'.  If it is 'NA' (the default), the missing value\n",
       "          of the answer type, e.g. 'NA_real_', is chosen ('as.raw(0)'\n",
       "          for '\"raw\"').  In a numerical case, it may be set, e.g., to\n",
       "          'FUN(integer(0))', e.g., in the case of 'FUN = sum' to '0' or\n",
       "          '0L'.\n",
       "\n",
       "simplify: logical; if 'FALSE', 'tapply' always returns an array of mode\n",
       "          '\"list\"'; in other words, a 'list' with a 'dim' attribute.\n",
       "          If 'TRUE' (the default), then if 'FUN' always returns a\n",
       "          scalar, 'tapply' returns an array with the mode of the\n",
       "          scalar.\n",
       "\n",
       "_\bD_\be_\bt_\ba_\bi_\bl_\bs:\n",
       "\n",
       "     If 'FUN' is not 'NULL', it is passed to 'match.fun', and hence it\n",
       "     can be a function or a symbol or character string naming a\n",
       "     function.\n",
       "\n",
       "_\bV_\ba_\bl_\bu_\be:\n",
       "\n",
       "     When 'FUN' is present, 'tapply' calls 'FUN' for each cell that has\n",
       "     any data in it.  If 'FUN' returns a single atomic value for each\n",
       "     such cell (e.g., functions 'mean' or 'var') and when 'simplify' is\n",
       "     'TRUE', 'tapply' returns a multi-way array containing the values,\n",
       "     and 'NA' for the empty cells.  The array has the same number of\n",
       "     dimensions as 'INDEX' has components; the number of levels in a\n",
       "     dimension is the number of levels ('nlevels()') in the\n",
       "     corresponding component of 'INDEX'.  Note that if the return value\n",
       "     has a class (e.g., an object of class '\"Date\"') the class is\n",
       "     discarded.\n",
       "\n",
       "     'simplify = TRUE' always returns an array, possibly 1-dimensional.\n",
       "\n",
       "     If 'FUN' does not return a single atomic value, 'tapply' returns\n",
       "     an array of mode 'list' whose components are the values of the\n",
       "     individual calls to 'FUN', i.e., the result is a list with a 'dim'\n",
       "     attribute.\n",
       "\n",
       "     When there is an array answer, its 'dimnames' are named by the\n",
       "     names of 'INDEX' and are based on the levels of the grouping\n",
       "     factors (possibly after coercion).\n",
       "\n",
       "     For a list result, the elements corresponding to empty cells are\n",
       "     'NULL'.\n",
       "\n",
       "_\bN_\bo_\bt_\be:\n",
       "\n",
       "     Optional arguments to 'FUN' supplied by the '...' argument are not\n",
       "     divided into cells.  It is therefore inappropriate for 'FUN' to\n",
       "     expect additional arguments with the same length as 'X'.\n",
       "\n",
       "_\bR_\be_\bf_\be_\br_\be_\bn_\bc_\be_\bs:\n",
       "\n",
       "     Becker, R. A., Chambers, J. M. and Wilks, A. R. (1988) _The New S\n",
       "     Language_.  Wadsworth & Brooks/Cole.\n",
       "\n",
       "_\bS_\be_\be _\bA_\bl_\bs_\bo:\n",
       "\n",
       "     the convenience functions 'by' and 'aggregate' (using 'tapply');\n",
       "     'apply', 'lapply' with its versions 'sapply' and 'mapply'.\n",
       "\n",
       "_\bE_\bx_\ba_\bm_\bp_\bl_\be_\bs:\n",
       "\n",
       "     require(stats)\n",
       "     groups <- as.factor(rbinom(32, n = 5, prob = 0.4))\n",
       "     tapply(groups, groups, length) #- is almost the same as\n",
       "     table(groups)\n",
       "     \n",
       "     ## contingency table from data.frame : array with named dimnames\n",
       "     tapply(warpbreaks$breaks, warpbreaks[,-1], sum)\n",
       "     tapply(warpbreaks$breaks, warpbreaks[, 3, drop = FALSE], sum)\n",
       "     \n",
       "     n <- 17; fac <- factor(rep_len(1:3, n), levels = 1:5)\n",
       "     table(fac)\n",
       "     tapply(1:n, fac, sum)\n",
       "     tapply(1:n, fac, sum, default = 0) # maybe more desirable\n",
       "     tapply(1:n, fac, sum, simplify = FALSE)\n",
       "     tapply(1:n, fac, range)\n",
       "     tapply(1:n, fac, quantile)\n",
       "     tapply(1:n, fac, length) ## NA's\n",
       "     tapply(1:n, fac, length, default = 0) # == table(fac)\n",
       "     \n",
       "     ## example of ... argument: find quarterly means\n",
       "     tapply(presidents, cycle(presidents), mean, na.rm = TRUE)\n",
       "     \n",
       "     ind <- list(c(1, 2, 2), c(\"A\", \"A\", \"B\"))\n",
       "     table(ind)\n",
       "     tapply(1:3, ind) #-> the split vector\n",
       "     tapply(1:3, ind, sum)\n",
       "     \n",
       "     ## Some assertions (not held by all patch propsals):\n",
       "     nq <- names(quantile(1:5))\n",
       "     stopifnot(\n",
       "       identical(tapply(1:3, ind), c(1L, 2L, 4L)),\n",
       "       identical(tapply(1:3, ind, sum),\n",
       "                 matrix(c(1L, 2L, NA, 3L), 2, dimnames = list(c(\"1\", \"2\"), c(\"A\", \"B\")))),\n",
       "       identical(tapply(1:n, fac, quantile)[-1],\n",
       "                 array(list(`2` = structure(c(2, 5.75, 9.5, 13.25, 17), .Names = nq),\n",
       "                      `3` = structure(c(3, 6, 9, 12, 15), .Names = nq),\n",
       "                      `4` = NULL, `5` = NULL), dim=4, dimnames=list(as.character(2:5)))))\n",
       "     "
      ]
     },
     "metadata": {},
     "output_type": "display_data"
    }
   ],
   "source": [
    "?tapply"
   ]
  },
  {
   "cell_type": "code",
   "execution_count": 1,
   "id": "2c2c5d47-5ab2-4a5e-9a05-79b8fcf0a94c",
   "metadata": {},
   "outputs": [
    {
     "data": {
      "text/html": [
       "\n",
       "<table width=\"100%\" summary=\"page for lapply {base}\"><tr><td>lapply {base}</td><td style=\"text-align: right;\">R Documentation</td></tr></table>\n",
       "\n",
       "<h2>Apply a Function over a List or Vector</h2>\n",
       "\n",
       "<h3>Description</h3>\n",
       "\n",
       "<p><code>lapply</code> returns a list of the same length as <code>X</code>, each\n",
       "element of which is the result of applying <code>FUN</code> to the\n",
       "corresponding element of <code>X</code>.\n",
       "</p>\n",
       "<p><code>sapply</code> is a user-friendly version and wrapper of <code>lapply</code>\n",
       "by default returning a vector, matrix or, if <code>simplify = \"array\"</code>, an\n",
       "array if appropriate, by applying <code>simplify2array()</code>.\n",
       "<code>sapply(x, f, simplify = FALSE, USE.NAMES = FALSE)</code> is the same as\n",
       "<code>lapply(x, f)</code>.\n",
       "</p>\n",
       "<p><code>vapply</code> is similar to <code>sapply</code>, but has a pre-specified\n",
       "type of return value, so it can be safer (and sometimes faster) to\n",
       "use.\n",
       "</p>\n",
       "<p><code>replicate</code> is a wrapper for the common use of <code>sapply</code> for\n",
       "repeated evaluation of an expression (which will usually involve\n",
       "random number generation).\n",
       "</p>\n",
       "<p><code>simplify2array()</code> is the utility called from <code>sapply()</code>\n",
       "when <code>simplify</code> is not false and is similarly called from\n",
       "<code>mapply()</code>.\n",
       "</p>\n",
       "\n",
       "\n",
       "<h3>Usage</h3>\n",
       "\n",
       "<pre>\n",
       "lapply(X, FUN, ...)\n",
       "\n",
       "sapply(X, FUN, ..., simplify = TRUE, USE.NAMES = TRUE)\n",
       "\n",
       "vapply(X, FUN, FUN.VALUE, ..., USE.NAMES = TRUE)\n",
       "\n",
       "replicate(n, expr, simplify = \"array\")\n",
       "\n",
       "simplify2array(x, higher = TRUE)\n",
       "</pre>\n",
       "\n",
       "\n",
       "<h3>Arguments</h3>\n",
       "\n",
       "<table summary=\"R argblock\">\n",
       "<tr valign=\"top\"><td><code>X</code></td>\n",
       "<td>\n",
       "<p>a vector (atomic or list) or an <code>expression</code>\n",
       "object.  Other objects (including classed objects) will be coerced\n",
       "by <code>base::as.list</code>.</p>\n",
       "</td></tr>\n",
       "<tr valign=\"top\"><td><code>FUN</code></td>\n",
       "<td>\n",
       "<p>the function to be applied to each element of <code>X</code>:\n",
       "see &lsquo;Details&rsquo;.  In the case of functions like\n",
       "<code>+</code>, <code>%*%</code>, the function name must be backquoted or quoted.</p>\n",
       "</td></tr>\n",
       "<tr valign=\"top\"><td><code>...</code></td>\n",
       "<td>\n",
       "<p>optional arguments to <code>FUN</code>.</p>\n",
       "</td></tr>\n",
       "<tr valign=\"top\"><td><code>simplify</code></td>\n",
       "<td>\n",
       "<p>logical or character string; should the result be\n",
       "simplified to a vector, matrix or higher dimensional array if\n",
       "possible?  For <code>sapply</code> it must be named and not abbreviated.\n",
       "The default value, <code>TRUE</code>, returns a vector or matrix if appropriate,\n",
       "whereas if <code>simplify = \"array\"</code> the result may be an\n",
       "<code>array</code> of &ldquo;rank&rdquo;\n",
       "(<i>=</i><code>length(dim(.))</code>) one higher than the result\n",
       "of <code>FUN(X[[i]])</code>.</p>\n",
       "</td></tr>\n",
       "<tr valign=\"top\"><td><code>USE.NAMES</code></td>\n",
       "<td>\n",
       "<p>logical; if <code>TRUE</code> and if <code>X</code> is character,\n",
       "use <code>X</code> as <code>names</code> for the result unless it had names\n",
       "already.  Since this argument follows <code>...</code> its name cannot\n",
       "be abbreviated.</p>\n",
       "</td></tr>\n",
       "<tr valign=\"top\"><td><code>FUN.VALUE</code></td>\n",
       "<td>\n",
       "<p>a (generalized) vector; a template for the return\n",
       "value from FUN.  See &lsquo;Details&rsquo;.</p>\n",
       "</td></tr>\n",
       "<tr valign=\"top\"><td><code>n</code></td>\n",
       "<td>\n",
       "<p>integer: the number of replications.</p>\n",
       "</td></tr>\n",
       "<tr valign=\"top\"><td><code>expr</code></td>\n",
       "<td>\n",
       "<p>the expression (a language object, usually a call)\n",
       "to evaluate repeatedly.</p>\n",
       "</td></tr>\n",
       "<tr valign=\"top\"><td><code>x</code></td>\n",
       "<td>\n",
       "<p>a list, typically returned from <code>lapply()</code>.</p>\n",
       "</td></tr>\n",
       "<tr valign=\"top\"><td><code>higher</code></td>\n",
       "<td>\n",
       "<p>logical; if true, <code>simplify2array()</code> will produce a\n",
       "(&ldquo;higher rank&rdquo;) array when appropriate, whereas\n",
       "<code>higher = FALSE</code> would return a matrix (or vector) only.\n",
       "These two cases correspond to <code>sapply(*, simplify = \"array\")</code> or\n",
       "<code>simplify = TRUE</code>, respectively.</p>\n",
       "</td></tr>\n",
       "</table>\n",
       "\n",
       "\n",
       "<h3>Details</h3>\n",
       "\n",
       "<p><code>FUN</code> is found by a call to <code>match.fun</code> and typically\n",
       "is specified as a function or a symbol (e.g., a backquoted name) or a\n",
       "character string specifying a function to be searched for from the\n",
       "environment of the call to <code>lapply</code>.\n",
       "</p>\n",
       "<p>Function <code>FUN</code> must be able to accept as input any of the\n",
       "elements of <code>X</code>.  If the latter is an atomic vector, <code>FUN</code>\n",
       "will always be passed a length-one vector of the same type as <code>X</code>.\n",
       "</p>\n",
       "<p>Arguments in <code>...</code> cannot have the same name as any of the\n",
       "other arguments, and care may be needed to avoid partial matching to\n",
       "<code>FUN</code>.  In general-purpose code it is good practice to name the\n",
       "first two arguments <code>X</code> and <code>FUN</code> if <code>...</code> is passed\n",
       "through: this both avoids partial matching to <code>FUN</code> and ensures\n",
       "that a sensible error message is given if arguments named <code>X</code> or\n",
       "<code>FUN</code> are passed through <code>...</code>.\n",
       "</p>\n",
       "<p>Simplification in <code>sapply</code> is only attempted if <code>X</code> has\n",
       "length greater than zero and if the return values from all elements\n",
       "of <code>X</code> are all of the same (positive) length.  If the common\n",
       "length is one the result is a vector, and if greater than one is a\n",
       "matrix with a column corresponding to each element of <code>X</code>.\n",
       "</p>\n",
       "<p>Simplification is always done in <code>vapply</code>.  This function\n",
       "checks that all values of <code>FUN</code> are compatible with the\n",
       "<code>FUN.VALUE</code>, in that they must have the same length and type.\n",
       "(Types may be promoted to a higher type within the ordering logical\n",
       "&lt; integer &lt; double &lt; complex, but not demoted.)\n",
       "</p>\n",
       "<p>Users of S4 classes should pass a list to <code>lapply</code> and\n",
       "<code>vapply</code>: the internal coercion is done by the <code>as.list</code> in\n",
       "the base namespace and not one defined by a user (e.g., by setting S4\n",
       "methods on the base function).\n",
       "\n",
       "</p>\n",
       "<p><code>lapply</code> and <code>vapply</code> are primitive functions.\n",
       "</p>\n",
       "\n",
       "\n",
       "<h3>Value</h3>\n",
       "\n",
       "<p>For <code>lapply</code>, <code>sapply(simplify = FALSE)</code> and\n",
       "<code>replicate(simplify = FALSE)</code>, a list.\n",
       "</p>\n",
       "<p>For <code>sapply(simplify = TRUE)</code> and <code>replicate(simplify =\n",
       "  TRUE)</code>: if <code>X</code> has length zero or <code>n = 0</code>, an empty list.\n",
       "Otherwise an atomic vector or matrix or list of the same length as\n",
       "<code>X</code> (of length <code>n</code> for <code>replicate</code>).  If simplification\n",
       "occurs, the output type is determined from the highest type of the\n",
       "return values in the hierarchy NULL &lt; raw &lt; logical &lt; integer &lt; double &lt;\n",
       "complex &lt; character &lt; list &lt; expression, after coercion of pairlists\n",
       "to lists.\n",
       "</p>\n",
       "<p><code>vapply</code> returns a vector or array of type matching the\n",
       "<code>FUN.VALUE</code>.  If <code>length(FUN.VALUE) == 1</code> a\n",
       "vector of the same length as <code>X</code> is returned, otherwise\n",
       "an array.  If <code>FUN.VALUE</code> is not an <code>array</code>, the\n",
       "result is a matrix   with <code>length(FUN.VALUE)</code> rows and\n",
       "<code>length(X)</code> columns, otherwise an array <code>a</code> with\n",
       "<code>dim(a) == c(dim(FUN.VALUE), length(X))</code>.\n",
       "</p>\n",
       "<p>The (Dim)names of the array value are taken from the <code>FUN.VALUE</code>\n",
       "if it is named, otherwise from the result of the first function call.\n",
       "Column names of the matrix or more generally the names of the last\n",
       "dimension of the array value or names of the vector value are set from\n",
       "<code>X</code> as in <code>sapply</code>.\n",
       "</p>\n",
       "\n",
       "\n",
       "<h3>Note</h3>\n",
       "\n",
       "<p><code>sapply(*, simplify = FALSE, USE.NAMES = FALSE)</code> is\n",
       "equivalent to <code>lapply(*)</code>.\n",
       "</p>\n",
       "<p>For historical reasons, the calls created by <code>lapply</code> are\n",
       "unevaluated, and code has been written (e.g., <code>bquote</code>) that\n",
       "relies on this.  This means that the recorded call is always of the\n",
       "form <code>FUN(X[[i]], ...)</code>, with <code>i</code> replaced by the current\n",
       "(integer or double) index.  This is not normally a problem, but it can\n",
       "be if <code>FUN</code> uses <code>sys.call</code> or\n",
       "<code>match.call</code> or if it is a primitive function that makes\n",
       "use of the call.  This means that it is often safer to call primitive\n",
       "functions with a wrapper, so that e.g. <code>lapply(ll, function(x)\n",
       "  is.numeric(x))</code> is required to ensure that method dispatch for\n",
       "<code>is.numeric</code> occurs correctly.\n",
       "</p>\n",
       "<p>If <code>expr</code> is a function call, be aware of assumptions about where\n",
       "it is evaluated, and in particular what <code>...</code> might refer to.\n",
       "You can pass additional named arguments to a function call as\n",
       "additional named arguments to <code>replicate</code>: see &lsquo;Examples&rsquo;.\n",
       "</p>\n",
       "\n",
       "\n",
       "<h3>References</h3>\n",
       "\n",
       "<p>Becker, R. A., Chambers, J. M. and Wilks, A. R. (1988)\n",
       "<em>The New S Language</em>.\n",
       "Wadsworth &amp; Brooks/Cole.\n",
       "</p>\n",
       "\n",
       "\n",
       "<h3>See Also</h3>\n",
       "\n",
       "<p><code>apply</code>, <code>tapply</code>,\n",
       "<code>mapply</code> for applying a function to <b>m</b>ultiple\n",
       "arguments, and <code>rapply</code> for a <b>r</b>ecursive version of\n",
       "<code>lapply()</code>, <code>eapply</code> for applying a function to each\n",
       "entry in an <code>environment</code>.\n",
       "</p>\n",
       "\n",
       "\n",
       "<h3>Examples</h3>\n",
       "\n",
       "<pre>\n",
       "require(stats); require(graphics)\n",
       "\n",
       "x &lt;- list(a = 1:10, beta = exp(-3:3), logic = c(TRUE,FALSE,FALSE,TRUE))\n",
       "# compute the list mean for each list element\n",
       "lapply(x, mean)\n",
       "# median and quartiles for each list element\n",
       "lapply(x, quantile, probs = 1:3/4)\n",
       "sapply(x, quantile)\n",
       "i39 &lt;- sapply(3:9, seq) # list of vectors\n",
       "sapply(i39, fivenum)\n",
       "vapply(i39, fivenum,\n",
       "       c(Min. = 0, \"1st Qu.\" = 0, Median = 0, \"3rd Qu.\" = 0, Max. = 0))\n",
       "\n",
       "## sapply(*, \"array\") -- artificial example\n",
       "(v &lt;- structure(10*(5:8), names = LETTERS[1:4]))\n",
       "f2 &lt;- function(x, y) outer(rep(x, length.out = 3), y)\n",
       "(a2 &lt;- sapply(v, f2, y = 2*(1:5), simplify = \"array\"))\n",
       "a.2 &lt;- vapply(v, f2, outer(1:3, 1:5), y = 2*(1:5))\n",
       "stopifnot(dim(a2) == c(3,5,4), all.equal(a2, a.2),\n",
       "          identical(dimnames(a2), list(NULL,NULL,LETTERS[1:4])))\n",
       "\n",
       "hist(replicate(100, mean(rexp(10))))\n",
       "\n",
       "## use of replicate() with parameters:\n",
       "foo &lt;- function(x = 1, y = 2) c(x, y)\n",
       "# does not work: bar &lt;- function(n, ...) replicate(n, foo(...))\n",
       "bar &lt;- function(n, x) replicate(n, foo(x = x))\n",
       "bar(5, x = 3)\n",
       "</pre>\n",
       "\n",
       "<hr /><div style=\"text-align: center;\">[Package <em>base</em> version 3.6.1 ]</div>"
      ],
      "text/latex": [
       "\\inputencoding{utf8}\n",
       "\\HeaderA{lapply}{Apply a Function over a List or Vector}{lapply}\n",
       "\\aliasA{replicate}{lapply}{replicate}\n",
       "\\aliasA{sapply}{lapply}{sapply}\n",
       "\\aliasA{simplify2array}{lapply}{simplify2array}\n",
       "\\aliasA{vapply}{lapply}{vapply}\n",
       "\\keyword{iteration}{lapply}\n",
       "\\keyword{list}{lapply}\n",
       "%\n",
       "\\begin{Description}\\relax\n",
       "\\code{lapply} returns a list of the same length as \\code{X}, each\n",
       "element of which is the result of applying \\code{FUN} to the\n",
       "corresponding element of \\code{X}.\n",
       "\n",
       "\\code{sapply} is a user-friendly version and wrapper of \\code{lapply}\n",
       "by default returning a vector, matrix or, if \\code{simplify = \"array\"}, an\n",
       "array if appropriate, by applying \\code{simplify2array()}.\n",
       "\\code{sapply(x, f, simplify = FALSE, USE.NAMES = FALSE)} is the same as\n",
       "\\code{lapply(x, f)}.\n",
       "\n",
       "\\code{vapply} is similar to \\code{sapply}, but has a pre-specified\n",
       "type of return value, so it can be safer (and sometimes faster) to\n",
       "use.\n",
       "\n",
       "\\code{replicate} is a wrapper for the common use of \\code{sapply} for\n",
       "repeated evaluation of an expression (which will usually involve\n",
       "random number generation).\n",
       "\n",
       "\\code{simplify2array()} is the utility called from \\code{sapply()}\n",
       "when \\code{simplify} is not false and is similarly called from\n",
       "\\code{\\LinkA{mapply}{mapply}()}.\n",
       "\\end{Description}\n",
       "%\n",
       "\\begin{Usage}\n",
       "\\begin{verbatim}\n",
       "lapply(X, FUN, ...)\n",
       "\n",
       "sapply(X, FUN, ..., simplify = TRUE, USE.NAMES = TRUE)\n",
       "\n",
       "vapply(X, FUN, FUN.VALUE, ..., USE.NAMES = TRUE)\n",
       "\n",
       "replicate(n, expr, simplify = \"array\")\n",
       "\n",
       "simplify2array(x, higher = TRUE)\n",
       "\\end{verbatim}\n",
       "\\end{Usage}\n",
       "%\n",
       "\\begin{Arguments}\n",
       "\\begin{ldescription}\n",
       "\\item[\\code{X}] a vector (atomic or list) or an \\code{\\LinkA{expression}{expression}}\n",
       "object.  Other objects (including classed objects) will be coerced\n",
       "by \\code{base::\\LinkA{as.list}{as.list}}.\n",
       "\\item[\\code{FUN}] the function to be applied to each element of \\code{X}:\n",
       "see `Details'.  In the case of functions like\n",
       "\\code{+}, \\code{\\%*\\%}, the function name must be backquoted or quoted.\n",
       "\\item[\\code{...}] optional arguments to \\code{FUN}.\n",
       "\\item[\\code{simplify}] logical or character string; should the result be\n",
       "simplified to a vector, matrix or higher dimensional array if\n",
       "possible?  For \\code{sapply} it must be named and not abbreviated.\n",
       "The default value, \\code{TRUE}, returns a vector or matrix if appropriate,\n",
       "whereas if \\code{simplify = \"array\"} the result may be an\n",
       "\\code{\\LinkA{array}{array}} of ``rank''\n",
       "(\\eqn{=}{}\\code{length(dim(.))}) one higher than the result\n",
       "of \\code{FUN(X[[i]])}.\n",
       "\\item[\\code{USE.NAMES}] logical; if \\code{TRUE} and if \\code{X} is character,\n",
       "use \\code{X} as \\code{\\LinkA{names}{names}} for the result unless it had names\n",
       "already.  Since this argument follows \\code{...} its name cannot\n",
       "be abbreviated.\n",
       "\\item[\\code{FUN.VALUE}] a (generalized) vector; a template for the return\n",
       "value from FUN.  See `Details'.\n",
       "\\item[\\code{n}] integer: the number of replications.\n",
       "\\item[\\code{expr}] the expression (a \\LinkA{language object}{language object}, usually a call)\n",
       "to evaluate repeatedly.\n",
       "\n",
       "\\item[\\code{x}] a list, typically returned from \\code{lapply()}.\n",
       "\\item[\\code{higher}] logical; if true, \\code{simplify2array()} will produce a\n",
       "(``higher rank'') array when appropriate, whereas\n",
       "\\code{higher = FALSE} would return a matrix (or vector) only.\n",
       "These two cases correspond to \\code{sapply(*, simplify = \"array\")} or\n",
       "\\code{simplify = TRUE}, respectively.\n",
       "\\end{ldescription}\n",
       "\\end{Arguments}\n",
       "%\n",
       "\\begin{Details}\\relax\n",
       "\\code{FUN} is found by a call to \\code{\\LinkA{match.fun}{match.fun}} and typically\n",
       "is specified as a function or a symbol (e.g., a backquoted name) or a\n",
       "character string specifying a function to be searched for from the\n",
       "environment of the call to \\code{lapply}.\n",
       "\n",
       "Function \\code{FUN} must be able to accept as input any of the\n",
       "elements of \\code{X}.  If the latter is an atomic vector, \\code{FUN}\n",
       "will always be passed a length-one vector of the same type as \\code{X}.\n",
       "\n",
       "Arguments in \\code{...} cannot have the same name as any of the\n",
       "other arguments, and care may be needed to avoid partial matching to\n",
       "\\code{FUN}.  In general-purpose code it is good practice to name the\n",
       "first two arguments \\code{X} and \\code{FUN} if \\code{...} is passed\n",
       "through: this both avoids partial matching to \\code{FUN} and ensures\n",
       "that a sensible error message is given if arguments named \\code{X} or\n",
       "\\code{FUN} are passed through \\code{...}.\n",
       "\n",
       "Simplification in \\code{sapply} is only attempted if \\code{X} has\n",
       "length greater than zero and if the return values from all elements\n",
       "of \\code{X} are all of the same (positive) length.  If the common\n",
       "length is one the result is a vector, and if greater than one is a\n",
       "matrix with a column corresponding to each element of \\code{X}.\n",
       "\n",
       "Simplification is always done in \\code{vapply}.  This function\n",
       "checks that all values of \\code{FUN} are compatible with the\n",
       "\\code{FUN.VALUE}, in that they must have the same length and type.\n",
       "(Types may be promoted to a higher type within the ordering logical\n",
       "< integer < double < complex, but not demoted.)\n",
       "\n",
       "Users of S4 classes should pass a list to \\code{lapply} and\n",
       "\\code{vapply}: the internal coercion is done by the \\code{as.list} in\n",
       "the base namespace and not one defined by a user (e.g., by setting S4\n",
       "methods on the base function).\n",
       "\n",
       "\n",
       "\\code{lapply} and \\code{vapply} are \\LinkA{primitive}{primitive} functions.\n",
       "\\end{Details}\n",
       "%\n",
       "\\begin{Value}\n",
       "For \\code{lapply}, \\code{sapply(simplify = FALSE)} and\n",
       "\\code{replicate(simplify = FALSE)}, a list.\n",
       "\n",
       "For \\code{sapply(simplify = TRUE)} and \\code{replicate(simplify =\n",
       "  TRUE)}: if \\code{X} has length zero or \\code{n = 0}, an empty list.\n",
       "Otherwise an atomic vector or matrix or list of the same length as\n",
       "\\code{X} (of length \\code{n} for \\code{replicate}).  If simplification\n",
       "occurs, the output type is determined from the highest type of the\n",
       "return values in the hierarchy NULL < raw < logical < integer < double <\n",
       "complex < character < list < expression, after coercion of pairlists\n",
       "to lists.\n",
       "\n",
       "\\code{vapply} returns a vector or array of type matching the\n",
       "\\code{FUN.VALUE}.  If \\code{length(FUN.VALUE) == 1} a\n",
       "vector of the same length as \\code{X} is returned, otherwise\n",
       "an array.  If \\code{FUN.VALUE} is not an \\code{\\LinkA{array}{array}}, the\n",
       "result is a matrix   with \\code{length(FUN.VALUE)} rows and\n",
       "\\code{length(X)} columns, otherwise an array \\code{a} with\n",
       "\\code{\\LinkA{dim}{dim}(a) == c(dim(FUN.VALUE), length(X))}.\n",
       "\n",
       "The (Dim)names of the array value are taken from the \\code{FUN.VALUE}\n",
       "if it is named, otherwise from the result of the first function call.\n",
       "Column names of the matrix or more generally the names of the last\n",
       "dimension of the array value or names of the vector value are set from\n",
       "\\code{X} as in \\code{sapply}.\n",
       "\\end{Value}\n",
       "%\n",
       "\\begin{Note}\\relax\n",
       "\\code{sapply(*, simplify = FALSE, USE.NAMES = FALSE)} is\n",
       "equivalent to \\code{lapply(*)}.\n",
       "\n",
       "For historical reasons, the calls created by \\code{lapply} are\n",
       "unevaluated, and code has been written (e.g., \\code{bquote}) that\n",
       "relies on this.  This means that the recorded call is always of the\n",
       "form \\code{FUN(X[[i]], ...)}, with \\code{i} replaced by the current\n",
       "(integer or double) index.  This is not normally a problem, but it can\n",
       "be if \\code{FUN} uses \\code{\\LinkA{sys.call}{sys.call}} or\n",
       "\\code{\\LinkA{match.call}{match.call}} or if it is a primitive function that makes\n",
       "use of the call.  This means that it is often safer to call primitive\n",
       "functions with a wrapper, so that e.g.~\\code{lapply(ll, function(x)\n",
       "  is.numeric(x))} is required to ensure that method dispatch for\n",
       "\\code{is.numeric} occurs correctly.\n",
       "\n",
       "If \\code{expr} is a function call, be aware of assumptions about where\n",
       "it is evaluated, and in particular what \\code{...} might refer to.\n",
       "You can pass additional named arguments to a function call as\n",
       "additional named arguments to \\code{replicate}: see `Examples'.\n",
       "\\end{Note}\n",
       "%\n",
       "\\begin{References}\\relax\n",
       "Becker, R. A., Chambers, J. M. and Wilks, A. R. (1988)\n",
       "\\emph{The New S Language}.\n",
       "Wadsworth \\& Brooks/Cole.\n",
       "\\end{References}\n",
       "%\n",
       "\\begin{SeeAlso}\\relax\n",
       "\\code{\\LinkA{apply}{apply}}, \\code{\\LinkA{tapply}{tapply}},\n",
       "\\code{\\LinkA{mapply}{mapply}} for applying a function to \\bold{m}ultiple\n",
       "arguments, and \\code{\\LinkA{rapply}{rapply}} for a \\bold{r}ecursive version of\n",
       "\\code{lapply()}, \\code{\\LinkA{eapply}{eapply}} for applying a function to each\n",
       "entry in an \\code{\\LinkA{environment}{environment}}.\n",
       "\\end{SeeAlso}\n",
       "%\n",
       "\\begin{Examples}\n",
       "\\begin{ExampleCode}\n",
       "require(stats); require(graphics)\n",
       "\n",
       "x <- list(a = 1:10, beta = exp(-3:3), logic = c(TRUE,FALSE,FALSE,TRUE))\n",
       "# compute the list mean for each list element\n",
       "lapply(x, mean)\n",
       "# median and quartiles for each list element\n",
       "lapply(x, quantile, probs = 1:3/4)\n",
       "sapply(x, quantile)\n",
       "i39 <- sapply(3:9, seq) # list of vectors\n",
       "sapply(i39, fivenum)\n",
       "vapply(i39, fivenum,\n",
       "       c(Min. = 0, \"1st Qu.\" = 0, Median = 0, \"3rd Qu.\" = 0, Max. = 0))\n",
       "\n",
       "## sapply(*, \"array\") -- artificial example\n",
       "(v <- structure(10*(5:8), names = LETTERS[1:4]))\n",
       "f2 <- function(x, y) outer(rep(x, length.out = 3), y)\n",
       "(a2 <- sapply(v, f2, y = 2*(1:5), simplify = \"array\"))\n",
       "a.2 <- vapply(v, f2, outer(1:3, 1:5), y = 2*(1:5))\n",
       "stopifnot(dim(a2) == c(3,5,4), all.equal(a2, a.2),\n",
       "          identical(dimnames(a2), list(NULL,NULL,LETTERS[1:4])))\n",
       "\n",
       "hist(replicate(100, mean(rexp(10))))\n",
       "\n",
       "## use of replicate() with parameters:\n",
       "foo <- function(x = 1, y = 2) c(x, y)\n",
       "# does not work: bar <- function(n, ...) replicate(n, foo(...))\n",
       "bar <- function(n, x) replicate(n, foo(x = x))\n",
       "bar(5, x = 3)\n",
       "\\end{ExampleCode}\n",
       "\\end{Examples}"
      ],
      "text/plain": [
       "lapply                  package:base                   R Documentation\n",
       "\n",
       "_\bA_\bp_\bp_\bl_\by _\ba _\bF_\bu_\bn_\bc_\bt_\bi_\bo_\bn _\bo_\bv_\be_\br _\ba _\bL_\bi_\bs_\bt _\bo_\br _\bV_\be_\bc_\bt_\bo_\br\n",
       "\n",
       "_\bD_\be_\bs_\bc_\br_\bi_\bp_\bt_\bi_\bo_\bn:\n",
       "\n",
       "     'lapply' returns a list of the same length as 'X', each element of\n",
       "     which is the result of applying 'FUN' to the corresponding element\n",
       "     of 'X'.\n",
       "\n",
       "     'sapply' is a user-friendly version and wrapper of 'lapply' by\n",
       "     default returning a vector, matrix or, if 'simplify = \"array\"', an\n",
       "     array if appropriate, by applying 'simplify2array()'.  'sapply(x,\n",
       "     f, simplify = FALSE, USE.NAMES = FALSE)' is the same as 'lapply(x,\n",
       "     f)'.\n",
       "\n",
       "     'vapply' is similar to 'sapply', but has a pre-specified type of\n",
       "     return value, so it can be safer (and sometimes faster) to use.\n",
       "\n",
       "     'replicate' is a wrapper for the common use of 'sapply' for\n",
       "     repeated evaluation of an expression (which will usually involve\n",
       "     random number generation).\n",
       "\n",
       "     'simplify2array()' is the utility called from 'sapply()' when\n",
       "     'simplify' is not false and is similarly called from 'mapply()'.\n",
       "\n",
       "_\bU_\bs_\ba_\bg_\be:\n",
       "\n",
       "     lapply(X, FUN, ...)\n",
       "     \n",
       "     sapply(X, FUN, ..., simplify = TRUE, USE.NAMES = TRUE)\n",
       "     \n",
       "     vapply(X, FUN, FUN.VALUE, ..., USE.NAMES = TRUE)\n",
       "     \n",
       "     replicate(n, expr, simplify = \"array\")\n",
       "     \n",
       "     simplify2array(x, higher = TRUE)\n",
       "     \n",
       "_\bA_\br_\bg_\bu_\bm_\be_\bn_\bt_\bs:\n",
       "\n",
       "       X: a vector (atomic or list) or an 'expression' object.  Other\n",
       "          objects (including classed objects) will be coerced by\n",
       "          'base::as.list'.\n",
       "\n",
       "     FUN: the function to be applied to each element of 'X': see\n",
       "          'Details'.  In the case of functions like '+', '%*%', the\n",
       "          function name must be backquoted or quoted.\n",
       "\n",
       "     ...: optional arguments to 'FUN'.\n",
       "\n",
       "simplify: logical or character string; should the result be simplified\n",
       "          to a vector, matrix or higher dimensional array if possible?\n",
       "          For 'sapply' it must be named and not abbreviated.  The\n",
       "          default value, 'TRUE', returns a vector or matrix if\n",
       "          appropriate, whereas if 'simplify = \"array\"' the result may\n",
       "          be an 'array' of \"rank\" (='length(dim(.))') one higher than\n",
       "          the result of 'FUN(X[[i]])'.\n",
       "\n",
       "USE.NAMES: logical; if 'TRUE' and if 'X' is character, use 'X' as\n",
       "          'names' for the result unless it had names already.  Since\n",
       "          this argument follows '...' its name cannot be abbreviated.\n",
       "\n",
       "FUN.VALUE: a (generalized) vector; a template for the return value from\n",
       "          FUN.  See 'Details'.\n",
       "\n",
       "       n: integer: the number of replications.\n",
       "\n",
       "    expr: the expression (a language object, usually a call) to\n",
       "          evaluate repeatedly.\n",
       "\n",
       "       x: a list, typically returned from 'lapply()'.\n",
       "\n",
       "  higher: logical; if true, 'simplify2array()' will produce a (\"higher\n",
       "          rank\") array when appropriate, whereas 'higher = FALSE' would\n",
       "          return a matrix (or vector) only.  These two cases correspond\n",
       "          to 'sapply(*, simplify = \"array\")' or 'simplify = TRUE',\n",
       "          respectively.\n",
       "\n",
       "_\bD_\be_\bt_\ba_\bi_\bl_\bs:\n",
       "\n",
       "     'FUN' is found by a call to 'match.fun' and typically is specified\n",
       "     as a function or a symbol (e.g., a backquoted name) or a character\n",
       "     string specifying a function to be searched for from the\n",
       "     environment of the call to 'lapply'.\n",
       "\n",
       "     Function 'FUN' must be able to accept as input any of the elements\n",
       "     of 'X'.  If the latter is an atomic vector, 'FUN' will always be\n",
       "     passed a length-one vector of the same type as 'X'.\n",
       "\n",
       "     Arguments in '...' cannot have the same name as any of the other\n",
       "     arguments, and care may be needed to avoid partial matching to\n",
       "     'FUN'.  In general-purpose code it is good practice to name the\n",
       "     first two arguments 'X' and 'FUN' if '...' is passed through: this\n",
       "     both avoids partial matching to 'FUN' and ensures that a sensible\n",
       "     error message is given if arguments named 'X' or 'FUN' are passed\n",
       "     through '...'.\n",
       "\n",
       "     Simplification in 'sapply' is only attempted if 'X' has length\n",
       "     greater than zero and if the return values from all elements of\n",
       "     'X' are all of the same (positive) length.  If the common length\n",
       "     is one the result is a vector, and if greater than one is a matrix\n",
       "     with a column corresponding to each element of 'X'.\n",
       "\n",
       "     Simplification is always done in 'vapply'.  This function checks\n",
       "     that all values of 'FUN' are compatible with the 'FUN.VALUE', in\n",
       "     that they must have the same length and type.  (Types may be\n",
       "     promoted to a higher type within the ordering logical < integer <\n",
       "     double < complex, but not demoted.)\n",
       "\n",
       "     Users of S4 classes should pass a list to 'lapply' and 'vapply':\n",
       "     the internal coercion is done by the 'as.list' in the base\n",
       "     namespace and not one defined by a user (e.g., by setting S4\n",
       "     methods on the base function).\n",
       "\n",
       "     'lapply' and 'vapply' are primitive functions.\n",
       "\n",
       "_\bV_\ba_\bl_\bu_\be:\n",
       "\n",
       "     For 'lapply', 'sapply(simplify = FALSE)' and 'replicate(simplify =\n",
       "     FALSE)', a list.\n",
       "\n",
       "     For 'sapply(simplify = TRUE)' and 'replicate(simplify = TRUE)': if\n",
       "     'X' has length zero or 'n = 0', an empty list.  Otherwise an\n",
       "     atomic vector or matrix or list of the same length as 'X' (of\n",
       "     length 'n' for 'replicate').  If simplification occurs, the output\n",
       "     type is determined from the highest type of the return values in\n",
       "     the hierarchy NULL < raw < logical < integer < double < complex <\n",
       "     character < list < expression, after coercion of pairlists to\n",
       "     lists.\n",
       "\n",
       "     'vapply' returns a vector or array of type matching the\n",
       "     'FUN.VALUE'.  If 'length(FUN.VALUE) == 1' a vector of the same\n",
       "     length as 'X' is returned, otherwise an array.  If 'FUN.VALUE' is\n",
       "     not an 'array', the result is a matrix with 'length(FUN.VALUE)'\n",
       "     rows and 'length(X)' columns, otherwise an array 'a' with 'dim(a)\n",
       "     == c(dim(FUN.VALUE), length(X))'.\n",
       "\n",
       "     The (Dim)names of the array value are taken from the 'FUN.VALUE'\n",
       "     if it is named, otherwise from the result of the first function\n",
       "     call.  Column names of the matrix or more generally the names of\n",
       "     the last dimension of the array value or names of the vector value\n",
       "     are set from 'X' as in 'sapply'.\n",
       "\n",
       "_\bN_\bo_\bt_\be:\n",
       "\n",
       "     'sapply(*, simplify = FALSE, USE.NAMES = FALSE)' is equivalent to\n",
       "     'lapply(*)'.\n",
       "\n",
       "     For historical reasons, the calls created by 'lapply' are\n",
       "     unevaluated, and code has been written (e.g., 'bquote') that\n",
       "     relies on this.  This means that the recorded call is always of\n",
       "     the form 'FUN(X[[i]], ...)', with 'i' replaced by the current\n",
       "     (integer or double) index.  This is not normally a problem, but it\n",
       "     can be if 'FUN' uses 'sys.call' or 'match.call' or if it is a\n",
       "     primitive function that makes use of the call.  This means that it\n",
       "     is often safer to call primitive functions with a wrapper, so that\n",
       "     e.g. 'lapply(ll, function(x) is.numeric(x))' is required to ensure\n",
       "     that method dispatch for 'is.numeric' occurs correctly.\n",
       "\n",
       "     If 'expr' is a function call, be aware of assumptions about where\n",
       "     it is evaluated, and in particular what '...' might refer to.  You\n",
       "     can pass additional named arguments to a function call as\n",
       "     additional named arguments to 'replicate': see 'Examples'.\n",
       "\n",
       "_\bR_\be_\bf_\be_\br_\be_\bn_\bc_\be_\bs:\n",
       "\n",
       "     Becker, R. A., Chambers, J. M. and Wilks, A. R. (1988) _The New S\n",
       "     Language_.  Wadsworth & Brooks/Cole.\n",
       "\n",
       "_\bS_\be_\be _\bA_\bl_\bs_\bo:\n",
       "\n",
       "     'apply', 'tapply', 'mapply' for applying a function to *m*ultiple\n",
       "     arguments, and 'rapply' for a *r*ecursive version of 'lapply()',\n",
       "     'eapply' for applying a function to each entry in an\n",
       "     'environment'.\n",
       "\n",
       "_\bE_\bx_\ba_\bm_\bp_\bl_\be_\bs:\n",
       "\n",
       "     require(stats); require(graphics)\n",
       "     \n",
       "     x <- list(a = 1:10, beta = exp(-3:3), logic = c(TRUE,FALSE,FALSE,TRUE))\n",
       "     # compute the list mean for each list element\n",
       "     lapply(x, mean)\n",
       "     # median and quartiles for each list element\n",
       "     lapply(x, quantile, probs = 1:3/4)\n",
       "     sapply(x, quantile)\n",
       "     i39 <- sapply(3:9, seq) # list of vectors\n",
       "     sapply(i39, fivenum)\n",
       "     vapply(i39, fivenum,\n",
       "            c(Min. = 0, \"1st Qu.\" = 0, Median = 0, \"3rd Qu.\" = 0, Max. = 0))\n",
       "     \n",
       "     ## sapply(*, \"array\") -- artificial example\n",
       "     (v <- structure(10*(5:8), names = LETTERS[1:4]))\n",
       "     f2 <- function(x, y) outer(rep(x, length.out = 3), y)\n",
       "     (a2 <- sapply(v, f2, y = 2*(1:5), simplify = \"array\"))\n",
       "     a.2 <- vapply(v, f2, outer(1:3, 1:5), y = 2*(1:5))\n",
       "     stopifnot(dim(a2) == c(3,5,4), all.equal(a2, a.2),\n",
       "               identical(dimnames(a2), list(NULL,NULL,LETTERS[1:4])))\n",
       "     \n",
       "     hist(replicate(100, mean(rexp(10))))\n",
       "     \n",
       "     ## use of replicate() with parameters:\n",
       "     foo <- function(x = 1, y = 2) c(x, y)\n",
       "     # does not work: bar <- function(n, ...) replicate(n, foo(...))\n",
       "     bar <- function(n, x) replicate(n, foo(x = x))\n",
       "     bar(5, x = 3)\n",
       "     "
      ]
     },
     "metadata": {},
     "output_type": "display_data"
    }
   ],
   "source": [
    "?lapply"
   ]
  },
  {
   "cell_type": "code",
   "execution_count": 5,
   "id": "4e3f99c0-1f8d-4c93-8076-acc957fb034b",
   "metadata": {},
   "outputs": [
    {
     "data": {
      "text/html": [
       "<ol class=list-inline>\n",
       "\t<li>'dog'</li>\n",
       "\t<li>'cat'</li>\n",
       "\t<li>'horse'</li>\n",
       "\t<li>'cow'</li>\n",
       "\t<li>'lion'</li>\n",
       "</ol>\n"
      ],
      "text/latex": [
       "\\begin{enumerate*}\n",
       "\\item 'dog'\n",
       "\\item 'cat'\n",
       "\\item 'horse'\n",
       "\\item 'cow'\n",
       "\\item 'lion'\n",
       "\\end{enumerate*}\n"
      ],
      "text/markdown": [
       "1. 'dog'\n",
       "2. 'cat'\n",
       "3. 'horse'\n",
       "4. 'cow'\n",
       "5. 'lion'\n",
       "\n",
       "\n"
      ],
      "text/plain": [
       "[1] \"dog\"   \"cat\"   \"horse\" \"cow\"   \"lion\" "
      ]
     },
     "metadata": {},
     "output_type": "display_data"
    }
   ],
   "source": [
    "animals <- c('dog', 'cat', 'horse', 'cow', 'lion')\n",
    "animals"
   ]
  },
  {
   "cell_type": "code",
   "execution_count": 7,
   "id": "cc5c2f43-c47c-407f-9d2a-e04bd6f08b3e",
   "metadata": {},
   "outputs": [
    {
     "data": {
      "text/html": [
       "<ol>\n",
       "\t<li>3</li>\n",
       "\t<li>3</li>\n",
       "\t<li>5</li>\n",
       "\t<li>3</li>\n",
       "\t<li>4</li>\n",
       "</ol>\n"
      ],
      "text/latex": [
       "\\begin{enumerate}\n",
       "\\item 3\n",
       "\\item 3\n",
       "\\item 5\n",
       "\\item 3\n",
       "\\item 4\n",
       "\\end{enumerate}\n"
      ],
      "text/markdown": [
       "1. 3\n",
       "2. 3\n",
       "3. 5\n",
       "4. 3\n",
       "5. 4\n",
       "\n",
       "\n"
      ],
      "text/plain": [
       "[[1]]\n",
       "[1] 3\n",
       "\n",
       "[[2]]\n",
       "[1] 3\n",
       "\n",
       "[[3]]\n",
       "[1] 5\n",
       "\n",
       "[[4]]\n",
       "[1] 3\n",
       "\n",
       "[[5]]\n",
       "[1] 4\n"
      ]
     },
     "metadata": {},
     "output_type": "display_data"
    }
   ],
   "source": [
    "lapply(animals, nchar)"
   ]
  },
  {
   "cell_type": "code",
   "execution_count": 11,
   "id": "c041562c-e141-428d-9f44-edc0e4139283",
   "metadata": {},
   "outputs": [
    {
     "data": {
      "text/html": [
       "<ol>\n",
       "\t<li>'DOG'</li>\n",
       "\t<li>'CAT'</li>\n",
       "\t<li>'HORSE'</li>\n",
       "\t<li>'COW'</li>\n",
       "\t<li>'LION'</li>\n",
       "</ol>\n"
      ],
      "text/latex": [
       "\\begin{enumerate}\n",
       "\\item 'DOG'\n",
       "\\item 'CAT'\n",
       "\\item 'HORSE'\n",
       "\\item 'COW'\n",
       "\\item 'LION'\n",
       "\\end{enumerate}\n"
      ],
      "text/markdown": [
       "1. 'DOG'\n",
       "2. 'CAT'\n",
       "3. 'HORSE'\n",
       "4. 'COW'\n",
       "5. 'LION'\n",
       "\n",
       "\n"
      ],
      "text/plain": [
       "[[1]]\n",
       "[1] \"DOG\"\n",
       "\n",
       "[[2]]\n",
       "[1] \"CAT\"\n",
       "\n",
       "[[3]]\n",
       "[1] \"HORSE\"\n",
       "\n",
       "[[4]]\n",
       "[1] \"COW\"\n",
       "\n",
       "[[5]]\n",
       "[1] \"LION\"\n"
      ]
     },
     "metadata": {},
     "output_type": "display_data"
    }
   ],
   "source": [
    "lapply(animals, toupper)"
   ]
  },
  {
   "cell_type": "code",
   "execution_count": 13,
   "id": "ba9c3be1-2dc4-40f3-a62d-e29ab9b73200",
   "metadata": {},
   "outputs": [
    {
     "data": {
      "text/html": [
       "<ol>\n",
       "\t<li>12</li>\n",
       "\t<li>12</li>\n",
       "\t<li>45</li>\n",
       "\t<li>78</li>\n",
       "\t<li>46</li>\n",
       "\t<li>410</li>\n",
       "</ol>\n"
      ],
      "text/latex": [
       "\\begin{enumerate}\n",
       "\\item 12\n",
       "\\item 12\n",
       "\\item 45\n",
       "\\item 78\n",
       "\\item 46\n",
       "\\item 410\n",
       "\\end{enumerate}\n"
      ],
      "text/markdown": [
       "1. 12\n",
       "2. 12\n",
       "3. 45\n",
       "4. 78\n",
       "5. 46\n",
       "6. 410\n",
       "\n",
       "\n"
      ],
      "text/plain": [
       "[[1]]\n",
       "[1] 12\n",
       "\n",
       "[[2]]\n",
       "[1] 12\n",
       "\n",
       "[[3]]\n",
       "[1] 45\n",
       "\n",
       "[[4]]\n",
       "[1] 78\n",
       "\n",
       "[[5]]\n",
       "[1] 46\n",
       "\n",
       "[[6]]\n",
       "[1] 410\n"
      ]
     },
     "metadata": {},
     "output_type": "display_data"
    }
   ],
   "source": [
    "num <- c(12.5,12.364,45.123,78.258,45.596,410.22)\n",
    "lapply(num, round)"
   ]
  },
  {
   "cell_type": "code",
   "execution_count": 19,
   "id": "00bed07a-2b64-4066-ad31-c1274da5b49e",
   "metadata": {},
   "outputs": [
    {
     "data": {
      "text/html": [
       "'numeric'"
      ],
      "text/latex": [
       "'numeric'"
      ],
      "text/markdown": [
       "'numeric'"
      ],
      "text/plain": [
       "[1] \"numeric\""
      ]
     },
     "metadata": {},
     "output_type": "display_data"
    }
   ],
   "source": [
    "class(num)"
   ]
  },
  {
   "cell_type": "code",
   "execution_count": 21,
   "id": "0b3017ee-f1f7-4065-984c-198a5be51420",
   "metadata": {},
   "outputs": [
    {
     "data": {
      "text/html": [
       "'list'"
      ],
      "text/latex": [
       "'list'"
      ],
      "text/markdown": [
       "'list'"
      ],
      "text/plain": [
       "[1] \"list\""
      ]
     },
     "metadata": {},
     "output_type": "display_data"
    }
   ],
   "source": [
    "class(lapply(num, round))"
   ]
  },
  {
   "cell_type": "code",
   "execution_count": 29,
   "id": "322e903d-560a-4acd-927d-2adc659f7376",
   "metadata": {},
   "outputs": [
    {
     "data": {
      "text/html": [
       "<ol class=list-inline>\n",
       "\t<li>12</li>\n",
       "\t<li>12</li>\n",
       "\t<li>45</li>\n",
       "\t<li>78</li>\n",
       "\t<li>46</li>\n",
       "\t<li>410</li>\n",
       "</ol>\n"
      ],
      "text/latex": [
       "\\begin{enumerate*}\n",
       "\\item 12\n",
       "\\item 12\n",
       "\\item 45\n",
       "\\item 78\n",
       "\\item 46\n",
       "\\item 410\n",
       "\\end{enumerate*}\n"
      ],
      "text/markdown": [
       "1. 12\n",
       "2. 12\n",
       "3. 45\n",
       "4. 78\n",
       "5. 46\n",
       "6. 410\n",
       "\n",
       "\n"
      ],
      "text/plain": [
       "[1]  12  12  45  78  46 410"
      ]
     },
     "metadata": {},
     "output_type": "display_data"
    }
   ],
   "source": [
    "vapply(num, round, numeric(1))"
   ]
  },
  {
   "cell_type": "code",
   "execution_count": 25,
   "id": "52fd1b1e-2694-4cb0-bda0-fe8a828144bd",
   "metadata": {},
   "outputs": [
    {
     "data": {
      "text/html": [
       "'numeric'"
      ],
      "text/latex": [
       "'numeric'"
      ],
      "text/markdown": [
       "'numeric'"
      ],
      "text/plain": [
       "[1] \"numeric\""
      ]
     },
     "metadata": {},
     "output_type": "display_data"
    }
   ],
   "source": [
    "class(vapply(num, round, numeric(1)))"
   ]
  },
  {
   "cell_type": "code",
   "execution_count": 31,
   "id": "cd1df124-df47-4f58-aa52-2001d02621cf",
   "metadata": {},
   "outputs": [
    {
     "data": {
      "text/html": [
       "<dl class=dl-horizontal>\n",
       "\t<dt>dog</dt>\n",
       "\t\t<dd>'DOG'</dd>\n",
       "\t<dt>cat</dt>\n",
       "\t\t<dd>'CAT'</dd>\n",
       "\t<dt>horse</dt>\n",
       "\t\t<dd>'HORSE'</dd>\n",
       "\t<dt>cow</dt>\n",
       "\t\t<dd>'COW'</dd>\n",
       "\t<dt>lion</dt>\n",
       "\t\t<dd>'LION'</dd>\n",
       "</dl>\n"
      ],
      "text/latex": [
       "\\begin{description*}\n",
       "\\item[dog] 'DOG'\n",
       "\\item[cat] 'CAT'\n",
       "\\item[horse] 'HORSE'\n",
       "\\item[cow] 'COW'\n",
       "\\item[lion] 'LION'\n",
       "\\end{description*}\n"
      ],
      "text/markdown": [
       "dog\n",
       ":   'DOG'cat\n",
       ":   'CAT'horse\n",
       ":   'HORSE'cow\n",
       ":   'COW'lion\n",
       ":   'LION'\n",
       "\n"
      ],
      "text/plain": [
       "    dog     cat   horse     cow    lion \n",
       "  \"DOG\"   \"CAT\" \"HORSE\"   \"COW\"  \"LION\" "
      ]
     },
     "metadata": {},
     "output_type": "display_data"
    }
   ],
   "source": [
    "vapply(animals, toupper, character(1))"
   ]
  },
  {
   "cell_type": "code",
   "execution_count": 33,
   "id": "04e8c21e-dae6-4d79-bbb9-e4502f96e31f",
   "metadata": {},
   "outputs": [
    {
     "data": {
      "text/html": [
       "<dl class=dl-horizontal>\n",
       "\t<dt>dog</dt>\n",
       "\t\t<dd>3</dd>\n",
       "\t<dt>cat</dt>\n",
       "\t\t<dd>3</dd>\n",
       "\t<dt>horse</dt>\n",
       "\t\t<dd>5</dd>\n",
       "\t<dt>cow</dt>\n",
       "\t\t<dd>3</dd>\n",
       "\t<dt>lion</dt>\n",
       "\t\t<dd>4</dd>\n",
       "</dl>\n"
      ],
      "text/latex": [
       "\\begin{description*}\n",
       "\\item[dog] 3\n",
       "\\item[cat] 3\n",
       "\\item[horse] 5\n",
       "\\item[cow] 3\n",
       "\\item[lion] 4\n",
       "\\end{description*}\n"
      ],
      "text/markdown": [
       "dog\n",
       ":   3cat\n",
       ":   3horse\n",
       ":   5cow\n",
       ":   3lion\n",
       ":   4\n",
       "\n"
      ],
      "text/plain": [
       "  dog   cat horse   cow  lion \n",
       "    3     3     5     3     4 "
      ]
     },
     "metadata": {},
     "output_type": "display_data"
    }
   ],
   "source": [
    "sapply(animals, nchar)"
   ]
  },
  {
   "cell_type": "code",
   "execution_count": 35,
   "id": "17702e8e-0c19-40f9-aea1-04858b30fd27",
   "metadata": {},
   "outputs": [
    {
     "data": {
      "text/html": [
       "'integer'"
      ],
      "text/latex": [
       "'integer'"
      ],
      "text/markdown": [
       "'integer'"
      ],
      "text/plain": [
       "[1] \"integer\""
      ]
     },
     "metadata": {},
     "output_type": "display_data"
    }
   ],
   "source": [
    "class(sapply(animals, nchar))"
   ]
  },
  {
   "cell_type": "code",
   "execution_count": 37,
   "id": "86f5a958-e8cc-48b0-89bc-561405ca5fec",
   "metadata": {},
   "outputs": [
    {
     "data": {
      "text/html": [
       "<dl class=dl-horizontal>\n",
       "\t<dt>dog</dt>\n",
       "\t\t<dd>'DOG'</dd>\n",
       "\t<dt>cat</dt>\n",
       "\t\t<dd>'CAT'</dd>\n",
       "\t<dt>horse</dt>\n",
       "\t\t<dd>'HORSE'</dd>\n",
       "\t<dt>cow</dt>\n",
       "\t\t<dd>'COW'</dd>\n",
       "\t<dt>lion</dt>\n",
       "\t\t<dd>'LION'</dd>\n",
       "</dl>\n"
      ],
      "text/latex": [
       "\\begin{description*}\n",
       "\\item[dog] 'DOG'\n",
       "\\item[cat] 'CAT'\n",
       "\\item[horse] 'HORSE'\n",
       "\\item[cow] 'COW'\n",
       "\\item[lion] 'LION'\n",
       "\\end{description*}\n"
      ],
      "text/markdown": [
       "dog\n",
       ":   'DOG'cat\n",
       ":   'CAT'horse\n",
       ":   'HORSE'cow\n",
       ":   'COW'lion\n",
       ":   'LION'\n",
       "\n"
      ],
      "text/plain": [
       "    dog     cat   horse     cow    lion \n",
       "  \"DOG\"   \"CAT\" \"HORSE\"   \"COW\"  \"LION\" "
      ]
     },
     "metadata": {},
     "output_type": "display_data"
    }
   ],
   "source": [
    "sapply(animals, toupper)"
   ]
  },
  {
   "cell_type": "code",
   "execution_count": 39,
   "id": "08a737a5-1116-48b4-836c-ac1d0bb058f2",
   "metadata": {},
   "outputs": [
    {
     "data": {
      "text/html": [
       "<ol class=list-inline>\n",
       "\t<li>1</li>\n",
       "\t<li>0</li>\n",
       "\t<li>1</li>\n",
       "\t<li>1</li>\n",
       "</ol>\n"
      ],
      "text/latex": [
       "\\begin{enumerate*}\n",
       "\\item 1\n",
       "\\item 0\n",
       "\\item 1\n",
       "\\item 1\n",
       "\\end{enumerate*}\n"
      ],
      "text/markdown": [
       "1. 1\n",
       "2. 0\n",
       "3. 1\n",
       "4. 1\n",
       "\n",
       "\n"
      ],
      "text/plain": [
       "[1] 1 0 1 1"
      ]
     },
     "metadata": {},
     "output_type": "display_data"
    }
   ],
   "source": [
    "ifelse(c(TRUE, FALSE, TRUE, TRUE), 1, 0)"
   ]
  },
  {
   "cell_type": "code",
   "execution_count": null,
   "id": "9cdd19b8-0fda-48b6-a541-0334c26649b4",
   "metadata": {},
   "outputs": [],
   "source": []
  }
 ],
 "metadata": {
  "kernelspec": {
   "display_name": "R",
   "language": "R",
   "name": "ir"
  },
  "language_info": {
   "codemirror_mode": "r",
   "file_extension": ".r",
   "mimetype": "text/x-r-source",
   "name": "R",
   "pygments_lexer": "r",
   "version": "3.6.1"
  }
 },
 "nbformat": 4,
 "nbformat_minor": 5
}
