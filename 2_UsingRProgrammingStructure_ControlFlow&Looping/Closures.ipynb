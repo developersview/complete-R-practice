{
 "cells": [
  {
   "cell_type": "code",
   "execution_count": 25,
   "id": "768efd51-37e7-4edb-8d22-909ffd1eddf4",
   "metadata": {},
   "outputs": [],
   "source": [
    "get_counter <- function(initial.value, increment = 1) {\n",
    "    counter <- initial.value\n",
    "    counter.fn <- function() {\n",
    "        counter <<- counter + increment\n",
    "        counter\n",
    "    }\n",
    "    print(environment(counter.fn))\n",
    "    counter.fn\n",
    "}"
   ]
  },
  {
   "cell_type": "code",
   "execution_count": 27,
   "id": "998712ba-6ce3-4b66-b207-981508933564",
   "metadata": {},
   "outputs": [
    {
     "name": "stdout",
     "output_type": "stream",
     "text": [
      "<environment: 0x00000000574d5f20>\n"
     ]
    },
    {
     "data": {
      "text/html": [
       "<pre class=language-r><code>function () \n",
       "{\n",
       "<span style=white-space:pre-wrap>    counter &lt;&lt;- counter + increment</span>\n",
       "<span style=white-space:pre-wrap>    counter</span>\n",
       "}</code></pre>"
      ],
      "text/latex": [
       "\\begin{minted}{r}\n",
       "function () \n",
       "\\{\n",
       "    counter <<- counter + increment\n",
       "    counter\n",
       "\\}\n",
       "\\end{minted}"
      ],
      "text/markdown": [
       "```r\n",
       "function () \n",
       "{\n",
       "    counter <<- counter + increment\n",
       "    counter\n",
       "}\n",
       "```"
      ],
      "text/plain": [
       "function() {\n",
       "        counter <<- counter + increment\n",
       "        counter\n",
       "    }\n",
       "<environment: 0x00000000574d5f20>"
      ]
     },
     "metadata": {},
     "output_type": "display_data"
    }
   ],
   "source": [
    "get_counter(1)"
   ]
  },
  {
   "cell_type": "code",
   "execution_count": 29,
   "id": "9aeb2695-fb46-432e-a67c-10c74e2f6b6e",
   "metadata": {},
   "outputs": [
    {
     "name": "stdout",
     "output_type": "stream",
     "text": [
      "<environment: 0x0000000004f83e80>\n"
     ]
    }
   ],
   "source": [
    "ca <- get_counter(100)"
   ]
  },
  {
   "cell_type": "code",
   "execution_count": 31,
   "id": "e4804d55-978c-4180-9216-b3a9bf1b302f",
   "metadata": {},
   "outputs": [
    {
     "data": {
      "text/html": [
       "<pre class=language-r><code>function () \n",
       "{\n",
       "<span style=white-space:pre-wrap>    counter &lt;&lt;- counter + increment</span>\n",
       "<span style=white-space:pre-wrap>    counter</span>\n",
       "}</code></pre>"
      ],
      "text/latex": [
       "\\begin{minted}{r}\n",
       "function () \n",
       "\\{\n",
       "    counter <<- counter + increment\n",
       "    counter\n",
       "\\}\n",
       "\\end{minted}"
      ],
      "text/markdown": [
       "```r\n",
       "function () \n",
       "{\n",
       "    counter <<- counter + increment\n",
       "    counter\n",
       "}\n",
       "```"
      ],
      "text/plain": [
       "function() {\n",
       "        counter <<- counter + increment\n",
       "        counter\n",
       "    }\n",
       "<bytecode: 0x00000000050c4538>\n",
       "<environment: 0x0000000004f83e80>"
      ]
     },
     "metadata": {},
     "output_type": "display_data"
    }
   ],
   "source": [
    "ca"
   ]
  },
  {
   "cell_type": "code",
   "execution_count": 33,
   "id": "625c9b07-a749-4c93-8f9a-fc03b80355dc",
   "metadata": {},
   "outputs": [
    {
     "name": "stdout",
     "output_type": "stream",
     "text": [
      "<environment: 0x0000000060d3ea40>\n"
     ]
    },
    {
     "data": {
      "text/html": [
       "<pre class=language-r><code>function () \n",
       "{\n",
       "<span style=white-space:pre-wrap>    counter &lt;&lt;- counter + increment</span>\n",
       "<span style=white-space:pre-wrap>    counter</span>\n",
       "}</code></pre>"
      ],
      "text/latex": [
       "\\begin{minted}{r}\n",
       "function () \n",
       "\\{\n",
       "    counter <<- counter + increment\n",
       "    counter\n",
       "\\}\n",
       "\\end{minted}"
      ],
      "text/markdown": [
       "```r\n",
       "function () \n",
       "{\n",
       "    counter <<- counter + increment\n",
       "    counter\n",
       "}\n",
       "```"
      ],
      "text/plain": [
       "function() {\n",
       "        counter <<- counter + increment\n",
       "        counter\n",
       "    }\n",
       "<bytecode: 0x00000000050c4538>\n",
       "<environment: 0x0000000060d3ea40>"
      ]
     },
     "metadata": {},
     "output_type": "display_data"
    }
   ],
   "source": [
    "cb <- get_counter(100, 2)\n",
    "cb"
   ]
  },
  {
   "cell_type": "code",
   "execution_count": 35,
   "id": "b1d0efe6-e76c-4b90-b728-fddd3a0f07a8",
   "metadata": {},
   "outputs": [
    {
     "data": {
      "text/html": [
       "101"
      ],
      "text/latex": [
       "101"
      ],
      "text/markdown": [
       "101"
      ],
      "text/plain": [
       "[1] 101"
      ]
     },
     "metadata": {},
     "output_type": "display_data"
    }
   ],
   "source": [
    "ca()"
   ]
  },
  {
   "cell_type": "code",
   "execution_count": 37,
   "id": "fab29483-5267-48a4-a016-e6ec4d594cb2",
   "metadata": {},
   "outputs": [
    {
     "data": {
      "text/html": [
       "102"
      ],
      "text/latex": [
       "102"
      ],
      "text/markdown": [
       "102"
      ],
      "text/plain": [
       "[1] 102"
      ]
     },
     "metadata": {},
     "output_type": "display_data"
    }
   ],
   "source": [
    "ca()"
   ]
  },
  {
   "cell_type": "code",
   "execution_count": 39,
   "id": "eedb065a-07ee-442f-a224-c2a89e763195",
   "metadata": {},
   "outputs": [
    {
     "data": {
      "text/html": [
       "102"
      ],
      "text/latex": [
       "102"
      ],
      "text/markdown": [
       "102"
      ],
      "text/plain": [
       "[1] 102"
      ]
     },
     "metadata": {},
     "output_type": "display_data"
    }
   ],
   "source": [
    "cb()"
   ]
  },
  {
   "cell_type": "code",
   "execution_count": 41,
   "id": "451e9833-119a-4035-9c46-54c4c5cf80be",
   "metadata": {},
   "outputs": [
    {
     "data": {
      "text/html": [
       "104"
      ],
      "text/latex": [
       "104"
      ],
      "text/markdown": [
       "104"
      ],
      "text/plain": [
       "[1] 104"
      ]
     },
     "metadata": {},
     "output_type": "display_data"
    }
   ],
   "source": [
    "cb()"
   ]
  },
  {
   "cell_type": "code",
   "execution_count": 43,
   "id": "7f63e721-98ea-471c-a54f-0fef3d3b5989",
   "metadata": {},
   "outputs": [
    {
     "data": {
      "text/html": [
       "106"
      ],
      "text/latex": [
       "106"
      ],
      "text/markdown": [
       "106"
      ],
      "text/plain": [
       "[1] 106"
      ]
     },
     "metadata": {},
     "output_type": "display_data"
    }
   ],
   "source": [
    "cb()"
   ]
  },
  {
   "cell_type": "code",
   "execution_count": 45,
   "id": "472d816b-c4ca-45ad-b7a7-4620c8b40c71",
   "metadata": {},
   "outputs": [
    {
     "data": {
      "text/html": [
       "108"
      ],
      "text/latex": [
       "108"
      ],
      "text/markdown": [
       "108"
      ],
      "text/plain": [
       "[1] 108"
      ]
     },
     "metadata": {},
     "output_type": "display_data"
    }
   ],
   "source": [
    "cb()"
   ]
  },
  {
   "cell_type": "code",
   "execution_count": 47,
   "id": "835d63f9-3a72-4aa1-a656-c623d2984f6d",
   "metadata": {},
   "outputs": [
    {
     "data": {
      "text/html": [
       "103"
      ],
      "text/latex": [
       "103"
      ],
      "text/markdown": [
       "103"
      ],
      "text/plain": [
       "[1] 103"
      ]
     },
     "metadata": {},
     "output_type": "display_data"
    }
   ],
   "source": [
    "ca()"
   ]
  },
  {
   "cell_type": "code",
   "execution_count": 49,
   "id": "05cb7bca-de49-4953-8ed3-3b437566e2f8",
   "metadata": {},
   "outputs": [
    {
     "data": {
      "text/html": [
       "104"
      ],
      "text/latex": [
       "104"
      ],
      "text/markdown": [
       "104"
      ],
      "text/plain": [
       "[1] 104"
      ]
     },
     "metadata": {},
     "output_type": "display_data"
    }
   ],
   "source": [
    "ca()"
   ]
  },
  {
   "cell_type": "code",
   "execution_count": 51,
   "id": "15878e98-4a5a-453d-8dc9-05f8df5c6806",
   "metadata": {},
   "outputs": [
    {
     "data": {
      "text/html": [
       "110"
      ],
      "text/latex": [
       "110"
      ],
      "text/markdown": [
       "110"
      ],
      "text/plain": [
       "[1] 110"
      ]
     },
     "metadata": {},
     "output_type": "display_data"
    }
   ],
   "source": [
    "cb()"
   ]
  },
  {
   "cell_type": "code",
   "execution_count": 53,
   "id": "36007ee0-bc15-4476-ad58-3e62b66f207c",
   "metadata": {},
   "outputs": [],
   "source": [
    "function_vector <- c(mean = mean)"
   ]
  },
  {
   "cell_type": "code",
   "execution_count": 55,
   "id": "55c74cec-974c-4b8d-a823-c5e066177e3f",
   "metadata": {},
   "outputs": [
    {
     "data": {
      "text/html": [
       "3.5"
      ],
      "text/latex": [
       "3.5"
      ],
      "text/markdown": [
       "3.5"
      ],
      "text/plain": [
       "[1] 3.5"
      ]
     },
     "metadata": {},
     "output_type": "display_data"
    }
   ],
   "source": [
    "function_vector$mean(c(2, 3, 4, 5))"
   ]
  },
  {
   "cell_type": "code",
   "execution_count": 57,
   "id": "8d36194e-4564-4b3a-9523-15f6e3e847f7",
   "metadata": {},
   "outputs": [
    {
     "name": "stdout",
     "output_type": "stream",
     "text": [
      "[1] \"Peter\" \"James\" \"Jill\" \n"
     ]
    }
   ],
   "source": [
    "names = c(\"Peter\", \"James\", \"Jill\")\n",
    " \n",
    "func_a = function() {\n",
    "\tnames = c(\"Alice\", \"Bob\", \"Julie\")\n",
    "}\n",
    " \n",
    "func_a()\n",
    "print(names)\n"
   ]
  },
  {
   "cell_type": "code",
   "execution_count": 59,
   "id": "10fb88ac-54ae-4fa4-b925-f2c493fd244f",
   "metadata": {},
   "outputs": [
    {
     "name": "stderr",
     "output_type": "stream",
     "text": [
      "This is a function!\n"
     ]
    }
   ],
   "source": [
    "new_func <- function() {\n",
    "\tmessage(\"This is a function!\")\n",
    "}\n",
    " \n",
    "result = new_func()"
   ]
  },
  {
   "cell_type": "code",
   "execution_count": 61,
   "id": "c0466ca3-62e3-4da4-84c4-76785e5373ed",
   "metadata": {},
   "outputs": [
    {
     "data": {
      "text/plain": [
       "NULL"
      ]
     },
     "metadata": {},
     "output_type": "display_data"
    }
   ],
   "source": [
    "result"
   ]
  },
  {
   "cell_type": "code",
   "execution_count": null,
   "id": "2332fbe8-9c3b-4d23-bd8f-4393b1eae93d",
   "metadata": {},
   "outputs": [],
   "source": []
  }
 ],
 "metadata": {
  "kernelspec": {
   "display_name": "R",
   "language": "R",
   "name": "ir"
  },
  "language_info": {
   "codemirror_mode": "r",
   "file_extension": ".r",
   "mimetype": "text/x-r-source",
   "name": "R",
   "pygments_lexer": "r",
   "version": "3.6.1"
  }
 },
 "nbformat": 4,
 "nbformat_minor": 5
}
