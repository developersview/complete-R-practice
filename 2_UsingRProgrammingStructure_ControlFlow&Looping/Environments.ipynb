{
 "cells": [
  {
   "cell_type": "code",
   "execution_count": 1,
   "id": "83b4f260-21c6-450d-8ba5-637fb14f9390",
   "metadata": {},
   "outputs": [
    {
     "data": {
      "text/html": [
       "<ol class=list-inline>\n",
       "\t<li>'gog'</li>\n",
       "\t<li>'cat'</li>\n",
       "\t<li>'lion'</li>\n",
       "\t<li>'deer'</li>\n",
       "\t<li>'elephant'</li>\n",
       "</ol>\n"
      ],
      "text/latex": [
       "\\begin{enumerate*}\n",
       "\\item 'gog'\n",
       "\\item 'cat'\n",
       "\\item 'lion'\n",
       "\\item 'deer'\n",
       "\\item 'elephant'\n",
       "\\end{enumerate*}\n"
      ],
      "text/markdown": [
       "1. 'gog'\n",
       "2. 'cat'\n",
       "3. 'lion'\n",
       "4. 'deer'\n",
       "5. 'elephant'\n",
       "\n",
       "\n"
      ],
      "text/plain": [
       "[1] \"gog\"      \"cat\"      \"lion\"     \"deer\"     \"elephant\""
      ]
     },
     "metadata": {},
     "output_type": "display_data"
    }
   ],
   "source": [
    "animals <- c('gog', 'cat', 'lion', 'deer', 'elephant')\n",
    "animals"
   ]
  },
  {
   "cell_type": "code",
   "execution_count": 3,
   "id": "aded6000-5aa7-4018-b05c-6e6521742b1e",
   "metadata": {},
   "outputs": [],
   "source": [
    "compute_cube <- function(x) {\n",
    "    res <- x ** 3\n",
    "    res\n",
    "}"
   ]
  },
  {
   "cell_type": "code",
   "execution_count": 5,
   "id": "4eac1a10-3bdf-441b-a8dc-948f2a67f7ef",
   "metadata": {},
   "outputs": [
    {
     "data": {
      "text/plain": [
       "<environment: R_GlobalEnv>"
      ]
     },
     "metadata": {},
     "output_type": "display_data"
    }
   ],
   "source": [
    "environment(compute_cube)"
   ]
  },
  {
   "cell_type": "code",
   "execution_count": 7,
   "id": "54d6d0db-7aec-4ecc-b22f-4796cfdc6545",
   "metadata": {},
   "outputs": [
    {
     "data": {
      "text/html": [
       "<ol class=list-inline>\n",
       "\t<li>'animals'</li>\n",
       "\t<li>'compute_cube'</li>\n",
       "</ol>\n"
      ],
      "text/latex": [
       "\\begin{enumerate*}\n",
       "\\item 'animals'\n",
       "\\item 'compute\\_cube'\n",
       "\\end{enumerate*}\n"
      ],
      "text/markdown": [
       "1. 'animals'\n",
       "2. 'compute_cube'\n",
       "\n",
       "\n"
      ],
      "text/plain": [
       "[1] \"animals\"      \"compute_cube\""
      ]
     },
     "metadata": {},
     "output_type": "display_data"
    }
   ],
   "source": [
    "ls()"
   ]
  },
  {
   "cell_type": "code",
   "execution_count": 9,
   "id": "81e8c390-37b1-4361-8ada-188368bc54e1",
   "metadata": {},
   "outputs": [
    {
     "data": {
      "text/plain": [
       "animals :  chr [1:5] \"gog\" \"cat\" \"lion\" \"deer\" \"elephant\"\n",
       "compute_cube : function (x)  "
      ]
     },
     "metadata": {},
     "output_type": "display_data"
    }
   ],
   "source": [
    "ls.str()"
   ]
  },
  {
   "cell_type": "code",
   "execution_count": 11,
   "id": "4fe25842-062b-4b4b-b8e5-98b11d107daa",
   "metadata": {},
   "outputs": [
    {
     "data": {
      "text/plain": [
       "<environment: 0x000000000475f838>"
      ]
     },
     "metadata": {},
     "output_type": "display_data"
    }
   ],
   "source": [
    "curr.env <- new.env()\n",
    "curr.env"
   ]
  },
  {
   "cell_type": "code",
   "execution_count": 13,
   "id": "3918040b-8937-48cd-a859-699a59d4adef",
   "metadata": {},
   "outputs": [],
   "source": [
    "curr.env[['female.vector']] <- c('Ana', 'Julie', 'Lily')\n",
    "curr.env$compute_sum <- function(some.vector) {\n",
    "    sum(some.vector)\n",
    "}"
   ]
  },
  {
   "cell_type": "code",
   "execution_count": 15,
   "id": "58648017-5706-4834-b911-9f7305177c74",
   "metadata": {},
   "outputs": [
    {
     "data": {
      "text/plain": [
       "compute_sum : function (some.vector)  \n",
       "female.vector :  chr [1:3] \"Ana\" \"Julie\" \"Lily\""
      ]
     },
     "metadata": {},
     "output_type": "display_data"
    }
   ],
   "source": [
    "ls.str(curr.env)"
   ]
  },
  {
   "cell_type": "code",
   "execution_count": 27,
   "id": "2f32dbfa-7bd2-4821-bfe1-da161f42ca12",
   "metadata": {},
   "outputs": [
    {
     "data": {
      "text/html": [
       "FALSE"
      ],
      "text/latex": [
       "FALSE"
      ],
      "text/markdown": [
       "FALSE"
      ],
      "text/plain": [
       "[1] FALSE"
      ]
     },
     "metadata": {},
     "output_type": "display_data"
    }
   ],
   "source": [
    "exists('female.vector', globalenv())"
   ]
  },
  {
   "cell_type": "code",
   "execution_count": 29,
   "id": "49fe45ee-2050-41f3-9323-6f74983d663b",
   "metadata": {},
   "outputs": [
    {
     "data": {
      "text/html": [
       "TRUE"
      ],
      "text/latex": [
       "TRUE"
      ],
      "text/markdown": [
       "TRUE"
      ],
      "text/plain": [
       "[1] TRUE"
      ]
     },
     "metadata": {},
     "output_type": "display_data"
    }
   ],
   "source": [
    "exists('female.vector', curr.env)"
   ]
  },
  {
   "cell_type": "code",
   "execution_count": 31,
   "id": "0caec2ea-3f70-47a9-bf76-a8a147c2b772",
   "metadata": {},
   "outputs": [
    {
     "data": {
      "text/plain": [
       "animals :  chr [1:5] \"gog\" \"cat\" \"lion\" \"deer\" \"elephant\"\n",
       "compute_cube : function (x)  \n",
       "curr.env : <environment: 0x000000000475f838> "
      ]
     },
     "metadata": {},
     "output_type": "display_data"
    }
   ],
   "source": [
    "ls.str()"
   ]
  },
  {
   "cell_type": "code",
   "execution_count": 33,
   "id": "c8f4a4e1-c9cf-4520-8e14-a6b5e8b6fe70",
   "metadata": {},
   "outputs": [
    {
     "data": {
      "text/plain": [
       "<environment: 0x0000000062ac87f8>"
      ]
     },
     "metadata": {},
     "output_type": "display_data"
    }
   ],
   "source": [
    "nested.env <- new.env (parent = curr.env)\n",
    "nested.env"
   ]
  },
  {
   "cell_type": "code",
   "execution_count": 35,
   "id": "8d2cb7f7-4458-4637-99d9-cffd74d57853",
   "metadata": {},
   "outputs": [
    {
     "data": {
      "text/plain": [
       "animals :  chr [1:5] \"gog\" \"cat\" \"lion\" \"deer\" \"elephant\"\n",
       "compute_cube : function (x)  \n",
       "curr.env : <environment: 0x000000000475f838> \n",
       "nested.env : <environment: 0x0000000062ac87f8> "
      ]
     },
     "metadata": {},
     "output_type": "display_data"
    }
   ],
   "source": [
    "ls.str()"
   ]
  },
  {
   "cell_type": "code",
   "execution_count": 37,
   "id": "61c89c80-f388-4072-942a-8ad392d49a82",
   "metadata": {},
   "outputs": [],
   "source": [
    "nested.env[['male.names']] <- c('Arthur', 'Bob', 'Chase')"
   ]
  },
  {
   "cell_type": "code",
   "execution_count": 39,
   "id": "a65d4f0f-a8fe-4499-8f39-e9f9340f85a5",
   "metadata": {},
   "outputs": [
    {
     "data": {
      "text/html": [
       "TRUE"
      ],
      "text/latex": [
       "TRUE"
      ],
      "text/markdown": [
       "TRUE"
      ],
      "text/plain": [
       "[1] TRUE"
      ]
     },
     "metadata": {},
     "output_type": "display_data"
    }
   ],
   "source": [
    "exists('male.names', nested.env)"
   ]
  },
  {
   "cell_type": "code",
   "execution_count": 43,
   "id": "460d989d-c14f-41bb-a766-2a6d7cba2c9f",
   "metadata": {},
   "outputs": [
    {
     "data": {
      "text/html": [
       "TRUE"
      ],
      "text/latex": [
       "TRUE"
      ],
      "text/markdown": [
       "TRUE"
      ],
      "text/plain": [
       "[1] TRUE"
      ]
     },
     "metadata": {},
     "output_type": "display_data"
    }
   ],
   "source": [
    "exists('female.vector', nested.env)"
   ]
  },
  {
   "cell_type": "code",
   "execution_count": null,
   "id": "3b5df266-8c58-459d-8f34-f8683752212f",
   "metadata": {},
   "outputs": [],
   "source": []
  }
 ],
 "metadata": {
  "kernelspec": {
   "display_name": "R",
   "language": "R",
   "name": "ir"
  },
  "language_info": {
   "codemirror_mode": "r",
   "file_extension": ".r",
   "mimetype": "text/x-r-source",
   "name": "R",
   "pygments_lexer": "r",
   "version": "3.6.1"
  }
 },
 "nbformat": 4,
 "nbformat_minor": 5
}
