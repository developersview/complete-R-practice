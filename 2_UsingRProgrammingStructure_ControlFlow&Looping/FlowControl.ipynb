{
 "cells": [
  {
   "cell_type": "code",
   "execution_count": 1,
   "id": "01f03b4e-1baf-4c57-baef-90b7b7a8d703",
   "metadata": {},
   "outputs": [
    {
     "name": "stderr",
     "output_type": "stream",
     "text": [
      "Excute code if the condition is true!\n"
     ]
    }
   ],
   "source": [
    "if(TRUE){\n",
    "    message('Excute code if the condition is true!')\n",
    "}"
   ]
  },
  {
   "cell_type": "code",
   "execution_count": 3,
   "id": "da2593b9-a5d1-4e22-a305-33af36580dcd",
   "metadata": {},
   "outputs": [],
   "source": [
    "if(FALSE){\n",
    "    message('Excute code if the condition is true!')\n",
    "}"
   ]
  },
  {
   "cell_type": "code",
   "execution_count": 13,
   "id": "efa2c738-9192-4713-8f38-992217500157",
   "metadata": {},
   "outputs": [
    {
     "name": "stderr",
     "output_type": "stream",
     "text": [
      "Savings are greater than zero: 9655\n"
     ]
    }
   ],
   "source": [
    "salary <- 50000\n",
    "expenses <- 40345\n",
    "\n",
    "savings <-salary - expenses\n",
    "if (savings > 0) {\n",
    "    message(sprintf(\"%s: %d\", \"Savings are greater than zero\", savings))\n",
    "}"
   ]
  },
  {
   "cell_type": "code",
   "execution_count": 15,
   "id": "8875c492-b3fa-401f-a11c-9a076f2e463c",
   "metadata": {},
   "outputs": [
    {
     "ename": "ERROR",
     "evalue": "Error in if (NA) {: missing value where TRUE/FALSE needed\n",
     "output_type": "error",
     "traceback": [
      "Error in if (NA) {: missing value where TRUE/FALSE needed\nTraceback:\n"
     ]
    }
   ],
   "source": [
    "if(NA){\n",
    "    message('This will be an error')\n",
    "}"
   ]
  },
  {
   "cell_type": "code",
   "execution_count": 19,
   "id": "a4782b6b-278b-4d56-aab7-41dee6c64bb7",
   "metadata": {},
   "outputs": [
    {
     "ename": "ERROR",
     "evalue": "Error in if (savings > 0) {: missing value where TRUE/FALSE needed\n",
     "output_type": "error",
     "traceback": [
      "Error in if (savings > 0) {: missing value where TRUE/FALSE needed\nTraceback:\n"
     ]
    }
   ],
   "source": [
    "salary <- 50000\n",
    "expenses <- NA\n",
    "\n",
    "savings <- salary - expenses\n",
    "if (savings > 0) {\n",
    "    message(sprintf(\"%s: %d\", \"Savings are greater than zero\", savings))\n",
    "}"
   ]
  },
  {
   "cell_type": "code",
   "execution_count": 23,
   "id": "da9f2045-77d3-4abd-83cb-c2b9051f278b",
   "metadata": {},
   "outputs": [
    {
     "name": "stderr",
     "output_type": "stream",
     "text": [
      "Something went wrong, value missing!: NA\n"
     ]
    }
   ],
   "source": [
    "salary <- 50000\n",
    "expenses <- NA\n",
    "\n",
    "savings <- salary - expenses\n",
    "if (is.na(savings)) {\n",
    "    message(sprintf(\"%s: %d\", \"Something went wrong, value missing!\", savings))\n",
    "}"
   ]
  },
  {
   "cell_type": "code",
   "execution_count": 31,
   "id": "1d1cf4fb-760e-4b4a-acbf-5369e358fb6e",
   "metadata": {},
   "outputs": [
    {
     "name": "stderr",
     "output_type": "stream",
     "text": [
      "Savings between 0 and 10000: 9655\n"
     ]
    }
   ],
   "source": [
    "salary <- 50000\n",
    "expenses <- 40345\n",
    "\n",
    "savings <- salary - expenses\n",
    "if (savings > 0 && savings < 10000) {\n",
    "    message(sprintf(\"%s: %d\", \"Savings between 0 and 10000\", savings))\n",
    "}"
   ]
  },
  {
   "cell_type": "code",
   "execution_count": 35,
   "id": "5ff691d1-ca4b-4e3f-9bd6-3466b499acba",
   "metadata": {},
   "outputs": [
    {
     "name": "stderr",
     "output_type": "stream",
     "text": [
      "Savings between 0 and 10000: 6655\n"
     ]
    }
   ],
   "source": [
    "salary <- 50000\n",
    "expenses <- 43345\n",
    "\n",
    "savings <- salary - expenses\n",
    "if (savings > 0 || savings < 10000) {\n",
    "    message(sprintf(\"%s: %d\", \"Savings between 0 and 10000\", savings))\n",
    "}"
   ]
  },
  {
   "cell_type": "code",
   "execution_count": 43,
   "id": "b3828ca9-5877-49cb-9b96-4c73b94674a6",
   "metadata": {},
   "outputs": [
    {
     "name": "stdout",
     "output_type": "stream",
     "text": [
      "[1] \"All elements in the vector are less than 10\"\n"
     ]
    }
   ],
   "source": [
    "vector <- c(2,5,8,9,5,10)\n",
    "\n",
    "if(all(vector <= 10)){\n",
    "    print(\"All elements in the vector are less than 10\")\n",
    "} else {\n",
    "    print(\"At least one element in the vector is greater than 10\")\n",
    "}"
   ]
  },
  {
   "cell_type": "code",
   "execution_count": 45,
   "id": "27c7b674-e28e-45a8-b762-344992bb62bf",
   "metadata": {},
   "outputs": [
    {
     "name": "stdout",
     "output_type": "stream",
     "text": [
      "[1] \"Employee exists\"\n"
     ]
    }
   ],
   "source": [
    "names <- c('Mike', 'Nick', 'David', 'Peter')\n",
    "\n",
    "if('Mike' %in% names){\n",
    "    print(\"Employee exists\")\n",
    "} else {\n",
    "    print(\"Employee does not exists\")\n",
    "}"
   ]
  },
  {
   "cell_type": "code",
   "execution_count": 47,
   "id": "2779094f-d1a8-4c9c-84a1-5c18f2fb3fd9",
   "metadata": {},
   "outputs": [
    {
     "data": {
      "text/html": [
       "<ol class=list-inline>\n",
       "\t<li>TRUE</li>\n",
       "\t<li>FALSE</li>\n",
       "\t<li>TRUE</li>\n",
       "\t<li>FALSE</li>\n",
       "\t<li>TRUE</li>\n",
       "\t<li>TRUE</li>\n",
       "\t<li>FALSE</li>\n",
       "</ol>\n"
      ],
      "text/latex": [
       "\\begin{enumerate*}\n",
       "\\item TRUE\n",
       "\\item FALSE\n",
       "\\item TRUE\n",
       "\\item FALSE\n",
       "\\item TRUE\n",
       "\\item TRUE\n",
       "\\item FALSE\n",
       "\\end{enumerate*}\n"
      ],
      "text/markdown": [
       "1. TRUE\n",
       "2. FALSE\n",
       "3. TRUE\n",
       "4. FALSE\n",
       "5. TRUE\n",
       "6. TRUE\n",
       "7. FALSE\n",
       "\n",
       "\n"
      ],
      "text/plain": [
       "[1]  TRUE FALSE  TRUE FALSE  TRUE  TRUE FALSE"
      ]
     },
     "metadata": {},
     "output_type": "display_data"
    }
   ],
   "source": [
    "logical.vector <- c(TRUE, FALSE, TRUE, FALSE, TRUE, TRUE, FALSE)\n",
    "logical.vector"
   ]
  },
  {
   "cell_type": "code",
   "execution_count": 49,
   "id": "d7a7f442-37fb-49c8-b66b-c5d54048c019",
   "metadata": {},
   "outputs": [
    {
     "data": {
      "text/html": [
       "<ol class=list-inline>\n",
       "\t<li>'100'</li>\n",
       "\t<li>'-100'</li>\n",
       "\t<li>'100'</li>\n",
       "\t<li>'-100'</li>\n",
       "\t<li>'100'</li>\n",
       "\t<li>'100'</li>\n",
       "\t<li>'-100'</li>\n",
       "</ol>\n"
      ],
      "text/latex": [
       "\\begin{enumerate*}\n",
       "\\item '100'\n",
       "\\item '-100'\n",
       "\\item '100'\n",
       "\\item '-100'\n",
       "\\item '100'\n",
       "\\item '100'\n",
       "\\item '-100'\n",
       "\\end{enumerate*}\n"
      ],
      "text/markdown": [
       "1. '100'\n",
       "2. '-100'\n",
       "3. '100'\n",
       "4. '-100'\n",
       "5. '100'\n",
       "6. '100'\n",
       "7. '-100'\n",
       "\n",
       "\n"
      ],
      "text/plain": [
       "[1] \"100\"  \"-100\" \"100\"  \"-100\" \"100\"  \"100\"  \"-100\""
      ]
     },
     "metadata": {},
     "output_type": "display_data"
    }
   ],
   "source": [
    "result.vector <- ifelse(logical.vector, \"100\", \"-100\")\n",
    "result.vector"
   ]
  },
  {
   "cell_type": "code",
   "execution_count": 51,
   "id": "ade6348e-5c23-4f6e-bc36-7fcfc6362b90",
   "metadata": {},
   "outputs": [
    {
     "data": {
      "text/html": [
       "<ol class=list-inline>\n",
       "\t<li>'100'</li>\n",
       "\t<li>'-100'</li>\n",
       "\t<li>'100'</li>\n",
       "\t<li>'-100'</li>\n",
       "\t<li>'100'</li>\n",
       "\t<li>'100'</li>\n",
       "\t<li>'-100'</li>\n",
       "\t<li>NA</li>\n",
       "\t<li>NA</li>\n",
       "</ol>\n"
      ],
      "text/latex": [
       "\\begin{enumerate*}\n",
       "\\item '100'\n",
       "\\item '-100'\n",
       "\\item '100'\n",
       "\\item '-100'\n",
       "\\item '100'\n",
       "\\item '100'\n",
       "\\item '-100'\n",
       "\\item NA\n",
       "\\item NA\n",
       "\\end{enumerate*}\n"
      ],
      "text/markdown": [
       "1. '100'\n",
       "2. '-100'\n",
       "3. '100'\n",
       "4. '-100'\n",
       "5. '100'\n",
       "6. '100'\n",
       "7. '-100'\n",
       "8. NA\n",
       "9. NA\n",
       "\n",
       "\n"
      ],
      "text/plain": [
       "[1] \"100\"  \"-100\" \"100\"  \"-100\" \"100\"  \"100\"  \"-100\" NA     NA    "
      ]
     },
     "metadata": {},
     "output_type": "display_data"
    }
   ],
   "source": [
    "logical.vector <- c(TRUE, FALSE, TRUE, FALSE, TRUE, TRUE, FALSE, NA, NA)\n",
    "result.vector <- ifelse(logical.vector, \"100\", \"-100\")\n",
    "result.vector"
   ]
  },
  {
   "cell_type": "code",
   "execution_count": 80,
   "id": "ee027c5e-ee8e-4a64-b307-f8d86136e84d",
   "metadata": {},
   "outputs": [
    {
     "data": {
      "text/html": [
       "\n",
       "<table width=\"100%\" summary=\"page for Binomial {stats}\"><tr><td>Binomial {stats}</td><td style=\"text-align: right;\">R Documentation</td></tr></table>\n",
       "\n",
       "<h2>The Binomial Distribution</h2>\n",
       "\n",
       "<h3>Description</h3>\n",
       "\n",
       "<p>Density, distribution function, quantile function and random\n",
       "generation for the binomial distribution with parameters <code>size</code>\n",
       "and <code>prob</code>.\n",
       "</p>\n",
       "<p>This is conventionally interpreted as the number of &lsquo;successes&rsquo;\n",
       "in <code>size</code> trials.\n",
       "</p>\n",
       "\n",
       "\n",
       "<h3>Usage</h3>\n",
       "\n",
       "<pre>\n",
       "dbinom(x, size, prob, log = FALSE)\n",
       "pbinom(q, size, prob, lower.tail = TRUE, log.p = FALSE)\n",
       "qbinom(p, size, prob, lower.tail = TRUE, log.p = FALSE)\n",
       "rbinom(n, size, prob)\n",
       "</pre>\n",
       "\n",
       "\n",
       "<h3>Arguments</h3>\n",
       "\n",
       "<table summary=\"R argblock\">\n",
       "<tr valign=\"top\"><td><code>x, q</code></td>\n",
       "<td>\n",
       "<p>vector of quantiles.</p>\n",
       "</td></tr>\n",
       "<tr valign=\"top\"><td><code>p</code></td>\n",
       "<td>\n",
       "<p>vector of probabilities.</p>\n",
       "</td></tr>\n",
       "<tr valign=\"top\"><td><code>n</code></td>\n",
       "<td>\n",
       "<p>number of observations. If <code>length(n) &gt; 1</code>, the length\n",
       "is taken to be the number required.</p>\n",
       "</td></tr>\n",
       "<tr valign=\"top\"><td><code>size</code></td>\n",
       "<td>\n",
       "<p>number of trials (zero or more).</p>\n",
       "</td></tr>\n",
       "<tr valign=\"top\"><td><code>prob</code></td>\n",
       "<td>\n",
       "<p>probability of success on each trial.</p>\n",
       "</td></tr>\n",
       "<tr valign=\"top\"><td><code>log, log.p</code></td>\n",
       "<td>\n",
       "<p>logical; if TRUE, probabilities p are given as log(p).</p>\n",
       "</td></tr>\n",
       "<tr valign=\"top\"><td><code>lower.tail</code></td>\n",
       "<td>\n",
       "<p>logical; if TRUE (default), probabilities are\n",
       "<i>P[X &le; x]</i>, otherwise, <i>P[X &gt; x]</i>.</p>\n",
       "</td></tr>\n",
       "</table>\n",
       "\n",
       "\n",
       "<h3>Details</h3>\n",
       "\n",
       "<p>The binomial distribution with <code>size</code> <i>= n</i> and\n",
       "<code>prob</code> <i>= p</i> has density\n",
       "</p>\n",
       "<p style=\"text-align: center;\"><i>\n",
       "    p(x) = choose(n, x) p^x (1-p)^(n-x)</i></p>\n",
       "\n",
       "<p>for <i>x = 0, &hellip;, n</i>.\n",
       "Note that binomial <em>coefficients</em> can be computed by\n",
       "<code>choose</code> in <span style=\"font-family: Courier New, Courier; color: #666666;\"><b>R</b></span>.\n",
       "</p>\n",
       "<p>If an element of <code>x</code> is not integer, the result of <code>dbinom</code>\n",
       "is zero, with a warning.\n",
       "</p>\n",
       "<p><i>p(x)</i> is computed using Loader's algorithm, see the reference below.\n",
       "</p>\n",
       "<p>The quantile is defined as the smallest value <i>x</i> such that\n",
       "<i>F(x) &ge; p</i>, where <i>F</i> is the distribution function.\n",
       "</p>\n",
       "\n",
       "\n",
       "<h3>Value</h3>\n",
       "\n",
       "<p><code>dbinom</code> gives the density, <code>pbinom</code> gives the distribution\n",
       "function, <code>qbinom</code> gives the quantile function and <code>rbinom</code>\n",
       "generates random deviates.\n",
       "</p>\n",
       "<p>If <code>size</code> is not an integer, <code>NaN</code> is returned.\n",
       "</p>\n",
       "<p>The length of the result is determined by <code>n</code> for\n",
       "<code>rbinom</code>, and is the maximum of the lengths of the\n",
       "numerical arguments for the other functions.  \n",
       "</p>\n",
       "<p>The numerical arguments other than <code>n</code> are recycled to the\n",
       "length of the result.  Only the first elements of the logical\n",
       "arguments are used.\n",
       "</p>\n",
       "\n",
       "\n",
       "<h3>Source</h3>\n",
       "\n",
       "<p>For <code>dbinom</code> a saddle-point expansion is used: see\n",
       "</p>\n",
       "<p>Catherine Loader (2000). <em>Fast and Accurate Computation of\n",
       "Binomial Probabilities</em>; available from\n",
       "<a href=\"http://www.herine.net/stat/software/dbinom.html\">http://www.herine.net/stat/software/dbinom.html</a>.\n",
       "</p>\n",
       "<p><code>pbinom</code> uses <code>pbeta</code>.\n",
       "</p>\n",
       "<p><code>qbinom</code> uses the Cornish&ndash;Fisher Expansion to include a skewness\n",
       "correction to a normal approximation, followed by a search.\n",
       "</p>\n",
       "<p><code>rbinom</code> (for <code>size &lt; .Machine$integer.max</code>) is based on\n",
       "</p>\n",
       "<p>Kachitvichyanukul, V. and Schmeiser, B. W. (1988)\n",
       "Binomial random variate generation.\n",
       "<em>Communications of the ACM</em>, <b>31</b>, 216&ndash;222.\n",
       "</p>\n",
       "<p>For larger values it uses inversion.\n",
       "</p>\n",
       "\n",
       "\n",
       "<h3>See Also</h3>\n",
       "\n",
       "<p>Distributions for other standard distributions, including\n",
       "<code>dnbinom</code> for the negative binomial, and\n",
       "<code>dpois</code> for the Poisson distribution.\n",
       "</p>\n",
       "\n",
       "\n",
       "<h3>Examples</h3>\n",
       "\n",
       "<pre>\n",
       "require(graphics)\n",
       "# Compute P(45 &lt; X &lt; 55) for X Binomial(100,0.5)\n",
       "sum(dbinom(46:54, 100, 0.5))\n",
       "\n",
       "## Using \"log = TRUE\" for an extended range :\n",
       "n &lt;- 2000\n",
       "k &lt;- seq(0, n, by = 20)\n",
       "plot (k, dbinom(k, n, pi/10, log = TRUE), type = \"l\", ylab = \"log density\",\n",
       "      main = \"dbinom(*, log=TRUE) is better than  log(dbinom(*))\")\n",
       "lines(k, log(dbinom(k, n, pi/10)), col = \"red\", lwd = 2)\n",
       "## extreme points are omitted since dbinom gives 0.\n",
       "mtext(\"dbinom(k, log=TRUE)\", adj = 0)\n",
       "mtext(\"extended range\", adj = 0, line = -1, font = 4)\n",
       "mtext(\"log(dbinom(k))\", col = \"red\", adj = 1)\n",
       "</pre>\n",
       "\n",
       "<hr /><div style=\"text-align: center;\">[Package <em>stats</em> version 3.6.1 ]</div>"
      ],
      "text/latex": [
       "\\inputencoding{utf8}\n",
       "\\HeaderA{Binomial}{The Binomial Distribution}{Binomial}\n",
       "\\aliasA{dbinom}{Binomial}{dbinom}\n",
       "\\aliasA{pbinom}{Binomial}{pbinom}\n",
       "\\aliasA{qbinom}{Binomial}{qbinom}\n",
       "\\aliasA{rbinom}{Binomial}{rbinom}\n",
       "\\keyword{distribution}{Binomial}\n",
       "%\n",
       "\\begin{Description}\\relax\n",
       "Density, distribution function, quantile function and random\n",
       "generation for the binomial distribution with parameters \\code{size}\n",
       "and \\code{prob}.\n",
       "\n",
       "This is conventionally interpreted as the number of `successes'\n",
       "in \\code{size} trials.\n",
       "\\end{Description}\n",
       "%\n",
       "\\begin{Usage}\n",
       "\\begin{verbatim}\n",
       "dbinom(x, size, prob, log = FALSE)\n",
       "pbinom(q, size, prob, lower.tail = TRUE, log.p = FALSE)\n",
       "qbinom(p, size, prob, lower.tail = TRUE, log.p = FALSE)\n",
       "rbinom(n, size, prob)\n",
       "\\end{verbatim}\n",
       "\\end{Usage}\n",
       "%\n",
       "\\begin{Arguments}\n",
       "\\begin{ldescription}\n",
       "\\item[\\code{x, q}] vector of quantiles.\n",
       "\\item[\\code{p}] vector of probabilities.\n",
       "\\item[\\code{n}] number of observations. If \\code{length(n) > 1}, the length\n",
       "is taken to be the number required.\n",
       "\\item[\\code{size}] number of trials (zero or more).\n",
       "\\item[\\code{prob}] probability of success on each trial.\n",
       "\\item[\\code{log, log.p}] logical; if TRUE, probabilities p are given as log(p).\n",
       "\\item[\\code{lower.tail}] logical; if TRUE (default), probabilities are\n",
       "\\eqn{P[X \\le x]}{}, otherwise, \\eqn{P[X > x]}{}.\n",
       "\\end{ldescription}\n",
       "\\end{Arguments}\n",
       "%\n",
       "\\begin{Details}\\relax\n",
       "The binomial distribution with \\code{size} \\eqn{= n}{} and\n",
       "\\code{prob} \\eqn{= p}{} has density\n",
       "\\deqn{p(x) = {n \\choose x} {p}^{x} {(1-p)}^{n-x}}{}\n",
       "for \\eqn{x = 0, \\ldots, n}{}.\n",
       "Note that binomial \\emph{coefficients} can be computed by\n",
       "\\code{\\LinkA{choose}{choose}} in \\R{}.\n",
       "\n",
       "If an element of \\code{x} is not integer, the result of \\code{dbinom}\n",
       "is zero, with a warning.\n",
       "\n",
       "\\eqn{p(x)}{} is computed using Loader's algorithm, see the reference below.\n",
       "\n",
       "The quantile is defined as the smallest value \\eqn{x}{} such that\n",
       "\\eqn{F(x) \\ge p}{}, where \\eqn{F}{} is the distribution function.\n",
       "\\end{Details}\n",
       "%\n",
       "\\begin{Value}\n",
       "\\code{dbinom} gives the density, \\code{pbinom} gives the distribution\n",
       "function, \\code{qbinom} gives the quantile function and \\code{rbinom}\n",
       "generates random deviates.\n",
       "\n",
       "If \\code{size} is not an integer, \\code{NaN} is returned.\n",
       "\n",
       "The length of the result is determined by \\code{n} for\n",
       "\\code{rbinom}, and is the maximum of the lengths of the\n",
       "numerical arguments for the other functions.  \n",
       "\n",
       "The numerical arguments other than \\code{n} are recycled to the\n",
       "length of the result.  Only the first elements of the logical\n",
       "arguments are used.\n",
       "\\end{Value}\n",
       "%\n",
       "\\begin{Source}\\relax\n",
       "For \\code{dbinom} a saddle-point expansion is used: see\n",
       "\n",
       "Catherine Loader (2000). \\emph{Fast and Accurate Computation of\n",
       "Binomial Probabilities}; available from\n",
       "\\url{http://www.herine.net/stat/software/dbinom.html}.\n",
       "\n",
       "\\code{pbinom} uses \\code{\\LinkA{pbeta}{pbeta}}.\n",
       "\n",
       "\\code{qbinom} uses the Cornish--Fisher Expansion to include a skewness\n",
       "correction to a normal approximation, followed by a search.\n",
       "\n",
       "\\code{rbinom} (for \\code{size < .Machine\\$integer.max}) is based on\n",
       "\n",
       "Kachitvichyanukul, V. and Schmeiser, B. W. (1988)\n",
       "Binomial random variate generation.\n",
       "\\emph{Communications of the ACM}, \\bold{31}, 216--222.\n",
       "\n",
       "For larger values it uses inversion.\n",
       "\\end{Source}\n",
       "%\n",
       "\\begin{SeeAlso}\\relax\n",
       "\\LinkA{Distributions}{Distributions} for other standard distributions, including\n",
       "\\code{\\LinkA{dnbinom}{dnbinom}} for the negative binomial, and\n",
       "\\code{\\LinkA{dpois}{dpois}} for the Poisson distribution.\n",
       "\\end{SeeAlso}\n",
       "%\n",
       "\\begin{Examples}\n",
       "\\begin{ExampleCode}\n",
       "require(graphics)\n",
       "# Compute P(45 < X < 55) for X Binomial(100,0.5)\n",
       "sum(dbinom(46:54, 100, 0.5))\n",
       "\n",
       "## Using \"log = TRUE\" for an extended range :\n",
       "n <- 2000\n",
       "k <- seq(0, n, by = 20)\n",
       "plot (k, dbinom(k, n, pi/10, log = TRUE), type = \"l\", ylab = \"log density\",\n",
       "      main = \"dbinom(*, log=TRUE) is better than  log(dbinom(*))\")\n",
       "lines(k, log(dbinom(k, n, pi/10)), col = \"red\", lwd = 2)\n",
       "## extreme points are omitted since dbinom gives 0.\n",
       "mtext(\"dbinom(k, log=TRUE)\", adj = 0)\n",
       "mtext(\"extended range\", adj = 0, line = -1, font = 4)\n",
       "mtext(\"log(dbinom(k))\", col = \"red\", adj = 1)\n",
       "\\end{ExampleCode}\n",
       "\\end{Examples}"
      ],
      "text/plain": [
       "Binomial                 package:stats                 R Documentation\n",
       "\n",
       "_\bT_\bh_\be _\bB_\bi_\bn_\bo_\bm_\bi_\ba_\bl _\bD_\bi_\bs_\bt_\br_\bi_\bb_\bu_\bt_\bi_\bo_\bn\n",
       "\n",
       "_\bD_\be_\bs_\bc_\br_\bi_\bp_\bt_\bi_\bo_\bn:\n",
       "\n",
       "     Density, distribution function, quantile function and random\n",
       "     generation for the binomial distribution with parameters 'size'\n",
       "     and 'prob'.\n",
       "\n",
       "     This is conventionally interpreted as the number of 'successes' in\n",
       "     'size' trials.\n",
       "\n",
       "_\bU_\bs_\ba_\bg_\be:\n",
       "\n",
       "     dbinom(x, size, prob, log = FALSE)\n",
       "     pbinom(q, size, prob, lower.tail = TRUE, log.p = FALSE)\n",
       "     qbinom(p, size, prob, lower.tail = TRUE, log.p = FALSE)\n",
       "     rbinom(n, size, prob)\n",
       "     \n",
       "_\bA_\br_\bg_\bu_\bm_\be_\bn_\bt_\bs:\n",
       "\n",
       "    x, q: vector of quantiles.\n",
       "\n",
       "       p: vector of probabilities.\n",
       "\n",
       "       n: number of observations. If 'length(n) > 1', the length is\n",
       "          taken to be the number required.\n",
       "\n",
       "    size: number of trials (zero or more).\n",
       "\n",
       "    prob: probability of success on each trial.\n",
       "\n",
       "log, log.p: logical; if TRUE, probabilities p are given as log(p).\n",
       "\n",
       "lower.tail: logical; if TRUE (default), probabilities are P[X <= x],\n",
       "          otherwise, P[X > x].\n",
       "\n",
       "_\bD_\be_\bt_\ba_\bi_\bl_\bs:\n",
       "\n",
       "     The binomial distribution with 'size' = n and 'prob' = p has\n",
       "     density\n",
       "\n",
       "                       p(x) = choose(n, x) p^x (1-p)^(n-x)              \n",
       "     \n",
       "     for x = 0, ..., n.  Note that binomial _coefficients_ can be\n",
       "     computed by 'choose' in R.\n",
       "\n",
       "     If an element of 'x' is not integer, the result of 'dbinom' is\n",
       "     zero, with a warning.\n",
       "\n",
       "     p(x) is computed using Loader's algorithm, see the reference\n",
       "     below.\n",
       "\n",
       "     The quantile is defined as the smallest value x such that F(x) >=\n",
       "     p, where F is the distribution function.\n",
       "\n",
       "_\bV_\ba_\bl_\bu_\be:\n",
       "\n",
       "     'dbinom' gives the density, 'pbinom' gives the distribution\n",
       "     function, 'qbinom' gives the quantile function and 'rbinom'\n",
       "     generates random deviates.\n",
       "\n",
       "     If 'size' is not an integer, 'NaN' is returned.\n",
       "\n",
       "     The length of the result is determined by 'n' for 'rbinom', and is\n",
       "     the maximum of the lengths of the numerical arguments for the\n",
       "     other functions.\n",
       "\n",
       "     The numerical arguments other than 'n' are recycled to the length\n",
       "     of the result.  Only the first elements of the logical arguments\n",
       "     are used.\n",
       "\n",
       "_\bS_\bo_\bu_\br_\bc_\be:\n",
       "\n",
       "     For 'dbinom' a saddle-point expansion is used: see\n",
       "\n",
       "     Catherine Loader (2000). _Fast and Accurate Computation of\n",
       "     Binomial Probabilities_; available from <URL:\n",
       "     http://www.herine.net/stat/software/dbinom.html>.\n",
       "\n",
       "     'pbinom' uses 'pbeta'.\n",
       "\n",
       "     'qbinom' uses the Cornish-Fisher Expansion to include a skewness\n",
       "     correction to a normal approximation, followed by a search.\n",
       "\n",
       "     'rbinom' (for 'size < .Machine$integer.max') is based on\n",
       "\n",
       "     Kachitvichyanukul, V. and Schmeiser, B. W. (1988) Binomial random\n",
       "     variate generation.  _Communications of the ACM_, *31*, 216-222.\n",
       "\n",
       "     For larger values it uses inversion.\n",
       "\n",
       "_\bS_\be_\be _\bA_\bl_\bs_\bo:\n",
       "\n",
       "     Distributions for other standard distributions, including\n",
       "     'dnbinom' for the negative binomial, and 'dpois' for the Poisson\n",
       "     distribution.\n",
       "\n",
       "_\bE_\bx_\ba_\bm_\bp_\bl_\be_\bs:\n",
       "\n",
       "     require(graphics)\n",
       "     # Compute P(45 < X < 55) for X Binomial(100,0.5)\n",
       "     sum(dbinom(46:54, 100, 0.5))\n",
       "     \n",
       "     ## Using \"log = TRUE\" for an extended range :\n",
       "     n <- 2000\n",
       "     k <- seq(0, n, by = 20)\n",
       "     plot (k, dbinom(k, n, pi/10, log = TRUE), type = \"l\", ylab = \"log density\",\n",
       "           main = \"dbinom(*, log=TRUE) is better than  log(dbinom(*))\")\n",
       "     lines(k, log(dbinom(k, n, pi/10)), col = \"red\", lwd = 2)\n",
       "     ## extreme points are omitted since dbinom gives 0.\n",
       "     mtext(\"dbinom(k, log=TRUE)\", adj = 0)\n",
       "     mtext(\"extended range\", adj = 0, line = -1, font = 4)\n",
       "     mtext(\"log(dbinom(k))\", col = \"red\", adj = 1)\n",
       "     "
      ]
     },
     "metadata": {},
     "output_type": "display_data"
    }
   ],
   "source": [
    "?rbinom"
   ]
  },
  {
   "cell_type": "code",
   "execution_count": 78,
   "id": "e7b8e5e8-43c4-4529-9549-3f82efaa78ed",
   "metadata": {},
   "outputs": [
    {
     "data": {
      "text/html": [
       "<ol class=list-inline>\n",
       "\t<li>0</li>\n",
       "\t<li>1</li>\n",
       "\t<li>0</li>\n",
       "\t<li>1</li>\n",
       "\t<li>0</li>\n",
       "\t<li>0</li>\n",
       "\t<li>0</li>\n",
       "\t<li>0</li>\n",
       "\t<li>0</li>\n",
       "\t<li>1</li>\n",
       "</ol>\n"
      ],
      "text/latex": [
       "\\begin{enumerate*}\n",
       "\\item 0\n",
       "\\item 1\n",
       "\\item 0\n",
       "\\item 1\n",
       "\\item 0\n",
       "\\item 0\n",
       "\\item 0\n",
       "\\item 0\n",
       "\\item 0\n",
       "\\item 1\n",
       "\\end{enumerate*}\n"
      ],
      "text/markdown": [
       "1. 0\n",
       "2. 1\n",
       "3. 0\n",
       "4. 1\n",
       "5. 0\n",
       "6. 0\n",
       "7. 0\n",
       "8. 0\n",
       "9. 0\n",
       "10. 1\n",
       "\n",
       "\n"
      ],
      "text/plain": [
       " [1] 0 1 0 1 0 0 0 0 0 1"
      ]
     },
     "metadata": {},
     "output_type": "display_data"
    }
   ],
   "source": [
    "rbinom(10, 1, 0.5)"
   ]
  },
  {
   "cell_type": "code",
   "execution_count": 66,
   "id": "5f9c1ca0-eeda-4095-bacb-66bab1548e7a",
   "metadata": {},
   "outputs": [
    {
     "data": {
      "text/html": [
       "<ol class=list-inline>\n",
       "\t<li>'Won'</li>\n",
       "\t<li>'Lost'</li>\n",
       "\t<li>'Won'</li>\n",
       "\t<li>'Won'</li>\n",
       "\t<li>'Won'</li>\n",
       "\t<li>'Lost'</li>\n",
       "\t<li>'Lost'</li>\n",
       "\t<li>'Lost'</li>\n",
       "\t<li>'Lost'</li>\n",
       "\t<li>'Won'</li>\n",
       "</ol>\n"
      ],
      "text/latex": [
       "\\begin{enumerate*}\n",
       "\\item 'Won'\n",
       "\\item 'Lost'\n",
       "\\item 'Won'\n",
       "\\item 'Won'\n",
       "\\item 'Won'\n",
       "\\item 'Lost'\n",
       "\\item 'Lost'\n",
       "\\item 'Lost'\n",
       "\\item 'Lost'\n",
       "\\item 'Won'\n",
       "\\end{enumerate*}\n"
      ],
      "text/markdown": [
       "1. 'Won'\n",
       "2. 'Lost'\n",
       "3. 'Won'\n",
       "4. 'Won'\n",
       "5. 'Won'\n",
       "6. 'Lost'\n",
       "7. 'Lost'\n",
       "8. 'Lost'\n",
       "9. 'Lost'\n",
       "10. 'Won'\n",
       "\n",
       "\n"
      ],
      "text/plain": [
       " [1] \"Won\"  \"Lost\" \"Won\"  \"Won\"  \"Won\"  \"Lost\" \"Lost\" \"Lost\" \"Lost\" \"Won\" "
      ]
     },
     "metadata": {},
     "output_type": "display_data"
    }
   ],
   "source": [
    "result.vector <- ifelse(rbinom(10, 1, 0.5), \"Won\", \"Lost\")\n",
    "result.vector"
   ]
  },
  {
   "cell_type": "code",
   "execution_count": 86,
   "id": "062831a4-86b0-4e5e-b584-49a7df911b58",
   "metadata": {},
   "outputs": [],
   "source": [
    "girls_names <- c(\"Alice\", \"Emma\", \"Olivia\", \"Chloe\", \"Sophia\", \n",
    "                \"Amelia\", \"Isabella\", \"Mia\", \"Ava\", \"Charlotte\")\n",
    "boys_names <- c(\"Noah\", \"Liam\", \"Oliver\", \"James\", \"William\", \n",
    "                \"Benjamin\", \"Elijah\", \"Lucas\", \"Mason\", \"Ethan\")\n"
   ]
  },
  {
   "cell_type": "code",
   "execution_count": 98,
   "id": "d9351842-e41b-478c-af5c-213648b6d66b",
   "metadata": {},
   "outputs": [
    {
     "data": {
      "text/html": [
       "<ol class=list-inline>\n",
       "\t<li>0</li>\n",
       "\t<li>1</li>\n",
       "\t<li>1</li>\n",
       "\t<li>1</li>\n",
       "\t<li>0</li>\n",
       "\t<li>1</li>\n",
       "</ol>\n"
      ],
      "text/latex": [
       "\\begin{enumerate*}\n",
       "\\item 0\n",
       "\\item 1\n",
       "\\item 1\n",
       "\\item 1\n",
       "\\item 0\n",
       "\\item 1\n",
       "\\end{enumerate*}\n"
      ],
      "text/markdown": [
       "1. 0\n",
       "2. 1\n",
       "3. 1\n",
       "4. 1\n",
       "5. 0\n",
       "6. 1\n",
       "\n",
       "\n"
      ],
      "text/plain": [
       "[1] 0 1 1 1 0 1"
      ]
     },
     "metadata": {},
     "output_type": "display_data"
    }
   ],
   "source": [
    "result.choice <- rbinom(6, 1, 0.5)\n",
    "result.choice"
   ]
  },
  {
   "cell_type": "code",
   "execution_count": 100,
   "id": "201460d6-7690-4766-9c4e-4b8fa51f51fb",
   "metadata": {},
   "outputs": [
    {
     "data": {
      "text/html": [
       "<ol class=list-inline>\n",
       "\t<li>'Noah'</li>\n",
       "\t<li>'Emma'</li>\n",
       "\t<li>'Olivia'</li>\n",
       "\t<li>'Chloe'</li>\n",
       "\t<li>'William'</li>\n",
       "\t<li>'Amelia'</li>\n",
       "</ol>\n"
      ],
      "text/latex": [
       "\\begin{enumerate*}\n",
       "\\item 'Noah'\n",
       "\\item 'Emma'\n",
       "\\item 'Olivia'\n",
       "\\item 'Chloe'\n",
       "\\item 'William'\n",
       "\\item 'Amelia'\n",
       "\\end{enumerate*}\n"
      ],
      "text/markdown": [
       "1. 'Noah'\n",
       "2. 'Emma'\n",
       "3. 'Olivia'\n",
       "4. 'Chloe'\n",
       "5. 'William'\n",
       "6. 'Amelia'\n",
       "\n",
       "\n"
      ],
      "text/plain": [
       "[1] \"Noah\"    \"Emma\"    \"Olivia\"  \"Chloe\"   \"William\" \"Amelia\" "
      ]
     },
     "metadata": {},
     "output_type": "display_data"
    }
   ],
   "source": [
    "ifelse(result.choice, girls_names, boys_names)"
   ]
  },
  {
   "cell_type": "code",
   "execution_count": 106,
   "id": "6d035a21-6e16-46c4-9db1-aa7f7e4908da",
   "metadata": {},
   "outputs": [
    {
     "data": {
      "text/html": [
       "<table>\n",
       "<thead><tr><th scope=col>ids</th><th scope=col>names</th><th scope=col>grades</th></tr></thead>\n",
       "<tbody>\n",
       "\t<tr><td>1      </td><td>Alice  </td><td>9.0    </td></tr>\n",
       "\t<tr><td>2      </td><td>Bob    </td><td>3.5    </td></tr>\n",
       "\t<tr><td>3      </td><td>Charlie</td><td>9.2    </td></tr>\n",
       "\t<tr><td>4      </td><td>David  </td><td>2.8    </td></tr>\n",
       "\t<tr><td>5      </td><td>Eve    </td><td>8.8    </td></tr>\n",
       "</tbody>\n",
       "</table>\n"
      ],
      "text/latex": [
       "\\begin{tabular}{r|lll}\n",
       " ids & names & grades\\\\\n",
       "\\hline\n",
       "\t 1       & Alice   & 9.0    \\\\\n",
       "\t 2       & Bob     & 3.5    \\\\\n",
       "\t 3       & Charlie & 9.2    \\\\\n",
       "\t 4       & David   & 2.8    \\\\\n",
       "\t 5       & Eve     & 8.8    \\\\\n",
       "\\end{tabular}\n"
      ],
      "text/markdown": [
       "\n",
       "| ids | names | grades |\n",
       "|---|---|---|\n",
       "| 1       | Alice   | 9.0     |\n",
       "| 2       | Bob     | 3.5     |\n",
       "| 3       | Charlie | 9.2     |\n",
       "| 4       | David   | 2.8     |\n",
       "| 5       | Eve     | 8.8     |\n",
       "\n"
      ],
      "text/plain": [
       "  ids names   grades\n",
       "1 1   Alice   9.0   \n",
       "2 2   Bob     3.5   \n",
       "3 3   Charlie 9.2   \n",
       "4 4   David   2.8   \n",
       "5 5   Eve     8.8   "
      ]
     },
     "metadata": {},
     "output_type": "display_data"
    }
   ],
   "source": [
    "students <- data.frame(\n",
    "  ids = c(1, 2, 3, 4, 5), \n",
    "  names = c(\"Alice\", \"Bob\", \"Charlie\", \"David\", \"Eve\"), \n",
    "  grades = c(9.0, 3.5, 9.2, 2.8, 8.8)\n",
    ")\n",
    "students"
   ]
  },
  {
   "cell_type": "code",
   "execution_count": 110,
   "id": "14d697f3-5cf1-42a5-bd52-3ead5645f1ea",
   "metadata": {},
   "outputs": [
    {
     "data": {
      "text/html": [
       "<table>\n",
       "<thead><tr><th scope=col>ids</th><th scope=col>names</th><th scope=col>grades</th><th scope=col>honors</th></tr></thead>\n",
       "<tbody>\n",
       "\t<tr><td>1      </td><td>Alice  </td><td>9.0    </td><td>Honors </td></tr>\n",
       "\t<tr><td>2      </td><td>Bob    </td><td>3.5    </td><td>Pass   </td></tr>\n",
       "\t<tr><td>3      </td><td>Charlie</td><td>9.2    </td><td>Honors </td></tr>\n",
       "\t<tr><td>4      </td><td>David  </td><td>2.8    </td><td>Pass   </td></tr>\n",
       "\t<tr><td>5      </td><td>Eve    </td><td>8.8    </td><td>Honors </td></tr>\n",
       "</tbody>\n",
       "</table>\n"
      ],
      "text/latex": [
       "\\begin{tabular}{r|llll}\n",
       " ids & names & grades & honors\\\\\n",
       "\\hline\n",
       "\t 1       & Alice   & 9.0     & Honors \\\\\n",
       "\t 2       & Bob     & 3.5     & Pass   \\\\\n",
       "\t 3       & Charlie & 9.2     & Honors \\\\\n",
       "\t 4       & David   & 2.8     & Pass   \\\\\n",
       "\t 5       & Eve     & 8.8     & Honors \\\\\n",
       "\\end{tabular}\n"
      ],
      "text/markdown": [
       "\n",
       "| ids | names | grades | honors |\n",
       "|---|---|---|---|\n",
       "| 1       | Alice   | 9.0     | Honors  |\n",
       "| 2       | Bob     | 3.5     | Pass    |\n",
       "| 3       | Charlie | 9.2     | Honors  |\n",
       "| 4       | David   | 2.8     | Pass    |\n",
       "| 5       | Eve     | 8.8     | Honors  |\n",
       "\n"
      ],
      "text/plain": [
       "  ids names   grades honors\n",
       "1 1   Alice   9.0    Honors\n",
       "2 2   Bob     3.5    Pass  \n",
       "3 3   Charlie 9.2    Honors\n",
       "4 4   David   2.8    Pass  \n",
       "5 5   Eve     8.8    Honors"
      ]
     },
     "metadata": {},
     "output_type": "display_data"
    }
   ],
   "source": [
    "students$honors = ifelse(students$grades > 3.5, \"Honors\", \"Pass\")\n",
    "students"
   ]
  },
  {
   "cell_type": "code",
   "execution_count": 112,
   "id": "3b5edc3b-d3c4-47a6-bfb2-87ba49ea49f0",
   "metadata": {},
   "outputs": [
    {
     "name": "stderr",
     "output_type": "stream",
     "text": [
      "Grade A\n"
     ]
    }
   ],
   "source": [
    "score <- 96\n",
    "\n",
    "if (score > 90){\n",
    "    message('Grade A')\n",
    "} else if (score > 80) {\n",
    "    message('Grade B')\n",
    "} else {\n",
    "    message('Grade C')\n",
    "}"
   ]
  },
  {
   "cell_type": "code",
   "execution_count": 114,
   "id": "5b1fc358-461a-47d0-b0f3-1ed567a4a4e0",
   "metadata": {},
   "outputs": [
    {
     "data": {
      "text/html": [
       "'football'"
      ],
      "text/latex": [
       "'football'"
      ],
      "text/markdown": [
       "'football'"
      ],
      "text/plain": [
       "[1] \"football\""
      ]
     },
     "metadata": {},
     "output_type": "display_data"
    }
   ],
   "source": [
    "choice.result <- switch('a', a = 'football',\n",
    "                             b = 'cricket',\n",
    "                             c = 'baseball',\n",
    "                             d = 'hockey'\n",
    "                       )\n",
    "choice.result"
   ]
  },
  {
   "cell_type": "code",
   "execution_count": 118,
   "id": "83b4771b-b7a1-492d-9626-e1c51da97d21",
   "metadata": {},
   "outputs": [
    {
     "data": {
      "text/html": [
       "'baseball'"
      ],
      "text/latex": [
       "'baseball'"
      ],
      "text/markdown": [
       "'baseball'"
      ],
      "text/plain": [
       "[1] \"baseball\""
      ]
     },
     "metadata": {},
     "output_type": "display_data"
    }
   ],
   "source": [
    "x <- 'c'\n",
    "\n",
    "choice.result <- switch(x, a = 'football',\n",
    "                           b = 'cricket',\n",
    "                           c = 'baseball',\n",
    "                           d = 'hockey'\n",
    "                       )\n",
    "choice.result"
   ]
  },
  {
   "cell_type": "code",
   "execution_count": 120,
   "id": "d482179b-8f75-4713-ab5f-ebeb1dfa5a89",
   "metadata": {},
   "outputs": [
    {
     "data": {
      "text/plain": [
       "NULL"
      ]
     },
     "metadata": {},
     "output_type": "display_data"
    }
   ],
   "source": [
    "x <- 'E'\n",
    "\n",
    "choice.result <- switch(x, a = 'football',\n",
    "                           b = 'cricket',\n",
    "                           c = 'baseball',\n",
    "                           d = 'hockey'\n",
    "                       )\n",
    "choice.result"
   ]
  },
  {
   "cell_type": "code",
   "execution_count": 122,
   "id": "8e8aa043-72fe-4645-8528-8c65cf2e27e3",
   "metadata": {},
   "outputs": [
    {
     "data": {
      "text/html": [
       "'No Sports'"
      ],
      "text/latex": [
       "'No Sports'"
      ],
      "text/markdown": [
       "'No Sports'"
      ],
      "text/plain": [
       "[1] \"No Sports\""
      ]
     },
     "metadata": {},
     "output_type": "display_data"
    }
   ],
   "source": [
    "x <- 'E'\n",
    "\n",
    "choice.result <- switch(x, a = 'football',\n",
    "                           b = 'cricket',\n",
    "                           c = 'baseball',\n",
    "                           d = 'hockey',\n",
    "                           'No Sports'\n",
    "                       )\n",
    "choice.result"
   ]
  },
  {
   "cell_type": "code",
   "execution_count": 130,
   "id": "41977bb6-c53e-4909-9fdc-3a69f571eb70",
   "metadata": {},
   "outputs": [
    {
     "data": {
      "text/html": [
       "11500"
      ],
      "text/latex": [
       "11500"
      ],
      "text/markdown": [
       "11500"
      ],
      "text/plain": [
       "[1] 11500"
      ]
     },
     "metadata": {},
     "output_type": "display_data"
    }
   ],
   "source": [
    "salary <- 10000\n",
    "performance <- 4\n",
    "\n",
    "updated.salary <- switch(performance,\n",
    "                            '1' = {salary * 1},\n",
    "                            '2' = {salary * 1.05},\n",
    "                            '3' = {salary * 1.10},\n",
    "                            '4' = {salary * 1.15},\n",
    "                            '5' = {salary * 1.2}\n",
    "                        )\n",
    "updated.salary"
   ]
  }
 ],
 "metadata": {
  "kernelspec": {
   "display_name": "R",
   "language": "R",
   "name": "ir"
  },
  "language_info": {
   "codemirror_mode": "r",
   "file_extension": ".r",
   "mimetype": "text/x-r-source",
   "name": "R",
   "pygments_lexer": "r",
   "version": "3.6.1"
  }
 },
 "nbformat": 4,
 "nbformat_minor": 5
}
