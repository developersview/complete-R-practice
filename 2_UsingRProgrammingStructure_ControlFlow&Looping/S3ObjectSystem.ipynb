{
 "cells": [
  {
   "cell_type": "code",
   "execution_count": 1,
   "id": "6d94cdbe-5854-469c-92b7-3ef1419e70e3",
   "metadata": {},
   "outputs": [
    {
     "data": {
      "text/html": [
       "<time datetime=\"2025-01-30\">2025-01-30</time>"
      ],
      "text/latex": [
       "2025-01-30"
      ],
      "text/markdown": [
       "2025-01-30"
      ],
      "text/plain": [
       "[1] \"2025-01-30\""
      ]
     },
     "metadata": {},
     "output_type": "display_data"
    }
   ],
   "source": [
    "date <- Sys.Date()\n",
    "date"
   ]
  },
  {
   "cell_type": "code",
   "execution_count": 3,
   "id": "6d359fab-6a61-48af-af8a-7a9d1296ab08",
   "metadata": {},
   "outputs": [
    {
     "data": {
      "text/html": [
       "'Date'"
      ],
      "text/latex": [
       "'Date'"
      ],
      "text/markdown": [
       "'Date'"
      ],
      "text/plain": [
       "[1] \"Date\""
      ]
     },
     "metadata": {},
     "output_type": "display_data"
    }
   ],
   "source": [
    "class(date)"
   ]
  },
  {
   "cell_type": "code",
   "execution_count": 5,
   "id": "11beedf4-f978-428f-b78c-e3840d8fda78",
   "metadata": {},
   "outputs": [
    {
     "data": {
      "text/html": [
       "<table>\n",
       "<thead><tr><th scope=col>names</th><th scope=col>ages</th></tr></thead>\n",
       "<tbody>\n",
       "\t<tr><td>Zara   </td><td>23     </td></tr>\n",
       "\t<tr><td>Yasmina</td><td>24     </td></tr>\n",
       "\t<tr><td>Xerces </td><td>25     </td></tr>\n",
       "</tbody>\n",
       "</table>\n"
      ],
      "text/latex": [
       "\\begin{tabular}{r|ll}\n",
       " names & ages\\\\\n",
       "\\hline\n",
       "\t Zara    & 23     \\\\\n",
       "\t Yasmina & 24     \\\\\n",
       "\t Xerces  & 25     \\\\\n",
       "\\end{tabular}\n"
      ],
      "text/markdown": [
       "\n",
       "| names | ages |\n",
       "|---|---|\n",
       "| Zara    | 23      |\n",
       "| Yasmina | 24      |\n",
       "| Xerces  | 25      |\n",
       "\n"
      ],
      "text/plain": [
       "  names   ages\n",
       "1 Zara    23  \n",
       "2 Yasmina 24  \n",
       "3 Xerces  25  "
      ]
     },
     "metadata": {},
     "output_type": "display_data"
    }
   ],
   "source": [
    "df <- data.frame(names=c(\"Zara\", \"Yasmina\", \"Xerces\"), ages=c(23, 24, 25))\n",
    "df"
   ]
  },
  {
   "cell_type": "code",
   "execution_count": 7,
   "id": "2191d94e-6c23-49fd-aa71-327fbc8a5d1c",
   "metadata": {},
   "outputs": [
    {
     "data": {
      "text/html": [
       "'data.frame'"
      ],
      "text/latex": [
       "'data.frame'"
      ],
      "text/markdown": [
       "'data.frame'"
      ],
      "text/plain": [
       "[1] \"data.frame\""
      ]
     },
     "metadata": {},
     "output_type": "display_data"
    }
   ],
   "source": [
    "class(df)"
   ]
  },
  {
   "cell_type": "code",
   "execution_count": 9,
   "id": "f3f2a522-4ad6-4d44-add1-51ba41cde763",
   "metadata": {},
   "outputs": [
    {
     "data": {
      "text/html": [
       "<ol class=list-inline>\n",
       "\t<li>'dog'</li>\n",
       "\t<li>'cat'</li>\n",
       "\t<li>'lion'</li>\n",
       "\t<li>'deer'</li>\n",
       "\t<li>'elephant'</li>\n",
       "</ol>\n"
      ],
      "text/latex": [
       "\\begin{enumerate*}\n",
       "\\item 'dog'\n",
       "\\item 'cat'\n",
       "\\item 'lion'\n",
       "\\item 'deer'\n",
       "\\item 'elephant'\n",
       "\\end{enumerate*}\n"
      ],
      "text/markdown": [
       "1. 'dog'\n",
       "2. 'cat'\n",
       "3. 'lion'\n",
       "4. 'deer'\n",
       "5. 'elephant'\n",
       "\n",
       "\n"
      ],
      "text/plain": [
       "[1] \"dog\"      \"cat\"      \"lion\"     \"deer\"     \"elephant\""
      ]
     },
     "metadata": {},
     "output_type": "display_data"
    }
   ],
   "source": [
    "animals <- c('dog', 'cat', 'lion', 'deer', 'elephant')\n",
    "animals"
   ]
  },
  {
   "cell_type": "code",
   "execution_count": 11,
   "id": "b513ddff-846d-4a23-b0be-1c499603ff96",
   "metadata": {},
   "outputs": [
    {
     "data": {
      "text/html": [
       "'character'"
      ],
      "text/latex": [
       "'character'"
      ],
      "text/markdown": [
       "'character'"
      ],
      "text/plain": [
       "[1] \"character\""
      ]
     },
     "metadata": {},
     "output_type": "display_data"
    }
   ],
   "source": [
    "class(animals)"
   ]
  },
  {
   "cell_type": "code",
   "execution_count": 13,
   "id": "9b585b0c-6494-4c8d-904a-55a12ccd5e8f",
   "metadata": {},
   "outputs": [
    {
     "data": {
      "text/html": [
       "<ol class=list-inline>\n",
       "\t<li>10</li>\n",
       "\t<li>20</li>\n",
       "\t<li>30</li>\n",
       "\t<li>40</li>\n",
       "</ol>\n"
      ],
      "text/latex": [
       "\\begin{enumerate*}\n",
       "\\item 10\n",
       "\\item 20\n",
       "\\item 30\n",
       "\\item 40\n",
       "\\end{enumerate*}\n"
      ],
      "text/markdown": [
       "1. 10\n",
       "2. 20\n",
       "3. 30\n",
       "4. 40\n",
       "\n",
       "\n"
      ],
      "text/plain": [
       "[1] 10 20 30 40"
      ]
     },
     "metadata": {},
     "output_type": "display_data"
    }
   ],
   "source": [
    "numbers <- c(10,20,30,40)\n",
    "numbers"
   ]
  },
  {
   "cell_type": "code",
   "execution_count": 15,
   "id": "5932fa26-72fc-4dec-9483-3e611087ff7a",
   "metadata": {},
   "outputs": [
    {
     "data": {
      "text/html": [
       "'numeric'"
      ],
      "text/latex": [
       "'numeric'"
      ],
      "text/markdown": [
       "'numeric'"
      ],
      "text/plain": [
       "[1] \"numeric\""
      ]
     },
     "metadata": {},
     "output_type": "display_data"
    }
   ],
   "source": [
    "class(numbers)"
   ]
  },
  {
   "cell_type": "code",
   "execution_count": 17,
   "id": "e3a4f4a9-4b2c-4a22-a615-ebbd4c5d05f7",
   "metadata": {},
   "outputs": [
    {
     "name": "stdout",
     "output_type": "stream",
     "text": [
      "[1] \"2025-01-30\"\n"
     ]
    }
   ],
   "source": [
    "print(date)"
   ]
  },
  {
   "cell_type": "code",
   "execution_count": 19,
   "id": "a6eec189-0762-46d5-8201-ba7a4d0d8bf4",
   "metadata": {},
   "outputs": [
    {
     "name": "stdout",
     "output_type": "stream",
     "text": [
      "    names ages\n",
      "1    Zara   23\n",
      "2 Yasmina   24\n",
      "3  Xerces   25\n"
     ]
    }
   ],
   "source": [
    "print(df)"
   ]
  },
  {
   "cell_type": "code",
   "execution_count": 21,
   "id": "5308a97a-b0ac-47c8-8075-183b0b03f4c3",
   "metadata": {},
   "outputs": [
    {
     "name": "stdout",
     "output_type": "stream",
     "text": [
      "[1] \"dog\"      \"cat\"      \"lion\"     \"deer\"     \"elephant\"\n"
     ]
    }
   ],
   "source": [
    "print(animals)"
   ]
  },
  {
   "cell_type": "code",
   "execution_count": 23,
   "id": "ffeb2a5e-4b1b-42a9-b999-f1cedd11cbf8",
   "metadata": {},
   "outputs": [
    {
     "name": "stdout",
     "output_type": "stream",
     "text": [
      "[1] 10 20 30 40\n"
     ]
    }
   ],
   "source": [
    "print(numbers)"
   ]
  },
  {
   "cell_type": "code",
   "execution_count": 37,
   "id": "f1607b6c-a1aa-40cc-9d3b-8ab41e2d2a01",
   "metadata": {},
   "outputs": [
    {
     "data": {
      "text/html": [
       "<pre class=language-r><code>function (x, ...) \n",
       "UseMethod(\"print\")</code></pre>"
      ],
      "text/latex": [
       "\\begin{minted}{r}\n",
       "function (x, ...) \n",
       "UseMethod(\"print\")\n",
       "\\end{minted}"
      ],
      "text/markdown": [
       "```r\n",
       "function (x, ...) \n",
       "UseMethod(\"print\")\n",
       "```"
      ],
      "text/plain": [
       "function (x, ...) \n",
       "UseMethod(\"print\")\n",
       "<bytecode: 0x000000006093fb20>\n",
       "<environment: namespace:base>"
      ]
     },
     "metadata": {},
     "output_type": "display_data"
    }
   ],
   "source": [
    "print"
   ]
  },
  {
   "cell_type": "code",
   "execution_count": 39,
   "id": "601e635f-772e-4ab4-9a90-7cb1cd646e9c",
   "metadata": {},
   "outputs": [
    {
     "data": {
      "text/plain": [
       "  [1] print.acf*                                          \n",
       "  [2] print.AES*                                          \n",
       "  [3] print.anova*                                        \n",
       "  [4] print.aov*                                          \n",
       "  [5] print.aovlist*                                      \n",
       "  [6] print.ar*                                           \n",
       "  [7] print.Arima*                                        \n",
       "  [8] print.arima0*                                       \n",
       "  [9] print.AsIs                                          \n",
       " [10] print.aspell*                                       \n",
       " [11] print.aspell_inspect_context*                       \n",
       " [12] print.bibentry*                                     \n",
       " [13] print.Bibtex*                                       \n",
       " [14] print.browseVignettes*                              \n",
       " [15] print.by                                            \n",
       " [16] print.bytes*                                        \n",
       " [17] print.changedFiles*                                 \n",
       " [18] print.check_code_usage_in_package*                  \n",
       " [19] print.check_compiled_code*                          \n",
       " [20] print.check_demo_index*                             \n",
       " [21] print.check_depdef*                                 \n",
       " [22] print.check_details*                                \n",
       " [23] print.check_details_changes*                        \n",
       " [24] print.check_doi_db*                                 \n",
       " [25] print.check_dotInternal*                            \n",
       " [26] print.check_make_vars*                              \n",
       " [27] print.check_nonAPI_calls*                           \n",
       " [28] print.check_package_code_assign_to_globalenv*       \n",
       " [29] print.check_package_code_attach*                    \n",
       " [30] print.check_package_code_data_into_globalenv*       \n",
       " [31] print.check_package_code_startup_functions*         \n",
       " [32] print.check_package_code_syntax*                    \n",
       " [33] print.check_package_code_unload_functions*          \n",
       " [34] print.check_package_compact_datasets*               \n",
       " [35] print.check_package_CRAN_incoming*                  \n",
       " [36] print.check_package_datasets*                       \n",
       " [37] print.check_package_depends*                        \n",
       " [38] print.check_package_description*                    \n",
       " [39] print.check_package_description_encoding*           \n",
       " [40] print.check_package_license*                        \n",
       " [41] print.check_packages_in_dir*                        \n",
       " [42] print.check_packages_used*                          \n",
       " [43] print.check_po_files*                               \n",
       " [44] print.check_pragmas*                                \n",
       " [45] print.check_Rd_contents*                            \n",
       " [46] print.check_Rd_line_widths*                         \n",
       " [47] print.check_Rd_metadata*                            \n",
       " [48] print.check_Rd_xrefs*                               \n",
       " [49] print.check_RegSym_calls*                           \n",
       " [50] print.check_S3_methods_needing_delayed_registration*\n",
       " [51] print.check_so_symbols*                             \n",
       " [52] print.check_T_and_F*                                \n",
       " [53] print.check_url_db*                                 \n",
       " [54] print.check_vignette_index*                         \n",
       " [55] print.checkDocFiles*                                \n",
       " [56] print.checkDocStyle*                                \n",
       " [57] print.checkFF*                                      \n",
       " [58] print.checkRd*                                      \n",
       " [59] print.checkReplaceFuns*                             \n",
       " [60] print.checkS3methods*                               \n",
       " [61] print.checkTnF*                                     \n",
       " [62] print.checkVignettes*                               \n",
       " [63] print.citation*                                     \n",
       " [64] print.codoc*                                        \n",
       " [65] print.codocClasses*                                 \n",
       " [66] print.codocData*                                    \n",
       " [67] print.colorConverter*                               \n",
       " [68] print.compactPDF*                                   \n",
       " [69] print.condition                                     \n",
       " [70] print.connection                                    \n",
       " [71] print.CRAN_package_reverse_dependencies_and_views*  \n",
       " [72] print.crayon*                                       \n",
       " [73] print.data.frame                                    \n",
       " [74] print.Date                                          \n",
       " [75] print.default                                       \n",
       " [76] print.dendrogram*                                   \n",
       " [77] print.density*                                      \n",
       " [78] print.difftime                                      \n",
       " [79] print.dist*                                         \n",
       " [80] print.Dlist                                         \n",
       " [81] print.DLLInfo                                       \n",
       " [82] print.DLLInfoList                                   \n",
       " [83] print.DLLRegisteredRoutines                         \n",
       " [84] print.dummy_coef*                                   \n",
       " [85] print.dummy_coef_list*                              \n",
       " [86] print.ecdf*                                         \n",
       " [87] print.eigen                                         \n",
       " [88] print.factanal*                                     \n",
       " [89] print.factor                                        \n",
       " [90] print.family*                                       \n",
       " [91] print.fileSnapshot*                                 \n",
       " [92] print.findLineNumResult*                            \n",
       " [93] print.formula*                                      \n",
       " [94] print.ftable*                                       \n",
       " [95] print.function                                      \n",
       " [96] print.getAnywhere*                                  \n",
       " [97] print.glm*                                          \n",
       " [98] print.hclust*                                       \n",
       " [99] print.help_files_with_topic*                        \n",
       "[100] print.hexmode                                       \n",
       "[101] print.HoltWinters*                                  \n",
       "[102] print.hsearch*                                      \n",
       "[103] print.hsearch_db*                                   \n",
       "[104] print.htest*                                        \n",
       "[105] print.html*                                         \n",
       "[106] print.html_dependency*                              \n",
       "[107] print.infl*                                         \n",
       "[108] print.integrate*                                    \n",
       "[109] print.isoreg*                                       \n",
       "[110] print.json*                                         \n",
       "[111] print.kmeans*                                       \n",
       "[112] print.Latex*                                        \n",
       "[113] print.LaTeX*                                        \n",
       "[114] print.libraryIQR                                    \n",
       "[115] print.listof                                        \n",
       "[116] print.lm*                                           \n",
       "[117] print.loadings*                                     \n",
       "[118] print.loess*                                        \n",
       "[119] print.logLik*                                       \n",
       "[120] print.ls_str*                                       \n",
       "[121] print.medpolish*                                    \n",
       "[122] print.MethodsFunction*                              \n",
       "[123] print.mtable*                                       \n",
       "[124] print.NativeRoutineList                             \n",
       "[125] print.news_db*                                      \n",
       "[126] print.nls*                                          \n",
       "[127] print.noquote                                       \n",
       "[128] print.numeric_version                               \n",
       "[129] print.object_size*                                  \n",
       "[130] print.octmode                                       \n",
       "[131] print.packageDescription*                           \n",
       "[132] print.packageInfo                                   \n",
       "[133] print.packageIQR*                                   \n",
       "[134] print.packageStatus*                                \n",
       "[135] print.pairwise.htest*                               \n",
       "[136] print.person*                                       \n",
       "[137] print.POSIXct                                       \n",
       "[138] print.POSIXlt                                       \n",
       "[139] print.power.htest*                                  \n",
       "[140] print.ppr*                                          \n",
       "[141] print.prcomp*                                       \n",
       "[142] print.princomp*                                     \n",
       "[143] print.proc_time                                     \n",
       "[144] print.raster*                                       \n",
       "[145] print.Rcpp_stack_trace*                             \n",
       "[146] print.Rd*                                           \n",
       "[147] print.recordedplot*                                 \n",
       "[148] print.restart                                       \n",
       "[149] print.RGBcolorConverter*                            \n",
       "[150] print.rle                                           \n",
       "[151] print.roman*                                        \n",
       "[152] print.SavedPlots*                                   \n",
       "[153] print.scalar*                                       \n",
       "[154] print.sessionInfo*                                  \n",
       "[155] print.shiny.tag*                                    \n",
       "[156] print.shiny.tag.list*                               \n",
       "[157] print.simple.list                                   \n",
       "[158] print.smooth.spline*                                \n",
       "[159] print.socket*                                       \n",
       "[160] print.srcfile                                       \n",
       "[161] print.srcref                                        \n",
       "[162] print.stepfun*                                      \n",
       "[163] print.stl*                                          \n",
       "[164] print.StructTS*                                     \n",
       "[165] print.subdir_tests*                                 \n",
       "[166] print.summarize_CRAN_check_status*                  \n",
       "[167] print.summary.aov*                                  \n",
       "[168] print.summary.aovlist*                              \n",
       "[169] print.summary.ecdf*                                 \n",
       "[170] print.summary.glm*                                  \n",
       "[171] print.summary.lm*                                   \n",
       "[172] print.summary.loess*                                \n",
       "[173] print.summary.manova*                               \n",
       "[174] print.summary.nls*                                  \n",
       "[175] print.summary.packageStatus*                        \n",
       "[176] print.summary.ppr*                                  \n",
       "[177] print.summary.prcomp*                               \n",
       "[178] print.summary.princomp*                             \n",
       "[179] print.summary.table                                 \n",
       "[180] print.summary.warnings                              \n",
       "[181] print.summaryDefault                                \n",
       "[182] print.table                                         \n",
       "[183] print.tables_aov*                                   \n",
       "[184] print.terms*                                        \n",
       "[185] print.ts*                                           \n",
       "[186] print.tskernel*                                     \n",
       "[187] print.TukeyHSD*                                     \n",
       "[188] print.tukeyline*                                    \n",
       "[189] print.tukeysmooth*                                  \n",
       "[190] print.undoc*                                        \n",
       "[191] print.vignette                                      \n",
       "[192] print.warnings                                      \n",
       "[193] print.xgettext*                                     \n",
       "[194] print.xngettext*                                    \n",
       "[195] print.xtabs*                                        \n",
       "see '?methods' for accessing help and source code"
      ]
     },
     "metadata": {},
     "output_type": "display_data"
    }
   ],
   "source": [
    "methods(print)"
   ]
  },
  {
   "cell_type": "code",
   "execution_count": 41,
   "id": "c86f957c-8598-4d04-9f4c-90d046d3a5f7",
   "metadata": {},
   "outputs": [
    {
     "data": {
      "text/html": [
       "<pre class=language-r><code>function (x, max = NULL, ...) \n",
       "{\n",
       "<span style=white-space:pre-wrap>    if (is.null(max)) </span>\n",
       "<span style=white-space:pre-wrap>        max &lt;- getOption(\"max.print\", 9999L)</span>\n",
       "<span style=white-space:pre-wrap>    if (max &lt; length(x)) {</span>\n",
       "<span style=white-space:pre-wrap>        print(format(x[seq_len(max)]), max = max + 1, ...)</span>\n",
       "<span style=white-space:pre-wrap>        cat(\" [ reached 'max' / getOption(\\\"max.print\\\") -- omitted\", </span>\n",
       "<span style=white-space:pre-wrap>            length(x) - max, \"entries ]\\n\")</span>\n",
       "<span style=white-space:pre-wrap>    }</span>\n",
       "<span style=white-space:pre-wrap>    else if (length(x)) </span>\n",
       "<span style=white-space:pre-wrap>        print(format(x), max = max, ...)</span>\n",
       "<span style=white-space:pre-wrap>    else cat(class(x)[1L], \"of length 0\\n\")</span>\n",
       "<span style=white-space:pre-wrap>    invisible(x)</span>\n",
       "}</code></pre>"
      ],
      "text/latex": [
       "\\begin{minted}{r}\n",
       "function (x, max = NULL, ...) \n",
       "\\{\n",
       "    if (is.null(max)) \n",
       "        max <- getOption(\"max.print\", 9999L)\n",
       "    if (max < length(x)) \\{\n",
       "        print(format(x{[}seq\\_len(max){]}), max = max + 1, ...)\n",
       "        cat(\" {[} reached 'max' / getOption(\\textbackslash{}\"max.print\\textbackslash{}\") -- omitted\", \n",
       "            length(x) - max, \"entries {]}\\textbackslash{}n\")\n",
       "    \\}\n",
       "    else if (length(x)) \n",
       "        print(format(x), max = max, ...)\n",
       "    else cat(class(x){[}1L{]}, \"of length 0\\textbackslash{}n\")\n",
       "    invisible(x)\n",
       "\\}\n",
       "\\end{minted}"
      ],
      "text/markdown": [
       "```r\n",
       "function (x, max = NULL, ...) \n",
       "{\n",
       "    if (is.null(max)) \n",
       "        max <- getOption(\"max.print\", 9999L)\n",
       "    if (max < length(x)) {\n",
       "        print(format(x[seq_len(max)]), max = max + 1, ...)\n",
       "        cat(\" [ reached 'max' / getOption(\\\"max.print\\\") -- omitted\", \n",
       "            length(x) - max, \"entries ]\\n\")\n",
       "    }\n",
       "    else if (length(x)) \n",
       "        print(format(x), max = max, ...)\n",
       "    else cat(class(x)[1L], \"of length 0\\n\")\n",
       "    invisible(x)\n",
       "}\n",
       "```"
      ],
      "text/plain": [
       "function (x, max = NULL, ...) \n",
       "{\n",
       "    if (is.null(max)) \n",
       "        max <- getOption(\"max.print\", 9999L)\n",
       "    if (max < length(x)) {\n",
       "        print(format(x[seq_len(max)]), max = max + 1, ...)\n",
       "        cat(\" [ reached 'max' / getOption(\\\"max.print\\\") -- omitted\", \n",
       "            length(x) - max, \"entries ]\\n\")\n",
       "    }\n",
       "    else if (length(x)) \n",
       "        print(format(x), max = max, ...)\n",
       "    else cat(class(x)[1L], \"of length 0\\n\")\n",
       "    invisible(x)\n",
       "}\n",
       "<bytecode: 0x0000000060940cd8>\n",
       "<environment: namespace:base>"
      ]
     },
     "metadata": {},
     "output_type": "display_data"
    }
   ],
   "source": [
    "print.Date"
   ]
  },
  {
   "cell_type": "code",
   "execution_count": 43,
   "id": "1274410e-744b-403c-ad48-50d09d999640",
   "metadata": {},
   "outputs": [
    {
     "data": {
      "text/html": [
       "<pre class=language-r><code>function (x, ..., digits = NULL, quote = FALSE, right = TRUE, \n",
       "<span style=white-space:pre-wrap>    row.names = TRUE, max = NULL) </span>\n",
       "{\n",
       "<span style=white-space:pre-wrap>    n &lt;- length(row.names(x))</span>\n",
       "<span style=white-space:pre-wrap>    if (length(x) == 0L) {</span>\n",
       "<span style=white-space:pre-wrap>        cat(sprintf(ngettext(n, \"data frame with 0 columns and %d row\", </span>\n",
       "<span style=white-space:pre-wrap>            \"data frame with 0 columns and %d rows\"), n), \"\\n\", </span>\n",
       "<span style=white-space:pre-wrap>            sep = \"\")</span>\n",
       "<span style=white-space:pre-wrap>    }</span>\n",
       "<span style=white-space:pre-wrap>    else if (n == 0L) {</span>\n",
       "<span style=white-space:pre-wrap>        print.default(names(x), quote = FALSE)</span>\n",
       "<span style=white-space:pre-wrap>        cat(gettext(\"&lt;0 rows&gt; (or 0-length row.names)\\n\"))</span>\n",
       "<span style=white-space:pre-wrap>    }</span>\n",
       "<span style=white-space:pre-wrap>    else {</span>\n",
       "<span style=white-space:pre-wrap>        if (is.null(max)) </span>\n",
       "<span style=white-space:pre-wrap>            max &lt;- getOption(\"max.print\", 99999L)</span>\n",
       "<span style=white-space:pre-wrap>        if (!is.finite(max)) </span>\n",
       "<span style=white-space:pre-wrap>            stop(\"invalid 'max' / getOption(\\\"max.print\\\"): \", </span>\n",
       "<span style=white-space:pre-wrap>                max)</span>\n",
       "<span style=white-space:pre-wrap>        omit &lt;- (n0 &lt;- max%/%length(x)) &lt; n</span>\n",
       "<span style=white-space:pre-wrap>        m &lt;- as.matrix(format.data.frame(if (omit) </span>\n",
       "<span style=white-space:pre-wrap>            x[seq_len(n0), , drop = FALSE]</span>\n",
       "<span style=white-space:pre-wrap>        else x, digits = digits, na.encode = FALSE))</span>\n",
       "<span style=white-space:pre-wrap>        if (!isTRUE(row.names)) </span>\n",
       "<span style=white-space:pre-wrap>            dimnames(m)[[1L]] &lt;- if (isFALSE(row.names)) </span>\n",
       "<span style=white-space:pre-wrap>                rep.int(\"\", if (omit) </span>\n",
       "<span style=white-space:pre-wrap>                  n0</span>\n",
       "<span style=white-space:pre-wrap>                else n)</span>\n",
       "<span style=white-space:pre-wrap>            else row.names</span>\n",
       "<span style=white-space:pre-wrap>        print(m, ..., quote = quote, right = right, max = max)</span>\n",
       "<span style=white-space:pre-wrap>        if (omit) </span>\n",
       "<span style=white-space:pre-wrap>            cat(\" [ reached 'max' / getOption(\\\"max.print\\\") -- omitted\", </span>\n",
       "<span style=white-space:pre-wrap>                n - n0, \"rows ]\\n\")</span>\n",
       "<span style=white-space:pre-wrap>    }</span>\n",
       "<span style=white-space:pre-wrap>    invisible(x)</span>\n",
       "}</code></pre>"
      ],
      "text/latex": [
       "\\begin{minted}{r}\n",
       "function (x, ..., digits = NULL, quote = FALSE, right = TRUE, \n",
       "    row.names = TRUE, max = NULL) \n",
       "\\{\n",
       "    n <- length(row.names(x))\n",
       "    if (length(x) == 0L) \\{\n",
       "        cat(sprintf(ngettext(n, \"data frame with 0 columns and \\%d row\", \n",
       "            \"data frame with 0 columns and \\%d rows\"), n), \"\\textbackslash{}n\", \n",
       "            sep = \"\")\n",
       "    \\}\n",
       "    else if (n == 0L) \\{\n",
       "        print.default(names(x), quote = FALSE)\n",
       "        cat(gettext(\"<0 rows> (or 0-length row.names)\\textbackslash{}n\"))\n",
       "    \\}\n",
       "    else \\{\n",
       "        if (is.null(max)) \n",
       "            max <- getOption(\"max.print\", 99999L)\n",
       "        if (!is.finite(max)) \n",
       "            stop(\"invalid 'max' / getOption(\\textbackslash{}\"max.print\\textbackslash{}\"): \", \n",
       "                max)\n",
       "        omit <- (n0 <- max\\%/\\%length(x)) < n\n",
       "        m <- as.matrix(format.data.frame(if (omit) \n",
       "            x{[}seq\\_len(n0), , drop = FALSE{]}\n",
       "        else x, digits = digits, na.encode = FALSE))\n",
       "        if (!isTRUE(row.names)) \n",
       "            dimnames(m){[}{[}1L{]}{]} <- if (isFALSE(row.names)) \n",
       "                rep.int(\"\", if (omit) \n",
       "                  n0\n",
       "                else n)\n",
       "            else row.names\n",
       "        print(m, ..., quote = quote, right = right, max = max)\n",
       "        if (omit) \n",
       "            cat(\" {[} reached 'max' / getOption(\\textbackslash{}\"max.print\\textbackslash{}\") -- omitted\", \n",
       "                n - n0, \"rows {]}\\textbackslash{}n\")\n",
       "    \\}\n",
       "    invisible(x)\n",
       "\\}\n",
       "\\end{minted}"
      ],
      "text/markdown": [
       "```r\n",
       "function (x, ..., digits = NULL, quote = FALSE, right = TRUE, \n",
       "    row.names = TRUE, max = NULL) \n",
       "{\n",
       "    n <- length(row.names(x))\n",
       "    if (length(x) == 0L) {\n",
       "        cat(sprintf(ngettext(n, \"data frame with 0 columns and %d row\", \n",
       "            \"data frame with 0 columns and %d rows\"), n), \"\\n\", \n",
       "            sep = \"\")\n",
       "    }\n",
       "    else if (n == 0L) {\n",
       "        print.default(names(x), quote = FALSE)\n",
       "        cat(gettext(\"<0 rows> (or 0-length row.names)\\n\"))\n",
       "    }\n",
       "    else {\n",
       "        if (is.null(max)) \n",
       "            max <- getOption(\"max.print\", 99999L)\n",
       "        if (!is.finite(max)) \n",
       "            stop(\"invalid 'max' / getOption(\\\"max.print\\\"): \", \n",
       "                max)\n",
       "        omit <- (n0 <- max%/%length(x)) < n\n",
       "        m <- as.matrix(format.data.frame(if (omit) \n",
       "            x[seq_len(n0), , drop = FALSE]\n",
       "        else x, digits = digits, na.encode = FALSE))\n",
       "        if (!isTRUE(row.names)) \n",
       "            dimnames(m)[[1L]] <- if (isFALSE(row.names)) \n",
       "                rep.int(\"\", if (omit) \n",
       "                  n0\n",
       "                else n)\n",
       "            else row.names\n",
       "        print(m, ..., quote = quote, right = right, max = max)\n",
       "        if (omit) \n",
       "            cat(\" [ reached 'max' / getOption(\\\"max.print\\\") -- omitted\", \n",
       "                n - n0, \"rows ]\\n\")\n",
       "    }\n",
       "    invisible(x)\n",
       "}\n",
       "```"
      ],
      "text/plain": [
       "function (x, ..., digits = NULL, quote = FALSE, right = TRUE, \n",
       "    row.names = TRUE, max = NULL) \n",
       "{\n",
       "    n <- length(row.names(x))\n",
       "    if (length(x) == 0L) {\n",
       "        cat(sprintf(ngettext(n, \"data frame with 0 columns and %d row\", \n",
       "            \"data frame with 0 columns and %d rows\"), n), \"\\n\", \n",
       "            sep = \"\")\n",
       "    }\n",
       "    else if (n == 0L) {\n",
       "        print.default(names(x), quote = FALSE)\n",
       "        cat(gettext(\"<0 rows> (or 0-length row.names)\\n\"))\n",
       "    }\n",
       "    else {\n",
       "        if (is.null(max)) \n",
       "            max <- getOption(\"max.print\", 99999L)\n",
       "        if (!is.finite(max)) \n",
       "            stop(\"invalid 'max' / getOption(\\\"max.print\\\"): \", \n",
       "                max)\n",
       "        omit <- (n0 <- max%/%length(x)) < n\n",
       "        m <- as.matrix(format.data.frame(if (omit) \n",
       "            x[seq_len(n0), , drop = FALSE]\n",
       "        else x, digits = digits, na.encode = FALSE))\n",
       "        if (!isTRUE(row.names)) \n",
       "            dimnames(m)[[1L]] <- if (isFALSE(row.names)) \n",
       "                rep.int(\"\", if (omit) \n",
       "                  n0\n",
       "                else n)\n",
       "            else row.names\n",
       "        print(m, ..., quote = quote, right = right, max = max)\n",
       "        if (omit) \n",
       "            cat(\" [ reached 'max' / getOption(\\\"max.print\\\") -- omitted\", \n",
       "                n - n0, \"rows ]\\n\")\n",
       "    }\n",
       "    invisible(x)\n",
       "}\n",
       "<bytecode: 0x00000000641f83d0>\n",
       "<environment: namespace:base>"
      ]
     },
     "metadata": {},
     "output_type": "display_data"
    }
   ],
   "source": [
    "print.data.frame"
   ]
  },
  {
   "cell_type": "code",
   "execution_count": 45,
   "id": "cc8f0444-036b-4744-ad32-dce38c331faa",
   "metadata": {},
   "outputs": [
    {
     "ename": "ERROR",
     "evalue": "Error in eval(expr, envir, enclos): object 'print.character' not found\n",
     "output_type": "error",
     "traceback": [
      "Error in eval(expr, envir, enclos): object 'print.character' not found\nTraceback:\n"
     ]
    }
   ],
   "source": [
    "print.character"
   ]
  },
  {
   "cell_type": "code",
   "execution_count": 47,
   "id": "793545f2-aeac-43ed-b71e-b0d4695c68de",
   "metadata": {},
   "outputs": [
    {
     "ename": "ERROR",
     "evalue": "Error in eval(expr, envir, enclos): object 'print.numeric' not found\n",
     "output_type": "error",
     "traceback": [
      "Error in eval(expr, envir, enclos): object 'print.numeric' not found\nTraceback:\n"
     ]
    }
   ],
   "source": [
    "print.numeric"
   ]
  },
  {
   "cell_type": "code",
   "execution_count": 49,
   "id": "024ea8dd-3898-4e7f-97a4-c98a5850ab94",
   "metadata": {},
   "outputs": [
    {
     "data": {
      "text/html": [
       "<pre class=language-r><code>function (x, digits = NULL, quote = TRUE, na.print = NULL, print.gap = NULL, \n",
       "<span style=white-space:pre-wrap>    right = FALSE, max = NULL, useSource = TRUE, ...) </span>\n",
       "{\n",
       "<span style=white-space:pre-wrap>    args &lt;- pairlist(digits = digits, quote = quote, na.print = na.print, </span>\n",
       "<span style=white-space:pre-wrap>        print.gap = print.gap, right = right, max = max, useSource = useSource, </span>\n",
       "<span style=white-space:pre-wrap>        ...)</span>\n",
       "<span style=white-space:pre-wrap>    missings &lt;- c(missing(digits), missing(quote), missing(na.print), </span>\n",
       "<span style=white-space:pre-wrap>        missing(print.gap), missing(right), missing(max), missing(useSource))</span>\n",
       "<span style=white-space:pre-wrap>    .Internal(print.default(x, args, missings))</span>\n",
       "}</code></pre>"
      ],
      "text/latex": [
       "\\begin{minted}{r}\n",
       "function (x, digits = NULL, quote = TRUE, na.print = NULL, print.gap = NULL, \n",
       "    right = FALSE, max = NULL, useSource = TRUE, ...) \n",
       "\\{\n",
       "    args <- pairlist(digits = digits, quote = quote, na.print = na.print, \n",
       "        print.gap = print.gap, right = right, max = max, useSource = useSource, \n",
       "        ...)\n",
       "    missings <- c(missing(digits), missing(quote), missing(na.print), \n",
       "        missing(print.gap), missing(right), missing(max), missing(useSource))\n",
       "    .Internal(print.default(x, args, missings))\n",
       "\\}\n",
       "\\end{minted}"
      ],
      "text/markdown": [
       "```r\n",
       "function (x, digits = NULL, quote = TRUE, na.print = NULL, print.gap = NULL, \n",
       "    right = FALSE, max = NULL, useSource = TRUE, ...) \n",
       "{\n",
       "    args <- pairlist(digits = digits, quote = quote, na.print = na.print, \n",
       "        print.gap = print.gap, right = right, max = max, useSource = useSource, \n",
       "        ...)\n",
       "    missings <- c(missing(digits), missing(quote), missing(na.print), \n",
       "        missing(print.gap), missing(right), missing(max), missing(useSource))\n",
       "    .Internal(print.default(x, args, missings))\n",
       "}\n",
       "```"
      ],
      "text/plain": [
       "function (x, digits = NULL, quote = TRUE, na.print = NULL, print.gap = NULL, \n",
       "    right = FALSE, max = NULL, useSource = TRUE, ...) \n",
       "{\n",
       "    args <- pairlist(digits = digits, quote = quote, na.print = na.print, \n",
       "        print.gap = print.gap, right = right, max = max, useSource = useSource, \n",
       "        ...)\n",
       "    missings <- c(missing(digits), missing(quote), missing(na.print), \n",
       "        missing(print.gap), missing(right), missing(max), missing(useSource))\n",
       "    .Internal(print.default(x, args, missings))\n",
       "}\n",
       "<bytecode: 0x000000006092c550>\n",
       "<environment: namespace:base>"
      ]
     },
     "metadata": {},
     "output_type": "display_data"
    }
   ],
   "source": [
    "print.default"
   ]
  },
  {
   "cell_type": "code",
   "execution_count": 53,
   "id": "b4dce662-88d9-4cf6-a6f6-955716c03dd8",
   "metadata": {},
   "outputs": [
    {
     "name": "stdout",
     "output_type": "stream",
     "text": [
      "[1] \"2025-01-30\"\n",
      "[1] \"2025-01-30\"\n"
     ]
    }
   ],
   "source": [
    "print(date)\n",
    "print.Date(date)"
   ]
  },
  {
   "cell_type": "code",
   "execution_count": 57,
   "id": "2c436d50-186d-403d-a7c4-25ea02791b00",
   "metadata": {},
   "outputs": [
    {
     "name": "stdout",
     "output_type": "stream",
     "text": [
      "    names ages\n",
      "1    Zara   23\n",
      "2 Yasmina   24\n",
      "3  Xerces   25\n",
      "    names ages\n",
      "1    Zara   23\n",
      "2 Yasmina   24\n",
      "3  Xerces   25\n"
     ]
    }
   ],
   "source": [
    "print(df)\n",
    "print.data.frame(df)"
   ]
  },
  {
   "cell_type": "code",
   "execution_count": 59,
   "id": "97755bd9-0336-4edb-8e7f-fca9428b2cb7",
   "metadata": {},
   "outputs": [
    {
     "name": "stdout",
     "output_type": "stream",
     "text": [
      "[1] 10 20 30 40\n",
      "[1] 10 20 30 40\n"
     ]
    }
   ],
   "source": [
    "print(numbers)\n",
    "print.default(numbers)"
   ]
  },
  {
   "cell_type": "code",
   "execution_count": 61,
   "id": "a1ab5de6-f6ee-44b6-a2bc-26b1136b24ed",
   "metadata": {},
   "outputs": [
    {
     "data": {
      "text/html": [
       "'list'"
      ],
      "text/latex": [
       "'list'"
      ],
      "text/markdown": [
       "'list'"
      ],
      "text/plain": [
       "[1] \"list\""
      ]
     },
     "metadata": {},
     "output_type": "display_data"
    }
   ],
   "source": [
    "human.sofia <- list(name='Sofia', age=27)\n",
    "class(human.sofia)"
   ]
  },
  {
   "cell_type": "code",
   "execution_count": 63,
   "id": "0bb23c28-973b-4e85-afd8-8745b51d2c9d",
   "metadata": {},
   "outputs": [
    {
     "data": {
      "text/html": [
       "'human'"
      ],
      "text/latex": [
       "'human'"
      ],
      "text/markdown": [
       "'human'"
      ],
      "text/plain": [
       "[1] \"human\""
      ]
     },
     "metadata": {},
     "output_type": "display_data"
    }
   ],
   "source": [
    "attr(human.sofia, \"class\") <- 'human' # convert the class list to class human. so, human.sofia is now a object of class human\n",
    "class(human.sofia)"
   ]
  },
  {
   "cell_type": "code",
   "execution_count": 65,
   "id": "07fd01a0-5534-4df4-9539-fbf57d68d7f1",
   "metadata": {},
   "outputs": [
    {
     "data": {
      "text/html": [
       "'list'"
      ],
      "text/latex": [
       "'list'"
      ],
      "text/markdown": [
       "'list'"
      ],
      "text/plain": [
       "[1] \"list\""
      ]
     },
     "metadata": {},
     "output_type": "display_data"
    }
   ],
   "source": [
    "human.peter <- list(name='peter', age=23)\n",
    "class(human.peter)"
   ]
  },
  {
   "cell_type": "code",
   "execution_count": 67,
   "id": "cce06a7e-8f4e-46cb-ba2c-11934b5b8f21",
   "metadata": {},
   "outputs": [
    {
     "data": {
      "text/html": [
       "'human'"
      ],
      "text/latex": [
       "'human'"
      ],
      "text/markdown": [
       "'human'"
      ],
      "text/plain": [
       "[1] \"human\""
      ]
     },
     "metadata": {},
     "output_type": "display_data"
    }
   ],
   "source": [
    "attr(human.peter, \"class\") <- 'human' \n",
    "class(human.peter)"
   ]
  },
  {
   "cell_type": "code",
   "execution_count": 69,
   "id": "9ca9d2f1-e18b-400b-a8b5-d923ddc26162",
   "metadata": {},
   "outputs": [
    {
     "data": {
      "text/plain": [
       "$name\n",
       "[1] \"mark\"\n",
       "\n",
       "$age\n",
       "[1] 26\n",
       "\n",
       "attr(,\"class\")\n",
       "[1] \"human\""
      ]
     },
     "metadata": {},
     "output_type": "display_data"
    },
    {
     "data": {
      "text/html": [
       "'human'"
      ],
      "text/latex": [
       "'human'"
      ],
      "text/markdown": [
       "'human'"
      ],
      "text/plain": [
       "[1] \"human\""
      ]
     },
     "metadata": {},
     "output_type": "display_data"
    }
   ],
   "source": [
    "human.mark <- structure(list(name='mark', age=26), class='human')\n",
    "human.mark\n",
    "class(human.mark)"
   ]
  },
  {
   "cell_type": "code",
   "execution_count": 73,
   "id": "8180b8ff-862b-4ad5-9b02-c76f2fd43c26",
   "metadata": {},
   "outputs": [],
   "source": [
    "print.human <- function(x, ...) {\n",
    "    print(sprintf(\"name=%s, age=%d\", x$name, x$age))\n",
    "}"
   ]
  },
  {
   "cell_type": "code",
   "execution_count": 77,
   "id": "f2b520aa-38b4-4115-b216-9a785f24dfeb",
   "metadata": {},
   "outputs": [
    {
     "name": "stdout",
     "output_type": "stream",
     "text": [
      "[1] \"name=Sofia, age=27\"\n",
      "[1] \"name=mark, age=26\"\n",
      "[1] \"name=peter, age=23\"\n"
     ]
    }
   ],
   "source": [
    "print(human.sofia)\n",
    "print(human.mark)\n",
    "print(human.peter)"
   ]
  },
  {
   "cell_type": "code",
   "execution_count": 79,
   "id": "a277b7b0-a928-4672-97f4-b936a25fe4b2",
   "metadata": {},
   "outputs": [
    {
     "name": "stdout",
     "output_type": "stream",
     "text": [
      "[1] \"name=Sofia, age=27\"\n",
      "[1] \"name=mark, age=26\"\n",
      "[1] \"name=peter, age=23\"\n"
     ]
    }
   ],
   "source": [
    "print.human(human.sofia)\n",
    "print.human(human.mark)\n",
    "print.human(human.peter)"
   ]
  },
  {
   "cell_type": "code",
   "execution_count": 81,
   "id": "5fdc95b8-b9b5-4ebd-b3ba-bfd3986965a9",
   "metadata": {},
   "outputs": [
    {
     "data": {
      "text/plain": [
       "  [1] print.acf*                                          \n",
       "  [2] print.AES*                                          \n",
       "  [3] print.anova*                                        \n",
       "  [4] print.aov*                                          \n",
       "  [5] print.aovlist*                                      \n",
       "  [6] print.ar*                                           \n",
       "  [7] print.Arima*                                        \n",
       "  [8] print.arima0*                                       \n",
       "  [9] print.AsIs                                          \n",
       " [10] print.aspell*                                       \n",
       " [11] print.aspell_inspect_context*                       \n",
       " [12] print.bibentry*                                     \n",
       " [13] print.Bibtex*                                       \n",
       " [14] print.browseVignettes*                              \n",
       " [15] print.by                                            \n",
       " [16] print.bytes*                                        \n",
       " [17] print.changedFiles*                                 \n",
       " [18] print.check_code_usage_in_package*                  \n",
       " [19] print.check_compiled_code*                          \n",
       " [20] print.check_demo_index*                             \n",
       " [21] print.check_depdef*                                 \n",
       " [22] print.check_details*                                \n",
       " [23] print.check_details_changes*                        \n",
       " [24] print.check_doi_db*                                 \n",
       " [25] print.check_dotInternal*                            \n",
       " [26] print.check_make_vars*                              \n",
       " [27] print.check_nonAPI_calls*                           \n",
       " [28] print.check_package_code_assign_to_globalenv*       \n",
       " [29] print.check_package_code_attach*                    \n",
       " [30] print.check_package_code_data_into_globalenv*       \n",
       " [31] print.check_package_code_startup_functions*         \n",
       " [32] print.check_package_code_syntax*                    \n",
       " [33] print.check_package_code_unload_functions*          \n",
       " [34] print.check_package_compact_datasets*               \n",
       " [35] print.check_package_CRAN_incoming*                  \n",
       " [36] print.check_package_datasets*                       \n",
       " [37] print.check_package_depends*                        \n",
       " [38] print.check_package_description*                    \n",
       " [39] print.check_package_description_encoding*           \n",
       " [40] print.check_package_license*                        \n",
       " [41] print.check_packages_in_dir*                        \n",
       " [42] print.check_packages_used*                          \n",
       " [43] print.check_po_files*                               \n",
       " [44] print.check_pragmas*                                \n",
       " [45] print.check_Rd_contents*                            \n",
       " [46] print.check_Rd_line_widths*                         \n",
       " [47] print.check_Rd_metadata*                            \n",
       " [48] print.check_Rd_xrefs*                               \n",
       " [49] print.check_RegSym_calls*                           \n",
       " [50] print.check_S3_methods_needing_delayed_registration*\n",
       " [51] print.check_so_symbols*                             \n",
       " [52] print.check_T_and_F*                                \n",
       " [53] print.check_url_db*                                 \n",
       " [54] print.check_vignette_index*                         \n",
       " [55] print.checkDocFiles*                                \n",
       " [56] print.checkDocStyle*                                \n",
       " [57] print.checkFF*                                      \n",
       " [58] print.checkRd*                                      \n",
       " [59] print.checkReplaceFuns*                             \n",
       " [60] print.checkS3methods*                               \n",
       " [61] print.checkTnF*                                     \n",
       " [62] print.checkVignettes*                               \n",
       " [63] print.citation*                                     \n",
       " [64] print.codoc*                                        \n",
       " [65] print.codocClasses*                                 \n",
       " [66] print.codocData*                                    \n",
       " [67] print.colorConverter*                               \n",
       " [68] print.compactPDF*                                   \n",
       " [69] print.condition                                     \n",
       " [70] print.connection                                    \n",
       " [71] print.CRAN_package_reverse_dependencies_and_views*  \n",
       " [72] print.crayon*                                       \n",
       " [73] print.data.frame                                    \n",
       " [74] print.Date                                          \n",
       " [75] print.default                                       \n",
       " [76] print.dendrogram*                                   \n",
       " [77] print.density*                                      \n",
       " [78] print.difftime                                      \n",
       " [79] print.dist*                                         \n",
       " [80] print.Dlist                                         \n",
       " [81] print.DLLInfo                                       \n",
       " [82] print.DLLInfoList                                   \n",
       " [83] print.DLLRegisteredRoutines                         \n",
       " [84] print.dummy_coef*                                   \n",
       " [85] print.dummy_coef_list*                              \n",
       " [86] print.ecdf*                                         \n",
       " [87] print.eigen                                         \n",
       " [88] print.factanal*                                     \n",
       " [89] print.factor                                        \n",
       " [90] print.family*                                       \n",
       " [91] print.fileSnapshot*                                 \n",
       " [92] print.findLineNumResult*                            \n",
       " [93] print.formula*                                      \n",
       " [94] print.ftable*                                       \n",
       " [95] print.function                                      \n",
       " [96] print.getAnywhere*                                  \n",
       " [97] print.glm*                                          \n",
       " [98] print.hclust*                                       \n",
       " [99] print.help_files_with_topic*                        \n",
       "[100] print.hexmode                                       \n",
       "[101] print.HoltWinters*                                  \n",
       "[102] print.hsearch*                                      \n",
       "[103] print.hsearch_db*                                   \n",
       "[104] print.htest*                                        \n",
       "[105] print.html*                                         \n",
       "[106] print.html_dependency*                              \n",
       "[107] print.human                                         \n",
       "[108] print.infl*                                         \n",
       "[109] print.integrate*                                    \n",
       "[110] print.isoreg*                                       \n",
       "[111] print.json*                                         \n",
       "[112] print.kmeans*                                       \n",
       "[113] print.Latex*                                        \n",
       "[114] print.LaTeX*                                        \n",
       "[115] print.libraryIQR                                    \n",
       "[116] print.listof                                        \n",
       "[117] print.lm*                                           \n",
       "[118] print.loadings*                                     \n",
       "[119] print.loess*                                        \n",
       "[120] print.logLik*                                       \n",
       "[121] print.ls_str*                                       \n",
       "[122] print.medpolish*                                    \n",
       "[123] print.MethodsFunction*                              \n",
       "[124] print.mtable*                                       \n",
       "[125] print.NativeRoutineList                             \n",
       "[126] print.news_db*                                      \n",
       "[127] print.nls*                                          \n",
       "[128] print.noquote                                       \n",
       "[129] print.numeric_version                               \n",
       "[130] print.object_size*                                  \n",
       "[131] print.octmode                                       \n",
       "[132] print.packageDescription*                           \n",
       "[133] print.packageInfo                                   \n",
       "[134] print.packageIQR*                                   \n",
       "[135] print.packageStatus*                                \n",
       "[136] print.pairwise.htest*                               \n",
       "[137] print.person*                                       \n",
       "[138] print.POSIXct                                       \n",
       "[139] print.POSIXlt                                       \n",
       "[140] print.power.htest*                                  \n",
       "[141] print.ppr*                                          \n",
       "[142] print.prcomp*                                       \n",
       "[143] print.princomp*                                     \n",
       "[144] print.proc_time                                     \n",
       "[145] print.raster*                                       \n",
       "[146] print.Rcpp_stack_trace*                             \n",
       "[147] print.Rd*                                           \n",
       "[148] print.recordedplot*                                 \n",
       "[149] print.restart                                       \n",
       "[150] print.RGBcolorConverter*                            \n",
       "[151] print.rle                                           \n",
       "[152] print.roman*                                        \n",
       "[153] print.SavedPlots*                                   \n",
       "[154] print.scalar*                                       \n",
       "[155] print.sessionInfo*                                  \n",
       "[156] print.shiny.tag*                                    \n",
       "[157] print.shiny.tag.list*                               \n",
       "[158] print.simple.list                                   \n",
       "[159] print.smooth.spline*                                \n",
       "[160] print.socket*                                       \n",
       "[161] print.srcfile                                       \n",
       "[162] print.srcref                                        \n",
       "[163] print.stepfun*                                      \n",
       "[164] print.stl*                                          \n",
       "[165] print.StructTS*                                     \n",
       "[166] print.subdir_tests*                                 \n",
       "[167] print.summarize_CRAN_check_status*                  \n",
       "[168] print.summary.aov*                                  \n",
       "[169] print.summary.aovlist*                              \n",
       "[170] print.summary.ecdf*                                 \n",
       "[171] print.summary.glm*                                  \n",
       "[172] print.summary.lm*                                   \n",
       "[173] print.summary.loess*                                \n",
       "[174] print.summary.manova*                               \n",
       "[175] print.summary.nls*                                  \n",
       "[176] print.summary.packageStatus*                        \n",
       "[177] print.summary.ppr*                                  \n",
       "[178] print.summary.prcomp*                               \n",
       "[179] print.summary.princomp*                             \n",
       "[180] print.summary.table                                 \n",
       "[181] print.summary.warnings                              \n",
       "[182] print.summaryDefault                                \n",
       "[183] print.table                                         \n",
       "[184] print.tables_aov*                                   \n",
       "[185] print.terms*                                        \n",
       "[186] print.ts*                                           \n",
       "[187] print.tskernel*                                     \n",
       "[188] print.TukeyHSD*                                     \n",
       "[189] print.tukeyline*                                    \n",
       "[190] print.tukeysmooth*                                  \n",
       "[191] print.undoc*                                        \n",
       "[192] print.vignette                                      \n",
       "[193] print.warnings                                      \n",
       "[194] print.xgettext*                                     \n",
       "[195] print.xngettext*                                    \n",
       "[196] print.xtabs*                                        \n",
       "see '?methods' for accessing help and source code"
      ]
     },
     "metadata": {},
     "output_type": "display_data"
    }
   ],
   "source": [
    "methods(print)"
   ]
  },
  {
   "cell_type": "code",
   "execution_count": 83,
   "id": "a5e2e605-48ce-4fe7-a118-6570f57cd5e1",
   "metadata": {},
   "outputs": [
    {
     "data": {
      "text/html": [
       "<ol class=list-inline>\n",
       "\t<li>'student'</li>\n",
       "\t<li>'human'</li>\n",
       "</ol>\n"
      ],
      "text/latex": [
       "\\begin{enumerate*}\n",
       "\\item 'student'\n",
       "\\item 'human'\n",
       "\\end{enumerate*}\n"
      ],
      "text/markdown": [
       "1. 'student'\n",
       "2. 'human'\n",
       "\n",
       "\n"
      ],
      "text/plain": [
       "[1] \"student\" \"human\"  "
      ]
     },
     "metadata": {},
     "output_type": "display_data"
    }
   ],
   "source": [
    "student.clara <- structure(list(id=1001, name='clara', major='English', age=25), class=c('student','human'))\n",
    "class(student.clara)"
   ]
  },
  {
   "cell_type": "code",
   "execution_count": 85,
   "id": "8b3ed2a6-b6fb-49be-a2b8-3ecfe6657026",
   "metadata": {},
   "outputs": [
    {
     "data": {
      "text/html": [
       "<ol class=list-inline>\n",
       "\t<li>'student'</li>\n",
       "\t<li>'human'</li>\n",
       "</ol>\n"
      ],
      "text/latex": [
       "\\begin{enumerate*}\n",
       "\\item 'student'\n",
       "\\item 'human'\n",
       "\\end{enumerate*}\n"
      ],
      "text/markdown": [
       "1. 'student'\n",
       "2. 'human'\n",
       "\n",
       "\n"
      ],
      "text/plain": [
       "[1] \"student\" \"human\"  "
      ]
     },
     "metadata": {},
     "output_type": "display_data"
    }
   ],
   "source": [
    "student.tony <- structure(list(id=1002, name='Tony', major='Math', age=27), class=c('student','human'))\n",
    "class(student.tony)"
   ]
  },
  {
   "cell_type": "code",
   "execution_count": 89,
   "id": "3c7a0f3e-6caa-42e9-ad9c-bb02781e4c35",
   "metadata": {},
   "outputs": [
    {
     "name": "stdout",
     "output_type": "stream",
     "text": [
      "[1] \"name=clara, age=25\"\n"
     ]
    }
   ],
   "source": [
    "print(student.clara)"
   ]
  },
  {
   "cell_type": "code",
   "execution_count": 91,
   "id": "ff00202d-a145-4d09-883a-036c9f10d8a5",
   "metadata": {},
   "outputs": [
    {
     "name": "stdout",
     "output_type": "stream",
     "text": [
      "[1] \"name=Tony, age=27\"\n"
     ]
    }
   ],
   "source": [
    "print(student.tony)"
   ]
  },
  {
   "cell_type": "code",
   "execution_count": 103,
   "id": "ae7ade99-da9f-4184-b1ec-b1b2aec38315",
   "metadata": {},
   "outputs": [],
   "source": [
    "print.student <- function(x, ...) {\n",
    "    print(sprintf(\"id=%d, name=%s, age=%d, major=%s\", x$id, x$name, x$age, x$major))\n",
    "}"
   ]
  },
  {
   "cell_type": "code",
   "execution_count": 105,
   "id": "ab1a06af-0734-4c34-91b2-84335f0a0001",
   "metadata": {},
   "outputs": [
    {
     "name": "stdout",
     "output_type": "stream",
     "text": [
      "[1] \"id=1001, name=clara, age=25, major=English\"\n"
     ]
    }
   ],
   "source": [
    "print(student.clara)"
   ]
  },
  {
   "cell_type": "code",
   "execution_count": 107,
   "id": "5a91bf2c-f853-4263-a0da-5e74632a228e",
   "metadata": {},
   "outputs": [
    {
     "name": "stdout",
     "output_type": "stream",
     "text": [
      "[1] \"id=1002, name=Tony, age=27, major=Math\"\n"
     ]
    }
   ],
   "source": [
    "print(student.tony)"
   ]
  },
  {
   "cell_type": "code",
   "execution_count": 109,
   "id": "5943efb0-5ade-49fe-be47-0bf519a1c82e",
   "metadata": {},
   "outputs": [
    {
     "name": "stdout",
     "output_type": "stream",
     "text": [
      "[1] \"name=Sofia, age=27\"\n"
     ]
    }
   ],
   "source": [
    "print(human.sofia)"
   ]
  },
  {
   "cell_type": "code",
   "execution_count": 111,
   "id": "a5416317-3b15-488f-850f-885d4889cd5e",
   "metadata": {},
   "outputs": [],
   "source": [
    "pretty_print <- function(x, ...) {\n",
    "    UseMethod('pretty_print')\n",
    "}"
   ]
  },
  {
   "cell_type": "code",
   "execution_count": 113,
   "id": "01cf144d-7a2e-4cf3-831d-d04a7a6f04a0",
   "metadata": {},
   "outputs": [
    {
     "ename": "ERROR",
     "evalue": "Error in UseMethod(\"pretty_print\"): no applicable method for 'pretty_print' applied to an object of class \"human\"\n",
     "output_type": "error",
     "traceback": [
      "Error in UseMethod(\"pretty_print\"): no applicable method for 'pretty_print' applied to an object of class \"human\"\nTraceback:\n",
      "1. pretty_print(human.sofia)"
     ]
    }
   ],
   "source": [
    "pretty_print(human.sofia)"
   ]
  },
  {
   "cell_type": "code",
   "execution_count": 119,
   "id": "c895012c-d31e-410a-a524-a4c26e78b7cf",
   "metadata": {},
   "outputs": [],
   "source": [
    "pretty_print.default <- function(x, ...) {\n",
    "    print('********************')\n",
    "    print(x, ...)\n",
    "    print('********************')\n",
    "}"
   ]
  },
  {
   "cell_type": "code",
   "execution_count": 121,
   "id": "9eab090a-189e-4aa0-afd2-e7e6d6ed4931",
   "metadata": {},
   "outputs": [
    {
     "name": "stdout",
     "output_type": "stream",
     "text": [
      "[1] \"********************\"\n",
      "[1] \"name=Sofia, age=27\"\n",
      "[1] \"********************\"\n"
     ]
    }
   ],
   "source": [
    "pretty_print(human.sofia)"
   ]
  },
  {
   "cell_type": "code",
   "execution_count": 123,
   "id": "47de54bc-14d9-4b0f-9c8a-63479acc18e8",
   "metadata": {},
   "outputs": [
    {
     "name": "stdout",
     "output_type": "stream",
     "text": [
      "[1] \"********************\"\n",
      "[1] \"id=1001, name=clara, age=25, major=English\"\n",
      "[1] \"********************\"\n"
     ]
    }
   ],
   "source": [
    "pretty_print(student.clara)"
   ]
  },
  {
   "cell_type": "code",
   "execution_count": 125,
   "id": "bf34d8d6-73e4-4ea7-906c-0b81541f9e03",
   "metadata": {},
   "outputs": [],
   "source": [
    "pretty_print.human <- function(x, ...) {\n",
    "    print('#####################')\n",
    "    print(x, ...)\n",
    "    print('#####################')\n",
    "}\n",
    "\n",
    "pretty_print.student <- function(x, ...) {\n",
    "    print('+++++++++++++++++++++')\n",
    "    print(x, ...)\n",
    "    print('+++++++++++++++++++++')\n",
    "}"
   ]
  },
  {
   "cell_type": "code",
   "execution_count": 127,
   "id": "1f633247-c285-4d05-b282-ccbf1ea7e724",
   "metadata": {},
   "outputs": [
    {
     "name": "stdout",
     "output_type": "stream",
     "text": [
      "[1] \"+++++++++++++++++++++\"\n",
      "[1] \"id=1001, name=clara, age=25, major=English\"\n",
      "[1] \"+++++++++++++++++++++\"\n"
     ]
    }
   ],
   "source": [
    "pretty_print(student.clara)"
   ]
  },
  {
   "cell_type": "code",
   "execution_count": 129,
   "id": "f8061b38-4804-4bc6-8b80-e9f70c7edeb9",
   "metadata": {},
   "outputs": [
    {
     "name": "stdout",
     "output_type": "stream",
     "text": [
      "[1] \"#####################\"\n",
      "[1] \"name=Sofia, age=27\"\n",
      "[1] \"#####################\"\n"
     ]
    }
   ],
   "source": [
    "pretty_print(human.sofia)"
   ]
  },
  {
   "cell_type": "code",
   "execution_count": 131,
   "id": "9f746e37-6d61-4061-9089-ff4ab22535f4",
   "metadata": {},
   "outputs": [
    {
     "name": "stdout",
     "output_type": "stream",
     "text": [
      "[1] \"id=1001, name=clara, age=25, major=English\"\n"
     ]
    }
   ],
   "source": [
    "print(student.clara)"
   ]
  },
  {
   "cell_type": "code",
   "execution_count": 133,
   "id": "f0bfcb4d-3660-4250-9c91-3d4172fc0fa0",
   "metadata": {},
   "outputs": [
    {
     "name": "stdout",
     "output_type": "stream",
     "text": [
      "[1] \"name=peter, age=23\"\n"
     ]
    }
   ],
   "source": [
    "print(human.peter)"
   ]
  },
  {
   "cell_type": "code",
   "execution_count": null,
   "id": "133ef285-69be-4180-8291-1c53bae4470e",
   "metadata": {},
   "outputs": [],
   "source": []
  }
 ],
 "metadata": {
  "kernelspec": {
   "display_name": "R",
   "language": "R",
   "name": "ir"
  },
  "language_info": {
   "codemirror_mode": "r",
   "file_extension": ".r",
   "mimetype": "text/x-r-source",
   "name": "R",
   "pygments_lexer": "r",
   "version": "3.6.1"
  }
 },
 "nbformat": 4,
 "nbformat_minor": 5
}
