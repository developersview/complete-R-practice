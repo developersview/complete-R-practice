{
 "cells": [
  {
   "cell_type": "code",
   "execution_count": 1,
   "id": "7ec87a0d-1cba-4951-a028-865f725b9d66",
   "metadata": {},
   "outputs": [
    {
     "data": {
      "text/html": [
       "\n",
       "<table width=\"100%\" summary=\"page for array {base}\"><tr><td>array {base}</td><td style=\"text-align: right;\">R Documentation</td></tr></table>\n",
       "\n",
       "<h2>Multi-way Arrays</h2>\n",
       "\n",
       "<h3>Description</h3>\n",
       "\n",
       "<p>Creates or tests for arrays.\n",
       "</p>\n",
       "\n",
       "\n",
       "<h3>Usage</h3>\n",
       "\n",
       "<pre>\n",
       "array(data = NA, dim = length(data), dimnames = NULL)\n",
       "as.array(x, ...)\n",
       "is.array(x)\n",
       "</pre>\n",
       "\n",
       "\n",
       "<h3>Arguments</h3>\n",
       "\n",
       "<table summary=\"R argblock\">\n",
       "<tr valign=\"top\"><td><code>data</code></td>\n",
       "<td>\n",
       "<p>a vector (including a list or <code>expression</code>\n",
       "vector) giving data to fill the array.  Non-atomic classed objects\n",
       "are coerced by <code>as.vector</code>.</p>\n",
       "</td></tr>\n",
       "<tr valign=\"top\"><td><code>dim</code></td>\n",
       "<td>\n",
       "<p>the dim attribute for the array to be created, that is an\n",
       "integer vector of length one or more giving the maximal indices in\n",
       "each dimension.</p>\n",
       "</td></tr>\n",
       "<tr valign=\"top\"><td><code>dimnames</code></td>\n",
       "<td>\n",
       "<p>either <code>NULL</code> or the names for the dimensions.\n",
       "This must a list (or it will be ignored) with one component for each\n",
       "dimension, either <code>NULL</code> or a character vector of the length\n",
       "given by <code>dim</code> for that dimension.  The list can be named, and\n",
       "the list names will be used as names for the dimensions.  If the\n",
       "list is shorter than the number of dimensions, it is extended by\n",
       "<code>NULL</code>s to the length required.</p>\n",
       "</td></tr>\n",
       "<tr valign=\"top\"><td><code>x</code></td>\n",
       "<td>\n",
       "<p>an <span style=\"font-family: Courier New, Courier; color: #666666;\"><b>R</b></span> object.</p>\n",
       "</td></tr>\n",
       "<tr valign=\"top\"><td><code>...</code></td>\n",
       "<td>\n",
       "<p>additional arguments to be passed to or from methods.</p>\n",
       "</td></tr>\n",
       "</table>\n",
       "\n",
       "\n",
       "<h3>Details</h3>\n",
       "\n",
       "<p>An array in <span style=\"font-family: Courier New, Courier; color: #666666;\"><b>R</b></span> can have one, two or more dimensions.  It is simply a\n",
       "vector which is stored with additional attributes giving the\n",
       "dimensions (attribute <code>\"dim\"</code>) and optionally names for those\n",
       "dimensions (attribute <code>\"dimnames\"</code>).\n",
       "</p>\n",
       "<p>A two-dimensional array is the same thing as a <code>matrix</code>.\n",
       "</p>\n",
       "<p>One-dimensional arrays often look like vectors, but may be handled\n",
       "differently by some functions: <code>str</code> does distinguish\n",
       "them in recent versions of <span style=\"font-family: Courier New, Courier; color: #666666;\"><b>R</b></span>.\n",
       "</p>\n",
       "<p>The <code>\"dim\"</code> attribute is an integer vector of length one or more\n",
       "containing non-negative values: the product of the values must match\n",
       "the length of the array.\n",
       "</p>\n",
       "<p>The <code>\"dimnames\"</code> attribute is optional: if present it is a list\n",
       "with one component for each dimension, either <code>NULL</code> or a\n",
       "character vector of the length given by the element of the\n",
       "<code>\"dim\"</code> attribute for that dimension.\n",
       "</p>\n",
       "<p><code>is.array</code> is a primitive function.\n",
       "</p>\n",
       "<p>For a list array, the <code>print</code> methods prints entries of length\n",
       "not one in the form <span class=\"samp\">integer,7</span> indicating the type and length.\n",
       "</p>\n",
       "\n",
       "\n",
       "<h3>Value</h3>\n",
       "\n",
       "<p><code>array</code> returns an array with the extents specified in <code>dim</code>\n",
       "and naming information in <code>dimnames</code>.  The values in <code>data</code> are\n",
       "taken to be those in the array with the leftmost subscript moving\n",
       "fastest.  If there are too few elements in <code>data</code> to fill the array,\n",
       "then the elements in <code>data</code> are recycled.  If <code>data</code> has\n",
       "length zero, <code>NA</code> of an appropriate type is used for atomic\n",
       "vectors (<code>0</code> for raw vectors) and <code>NULL</code> for lists.\n",
       "</p>\n",
       "<p>Unlike <code>matrix</code>, <code>array</code> does not currently remove\n",
       "any attributes left by <code>as.vector</code> from a classed list\n",
       "<code>data</code>, so can return a list array with a class attribute.\n",
       "</p>\n",
       "<p><code>as.array</code> is a generic function for coercing to arrays.  The\n",
       "default method does so by attaching a <code>dim</code> attribute to\n",
       "it.  It also attaches <code>dimnames</code> if <code>x</code> has\n",
       "<code>names</code>.  The sole purpose of this is to make it possible\n",
       "to access the <code>dim[names]</code> attribute at a later time.\n",
       "</p>\n",
       "<p><code>is.array</code> returns <code>TRUE</code> or <code>FALSE</code> depending on\n",
       "whether its argument is an array (i.e., has a <code>dim</code> attribute of\n",
       "positive length) or not.  It is generic: you can write methods to handle\n",
       "specific classes of objects, see InternalMethods.\n",
       "</p>\n",
       "\n",
       "\n",
       "<h3>Note</h3>\n",
       "\n",
       "<p><code>is.array</code> is a primitive function.\n",
       "</p>\n",
       "\n",
       "\n",
       "<h3>References</h3>\n",
       "\n",
       "<p>Becker, R. A., Chambers, J. M. and Wilks, A. R. (1988)\n",
       "<em>The New S Language</em>.\n",
       "Wadsworth &amp; Brooks/Cole.\n",
       "</p>\n",
       "\n",
       "\n",
       "<h3>See Also</h3>\n",
       "\n",
       "<p><code>aperm</code>, <code>matrix</code>,\n",
       "<code>dim</code>, <code>dimnames</code>.\n",
       "</p>\n",
       "\n",
       "\n",
       "<h3>Examples</h3>\n",
       "\n",
       "<pre>\n",
       "dim(as.array(letters))\n",
       "array(1:3, c(2,4)) # recycle 1:3 \"2 2/3 times\"\n",
       "#     [,1] [,2] [,3] [,4]\n",
       "#[1,]    1    3    2    1\n",
       "#[2,]    2    1    3    2\n",
       "</pre>\n",
       "\n",
       "<hr /><div style=\"text-align: center;\">[Package <em>base</em> version 3.6.1 ]</div>"
      ],
      "text/latex": [
       "\\inputencoding{utf8}\n",
       "\\HeaderA{array}{Multi-way Arrays}{array}\n",
       "\\aliasA{as.array}{array}{as.array}\n",
       "\\methaliasA{as.array.default}{array}{as.array.default}\n",
       "\\aliasA{is.array}{array}{is.array}\n",
       "\\keyword{array}{array}\n",
       "%\n",
       "\\begin{Description}\\relax\n",
       "Creates or tests for arrays.\n",
       "\\end{Description}\n",
       "%\n",
       "\\begin{Usage}\n",
       "\\begin{verbatim}\n",
       "array(data = NA, dim = length(data), dimnames = NULL)\n",
       "as.array(x, ...)\n",
       "is.array(x)\n",
       "\\end{verbatim}\n",
       "\\end{Usage}\n",
       "%\n",
       "\\begin{Arguments}\n",
       "\\begin{ldescription}\n",
       "\\item[\\code{data}] a vector (including a list or \\code{\\LinkA{expression}{expression}}\n",
       "vector) giving data to fill the array.  Non-atomic classed objects\n",
       "are coerced by \\code{\\LinkA{as.vector}{as.vector}}.\n",
       "\\item[\\code{dim}] the dim attribute for the array to be created, that is an\n",
       "integer vector of length one or more giving the maximal indices in\n",
       "each dimension.\n",
       "\\item[\\code{dimnames}] either \\code{NULL} or the names for the dimensions.\n",
       "This must a list (or it will be ignored) with one component for each\n",
       "dimension, either \\code{NULL} or a character vector of the length\n",
       "given by \\code{dim} for that dimension.  The list can be named, and\n",
       "the list names will be used as names for the dimensions.  If the\n",
       "list is shorter than the number of dimensions, it is extended by\n",
       "\\code{NULL}s to the length required.\n",
       "\\item[\\code{x}] an \\R{} object.\n",
       "\\item[\\code{...}] additional arguments to be passed to or from methods.\n",
       "\\end{ldescription}\n",
       "\\end{Arguments}\n",
       "%\n",
       "\\begin{Details}\\relax\n",
       "An array in \\R{} can have one, two or more dimensions.  It is simply a\n",
       "vector which is stored with additional \\LinkA{attributes}{attributes} giving the\n",
       "dimensions (attribute \\code{\"dim\"}) and optionally names for those\n",
       "dimensions (attribute \\code{\"dimnames\"}).\n",
       "\n",
       "A two-dimensional array is the same thing as a \\code{\\LinkA{matrix}{matrix}}.\n",
       "\n",
       "One-dimensional arrays often look like vectors, but may be handled\n",
       "differently by some functions: \\code{\\LinkA{str}{str}} does distinguish\n",
       "them in recent versions of \\R{}.\n",
       "\n",
       "The \\code{\"dim\"} attribute is an integer vector of length one or more\n",
       "containing non-negative values: the product of the values must match\n",
       "the length of the array.\n",
       "\n",
       "The \\code{\"dimnames\"} attribute is optional: if present it is a list\n",
       "with one component for each dimension, either \\code{NULL} or a\n",
       "character vector of the length given by the element of the\n",
       "\\code{\"dim\"} attribute for that dimension.\n",
       "\n",
       "\\code{is.array} is a \\LinkA{primitive}{primitive} function.\n",
       "\n",
       "For a list array, the \\code{print} methods prints entries of length\n",
       "not one in the form \\samp{integer,7} indicating the type and length.\n",
       "\\end{Details}\n",
       "%\n",
       "\\begin{Value}\n",
       "\\code{array} returns an array with the extents specified in \\code{dim}\n",
       "and naming information in \\code{dimnames}.  The values in \\code{data} are\n",
       "taken to be those in the array with the leftmost subscript moving\n",
       "fastest.  If there are too few elements in \\code{data} to fill the array,\n",
       "then the elements in \\code{data} are recycled.  If \\code{data} has\n",
       "length zero, \\code{NA} of an appropriate type is used for atomic\n",
       "vectors (\\code{0} for raw vectors) and \\code{NULL} for lists.\n",
       "\n",
       "Unlike \\code{\\LinkA{matrix}{matrix}}, \\code{array} does not currently remove\n",
       "any attributes left by \\code{as.vector} from a classed list\n",
       "\\code{data}, so can return a list array with a class attribute.\n",
       "\n",
       "\\code{as.array} is a generic function for coercing to arrays.  The\n",
       "default method does so by attaching a \\code{\\LinkA{dim}{dim}} attribute to\n",
       "it.  It also attaches \\code{\\LinkA{dimnames}{dimnames}} if \\code{x} has\n",
       "\\code{\\LinkA{names}{names}}.  The sole purpose of this is to make it possible\n",
       "to access the \\code{dim[names]} attribute at a later time.\n",
       "\n",
       "\\code{is.array} returns \\code{TRUE} or \\code{FALSE} depending on\n",
       "whether its argument is an array (i.e., has a \\code{dim} attribute of\n",
       "positive length) or not.  It is generic: you can write methods to handle\n",
       "specific classes of objects, see \\LinkA{InternalMethods}{InternalMethods}.\n",
       "\\end{Value}\n",
       "%\n",
       "\\begin{Note}\\relax\n",
       "\\code{is.array} is a \\LinkA{primitive}{primitive} function.\n",
       "\\end{Note}\n",
       "%\n",
       "\\begin{References}\\relax\n",
       "Becker, R. A., Chambers, J. M. and Wilks, A. R. (1988)\n",
       "\\emph{The New S Language}.\n",
       "Wadsworth \\& Brooks/Cole.\n",
       "\\end{References}\n",
       "%\n",
       "\\begin{SeeAlso}\\relax\n",
       "\\code{\\LinkA{aperm}{aperm}}, \\code{\\LinkA{matrix}{matrix}},\n",
       "\\code{\\LinkA{dim}{dim}}, \\code{\\LinkA{dimnames}{dimnames}}.\n",
       "\\end{SeeAlso}\n",
       "%\n",
       "\\begin{Examples}\n",
       "\\begin{ExampleCode}\n",
       "dim(as.array(letters))\n",
       "array(1:3, c(2,4)) # recycle 1:3 \"2 2/3 times\"\n",
       "#     [,1] [,2] [,3] [,4]\n",
       "#[1,]    1    3    2    1\n",
       "#[2,]    2    1    3    2\n",
       "\\end{ExampleCode}\n",
       "\\end{Examples}"
      ],
      "text/plain": [
       "array                   package:base                   R Documentation\n",
       "\n",
       "_\bM_\bu_\bl_\bt_\bi-_\bw_\ba_\by _\bA_\br_\br_\ba_\by_\bs\n",
       "\n",
       "_\bD_\be_\bs_\bc_\br_\bi_\bp_\bt_\bi_\bo_\bn:\n",
       "\n",
       "     Creates or tests for arrays.\n",
       "\n",
       "_\bU_\bs_\ba_\bg_\be:\n",
       "\n",
       "     array(data = NA, dim = length(data), dimnames = NULL)\n",
       "     as.array(x, ...)\n",
       "     is.array(x)\n",
       "     \n",
       "_\bA_\br_\bg_\bu_\bm_\be_\bn_\bt_\bs:\n",
       "\n",
       "    data: a vector (including a list or 'expression' vector) giving\n",
       "          data to fill the array.  Non-atomic classed objects are\n",
       "          coerced by 'as.vector'.\n",
       "\n",
       "     dim: the dim attribute for the array to be created, that is an\n",
       "          integer vector of length one or more giving the maximal\n",
       "          indices in each dimension.\n",
       "\n",
       "dimnames: either 'NULL' or the names for the dimensions.  This must a\n",
       "          list (or it will be ignored) with one component for each\n",
       "          dimension, either 'NULL' or a character vector of the length\n",
       "          given by 'dim' for that dimension.  The list can be named,\n",
       "          and the list names will be used as names for the dimensions.\n",
       "          If the list is shorter than the number of dimensions, it is\n",
       "          extended by 'NULL's to the length required.\n",
       "\n",
       "       x: an R object.\n",
       "\n",
       "     ...: additional arguments to be passed to or from methods.\n",
       "\n",
       "_\bD_\be_\bt_\ba_\bi_\bl_\bs:\n",
       "\n",
       "     An array in R can have one, two or more dimensions.  It is simply\n",
       "     a vector which is stored with additional attributes giving the\n",
       "     dimensions (attribute '\"dim\"') and optionally names for those\n",
       "     dimensions (attribute '\"dimnames\"').\n",
       "\n",
       "     A two-dimensional array is the same thing as a 'matrix'.\n",
       "\n",
       "     One-dimensional arrays often look like vectors, but may be handled\n",
       "     differently by some functions: 'str' does distinguish them in\n",
       "     recent versions of R.\n",
       "\n",
       "     The '\"dim\"' attribute is an integer vector of length one or more\n",
       "     containing non-negative values: the product of the values must\n",
       "     match the length of the array.\n",
       "\n",
       "     The '\"dimnames\"' attribute is optional: if present it is a list\n",
       "     with one component for each dimension, either 'NULL' or a\n",
       "     character vector of the length given by the element of the '\"dim\"'\n",
       "     attribute for that dimension.\n",
       "\n",
       "     'is.array' is a primitive function.\n",
       "\n",
       "     For a list array, the 'print' methods prints entries of length not\n",
       "     one in the form 'integer,7' indicating the type and length.\n",
       "\n",
       "_\bV_\ba_\bl_\bu_\be:\n",
       "\n",
       "     'array' returns an array with the extents specified in 'dim' and\n",
       "     naming information in 'dimnames'.  The values in 'data' are taken\n",
       "     to be those in the array with the leftmost subscript moving\n",
       "     fastest.  If there are too few elements in 'data' to fill the\n",
       "     array, then the elements in 'data' are recycled.  If 'data' has\n",
       "     length zero, 'NA' of an appropriate type is used for atomic\n",
       "     vectors ('0' for raw vectors) and 'NULL' for lists.\n",
       "\n",
       "     Unlike 'matrix', 'array' does not currently remove any attributes\n",
       "     left by 'as.vector' from a classed list 'data', so can return a\n",
       "     list array with a class attribute.\n",
       "\n",
       "     'as.array' is a generic function for coercing to arrays.  The\n",
       "     default method does so by attaching a 'dim' attribute to it.  It\n",
       "     also attaches 'dimnames' if 'x' has 'names'.  The sole purpose of\n",
       "     this is to make it possible to access the 'dim[names]' attribute\n",
       "     at a later time.\n",
       "\n",
       "     'is.array' returns 'TRUE' or 'FALSE' depending on whether its\n",
       "     argument is an array (i.e., has a 'dim' attribute of positive\n",
       "     length) or not.  It is generic: you can write methods to handle\n",
       "     specific classes of objects, see InternalMethods.\n",
       "\n",
       "_\bN_\bo_\bt_\be:\n",
       "\n",
       "     'is.array' is a primitive function.\n",
       "\n",
       "_\bR_\be_\bf_\be_\br_\be_\bn_\bc_\be_\bs:\n",
       "\n",
       "     Becker, R. A., Chambers, J. M. and Wilks, A. R. (1988) _The New S\n",
       "     Language_.  Wadsworth & Brooks/Cole.\n",
       "\n",
       "_\bS_\be_\be _\bA_\bl_\bs_\bo:\n",
       "\n",
       "     'aperm', 'matrix', 'dim', 'dimnames'.\n",
       "\n",
       "_\bE_\bx_\ba_\bm_\bp_\bl_\be_\bs:\n",
       "\n",
       "     dim(as.array(letters))\n",
       "     array(1:3, c(2,4)) # recycle 1:3 \"2 2/3 times\"\n",
       "     #     [,1] [,2] [,3] [,4]\n",
       "     #[1,]    1    3    2    1\n",
       "     #[2,]    2    1    3    2\n",
       "     "
      ]
     },
     "metadata": {},
     "output_type": "display_data"
    }
   ],
   "source": [
    "?array"
   ]
  },
  {
   "cell_type": "code",
   "execution_count": 3,
   "id": "2877054b-ad60-4b49-beb3-8bfa012e9744",
   "metadata": {},
   "outputs": [
    {
     "data": {
      "text/html": [
       "<table>\n",
       "<tbody>\n",
       "\t<tr><td>23</td><td>78</td></tr>\n",
       "\t<tr><td>56</td><td>90</td></tr>\n",
       "\t<tr><td>67</td><td>45</td></tr>\n",
       "</tbody>\n",
       "</table>\n"
      ],
      "text/latex": [
       "\\begin{tabular}{ll}\n",
       "\t 23 & 78\\\\\n",
       "\t 56 & 90\\\\\n",
       "\t 67 & 45\\\\\n",
       "\\end{tabular}\n"
      ],
      "text/markdown": [
       "\n",
       "| 23 | 78 |\n",
       "| 56 | 90 |\n",
       "| 67 | 45 |\n",
       "\n"
      ],
      "text/plain": [
       "     [,1] [,2]\n",
       "[1,] 23   78  \n",
       "[2,] 56   90  \n",
       "[3,] 67   45  "
      ]
     },
     "metadata": {},
     "output_type": "display_data"
    }
   ],
   "source": [
    "student.scores <- array(c(23, 56, 67, 78, 90, 45, 67), dim=c(3,2))\n",
    "student.scores"
   ]
  },
  {
   "cell_type": "code",
   "execution_count": 5,
   "id": "bebadf9a-bdb0-4905-886f-48d9cbc825be",
   "metadata": {},
   "outputs": [
    {
     "data": {
      "text/html": [
       "'matrix'"
      ],
      "text/latex": [
       "'matrix'"
      ],
      "text/markdown": [
       "'matrix'"
      ],
      "text/plain": [
       "[1] \"matrix\""
      ]
     },
     "metadata": {},
     "output_type": "display_data"
    }
   ],
   "source": [
    "class(student.scores)"
   ]
  },
  {
   "cell_type": "code",
   "execution_count": 7,
   "id": "29092975-07a9-4316-91e0-be4db840e883",
   "metadata": {},
   "outputs": [
    {
     "data": {
      "text/html": [
       "TRUE"
      ],
      "text/latex": [
       "TRUE"
      ],
      "text/markdown": [
       "TRUE"
      ],
      "text/plain": [
       "[1] TRUE"
      ]
     },
     "metadata": {},
     "output_type": "display_data"
    }
   ],
   "source": [
    "is.matrix(student.scores)"
   ]
  },
  {
   "cell_type": "code",
   "execution_count": 13,
   "id": "e3e419fc-e634-4753-a9c6-66950aaa48bc",
   "metadata": {},
   "outputs": [
    {
     "data": {
      "text/html": [
       "TRUE"
      ],
      "text/latex": [
       "TRUE"
      ],
      "text/markdown": [
       "TRUE"
      ],
      "text/plain": [
       "[1] TRUE"
      ]
     },
     "metadata": {},
     "output_type": "display_data"
    }
   ],
   "source": [
    "is.array(student.scores) #Every matrix is a 2D array, but all arrays are not matrix"
   ]
  },
  {
   "cell_type": "code",
   "execution_count": 15,
   "id": "2b202132-eba0-457e-bf0e-f7eed9a2f2ea",
   "metadata": {},
   "outputs": [
    {
     "data": {
      "text/html": [
       "FALSE"
      ],
      "text/latex": [
       "FALSE"
      ],
      "text/markdown": [
       "FALSE"
      ],
      "text/plain": [
       "[1] FALSE"
      ]
     },
     "metadata": {},
     "output_type": "display_data"
    }
   ],
   "source": [
    "is.vector(student.scores) "
   ]
  },
  {
   "cell_type": "code",
   "execution_count": 23,
   "id": "fdfa9fc8-0e5e-4720-a250-283cce5e5b40",
   "metadata": {},
   "outputs": [
    {
     "data": {
      "text/html": [
       "<table>\n",
       "<thead><tr><th></th><th scope=col>Math</th><th scope=col>English</th></tr></thead>\n",
       "<tbody>\n",
       "\t<tr><th scope=row>Julia</th><td>23</td><td>78</td></tr>\n",
       "\t<tr><th scope=row>James</th><td>56</td><td>90</td></tr>\n",
       "\t<tr><th scope=row>Peter</th><td>67</td><td>45</td></tr>\n",
       "</tbody>\n",
       "</table>\n"
      ],
      "text/latex": [
       "\\begin{tabular}{r|ll}\n",
       "  & Math & English\\\\\n",
       "\\hline\n",
       "\tJulia & 23 & 78\\\\\n",
       "\tJames & 56 & 90\\\\\n",
       "\tPeter & 67 & 45\\\\\n",
       "\\end{tabular}\n"
      ],
      "text/markdown": [
       "\n",
       "| <!--/--> | Math | English |\n",
       "|---|---|---|\n",
       "| Julia | 23 | 78 |\n",
       "| James | 56 | 90 |\n",
       "| Peter | 67 | 45 |\n",
       "\n"
      ],
      "text/plain": [
       "      Math English\n",
       "Julia 23   78     \n",
       "James 56   90     \n",
       "Peter 67   45     "
      ]
     },
     "metadata": {},
     "output_type": "display_data"
    }
   ],
   "source": [
    "student.scores.midterm <- array(c(23, 56, 67, 78, 90, 45, 67), dim=c(3,2),\n",
    "                       dimnames = list(c('Julia', 'James', 'Peter'), c('Math', 'English')))\n",
    "student.scores.midterm"
   ]
  },
  {
   "cell_type": "code",
   "execution_count": 25,
   "id": "b1fe8244-b79e-4b4b-acfa-7a65bf82890d",
   "metadata": {},
   "outputs": [
    {
     "data": {
      "text/html": [
       "<table>\n",
       "<thead><tr><th></th><th scope=col>Math</th><th scope=col>English</th></tr></thead>\n",
       "<tbody>\n",
       "\t<tr><th scope=row>Julia</th><td>45 </td><td>100</td></tr>\n",
       "\t<tr><th scope=row>James</th><td>56 </td><td> 95</td></tr>\n",
       "\t<tr><th scope=row>Peter</th><td>68 </td><td> 55</td></tr>\n",
       "</tbody>\n",
       "</table>\n"
      ],
      "text/latex": [
       "\\begin{tabular}{r|ll}\n",
       "  & Math & English\\\\\n",
       "\\hline\n",
       "\tJulia & 45  & 100\\\\\n",
       "\tJames & 56  &  95\\\\\n",
       "\tPeter & 68  &  55\\\\\n",
       "\\end{tabular}\n"
      ],
      "text/markdown": [
       "\n",
       "| <!--/--> | Math | English |\n",
       "|---|---|---|\n",
       "| Julia | 45  | 100 |\n",
       "| James | 56  |  95 |\n",
       "| Peter | 68  |  55 |\n",
       "\n"
      ],
      "text/plain": [
       "      Math English\n",
       "Julia 45   100    \n",
       "James 56    95    \n",
       "Peter 68    55    "
      ]
     },
     "metadata": {},
     "output_type": "display_data"
    }
   ],
   "source": [
    "student.scores.endterm <- array(c(45, 56, 68, 100, 95, 55, 77), dim=c(3,2),\n",
    "                       dimnames = list(c('Julia', 'James', 'Peter'), c('Math', 'English')))\n",
    "student.scores.endterm"
   ]
  },
  {
   "cell_type": "code",
   "execution_count": 29,
   "id": "06b1580e-67ca-4397-8157-851fb1c29038",
   "metadata": {},
   "outputs": [
    {
     "data": {
      "text/html": [
       "<ol class=list-inline>\n",
       "\t<li>23</li>\n",
       "\t<li>56</li>\n",
       "\t<li>67</li>\n",
       "\t<li>78</li>\n",
       "\t<li>90</li>\n",
       "\t<li>45</li>\n",
       "\t<li>45</li>\n",
       "\t<li>56</li>\n",
       "\t<li>68</li>\n",
       "\t<li>100</li>\n",
       "\t<li>95</li>\n",
       "\t<li>55</li>\n",
       "</ol>\n"
      ],
      "text/latex": [
       "\\begin{enumerate*}\n",
       "\\item 23\n",
       "\\item 56\n",
       "\\item 67\n",
       "\\item 78\n",
       "\\item 90\n",
       "\\item 45\n",
       "\\item 45\n",
       "\\item 56\n",
       "\\item 68\n",
       "\\item 100\n",
       "\\item 95\n",
       "\\item 55\n",
       "\\end{enumerate*}\n"
      ],
      "text/markdown": [
       "1. 23\n",
       "2. 56\n",
       "3. 67\n",
       "4. 78\n",
       "5. 90\n",
       "6. 45\n",
       "7. 45\n",
       "8. 56\n",
       "9. 68\n",
       "10. 100\n",
       "11. 95\n",
       "12. 55\n",
       "\n",
       "\n"
      ],
      "text/plain": [
       ", , 1\n",
       "\n",
       "     [,1] [,2]\n",
       "[1,]   23   78\n",
       "[2,]   56   90\n",
       "[3,]   67   45\n",
       "\n",
       ", , 2\n",
       "\n",
       "     [,1] [,2]\n",
       "[1,]   45  100\n",
       "[2,]   56   95\n",
       "[3,]   68   55\n"
      ]
     },
     "metadata": {},
     "output_type": "display_data"
    }
   ],
   "source": [
    "all.scores <- array(c(student.scores.midterm, student.scores.endterm), dim = c(3,2,2))\n",
    "all.scores"
   ]
  },
  {
   "cell_type": "code",
   "execution_count": 31,
   "id": "1e39f817-1f06-4fb9-b85c-c88068cc3261",
   "metadata": {},
   "outputs": [
    {
     "name": "stdout",
     "output_type": "stream",
     "text": [
      ", , 1\n",
      "\n",
      "     [,1] [,2]\n",
      "[1,]   23   78\n",
      "[2,]   56   90\n",
      "[3,]   67   45\n",
      "\n",
      ", , 2\n",
      "\n",
      "     [,1] [,2]\n",
      "[1,]   45  100\n",
      "[2,]   56   95\n",
      "[3,]   68   55\n",
      "\n"
     ]
    }
   ],
   "source": [
    "print(all.scores)"
   ]
  },
  {
   "cell_type": "code",
   "execution_count": 37,
   "id": "d7de0124-d105-4821-9dd8-d4cc34144b6a",
   "metadata": {},
   "outputs": [
    {
     "name": "stdout",
     "output_type": "stream",
     "text": [
      ", , Midterm\n",
      "\n",
      "      Math English\n",
      "Julia   23      78\n",
      "James   56      90\n",
      "Peter   67      45\n",
      "\n",
      ", , Endterm\n",
      "\n",
      "      Math English\n",
      "Julia   45     100\n",
      "James   56      95\n",
      "Peter   68      55\n",
      "\n"
     ]
    }
   ],
   "source": [
    "all.scores <- array(c(student.scores.midterm, student.scores.endterm), dim = c(3,2,2),\n",
    "                   dimnames = list(c('Julia', 'James', 'Peter'), c('Math', 'English'), c('Midterm', 'Endterm')))\n",
    "print(all.scores)"
   ]
  },
  {
   "cell_type": "code",
   "execution_count": 39,
   "id": "632841d5-eaa9-4342-add7-c8d591311782",
   "metadata": {},
   "outputs": [
    {
     "data": {
      "text/html": [
       "FALSE"
      ],
      "text/latex": [
       "FALSE"
      ],
      "text/markdown": [
       "FALSE"
      ],
      "text/plain": [
       "[1] FALSE"
      ]
     },
     "metadata": {},
     "output_type": "display_data"
    }
   ],
   "source": [
    "is.matrix(all.scores)"
   ]
  },
  {
   "cell_type": "code",
   "execution_count": 41,
   "id": "a8da411c-ca36-4723-a6ca-2bc1ac706068",
   "metadata": {},
   "outputs": [
    {
     "data": {
      "text/html": [
       "TRUE"
      ],
      "text/latex": [
       "TRUE"
      ],
      "text/markdown": [
       "TRUE"
      ],
      "text/plain": [
       "[1] TRUE"
      ]
     },
     "metadata": {},
     "output_type": "display_data"
    }
   ],
   "source": [
    "is.array(all.scores)"
   ]
  },
  {
   "cell_type": "code",
   "execution_count": 43,
   "id": "5b3402fd-5f3d-4041-aa57-dffa4188a2c8",
   "metadata": {},
   "outputs": [
    {
     "data": {
      "text/html": [
       "<ol class=list-inline>\n",
       "\t<li>3</li>\n",
       "\t<li>2</li>\n",
       "\t<li>2</li>\n",
       "</ol>\n"
      ],
      "text/latex": [
       "\\begin{enumerate*}\n",
       "\\item 3\n",
       "\\item 2\n",
       "\\item 2\n",
       "\\end{enumerate*}\n"
      ],
      "text/markdown": [
       "1. 3\n",
       "2. 2\n",
       "3. 2\n",
       "\n",
       "\n"
      ],
      "text/plain": [
       "[1] 3 2 2"
      ]
     },
     "metadata": {},
     "output_type": "display_data"
    }
   ],
   "source": [
    "dim(all.scores)"
   ]
  },
  {
   "cell_type": "code",
   "execution_count": 45,
   "id": "332fa8a1-ea29-4a9d-9e91-084c1abf3a38",
   "metadata": {},
   "outputs": [
    {
     "data": {
      "text/html": [
       "23"
      ],
      "text/latex": [
       "23"
      ],
      "text/markdown": [
       "23"
      ],
      "text/plain": [
       "[1] 23"
      ]
     },
     "metadata": {},
     "output_type": "display_data"
    }
   ],
   "source": [
    "all.scores[1,1,1]"
   ]
  },
  {
   "cell_type": "code",
   "execution_count": 51,
   "id": "bbdb0aef-a8ce-4dcd-b7f5-2165f45ab410",
   "metadata": {},
   "outputs": [
    {
     "data": {
      "text/html": [
       "<dl class=dl-horizontal>\n",
       "\t<dt>Math</dt>\n",
       "\t\t<dd>56</dd>\n",
       "\t<dt>English</dt>\n",
       "\t\t<dd>95</dd>\n",
       "</dl>\n"
      ],
      "text/latex": [
       "\\begin{description*}\n",
       "\\item[Math] 56\n",
       "\\item[English] 95\n",
       "\\end{description*}\n"
      ],
      "text/markdown": [
       "Math\n",
       ":   56English\n",
       ":   95\n",
       "\n"
      ],
      "text/plain": [
       "   Math English \n",
       "     56      95 "
      ]
     },
     "metadata": {},
     "output_type": "display_data"
    }
   ],
   "source": [
    "all.scores['James', ,'Endterm']"
   ]
  },
  {
   "cell_type": "code",
   "execution_count": 57,
   "id": "860aeda1-e15e-4194-a4d4-11096e70efdb",
   "metadata": {},
   "outputs": [
    {
     "data": {
      "text/html": [
       "<dl class=dl-horizontal>\n",
       "\t<dt>Midterm</dt>\n",
       "\t\t<dd>56</dd>\n",
       "\t<dt>Endterm</dt>\n",
       "\t\t<dd>56</dd>\n",
       "</dl>\n"
      ],
      "text/latex": [
       "\\begin{description*}\n",
       "\\item[Midterm] 56\n",
       "\\item[Endterm] 56\n",
       "\\end{description*}\n"
      ],
      "text/markdown": [
       "Midterm\n",
       ":   56Endterm\n",
       ":   56\n",
       "\n"
      ],
      "text/plain": [
       "Midterm Endterm \n",
       "     56      56 "
      ]
     },
     "metadata": {},
     "output_type": "display_data"
    }
   ],
   "source": [
    "all.scores['James','Math',]"
   ]
  },
  {
   "cell_type": "code",
   "execution_count": 61,
   "id": "15e3b39b-1ff4-47bf-895c-3a8108ed884d",
   "metadata": {},
   "outputs": [
    {
     "name": "stdout",
     "output_type": "stream",
     "text": [
      ", , Midterm\n",
      "\n",
      "      Math English\n",
      "Julia   23      78\n",
      "James   56      90\n",
      "Peter   67      45\n",
      "\n",
      ", , Endterm\n",
      "\n",
      "      Math English\n",
      "Julia 49.5   110.0\n",
      "James 61.6   104.5\n",
      "Peter 74.8    60.5\n",
      "\n"
     ]
    }
   ],
   "source": [
    "all.scores[,,'Endterm'] <- all.scores[,,'Endterm'] * 1.1\n",
    "print(all.scores)"
   ]
  }
 ],
 "metadata": {
  "kernelspec": {
   "display_name": "R",
   "language": "R",
   "name": "ir"
  },
  "language_info": {
   "codemirror_mode": "r",
   "file_extension": ".r",
   "mimetype": "text/x-r-source",
   "name": "R",
   "pygments_lexer": "r",
   "version": "3.6.1"
  }
 },
 "nbformat": 4,
 "nbformat_minor": 5
}
