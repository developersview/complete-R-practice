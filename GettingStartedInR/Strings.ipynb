{
 "cells": [
  {
   "cell_type": "code",
   "execution_count": 1,
   "id": "f805158f-5418-40c6-93b2-bde5f2b70142",
   "metadata": {},
   "outputs": [
    {
     "data": {
      "text/html": [
       "'Strings are usually specified using a double quotes'"
      ],
      "text/latex": [
       "'Strings are usually specified using a double quotes'"
      ],
      "text/markdown": [
       "'Strings are usually specified using a double quotes'"
      ],
      "text/plain": [
       "[1] \"Strings are usually specified using a double quotes\""
      ]
     },
     "metadata": {},
     "output_type": "display_data"
    }
   ],
   "source": [
    "a <- \"Strings are usually specified using a double quotes\"\n",
    "a"
   ]
  },
  {
   "cell_type": "code",
   "execution_count": 3,
   "id": "842be49b-7bb5-4991-b748-04d8096d47ba",
   "metadata": {},
   "outputs": [
    {
     "data": {
      "text/html": [
       "'Use single quotes to enclose a \"double quotes\"'"
      ],
      "text/latex": [
       "'Use single quotes to enclose a \"double quotes\"'"
      ],
      "text/markdown": [
       "'Use single quotes to enclose a \"double quotes\"'"
      ],
      "text/plain": [
       "[1] \"Use single quotes to enclose a \\\"double quotes\\\"\""
      ]
     },
     "metadata": {},
     "output_type": "display_data"
    }
   ],
   "source": [
    "b <- 'Use single quotes to enclose a \"double quotes\"'\n",
    "b"
   ]
  },
  {
   "cell_type": "code",
   "execution_count": 5,
   "id": "55e2513e-6f63-4419-9529-93e93a28af0b",
   "metadata": {},
   "outputs": [
    {
     "data": {
      "text/html": [
       "<ol class=list-inline>\n",
       "\t<li>NA</li>\n",
       "\t<li>NA</li>\n",
       "</ol>\n"
      ],
      "text/latex": [
       "\\begin{enumerate*}\n",
       "\\item NA\n",
       "\\item NA\n",
       "\\end{enumerate*}\n"
      ],
      "text/markdown": [
       "1. NA\n",
       "2. NA\n",
       "\n",
       "\n"
      ],
      "text/plain": [
       "[1] NA NA"
      ]
     },
     "metadata": {},
     "output_type": "display_data"
    }
   ],
   "source": [
    "a[3:4] #doesnot work like python"
   ]
  },
  {
   "cell_type": "code",
   "execution_count": 7,
   "id": "ef80a09b-e1ad-407c-b6c4-d25dc974b9fc",
   "metadata": {},
   "outputs": [
    {
     "data": {
      "text/html": [
       "'character'"
      ],
      "text/latex": [
       "'character'"
      ],
      "text/markdown": [
       "'character'"
      ],
      "text/plain": [
       "[1] \"character\""
      ]
     },
     "metadata": {},
     "output_type": "display_data"
    }
   ],
   "source": [
    "class(a)"
   ]
  },
  {
   "cell_type": "code",
   "execution_count": 9,
   "id": "2b3cdd44-3ba3-49d6-be13-f1329157da2d",
   "metadata": {},
   "outputs": [],
   "source": [
    "first.name <- 'Harry'\n",
    "last.name <- 'Potter'\n"
   ]
  },
  {
   "cell_type": "code",
   "execution_count": 11,
   "id": "96c3f723-cabb-4fb1-9e59-11d7f05a16d0",
   "metadata": {},
   "outputs": [
    {
     "ename": "ERROR",
     "evalue": "Error in first.name + last.name: non-numeric argument to binary operator\n",
     "output_type": "error",
     "traceback": [
      "Error in first.name + last.name: non-numeric argument to binary operator\nTraceback:\n"
     ]
    }
   ],
   "source": [
    "first.name + last.name"
   ]
  },
  {
   "cell_type": "code",
   "execution_count": 13,
   "id": "de411842-1097-4beb-8ba3-23135842601c",
   "metadata": {},
   "outputs": [
    {
     "name": "stdout",
     "output_type": "stream",
     "text": [
      "Harry Potter"
     ]
    }
   ],
   "source": [
    "cat(first.name, last.name)"
   ]
  },
  {
   "cell_type": "code",
   "execution_count": 15,
   "id": "490fb3d9-a3a0-4d2e-a0e2-c697bf9b35c5",
   "metadata": {},
   "outputs": [
    {
     "data": {
      "text/html": [
       "1"
      ],
      "text/latex": [
       "1"
      ],
      "text/markdown": [
       "1"
      ],
      "text/plain": [
       "[1] 1"
      ]
     },
     "metadata": {},
     "output_type": "display_data"
    }
   ],
   "source": [
    "length(first.name)"
   ]
  },
  {
   "cell_type": "code",
   "execution_count": 17,
   "id": "9d3c2427-68f7-432e-bd4e-df684bd9aece",
   "metadata": {},
   "outputs": [
    {
     "data": {
      "text/html": [
       "5"
      ],
      "text/latex": [
       "5"
      ],
      "text/markdown": [
       "5"
      ],
      "text/plain": [
       "[1] 5"
      ]
     },
     "metadata": {},
     "output_type": "display_data"
    }
   ],
   "source": [
    "nchar(first.name)"
   ]
  },
  {
   "cell_type": "code",
   "execution_count": 19,
   "id": "6bf32f63-3477-421f-bec9-f5888f033260",
   "metadata": {},
   "outputs": [
    {
     "name": "stdout",
     "output_type": "stream",
     "text": [
      "abc xyz qwe"
     ]
    }
   ],
   "source": [
    "cat('abc', c('xyz', 'qwe'))"
   ]
  },
  {
   "cell_type": "code",
   "execution_count": 21,
   "id": "93fac18d-1c35-4f19-bc60-edd4b097eba2",
   "metadata": {},
   "outputs": [
    {
     "data": {
      "text/html": [
       "<ol class=list-inline>\n",
       "\t<li>'abc xyz'</li>\n",
       "\t<li>'abc qwe'</li>\n",
       "</ol>\n"
      ],
      "text/latex": [
       "\\begin{enumerate*}\n",
       "\\item 'abc xyz'\n",
       "\\item 'abc qwe'\n",
       "\\end{enumerate*}\n"
      ],
      "text/markdown": [
       "1. 'abc xyz'\n",
       "2. 'abc qwe'\n",
       "\n",
       "\n"
      ],
      "text/plain": [
       "[1] \"abc xyz\" \"abc qwe\""
      ]
     },
     "metadata": {},
     "output_type": "display_data"
    }
   ],
   "source": [
    "paste('abc', c('xyz', 'qwe'))"
   ]
  },
  {
   "cell_type": "code",
   "execution_count": 25,
   "id": "0aa6e278-7e03-437d-82de-c4f81222c296",
   "metadata": {},
   "outputs": [
    {
     "data": {
      "text/html": [
       "<ol class=list-inline>\n",
       "\t<li>'abc**xyz'</li>\n",
       "\t<li>'abc**qwe'</li>\n",
       "</ol>\n"
      ],
      "text/latex": [
       "\\begin{enumerate*}\n",
       "\\item 'abc**xyz'\n",
       "\\item 'abc**qwe'\n",
       "\\end{enumerate*}\n"
      ],
      "text/markdown": [
       "1. 'abc**xyz'\n",
       "2. 'abc**qwe'\n",
       "\n",
       "\n"
      ],
      "text/plain": [
       "[1] \"abc**xyz\" \"abc**qwe\""
      ]
     },
     "metadata": {},
     "output_type": "display_data"
    }
   ],
   "source": [
    "paste('abc', c('xyz', 'qwe'), sep='**')"
   ]
  },
  {
   "cell_type": "code",
   "execution_count": 29,
   "id": "edf44ea9-88cd-42a7-8af9-8dc864e600e7",
   "metadata": {},
   "outputs": [
    {
     "data": {
      "text/html": [
       "'Welcome to World of R Programming'"
      ],
      "text/latex": [
       "'Welcome to World of R Programming'"
      ],
      "text/markdown": [
       "'Welcome to World of R Programming'"
      ],
      "text/plain": [
       "[1] \"Welcome to World of R Programming\""
      ]
     },
     "metadata": {},
     "output_type": "display_data"
    }
   ],
   "source": [
    "wl <- 'Welcome to World of R Programming'\n",
    "wl"
   ]
  },
  {
   "cell_type": "code",
   "execution_count": 31,
   "id": "fe863eb0-f3fd-4497-bb3f-3bfd0bc0bba0",
   "metadata": {},
   "outputs": [
    {
     "data": {
      "text/html": [
       "'welcome to world of r programming'"
      ],
      "text/latex": [
       "'welcome to world of r programming'"
      ],
      "text/markdown": [
       "'welcome to world of r programming'"
      ],
      "text/plain": [
       "[1] \"welcome to world of r programming\""
      ]
     },
     "metadata": {},
     "output_type": "display_data"
    }
   ],
   "source": [
    "tolower(wl)"
   ]
  },
  {
   "cell_type": "code",
   "execution_count": 33,
   "id": "329249d0-4767-455c-9297-b3f0605f2e79",
   "metadata": {},
   "outputs": [
    {
     "data": {
      "text/html": [
       "'WELCOME TO WORLD OF R PROGRAMMING'"
      ],
      "text/latex": [
       "'WELCOME TO WORLD OF R PROGRAMMING'"
      ],
      "text/markdown": [
       "'WELCOME TO WORLD OF R PROGRAMMING'"
      ],
      "text/plain": [
       "[1] \"WELCOME TO WORLD OF R PROGRAMMING\""
      ]
     },
     "metadata": {},
     "output_type": "display_data"
    }
   ],
   "source": [
    "toupper(wl)"
   ]
  },
  {
   "cell_type": "code",
   "execution_count": 35,
   "id": "93f5d201-a133-42a0-a5f5-a31a308c5daf",
   "metadata": {},
   "outputs": [
    {
     "data": {
      "text/html": [
       "'Welcome'"
      ],
      "text/latex": [
       "'Welcome'"
      ],
      "text/markdown": [
       "'Welcome'"
      ],
      "text/plain": [
       "[1] \"Welcome\""
      ]
     },
     "metadata": {},
     "output_type": "display_data"
    }
   ],
   "source": [
    "substring(wl, 1, 7)"
   ]
  },
  {
   "cell_type": "code",
   "execution_count": 37,
   "id": "805911ca-230d-4913-a4e4-48a324719c60",
   "metadata": {},
   "outputs": [
    {
     "data": {
      "text/html": [
       "'to World of R Programming'"
      ],
      "text/latex": [
       "'to World of R Programming'"
      ],
      "text/markdown": [
       "'to World of R Programming'"
      ],
      "text/plain": [
       "[1] \"to World of R Programming\""
      ]
     },
     "metadata": {},
     "output_type": "display_data"
    }
   ],
   "source": [
    "substring(wl, 9)"
   ]
  },
  {
   "cell_type": "code",
   "execution_count": 41,
   "id": "0086f5c1-6ce0-4661-b445-0b2520dea53a",
   "metadata": {},
   "outputs": [
    {
     "data": {
      "text/html": [
       "<ol>\n",
       "\t<li><ol class=list-inline>\n",
       "\t<li>'Welcome'</li>\n",
       "\t<li>'to'</li>\n",
       "\t<li>'World'</li>\n",
       "\t<li>'of'</li>\n",
       "\t<li>'R'</li>\n",
       "\t<li>'Programming'</li>\n",
       "</ol>\n",
       "</li>\n",
       "</ol>\n"
      ],
      "text/latex": [
       "\\begin{enumerate}\n",
       "\\item \\begin{enumerate*}\n",
       "\\item 'Welcome'\n",
       "\\item 'to'\n",
       "\\item 'World'\n",
       "\\item 'of'\n",
       "\\item 'R'\n",
       "\\item 'Programming'\n",
       "\\end{enumerate*}\n",
       "\n",
       "\\end{enumerate}\n"
      ],
      "text/markdown": [
       "1. 1. 'Welcome'\n",
       "2. 'to'\n",
       "3. 'World'\n",
       "4. 'of'\n",
       "5. 'R'\n",
       "6. 'Programming'\n",
       "\n",
       "\n",
       "\n",
       "\n",
       "\n"
      ],
      "text/plain": [
       "[[1]]\n",
       "[1] \"Welcome\"     \"to\"          \"World\"       \"of\"          \"R\"          \n",
       "[6] \"Programming\"\n"
      ]
     },
     "metadata": {},
     "output_type": "display_data"
    }
   ],
   "source": [
    "strsplit(wl, \" \")"
   ]
  },
  {
   "cell_type": "code",
   "execution_count": 43,
   "id": "bc673c03-303d-4d02-869f-38eba1698794",
   "metadata": {},
   "outputs": [
    {
     "data": {
      "text/html": [
       "<ol class=list-inline>\n",
       "\t<li>10</li>\n",
       "\t<li>11</li>\n",
       "\t<li>12</li>\n",
       "\t<li>13</li>\n",
       "\t<li>14</li>\n",
       "\t<li>15</li>\n",
       "</ol>\n"
      ],
      "text/latex": [
       "\\begin{enumerate*}\n",
       "\\item 10\n",
       "\\item 11\n",
       "\\item 12\n",
       "\\item 13\n",
       "\\item 14\n",
       "\\item 15\n",
       "\\end{enumerate*}\n"
      ],
      "text/markdown": [
       "1. 10\n",
       "2. 11\n",
       "3. 12\n",
       "4. 13\n",
       "5. 14\n",
       "6. 15\n",
       "\n",
       "\n"
      ],
      "text/plain": [
       "[1] 10 11 12 13 14 15"
      ]
     },
     "metadata": {},
     "output_type": "display_data"
    }
   ],
   "source": [
    "s <- 10:15\n",
    "s"
   ]
  },
  {
   "cell_type": "code",
   "execution_count": 45,
   "id": "655709b7-087c-4d11-9137-e45b4b554dab",
   "metadata": {},
   "outputs": [
    {
     "data": {
      "text/html": [
       "<ol class=list-inline>\n",
       "\t<li>3.16227766016838</li>\n",
       "\t<li>3.3166247903554</li>\n",
       "\t<li>3.46410161513775</li>\n",
       "\t<li>3.60555127546399</li>\n",
       "\t<li>3.74165738677394</li>\n",
       "\t<li>3.87298334620742</li>\n",
       "</ol>\n"
      ],
      "text/latex": [
       "\\begin{enumerate*}\n",
       "\\item 3.16227766016838\n",
       "\\item 3.3166247903554\n",
       "\\item 3.46410161513775\n",
       "\\item 3.60555127546399\n",
       "\\item 3.74165738677394\n",
       "\\item 3.87298334620742\n",
       "\\end{enumerate*}\n"
      ],
      "text/markdown": [
       "1. 3.16227766016838\n",
       "2. 3.3166247903554\n",
       "3. 3.46410161513775\n",
       "4. 3.60555127546399\n",
       "5. 3.74165738677394\n",
       "6. 3.87298334620742\n",
       "\n",
       "\n"
      ],
      "text/plain": [
       "[1] 3.162278 3.316625 3.464102 3.605551 3.741657 3.872983"
      ]
     },
     "metadata": {},
     "output_type": "display_data"
    }
   ],
   "source": [
    "s2 <- sqrt(s)\n",
    "s2"
   ]
  },
  {
   "cell_type": "code",
   "execution_count": 49,
   "id": "4658cd21-9326-4807-8c3b-9f0241a5dc1e",
   "metadata": {},
   "outputs": [
    {
     "data": {
      "text/html": [
       "<ol class=list-inline>\n",
       "\t<li>'3.162'</li>\n",
       "\t<li>'3.317'</li>\n",
       "\t<li>'3.464'</li>\n",
       "\t<li>'3.606'</li>\n",
       "\t<li>'3.742'</li>\n",
       "\t<li>'3.873'</li>\n",
       "</ol>\n"
      ],
      "text/latex": [
       "\\begin{enumerate*}\n",
       "\\item '3.162'\n",
       "\\item '3.317'\n",
       "\\item '3.464'\n",
       "\\item '3.606'\n",
       "\\item '3.742'\n",
       "\\item '3.873'\n",
       "\\end{enumerate*}\n"
      ],
      "text/markdown": [
       "1. '3.162'\n",
       "2. '3.317'\n",
       "3. '3.464'\n",
       "4. '3.606'\n",
       "5. '3.742'\n",
       "6. '3.873'\n",
       "\n",
       "\n"
      ],
      "text/plain": [
       "[1] \"3.162\" \"3.317\" \"3.464\" \"3.606\" \"3.742\" \"3.873\""
      ]
     },
     "metadata": {},
     "output_type": "display_data"
    }
   ],
   "source": [
    "formatC(s2)"
   ]
  },
  {
   "cell_type": "code",
   "execution_count": 63,
   "id": "ff8e4b45-7739-4288-b3de-1c0d626a093d",
   "metadata": {},
   "outputs": [
    {
     "data": {
      "text/html": [
       "<ol class=list-inline>\n",
       "\t<li>'3.162'</li>\n",
       "\t<li>'3.317'</li>\n",
       "\t<li>'3.464'</li>\n",
       "\t<li>'3.606'</li>\n",
       "\t<li>'3.742'</li>\n",
       "\t<li>'3.873'</li>\n",
       "</ol>\n"
      ],
      "text/latex": [
       "\\begin{enumerate*}\n",
       "\\item '3.162'\n",
       "\\item '3.317'\n",
       "\\item '3.464'\n",
       "\\item '3.606'\n",
       "\\item '3.742'\n",
       "\\item '3.873'\n",
       "\\end{enumerate*}\n"
      ],
      "text/markdown": [
       "1. '3.162'\n",
       "2. '3.317'\n",
       "3. '3.464'\n",
       "4. '3.606'\n",
       "5. '3.742'\n",
       "6. '3.873'\n",
       "\n",
       "\n"
      ],
      "text/plain": [
       "[1] \"3.162\" \"3.317\" \"3.464\" \"3.606\" \"3.742\" \"3.873\""
      ]
     },
     "metadata": {},
     "output_type": "display_data"
    }
   ],
   "source": [
    "formatC(s2, digits = 4)"
   ]
  },
  {
   "cell_type": "code",
   "execution_count": 65,
   "id": "9a8c41d5-ec2b-4033-94c3-338eb6d3723f",
   "metadata": {},
   "outputs": [
    {
     "data": {
      "text/html": [
       "<ol class=list-inline>\n",
       "\t<li>'3.16'</li>\n",
       "\t<li>'3.32'</li>\n",
       "\t<li>'3.46'</li>\n",
       "\t<li>'3.61'</li>\n",
       "\t<li>'3.74'</li>\n",
       "\t<li>'3.87'</li>\n",
       "</ol>\n"
      ],
      "text/latex": [
       "\\begin{enumerate*}\n",
       "\\item '3.16'\n",
       "\\item '3.32'\n",
       "\\item '3.46'\n",
       "\\item '3.61'\n",
       "\\item '3.74'\n",
       "\\item '3.87'\n",
       "\\end{enumerate*}\n"
      ],
      "text/markdown": [
       "1. '3.16'\n",
       "2. '3.32'\n",
       "3. '3.46'\n",
       "4. '3.61'\n",
       "5. '3.74'\n",
       "6. '3.87'\n",
       "\n",
       "\n"
      ],
      "text/plain": [
       "[1] \"3.16\" \"3.32\" \"3.46\" \"3.61\" \"3.74\" \"3.87\""
      ]
     },
     "metadata": {},
     "output_type": "display_data"
    }
   ],
   "source": [
    "formatC(s2, digits = 3) #rounding to significant digit"
   ]
  },
  {
   "cell_type": "code",
   "execution_count": 67,
   "id": "903d26c7-c383-4323-8016-24ab9ac676f4",
   "metadata": {},
   "outputs": [
    {
     "data": {
      "text/html": [
       "<ol class=list-inline>\n",
       "\t<li><span style=white-space:pre-wrap>'    3.16'</span></li>\n",
       "\t<li><span style=white-space:pre-wrap>'    3.32'</span></li>\n",
       "\t<li><span style=white-space:pre-wrap>'    3.46'</span></li>\n",
       "\t<li><span style=white-space:pre-wrap>'    3.61'</span></li>\n",
       "\t<li><span style=white-space:pre-wrap>'    3.74'</span></li>\n",
       "\t<li><span style=white-space:pre-wrap>'    3.87'</span></li>\n",
       "</ol>\n"
      ],
      "text/latex": [
       "\\begin{enumerate*}\n",
       "\\item '    3.16'\n",
       "\\item '    3.32'\n",
       "\\item '    3.46'\n",
       "\\item '    3.61'\n",
       "\\item '    3.74'\n",
       "\\item '    3.87'\n",
       "\\end{enumerate*}\n"
      ],
      "text/markdown": [
       "1. <span style=white-space:pre-wrap>'    3.16'</span>\n",
       "2. <span style=white-space:pre-wrap>'    3.32'</span>\n",
       "3. <span style=white-space:pre-wrap>'    3.46'</span>\n",
       "4. <span style=white-space:pre-wrap>'    3.61'</span>\n",
       "5. <span style=white-space:pre-wrap>'    3.74'</span>\n",
       "6. <span style=white-space:pre-wrap>'    3.87'</span>\n",
       "\n",
       "\n"
      ],
      "text/plain": [
       "[1] \"    3.16\" \"    3.32\" \"    3.46\" \"    3.61\" \"    3.74\" \"    3.87\""
      ]
     },
     "metadata": {},
     "output_type": "display_data"
    }
   ],
   "source": [
    "formatC(s2, digits = 3, width=8)"
   ]
  },
  {
   "cell_type": "code",
   "execution_count": 69,
   "id": "5da38723-ee15-4c1d-8527-42d6ab5d08c3",
   "metadata": {},
   "outputs": [
    {
     "data": {
      "text/html": [
       "<ol class=list-inline>\n",
       "\t<li>'3.162e+00'</li>\n",
       "\t<li>'3.317e+00'</li>\n",
       "\t<li>'3.464e+00'</li>\n",
       "\t<li>'3.606e+00'</li>\n",
       "\t<li>'3.742e+00'</li>\n",
       "\t<li>'3.873e+00'</li>\n",
       "</ol>\n"
      ],
      "text/latex": [
       "\\begin{enumerate*}\n",
       "\\item '3.162e+00'\n",
       "\\item '3.317e+00'\n",
       "\\item '3.464e+00'\n",
       "\\item '3.606e+00'\n",
       "\\item '3.742e+00'\n",
       "\\item '3.873e+00'\n",
       "\\end{enumerate*}\n"
      ],
      "text/markdown": [
       "1. '3.162e+00'\n",
       "2. '3.317e+00'\n",
       "3. '3.464e+00'\n",
       "4. '3.606e+00'\n",
       "5. '3.742e+00'\n",
       "6. '3.873e+00'\n",
       "\n",
       "\n"
      ],
      "text/plain": [
       "[1] \"3.162e+00\" \"3.317e+00\" \"3.464e+00\" \"3.606e+00\" \"3.742e+00\" \"3.873e+00\""
      ]
     },
     "metadata": {},
     "output_type": "display_data"
    }
   ],
   "source": [
    "formatC(s2, digits = 3, format='e')"
   ]
  },
  {
   "cell_type": "code",
   "execution_count": 77,
   "id": "bf409662-eade-426f-8c59-2fcd629b37d0",
   "metadata": {},
   "outputs": [
    {
     "data": {
      "text/html": [
       "<ol class=list-inline>\n",
       "\t<li>'Number: 10 Sqaure root: 3.162278'</li>\n",
       "\t<li>'Number: 11 Sqaure root: 3.316625'</li>\n",
       "\t<li>'Number: 12 Sqaure root: 3.464102'</li>\n",
       "\t<li>'Number: 13 Sqaure root: 3.605551'</li>\n",
       "\t<li>'Number: 14 Sqaure root: 3.741657'</li>\n",
       "\t<li>'Number: 15 Sqaure root: 3.872983'</li>\n",
       "</ol>\n"
      ],
      "text/latex": [
       "\\begin{enumerate*}\n",
       "\\item 'Number: 10 Sqaure root: 3.162278'\n",
       "\\item 'Number: 11 Sqaure root: 3.316625'\n",
       "\\item 'Number: 12 Sqaure root: 3.464102'\n",
       "\\item 'Number: 13 Sqaure root: 3.605551'\n",
       "\\item 'Number: 14 Sqaure root: 3.741657'\n",
       "\\item 'Number: 15 Sqaure root: 3.872983'\n",
       "\\end{enumerate*}\n"
      ],
      "text/markdown": [
       "1. 'Number: 10 Sqaure root: 3.162278'\n",
       "2. 'Number: 11 Sqaure root: 3.316625'\n",
       "3. 'Number: 12 Sqaure root: 3.464102'\n",
       "4. 'Number: 13 Sqaure root: 3.605551'\n",
       "5. 'Number: 14 Sqaure root: 3.741657'\n",
       "6. 'Number: 15 Sqaure root: 3.872983'\n",
       "\n",
       "\n"
      ],
      "text/plain": [
       "[1] \"Number: 10 Sqaure root: 3.162278\" \"Number: 11 Sqaure root: 3.316625\"\n",
       "[3] \"Number: 12 Sqaure root: 3.464102\" \"Number: 13 Sqaure root: 3.605551\"\n",
       "[5] \"Number: 14 Sqaure root: 3.741657\" \"Number: 15 Sqaure root: 3.872983\""
      ]
     },
     "metadata": {},
     "output_type": "display_data"
    }
   ],
   "source": [
    "sprintf(\"%s %d %s %f\", 'Number:', s, 'Sqaure root:', s2) #vector recycling"
   ]
  },
  {
   "cell_type": "code",
   "execution_count": 79,
   "id": "ed023b2a-8ec2-47ca-a232-5a14e6c3f114",
   "metadata": {},
   "outputs": [
    {
     "data": {
      "text/html": [
       "<ol class=list-inline>\n",
       "\t<li>'Number: 10 Sqaure root: 3.162'</li>\n",
       "\t<li>'Number: 11 Sqaure root: 3.317'</li>\n",
       "\t<li>'Number: 12 Sqaure root: 3.464'</li>\n",
       "\t<li>'Number: 13 Sqaure root: 3.606'</li>\n",
       "\t<li>'Number: 14 Sqaure root: 3.742'</li>\n",
       "\t<li>'Number: 15 Sqaure root: 3.873'</li>\n",
       "</ol>\n"
      ],
      "text/latex": [
       "\\begin{enumerate*}\n",
       "\\item 'Number: 10 Sqaure root: 3.162'\n",
       "\\item 'Number: 11 Sqaure root: 3.317'\n",
       "\\item 'Number: 12 Sqaure root: 3.464'\n",
       "\\item 'Number: 13 Sqaure root: 3.606'\n",
       "\\item 'Number: 14 Sqaure root: 3.742'\n",
       "\\item 'Number: 15 Sqaure root: 3.873'\n",
       "\\end{enumerate*}\n"
      ],
      "text/markdown": [
       "1. 'Number: 10 Sqaure root: 3.162'\n",
       "2. 'Number: 11 Sqaure root: 3.317'\n",
       "3. 'Number: 12 Sqaure root: 3.464'\n",
       "4. 'Number: 13 Sqaure root: 3.606'\n",
       "5. 'Number: 14 Sqaure root: 3.742'\n",
       "6. 'Number: 15 Sqaure root: 3.873'\n",
       "\n",
       "\n"
      ],
      "text/plain": [
       "[1] \"Number: 10 Sqaure root: 3.162\" \"Number: 11 Sqaure root: 3.317\"\n",
       "[3] \"Number: 12 Sqaure root: 3.464\" \"Number: 13 Sqaure root: 3.606\"\n",
       "[5] \"Number: 14 Sqaure root: 3.742\" \"Number: 15 Sqaure root: 3.873\""
      ]
     },
     "metadata": {},
     "output_type": "display_data"
    }
   ],
   "source": [
    "sprintf(\"%s %d %s %.3f\", 'Number:', s, 'Sqaure root:', s2)"
   ]
  },
  {
   "cell_type": "code",
   "execution_count": 81,
   "id": "82e6fd5d-2f2a-41a0-905e-9f8756d4fe7a",
   "metadata": {},
   "outputs": [
    {
     "data": {
      "text/html": [
       "<ol class=list-inline>\n",
       "\t<li>'Number: 10 Sqaure root: 3.162278e+00'</li>\n",
       "\t<li>'Number: 11 Sqaure root: 3.316625e+00'</li>\n",
       "\t<li>'Number: 12 Sqaure root: 3.464102e+00'</li>\n",
       "\t<li>'Number: 13 Sqaure root: 3.605551e+00'</li>\n",
       "\t<li>'Number: 14 Sqaure root: 3.741657e+00'</li>\n",
       "\t<li>'Number: 15 Sqaure root: 3.872983e+00'</li>\n",
       "</ol>\n"
      ],
      "text/latex": [
       "\\begin{enumerate*}\n",
       "\\item 'Number: 10 Sqaure root: 3.162278e+00'\n",
       "\\item 'Number: 11 Sqaure root: 3.316625e+00'\n",
       "\\item 'Number: 12 Sqaure root: 3.464102e+00'\n",
       "\\item 'Number: 13 Sqaure root: 3.605551e+00'\n",
       "\\item 'Number: 14 Sqaure root: 3.741657e+00'\n",
       "\\item 'Number: 15 Sqaure root: 3.872983e+00'\n",
       "\\end{enumerate*}\n"
      ],
      "text/markdown": [
       "1. 'Number: 10 Sqaure root: 3.162278e+00'\n",
       "2. 'Number: 11 Sqaure root: 3.316625e+00'\n",
       "3. 'Number: 12 Sqaure root: 3.464102e+00'\n",
       "4. 'Number: 13 Sqaure root: 3.605551e+00'\n",
       "5. 'Number: 14 Sqaure root: 3.741657e+00'\n",
       "6. 'Number: 15 Sqaure root: 3.872983e+00'\n",
       "\n",
       "\n"
      ],
      "text/plain": [
       "[1] \"Number: 10 Sqaure root: 3.162278e+00\"\n",
       "[2] \"Number: 11 Sqaure root: 3.316625e+00\"\n",
       "[3] \"Number: 12 Sqaure root: 3.464102e+00\"\n",
       "[4] \"Number: 13 Sqaure root: 3.605551e+00\"\n",
       "[5] \"Number: 14 Sqaure root: 3.741657e+00\"\n",
       "[6] \"Number: 15 Sqaure root: 3.872983e+00\""
      ]
     },
     "metadata": {},
     "output_type": "display_data"
    }
   ],
   "source": [
    "sprintf(\"%s %d %s %e\", 'Number:', s, 'Sqaure root:', s2)"
   ]
  },
  {
   "cell_type": "code",
   "execution_count": 93,
   "id": "fd278661-72f8-4cf9-8b2d-d3dac7bc51be",
   "metadata": {},
   "outputs": [
    {
     "data": {
      "text/html": [
       "<table>\n",
       "<thead><tr><th scope=col>c1</th><th scope=col>c2</th><th scope=col>c3</th></tr></thead>\n",
       "<tbody>\n",
       "\t<tr><td>1</td><td>4</td><td>7</td></tr>\n",
       "\t<tr><td>2</td><td>5</td><td>8</td></tr>\n",
       "\t<tr><td>3</td><td>6</td><td>9</td></tr>\n",
       "</tbody>\n",
       "</table>\n"
      ],
      "text/latex": [
       "\\begin{tabular}{r|lll}\n",
       " c1 & c2 & c3\\\\\n",
       "\\hline\n",
       "\t 1 & 4 & 7\\\\\n",
       "\t 2 & 5 & 8\\\\\n",
       "\t 3 & 6 & 9\\\\\n",
       "\\end{tabular}\n"
      ],
      "text/markdown": [
       "\n",
       "| c1 | c2 | c3 |\n",
       "|---|---|---|\n",
       "| 1 | 4 | 7 |\n",
       "| 2 | 5 | 8 |\n",
       "| 3 | 6 | 9 |\n",
       "\n"
      ],
      "text/plain": [
       "  c1 c2 c3\n",
       "1 1  4  7 \n",
       "2 2  5  8 \n",
       "3 3  6  9 "
      ]
     },
     "metadata": {},
     "output_type": "display_data"
    }
   ],
   "source": [
    "num = data.frame(c1=c(1,2,3), c2=c(4,5,6), c3=c(7,8,9))\n",
    "num"
   ]
  },
  {
   "cell_type": "code",
   "execution_count": 95,
   "id": "002ecc1e-07dd-4d9f-876f-ef024bc8913c",
   "metadata": {},
   "outputs": [
    {
     "data": {
      "text/html": [
       "<table>\n",
       "<thead><tr><th></th><th scope=col>c1</th><th scope=col>c2</th><th scope=col>c3</th></tr></thead>\n",
       "<tbody>\n",
       "\t<tr><th scope=row>2</th><td>2</td><td>5</td><td>8</td></tr>\n",
       "</tbody>\n",
       "</table>\n"
      ],
      "text/latex": [
       "\\begin{tabular}{r|lll}\n",
       "  & c1 & c2 & c3\\\\\n",
       "\\hline\n",
       "\t2 & 2 & 5 & 8\\\\\n",
       "\\end{tabular}\n"
      ],
      "text/markdown": [
       "\n",
       "| <!--/--> | c1 | c2 | c3 |\n",
       "|---|---|---|---|\n",
       "| 2 | 2 | 5 | 8 |\n",
       "\n"
      ],
      "text/plain": [
       "  c1 c2 c3\n",
       "2 2  5  8 "
      ]
     },
     "metadata": {},
     "output_type": "display_data"
    }
   ],
   "source": [
    "num[num$c3==8,]"
   ]
  },
  {
   "cell_type": "code",
   "execution_count": 97,
   "id": "efd04ca8-a869-4a29-a5c2-a4879d0682a4",
   "metadata": {},
   "outputs": [
    {
     "data": {
      "text/html": [
       "<ol class=list-inline>\n",
       "\t<li>4</li>\n",
       "\t<li>5</li>\n",
       "\t<li>6</li>\n",
       "</ol>\n"
      ],
      "text/latex": [
       "\\begin{enumerate*}\n",
       "\\item 4\n",
       "\\item 5\n",
       "\\item 6\n",
       "\\end{enumerate*}\n"
      ],
      "text/markdown": [
       "1. 4\n",
       "2. 5\n",
       "3. 6\n",
       "\n",
       "\n"
      ],
      "text/plain": [
       "[1] 4 5 6"
      ]
     },
     "metadata": {},
     "output_type": "display_data"
    }
   ],
   "source": [
    "num[,num$c3==8]"
   ]
  },
  {
   "cell_type": "code",
   "execution_count": 103,
   "id": "5d5259f7-54c0-4c92-a8b5-4fd58f14f924",
   "metadata": {},
   "outputs": [
    {
     "ename": "ERROR",
     "evalue": "Error in .subset2(x, i, exact = exact): attempt to select less than one element in get1index <real>\n",
     "output_type": "error",
     "traceback": [
      "Error in .subset2(x, i, exact = exact): attempt to select less than one element in get1index <real>\nTraceback:\n",
      "1. num[[0]]",
      "2. `[[.data.frame`(num, 0)",
      "3. (function(x, i, exact) if (is.matrix(i)) as.matrix(x)[[i]] else .subset2(x, \n .     i, exact = exact))(x, ..., exact = exact)"
     ]
    }
   ],
   "source": [
    "num[[0]]"
   ]
  },
  {
   "cell_type": "code",
   "execution_count": 105,
   "id": "e9bbed85-a4d1-4e70-8247-9cb2f92e28f5",
   "metadata": {},
   "outputs": [],
   "source": [
    "df=data.frame(id=123)"
   ]
  },
  {
   "cell_type": "code",
   "execution_count": 107,
   "id": "16d20899-f9f7-42ab-a485-484e5688c030",
   "metadata": {},
   "outputs": [
    {
     "data": {
      "text/html": [
       "<table>\n",
       "<thead><tr><th scope=col>id</th></tr></thead>\n",
       "<tbody>\n",
       "\t<tr><td>123</td></tr>\n",
       "</tbody>\n",
       "</table>\n"
      ],
      "text/latex": [
       "\\begin{tabular}{r|l}\n",
       " id\\\\\n",
       "\\hline\n",
       "\t 123\\\\\n",
       "\\end{tabular}\n"
      ],
      "text/markdown": [
       "\n",
       "| id |\n",
       "|---|\n",
       "| 123 |\n",
       "\n"
      ],
      "text/plain": [
       "  id \n",
       "1 123"
      ]
     },
     "metadata": {},
     "output_type": "display_data"
    }
   ],
   "source": [
    "df"
   ]
  },
  {
   "cell_type": "code",
   "execution_count": null,
   "id": "8a47c871-5d87-4c26-aca5-83b0379ffc99",
   "metadata": {},
   "outputs": [],
   "source": []
  }
 ],
 "metadata": {
  "kernelspec": {
   "display_name": "R",
   "language": "R",
   "name": "ir"
  },
  "language_info": {
   "codemirror_mode": "r",
   "file_extension": ".r",
   "mimetype": "text/x-r-source",
   "name": "R",
   "pygments_lexer": "r",
   "version": "3.6.1"
  }
 },
 "nbformat": 4,
 "nbformat_minor": 5
}
