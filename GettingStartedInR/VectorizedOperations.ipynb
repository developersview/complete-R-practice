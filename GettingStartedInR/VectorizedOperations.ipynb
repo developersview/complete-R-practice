{
 "cells": [
  {
   "cell_type": "code",
   "execution_count": 1,
   "id": "10e2ef5e-5352-43ef-8647-9e8b3e57c76f",
   "metadata": {},
   "outputs": [
    {
     "data": {
      "text/html": [
       "5"
      ],
      "text/latex": [
       "5"
      ],
      "text/markdown": [
       "5"
      ],
      "text/plain": [
       "[1] 5"
      ]
     },
     "metadata": {},
     "output_type": "display_data"
    }
   ],
   "source": [
    "1 + 4"
   ]
  },
  {
   "cell_type": "code",
   "execution_count": 3,
   "id": "5c1afafa-f242-4963-b88f-4cb9fdeb53cc",
   "metadata": {},
   "outputs": [
    {
     "data": {
      "text/html": [
       "<ol class=list-inline>\n",
       "\t<li>10</li>\n",
       "\t<li>11</li>\n",
       "\t<li>12</li>\n",
       "\t<li>13</li>\n",
       "\t<li>14</li>\n",
       "\t<li>15</li>\n",
       "</ol>\n"
      ],
      "text/latex": [
       "\\begin{enumerate*}\n",
       "\\item 10\n",
       "\\item 11\n",
       "\\item 12\n",
       "\\item 13\n",
       "\\item 14\n",
       "\\item 15\n",
       "\\end{enumerate*}\n"
      ],
      "text/markdown": [
       "1. 10\n",
       "2. 11\n",
       "3. 12\n",
       "4. 13\n",
       "5. 14\n",
       "6. 15\n",
       "\n",
       "\n"
      ],
      "text/plain": [
       "[1] 10 11 12 13 14 15"
      ]
     },
     "metadata": {},
     "output_type": "display_data"
    }
   ],
   "source": [
    "var.c <- 10:15\n",
    "var.c"
   ]
  },
  {
   "cell_type": "code",
   "execution_count": 7,
   "id": "2c958896-2d9a-466d-9975-b373ac51ffeb",
   "metadata": {},
   "outputs": [
    {
     "data": {
      "text/html": [
       "<ol class=list-inline>\n",
       "\t<li>6</li>\n",
       "\t<li>7</li>\n",
       "\t<li>8</li>\n",
       "\t<li>9</li>\n",
       "\t<li>10</li>\n",
       "\t<li>11</li>\n",
       "</ol>\n"
      ],
      "text/latex": [
       "\\begin{enumerate*}\n",
       "\\item 6\n",
       "\\item 7\n",
       "\\item 8\n",
       "\\item 9\n",
       "\\item 10\n",
       "\\item 11\n",
       "\\end{enumerate*}\n"
      ],
      "text/markdown": [
       "1. 6\n",
       "2. 7\n",
       "3. 8\n",
       "4. 9\n",
       "5. 10\n",
       "6. 11\n",
       "\n",
       "\n"
      ],
      "text/plain": [
       "[1]  6  7  8  9 10 11"
      ]
     },
     "metadata": {},
     "output_type": "display_data"
    }
   ],
   "source": [
    "result.sub <- var.c - 4\n",
    "result.sub"
   ]
  },
  {
   "cell_type": "code",
   "execution_count": 9,
   "id": "9ede4fdd-302e-48b6-8acb-485392611195",
   "metadata": {},
   "outputs": [
    {
     "data": {
      "text/html": [
       "<ol class=list-inline>\n",
       "\t<li>14</li>\n",
       "\t<li>15</li>\n",
       "\t<li>16</li>\n",
       "\t<li>17</li>\n",
       "\t<li>18</li>\n",
       "\t<li>19</li>\n",
       "</ol>\n"
      ],
      "text/latex": [
       "\\begin{enumerate*}\n",
       "\\item 14\n",
       "\\item 15\n",
       "\\item 16\n",
       "\\item 17\n",
       "\\item 18\n",
       "\\item 19\n",
       "\\end{enumerate*}\n"
      ],
      "text/markdown": [
       "1. 14\n",
       "2. 15\n",
       "3. 16\n",
       "4. 17\n",
       "5. 18\n",
       "6. 19\n",
       "\n",
       "\n"
      ],
      "text/plain": [
       "[1] 14 15 16 17 18 19"
      ]
     },
     "metadata": {},
     "output_type": "display_data"
    }
   ],
   "source": [
    "result.sub <- var.c + 4\n",
    "result.sub"
   ]
  },
  {
   "cell_type": "code",
   "execution_count": 11,
   "id": "d1c8d7a0-a3e8-4d4d-b182-722aba40923c",
   "metadata": {},
   "outputs": [
    {
     "data": {
      "text/html": [
       "<ol class=list-inline>\n",
       "\t<li>40</li>\n",
       "\t<li>44</li>\n",
       "\t<li>48</li>\n",
       "\t<li>52</li>\n",
       "\t<li>56</li>\n",
       "\t<li>60</li>\n",
       "</ol>\n"
      ],
      "text/latex": [
       "\\begin{enumerate*}\n",
       "\\item 40\n",
       "\\item 44\n",
       "\\item 48\n",
       "\\item 52\n",
       "\\item 56\n",
       "\\item 60\n",
       "\\end{enumerate*}\n"
      ],
      "text/markdown": [
       "1. 40\n",
       "2. 44\n",
       "3. 48\n",
       "4. 52\n",
       "5. 56\n",
       "6. 60\n",
       "\n",
       "\n"
      ],
      "text/plain": [
       "[1] 40 44 48 52 56 60"
      ]
     },
     "metadata": {},
     "output_type": "display_data"
    }
   ],
   "source": [
    "result.sub <- var.c * 4\n",
    "result.sub"
   ]
  },
  {
   "cell_type": "code",
   "execution_count": 13,
   "id": "4b4877bd-1b54-4e3f-9428-822783356932",
   "metadata": {},
   "outputs": [
    {
     "data": {
      "text/html": [
       "<ol class=list-inline>\n",
       "\t<li>2.5</li>\n",
       "\t<li>2.75</li>\n",
       "\t<li>3</li>\n",
       "\t<li>3.25</li>\n",
       "\t<li>3.5</li>\n",
       "\t<li>3.75</li>\n",
       "</ol>\n"
      ],
      "text/latex": [
       "\\begin{enumerate*}\n",
       "\\item 2.5\n",
       "\\item 2.75\n",
       "\\item 3\n",
       "\\item 3.25\n",
       "\\item 3.5\n",
       "\\item 3.75\n",
       "\\end{enumerate*}\n"
      ],
      "text/markdown": [
       "1. 2.5\n",
       "2. 2.75\n",
       "3. 3\n",
       "4. 3.25\n",
       "5. 3.5\n",
       "6. 3.75\n",
       "\n",
       "\n"
      ],
      "text/plain": [
       "[1] 2.50 2.75 3.00 3.25 3.50 3.75"
      ]
     },
     "metadata": {},
     "output_type": "display_data"
    }
   ],
   "source": [
    "result.sub <- var.c / 4\n",
    "result.sub"
   ]
  },
  {
   "cell_type": "code",
   "execution_count": 19,
   "id": "57fc9c01-a3cf-4919-8be8-98135c6cb0af",
   "metadata": {},
   "outputs": [
    {
     "data": {
      "text/html": [
       "<ol class=list-inline>\n",
       "\t<li>2</li>\n",
       "\t<li>2</li>\n",
       "\t<li>3</li>\n",
       "\t<li>3</li>\n",
       "\t<li>3</li>\n",
       "\t<li>3</li>\n",
       "</ol>\n"
      ],
      "text/latex": [
       "\\begin{enumerate*}\n",
       "\\item 2\n",
       "\\item 2\n",
       "\\item 3\n",
       "\\item 3\n",
       "\\item 3\n",
       "\\item 3\n",
       "\\end{enumerate*}\n"
      ],
      "text/markdown": [
       "1. 2\n",
       "2. 2\n",
       "3. 3\n",
       "4. 3\n",
       "5. 3\n",
       "6. 3\n",
       "\n",
       "\n"
      ],
      "text/plain": [
       "[1] 2 2 3 3 3 3"
      ]
     },
     "metadata": {},
     "output_type": "display_data"
    }
   ],
   "source": [
    "result.sub <- var.c %/% 4\n",
    "result.sub"
   ]
  },
  {
   "cell_type": "code",
   "execution_count": 33,
   "id": "11d96776-6b42-43fd-88ee-786a89affdb9",
   "metadata": {},
   "outputs": [
    {
     "name": "stdout",
     "output_type": "stream",
     "text": [
      "[1] 100 200 300 400 500\n",
      "[1] 1 2 3 4 5\n"
     ]
    }
   ],
   "source": [
    "a <- c(100, 200, 300, 400, 500)\n",
    "b <- c(1, 2, 3, 4, 5)\n",
    "print(a)\n",
    "print(b)"
   ]
  },
  {
   "cell_type": "code",
   "execution_count": 35,
   "id": "8c1c05ea-a3c7-4b13-9c08-0618b8f60b7a",
   "metadata": {},
   "outputs": [
    {
     "data": {
      "text/html": [
       "<ol class=list-inline>\n",
       "\t<li>101</li>\n",
       "\t<li>202</li>\n",
       "\t<li>303</li>\n",
       "\t<li>404</li>\n",
       "\t<li>505</li>\n",
       "</ol>\n"
      ],
      "text/latex": [
       "\\begin{enumerate*}\n",
       "\\item 101\n",
       "\\item 202\n",
       "\\item 303\n",
       "\\item 404\n",
       "\\item 505\n",
       "\\end{enumerate*}\n"
      ],
      "text/markdown": [
       "1. 101\n",
       "2. 202\n",
       "3. 303\n",
       "4. 404\n",
       "5. 505\n",
       "\n",
       "\n"
      ],
      "text/plain": [
       "[1] 101 202 303 404 505"
      ]
     },
     "metadata": {},
     "output_type": "display_data"
    }
   ],
   "source": [
    "c <- a + b\n",
    "c"
   ]
  },
  {
   "cell_type": "code",
   "execution_count": 37,
   "id": "31a98a6f-0e99-4056-89fa-f9825b95ab10",
   "metadata": {},
   "outputs": [
    {
     "data": {
      "text/html": [
       "<ol class=list-inline>\n",
       "\t<li>100</li>\n",
       "\t<li>40000</li>\n",
       "\t<li>2.7e+07</li>\n",
       "\t<li>2.56e+10</li>\n",
       "\t<li>3.125e+13</li>\n",
       "</ol>\n"
      ],
      "text/latex": [
       "\\begin{enumerate*}\n",
       "\\item 100\n",
       "\\item 40000\n",
       "\\item 2.7e+07\n",
       "\\item 2.56e+10\n",
       "\\item 3.125e+13\n",
       "\\end{enumerate*}\n"
      ],
      "text/markdown": [
       "1. 100\n",
       "2. 40000\n",
       "3. 2.7e+07\n",
       "4. 2.56e+10\n",
       "5. 3.125e+13\n",
       "\n",
       "\n"
      ],
      "text/plain": [
       "[1] 1.000e+02 4.000e+04 2.700e+07 2.560e+10 3.125e+13"
      ]
     },
     "metadata": {},
     "output_type": "display_data"
    }
   ],
   "source": [
    "c <- a ** b\n",
    "c"
   ]
  },
  {
   "cell_type": "code",
   "execution_count": 39,
   "id": "45a77b04-2b95-45f4-8aa8-b0fd5a3b36d6",
   "metadata": {},
   "outputs": [
    {
     "data": {
      "text/html": [
       "<ol class=list-inline>\n",
       "\t<li>100</li>\n",
       "\t<li>400</li>\n",
       "\t<li>900</li>\n",
       "\t<li>1600</li>\n",
       "\t<li>2500</li>\n",
       "</ol>\n"
      ],
      "text/latex": [
       "\\begin{enumerate*}\n",
       "\\item 100\n",
       "\\item 400\n",
       "\\item 900\n",
       "\\item 1600\n",
       "\\item 2500\n",
       "\\end{enumerate*}\n"
      ],
      "text/markdown": [
       "1. 100\n",
       "2. 400\n",
       "3. 900\n",
       "4. 1600\n",
       "5. 2500\n",
       "\n",
       "\n"
      ],
      "text/plain": [
       "[1]  100  400  900 1600 2500"
      ]
     },
     "metadata": {},
     "output_type": "display_data"
    }
   ],
   "source": [
    "c <- a * b\n",
    "c"
   ]
  },
  {
   "cell_type": "code",
   "execution_count": 41,
   "id": "5d89aed8-d308-4662-b74b-4fee642b18a6",
   "metadata": {},
   "outputs": [
    {
     "data": {
      "text/html": [
       "<ol class=list-inline>\n",
       "\t<li>100</li>\n",
       "\t<li>100</li>\n",
       "\t<li>100</li>\n",
       "\t<li>100</li>\n",
       "\t<li>100</li>\n",
       "</ol>\n"
      ],
      "text/latex": [
       "\\begin{enumerate*}\n",
       "\\item 100\n",
       "\\item 100\n",
       "\\item 100\n",
       "\\item 100\n",
       "\\item 100\n",
       "\\end{enumerate*}\n"
      ],
      "text/markdown": [
       "1. 100\n",
       "2. 100\n",
       "3. 100\n",
       "4. 100\n",
       "5. 100\n",
       "\n",
       "\n"
      ],
      "text/plain": [
       "[1] 100 100 100 100 100"
      ]
     },
     "metadata": {},
     "output_type": "display_data"
    }
   ],
   "source": [
    "c <- a / b\n",
    "c"
   ]
  },
  {
   "cell_type": "code",
   "execution_count": 53,
   "id": "675d25f9-d777-4f75-b1ff-18b894526768",
   "metadata": {},
   "outputs": [
    {
     "data": {
      "text/html": [
       "<ol class=list-inline>\n",
       "\t<li>0</li>\n",
       "\t<li>0</li>\n",
       "\t<li>0</li>\n",
       "\t<li>0</li>\n",
       "\t<li>0</li>\n",
       "</ol>\n"
      ],
      "text/latex": [
       "\\begin{enumerate*}\n",
       "\\item 0\n",
       "\\item 0\n",
       "\\item 0\n",
       "\\item 0\n",
       "\\item 0\n",
       "\\end{enumerate*}\n"
      ],
      "text/markdown": [
       "1. 0\n",
       "2. 0\n",
       "3. 0\n",
       "4. 0\n",
       "5. 0\n",
       "\n",
       "\n"
      ],
      "text/plain": [
       "[1] 0 0 0 0 0"
      ]
     },
     "metadata": {},
     "output_type": "display_data"
    }
   ],
   "source": [
    "c <- a %% b\n",
    "c"
   ]
  },
  {
   "cell_type": "code",
   "execution_count": 55,
   "id": "e4d31bf4-1e4d-488a-988f-cb93f1a8277d",
   "metadata": {},
   "outputs": [
    {
     "data": {
      "text/html": [
       "<ol class=list-inline>\n",
       "\t<li>12</li>\n",
       "\t<li>14</li>\n",
       "\t<li>16</li>\n",
       "</ol>\n"
      ],
      "text/latex": [
       "\\begin{enumerate*}\n",
       "\\item 12\n",
       "\\item 14\n",
       "\\item 16\n",
       "\\end{enumerate*}\n"
      ],
      "text/markdown": [
       "1. 12\n",
       "2. 14\n",
       "3. 16\n",
       "\n",
       "\n"
      ],
      "text/plain": [
       "[1] 12 14 16"
      ]
     },
     "metadata": {},
     "output_type": "display_data"
    }
   ],
   "source": [
    "1:3 + 11:13"
   ]
  },
  {
   "cell_type": "code",
   "execution_count": 57,
   "id": "1fd8f263-ab70-4b36-b7eb-8d97f9787c7b",
   "metadata": {},
   "outputs": [
    {
     "data": {
      "text/html": [
       "<ol class=list-inline>\n",
       "\t<li>-10</li>\n",
       "\t<li>-10</li>\n",
       "\t<li>-10</li>\n",
       "</ol>\n"
      ],
      "text/latex": [
       "\\begin{enumerate*}\n",
       "\\item -10\n",
       "\\item -10\n",
       "\\item -10\n",
       "\\end{enumerate*}\n"
      ],
      "text/markdown": [
       "1. -10\n",
       "2. -10\n",
       "3. -10\n",
       "\n",
       "\n"
      ],
      "text/plain": [
       "[1] -10 -10 -10"
      ]
     },
     "metadata": {},
     "output_type": "display_data"
    }
   ],
   "source": [
    "1:3 - 11:13"
   ]
  },
  {
   "cell_type": "code",
   "execution_count": 59,
   "id": "bee0a9e1-d157-4d1f-9534-773e3dfe771f",
   "metadata": {},
   "outputs": [
    {
     "data": {
      "text/html": [
       "165"
      ],
      "text/latex": [
       "165"
      ],
      "text/markdown": [
       "165"
      ],
      "text/plain": [
       "[1] 165"
      ]
     },
     "metadata": {},
     "output_type": "display_data"
    }
   ],
   "source": [
    "sum(10:20)"
   ]
  },
  {
   "cell_type": "code",
   "execution_count": 61,
   "id": "beb6e83e-197c-4a96-af37-3a3bb1e6e2ed",
   "metadata": {},
   "outputs": [
    {
     "data": {
      "text/html": [
       "55"
      ],
      "text/latex": [
       "55"
      ],
      "text/markdown": [
       "55"
      ],
      "text/plain": [
       "[1] 55"
      ]
     },
     "metadata": {},
     "output_type": "display_data"
    }
   ],
   "source": [
    "sum(1:10)"
   ]
  },
  {
   "cell_type": "code",
   "execution_count": 63,
   "id": "b46c524b-89cf-4d7e-a20d-8a466d197018",
   "metadata": {},
   "outputs": [
    {
     "data": {
      "text/html": [
       "15"
      ],
      "text/latex": [
       "15"
      ],
      "text/markdown": [
       "15"
      ],
      "text/plain": [
       "[1] 15"
      ]
     },
     "metadata": {},
     "output_type": "display_data"
    }
   ],
   "source": [
    "mean(10:20)"
   ]
  },
  {
   "cell_type": "code",
   "execution_count": 65,
   "id": "bd3d9cda-52f1-4fb8-94b3-8e634eda857d",
   "metadata": {},
   "outputs": [
    {
     "data": {
      "text/html": [
       "15"
      ],
      "text/latex": [
       "15"
      ],
      "text/markdown": [
       "15"
      ],
      "text/plain": [
       "[1] 15"
      ]
     },
     "metadata": {},
     "output_type": "display_data"
    }
   ],
   "source": [
    "median(10:20)"
   ]
  },
  {
   "cell_type": "code",
   "execution_count": 67,
   "id": "1dec3bc7-e001-4dd7-8c3a-2be552e1d957",
   "metadata": {},
   "outputs": [
    {
     "data": {
      "text/html": [
       "1000"
      ],
      "text/latex": [
       "1000"
      ],
      "text/markdown": [
       "1000"
      ],
      "text/plain": [
       "[1] 1000"
      ]
     },
     "metadata": {},
     "output_type": "display_data"
    }
   ],
   "source": [
    "sum(100, 200, 300, 400)"
   ]
  },
  {
   "cell_type": "code",
   "execution_count": 69,
   "id": "8608cafc-36ae-45a7-9d3b-7e128e8a46f4",
   "metadata": {},
   "outputs": [
    {
     "data": {
      "text/html": [
       "\n",
       "<table width=\"100%\" summary=\"page for Round {base}\"><tr><td>Round {base}</td><td style=\"text-align: right;\">R Documentation</td></tr></table>\n",
       "\n",
       "<h2>Rounding of Numbers</h2>\n",
       "\n",
       "<h3>Description</h3>\n",
       "\n",
       "<p><code>ceiling</code> takes a single numeric argument <code>x</code> and returns a\n",
       "numeric vector containing the smallest integers not less than the\n",
       "corresponding elements of <code>x</code>.\n",
       "</p>\n",
       "<p><code>floor</code> takes a single numeric argument <code>x</code> and returns a\n",
       "numeric vector containing the largest integers not greater than the\n",
       "corresponding elements of <code>x</code>.\n",
       "</p>\n",
       "<p><code>trunc</code> takes a single numeric argument <code>x</code> and returns a\n",
       "numeric vector containing the integers formed by truncating the values in\n",
       "<code>x</code> toward <code>0</code>.\n",
       "</p>\n",
       "<p><code>round</code> rounds the values in its first argument to the specified\n",
       "number of decimal places (default 0).  See &lsquo;Details&rsquo; about\n",
       "&ldquo;round to even&rdquo; when rounding off a 5.\n",
       "</p>\n",
       "<p><code>signif</code> rounds the values in its first argument to the specified\n",
       "number of significant digits.\n",
       "</p>\n",
       "\n",
       "\n",
       "<h3>Usage</h3>\n",
       "\n",
       "<pre>\n",
       "ceiling(x)\n",
       "floor(x)\n",
       "trunc(x, ...)\n",
       "\n",
       "round(x, digits = 0)\n",
       "signif(x, digits = 6)\n",
       "</pre>\n",
       "\n",
       "\n",
       "<h3>Arguments</h3>\n",
       "\n",
       "<table summary=\"R argblock\">\n",
       "<tr valign=\"top\"><td><code>x</code></td>\n",
       "<td>\n",
       "<p>a numeric vector.  Or, for <code>round</code> and <code>signif</code>, a\n",
       "complex vector.</p>\n",
       "</td></tr>\n",
       "<tr valign=\"top\"><td><code>digits</code></td>\n",
       "<td>\n",
       "<p>integer indicating the number of decimal places\n",
       "(<code>round</code>) or significant digits (<code>signif</code>) to be used.\n",
       "Negative values are allowed (see &lsquo;Details&rsquo;).</p>\n",
       "</td></tr>\n",
       "<tr valign=\"top\"><td><code>...</code></td>\n",
       "<td>\n",
       "<p>arguments to be passed to methods.</p>\n",
       "</td></tr>\n",
       "</table>\n",
       "\n",
       "\n",
       "<h3>Details</h3>\n",
       "\n",
       "<p>These are generic functions: methods can be defined for them\n",
       "individually or via the <code>Math</code> group\n",
       "generic.\n",
       "</p>\n",
       "<p>Note that for rounding off a 5, the IEC 60559 standard (see also\n",
       "&lsquo;IEEE 754&rsquo;) is expected to be used, &lsquo;<em>go to the even digit</em>&rsquo;.\n",
       "Therefore <code>round(0.5)</code> is <code>0</code> and <code>round(-1.5)</code> is\n",
       "<code>-2</code>.  However, this is dependent on OS services and on\n",
       "representation error (since e.g. <code>0.15</code> is not represented\n",
       "exactly, the rounding rule applies to the represented number and not\n",
       "to the printed number, and so <code>round(0.15, 1)</code> could be either\n",
       "<code>0.1</code> or <code>0.2</code>).\n",
       "</p>\n",
       "<p>Rounding to a negative number of digits means rounding to a power of\n",
       "ten, so for example <code>round(x, digits = -2)</code> rounds to the nearest\n",
       "hundred.\n",
       "</p>\n",
       "<p>For <code>signif</code> the recognized values of <code>digits</code> are\n",
       "<code>1...22</code>, and non-missing values are rounded to the nearest\n",
       "integer in that range.  Complex numbers are rounded to retain the\n",
       "specified number of digits in the larger of the components.  Each\n",
       "element of the vector is rounded individually, unlike printing.\n",
       "</p>\n",
       "<p>These are all primitive functions.\n",
       "</p>\n",
       "\n",
       "\n",
       "<h3>S4 methods</h3>\n",
       "\n",
       "<p>These are all (internally) S4 generic.\n",
       "</p>\n",
       "<p><code>ceiling</code>, <code>floor</code> and <code>trunc</code> are members of the\n",
       "<code>Math</code> group generic.  As an S4\n",
       "generic, <code>trunc</code> has only one argument.\n",
       "</p>\n",
       "<p><code>round</code> and <code>signif</code> are members of the\n",
       "<code>Math2</code> group generic.\n",
       "</p>\n",
       "\n",
       "\n",
       "<h3>Warning</h3>\n",
       "\n",
       "<p>The realities of computer arithmetic can cause unexpected results,\n",
       "especially with <code>floor</code> and <code>ceiling</code>.  For example, we\n",
       "&lsquo;know&rsquo; that <code>floor(log(x, base = 8))</code> for <code>x = 8</code> is\n",
       "<code>1</code>, but <code>0</code> has been seen on an <span style=\"font-family: Courier New, Courier; color: #666666;\"><b>R</b></span> platform.  It is\n",
       "normally necessary to use a tolerance.\n",
       "</p>\n",
       "\n",
       "\n",
       "<h3>References</h3>\n",
       "\n",
       "<p>Becker, R. A., Chambers, J. M. and Wilks, A. R. (1988)\n",
       "<em>The New S Language</em>.  Wadsworth &amp; Brooks/Cole.\n",
       "</p>\n",
       "<p>The ISO/IEC/IEEE 60559:2011 standard is available for money from\n",
       "<a href=\"https://www.iso.org\">https://www.iso.org</a>.\n",
       "</p>\n",
       "<p>The IEEE 745:2008 standard is more openly documented, e.g, at\n",
       "<a href=\"https://en.wikipedia.org/wiki/IEEE_754\">https://en.wikipedia.org/wiki/IEEE_754</a>.\n",
       "</p>\n",
       "\n",
       "\n",
       "<h3>See Also</h3>\n",
       "\n",
       "<p><code>as.integer</code>.\n",
       "</p>\n",
       "\n",
       "\n",
       "<h3>Examples</h3>\n",
       "\n",
       "<pre>\n",
       "round(.5 + -2:4) # IEEE / IEC rounding: -2  0  0  2  2  4  4\n",
       "## (this is *good* behaviour -- do *NOT* report it as bug !)\n",
       "\n",
       "( x1 &lt;- seq(-2, 4, by = .5) )\n",
       "round(x1) #-- IEEE / IEC rounding !\n",
       "x1[trunc(x1) != floor(x1)]\n",
       "x1[round(x1) != floor(x1 + .5)]\n",
       "(non.int &lt;- ceiling(x1) != floor(x1))\n",
       "\n",
       "x2 &lt;- pi * 100^(-1:3)\n",
       "round(x2, 3)\n",
       "signif(x2, 3)\n",
       "</pre>\n",
       "\n",
       "<hr /><div style=\"text-align: center;\">[Package <em>base</em> version 3.6.1 ]</div>"
      ],
      "text/latex": [
       "\\inputencoding{utf8}\n",
       "\\HeaderA{Round}{Rounding of Numbers}{Round}\n",
       "\\aliasA{ceiling}{Round}{ceiling}\n",
       "\\aliasA{floor}{Round}{floor}\n",
       "\\aliasA{round}{Round}{round}\n",
       "\\aliasA{signif}{Round}{signif}\n",
       "\\aliasA{trunc}{Round}{trunc}\n",
       "\\keyword{arith}{Round}\n",
       "%\n",
       "\\begin{Description}\\relax\n",
       "\\code{ceiling} takes a single numeric argument \\code{x} and returns a\n",
       "numeric vector containing the smallest integers not less than the\n",
       "corresponding elements of \\code{x}.\n",
       "\n",
       "\\code{floor} takes a single numeric argument \\code{x} and returns a\n",
       "numeric vector containing the largest integers not greater than the\n",
       "corresponding elements of \\code{x}.\n",
       "\n",
       "\\code{trunc} takes a single numeric argument \\code{x} and returns a\n",
       "numeric vector containing the integers formed by truncating the values in\n",
       "\\code{x} toward \\code{0}.\n",
       "\n",
       "\\code{round} rounds the values in its first argument to the specified\n",
       "number of decimal places (default 0).  See `Details' about\n",
       "``round to even'' when rounding off a 5.\n",
       "\n",
       "\\code{signif} rounds the values in its first argument to the specified\n",
       "number of significant digits.\n",
       "\\end{Description}\n",
       "%\n",
       "\\begin{Usage}\n",
       "\\begin{verbatim}\n",
       "ceiling(x)\n",
       "floor(x)\n",
       "trunc(x, ...)\n",
       "\n",
       "round(x, digits = 0)\n",
       "signif(x, digits = 6)\n",
       "\\end{verbatim}\n",
       "\\end{Usage}\n",
       "%\n",
       "\\begin{Arguments}\n",
       "\\begin{ldescription}\n",
       "\\item[\\code{x}] a numeric vector.  Or, for \\code{round} and \\code{signif}, a\n",
       "complex vector.\n",
       "\n",
       "\\item[\\code{digits}] integer indicating the number of decimal places\n",
       "(\\code{round}) or significant digits (\\code{signif}) to be used.\n",
       "Negative values are allowed (see `Details').\n",
       "\n",
       "\\item[\\code{...}] arguments to be passed to methods.\n",
       "\\end{ldescription}\n",
       "\\end{Arguments}\n",
       "%\n",
       "\\begin{Details}\\relax\n",
       "These are generic functions: methods can be defined for them\n",
       "individually or via the \\code{\\LinkA{Math}{S3groupGeneric}} group\n",
       "generic.\n",
       "\n",
       "Note that for rounding off a 5, the IEC 60559 standard (see also\n",
       "`IEEE 754') is expected to be used, `\\emph{go to the even digit}'.\n",
       "Therefore \\code{round(0.5)} is \\code{0} and \\code{round(-1.5)} is\n",
       "\\code{-2}.  However, this is dependent on OS services and on\n",
       "representation error (since e.g.~\\code{0.15} is not represented\n",
       "exactly, the rounding rule applies to the represented number and not\n",
       "to the printed number, and so \\code{round(0.15, 1)} could be either\n",
       "\\code{0.1} or \\code{0.2}).\n",
       "\n",
       "Rounding to a negative number of digits means rounding to a power of\n",
       "ten, so for example \\code{round(x, digits = -2)} rounds to the nearest\n",
       "hundred.\n",
       "\n",
       "For \\code{signif} the recognized values of \\code{digits} are\n",
       "\\code{1...22}, and non-missing values are rounded to the nearest\n",
       "integer in that range.  Complex numbers are rounded to retain the\n",
       "specified number of digits in the larger of the components.  Each\n",
       "element of the vector is rounded individually, unlike printing.\n",
       "\n",
       "These are all primitive functions.\n",
       "\\end{Details}\n",
       "%\n",
       "\\begin{Section}{S4 methods}\n",
       "These are all (internally) S4 generic.\n",
       "\n",
       "\\code{ceiling}, \\code{floor} and \\code{trunc} are members of the\n",
       "\\code{\\LinkA{Math}{S4groupGeneric}} group generic.  As an S4\n",
       "generic, \\code{trunc} has only one argument.\n",
       "\n",
       "\\code{round} and \\code{signif} are members of the\n",
       "\\code{\\LinkA{Math2}{S4groupGeneric}} group generic.\n",
       "\\end{Section}\n",
       "%\n",
       "\\begin{Section}{Warning}\n",
       "The realities of computer arithmetic can cause unexpected results,\n",
       "especially with \\code{floor} and \\code{ceiling}.  For example, we\n",
       "`know' that \\code{floor(log(x, base = 8))} for \\code{x = 8} is\n",
       "\\code{1}, but \\code{0} has been seen on an \\R{} platform.  It is\n",
       "normally necessary to use a tolerance.\n",
       "\\end{Section}\n",
       "%\n",
       "\\begin{References}\\relax\n",
       "Becker, R. A., Chambers, J. M. and Wilks, A. R. (1988)\n",
       "\\emph{The New S Language}.  Wadsworth \\& Brooks/Cole.\n",
       "\n",
       "The ISO/IEC/IEEE 60559:2011 standard is available for money from\n",
       "\\url{https://www.iso.org}.\n",
       "\n",
       "The IEEE 745:2008 standard is more openly documented, e.g, at\n",
       "\\url{https://en.wikipedia.org/wiki/IEEE_754}.\n",
       "\\end{References}\n",
       "%\n",
       "\\begin{SeeAlso}\\relax\n",
       "\\code{\\LinkA{as.integer}{as.integer}}.\n",
       "\\end{SeeAlso}\n",
       "%\n",
       "\\begin{Examples}\n",
       "\\begin{ExampleCode}\n",
       "round(.5 + -2:4) # IEEE / IEC rounding: -2  0  0  2  2  4  4\n",
       "## (this is *good* behaviour -- do *NOT* report it as bug !)\n",
       "\n",
       "( x1 <- seq(-2, 4, by = .5) )\n",
       "round(x1) #-- IEEE / IEC rounding !\n",
       "x1[trunc(x1) != floor(x1)]\n",
       "x1[round(x1) != floor(x1 + .5)]\n",
       "(non.int <- ceiling(x1) != floor(x1))\n",
       "\n",
       "x2 <- pi * 100^(-1:3)\n",
       "round(x2, 3)\n",
       "signif(x2, 3)\n",
       "\\end{ExampleCode}\n",
       "\\end{Examples}"
      ],
      "text/plain": [
       "Round                   package:base                   R Documentation\n",
       "\n",
       "_\bR_\bo_\bu_\bn_\bd_\bi_\bn_\bg _\bo_\bf _\bN_\bu_\bm_\bb_\be_\br_\bs\n",
       "\n",
       "_\bD_\be_\bs_\bc_\br_\bi_\bp_\bt_\bi_\bo_\bn:\n",
       "\n",
       "     'ceiling' takes a single numeric argument 'x' and returns a\n",
       "     numeric vector containing the smallest integers not less than the\n",
       "     corresponding elements of 'x'.\n",
       "\n",
       "     'floor' takes a single numeric argument 'x' and returns a numeric\n",
       "     vector containing the largest integers not greater than the\n",
       "     corresponding elements of 'x'.\n",
       "\n",
       "     'trunc' takes a single numeric argument 'x' and returns a numeric\n",
       "     vector containing the integers formed by truncating the values in\n",
       "     'x' toward '0'.\n",
       "\n",
       "     'round' rounds the values in its first argument to the specified\n",
       "     number of decimal places (default 0).  See 'Details' about \"round\n",
       "     to even\" when rounding off a 5.\n",
       "\n",
       "     'signif' rounds the values in its first argument to the specified\n",
       "     number of significant digits.\n",
       "\n",
       "_\bU_\bs_\ba_\bg_\be:\n",
       "\n",
       "     ceiling(x)\n",
       "     floor(x)\n",
       "     trunc(x, ...)\n",
       "     \n",
       "     round(x, digits = 0)\n",
       "     signif(x, digits = 6)\n",
       "     \n",
       "_\bA_\br_\bg_\bu_\bm_\be_\bn_\bt_\bs:\n",
       "\n",
       "       x: a numeric vector.  Or, for 'round' and 'signif', a complex\n",
       "          vector.\n",
       "\n",
       "  digits: integer indicating the number of decimal places ('round') or\n",
       "          significant digits ('signif') to be used.  Negative values\n",
       "          are allowed (see 'Details').\n",
       "\n",
       "     ...: arguments to be passed to methods.\n",
       "\n",
       "_\bD_\be_\bt_\ba_\bi_\bl_\bs:\n",
       "\n",
       "     These are generic functions: methods can be defined for them\n",
       "     individually or via the 'Math' group generic.\n",
       "\n",
       "     Note that for rounding off a 5, the IEC 60559 standard (see also\n",
       "     'IEEE 754') is expected to be used, '_go to the even digit_'.\n",
       "     Therefore 'round(0.5)' is '0' and 'round(-1.5)' is '-2'.  However,\n",
       "     this is dependent on OS services and on representation error\n",
       "     (since e.g. '0.15' is not represented exactly, the rounding rule\n",
       "     applies to the represented number and not to the printed number,\n",
       "     and so 'round(0.15, 1)' could be either '0.1' or '0.2').\n",
       "\n",
       "     Rounding to a negative number of digits means rounding to a power\n",
       "     of ten, so for example 'round(x, digits = -2)' rounds to the\n",
       "     nearest hundred.\n",
       "\n",
       "     For 'signif' the recognized values of 'digits' are '1...22', and\n",
       "     non-missing values are rounded to the nearest integer in that\n",
       "     range.  Complex numbers are rounded to retain the specified number\n",
       "     of digits in the larger of the components.  Each element of the\n",
       "     vector is rounded individually, unlike printing.\n",
       "\n",
       "     These are all primitive functions.\n",
       "\n",
       "_\bS_\b4 _\bm_\be_\bt_\bh_\bo_\bd_\bs:\n",
       "\n",
       "     These are all (internally) S4 generic.\n",
       "\n",
       "     'ceiling', 'floor' and 'trunc' are members of the 'Math' group\n",
       "     generic.  As an S4 generic, 'trunc' has only one argument.\n",
       "\n",
       "     'round' and 'signif' are members of the 'Math2' group generic.\n",
       "\n",
       "_\bW_\ba_\br_\bn_\bi_\bn_\bg:\n",
       "\n",
       "     The realities of computer arithmetic can cause unexpected results,\n",
       "     especially with 'floor' and 'ceiling'.  For example, we 'know'\n",
       "     that 'floor(log(x, base = 8))' for 'x = 8' is '1', but '0' has\n",
       "     been seen on an R platform.  It is normally necessary to use a\n",
       "     tolerance.\n",
       "\n",
       "_\bR_\be_\bf_\be_\br_\be_\bn_\bc_\be_\bs:\n",
       "\n",
       "     Becker, R. A., Chambers, J. M. and Wilks, A. R. (1988) _The New S\n",
       "     Language_.  Wadsworth & Brooks/Cole.\n",
       "\n",
       "     The ISO/IEC/IEEE 60559:2011 standard is available for money from\n",
       "     <URL: https://www.iso.org>.\n",
       "\n",
       "     The IEEE 745:2008 standard is more openly documented, e.g, at\n",
       "     <URL: https://en.wikipedia.org/wiki/IEEE_754>.\n",
       "\n",
       "_\bS_\be_\be _\bA_\bl_\bs_\bo:\n",
       "\n",
       "     'as.integer'.\n",
       "\n",
       "_\bE_\bx_\ba_\bm_\bp_\bl_\be_\bs:\n",
       "\n",
       "     round(.5 + -2:4) # IEEE / IEC rounding: -2  0  0  2  2  4  4\n",
       "     ## (this is *good* behaviour -- do *NOT* report it as bug !)\n",
       "     \n",
       "     ( x1 <- seq(-2, 4, by = .5) )\n",
       "     round(x1) #-- IEEE / IEC rounding !\n",
       "     x1[trunc(x1) != floor(x1)]\n",
       "     x1[round(x1) != floor(x1 + .5)]\n",
       "     (non.int <- ceiling(x1) != floor(x1))\n",
       "     \n",
       "     x2 <- pi * 100^(-1:3)\n",
       "     round(x2, 3)\n",
       "     signif(x2, 3)\n",
       "     "
      ]
     },
     "metadata": {},
     "output_type": "display_data"
    }
   ],
   "source": [
    "?round"
   ]
  },
  {
   "cell_type": "code",
   "execution_count": 75,
   "id": "c7e0bfb4-e886-4de5-b104-f828e2aa53c1",
   "metadata": {},
   "outputs": [
    {
     "name": "stdout",
     "output_type": "stream",
     "text": [
      "[1]  TRUE FALSE  TRUE FALSE\n",
      "[1] TRUE TRUE TRUE TRUE\n",
      "[1] FALSE FALSE FALSE FALSE\n"
     ]
    }
   ],
   "source": [
    "x <- c(TRUE, FALSE, TRUE, FALSE)\n",
    "y <- rep(TRUE, 4)\n",
    "z <- rep(FALSE, 4) \n",
    "print(x)\n",
    "print(y)\n",
    "print(z)"
   ]
  },
  {
   "cell_type": "code",
   "execution_count": 81,
   "id": "cdf31a41-206a-4deb-a13f-57bcc906c19b",
   "metadata": {},
   "outputs": [
    {
     "data": {
      "text/html": [
       "<ol class=list-inline>\n",
       "\t<li>TRUE</li>\n",
       "\t<li>FALSE</li>\n",
       "\t<li>TRUE</li>\n",
       "\t<li>FALSE</li>\n",
       "</ol>\n"
      ],
      "text/latex": [
       "\\begin{enumerate*}\n",
       "\\item TRUE\n",
       "\\item FALSE\n",
       "\\item TRUE\n",
       "\\item FALSE\n",
       "\\end{enumerate*}\n"
      ],
      "text/markdown": [
       "1. TRUE\n",
       "2. FALSE\n",
       "3. TRUE\n",
       "4. FALSE\n",
       "\n",
       "\n"
      ],
      "text/plain": [
       "[1]  TRUE FALSE  TRUE FALSE"
      ]
     },
     "metadata": {},
     "output_type": "display_data"
    }
   ],
   "source": [
    "result <- x & y\n",
    "result"
   ]
  },
  {
   "cell_type": "code",
   "execution_count": 83,
   "id": "9fd195b6-c415-41c5-9119-167d92a7b838",
   "metadata": {},
   "outputs": [
    {
     "data": {
      "text/html": [
       "<ol class=list-inline>\n",
       "\t<li>TRUE</li>\n",
       "\t<li>TRUE</li>\n",
       "\t<li>TRUE</li>\n",
       "\t<li>TRUE</li>\n",
       "</ol>\n"
      ],
      "text/latex": [
       "\\begin{enumerate*}\n",
       "\\item TRUE\n",
       "\\item TRUE\n",
       "\\item TRUE\n",
       "\\item TRUE\n",
       "\\end{enumerate*}\n"
      ],
      "text/markdown": [
       "1. TRUE\n",
       "2. TRUE\n",
       "3. TRUE\n",
       "4. TRUE\n",
       "\n",
       "\n"
      ],
      "text/plain": [
       "[1] TRUE TRUE TRUE TRUE"
      ]
     },
     "metadata": {},
     "output_type": "display_data"
    }
   ],
   "source": [
    "result <- x | y\n",
    "result"
   ]
  },
  {
   "cell_type": "code",
   "execution_count": 85,
   "id": "38e60b3c-3173-4f01-9660-3f7e2e27dd16",
   "metadata": {},
   "outputs": [
    {
     "data": {
      "text/html": [
       "<ol class=list-inline>\n",
       "\t<li>FALSE</li>\n",
       "\t<li>FALSE</li>\n",
       "\t<li>FALSE</li>\n",
       "\t<li>FALSE</li>\n",
       "</ol>\n"
      ],
      "text/latex": [
       "\\begin{enumerate*}\n",
       "\\item FALSE\n",
       "\\item FALSE\n",
       "\\item FALSE\n",
       "\\item FALSE\n",
       "\\end{enumerate*}\n"
      ],
      "text/markdown": [
       "1. FALSE\n",
       "2. FALSE\n",
       "3. FALSE\n",
       "4. FALSE\n",
       "\n",
       "\n"
      ],
      "text/plain": [
       "[1] FALSE FALSE FALSE FALSE"
      ]
     },
     "metadata": {},
     "output_type": "display_data"
    }
   ],
   "source": [
    "result <- x & z\n",
    "result"
   ]
  },
  {
   "cell_type": "code",
   "execution_count": 87,
   "id": "f11a2cb8-22f8-4559-9d75-c41121c4ae1c",
   "metadata": {},
   "outputs": [
    {
     "data": {
      "text/html": [
       "<ol class=list-inline>\n",
       "\t<li>TRUE</li>\n",
       "\t<li>FALSE</li>\n",
       "\t<li>TRUE</li>\n",
       "\t<li>FALSE</li>\n",
       "</ol>\n"
      ],
      "text/latex": [
       "\\begin{enumerate*}\n",
       "\\item TRUE\n",
       "\\item FALSE\n",
       "\\item TRUE\n",
       "\\item FALSE\n",
       "\\end{enumerate*}\n"
      ],
      "text/markdown": [
       "1. TRUE\n",
       "2. FALSE\n",
       "3. TRUE\n",
       "4. FALSE\n",
       "\n",
       "\n"
      ],
      "text/plain": [
       "[1]  TRUE FALSE  TRUE FALSE"
      ]
     },
     "metadata": {},
     "output_type": "display_data"
    }
   ],
   "source": [
    "result <- x | z\n",
    "result"
   ]
  },
  {
   "cell_type": "code",
   "execution_count": 89,
   "id": "dfff8ab1-d13a-4a0f-9ee5-d696e8cd69d3",
   "metadata": {},
   "outputs": [
    {
     "data": {
      "text/html": [
       "<ol class=list-inline>\n",
       "\t<li>100</li>\n",
       "\t<li>200</li>\n",
       "\t<li>300</li>\n",
       "\t<li>400</li>\n",
       "\t<li>500</li>\n",
       "</ol>\n"
      ],
      "text/latex": [
       "\\begin{enumerate*}\n",
       "\\item 100\n",
       "\\item 200\n",
       "\\item 300\n",
       "\\item 400\n",
       "\\item 500\n",
       "\\end{enumerate*}\n"
      ],
      "text/markdown": [
       "1. 100\n",
       "2. 200\n",
       "3. 300\n",
       "4. 400\n",
       "5. 500\n",
       "\n",
       "\n"
      ],
      "text/plain": [
       "[1] 100 200 300 400 500"
      ]
     },
     "metadata": {},
     "output_type": "display_data"
    }
   ],
   "source": [
    "num <- c(100, 200, 300, 400, 500)\n",
    "num"
   ]
  },
  {
   "cell_type": "code",
   "execution_count": 91,
   "id": "e4ab3182-bfa9-4f0c-891a-eb44b0c5a64f",
   "metadata": {},
   "outputs": [
    {
     "data": {
      "text/html": [
       "<ol class=list-inline>\n",
       "\t<li>FALSE</li>\n",
       "\t<li>FALSE</li>\n",
       "\t<li>FALSE</li>\n",
       "\t<li>TRUE</li>\n",
       "\t<li>TRUE</li>\n",
       "</ol>\n"
      ],
      "text/latex": [
       "\\begin{enumerate*}\n",
       "\\item FALSE\n",
       "\\item FALSE\n",
       "\\item FALSE\n",
       "\\item TRUE\n",
       "\\item TRUE\n",
       "\\end{enumerate*}\n"
      ],
      "text/markdown": [
       "1. FALSE\n",
       "2. FALSE\n",
       "3. FALSE\n",
       "4. TRUE\n",
       "5. TRUE\n",
       "\n",
       "\n"
      ],
      "text/plain": [
       "[1] FALSE FALSE FALSE  TRUE  TRUE"
      ]
     },
     "metadata": {},
     "output_type": "display_data"
    }
   ],
   "source": [
    "threshold <- num > 300\n",
    "threshold"
   ]
  },
  {
   "cell_type": "code",
   "execution_count": 93,
   "id": "f0a3aa60-27ce-49d6-9486-a618092bbb0d",
   "metadata": {},
   "outputs": [
    {
     "data": {
      "text/html": [
       "<ol class=list-inline>\n",
       "\t<li>TRUE</li>\n",
       "\t<li>TRUE</li>\n",
       "\t<li>TRUE</li>\n",
       "\t<li>FALSE</li>\n",
       "\t<li>FALSE</li>\n",
       "</ol>\n"
      ],
      "text/latex": [
       "\\begin{enumerate*}\n",
       "\\item TRUE\n",
       "\\item TRUE\n",
       "\\item TRUE\n",
       "\\item FALSE\n",
       "\\item FALSE\n",
       "\\end{enumerate*}\n"
      ],
      "text/markdown": [
       "1. TRUE\n",
       "2. TRUE\n",
       "3. TRUE\n",
       "4. FALSE\n",
       "5. FALSE\n",
       "\n",
       "\n"
      ],
      "text/plain": [
       "[1]  TRUE  TRUE  TRUE FALSE FALSE"
      ]
     },
     "metadata": {},
     "output_type": "display_data"
    }
   ],
   "source": [
    "threshold <- num <= 300\n",
    "threshold"
   ]
  },
  {
   "cell_type": "code",
   "execution_count": 95,
   "id": "32e2fbf7-1be5-4fb9-af3c-dfc910868937",
   "metadata": {},
   "outputs": [
    {
     "name": "stderr",
     "output_type": "stream",
     "text": [
      "Warning message in x > threshold:\n",
      "\"longer object length is not a multiple of shorter object length\""
     ]
    },
    {
     "data": {
      "text/html": [
       "<ol class=list-inline>\n",
       "\t<li>FALSE</li>\n",
       "\t<li>FALSE</li>\n",
       "\t<li>FALSE</li>\n",
       "\t<li>FALSE</li>\n",
       "\t<li>TRUE</li>\n",
       "</ol>\n"
      ],
      "text/latex": [
       "\\begin{enumerate*}\n",
       "\\item FALSE\n",
       "\\item FALSE\n",
       "\\item FALSE\n",
       "\\item FALSE\n",
       "\\item TRUE\n",
       "\\end{enumerate*}\n"
      ],
      "text/markdown": [
       "1. FALSE\n",
       "2. FALSE\n",
       "3. FALSE\n",
       "4. FALSE\n",
       "5. TRUE\n",
       "\n",
       "\n"
      ],
      "text/plain": [
       "[1] FALSE FALSE FALSE FALSE  TRUE"
      ]
     },
     "metadata": {},
     "output_type": "display_data"
    }
   ],
   "source": [
    "x > threshold"
   ]
  }
 ],
 "metadata": {
  "kernelspec": {
   "display_name": "R",
   "language": "R",
   "name": "ir"
  },
  "language_info": {
   "codemirror_mode": "r",
   "file_extension": ".r",
   "mimetype": "text/x-r-source",
   "name": "R",
   "pygments_lexer": "r",
   "version": "3.6.1"
  }
 },
 "nbformat": 4,
 "nbformat_minor": 5
}
