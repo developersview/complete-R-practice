{
 "cells": [
  {
   "cell_type": "code",
   "execution_count": 23,
   "id": "001c02f4-a01b-4e17-8c24-01a617ed9b36",
   "metadata": {},
   "outputs": [
    {
     "data": {
      "text/plain": [
       "8160 bytes"
      ]
     },
     "metadata": {},
     "output_type": "display_data"
    }
   ],
   "source": [
    "gender.char <- sample(c('female', 'male'), 1000, replace=TRUE)\n",
    "object.size(gender.char)"
   ]
  },
  {
   "cell_type": "code",
   "execution_count": 25,
   "id": "69cd3c34-5248-410f-b2bc-c6115566f5f7",
   "metadata": {},
   "outputs": [
    {
     "data": {
      "text/plain": [
       "4560 bytes"
      ]
     },
     "metadata": {},
     "output_type": "display_data"
    }
   ],
   "source": [
    "gender.fac <- factor(gender.char)\n",
    "object.size(gender.fac)"
   ]
  },
  {
   "cell_type": "code",
   "execution_count": 27,
   "id": "d8bb155e-2808-4ec6-b398-10a9cd1e0edb",
   "metadata": {},
   "outputs": [
    {
     "name": "stdout",
     "output_type": "stream",
     "text": [
      "    id    name department gender      type salary\n",
      "1 1001   Alice         HR      F Full-time  50000\n",
      "2 1002     Bob         IT      M  Contract  60000\n",
      "3 1003 Charlie    Finance      M Full-time  55000\n",
      "4 1004   David  Marketing      M  Contract  30000\n",
      "5 1005     Eva      Sales      F Full-time  70000\n",
      "6 1006   Frank      Admin      M  Contract  40000\n",
      "7 1007   Grace         IT      F Full-time  75000\n"
     ]
    }
   ],
   "source": [
    "# Create a dataframe object\n",
    "employee.df<- data.frame(\n",
    "  id = 1001:1007,\n",
    "  name = c(\"Alice\", \"Bob\", \"Charlie\", \"David\", \"Eva\", \"Frank\", \"Grace\"), # Names\n",
    "  department = c(\"HR\", \"IT\", \"Finance\", \"Marketing\", \"Sales\", \"Admin\", \"IT\"), # Departments\n",
    "  gender = c(\"F\", \"M\", \"M\", \"M\", \"F\", \"M\", \"F\"),  # Gender\n",
    "  type = c(\"Full-time\", \"Contract\", \"Full-time\", \"Contract\", \"Full-time\", \"Contract\", \"Full-time\"), # Employment type\n",
    "  salary = c(50000, 60000, 55000, 30000, 70000, 40000, 75000) # Salaries\n",
    ")\n",
    "\n",
    "# Print the dataframe\n",
    "print(employee.df)\n"
   ]
  },
  {
   "cell_type": "code",
   "execution_count": 29,
   "id": "964f477f-34cc-47c9-8ae2-10c836b1f2f5",
   "metadata": {},
   "outputs": [
    {
     "data": {
      "text/html": [
       "<table>\n",
       "<thead><tr><th scope=col>id</th><th scope=col>name</th><th scope=col>department</th><th scope=col>gender</th><th scope=col>type</th><th scope=col>salary</th></tr></thead>\n",
       "<tbody>\n",
       "\t<tr><td>1001     </td><td>Alice    </td><td>HR       </td><td>F        </td><td>Full-time</td><td>50000    </td></tr>\n",
       "\t<tr><td>1002     </td><td>Bob      </td><td>IT       </td><td>M        </td><td>Contract </td><td>60000    </td></tr>\n",
       "\t<tr><td>1003     </td><td>Charlie  </td><td>Finance  </td><td>M        </td><td>Full-time</td><td>55000    </td></tr>\n",
       "\t<tr><td>1004     </td><td>David    </td><td>Marketing</td><td>M        </td><td>Contract </td><td>30000    </td></tr>\n",
       "\t<tr><td>1005     </td><td>Eva      </td><td>Sales    </td><td>F        </td><td>Full-time</td><td>70000    </td></tr>\n",
       "\t<tr><td>1006     </td><td>Frank    </td><td>Admin    </td><td>M        </td><td>Contract </td><td>40000    </td></tr>\n",
       "\t<tr><td>1007     </td><td>Grace    </td><td>IT       </td><td>F        </td><td>Full-time</td><td>75000    </td></tr>\n",
       "</tbody>\n",
       "</table>\n"
      ],
      "text/latex": [
       "\\begin{tabular}{r|llllll}\n",
       " id & name & department & gender & type & salary\\\\\n",
       "\\hline\n",
       "\t 1001      & Alice     & HR        & F         & Full-time & 50000    \\\\\n",
       "\t 1002      & Bob       & IT        & M         & Contract  & 60000    \\\\\n",
       "\t 1003      & Charlie   & Finance   & M         & Full-time & 55000    \\\\\n",
       "\t 1004      & David     & Marketing & M         & Contract  & 30000    \\\\\n",
       "\t 1005      & Eva       & Sales     & F         & Full-time & 70000    \\\\\n",
       "\t 1006      & Frank     & Admin     & M         & Contract  & 40000    \\\\\n",
       "\t 1007      & Grace     & IT        & F         & Full-time & 75000    \\\\\n",
       "\\end{tabular}\n"
      ],
      "text/markdown": [
       "\n",
       "| id | name | department | gender | type | salary |\n",
       "|---|---|---|---|---|---|\n",
       "| 1001      | Alice     | HR        | F         | Full-time | 50000     |\n",
       "| 1002      | Bob       | IT        | M         | Contract  | 60000     |\n",
       "| 1003      | Charlie   | Finance   | M         | Full-time | 55000     |\n",
       "| 1004      | David     | Marketing | M         | Contract  | 30000     |\n",
       "| 1005      | Eva       | Sales     | F         | Full-time | 70000     |\n",
       "| 1006      | Frank     | Admin     | M         | Contract  | 40000     |\n",
       "| 1007      | Grace     | IT        | F         | Full-time | 75000     |\n",
       "\n"
      ],
      "text/plain": [
       "  id   name    department gender type      salary\n",
       "1 1001 Alice   HR         F      Full-time 50000 \n",
       "2 1002 Bob     IT         M      Contract  60000 \n",
       "3 1003 Charlie Finance    M      Full-time 55000 \n",
       "4 1004 David   Marketing  M      Contract  30000 \n",
       "5 1005 Eva     Sales      F      Full-time 70000 \n",
       "6 1006 Frank   Admin      M      Contract  40000 \n",
       "7 1007 Grace   IT         F      Full-time 75000 "
      ]
     },
     "metadata": {},
     "output_type": "display_data"
    }
   ],
   "source": [
    "employee.df"
   ]
  },
  {
   "cell_type": "code",
   "execution_count": 31,
   "id": "4102a612-688c-4635-9347-2dd7d630aefa",
   "metadata": {},
   "outputs": [
    {
     "data": {
      "text/html": [
       "'factor'"
      ],
      "text/latex": [
       "'factor'"
      ],
      "text/markdown": [
       "'factor'"
      ],
      "text/plain": [
       "[1] \"factor\""
      ]
     },
     "metadata": {},
     "output_type": "display_data"
    }
   ],
   "source": [
    "class(employee.df$department)"
   ]
  },
  {
   "cell_type": "code",
   "execution_count": 33,
   "id": "30f2c368-eb62-4cf6-b2e5-8f6d433422f9",
   "metadata": {},
   "outputs": [
    {
     "data": {
      "text/plain": [
       "       id            name       department gender        type       salary     \n",
       " Min.   :1001   Alice  :1   Admin    :1    F:3    Contract :3   Min.   :30000  \n",
       " 1st Qu.:1002   Bob    :1   Finance  :1    M:4    Full-time:4   1st Qu.:45000  \n",
       " Median :1004   Charlie:1   HR       :1                         Median :55000  \n",
       " Mean   :1004   David  :1   IT       :2                         Mean   :54286  \n",
       " 3rd Qu.:1006   Eva    :1   Marketing:1                         3rd Qu.:65000  \n",
       " Max.   :1007   Frank  :1   Sales    :1                         Max.   :75000  \n",
       "                Grace  :1                                                      "
      ]
     },
     "metadata": {},
     "output_type": "display_data"
    }
   ],
   "source": [
    "summary(employee.df)"
   ]
  },
  {
   "cell_type": "code",
   "execution_count": 35,
   "id": "3664ab36-9b72-4863-a1e8-6beb82d11cfa",
   "metadata": {},
   "outputs": [
    {
     "name": "stdout",
     "output_type": "stream",
     "text": [
      "'data.frame':\t7 obs. of  6 variables:\n",
      " $ id        : int  1001 1002 1003 1004 1005 1006 1007\n",
      " $ name      : Factor w/ 7 levels \"Alice\",\"Bob\",..: 1 2 3 4 5 6 7\n",
      " $ department: Factor w/ 6 levels \"Admin\",\"Finance\",..: 3 4 2 5 6 1 4\n",
      " $ gender    : Factor w/ 2 levels \"F\",\"M\": 1 2 2 2 1 2 1\n",
      " $ type      : Factor w/ 2 levels \"Contract\",\"Full-time\": 2 1 2 1 2 1 2\n",
      " $ salary    : num  50000 60000 55000 30000 70000 40000 75000\n"
     ]
    }
   ],
   "source": [
    "str(employee.df)"
   ]
  },
  {
   "cell_type": "code",
   "execution_count": 37,
   "id": "b26192fd-8d5b-4ab4-9519-c2e69e939897",
   "metadata": {},
   "outputs": [
    {
     "data": {
      "text/html": [
       "<ol class=list-inline>\n",
       "\t<li>HR</li>\n",
       "\t<li>IT</li>\n",
       "\t<li>Finance</li>\n",
       "\t<li>Marketing</li>\n",
       "\t<li>Sales</li>\n",
       "\t<li>Admin</li>\n",
       "\t<li>IT</li>\n",
       "</ol>\n",
       "\n",
       "<details>\n",
       "\t<summary style=display:list-item;cursor:pointer>\n",
       "\t\t<strong>Levels</strong>:\n",
       "\t</summary>\n",
       "\t<ol class=list-inline>\n",
       "\t\t<li>'Admin'</li>\n",
       "\t\t<li>'Finance'</li>\n",
       "\t\t<li>'HR'</li>\n",
       "\t\t<li>'IT'</li>\n",
       "\t\t<li>'Marketing'</li>\n",
       "\t\t<li>'Sales'</li>\n",
       "\t</ol>\n",
       "</details>"
      ],
      "text/latex": [
       "\\begin{enumerate*}\n",
       "\\item HR\n",
       "\\item IT\n",
       "\\item Finance\n",
       "\\item Marketing\n",
       "\\item Sales\n",
       "\\item Admin\n",
       "\\item IT\n",
       "\\end{enumerate*}\n",
       "\n",
       "\\emph{Levels}: \\begin{enumerate*}\n",
       "\\item 'Admin'\n",
       "\\item 'Finance'\n",
       "\\item 'HR'\n",
       "\\item 'IT'\n",
       "\\item 'Marketing'\n",
       "\\item 'Sales'\n",
       "\\end{enumerate*}\n"
      ],
      "text/markdown": [
       "1. HR\n",
       "2. IT\n",
       "3. Finance\n",
       "4. Marketing\n",
       "5. Sales\n",
       "6. Admin\n",
       "7. IT\n",
       "\n",
       "\n",
       "\n",
       "**Levels**: 1. 'Admin'\n",
       "2. 'Finance'\n",
       "3. 'HR'\n",
       "4. 'IT'\n",
       "5. 'Marketing'\n",
       "6. 'Sales'\n",
       "\n",
       "\n"
      ],
      "text/plain": [
       "[1] HR        IT        Finance   Marketing Sales     Admin     IT       \n",
       "Levels: Admin Finance HR IT Marketing Sales"
      ]
     },
     "metadata": {},
     "output_type": "display_data"
    }
   ],
   "source": [
    "employee.df$department"
   ]
  },
  {
   "cell_type": "code",
   "execution_count": 39,
   "id": "4747fe9a-0c20-406b-8509-73a7407ca0f4",
   "metadata": {},
   "outputs": [
    {
     "data": {
      "text/html": [
       "<table>\n",
       "<thead><tr><th scope=col>id</th><th scope=col>name</th><th scope=col>department</th><th scope=col>gender</th><th scope=col>type</th><th scope=col>salary</th></tr></thead>\n",
       "<tbody>\n",
       "\t<tr><td>1001     </td><td>Alice    </td><td>HR       </td><td>F        </td><td>Full-time</td><td>50000    </td></tr>\n",
       "\t<tr><td>1002     </td><td>Bob      </td><td>IT       </td><td>M        </td><td>Contract </td><td>60000    </td></tr>\n",
       "\t<tr><td>1003     </td><td>Charlie  </td><td>Finance  </td><td>M        </td><td>Full-time</td><td>55000    </td></tr>\n",
       "\t<tr><td>1004     </td><td>David    </td><td>Marketing</td><td>M        </td><td>Contract </td><td>30000    </td></tr>\n",
       "\t<tr><td>1005     </td><td>Eva      </td><td>Sales    </td><td>F        </td><td>Full-time</td><td>70000    </td></tr>\n",
       "\t<tr><td>1006     </td><td>Frank    </td><td>Admin    </td><td>M        </td><td>Contract </td><td>40000    </td></tr>\n",
       "\t<tr><td>1007     </td><td>Grace    </td><td>IT       </td><td>F        </td><td>Full-time</td><td>75000    </td></tr>\n",
       "</tbody>\n",
       "</table>\n"
      ],
      "text/latex": [
       "\\begin{tabular}{r|llllll}\n",
       " id & name & department & gender & type & salary\\\\\n",
       "\\hline\n",
       "\t 1001      & Alice     & HR        & F         & Full-time & 50000    \\\\\n",
       "\t 1002      & Bob       & IT        & M         & Contract  & 60000    \\\\\n",
       "\t 1003      & Charlie   & Finance   & M         & Full-time & 55000    \\\\\n",
       "\t 1004      & David     & Marketing & M         & Contract  & 30000    \\\\\n",
       "\t 1005      & Eva       & Sales     & F         & Full-time & 70000    \\\\\n",
       "\t 1006      & Frank     & Admin     & M         & Contract  & 40000    \\\\\n",
       "\t 1007      & Grace     & IT        & F         & Full-time & 75000    \\\\\n",
       "\\end{tabular}\n"
      ],
      "text/markdown": [
       "\n",
       "| id | name | department | gender | type | salary |\n",
       "|---|---|---|---|---|---|\n",
       "| 1001      | Alice     | HR        | F         | Full-time | 50000     |\n",
       "| 1002      | Bob       | IT        | M         | Contract  | 60000     |\n",
       "| 1003      | Charlie   | Finance   | M         | Full-time | 55000     |\n",
       "| 1004      | David     | Marketing | M         | Contract  | 30000     |\n",
       "| 1005      | Eva       | Sales     | F         | Full-time | 70000     |\n",
       "| 1006      | Frank     | Admin     | M         | Contract  | 40000     |\n",
       "| 1007      | Grace     | IT        | F         | Full-time | 75000     |\n",
       "\n"
      ],
      "text/plain": [
       "  id   name    department gender type      salary\n",
       "1 1001 Alice   HR         F      Full-time 50000 \n",
       "2 1002 Bob     IT         M      Contract  60000 \n",
       "3 1003 Charlie Finance    M      Full-time 55000 \n",
       "4 1004 David   Marketing  M      Contract  30000 \n",
       "5 1005 Eva     Sales      F      Full-time 70000 \n",
       "6 1006 Frank   Admin      M      Contract  40000 \n",
       "7 1007 Grace   IT         F      Full-time 75000 "
      ]
     },
     "metadata": {},
     "output_type": "display_data"
    }
   ],
   "source": [
    "employee.df<- data.frame(\n",
    "  id = 1001:1007,\n",
    "  name = c(\"Alice\", \"Bob\", \"Charlie\", \"David\", \"Eva\", \"Frank\", \"Grace\"), \n",
    "  department = c(\"HR\", \"IT\", \"Finance\", \"Marketing\", \"Sales\", \"Admin\", \"IT\"),\n",
    "  gender = c(\"F\", \"M\", \"M\", \"M\", \"F\", \"M\", \"F\"),  # Gender\n",
    "  type = c(\"Full-time\", \"Contract\", \"Full-time\", \"Contract\", \"Full-time\", \"Contract\", \"Full-time\"), \n",
    "  salary = c(50000, 60000, 55000, 30000, 70000, 40000, 75000),\n",
    "  stringsAsFactors = FALSE\n",
    ")\n",
    "employee.df"
   ]
  },
  {
   "cell_type": "code",
   "execution_count": 41,
   "id": "29b9e64b-9e71-43e8-899a-dc6575a58794",
   "metadata": {},
   "outputs": [
    {
     "name": "stdout",
     "output_type": "stream",
     "text": [
      "'data.frame':\t7 obs. of  6 variables:\n",
      " $ id        : int  1001 1002 1003 1004 1005 1006 1007\n",
      " $ name      : chr  \"Alice\" \"Bob\" \"Charlie\" \"David\" ...\n",
      " $ department: chr  \"HR\" \"IT\" \"Finance\" \"Marketing\" ...\n",
      " $ gender    : chr  \"F\" \"M\" \"M\" \"M\" ...\n",
      " $ type      : chr  \"Full-time\" \"Contract\" \"Full-time\" \"Contract\" ...\n",
      " $ salary    : num  50000 60000 55000 30000 70000 40000 75000\n"
     ]
    }
   ],
   "source": [
    "str(employee.df)"
   ]
  },
  {
   "cell_type": "code",
   "execution_count": 43,
   "id": "6e4aab6f-225e-4a9c-92a0-3f92dd189f32",
   "metadata": {},
   "outputs": [
    {
     "data": {
      "text/html": [
       "<ol class=list-inline>\n",
       "\t<li>'HR'</li>\n",
       "\t<li>'IT'</li>\n",
       "\t<li>'Finance'</li>\n",
       "\t<li>'Marketing'</li>\n",
       "\t<li>'Sales'</li>\n",
       "\t<li>'Admin'</li>\n",
       "\t<li>'IT'</li>\n",
       "</ol>\n"
      ],
      "text/latex": [
       "\\begin{enumerate*}\n",
       "\\item 'HR'\n",
       "\\item 'IT'\n",
       "\\item 'Finance'\n",
       "\\item 'Marketing'\n",
       "\\item 'Sales'\n",
       "\\item 'Admin'\n",
       "\\item 'IT'\n",
       "\\end{enumerate*}\n"
      ],
      "text/markdown": [
       "1. 'HR'\n",
       "2. 'IT'\n",
       "3. 'Finance'\n",
       "4. 'Marketing'\n",
       "5. 'Sales'\n",
       "6. 'Admin'\n",
       "7. 'IT'\n",
       "\n",
       "\n"
      ],
      "text/plain": [
       "[1] \"HR\"        \"IT\"        \"Finance\"   \"Marketing\" \"Sales\"     \"Admin\"    \n",
       "[7] \"IT\"       "
      ]
     },
     "metadata": {},
     "output_type": "display_data"
    }
   ],
   "source": [
    "employee.df$department"
   ]
  },
  {
   "cell_type": "code",
   "execution_count": 49,
   "id": "21c2e0b0-7c13-40c3-9934-530d648385ce",
   "metadata": {},
   "outputs": [
    {
     "data": {
      "text/html": [
       "<table>\n",
       "<thead><tr><th></th><th scope=col>id</th><th scope=col>name</th><th scope=col>department</th><th scope=col>gender</th><th scope=col>type</th><th scope=col>salary</th></tr></thead>\n",
       "<tbody>\n",
       "\t<tr><th scope=row>1</th><td>1001     </td><td>Alice    </td><td>HR       </td><td>F        </td><td>Full-time</td><td>50000    </td></tr>\n",
       "\t<tr><th scope=row>2</th><td>1002     </td><td>Bob      </td><td>IT       </td><td>M        </td><td>Contract </td><td>60000    </td></tr>\n",
       "\t<tr><th scope=row>5</th><td>1005     </td><td>Eva      </td><td>Sales    </td><td>F        </td><td>Full-time</td><td>70000    </td></tr>\n",
       "\t<tr><th scope=row>7</th><td>1007     </td><td>Grace    </td><td>IT       </td><td>F        </td><td>Full-time</td><td>75000    </td></tr>\n",
       "</tbody>\n",
       "</table>\n"
      ],
      "text/latex": [
       "\\begin{tabular}{r|llllll}\n",
       "  & id & name & department & gender & type & salary\\\\\n",
       "\\hline\n",
       "\t1 & 1001      & Alice     & HR        & F         & Full-time & 50000    \\\\\n",
       "\t2 & 1002      & Bob       & IT        & M         & Contract  & 60000    \\\\\n",
       "\t5 & 1005      & Eva       & Sales     & F         & Full-time & 70000    \\\\\n",
       "\t7 & 1007      & Grace     & IT        & F         & Full-time & 75000    \\\\\n",
       "\\end{tabular}\n"
      ],
      "text/markdown": [
       "\n",
       "| <!--/--> | id | name | department | gender | type | salary |\n",
       "|---|---|---|---|---|---|---|\n",
       "| 1 | 1001      | Alice     | HR        | F         | Full-time | 50000     |\n",
       "| 2 | 1002      | Bob       | IT        | M         | Contract  | 60000     |\n",
       "| 5 | 1005      | Eva       | Sales     | F         | Full-time | 70000     |\n",
       "| 7 | 1007      | Grace     | IT        | F         | Full-time | 75000     |\n",
       "\n"
      ],
      "text/plain": [
       "  id   name  department gender type      salary\n",
       "1 1001 Alice HR         F      Full-time 50000 \n",
       "2 1002 Bob   IT         M      Contract  60000 \n",
       "5 1005 Eva   Sales      F      Full-time 70000 \n",
       "7 1007 Grace IT         F      Full-time 75000 "
      ]
     },
     "metadata": {},
     "output_type": "display_data"
    }
   ],
   "source": [
    "employee.df.subset = employee.df[employee.df$department == 'HR' | \n",
    "                                 employee.df$department == 'IT' | \n",
    "                                 employee.df$department == 'Sales',\n",
    "                                ]\n",
    "employee.df.subset"
   ]
  },
  {
   "cell_type": "code",
   "execution_count": 51,
   "id": "4da371ca-cfba-4780-b0c4-64c86f3aa4a0",
   "metadata": {},
   "outputs": [
    {
     "data": {
      "text/html": [
       "<ol class=list-inline>\n",
       "\t<li>'Full-time'</li>\n",
       "\t<li>'Contract'</li>\n",
       "</ol>\n"
      ],
      "text/latex": [
       "\\begin{enumerate*}\n",
       "\\item 'Full-time'\n",
       "\\item 'Contract'\n",
       "\\end{enumerate*}\n"
      ],
      "text/markdown": [
       "1. 'Full-time'\n",
       "2. 'Contract'\n",
       "\n",
       "\n"
      ],
      "text/plain": [
       "[1] \"Full-time\" \"Contract\" "
      ]
     },
     "metadata": {},
     "output_type": "display_data"
    }
   ],
   "source": [
    "unique(employee.df.subset$type)"
   ]
  },
  {
   "cell_type": "code",
   "execution_count": 55,
   "id": "5b6dcc42-b5aa-46b2-ac6d-fd3a8d31885a",
   "metadata": {},
   "outputs": [
    {
     "name": "stdout",
     "output_type": "stream",
     "text": [
      " [1] \"urgent\" \"medium\" \"medium\" \"urgent\" \"low\"    \"low\"    \"low\"    \"low\"   \n",
      " [9] \"urgent\" \"high\"   \"high\"   \"medium\" \"high\"   \"medium\" \"medium\" \"low\"   \n",
      "[17] \"high\"   \"urgent\" \"medium\" \"medium\" \"high\"   \"low\"    \"urgent\" \"urgent\"\n",
      "[25] \"medium\" \"high\"   \"medium\" \"medium\" \"high\"   \"medium\" \"high\"   \"urgent\"\n",
      "[33] \"urgent\" \"urgent\" \"low\"    \"high\"   \"high\"   \"low\"    \"low\"    \"high\"  \n",
      "[41] \"medium\" \"urgent\" \"urgent\" \"urgent\" \"high\"   \"low\"    \"medium\" \"medium\"\n",
      "[49] \"urgent\" \"low\"   \n"
     ]
    }
   ],
   "source": [
    "bug.priority <- sample(c('low', 'medium', 'high', 'urgent'), 50, replace = TRUE)\n",
    "print(bug.priority)"
   ]
  },
  {
   "cell_type": "code",
   "execution_count": 59,
   "id": "ef466587-e9ec-4925-aea9-2f91fd44c975",
   "metadata": {},
   "outputs": [
    {
     "data": {
      "text/html": [
       "<ol class=list-inline>\n",
       "\t<li>'high'</li>\n",
       "\t<li>'low'</li>\n",
       "\t<li>'medium'</li>\n",
       "\t<li>'urgent'</li>\n",
       "</ol>\n"
      ],
      "text/latex": [
       "\\begin{enumerate*}\n",
       "\\item 'high'\n",
       "\\item 'low'\n",
       "\\item 'medium'\n",
       "\\item 'urgent'\n",
       "\\end{enumerate*}\n"
      ],
      "text/markdown": [
       "1. 'high'\n",
       "2. 'low'\n",
       "3. 'medium'\n",
       "4. 'urgent'\n",
       "\n",
       "\n"
      ],
      "text/plain": [
       "[1] \"high\"   \"low\"    \"medium\" \"urgent\""
      ]
     },
     "metadata": {},
     "output_type": "display_data"
    }
   ],
   "source": [
    "bug.priority.factor <- factor(bug.priority)\n",
    "levels(bug.priority.factor)"
   ]
  },
  {
   "cell_type": "code",
   "execution_count": 65,
   "id": "5f803f91-3437-4594-9380-4b169fbd7264",
   "metadata": {},
   "outputs": [
    {
     "data": {
      "text/html": [
       "<ol class=list-inline>\n",
       "\t<li>'low'</li>\n",
       "\t<li>'medium'</li>\n",
       "\t<li>'high'</li>\n",
       "\t<li>'urgent'</li>\n",
       "</ol>\n"
      ],
      "text/latex": [
       "\\begin{enumerate*}\n",
       "\\item 'low'\n",
       "\\item 'medium'\n",
       "\\item 'high'\n",
       "\\item 'urgent'\n",
       "\\end{enumerate*}\n"
      ],
      "text/markdown": [
       "1. 'low'\n",
       "2. 'medium'\n",
       "3. 'high'\n",
       "4. 'urgent'\n",
       "\n",
       "\n"
      ],
      "text/plain": [
       "[1] \"low\"    \"medium\" \"high\"   \"urgent\""
      ]
     },
     "metadata": {},
     "output_type": "display_data"
    }
   ],
   "source": [
    "bug.priority.factor <- ordered(bug.priority, levels=c('low','medium', 'high', 'urgent'))\n",
    "levels(bug.priority.factor)"
   ]
  },
  {
   "cell_type": "code",
   "execution_count": 67,
   "id": "2f5efb2c-450b-45ab-951e-f102b8f4c2cf",
   "metadata": {},
   "outputs": [
    {
     "data": {
      "text/html": [
       "<ol class=list-inline>\n",
       "\t<li>urgent</li>\n",
       "\t<li>medium</li>\n",
       "\t<li>medium</li>\n",
       "\t<li>urgent</li>\n",
       "\t<li>low</li>\n",
       "\t<li>low</li>\n",
       "\t<li>low</li>\n",
       "\t<li>low</li>\n",
       "\t<li>urgent</li>\n",
       "\t<li>high</li>\n",
       "\t<li>high</li>\n",
       "\t<li>medium</li>\n",
       "\t<li>high</li>\n",
       "\t<li>medium</li>\n",
       "\t<li>medium</li>\n",
       "\t<li>low</li>\n",
       "\t<li>high</li>\n",
       "\t<li>urgent</li>\n",
       "\t<li>medium</li>\n",
       "\t<li>medium</li>\n",
       "\t<li>high</li>\n",
       "\t<li>low</li>\n",
       "\t<li>urgent</li>\n",
       "\t<li>urgent</li>\n",
       "\t<li>medium</li>\n",
       "\t<li>high</li>\n",
       "\t<li>medium</li>\n",
       "\t<li>medium</li>\n",
       "\t<li>high</li>\n",
       "\t<li>medium</li>\n",
       "\t<li>high</li>\n",
       "\t<li>urgent</li>\n",
       "\t<li>urgent</li>\n",
       "\t<li>urgent</li>\n",
       "\t<li>low</li>\n",
       "\t<li>high</li>\n",
       "\t<li>high</li>\n",
       "\t<li>low</li>\n",
       "\t<li>low</li>\n",
       "\t<li>high</li>\n",
       "\t<li>medium</li>\n",
       "\t<li>urgent</li>\n",
       "\t<li>urgent</li>\n",
       "\t<li>urgent</li>\n",
       "\t<li>high</li>\n",
       "\t<li>low</li>\n",
       "\t<li>medium</li>\n",
       "\t<li>medium</li>\n",
       "\t<li>urgent</li>\n",
       "\t<li>low</li>\n",
       "</ol>\n",
       "\n",
       "<details>\n",
       "\t<summary style=display:list-item;cursor:pointer>\n",
       "\t\t<strong>Levels</strong>:\n",
       "\t</summary>\n",
       "\t<ol class=list-inline>\n",
       "\t\t<li>'low'</li>\n",
       "\t\t<li>'medium'</li>\n",
       "\t\t<li>'high'</li>\n",
       "\t\t<li>'urgent'</li>\n",
       "\t</ol>\n",
       "</details>"
      ],
      "text/latex": [
       "\\begin{enumerate*}\n",
       "\\item urgent\n",
       "\\item medium\n",
       "\\item medium\n",
       "\\item urgent\n",
       "\\item low\n",
       "\\item low\n",
       "\\item low\n",
       "\\item low\n",
       "\\item urgent\n",
       "\\item high\n",
       "\\item high\n",
       "\\item medium\n",
       "\\item high\n",
       "\\item medium\n",
       "\\item medium\n",
       "\\item low\n",
       "\\item high\n",
       "\\item urgent\n",
       "\\item medium\n",
       "\\item medium\n",
       "\\item high\n",
       "\\item low\n",
       "\\item urgent\n",
       "\\item urgent\n",
       "\\item medium\n",
       "\\item high\n",
       "\\item medium\n",
       "\\item medium\n",
       "\\item high\n",
       "\\item medium\n",
       "\\item high\n",
       "\\item urgent\n",
       "\\item urgent\n",
       "\\item urgent\n",
       "\\item low\n",
       "\\item high\n",
       "\\item high\n",
       "\\item low\n",
       "\\item low\n",
       "\\item high\n",
       "\\item medium\n",
       "\\item urgent\n",
       "\\item urgent\n",
       "\\item urgent\n",
       "\\item high\n",
       "\\item low\n",
       "\\item medium\n",
       "\\item medium\n",
       "\\item urgent\n",
       "\\item low\n",
       "\\end{enumerate*}\n",
       "\n",
       "\\emph{Levels}: \\begin{enumerate*}\n",
       "\\item 'low'\n",
       "\\item 'medium'\n",
       "\\item 'high'\n",
       "\\item 'urgent'\n",
       "\\end{enumerate*}\n"
      ],
      "text/markdown": [
       "1. urgent\n",
       "2. medium\n",
       "3. medium\n",
       "4. urgent\n",
       "5. low\n",
       "6. low\n",
       "7. low\n",
       "8. low\n",
       "9. urgent\n",
       "10. high\n",
       "11. high\n",
       "12. medium\n",
       "13. high\n",
       "14. medium\n",
       "15. medium\n",
       "16. low\n",
       "17. high\n",
       "18. urgent\n",
       "19. medium\n",
       "20. medium\n",
       "21. high\n",
       "22. low\n",
       "23. urgent\n",
       "24. urgent\n",
       "25. medium\n",
       "26. high\n",
       "27. medium\n",
       "28. medium\n",
       "29. high\n",
       "30. medium\n",
       "31. high\n",
       "32. urgent\n",
       "33. urgent\n",
       "34. urgent\n",
       "35. low\n",
       "36. high\n",
       "37. high\n",
       "38. low\n",
       "39. low\n",
       "40. high\n",
       "41. medium\n",
       "42. urgent\n",
       "43. urgent\n",
       "44. urgent\n",
       "45. high\n",
       "46. low\n",
       "47. medium\n",
       "48. medium\n",
       "49. urgent\n",
       "50. low\n",
       "\n",
       "\n",
       "\n",
       "**Levels**: 1. 'low'\n",
       "2. 'medium'\n",
       "3. 'high'\n",
       "4. 'urgent'\n",
       "\n",
       "\n"
      ],
      "text/plain": [
       " [1] urgent medium medium urgent low    low    low    low    urgent high  \n",
       "[11] high   medium high   medium medium low    high   urgent medium medium\n",
       "[21] high   low    urgent urgent medium high   medium medium high   medium\n",
       "[31] high   urgent urgent urgent low    high   high   low    low    high  \n",
       "[41] medium urgent urgent urgent high   low    medium medium urgent low   \n",
       "Levels: low < medium < high < urgent"
      ]
     },
     "metadata": {},
     "output_type": "display_data"
    }
   ],
   "source": [
    "bug.priority.factor"
   ]
  },
  {
   "cell_type": "code",
   "execution_count": 75,
   "id": "4d2ab8de-d1a2-446b-b89b-7350a1596ef6",
   "metadata": {},
   "outputs": [
    {
     "data": {
      "text/html": [
       "<dl class=dl-horizontal>\n",
       "\t<dt>Admin</dt>\n",
       "\t\t<dd>40000</dd>\n",
       "\t<dt>Finance</dt>\n",
       "\t\t<dd>55000</dd>\n",
       "\t<dt>HR</dt>\n",
       "\t\t<dd>50000</dd>\n",
       "\t<dt>IT</dt>\n",
       "\t\t<dd>67500</dd>\n",
       "\t<dt>Marketing</dt>\n",
       "\t\t<dd>30000</dd>\n",
       "\t<dt>Sales</dt>\n",
       "\t\t<dd>70000</dd>\n",
       "</dl>\n"
      ],
      "text/latex": [
       "\\begin{description*}\n",
       "\\item[Admin] 40000\n",
       "\\item[Finance] 55000\n",
       "\\item[HR] 50000\n",
       "\\item[IT] 67500\n",
       "\\item[Marketing] 30000\n",
       "\\item[Sales] 70000\n",
       "\\end{description*}\n"
      ],
      "text/markdown": [
       "Admin\n",
       ":   40000Finance\n",
       ":   55000HR\n",
       ":   50000IT\n",
       ":   67500Marketing\n",
       ":   30000Sales\n",
       ":   70000\n",
       "\n"
      ],
      "text/plain": [
       "    Admin   Finance        HR        IT Marketing     Sales \n",
       "    40000     55000     50000     67500     30000     70000 "
      ]
     },
     "metadata": {},
     "output_type": "display_data"
    }
   ],
   "source": [
    "tapply(employee.df$salary, employee.df$department, mean) #similar to SQL group by query"
   ]
  },
  {
   "cell_type": "code",
   "execution_count": 77,
   "id": "7c51b6a3-00cf-4d50-bd4e-7a717307290e",
   "metadata": {},
   "outputs": [
    {
     "data": {
      "text/html": [
       "<dl class=dl-horizontal>\n",
       "\t<dt>Contract</dt>\n",
       "\t\t<dd>60000</dd>\n",
       "\t<dt>Full-time</dt>\n",
       "\t\t<dd>75000</dd>\n",
       "</dl>\n"
      ],
      "text/latex": [
       "\\begin{description*}\n",
       "\\item[Contract] 60000\n",
       "\\item[Full-time] 75000\n",
       "\\end{description*}\n"
      ],
      "text/markdown": [
       "Contract\n",
       ":   60000Full-time\n",
       ":   75000\n",
       "\n"
      ],
      "text/plain": [
       " Contract Full-time \n",
       "    60000     75000 "
      ]
     },
     "metadata": {},
     "output_type": "display_data"
    }
   ],
   "source": [
    "tapply(employee.df$salary, employee.df$type, max)"
   ]
  },
  {
   "cell_type": "code",
   "execution_count": 81,
   "id": "0418c83c-022c-47ca-bec8-8ba44fe4afee",
   "metadata": {},
   "outputs": [
    {
     "data": {
      "text/html": [
       "<table>\n",
       "<thead><tr><th></th><th scope=col>Contract</th><th scope=col>Full-time</th></tr></thead>\n",
       "<tbody>\n",
       "\t<tr><th scope=row>F</th><td>   NA</td><td>70000</td></tr>\n",
       "\t<tr><th scope=row>M</th><td>40000</td><td>55000</td></tr>\n",
       "</tbody>\n",
       "</table>\n"
      ],
      "text/latex": [
       "\\begin{tabular}{r|ll}\n",
       "  & Contract & Full-time\\\\\n",
       "\\hline\n",
       "\tF &    NA & 70000\\\\\n",
       "\tM & 40000 & 55000\\\\\n",
       "\\end{tabular}\n"
      ],
      "text/markdown": [
       "\n",
       "| <!--/--> | Contract | Full-time |\n",
       "|---|---|---|\n",
       "| F |    NA | 70000 |\n",
       "| M | 40000 | 55000 |\n",
       "\n"
      ],
      "text/plain": [
       "  Contract Full-time\n",
       "F    NA    70000    \n",
       "M 40000    55000    "
      ]
     },
     "metadata": {},
     "output_type": "display_data"
    }
   ],
   "source": [
    "tapply(employee.df$salary, list(employee.df$gender, employee.df$type), median)"
   ]
  },
  {
   "cell_type": "code",
   "execution_count": 83,
   "id": "2cac1b46-ff32-45ef-8eb2-5c5ad89ac4a4",
   "metadata": {},
   "outputs": [
    {
     "data": {
      "text/html": [
       "<dl>\n",
       "\t<dt>$Admin</dt>\n",
       "\t\t<dd><table>\n",
       "<thead><tr><th></th><th scope=col>id</th><th scope=col>name</th><th scope=col>department</th><th scope=col>gender</th><th scope=col>type</th><th scope=col>salary</th></tr></thead>\n",
       "<tbody>\n",
       "\t<tr><th scope=row>6</th><td>1006    </td><td>Frank   </td><td>Admin   </td><td>M       </td><td>Contract</td><td>40000   </td></tr>\n",
       "</tbody>\n",
       "</table>\n",
       "</dd>\n",
       "\t<dt>$Finance</dt>\n",
       "\t\t<dd><table>\n",
       "<thead><tr><th></th><th scope=col>id</th><th scope=col>name</th><th scope=col>department</th><th scope=col>gender</th><th scope=col>type</th><th scope=col>salary</th></tr></thead>\n",
       "<tbody>\n",
       "\t<tr><th scope=row>3</th><td>1003     </td><td>Charlie  </td><td>Finance  </td><td>M        </td><td>Full-time</td><td>55000    </td></tr>\n",
       "</tbody>\n",
       "</table>\n",
       "</dd>\n",
       "\t<dt>$HR</dt>\n",
       "\t\t<dd><table>\n",
       "<thead><tr><th scope=col>id</th><th scope=col>name</th><th scope=col>department</th><th scope=col>gender</th><th scope=col>type</th><th scope=col>salary</th></tr></thead>\n",
       "<tbody>\n",
       "\t<tr><td>1001     </td><td>Alice    </td><td>HR       </td><td>F        </td><td>Full-time</td><td>50000    </td></tr>\n",
       "</tbody>\n",
       "</table>\n",
       "</dd>\n",
       "\t<dt>$IT</dt>\n",
       "\t\t<dd><table>\n",
       "<thead><tr><th></th><th scope=col>id</th><th scope=col>name</th><th scope=col>department</th><th scope=col>gender</th><th scope=col>type</th><th scope=col>salary</th></tr></thead>\n",
       "<tbody>\n",
       "\t<tr><th scope=row>2</th><td>1002     </td><td>Bob      </td><td>IT       </td><td>M        </td><td>Contract </td><td>60000    </td></tr>\n",
       "\t<tr><th scope=row>7</th><td>1007     </td><td>Grace    </td><td>IT       </td><td>F        </td><td>Full-time</td><td>75000    </td></tr>\n",
       "</tbody>\n",
       "</table>\n",
       "</dd>\n",
       "\t<dt>$Marketing</dt>\n",
       "\t\t<dd><table>\n",
       "<thead><tr><th></th><th scope=col>id</th><th scope=col>name</th><th scope=col>department</th><th scope=col>gender</th><th scope=col>type</th><th scope=col>salary</th></tr></thead>\n",
       "<tbody>\n",
       "\t<tr><th scope=row>4</th><td>1004     </td><td>David    </td><td>Marketing</td><td>M        </td><td>Contract </td><td>30000    </td></tr>\n",
       "</tbody>\n",
       "</table>\n",
       "</dd>\n",
       "\t<dt>$Sales</dt>\n",
       "\t\t<dd><table>\n",
       "<thead><tr><th></th><th scope=col>id</th><th scope=col>name</th><th scope=col>department</th><th scope=col>gender</th><th scope=col>type</th><th scope=col>salary</th></tr></thead>\n",
       "<tbody>\n",
       "\t<tr><th scope=row>5</th><td>1005     </td><td>Eva      </td><td>Sales    </td><td>F        </td><td>Full-time</td><td>70000    </td></tr>\n",
       "</tbody>\n",
       "</table>\n",
       "</dd>\n",
       "</dl>\n"
      ],
      "text/latex": [
       "\\begin{description}\n",
       "\\item[\\$Admin] \\begin{tabular}{r|llllll}\n",
       "  & id & name & department & gender & type & salary\\\\\n",
       "\\hline\n",
       "\t6 & 1006     & Frank    & Admin    & M        & Contract & 40000   \\\\\n",
       "\\end{tabular}\n",
       "\n",
       "\\item[\\$Finance] \\begin{tabular}{r|llllll}\n",
       "  & id & name & department & gender & type & salary\\\\\n",
       "\\hline\n",
       "\t3 & 1003      & Charlie   & Finance   & M         & Full-time & 55000    \\\\\n",
       "\\end{tabular}\n",
       "\n",
       "\\item[\\$HR] \\begin{tabular}{r|llllll}\n",
       " id & name & department & gender & type & salary\\\\\n",
       "\\hline\n",
       "\t 1001      & Alice     & HR        & F         & Full-time & 50000    \\\\\n",
       "\\end{tabular}\n",
       "\n",
       "\\item[\\$IT] \\begin{tabular}{r|llllll}\n",
       "  & id & name & department & gender & type & salary\\\\\n",
       "\\hline\n",
       "\t2 & 1002      & Bob       & IT        & M         & Contract  & 60000    \\\\\n",
       "\t7 & 1007      & Grace     & IT        & F         & Full-time & 75000    \\\\\n",
       "\\end{tabular}\n",
       "\n",
       "\\item[\\$Marketing] \\begin{tabular}{r|llllll}\n",
       "  & id & name & department & gender & type & salary\\\\\n",
       "\\hline\n",
       "\t4 & 1004      & David     & Marketing & M         & Contract  & 30000    \\\\\n",
       "\\end{tabular}\n",
       "\n",
       "\\item[\\$Sales] \\begin{tabular}{r|llllll}\n",
       "  & id & name & department & gender & type & salary\\\\\n",
       "\\hline\n",
       "\t5 & 1005      & Eva       & Sales     & F         & Full-time & 70000    \\\\\n",
       "\\end{tabular}\n",
       "\n",
       "\\end{description}\n"
      ],
      "text/markdown": [
       "$Admin\n",
       ":   \n",
       "| <!--/--> | id | name | department | gender | type | salary |\n",
       "|---|---|---|---|---|---|---|\n",
       "| 6 | 1006     | Frank    | Admin    | M        | Contract | 40000    |\n",
       "\n",
       "\n",
       "$Finance\n",
       ":   \n",
       "| <!--/--> | id | name | department | gender | type | salary |\n",
       "|---|---|---|---|---|---|---|\n",
       "| 3 | 1003      | Charlie   | Finance   | M         | Full-time | 55000     |\n",
       "\n",
       "\n",
       "$HR\n",
       ":   \n",
       "| id | name | department | gender | type | salary |\n",
       "|---|---|---|---|---|---|\n",
       "| 1001      | Alice     | HR        | F         | Full-time | 50000     |\n",
       "\n",
       "\n",
       "$IT\n",
       ":   \n",
       "| <!--/--> | id | name | department | gender | type | salary |\n",
       "|---|---|---|---|---|---|---|\n",
       "| 2 | 1002      | Bob       | IT        | M         | Contract  | 60000     |\n",
       "| 7 | 1007      | Grace     | IT        | F         | Full-time | 75000     |\n",
       "\n",
       "\n",
       "$Marketing\n",
       ":   \n",
       "| <!--/--> | id | name | department | gender | type | salary |\n",
       "|---|---|---|---|---|---|---|\n",
       "| 4 | 1004      | David     | Marketing | M         | Contract  | 30000     |\n",
       "\n",
       "\n",
       "$Sales\n",
       ":   \n",
       "| <!--/--> | id | name | department | gender | type | salary |\n",
       "|---|---|---|---|---|---|---|\n",
       "| 5 | 1005      | Eva       | Sales     | F         | Full-time | 70000     |\n",
       "\n",
       "\n",
       "\n",
       "\n"
      ],
      "text/plain": [
       "$Admin\n",
       "    id  name department gender     type salary\n",
       "6 1006 Frank      Admin      M Contract  40000\n",
       "\n",
       "$Finance\n",
       "    id    name department gender      type salary\n",
       "3 1003 Charlie    Finance      M Full-time  55000\n",
       "\n",
       "$HR\n",
       "    id  name department gender      type salary\n",
       "1 1001 Alice         HR      F Full-time  50000\n",
       "\n",
       "$IT\n",
       "    id  name department gender      type salary\n",
       "2 1002   Bob         IT      M  Contract  60000\n",
       "7 1007 Grace         IT      F Full-time  75000\n",
       "\n",
       "$Marketing\n",
       "    id  name department gender     type salary\n",
       "4 1004 David  Marketing      M Contract  30000\n",
       "\n",
       "$Sales\n",
       "    id name department gender      type salary\n",
       "5 1005  Eva      Sales      F Full-time  70000\n"
      ]
     },
     "metadata": {},
     "output_type": "display_data"
    }
   ],
   "source": [
    "split(employee.df, employee.df$department)"
   ]
  },
  {
   "cell_type": "code",
   "execution_count": 85,
   "id": "59aa488d-29a3-441d-90e9-b9db62565e09",
   "metadata": {},
   "outputs": [
    {
     "data": {
      "text/html": [
       "<dl>\n",
       "\t<dt>$F</dt>\n",
       "\t\t<dd><table>\n",
       "<thead><tr><th></th><th scope=col>id</th><th scope=col>name</th><th scope=col>department</th><th scope=col>gender</th><th scope=col>type</th><th scope=col>salary</th></tr></thead>\n",
       "<tbody>\n",
       "\t<tr><th scope=row>1</th><td>1001     </td><td>Alice    </td><td>HR       </td><td>F        </td><td>Full-time</td><td>50000    </td></tr>\n",
       "\t<tr><th scope=row>5</th><td>1005     </td><td>Eva      </td><td>Sales    </td><td>F        </td><td>Full-time</td><td>70000    </td></tr>\n",
       "\t<tr><th scope=row>7</th><td>1007     </td><td>Grace    </td><td>IT       </td><td>F        </td><td>Full-time</td><td>75000    </td></tr>\n",
       "</tbody>\n",
       "</table>\n",
       "</dd>\n",
       "\t<dt>$M</dt>\n",
       "\t\t<dd><table>\n",
       "<thead><tr><th></th><th scope=col>id</th><th scope=col>name</th><th scope=col>department</th><th scope=col>gender</th><th scope=col>type</th><th scope=col>salary</th></tr></thead>\n",
       "<tbody>\n",
       "\t<tr><th scope=row>2</th><td>1002     </td><td>Bob      </td><td>IT       </td><td>M        </td><td>Contract </td><td>60000    </td></tr>\n",
       "\t<tr><th scope=row>3</th><td>1003     </td><td>Charlie  </td><td>Finance  </td><td>M        </td><td>Full-time</td><td>55000    </td></tr>\n",
       "\t<tr><th scope=row>4</th><td>1004     </td><td>David    </td><td>Marketing</td><td>M        </td><td>Contract </td><td>30000    </td></tr>\n",
       "\t<tr><th scope=row>6</th><td>1006     </td><td>Frank    </td><td>Admin    </td><td>M        </td><td>Contract </td><td>40000    </td></tr>\n",
       "</tbody>\n",
       "</table>\n",
       "</dd>\n",
       "</dl>\n"
      ],
      "text/latex": [
       "\\begin{description}\n",
       "\\item[\\$F] \\begin{tabular}{r|llllll}\n",
       "  & id & name & department & gender & type & salary\\\\\n",
       "\\hline\n",
       "\t1 & 1001      & Alice     & HR        & F         & Full-time & 50000    \\\\\n",
       "\t5 & 1005      & Eva       & Sales     & F         & Full-time & 70000    \\\\\n",
       "\t7 & 1007      & Grace     & IT        & F         & Full-time & 75000    \\\\\n",
       "\\end{tabular}\n",
       "\n",
       "\\item[\\$M] \\begin{tabular}{r|llllll}\n",
       "  & id & name & department & gender & type & salary\\\\\n",
       "\\hline\n",
       "\t2 & 1002      & Bob       & IT        & M         & Contract  & 60000    \\\\\n",
       "\t3 & 1003      & Charlie   & Finance   & M         & Full-time & 55000    \\\\\n",
       "\t4 & 1004      & David     & Marketing & M         & Contract  & 30000    \\\\\n",
       "\t6 & 1006      & Frank     & Admin     & M         & Contract  & 40000    \\\\\n",
       "\\end{tabular}\n",
       "\n",
       "\\end{description}\n"
      ],
      "text/markdown": [
       "$F\n",
       ":   \n",
       "| <!--/--> | id | name | department | gender | type | salary |\n",
       "|---|---|---|---|---|---|---|\n",
       "| 1 | 1001      | Alice     | HR        | F         | Full-time | 50000     |\n",
       "| 5 | 1005      | Eva       | Sales     | F         | Full-time | 70000     |\n",
       "| 7 | 1007      | Grace     | IT        | F         | Full-time | 75000     |\n",
       "\n",
       "\n",
       "$M\n",
       ":   \n",
       "| <!--/--> | id | name | department | gender | type | salary |\n",
       "|---|---|---|---|---|---|---|\n",
       "| 2 | 1002      | Bob       | IT        | M         | Contract  | 60000     |\n",
       "| 3 | 1003      | Charlie   | Finance   | M         | Full-time | 55000     |\n",
       "| 4 | 1004      | David     | Marketing | M         | Contract  | 30000     |\n",
       "| 6 | 1006      | Frank     | Admin     | M         | Contract  | 40000     |\n",
       "\n",
       "\n",
       "\n",
       "\n"
      ],
      "text/plain": [
       "$F\n",
       "    id  name department gender      type salary\n",
       "1 1001 Alice         HR      F Full-time  50000\n",
       "5 1005   Eva      Sales      F Full-time  70000\n",
       "7 1007 Grace         IT      F Full-time  75000\n",
       "\n",
       "$M\n",
       "    id    name department gender      type salary\n",
       "2 1002     Bob         IT      M  Contract  60000\n",
       "3 1003 Charlie    Finance      M Full-time  55000\n",
       "4 1004   David  Marketing      M  Contract  30000\n",
       "6 1006   Frank      Admin      M  Contract  40000\n"
      ]
     },
     "metadata": {},
     "output_type": "display_data"
    }
   ],
   "source": [
    "split(employee.df, employee.df$gender)"
   ]
  },
  {
   "cell_type": "code",
   "execution_count": 87,
   "id": "625d00d0-bbd7-43cd-9b65-82b8fd4bd84c",
   "metadata": {},
   "outputs": [
    {
     "data": {
      "text/html": [
       "<dl>\n",
       "\t<dt>$Contract</dt>\n",
       "\t\t<dd><table>\n",
       "<thead><tr><th></th><th scope=col>id</th><th scope=col>name</th><th scope=col>department</th><th scope=col>gender</th><th scope=col>type</th><th scope=col>salary</th></tr></thead>\n",
       "<tbody>\n",
       "\t<tr><th scope=row>2</th><td>1002     </td><td>Bob      </td><td>IT       </td><td>M        </td><td>Contract </td><td>60000    </td></tr>\n",
       "\t<tr><th scope=row>4</th><td>1004     </td><td>David    </td><td>Marketing</td><td>M        </td><td>Contract </td><td>30000    </td></tr>\n",
       "\t<tr><th scope=row>6</th><td>1006     </td><td>Frank    </td><td>Admin    </td><td>M        </td><td>Contract </td><td>40000    </td></tr>\n",
       "</tbody>\n",
       "</table>\n",
       "</dd>\n",
       "\t<dt>$`Full-time`</dt>\n",
       "\t\t<dd><table>\n",
       "<thead><tr><th></th><th scope=col>id</th><th scope=col>name</th><th scope=col>department</th><th scope=col>gender</th><th scope=col>type</th><th scope=col>salary</th></tr></thead>\n",
       "<tbody>\n",
       "\t<tr><th scope=row>1</th><td>1001     </td><td>Alice    </td><td>HR       </td><td>F        </td><td>Full-time</td><td>50000    </td></tr>\n",
       "\t<tr><th scope=row>3</th><td>1003     </td><td>Charlie  </td><td>Finance  </td><td>M        </td><td>Full-time</td><td>55000    </td></tr>\n",
       "\t<tr><th scope=row>5</th><td>1005     </td><td>Eva      </td><td>Sales    </td><td>F        </td><td>Full-time</td><td>70000    </td></tr>\n",
       "\t<tr><th scope=row>7</th><td>1007     </td><td>Grace    </td><td>IT       </td><td>F        </td><td>Full-time</td><td>75000    </td></tr>\n",
       "</tbody>\n",
       "</table>\n",
       "</dd>\n",
       "</dl>\n"
      ],
      "text/latex": [
       "\\begin{description}\n",
       "\\item[\\$Contract] \\begin{tabular}{r|llllll}\n",
       "  & id & name & department & gender & type & salary\\\\\n",
       "\\hline\n",
       "\t2 & 1002      & Bob       & IT        & M         & Contract  & 60000    \\\\\n",
       "\t4 & 1004      & David     & Marketing & M         & Contract  & 30000    \\\\\n",
       "\t6 & 1006      & Frank     & Admin     & M         & Contract  & 40000    \\\\\n",
       "\\end{tabular}\n",
       "\n",
       "\\item[\\$`Full-time`] \\begin{tabular}{r|llllll}\n",
       "  & id & name & department & gender & type & salary\\\\\n",
       "\\hline\n",
       "\t1 & 1001      & Alice     & HR        & F         & Full-time & 50000    \\\\\n",
       "\t3 & 1003      & Charlie   & Finance   & M         & Full-time & 55000    \\\\\n",
       "\t5 & 1005      & Eva       & Sales     & F         & Full-time & 70000    \\\\\n",
       "\t7 & 1007      & Grace     & IT        & F         & Full-time & 75000    \\\\\n",
       "\\end{tabular}\n",
       "\n",
       "\\end{description}\n"
      ],
      "text/markdown": [
       "$Contract\n",
       ":   \n",
       "| <!--/--> | id | name | department | gender | type | salary |\n",
       "|---|---|---|---|---|---|---|\n",
       "| 2 | 1002      | Bob       | IT        | M         | Contract  | 60000     |\n",
       "| 4 | 1004      | David     | Marketing | M         | Contract  | 30000     |\n",
       "| 6 | 1006      | Frank     | Admin     | M         | Contract  | 40000     |\n",
       "\n",
       "\n",
       "$`Full-time`\n",
       ":   \n",
       "| <!--/--> | id | name | department | gender | type | salary |\n",
       "|---|---|---|---|---|---|---|\n",
       "| 1 | 1001      | Alice     | HR        | F         | Full-time | 50000     |\n",
       "| 3 | 1003      | Charlie   | Finance   | M         | Full-time | 55000     |\n",
       "| 5 | 1005      | Eva       | Sales     | F         | Full-time | 70000     |\n",
       "| 7 | 1007      | Grace     | IT        | F         | Full-time | 75000     |\n",
       "\n",
       "\n",
       "\n",
       "\n"
      ],
      "text/plain": [
       "$Contract\n",
       "    id  name department gender     type salary\n",
       "2 1002   Bob         IT      M Contract  60000\n",
       "4 1004 David  Marketing      M Contract  30000\n",
       "6 1006 Frank      Admin      M Contract  40000\n",
       "\n",
       "$`Full-time`\n",
       "    id    name department gender      type salary\n",
       "1 1001   Alice         HR      F Full-time  50000\n",
       "3 1003 Charlie    Finance      M Full-time  55000\n",
       "5 1005     Eva      Sales      F Full-time  70000\n",
       "7 1007   Grace         IT      F Full-time  75000\n"
      ]
     },
     "metadata": {},
     "output_type": "display_data"
    }
   ],
   "source": [
    "split(employee.df, employee.df$type)"
   ]
  },
  {
   "cell_type": "code",
   "execution_count": 95,
   "id": "b529144e-5e5e-49a0-9e42-84bbc724e951",
   "metadata": {},
   "outputs": [
    {
     "name": "stdout",
     "output_type": "stream",
     "text": [
      " [1] \"Java\"   \"Python\" \"C#\"     \"R\"      \"SQL\"    \"Java\"   \"Python\" \"C#\"    \n",
      " [9] \"R\"      \"SQL\"    \"Java\"   \"Python\" \"C#\"     \"R\"      \"SQL\"    \"Java\"  \n",
      "[17] \"Python\" \"Python\" \"R\"      \"Java\"   \"C#\"     \"R\"     \n"
     ]
    }
   ],
   "source": [
    "courses <- c('Java', 'Python', 'C#', 'R', 'SQL', 'Java', 'Python', 'C#', 'R', 'SQL', 'Java', 'Python', 'C#', 'R', 'SQL',\n",
    "            'Java', 'Python', 'Python', 'R', 'Java', 'C#', 'R')\n",
    "print(courses)"
   ]
  },
  {
   "cell_type": "code",
   "execution_count": 97,
   "id": "fbfe6970-f674-4bb5-ac48-56306e2c89ef",
   "metadata": {},
   "outputs": [
    {
     "data": {
      "text/plain": [
       "courses\n",
       "    C#   Java Python      R    SQL \n",
       "     4      5      5      5      3 "
      ]
     },
     "metadata": {},
     "output_type": "display_data"
    }
   ],
   "source": [
    "courses.table <- table(courses)\n",
    "courses.table"
   ]
  },
  {
   "cell_type": "code",
   "execution_count": 99,
   "id": "ae34dbf1-9ef9-4f28-9eed-7d3ddb834533",
   "metadata": {},
   "outputs": [
    {
     "data": {
      "text/html": [
       "'table'"
      ],
      "text/latex": [
       "'table'"
      ],
      "text/markdown": [
       "'table'"
      ],
      "text/plain": [
       "[1] \"table\""
      ]
     },
     "metadata": {},
     "output_type": "display_data"
    }
   ],
   "source": [
    "class(courses.table)"
   ]
  },
  {
   "cell_type": "code",
   "execution_count": 101,
   "id": "c2afc584-d223-4687-a61c-9e96bc30bfba",
   "metadata": {},
   "outputs": [
    {
     "data": {
      "text/html": [
       "22"
      ],
      "text/latex": [
       "22"
      ],
      "text/markdown": [
       "22"
      ],
      "text/plain": [
       "[1] 22"
      ]
     },
     "metadata": {},
     "output_type": "display_data"
    }
   ],
   "source": [
    "length(courses)"
   ]
  }
 ],
 "metadata": {
  "kernelspec": {
   "display_name": "R",
   "language": "R",
   "name": "ir"
  },
  "language_info": {
   "codemirror_mode": "r",
   "file_extension": ".r",
   "mimetype": "text/x-r-source",
   "name": "R",
   "pygments_lexer": "r",
   "version": "3.6.1"
  }
 },
 "nbformat": 4,
 "nbformat_minor": 5
}
