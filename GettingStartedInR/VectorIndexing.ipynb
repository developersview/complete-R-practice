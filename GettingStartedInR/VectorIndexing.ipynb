{
 "cells": [
  {
   "cell_type": "code",
   "execution_count": 1,
   "id": "f5f9a4d0-4d15-46bc-97ec-a80e799809f4",
   "metadata": {},
   "outputs": [
    {
     "data": {
      "text/html": [
       "<ol class=list-inline>\n",
       "\t<li>'Max'</li>\n",
       "\t<li>'Sean'</li>\n",
       "\t<li>'Oliver'</li>\n",
       "\t<li>'Jane'</li>\n",
       "\t<li>'Julie'</li>\n",
       "\t<li>'Deborah'</li>\n",
       "</ol>\n"
      ],
      "text/latex": [
       "\\begin{enumerate*}\n",
       "\\item 'Max'\n",
       "\\item 'Sean'\n",
       "\\item 'Oliver'\n",
       "\\item 'Jane'\n",
       "\\item 'Julie'\n",
       "\\item 'Deborah'\n",
       "\\end{enumerate*}\n"
      ],
      "text/markdown": [
       "1. 'Max'\n",
       "2. 'Sean'\n",
       "3. 'Oliver'\n",
       "4. 'Jane'\n",
       "5. 'Julie'\n",
       "6. 'Deborah'\n",
       "\n",
       "\n"
      ],
      "text/plain": [
       "[1] \"Max\"     \"Sean\"    \"Oliver\"  \"Jane\"    \"Julie\"   \"Deborah\""
      ]
     },
     "metadata": {},
     "output_type": "display_data"
    }
   ],
   "source": [
    "students <- c('Max', 'Sean', 'Oliver', 'Jane', 'Julie', 'Deborah')\n",
    "students"
   ]
  },
  {
   "cell_type": "code",
   "execution_count": 3,
   "id": "4d6bdd19-a738-4bbd-bcb7-6f3afd34d615",
   "metadata": {},
   "outputs": [
    {
     "data": {
      "text/html": [
       "<ol class=list-inline>\n",
       "\t<li>'Max'</li>\n",
       "\t<li>'Sean'</li>\n",
       "\t<li>'Oliver'</li>\n",
       "\t<li>'Jane'</li>\n",
       "\t<li>'Julie'</li>\n",
       "\t<li>'Deborah'</li>\n",
       "</ol>\n"
      ],
      "text/latex": [
       "\\begin{enumerate*}\n",
       "\\item 'Max'\n",
       "\\item 'Sean'\n",
       "\\item 'Oliver'\n",
       "\\item 'Jane'\n",
       "\\item 'Julie'\n",
       "\\item 'Deborah'\n",
       "\\end{enumerate*}\n"
      ],
      "text/markdown": [
       "1. 'Max'\n",
       "2. 'Sean'\n",
       "3. 'Oliver'\n",
       "4. 'Jane'\n",
       "5. 'Julie'\n",
       "6. 'Deborah'\n",
       "\n",
       "\n"
      ],
      "text/plain": [
       "[1] \"Max\"     \"Sean\"    \"Oliver\"  \"Jane\"    \"Julie\"   \"Deborah\""
      ]
     },
     "metadata": {},
     "output_type": "display_data"
    }
   ],
   "source": [
    "students[]"
   ]
  },
  {
   "cell_type": "code",
   "execution_count": 5,
   "id": "12b5d1ec-71ae-4354-a808-bdeec7759c93",
   "metadata": {},
   "outputs": [
    {
     "data": {
      "text/html": [
       "'Max'"
      ],
      "text/latex": [
       "'Max'"
      ],
      "text/markdown": [
       "'Max'"
      ],
      "text/plain": [
       "[1] \"Max\""
      ]
     },
     "metadata": {},
     "output_type": "display_data"
    }
   ],
   "source": [
    "students[1]"
   ]
  },
  {
   "cell_type": "code",
   "execution_count": 7,
   "id": "bc485bbb-c6fa-462a-badb-299628c31456",
   "metadata": {},
   "outputs": [
    {
     "data": {
      "text/html": [
       "<ol class=list-inline>\n",
       "\t<li>'Max'</li>\n",
       "\t<li>'Sean'</li>\n",
       "</ol>\n"
      ],
      "text/latex": [
       "\\begin{enumerate*}\n",
       "\\item 'Max'\n",
       "\\item 'Sean'\n",
       "\\end{enumerate*}\n"
      ],
      "text/markdown": [
       "1. 'Max'\n",
       "2. 'Sean'\n",
       "\n",
       "\n"
      ],
      "text/plain": [
       "[1] \"Max\"  \"Sean\""
      ]
     },
     "metadata": {},
     "output_type": "display_data"
    }
   ],
   "source": [
    "students[1:2]"
   ]
  },
  {
   "cell_type": "code",
   "execution_count": 17,
   "id": "336e5e01-5164-4a2a-9ddd-fca05f91709c",
   "metadata": {},
   "outputs": [
    {
     "data": {
      "text/html": [],
      "text/latex": [],
      "text/markdown": [],
      "text/plain": [
       "character(0)"
      ]
     },
     "metadata": {},
     "output_type": "display_data"
    }
   ],
   "source": [
    "students[0]"
   ]
  },
  {
   "cell_type": "code",
   "execution_count": 19,
   "id": "7829501d-3912-4a42-ab74-1ccdecb76dba",
   "metadata": {},
   "outputs": [
    {
     "data": {
      "text/html": [
       "'Sean'"
      ],
      "text/latex": [
       "'Sean'"
      ],
      "text/markdown": [
       "'Sean'"
      ],
      "text/plain": [
       "[1] \"Sean\""
      ]
     },
     "metadata": {},
     "output_type": "display_data"
    }
   ],
   "source": [
    "students[2]"
   ]
  },
  {
   "cell_type": "code",
   "execution_count": 21,
   "id": "81c05f51-05f2-462f-96c4-e89b37122b29",
   "metadata": {},
   "outputs": [
    {
     "data": {
      "text/html": [
       "NA"
      ],
      "text/latex": [
       "NA"
      ],
      "text/markdown": [
       "NA"
      ],
      "text/plain": [
       "[1] NA"
      ]
     },
     "metadata": {},
     "output_type": "display_data"
    }
   ],
   "source": [
    "students[7]"
   ]
  },
  {
   "cell_type": "code",
   "execution_count": 23,
   "id": "56256557-ddac-4b3f-be76-9a40844cf2e3",
   "metadata": {},
   "outputs": [
    {
     "data": {
      "text/html": [
       "<ol class=list-inline>\n",
       "\t<li>'Sean'</li>\n",
       "\t<li>'Oliver'</li>\n",
       "\t<li>'Jane'</li>\n",
       "\t<li>'Julie'</li>\n",
       "</ol>\n"
      ],
      "text/latex": [
       "\\begin{enumerate*}\n",
       "\\item 'Sean'\n",
       "\\item 'Oliver'\n",
       "\\item 'Jane'\n",
       "\\item 'Julie'\n",
       "\\end{enumerate*}\n"
      ],
      "text/markdown": [
       "1. 'Sean'\n",
       "2. 'Oliver'\n",
       "3. 'Jane'\n",
       "4. 'Julie'\n",
       "\n",
       "\n"
      ],
      "text/plain": [
       "[1] \"Sean\"   \"Oliver\" \"Jane\"   \"Julie\" "
      ]
     },
     "metadata": {},
     "output_type": "display_data"
    }
   ],
   "source": [
    "students[2:5]"
   ]
  },
  {
   "cell_type": "code",
   "execution_count": 27,
   "id": "720da0e5-b15a-4c72-bb73-dbf78d6cd0a1",
   "metadata": {},
   "outputs": [
    {
     "data": {
      "text/html": [
       "<ol class=list-inline>\n",
       "\t<li>'Max'</li>\n",
       "\t<li>'Sean'</li>\n",
       "\t<li>'Oliver'</li>\n",
       "\t<li>'Jane'</li>\n",
       "\t<li>'Julie'</li>\n",
       "\t<li>'Deborah'</li>\n",
       "\t<li>NA</li>\n",
       "</ol>\n"
      ],
      "text/latex": [
       "\\begin{enumerate*}\n",
       "\\item 'Max'\n",
       "\\item 'Sean'\n",
       "\\item 'Oliver'\n",
       "\\item 'Jane'\n",
       "\\item 'Julie'\n",
       "\\item 'Deborah'\n",
       "\\item NA\n",
       "\\end{enumerate*}\n"
      ],
      "text/markdown": [
       "1. 'Max'\n",
       "2. 'Sean'\n",
       "3. 'Oliver'\n",
       "4. 'Jane'\n",
       "5. 'Julie'\n",
       "6. 'Deborah'\n",
       "7. NA\n",
       "\n",
       "\n"
      ],
      "text/plain": [
       "[1] \"Max\"     \"Sean\"    \"Oliver\"  \"Jane\"    \"Julie\"   \"Deborah\" NA       "
      ]
     },
     "metadata": {},
     "output_type": "display_data"
    }
   ],
   "source": [
    "students[0:7]"
   ]
  },
  {
   "cell_type": "code",
   "execution_count": 29,
   "id": "a5b7cf56-3f5d-4926-889b-089c43923fdf",
   "metadata": {},
   "outputs": [
    {
     "data": {
      "text/html": [
       "<ol class=list-inline>\n",
       "\t<li>'Sean'</li>\n",
       "\t<li>'Oliver'</li>\n",
       "\t<li>'Jane'</li>\n",
       "\t<li>'Julie'</li>\n",
       "\t<li>'Deborah'</li>\n",
       "</ol>\n"
      ],
      "text/latex": [
       "\\begin{enumerate*}\n",
       "\\item 'Sean'\n",
       "\\item 'Oliver'\n",
       "\\item 'Jane'\n",
       "\\item 'Julie'\n",
       "\\item 'Deborah'\n",
       "\\end{enumerate*}\n"
      ],
      "text/markdown": [
       "1. 'Sean'\n",
       "2. 'Oliver'\n",
       "3. 'Jane'\n",
       "4. 'Julie'\n",
       "5. 'Deborah'\n",
       "\n",
       "\n"
      ],
      "text/plain": [
       "[1] \"Sean\"    \"Oliver\"  \"Jane\"    \"Julie\"   \"Deborah\""
      ]
     },
     "metadata": {},
     "output_type": "display_data"
    }
   ],
   "source": [
    "students[-1]"
   ]
  },
  {
   "cell_type": "code",
   "execution_count": 31,
   "id": "e284a2c8-40d4-4475-b4fb-190438732eaf",
   "metadata": {},
   "outputs": [
    {
     "data": {
      "text/html": [
       "<ol class=list-inline>\n",
       "\t<li>'Max'</li>\n",
       "\t<li>'Oliver'</li>\n",
       "</ol>\n"
      ],
      "text/latex": [
       "\\begin{enumerate*}\n",
       "\\item 'Max'\n",
       "\\item 'Oliver'\n",
       "\\end{enumerate*}\n"
      ],
      "text/markdown": [
       "1. 'Max'\n",
       "2. 'Oliver'\n",
       "\n",
       "\n"
      ],
      "text/plain": [
       "[1] \"Max\"    \"Oliver\""
      ]
     },
     "metadata": {},
     "output_type": "display_data"
    }
   ],
   "source": [
    "students[c(1, 3)]"
   ]
  },
  {
   "cell_type": "code",
   "execution_count": 33,
   "id": "9fb7724f-e2a3-4dc6-84a4-135610fbf72d",
   "metadata": {},
   "outputs": [
    {
     "data": {
      "text/html": [
       "<ol class=list-inline>\n",
       "\t<li>'Sean'</li>\n",
       "\t<li>'Jane'</li>\n",
       "\t<li>'Julie'</li>\n",
       "\t<li>'Deborah'</li>\n",
       "</ol>\n"
      ],
      "text/latex": [
       "\\begin{enumerate*}\n",
       "\\item 'Sean'\n",
       "\\item 'Jane'\n",
       "\\item 'Julie'\n",
       "\\item 'Deborah'\n",
       "\\end{enumerate*}\n"
      ],
      "text/markdown": [
       "1. 'Sean'\n",
       "2. 'Jane'\n",
       "3. 'Julie'\n",
       "4. 'Deborah'\n",
       "\n",
       "\n"
      ],
      "text/plain": [
       "[1] \"Sean\"    \"Jane\"    \"Julie\"   \"Deborah\""
      ]
     },
     "metadata": {},
     "output_type": "display_data"
    }
   ],
   "source": [
    "students[c(-1, -3)]"
   ]
  },
  {
   "cell_type": "code",
   "execution_count": 35,
   "id": "fcf846cf-2d35-4199-95e9-f8bb33c309cf",
   "metadata": {},
   "outputs": [
    {
     "data": {
      "text/html": [
       "<ol class=list-inline>\n",
       "\t<li>'Max'</li>\n",
       "\t<li>'Oliver'</li>\n",
       "\t<li>'Jane'</li>\n",
       "</ol>\n"
      ],
      "text/latex": [
       "\\begin{enumerate*}\n",
       "\\item 'Max'\n",
       "\\item 'Oliver'\n",
       "\\item 'Jane'\n",
       "\\end{enumerate*}\n"
      ],
      "text/markdown": [
       "1. 'Max'\n",
       "2. 'Oliver'\n",
       "3. 'Jane'\n",
       "\n",
       "\n"
      ],
      "text/plain": [
       "[1] \"Max\"    \"Oliver\" \"Jane\"  "
      ]
     },
     "metadata": {},
     "output_type": "display_data"
    }
   ],
   "source": [
    "students[c(TRUE, FALSE, TRUE, TRUE, FALSE, FALSE)]"
   ]
  },
  {
   "cell_type": "code",
   "execution_count": 37,
   "id": "1f6129c5-efce-4ebd-a59c-32dbc0f3732c",
   "metadata": {},
   "outputs": [
    {
     "data": {
      "text/html": [
       "<ol class=list-inline>\n",
       "\t<li>'Max'</li>\n",
       "\t<li>'Oliver'</li>\n",
       "</ol>\n"
      ],
      "text/latex": [
       "\\begin{enumerate*}\n",
       "\\item 'Max'\n",
       "\\item 'Oliver'\n",
       "\\end{enumerate*}\n"
      ],
      "text/markdown": [
       "1. 'Max'\n",
       "2. 'Oliver'\n",
       "\n",
       "\n"
      ],
      "text/plain": [
       "[1] \"Max\"    \"Oliver\""
      ]
     },
     "metadata": {},
     "output_type": "display_data"
    }
   ],
   "source": [
    "students[c(1.4, 3.6)]"
   ]
  },
  {
   "cell_type": "code",
   "execution_count": 39,
   "id": "43ccbf6a-1b69-4f6e-b4f3-483c324051a7",
   "metadata": {},
   "outputs": [
    {
     "data": {
      "text/html": [
       "<ol class=list-inline>\n",
       "\t<li>'dog'</li>\n",
       "\t<li>'cat'</li>\n",
       "\t<li>'lion'</li>\n",
       "\t<li>'tiger'</li>\n",
       "</ol>\n"
      ],
      "text/latex": [
       "\\begin{enumerate*}\n",
       "\\item 'dog'\n",
       "\\item 'cat'\n",
       "\\item 'lion'\n",
       "\\item 'tiger'\n",
       "\\end{enumerate*}\n"
      ],
      "text/markdown": [
       "1. 'dog'\n",
       "2. 'cat'\n",
       "3. 'lion'\n",
       "4. 'tiger'\n",
       "\n",
       "\n"
      ],
      "text/plain": [
       "[1] \"dog\"   \"cat\"   \"lion\"  \"tiger\""
      ]
     },
     "metadata": {},
     "output_type": "display_data"
    }
   ],
   "source": [
    "animals <- c('dog', 'cat', 'lion', 'tiger')\n",
    "animals"
   ]
  },
  {
   "cell_type": "code",
   "execution_count": 41,
   "id": "4b85760b-b442-4c06-ba97-00264e8c7d14",
   "metadata": {},
   "outputs": [
    {
     "data": {
      "text/html": [
       "<ol class=list-inline>\n",
       "\t<li>'dog'</li>\n",
       "\t<li>'horse'</li>\n",
       "\t<li>'lion'</li>\n",
       "\t<li>'tiger'</li>\n",
       "</ol>\n"
      ],
      "text/latex": [
       "\\begin{enumerate*}\n",
       "\\item 'dog'\n",
       "\\item 'horse'\n",
       "\\item 'lion'\n",
       "\\item 'tiger'\n",
       "\\end{enumerate*}\n"
      ],
      "text/markdown": [
       "1. 'dog'\n",
       "2. 'horse'\n",
       "3. 'lion'\n",
       "4. 'tiger'\n",
       "\n",
       "\n"
      ],
      "text/plain": [
       "[1] \"dog\"   \"horse\" \"lion\"  \"tiger\""
      ]
     },
     "metadata": {},
     "output_type": "display_data"
    }
   ],
   "source": [
    "animals[2] <- 'horse'\n",
    "animals"
   ]
  },
  {
   "cell_type": "code",
   "execution_count": 43,
   "id": "5a7071a7-cdb9-471c-88b5-cd076d07ef13",
   "metadata": {},
   "outputs": [
    {
     "data": {
      "text/html": [
       "<ol class=list-inline>\n",
       "\t<li>'dog'</li>\n",
       "\t<li>'horse'</li>\n",
       "\t<li>'lion'</li>\n",
       "\t<li>'bear'</li>\n",
       "\t<li>'wolf'</li>\n",
       "</ol>\n"
      ],
      "text/latex": [
       "\\begin{enumerate*}\n",
       "\\item 'dog'\n",
       "\\item 'horse'\n",
       "\\item 'lion'\n",
       "\\item 'bear'\n",
       "\\item 'wolf'\n",
       "\\end{enumerate*}\n"
      ],
      "text/markdown": [
       "1. 'dog'\n",
       "2. 'horse'\n",
       "3. 'lion'\n",
       "4. 'bear'\n",
       "5. 'wolf'\n",
       "\n",
       "\n"
      ],
      "text/plain": [
       "[1] \"dog\"   \"horse\" \"lion\"  \"bear\"  \"wolf\" "
      ]
     },
     "metadata": {},
     "output_type": "display_data"
    }
   ],
   "source": [
    "animals[c(4,5)] <- c('bear', 'wolf')\n",
    "animals"
   ]
  },
  {
   "cell_type": "code",
   "execution_count": 45,
   "id": "586cf7e9-ee07-4818-b3e1-56cd6e5febb3",
   "metadata": {},
   "outputs": [
    {
     "data": {
      "text/html": [
       "<ol class=list-inline>\n",
       "\t<li>'dog'</li>\n",
       "\t<li>'horse'</li>\n",
       "\t<li>'lion'</li>\n",
       "\t<li>'bear'</li>\n",
       "\t<li>'wolf'</li>\n",
       "\t<li>'squirrel'</li>\n",
       "</ol>\n"
      ],
      "text/latex": [
       "\\begin{enumerate*}\n",
       "\\item 'dog'\n",
       "\\item 'horse'\n",
       "\\item 'lion'\n",
       "\\item 'bear'\n",
       "\\item 'wolf'\n",
       "\\item 'squirrel'\n",
       "\\end{enumerate*}\n"
      ],
      "text/markdown": [
       "1. 'dog'\n",
       "2. 'horse'\n",
       "3. 'lion'\n",
       "4. 'bear'\n",
       "5. 'wolf'\n",
       "6. 'squirrel'\n",
       "\n",
       "\n"
      ],
      "text/plain": [
       "[1] \"dog\"      \"horse\"    \"lion\"     \"bear\"     \"wolf\"     \"squirrel\""
      ]
     },
     "metadata": {},
     "output_type": "display_data"
    }
   ],
   "source": [
    "animals <- c(animals[1:5], 'squirrel')\n",
    "animals"
   ]
  },
  {
   "cell_type": "code",
   "execution_count": 47,
   "id": "837b5cb5-1e9a-4bc7-b37a-dc46d284f78e",
   "metadata": {},
   "outputs": [
    {
     "data": {
      "text/html": [
       "<ol class=list-inline>\n",
       "\t<li>'dog'</li>\n",
       "\t<li>'horse'</li>\n",
       "\t<li>'lion'</li>\n",
       "\t<li>'bear'</li>\n",
       "\t<li>'goat'</li>\n",
       "\t<li>'wolf'</li>\n",
       "\t<li>'squirrel'</li>\n",
       "</ol>\n"
      ],
      "text/latex": [
       "\\begin{enumerate*}\n",
       "\\item 'dog'\n",
       "\\item 'horse'\n",
       "\\item 'lion'\n",
       "\\item 'bear'\n",
       "\\item 'goat'\n",
       "\\item 'wolf'\n",
       "\\item 'squirrel'\n",
       "\\end{enumerate*}\n"
      ],
      "text/markdown": [
       "1. 'dog'\n",
       "2. 'horse'\n",
       "3. 'lion'\n",
       "4. 'bear'\n",
       "5. 'goat'\n",
       "6. 'wolf'\n",
       "7. 'squirrel'\n",
       "\n",
       "\n"
      ],
      "text/plain": [
       "[1] \"dog\"      \"horse\"    \"lion\"     \"bear\"     \"goat\"     \"wolf\"     \"squirrel\""
      ]
     },
     "metadata": {},
     "output_type": "display_data"
    }
   ],
   "source": [
    "animals <- c(animals[1:4], 'goat', animals[5:6])\n",
    "animals"
   ]
  }
 ],
 "metadata": {
  "kernelspec": {
   "display_name": "R",
   "language": "R",
   "name": "ir"
  },
  "language_info": {
   "codemirror_mode": "r",
   "file_extension": ".r",
   "mimetype": "text/x-r-source",
   "name": "R",
   "pygments_lexer": "r",
   "version": "3.6.1"
  }
 },
 "nbformat": 4,
 "nbformat_minor": 5
}
