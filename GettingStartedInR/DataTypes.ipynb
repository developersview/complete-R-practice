{
 "cells": [
  {
   "cell_type": "markdown",
   "id": "b4bf270d-9f28-4f68-9e2b-7a8b7db53885",
   "metadata": {},
   "source": [
    "## typeof\n",
    "typeof determines the (R internal) type or storage mode of any objection."
   ]
  },
  {
   "cell_type": "code",
   "execution_count": 1,
   "id": "da1842db-45a9-4e7b-b6b1-c2534d180b44",
   "metadata": {},
   "outputs": [
    {
     "data": {
      "text/html": [
       "'logical'"
      ],
      "text/latex": [
       "'logical'"
      ],
      "text/markdown": [
       "'logical'"
      ],
      "text/plain": [
       "[1] \"logical\""
      ]
     },
     "metadata": {},
     "output_type": "display_data"
    }
   ],
   "source": [
    "typeof(TRUE)"
   ]
  },
  {
   "cell_type": "code",
   "execution_count": 3,
   "id": "d722fd6f-69be-48a8-a930-db6066ec69e9",
   "metadata": {},
   "outputs": [
    {
     "data": {
      "text/html": [
       "'logical'"
      ],
      "text/latex": [
       "'logical'"
      ],
      "text/markdown": [
       "'logical'"
      ],
      "text/plain": [
       "[1] \"logical\""
      ]
     },
     "metadata": {},
     "output_type": "display_data"
    }
   ],
   "source": [
    "typeof(FALSE)"
   ]
  },
  {
   "cell_type": "code",
   "execution_count": 5,
   "id": "a739031f-8355-4b42-a3cc-02147ed8a3a6",
   "metadata": {},
   "outputs": [
    {
     "data": {
      "text/html": [
       "'double'"
      ],
      "text/latex": [
       "'double'"
      ],
      "text/markdown": [
       "'double'"
      ],
      "text/plain": [
       "[1] \"double\""
      ]
     },
     "metadata": {},
     "output_type": "display_data"
    }
   ],
   "source": [
    "typeof(10)"
   ]
  },
  {
   "cell_type": "code",
   "execution_count": 7,
   "id": "71bc3f3f-0ec7-46e4-ae88-9b174b90d1bb",
   "metadata": {},
   "outputs": [
    {
     "data": {
      "text/html": [
       "'integer'"
      ],
      "text/latex": [
       "'integer'"
      ],
      "text/markdown": [
       "'integer'"
      ],
      "text/plain": [
       "[1] \"integer\""
      ]
     },
     "metadata": {},
     "output_type": "display_data"
    }
   ],
   "source": [
    "typeof(10L)"
   ]
  },
  {
   "cell_type": "code",
   "execution_count": 9,
   "id": "127f6d21-5b2a-40cb-b5af-e599a804a659",
   "metadata": {},
   "outputs": [
    {
     "data": {
      "text/html": [
       "'double'"
      ],
      "text/latex": [
       "'double'"
      ],
      "text/markdown": [
       "'double'"
      ],
      "text/plain": [
       "[1] \"double\""
      ]
     },
     "metadata": {},
     "output_type": "display_data"
    }
   ],
   "source": [
    "typeof(10.5)"
   ]
  },
  {
   "cell_type": "code",
   "execution_count": 11,
   "id": "0c99d473-aea7-46e6-8e2f-d80adb06fc55",
   "metadata": {},
   "outputs": [
    {
     "data": {
      "text/html": [
       "'character'"
      ],
      "text/latex": [
       "'character'"
      ],
      "text/markdown": [
       "'character'"
      ],
      "text/plain": [
       "[1] \"character\""
      ]
     },
     "metadata": {},
     "output_type": "display_data"
    }
   ],
   "source": [
    "typeof(\"Pranoy\")"
   ]
  },
  {
   "cell_type": "code",
   "execution_count": 15,
   "id": "cfc04148-cd6b-47d2-b32d-e7ea517e99c0",
   "metadata": {},
   "outputs": [
    {
     "data": {
      "text/html": [
       "'complex'"
      ],
      "text/latex": [
       "'complex'"
      ],
      "text/markdown": [
       "'complex'"
      ],
      "text/plain": [
       "[1] \"complex\""
      ]
     },
     "metadata": {},
     "output_type": "display_data"
    }
   ],
   "source": [
    "typeof(5 + 6i)"
   ]
  },
  {
   "cell_type": "code",
   "execution_count": 33,
   "id": "d8baafb1-1dd2-4b05-b124-cd130068d204",
   "metadata": {},
   "outputs": [
    {
     "data": {
      "text/html": [
       "'double'"
      ],
      "text/latex": [
       "'double'"
      ],
      "text/markdown": [
       "'double'"
      ],
      "text/plain": [
       "[1] \"double\""
      ]
     },
     "metadata": {},
     "output_type": "display_data"
    }
   ],
   "source": [
    "typeof(Inf)"
   ]
  },
  {
   "cell_type": "markdown",
   "id": "924f4c8e-706f-474e-90fb-f471368a84fb",
   "metadata": {},
   "source": [
    "## class\n",
    "R possesses a simple generic function mechanism which can be used for an object-oriented style of programming. Method dispatch takes place based on the class of the first argument to the generic function."
   ]
  },
  {
   "cell_type": "code",
   "execution_count": 17,
   "id": "f9ff898e-6349-4380-bcca-1ada7520318a",
   "metadata": {},
   "outputs": [
    {
     "data": {
      "text/html": [
       "'logical'"
      ],
      "text/latex": [
       "'logical'"
      ],
      "text/markdown": [
       "'logical'"
      ],
      "text/plain": [
       "[1] \"logical\""
      ]
     },
     "metadata": {},
     "output_type": "display_data"
    }
   ],
   "source": [
    "class(TRUE)"
   ]
  },
  {
   "cell_type": "code",
   "execution_count": 21,
   "id": "9086c32f-240a-49bb-8b20-da591f9e108e",
   "metadata": {},
   "outputs": [
    {
     "data": {
      "text/html": [
       "'numeric'"
      ],
      "text/latex": [
       "'numeric'"
      ],
      "text/markdown": [
       "'numeric'"
      ],
      "text/plain": [
       "[1] \"numeric\""
      ]
     },
     "metadata": {},
     "output_type": "display_data"
    }
   ],
   "source": [
    "class(10)"
   ]
  },
  {
   "cell_type": "code",
   "execution_count": 23,
   "id": "15b972a2-bd0c-4d33-adbc-c61f2fb90a59",
   "metadata": {},
   "outputs": [
    {
     "data": {
      "text/html": [
       "'integer'"
      ],
      "text/latex": [
       "'integer'"
      ],
      "text/markdown": [
       "'integer'"
      ],
      "text/plain": [
       "[1] \"integer\""
      ]
     },
     "metadata": {},
     "output_type": "display_data"
    }
   ],
   "source": [
    "class(10L)"
   ]
  },
  {
   "cell_type": "code",
   "execution_count": 25,
   "id": "38d8dca5-0be4-46a9-8f11-46e6e262f5f0",
   "metadata": {},
   "outputs": [
    {
     "data": {
      "text/html": [
       "'numeric'"
      ],
      "text/latex": [
       "'numeric'"
      ],
      "text/markdown": [
       "'numeric'"
      ],
      "text/plain": [
       "[1] \"numeric\""
      ]
     },
     "metadata": {},
     "output_type": "display_data"
    }
   ],
   "source": [
    "class(10.5)"
   ]
  },
  {
   "cell_type": "code",
   "execution_count": 27,
   "id": "7613478d-38f2-4862-b1d2-19d40755f50e",
   "metadata": {},
   "outputs": [
    {
     "data": {
      "text/html": [
       "'character'"
      ],
      "text/latex": [
       "'character'"
      ],
      "text/markdown": [
       "'character'"
      ],
      "text/plain": [
       "[1] \"character\""
      ]
     },
     "metadata": {},
     "output_type": "display_data"
    }
   ],
   "source": [
    "class(\"Pranoy\")"
   ]
  },
  {
   "cell_type": "code",
   "execution_count": 29,
   "id": "525ff1de-4021-4c54-b9ef-11fbeff047ec",
   "metadata": {},
   "outputs": [
    {
     "data": {
      "text/html": [
       "'numeric'"
      ],
      "text/latex": [
       "'numeric'"
      ],
      "text/markdown": [
       "'numeric'"
      ],
      "text/plain": [
       "[1] \"numeric\""
      ]
     },
     "metadata": {},
     "output_type": "display_data"
    }
   ],
   "source": [
    "class(Inf)"
   ]
  },
  {
   "cell_type": "code",
   "execution_count": 31,
   "id": "5e987dd1-781f-49c3-a5bd-4f2560fb1bd6",
   "metadata": {},
   "outputs": [
    {
     "data": {
      "text/html": [
       "'complex'"
      ],
      "text/latex": [
       "'complex'"
      ],
      "text/markdown": [
       "'complex'"
      ],
      "text/plain": [
       "[1] \"complex\""
      ]
     },
     "metadata": {},
     "output_type": "display_data"
    }
   ],
   "source": [
    "class(5 + 6i)"
   ]
  },
  {
   "cell_type": "code",
   "execution_count": 43,
   "id": "e34f0868-3c3e-4993-82f7-9461eed4b902",
   "metadata": {},
   "outputs": [],
   "source": [
    "double.var <- 10\n",
    "int.var <- 10L\n",
    "boolean.var <- FALSE\n",
    "complex.var <- 4 + 6i\n",
    "char.var <- \"hello\""
   ]
  },
  {
   "cell_type": "code",
   "execution_count": 45,
   "id": "ea0f67ff-0b45-4f7b-a9ae-b3c2f6e9c661",
   "metadata": {},
   "outputs": [
    {
     "data": {
      "text/html": [
       "TRUE"
      ],
      "text/latex": [
       "TRUE"
      ],
      "text/markdown": [
       "TRUE"
      ],
      "text/plain": [
       "[1] TRUE"
      ]
     },
     "metadata": {},
     "output_type": "display_data"
    }
   ],
   "source": [
    "is.numeric(double.var)"
   ]
  },
  {
   "cell_type": "code",
   "execution_count": 47,
   "id": "f8fb59f8-10ae-4a88-bd17-91c64057ea79",
   "metadata": {},
   "outputs": [
    {
     "data": {
      "text/html": [
       "TRUE"
      ],
      "text/latex": [
       "TRUE"
      ],
      "text/markdown": [
       "TRUE"
      ],
      "text/plain": [
       "[1] TRUE"
      ]
     },
     "metadata": {},
     "output_type": "display_data"
    }
   ],
   "source": [
    "is.numeric(int.var)"
   ]
  },
  {
   "cell_type": "code",
   "execution_count": 49,
   "id": "e413a7c9-d82e-41fa-872b-c06fa4eb6e31",
   "metadata": {},
   "outputs": [
    {
     "data": {
      "text/html": [
       "FALSE"
      ],
      "text/latex": [
       "FALSE"
      ],
      "text/markdown": [
       "FALSE"
      ],
      "text/plain": [
       "[1] FALSE"
      ]
     },
     "metadata": {},
     "output_type": "display_data"
    }
   ],
   "source": [
    "is.integer(double.var)"
   ]
  },
  {
   "cell_type": "code",
   "execution_count": 51,
   "id": "3f55b316-6822-4579-b4cc-8a1c98c7e97d",
   "metadata": {},
   "outputs": [
    {
     "data": {
      "text/html": [
       "TRUE"
      ],
      "text/latex": [
       "TRUE"
      ],
      "text/markdown": [
       "TRUE"
      ],
      "text/plain": [
       "[1] TRUE"
      ]
     },
     "metadata": {},
     "output_type": "display_data"
    }
   ],
   "source": [
    "is.integer(int.var)"
   ]
  },
  {
   "cell_type": "code",
   "execution_count": 53,
   "id": "5e5d7235-b252-448d-ba31-19a6e8417b22",
   "metadata": {},
   "outputs": [
    {
     "data": {
      "text/html": [
       "TRUE"
      ],
      "text/latex": [
       "TRUE"
      ],
      "text/markdown": [
       "TRUE"
      ],
      "text/plain": [
       "[1] TRUE"
      ]
     },
     "metadata": {},
     "output_type": "display_data"
    }
   ],
   "source": [
    "is.logical(boolean.var)"
   ]
  },
  {
   "cell_type": "code",
   "execution_count": 55,
   "id": "34405a49-1c8b-4159-bd7c-ed7940e13203",
   "metadata": {},
   "outputs": [
    {
     "data": {
      "text/html": [
       "TRUE"
      ],
      "text/latex": [
       "TRUE"
      ],
      "text/markdown": [
       "TRUE"
      ],
      "text/plain": [
       "[1] TRUE"
      ]
     },
     "metadata": {},
     "output_type": "display_data"
    }
   ],
   "source": [
    "is.logical(double.var < 5)"
   ]
  },
  {
   "cell_type": "code",
   "execution_count": 57,
   "id": "cd3f98b4-dda6-475d-96e1-673ae72129ba",
   "metadata": {},
   "outputs": [
    {
     "data": {
      "text/html": [
       "TRUE"
      ],
      "text/latex": [
       "TRUE"
      ],
      "text/markdown": [
       "TRUE"
      ],
      "text/plain": [
       "[1] TRUE"
      ]
     },
     "metadata": {},
     "output_type": "display_data"
    }
   ],
   "source": [
    "is.character(char.var)"
   ]
  },
  {
   "cell_type": "code",
   "execution_count": 59,
   "id": "5d37ae6e-332d-49d6-90a5-29332037da11",
   "metadata": {},
   "outputs": [
    {
     "data": {
      "text/html": [
       "FALSE"
      ],
      "text/latex": [
       "FALSE"
      ],
      "text/markdown": [
       "FALSE"
      ],
      "text/plain": [
       "[1] FALSE"
      ]
     },
     "metadata": {},
     "output_type": "display_data"
    }
   ],
   "source": [
    "is.complex(5)"
   ]
  },
  {
   "cell_type": "code",
   "execution_count": 61,
   "id": "2066ad97-6ca2-4d21-94a3-b733eecd8c24",
   "metadata": {},
   "outputs": [
    {
     "data": {
      "text/html": [
       "TRUE"
      ],
      "text/latex": [
       "TRUE"
      ],
      "text/markdown": [
       "TRUE"
      ],
      "text/plain": [
       "[1] TRUE"
      ]
     },
     "metadata": {},
     "output_type": "display_data"
    }
   ],
   "source": [
    "is.complex(5 + 6i)"
   ]
  },
  {
   "cell_type": "code",
   "execution_count": 63,
   "id": "cf17e78e-f936-40fa-bf58-cca28f9e0f0c",
   "metadata": {},
   "outputs": [
    {
     "data": {
      "text/html": [
       "'100'"
      ],
      "text/latex": [
       "'100'"
      ],
      "text/markdown": [
       "'100'"
      ],
      "text/plain": [
       "[1] \"100\""
      ]
     },
     "metadata": {},
     "output_type": "display_data"
    }
   ],
   "source": [
    "var1 <- \"100\"\n",
    "var1"
   ]
  },
  {
   "cell_type": "code",
   "execution_count": 65,
   "id": "7b85638b-e739-41bc-9fbc-63eff99159e8",
   "metadata": {},
   "outputs": [
    {
     "data": {
      "text/html": [
       "'character'"
      ],
      "text/latex": [
       "'character'"
      ],
      "text/markdown": [
       "'character'"
      ],
      "text/plain": [
       "[1] \"character\""
      ]
     },
     "metadata": {},
     "output_type": "display_data"
    }
   ],
   "source": [
    "typeof(var1)"
   ]
  },
  {
   "cell_type": "code",
   "execution_count": 67,
   "id": "b9a51284-635d-45e5-84a4-71a1e0c5d875",
   "metadata": {},
   "outputs": [
    {
     "data": {
      "text/html": [
       "100"
      ],
      "text/latex": [
       "100"
      ],
      "text/markdown": [
       "100"
      ],
      "text/plain": [
       "[1] 100"
      ]
     },
     "metadata": {},
     "output_type": "display_data"
    }
   ],
   "source": [
    "int.var1 <- as.integer(var1)\n",
    "int.var1"
   ]
  },
  {
   "cell_type": "code",
   "execution_count": 71,
   "id": "c49953b1-ffd0-4237-a2fc-02098f34394a",
   "metadata": {},
   "outputs": [
    {
     "data": {
      "text/html": [
       "'integer'"
      ],
      "text/latex": [
       "'integer'"
      ],
      "text/markdown": [
       "'integer'"
      ],
      "text/plain": [
       "[1] \"integer\""
      ]
     },
     "metadata": {},
     "output_type": "display_data"
    }
   ],
   "source": [
    "typeof(int.var1)"
   ]
  },
  {
   "cell_type": "code",
   "execution_count": 73,
   "id": "c4a5248a-ed9b-46fa-9c2e-28d48e397a61",
   "metadata": {},
   "outputs": [
    {
     "data": {
      "text/html": [
       "100"
      ],
      "text/latex": [
       "100"
      ],
      "text/markdown": [
       "100"
      ],
      "text/plain": [
       "[1] 100"
      ]
     },
     "metadata": {},
     "output_type": "display_data"
    }
   ],
   "source": [
    "num.var1 <- as.numeric(var1)\n",
    "num.var1"
   ]
  },
  {
   "cell_type": "code",
   "execution_count": 75,
   "id": "aba08217-611d-4a0b-bca8-63fb5f90ce0b",
   "metadata": {},
   "outputs": [
    {
     "data": {
      "text/html": [
       "'50'"
      ],
      "text/latex": [
       "'50'"
      ],
      "text/markdown": [
       "'50'"
      ],
      "text/plain": [
       "[1] \"50\""
      ]
     },
     "metadata": {},
     "output_type": "display_data"
    }
   ],
   "source": [
    "str.var1 <- as.character(50)\n",
    "str.var1"
   ]
  },
  {
   "cell_type": "code",
   "execution_count": 77,
   "id": "9e4a38af-5c30-4576-8b53-bf1dc6b543f9",
   "metadata": {},
   "outputs": [
    {
     "name": "stderr",
     "output_type": "stream",
     "text": [
      "Warning message in eval(expr, envir, enclos):\n",
      "\"imaginary parts discarded in coercion\""
     ]
    },
    {
     "data": {
      "text/html": [
       "3"
      ],
      "text/latex": [
       "3"
      ],
      "text/markdown": [
       "3"
      ],
      "text/plain": [
       "[1] 3"
      ]
     },
     "metadata": {},
     "output_type": "display_data"
    }
   ],
   "source": [
    "converted.complex <- as.numeric(3 + 4i)\n",
    "converted.complex"
   ]
  },
  {
   "cell_type": "code",
   "execution_count": 81,
   "id": "dc18b80f-bf94-4a2a-a18f-ba771eb5cf04",
   "metadata": {},
   "outputs": [
    {
     "name": "stderr",
     "output_type": "stream",
     "text": [
      "Warning message in eval(expr, envir, enclos):\n",
      "\"NAs introduced by coercion\""
     ]
    },
    {
     "data": {
      "text/html": [
       "&lt;NA&gt;"
      ],
      "text/latex": [
       "<NA>"
      ],
      "text/markdown": [
       "&lt;NA&gt;"
      ],
      "text/plain": [
       "[1] NA"
      ]
     },
     "metadata": {},
     "output_type": "display_data"
    }
   ],
   "source": [
    "converted.char <- as.numeric(\"Hello\")\n",
    "converted.char"
   ]
  }
 ],
 "metadata": {
  "kernelspec": {
   "display_name": "R",
   "language": "R",
   "name": "ir"
  },
  "language_info": {
   "codemirror_mode": "r",
   "file_extension": ".r",
   "mimetype": "text/x-r-source",
   "name": "R",
   "pygments_lexer": "r",
   "version": "3.6.1"
  }
 },
 "nbformat": 4,
 "nbformat_minor": 5
}
