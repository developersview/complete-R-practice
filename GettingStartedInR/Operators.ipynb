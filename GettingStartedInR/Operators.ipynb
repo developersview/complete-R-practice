{
 "cells": [
  {
   "cell_type": "markdown",
   "id": "0672bbf9-49a4-4ec1-bdcb-e3cbf6ce4bcd",
   "metadata": {},
   "source": [
    "### Airthmetic Operators"
   ]
  },
  {
   "cell_type": "code",
   "execution_count": 1,
   "id": "002b368c-83ca-4301-9e99-afaeec768890",
   "metadata": {},
   "outputs": [
    {
     "data": {
      "text/html": [
       "168.5"
      ],
      "text/latex": [
       "168.5"
      ],
      "text/markdown": [
       "168.5"
      ],
      "text/plain": [
       "[1] 168.5"
      ]
     },
     "metadata": {},
     "output_type": "display_data"
    }
   ],
   "source": [
    "123.5 + 45L"
   ]
  },
  {
   "cell_type": "code",
   "execution_count": 3,
   "id": "cfc50a72-432f-4ef5-adfd-cb950556177d",
   "metadata": {},
   "outputs": [
    {
     "data": {
      "text/html": [
       "-13.4"
      ],
      "text/latex": [
       "-13.4"
      ],
      "text/markdown": [
       "-13.4"
      ],
      "text/plain": [
       "[1] -13.4"
      ]
     },
     "metadata": {},
     "output_type": "display_data"
    }
   ],
   "source": [
    "32.8 - 46.2"
   ]
  },
  {
   "cell_type": "code",
   "execution_count": 5,
   "id": "f3c9bf20-6f23-4085-abf2-266b56a5a899",
   "metadata": {},
   "outputs": [
    {
     "data": {
      "text/html": [
       "66"
      ],
      "text/latex": [
       "66"
      ],
      "text/markdown": [
       "66"
      ],
      "text/plain": [
       "[1] 66"
      ]
     },
     "metadata": {},
     "output_type": "display_data"
    }
   ],
   "source": [
    "12 * 5.5"
   ]
  },
  {
   "cell_type": "code",
   "execution_count": 7,
   "id": "b2099d14-62ad-4dbb-86a5-6302dfd9d401",
   "metadata": {},
   "outputs": [
    {
     "data": {
      "text/html": [
       "2.67857142857143"
      ],
      "text/latex": [
       "2.67857142857143"
      ],
      "text/markdown": [
       "2.67857142857143"
      ],
      "text/plain": [
       "[1] 2.678571"
      ]
     },
     "metadata": {},
     "output_type": "display_data"
    }
   ],
   "source": [
    "15 / 5.6"
   ]
  },
  {
   "cell_type": "code",
   "execution_count": 9,
   "id": "51c55284-b79a-47a7-b0dc-d3ed84b8d5e5",
   "metadata": {},
   "outputs": [
    {
     "data": {
      "text/html": [
       "5.33333333333333"
      ],
      "text/latex": [
       "5.33333333333333"
      ],
      "text/markdown": [
       "5.33333333333333"
      ],
      "text/plain": [
       "[1] 5.333333"
      ]
     },
     "metadata": {},
     "output_type": "display_data"
    }
   ],
   "source": [
    "16 / 3"
   ]
  },
  {
   "cell_type": "code",
   "execution_count": 17,
   "id": "cd6f7182-52d1-45e2-9b7f-f3f2124871d5",
   "metadata": {},
   "outputs": [
    {
     "data": {
      "text/html": [
       "5"
      ],
      "text/latex": [
       "5"
      ],
      "text/markdown": [
       "5"
      ],
      "text/plain": [
       "[1] 5"
      ]
     },
     "metadata": {},
     "output_type": "display_data"
    }
   ],
   "source": [
    "16 %/% 3 #integer division - returns interger portion of quotient"
   ]
  },
  {
   "cell_type": "code",
   "execution_count": 19,
   "id": "142d6b56-a107-4323-92cf-8fbbaba4e1d5",
   "metadata": {},
   "outputs": [
    {
     "data": {
      "text/html": [
       "4"
      ],
      "text/latex": [
       "4"
      ],
      "text/markdown": [
       "4"
      ],
      "text/plain": [
       "[1] 4"
      ]
     },
     "metadata": {},
     "output_type": "display_data"
    }
   ],
   "source": [
    "12.5 %/% 3"
   ]
  },
  {
   "cell_type": "code",
   "execution_count": 29,
   "id": "e5c823cc-3296-4b49-b806-1f709a36a2d9",
   "metadata": {},
   "outputs": [
    {
     "data": {
      "text/html": [
       "5"
      ],
      "text/latex": [
       "5"
      ],
      "text/markdown": [
       "5"
      ],
      "text/plain": [
       "[1] 5"
      ]
     },
     "metadata": {},
     "output_type": "display_data"
    }
   ],
   "source": [
    "21 %% 8 #mod - returns reminder"
   ]
  },
  {
   "cell_type": "code",
   "execution_count": 33,
   "id": "83e44f91-e9b9-4017-a8e7-e796fd22b628",
   "metadata": {},
   "outputs": [
    {
     "data": {
      "text/html": [
       "256"
      ],
      "text/latex": [
       "256"
      ],
      "text/markdown": [
       "256"
      ],
      "text/plain": [
       "[1] 256"
      ]
     },
     "metadata": {},
     "output_type": "display_data"
    }
   ],
   "source": [
    "2 ** 8"
   ]
  },
  {
   "cell_type": "code",
   "execution_count": 35,
   "id": "5592c5ed-c44b-49fa-bffc-251d115d188e",
   "metadata": {},
   "outputs": [
    {
     "data": {
      "text/html": [
       "256"
      ],
      "text/latex": [
       "256"
      ],
      "text/markdown": [
       "256"
      ],
      "text/plain": [
       "[1] 256"
      ]
     },
     "metadata": {},
     "output_type": "display_data"
    }
   ],
   "source": [
    "2 ^ 8"
   ]
  },
  {
   "cell_type": "code",
   "execution_count": 41,
   "id": "8439eaf4-86ba-478f-959f-f2d654724f32",
   "metadata": {},
   "outputs": [
    {
     "data": {
      "text/html": [
       "3149.32627722369"
      ],
      "text/latex": [
       "3149.32627722369"
      ],
      "text/markdown": [
       "3149.32627722369"
      ],
      "text/plain": [
       "[1] 3149.326"
      ]
     },
     "metadata": {},
     "output_type": "display_data"
    }
   ],
   "source": [
    "(((45.6) + (78.9)) / (100.5 - 92)) ^ 3 + 7"
   ]
  },
  {
   "cell_type": "markdown",
   "id": "cb8b92de-a9bd-4732-916b-374c0c0c6388",
   "metadata": {},
   "source": [
    "### Logical Operators"
   ]
  },
  {
   "cell_type": "code",
   "execution_count": 43,
   "id": "00b03d2d-d6a5-435a-a72d-7720b4cf451d",
   "metadata": {},
   "outputs": [
    {
     "data": {
      "text/html": [
       "TRUE"
      ],
      "text/latex": [
       "TRUE"
      ],
      "text/markdown": [
       "TRUE"
      ],
      "text/plain": [
       "[1] TRUE"
      ]
     },
     "metadata": {},
     "output_type": "display_data"
    }
   ],
   "source": [
    "12 < 45"
   ]
  },
  {
   "cell_type": "code",
   "execution_count": 45,
   "id": "190de0ca-5166-448f-9b43-922c06ebbc7f",
   "metadata": {},
   "outputs": [
    {
     "data": {
      "text/html": [
       "FALSE"
      ],
      "text/latex": [
       "FALSE"
      ],
      "text/markdown": [
       "FALSE"
      ],
      "text/plain": [
       "[1] FALSE"
      ]
     },
     "metadata": {},
     "output_type": "display_data"
    }
   ],
   "source": [
    "67.8 < 54.2"
   ]
  },
  {
   "cell_type": "code",
   "execution_count": 47,
   "id": "97193580-d6c6-4803-806a-9a3f33944a4f",
   "metadata": {},
   "outputs": [
    {
     "data": {
      "text/html": [
       "TRUE"
      ],
      "text/latex": [
       "TRUE"
      ],
      "text/markdown": [
       "TRUE"
      ],
      "text/plain": [
       "[1] TRUE"
      ]
     },
     "metadata": {},
     "output_type": "display_data"
    }
   ],
   "source": [
    "12 <= 12"
   ]
  },
  {
   "cell_type": "code",
   "execution_count": 49,
   "id": "04e6e7dc-fed7-4812-94e1-7297b7c38578",
   "metadata": {},
   "outputs": [
    {
     "data": {
      "text/html": [
       "FALSE"
      ],
      "text/latex": [
       "FALSE"
      ],
      "text/markdown": [
       "FALSE"
      ],
      "text/plain": [
       "[1] FALSE"
      ]
     },
     "metadata": {},
     "output_type": "display_data"
    }
   ],
   "source": [
    "101 >= 101.2"
   ]
  },
  {
   "cell_type": "code",
   "execution_count": 51,
   "id": "e6c7b442-51d8-4109-aa29-7a9ac6380775",
   "metadata": {},
   "outputs": [
    {
     "data": {
      "text/html": [
       "TRUE"
      ],
      "text/latex": [
       "TRUE"
      ],
      "text/markdown": [
       "TRUE"
      ],
      "text/plain": [
       "[1] TRUE"
      ]
     },
     "metadata": {},
     "output_type": "display_data"
    }
   ],
   "source": [
    "100 == 100"
   ]
  },
  {
   "cell_type": "code",
   "execution_count": 55,
   "id": "8c48ab69-a482-4703-b41f-72ecd0051592",
   "metadata": {},
   "outputs": [
    {
     "data": {
      "text/html": [
       "TRUE"
      ],
      "text/latex": [
       "TRUE"
      ],
      "text/markdown": [
       "TRUE"
      ],
      "text/plain": [
       "[1] TRUE"
      ]
     },
     "metadata": {},
     "output_type": "display_data"
    }
   ],
   "source": [
    "123.45 == 123.45 #not recommended due to rounding errors"
   ]
  },
  {
   "cell_type": "code",
   "execution_count": 61,
   "id": "48561ec8-0295-4838-8ce4-7bcdc3323ff2",
   "metadata": {},
   "outputs": [
    {
     "data": {
      "text/html": [
       "FALSE"
      ],
      "text/latex": [
       "FALSE"
      ],
      "text/markdown": [
       "FALSE"
      ],
      "text/plain": [
       "[1] FALSE"
      ]
     },
     "metadata": {},
     "output_type": "display_data"
    }
   ],
   "source": [
    "pi == 3.14"
   ]
  },
  {
   "cell_type": "code",
   "execution_count": 65,
   "id": "48bd81f0-a06c-4672-9f70-752f9095017b",
   "metadata": {},
   "outputs": [
    {
     "data": {
      "text/html": [
       "2"
      ],
      "text/latex": [
       "2"
      ],
      "text/markdown": [
       "2"
      ],
      "text/plain": [
       "[1] 2"
      ]
     },
     "metadata": {},
     "output_type": "display_data"
    }
   ],
   "source": [
    "sqrt(2) ** 2"
   ]
  },
  {
   "cell_type": "code",
   "execution_count": 67,
   "id": "117c5f8a-bd88-4014-acb0-6ed911c6dd88",
   "metadata": {},
   "outputs": [
    {
     "data": {
      "text/html": [
       "4.44089209850063e-16"
      ],
      "text/latex": [
       "4.44089209850063e-16"
      ],
      "text/markdown": [
       "4.44089209850063e-16"
      ],
      "text/plain": [
       "[1] 4.440892e-16"
      ]
     },
     "metadata": {},
     "output_type": "display_data"
    }
   ],
   "source": [
    "(sqrt(2) ** 2) - 2"
   ]
  },
  {
   "cell_type": "code",
   "execution_count": 69,
   "id": "51f895de-c952-4dfd-b0c6-f1774394b6ce",
   "metadata": {},
   "outputs": [
    {
     "data": {
      "text/html": [
       "FALSE"
      ],
      "text/latex": [
       "FALSE"
      ],
      "text/markdown": [
       "FALSE"
      ],
      "text/plain": [
       "[1] FALSE"
      ]
     },
     "metadata": {},
     "output_type": "display_data"
    }
   ],
   "source": [
    "(sqrt(2) ** 2) - 2 == 0"
   ]
  },
  {
   "cell_type": "code",
   "execution_count": 73,
   "id": "8736ea76-35b5-43f9-84b3-4c966a91a17b",
   "metadata": {},
   "outputs": [
    {
     "data": {
      "text/html": [
       "FALSE"
      ],
      "text/latex": [
       "FALSE"
      ],
      "text/markdown": [
       "FALSE"
      ],
      "text/plain": [
       "[1] FALSE"
      ]
     },
     "metadata": {},
     "output_type": "display_data"
    }
   ],
   "source": [
    "123.456 == 123"
   ]
  },
  {
   "cell_type": "markdown",
   "id": "4df4ee82-eea1-46c0-b2ee-ec6cb34352c6",
   "metadata": {},
   "source": [
    "### Logical Binary Operators"
   ]
  },
  {
   "cell_type": "code",
   "execution_count": 75,
   "id": "0495f6d8-9f7f-4ab3-87c3-83b0daa75fcd",
   "metadata": {},
   "outputs": [
    {
     "data": {
      "text/html": [
       "FALSE"
      ],
      "text/latex": [
       "FALSE"
      ],
      "text/markdown": [
       "FALSE"
      ],
      "text/plain": [
       "[1] FALSE"
      ]
     },
     "metadata": {},
     "output_type": "display_data"
    }
   ],
   "source": [
    "!TRUE"
   ]
  },
  {
   "cell_type": "code",
   "execution_count": 77,
   "id": "4cebbb4c-7b8f-48ae-8af7-c60ea911d581",
   "metadata": {},
   "outputs": [
    {
     "data": {
      "text/html": [
       "TRUE"
      ],
      "text/latex": [
       "TRUE"
      ],
      "text/markdown": [
       "TRUE"
      ],
      "text/plain": [
       "[1] TRUE"
      ]
     },
     "metadata": {},
     "output_type": "display_data"
    }
   ],
   "source": [
    "!FALSE"
   ]
  },
  {
   "cell_type": "code",
   "execution_count": 81,
   "id": "3b0e59b4-9932-42a9-9857-45d23130d38f",
   "metadata": {},
   "outputs": [
    {
     "data": {
      "text/html": [
       "TRUE"
      ],
      "text/latex": [
       "TRUE"
      ],
      "text/markdown": [
       "TRUE"
      ],
      "text/plain": [
       "[1] TRUE"
      ]
     },
     "metadata": {},
     "output_type": "display_data"
    }
   ],
   "source": [
    "(12 > 5) || (11 > 100) "
   ]
  },
  {
   "cell_type": "code",
   "execution_count": 83,
   "id": "a56f54f0-be95-43ab-b135-98ea6b7b8acb",
   "metadata": {},
   "outputs": [
    {
     "data": {
      "text/html": [
       "FALSE"
      ],
      "text/latex": [
       "FALSE"
      ],
      "text/markdown": [
       "FALSE"
      ],
      "text/plain": [
       "[1] FALSE"
      ]
     },
     "metadata": {},
     "output_type": "display_data"
    }
   ],
   "source": [
    "(12 > 5) && (11 > 100)  "
   ]
  },
  {
   "cell_type": "markdown",
   "id": "55e00466-6214-426e-ba62-f634e6d3ba8a",
   "metadata": {},
   "source": [
    "### Assignment Operators"
   ]
  },
  {
   "cell_type": "code",
   "execution_count": 91,
   "id": "75a36f7a-f1a5-4550-87d5-b303efebad19",
   "metadata": {},
   "outputs": [
    {
     "data": {
      "text/html": [
       "89"
      ],
      "text/latex": [
       "89"
      ],
      "text/markdown": [
       "89"
      ],
      "text/plain": [
       "[1] 89"
      ]
     },
     "metadata": {},
     "output_type": "display_data"
    }
   ],
   "source": [
    "math.score = 89 # not recommened\n",
    "math.score"
   ]
  },
  {
   "cell_type": "code",
   "execution_count": 93,
   "id": "89a60589-69e2-4042-8b66-7db1cf07fd3f",
   "metadata": {},
   "outputs": [
    {
     "data": {
      "text/html": [
       "78"
      ],
      "text/latex": [
       "78"
      ],
      "text/markdown": [
       "78"
      ],
      "text/plain": [
       "[1] 78"
      ]
     },
     "metadata": {},
     "output_type": "display_data"
    }
   ],
   "source": [
    "english.score <- 78\n",
    "english.score"
   ]
  },
  {
   "cell_type": "code",
   "execution_count": 105,
   "id": "7e1b104f-ab9f-4ac7-a5aa-e474f39fb65e",
   "metadata": {},
   "outputs": [
    {
     "data": {
      "text/html": [
       "85"
      ],
      "text/latex": [
       "85"
      ],
      "text/markdown": [
       "85"
      ],
      "text/plain": [
       "[1] 85"
      ]
     },
     "metadata": {},
     "output_type": "display_data"
    }
   ],
   "source": [
    "physics.score <<- 85 # global assignment\n",
    "physics.score"
   ]
  },
  {
   "cell_type": "code",
   "execution_count": 107,
   "id": "5b4c6b1d-3a13-4fdc-8647-be9ff32b1f14",
   "metadata": {},
   "outputs": [
    {
     "data": {
      "text/html": [
       "73"
      ],
      "text/latex": [
       "73"
      ],
      "text/markdown": [
       "73"
      ],
      "text/plain": [
       "[1] 73"
      ]
     },
     "metadata": {},
     "output_type": "display_data"
    }
   ],
   "source": [
    "geo.score <- chem.score <- 73\n",
    "geo.score"
   ]
  },
  {
   "cell_type": "code",
   "execution_count": 109,
   "id": "7d06a347-4a72-4347-811b-b1184c46090c",
   "metadata": {},
   "outputs": [
    {
     "data": {
      "text/html": [
       "73"
      ],
      "text/latex": [
       "73"
      ],
      "text/markdown": [
       "73"
      ],
      "text/plain": [
       "[1] 73"
      ]
     },
     "metadata": {},
     "output_type": "display_data"
    }
   ],
   "source": [
    "chem.score"
   ]
  },
  {
   "cell_type": "code",
   "execution_count": 111,
   "id": "e8af4c69-e61a-4ba3-962b-531dd71262bf",
   "metadata": {},
   "outputs": [
    {
     "ename": "ERROR",
     "evalue": "Error in 28 = physics.score: invalid (do_set) left-hand side to assignment\n",
     "output_type": "error",
     "traceback": [
      "Error in 28 = physics.score: invalid (do_set) left-hand side to assignment\nTraceback:\n"
     ]
    }
   ],
   "source": [
    "28 = physics.score"
   ]
  },
  {
   "cell_type": "code",
   "execution_count": 113,
   "id": "0d991839-5146-473b-af91-002ad9483f34",
   "metadata": {},
   "outputs": [
    {
     "data": {
      "text/html": [
       "28"
      ],
      "text/latex": [
       "28"
      ],
      "text/markdown": [
       "28"
      ],
      "text/plain": [
       "[1] 28"
      ]
     },
     "metadata": {},
     "output_type": "display_data"
    }
   ],
   "source": [
    "28 -> physics.score\n",
    "physics.score"
   ]
  },
  {
   "cell_type": "code",
   "execution_count": null,
   "id": "c25cf550-ad1a-4839-8d2c-5394e40a89b8",
   "metadata": {},
   "outputs": [],
   "source": []
  }
 ],
 "metadata": {
  "kernelspec": {
   "display_name": "R",
   "language": "R",
   "name": "ir"
  },
  "language_info": {
   "codemirror_mode": "r",
   "file_extension": ".r",
   "mimetype": "text/x-r-source",
   "name": "R",
   "pygments_lexer": "r",
   "version": "3.6.1"
  }
 },
 "nbformat": 4,
 "nbformat_minor": 5
}
