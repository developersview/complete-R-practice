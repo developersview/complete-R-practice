{
 "cells": [
  {
   "cell_type": "code",
   "execution_count": 277,
   "id": "1b1615e9-4132-4836-b430-57caf25e2860",
   "metadata": {},
   "outputs": [
    {
     "data": {
      "text/html": [
       "\n",
       "<table width=\"100%\" summary=\"page for data.frame {base}\"><tr><td>data.frame {base}</td><td style=\"text-align: right;\">R Documentation</td></tr></table>\n",
       "\n",
       "<h2>Data Frames</h2>\n",
       "\n",
       "<h3>Description</h3>\n",
       "\n",
       "<p>The function <code>data.frame()</code> creates data frames, tightly coupled\n",
       "collections of variables which share many of the properties of\n",
       "matrices and of lists, used as the fundamental data structure by most\n",
       "of <span style=\"font-family: Courier New, Courier; color: #666666;\"><b>R</b></span>'s modeling software.\n",
       "</p>\n",
       "\n",
       "\n",
       "<h3>Usage</h3>\n",
       "\n",
       "<pre>\n",
       "data.frame(..., row.names = NULL, check.rows = FALSE,\n",
       "           check.names = TRUE, fix.empty.names = TRUE,\n",
       "           stringsAsFactors = default.stringsAsFactors())\n",
       "\n",
       "default.stringsAsFactors()\n",
       "</pre>\n",
       "\n",
       "\n",
       "<h3>Arguments</h3>\n",
       "\n",
       "<table summary=\"R argblock\">\n",
       "<tr valign=\"top\"><td><code>...</code></td>\n",
       "<td>\n",
       "<p>these arguments are of either the form <code>value</code> or\n",
       "<code>tag = value</code>.  Component names are created based on the tag (if\n",
       "present) or the deparsed argument itself.</p>\n",
       "</td></tr>\n",
       "<tr valign=\"top\"><td><code>row.names</code></td>\n",
       "<td>\n",
       "<p><code>NULL</code> or a single integer or character string\n",
       "specifying a column to be used as row names, or a character or\n",
       "integer vector giving the row names for the data frame.</p>\n",
       "</td></tr>\n",
       "<tr valign=\"top\"><td><code>check.rows</code></td>\n",
       "<td>\n",
       "<p>if <code>TRUE</code> then the rows are checked for\n",
       "consistency of length and names.</p>\n",
       "</td></tr>\n",
       "<tr valign=\"top\"><td><code>check.names</code></td>\n",
       "<td>\n",
       "<p>logical.  If <code>TRUE</code> then the names of the\n",
       "variables in the data frame are checked to ensure that they are\n",
       "syntactically valid variable names and are not duplicated.\n",
       "If necessary they are adjusted (by <code>make.names</code>)\n",
       "so that they are.</p>\n",
       "</td></tr>\n",
       "<tr valign=\"top\"><td><code>fix.empty.names</code></td>\n",
       "<td>\n",
       "<p>logical indicating if arguments which are\n",
       "&ldquo;unnamed&rdquo; (in the sense of not being formally called as\n",
       "<code>someName = arg</code>) get an automatically constructed name or\n",
       "rather name <code>\"\"</code>.  Needs to be set to <code>FALSE</code> even when\n",
       "<code>check.names</code> is false if <code>\"\"</code> names should be kept.</p>\n",
       "</td></tr>\n",
       "<tr valign=\"top\"><td><code>stringsAsFactors</code></td>\n",
       "<td>\n",
       "<p>logical: should character vectors be converted\n",
       "to factors?  The &lsquo;factory-fresh&rsquo; default is <code>TRUE</code>, but\n",
       "this can be changed by setting <code>options(stringsAsFactors\n",
       "      = FALSE)</code>.</p>\n",
       "</td></tr>\n",
       "</table>\n",
       "\n",
       "\n",
       "<h3>Details</h3>\n",
       "\n",
       "<p>A data frame is a list of variables of the same number of rows with\n",
       "unique row names, given class <code>\"data.frame\"</code>.  If no variables\n",
       "are included, the row names determine the number of rows.\n",
       "</p>\n",
       "<p>The column names should be non-empty, and attempts to use empty names\n",
       "will have unsupported results.  Duplicate column names are allowed,\n",
       "but you need to use <code>check.names = FALSE</code> for <code>data.frame</code>\n",
       "to generate such a data frame.  However, not all operations on data\n",
       "frames will preserve duplicated column names: for example matrix-like\n",
       "subsetting will force column names in the result to be unique.\n",
       "</p>\n",
       "<p><code>data.frame</code> converts each of its arguments to a data frame by\n",
       "calling <code>as.data.frame(optional = TRUE)</code>.  As that is a\n",
       "generic function, methods can be written to change the behaviour of\n",
       "arguments according to their classes: <span style=\"font-family: Courier New, Courier; color: #666666;\"><b>R</b></span> comes with many such methods.\n",
       "Character variables passed to <code>data.frame</code> are converted to\n",
       "factor columns unless protected by <code>I</code> or argument\n",
       "<code>stringsAsFactors</code> is false.  If a list or data\n",
       "frame or matrix is passed to <code>data.frame</code> it is as if each\n",
       "component or column had been passed as a separate argument (except for\n",
       "matrices protected by <code>I</code>).\n",
       "</p>\n",
       "<p>Objects passed to <code>data.frame</code> should have the same number of\n",
       "rows, but atomic vectors (see <code>is.vector</code>), factors and\n",
       "character vectors protected by <code>I</code> will be recycled a\n",
       "whole number of times if necessary (including as elements of list\n",
       "arguments).\n",
       "</p>\n",
       "<p>If row names are not supplied in the call to <code>data.frame</code>, the\n",
       "row names are taken from the first component that has suitable names,\n",
       "for example a named vector or a matrix with rownames or a data frame.\n",
       "(If that component is subsequently recycled, the names are discarded\n",
       "with a warning.)  If <code>row.names</code> was supplied as <code>NULL</code> or no\n",
       "suitable component was found the row names are the integer sequence\n",
       "starting at one (and such row names are considered to be\n",
       "&lsquo;automatic&rsquo;, and not preserved by <code>as.matrix</code>).\n",
       "</p>\n",
       "<p>If row names are supplied of length one and the data frame has a\n",
       "single row, the <code>row.names</code> is taken to specify the row names and\n",
       "not a column (by name or number).\n",
       "</p>\n",
       "<p>Names are removed from vector inputs not protected by <code>I</code>.\n",
       "</p>\n",
       "<p><code>default.stringsAsFactors</code> is a utility that takes\n",
       "<code>getOption(\"stringsAsFactors\")</code> and ensures the result is\n",
       "<code>TRUE</code> or <code>FALSE</code> (or throws an error if the value is not\n",
       "<code>NULL</code>).\n",
       "</p>\n",
       "\n",
       "\n",
       "<h3>Value</h3>\n",
       "\n",
       "<p>A data frame, a matrix-like structure whose columns may be of\n",
       "differing types (numeric, logical, factor and character and so on).\n",
       "</p>\n",
       "<p>How the names of the data frame are created is complex, and the rest\n",
       "of this paragraph is only the basic story.  If the arguments are all\n",
       "named and simple objects (not lists, matrices of data frames) then the\n",
       "argument names give the column names.  For an unnamed simple argument,\n",
       "a deparsed version of the argument is used as the name (with an\n",
       "enclosing <code>I(...)</code> removed).  For a named matrix/list/data frame\n",
       "argument with more than one named column, the names of the columns are\n",
       "the name of the argument followed by a dot and the column name inside\n",
       "the argument: if the argument is unnamed, the argument's column names\n",
       "are used.  For a named or unnamed matrix/list/data frame argument that\n",
       "contains a single column, the column name in the result is the column\n",
       "name in the argument.  Finally, the names are adjusted to be unique\n",
       "and syntactically valid unless <code>check.names = FALSE</code>.\n",
       "</p>\n",
       "\n",
       "\n",
       "<h3>Note</h3>\n",
       "\n",
       "<p>In versions of <span style=\"font-family: Courier New, Courier; color: #666666;\"><b>R</b></span> prior to 2.4.0 <code>row.names</code> had to be\n",
       "character: to ensure compatibility with such versions of <span style=\"font-family: Courier New, Courier; color: #666666;\"><b>R</b></span>, supply\n",
       "a character vector as the <code>row.names</code> argument.\n",
       "</p>\n",
       "\n",
       "\n",
       "<h3>References</h3>\n",
       "\n",
       "<p>Chambers, J. M. (1992)\n",
       "<em>Data for models.</em>\n",
       "Chapter 3 of <em>Statistical Models in S</em>\n",
       "eds J. M. Chambers and T. J. Hastie, Wadsworth &amp; Brooks/Cole.\n",
       "</p>\n",
       "\n",
       "\n",
       "<h3>See Also</h3>\n",
       "\n",
       "<p><code>I</code>,\n",
       "<code>plot.data.frame</code>,\n",
       "<code>print.data.frame</code>,\n",
       "<code>row.names</code>, <code>names</code> (for the column names),\n",
       "<code>[.data.frame</code> for subsetting methods \n",
       "and <code>I(matrix(..))</code> examples;\n",
       "<code>Math.data.frame</code> etc, about\n",
       "<em>Group</em> methods for <code>data.frame</code>s;\n",
       "<code>read.table</code>,\n",
       "<code>make.names</code>.\n",
       "</p>\n",
       "\n",
       "\n",
       "<h3>Examples</h3>\n",
       "\n",
       "<pre>\n",
       "L3 &lt;- LETTERS[1:3]\n",
       "fac &lt;- sample(L3, 10, replace = TRUE)\n",
       "(d &lt;- data.frame(x = 1, y = 1:10, fac = fac))\n",
       "## The \"same\" with automatic column names:\n",
       "data.frame(1, 1:10, sample(L3, 10, replace = TRUE))\n",
       "\n",
       "is.data.frame(d)\n",
       "\n",
       "## do not convert to factor, using I() :\n",
       "(dd &lt;- cbind(d, char = I(letters[1:10])))\n",
       "rbind(class = sapply(dd, class), mode = sapply(dd, mode))\n",
       "\n",
       "stopifnot(1:10 == row.names(d))  # {coercion}\n",
       "\n",
       "(d0  &lt;- d[, FALSE])   # data frame with 0 columns and 10 rows\n",
       "(d.0 &lt;- d[FALSE, ])   # &lt;0 rows&gt; data frame  (3 named cols)\n",
       "(d00 &lt;- d0[FALSE, ])  # data frame with 0 columns and 0 rows\n",
       "</pre>\n",
       "\n",
       "<hr /><div style=\"text-align: center;\">[Package <em>base</em> version 3.6.1 ]</div>"
      ],
      "text/latex": [
       "\\inputencoding{utf8}\n",
       "\\HeaderA{data.frame}{Data Frames}{data.frame}\n",
       "\\aliasA{default.stringsAsFactors}{data.frame}{default.stringsAsFactors}\n",
       "\\keyword{classes}{data.frame}\n",
       "\\keyword{methods}{data.frame}\n",
       "%\n",
       "\\begin{Description}\\relax\n",
       "The function \\code{data.frame()} creates data frames, tightly coupled\n",
       "collections of variables which share many of the properties of\n",
       "matrices and of lists, used as the fundamental data structure by most\n",
       "of \\R{}'s modeling software.\n",
       "\\end{Description}\n",
       "%\n",
       "\\begin{Usage}\n",
       "\\begin{verbatim}\n",
       "data.frame(..., row.names = NULL, check.rows = FALSE,\n",
       "           check.names = TRUE, fix.empty.names = TRUE,\n",
       "           stringsAsFactors = default.stringsAsFactors())\n",
       "\n",
       "default.stringsAsFactors()\n",
       "\\end{verbatim}\n",
       "\\end{Usage}\n",
       "%\n",
       "\\begin{Arguments}\n",
       "\\begin{ldescription}\n",
       "\\item[\\code{...}] these arguments are of either the form \\code{value} or\n",
       "\\code{tag = value}.  Component names are created based on the tag (if\n",
       "present) or the deparsed argument itself.\n",
       "\\item[\\code{row.names}] \\code{NULL} or a single integer or character string\n",
       "specifying a column to be used as row names, or a character or\n",
       "integer vector giving the row names for the data frame.\n",
       "\\item[\\code{check.rows}] if \\code{TRUE} then the rows are checked for\n",
       "consistency of length and names.\n",
       "\\item[\\code{check.names}] logical.  If \\code{TRUE} then the names of the\n",
       "variables in the data frame are checked to ensure that they are\n",
       "syntactically valid variable names and are not duplicated.\n",
       "If necessary they are adjusted (by \\code{\\LinkA{make.names}{make.names}})\n",
       "so that they are.\n",
       "\\item[\\code{fix.empty.names}] logical indicating if arguments which are\n",
       "``unnamed'' (in the sense of not being formally called as\n",
       "\\code{someName = arg}) get an automatically constructed name or\n",
       "rather name \\code{\"\"}.  Needs to be set to \\code{FALSE} even when\n",
       "\\code{check.names} is false if \\code{\"\"} names should be kept.\n",
       "\\item[\\code{stringsAsFactors}] logical: should character vectors be converted\n",
       "to factors?  The `factory-fresh' default is \\code{TRUE}, but\n",
       "this can be changed by setting \\code{\\LinkA{options}{options}(stringsAsFactors\n",
       "      = FALSE)}.\n",
       "\\end{ldescription}\n",
       "\\end{Arguments}\n",
       "%\n",
       "\\begin{Details}\\relax\n",
       "A data frame is a list of variables of the same number of rows with\n",
       "unique row names, given class \\code{\"data.frame\"}.  If no variables\n",
       "are included, the row names determine the number of rows.\n",
       "\n",
       "The column names should be non-empty, and attempts to use empty names\n",
       "will have unsupported results.  Duplicate column names are allowed,\n",
       "but you need to use \\code{check.names = FALSE} for \\code{data.frame}\n",
       "to generate such a data frame.  However, not all operations on data\n",
       "frames will preserve duplicated column names: for example matrix-like\n",
       "subsetting will force column names in the result to be unique.\n",
       "\n",
       "\\code{data.frame} converts each of its arguments to a data frame by\n",
       "calling \\code{\\LinkA{as.data.frame}{as.data.frame}(optional = TRUE)}.  As that is a\n",
       "generic function, methods can be written to change the behaviour of\n",
       "arguments according to their classes: \\R{} comes with many such methods.\n",
       "Character variables passed to \\code{data.frame} are converted to\n",
       "factor columns unless protected by \\code{\\LinkA{I}{I}} or argument\n",
       "\\code{stringsAsFactors} is false.  If a list or data\n",
       "frame or matrix is passed to \\code{data.frame} it is as if each\n",
       "component or column had been passed as a separate argument (except for\n",
       "matrices protected by \\code{\\LinkA{I}{I}}).\n",
       "\n",
       "Objects passed to \\code{data.frame} should have the same number of\n",
       "rows, but atomic vectors (see \\code{\\LinkA{is.vector}{is.vector}}), factors and\n",
       "character vectors protected by \\code{\\LinkA{I}{I}} will be recycled a\n",
       "whole number of times if necessary (including as elements of list\n",
       "arguments).\n",
       "\n",
       "If row names are not supplied in the call to \\code{data.frame}, the\n",
       "row names are taken from the first component that has suitable names,\n",
       "for example a named vector or a matrix with rownames or a data frame.\n",
       "(If that component is subsequently recycled, the names are discarded\n",
       "with a warning.)  If \\code{row.names} was supplied as \\code{NULL} or no\n",
       "suitable component was found the row names are the integer sequence\n",
       "starting at one (and such row names are considered to be\n",
       "`automatic', and not preserved by \\code{\\LinkA{as.matrix}{as.matrix}}).\n",
       "\n",
       "If row names are supplied of length one and the data frame has a\n",
       "single row, the \\code{row.names} is taken to specify the row names and\n",
       "not a column (by name or number).\n",
       "\n",
       "Names are removed from vector inputs not protected by \\code{\\LinkA{I}{I}}.\n",
       "\n",
       "\\code{default.stringsAsFactors} is a utility that takes\n",
       "\\code{\\LinkA{getOption}{getOption}(\"stringsAsFactors\")} and ensures the result is\n",
       "\\code{TRUE} or \\code{FALSE} (or throws an error if the value is not\n",
       "\\code{NULL}).\n",
       "\\end{Details}\n",
       "%\n",
       "\\begin{Value}\n",
       "A data frame, a matrix-like structure whose columns may be of\n",
       "differing types (numeric, logical, factor and character and so on).\n",
       "\n",
       "How the names of the data frame are created is complex, and the rest\n",
       "of this paragraph is only the basic story.  If the arguments are all\n",
       "named and simple objects (not lists, matrices of data frames) then the\n",
       "argument names give the column names.  For an unnamed simple argument,\n",
       "a deparsed version of the argument is used as the name (with an\n",
       "enclosing \\code{I(...)} removed).  For a named matrix/list/data frame\n",
       "argument with more than one named column, the names of the columns are\n",
       "the name of the argument followed by a dot and the column name inside\n",
       "the argument: if the argument is unnamed, the argument's column names\n",
       "are used.  For a named or unnamed matrix/list/data frame argument that\n",
       "contains a single column, the column name in the result is the column\n",
       "name in the argument.  Finally, the names are adjusted to be unique\n",
       "and syntactically valid unless \\code{check.names = FALSE}.\n",
       "\\end{Value}\n",
       "%\n",
       "\\begin{Note}\\relax\n",
       "In versions of \\R{} prior to 2.4.0 \\code{row.names} had to be\n",
       "character: to ensure compatibility with such versions of \\R{}, supply\n",
       "a character vector as the \\code{row.names} argument.\n",
       "\\end{Note}\n",
       "%\n",
       "\\begin{References}\\relax\n",
       "Chambers, J. M. (1992)\n",
       "\\emph{Data for models.}\n",
       "Chapter 3 of \\emph{Statistical Models in S}\n",
       "eds J. M. Chambers and T. J. Hastie, Wadsworth \\& Brooks/Cole.\n",
       "\\end{References}\n",
       "%\n",
       "\\begin{SeeAlso}\\relax\n",
       "\\code{\\LinkA{I}{I}},\n",
       "\\code{\\LinkA{plot.data.frame}{plot.data.frame}},\n",
       "\\code{\\LinkA{print.data.frame}{print.data.frame}},\n",
       "\\code{\\LinkA{row.names}{row.names}}, \\code{\\LinkA{names}{names}} (for the column names),\n",
       "\\code{\\LinkA{[.data.frame}{[.data.frame}} for subsetting methods \n",
       "and \\code{I(matrix(..))} examples;\n",
       "\\code{\\LinkA{Math.data.frame}{Math.data.frame}} etc, about\n",
       "\\emph{Group} methods for \\code{data.frame}s;\n",
       "\\code{\\LinkA{read.table}{read.table}},\n",
       "\\code{\\LinkA{make.names}{make.names}}.\n",
       "\\end{SeeAlso}\n",
       "%\n",
       "\\begin{Examples}\n",
       "\\begin{ExampleCode}\n",
       "L3 <- LETTERS[1:3]\n",
       "fac <- sample(L3, 10, replace = TRUE)\n",
       "(d <- data.frame(x = 1, y = 1:10, fac = fac))\n",
       "## The \"same\" with automatic column names:\n",
       "data.frame(1, 1:10, sample(L3, 10, replace = TRUE))\n",
       "\n",
       "is.data.frame(d)\n",
       "\n",
       "## do not convert to factor, using I() :\n",
       "(dd <- cbind(d, char = I(letters[1:10])))\n",
       "rbind(class = sapply(dd, class), mode = sapply(dd, mode))\n",
       "\n",
       "stopifnot(1:10 == row.names(d))  # {coercion}\n",
       "\n",
       "(d0  <- d[, FALSE])   # data frame with 0 columns and 10 rows\n",
       "(d.0 <- d[FALSE, ])   # <0 rows> data frame  (3 named cols)\n",
       "(d00 <- d0[FALSE, ])  # data frame with 0 columns and 0 rows\n",
       "\\end{ExampleCode}\n",
       "\\end{Examples}"
      ],
      "text/plain": [
       "data.frame                package:base                 R Documentation\n",
       "\n",
       "_\bD_\ba_\bt_\ba _\bF_\br_\ba_\bm_\be_\bs\n",
       "\n",
       "_\bD_\be_\bs_\bc_\br_\bi_\bp_\bt_\bi_\bo_\bn:\n",
       "\n",
       "     The function 'data.frame()' creates data frames, tightly coupled\n",
       "     collections of variables which share many of the properties of\n",
       "     matrices and of lists, used as the fundamental data structure by\n",
       "     most of R's modeling software.\n",
       "\n",
       "_\bU_\bs_\ba_\bg_\be:\n",
       "\n",
       "     data.frame(..., row.names = NULL, check.rows = FALSE,\n",
       "                check.names = TRUE, fix.empty.names = TRUE,\n",
       "                stringsAsFactors = default.stringsAsFactors())\n",
       "     \n",
       "     default.stringsAsFactors()\n",
       "     \n",
       "_\bA_\br_\bg_\bu_\bm_\be_\bn_\bt_\bs:\n",
       "\n",
       "     ...: these arguments are of either the form 'value' or 'tag =\n",
       "          value'.  Component names are created based on the tag (if\n",
       "          present) or the deparsed argument itself.\n",
       "\n",
       "row.names: 'NULL' or a single integer or character string specifying a\n",
       "          column to be used as row names, or a character or integer\n",
       "          vector giving the row names for the data frame.\n",
       "\n",
       "check.rows: if 'TRUE' then the rows are checked for consistency of\n",
       "          length and names.\n",
       "\n",
       "check.names: logical.  If 'TRUE' then the names of the variables in the\n",
       "          data frame are checked to ensure that they are syntactically\n",
       "          valid variable names and are not duplicated.  If necessary\n",
       "          they are adjusted (by 'make.names') so that they are.\n",
       "\n",
       "fix.empty.names: logical indicating if arguments which are \"unnamed\"\n",
       "          (in the sense of not being formally called as 'someName =\n",
       "          arg') get an automatically constructed name or rather name\n",
       "          '\"\"'.  Needs to be set to 'FALSE' even when 'check.names' is\n",
       "          false if '\"\"' names should be kept.\n",
       "\n",
       "stringsAsFactors: logical: should character vectors be converted to\n",
       "          factors?  The 'factory-fresh' default is 'TRUE', but this can\n",
       "          be changed by setting 'options(stringsAsFactors = FALSE)'.\n",
       "\n",
       "_\bD_\be_\bt_\ba_\bi_\bl_\bs:\n",
       "\n",
       "     A data frame is a list of variables of the same number of rows\n",
       "     with unique row names, given class '\"data.frame\"'.  If no\n",
       "     variables are included, the row names determine the number of\n",
       "     rows.\n",
       "\n",
       "     The column names should be non-empty, and attempts to use empty\n",
       "     names will have unsupported results.  Duplicate column names are\n",
       "     allowed, but you need to use 'check.names = FALSE' for\n",
       "     'data.frame' to generate such a data frame.  However, not all\n",
       "     operations on data frames will preserve duplicated column names:\n",
       "     for example matrix-like subsetting will force column names in the\n",
       "     result to be unique.\n",
       "\n",
       "     'data.frame' converts each of its arguments to a data frame by\n",
       "     calling 'as.data.frame(optional = TRUE)'.  As that is a generic\n",
       "     function, methods can be written to change the behaviour of\n",
       "     arguments according to their classes: R comes with many such\n",
       "     methods.  Character variables passed to 'data.frame' are converted\n",
       "     to factor columns unless protected by 'I' or argument\n",
       "     'stringsAsFactors' is false.  If a list or data frame or matrix is\n",
       "     passed to 'data.frame' it is as if each component or column had\n",
       "     been passed as a separate argument (except for matrices protected\n",
       "     by 'I').\n",
       "\n",
       "     Objects passed to 'data.frame' should have the same number of\n",
       "     rows, but atomic vectors (see 'is.vector'), factors and character\n",
       "     vectors protected by 'I' will be recycled a whole number of times\n",
       "     if necessary (including as elements of list arguments).\n",
       "\n",
       "     If row names are not supplied in the call to 'data.frame', the row\n",
       "     names are taken from the first component that has suitable names,\n",
       "     for example a named vector or a matrix with rownames or a data\n",
       "     frame.  (If that component is subsequently recycled, the names are\n",
       "     discarded with a warning.)  If 'row.names' was supplied as 'NULL'\n",
       "     or no suitable component was found the row names are the integer\n",
       "     sequence starting at one (and such row names are considered to be\n",
       "     'automatic', and not preserved by 'as.matrix').\n",
       "\n",
       "     If row names are supplied of length one and the data frame has a\n",
       "     single row, the 'row.names' is taken to specify the row names and\n",
       "     not a column (by name or number).\n",
       "\n",
       "     Names are removed from vector inputs not protected by 'I'.\n",
       "\n",
       "     'default.stringsAsFactors' is a utility that takes\n",
       "     'getOption(\"stringsAsFactors\")' and ensures the result is 'TRUE'\n",
       "     or 'FALSE' (or throws an error if the value is not 'NULL').\n",
       "\n",
       "_\bV_\ba_\bl_\bu_\be:\n",
       "\n",
       "     A data frame, a matrix-like structure whose columns may be of\n",
       "     differing types (numeric, logical, factor and character and so\n",
       "     on).\n",
       "\n",
       "     How the names of the data frame are created is complex, and the\n",
       "     rest of this paragraph is only the basic story.  If the arguments\n",
       "     are all named and simple objects (not lists, matrices of data\n",
       "     frames) then the argument names give the column names.  For an\n",
       "     unnamed simple argument, a deparsed version of the argument is\n",
       "     used as the name (with an enclosing 'I(...)' removed).  For a\n",
       "     named matrix/list/data frame argument with more than one named\n",
       "     column, the names of the columns are the name of the argument\n",
       "     followed by a dot and the column name inside the argument: if the\n",
       "     argument is unnamed, the argument's column names are used.  For a\n",
       "     named or unnamed matrix/list/data frame argument that contains a\n",
       "     single column, the column name in the result is the column name in\n",
       "     the argument.  Finally, the names are adjusted to be unique and\n",
       "     syntactically valid unless 'check.names = FALSE'.\n",
       "\n",
       "_\bN_\bo_\bt_\be:\n",
       "\n",
       "     In versions of R prior to 2.4.0 'row.names' had to be character:\n",
       "     to ensure compatibility with such versions of R, supply a\n",
       "     character vector as the 'row.names' argument.\n",
       "\n",
       "_\bR_\be_\bf_\be_\br_\be_\bn_\bc_\be_\bs:\n",
       "\n",
       "     Chambers, J. M. (1992) _Data for models._ Chapter 3 of\n",
       "     _Statistical Models in S_ eds J. M. Chambers and T. J. Hastie,\n",
       "     Wadsworth & Brooks/Cole.\n",
       "\n",
       "_\bS_\be_\be _\bA_\bl_\bs_\bo:\n",
       "\n",
       "     'I', 'plot.data.frame', 'print.data.frame', 'row.names', 'names'\n",
       "     (for the column names), '[.data.frame' for subsetting methods and\n",
       "     'I(matrix(..))' examples; 'Math.data.frame' etc, about _Group_\n",
       "     methods for 'data.frame's; 'read.table', 'make.names'.\n",
       "\n",
       "_\bE_\bx_\ba_\bm_\bp_\bl_\be_\bs:\n",
       "\n",
       "     L3 <- LETTERS[1:3]\n",
       "     fac <- sample(L3, 10, replace = TRUE)\n",
       "     (d <- data.frame(x = 1, y = 1:10, fac = fac))\n",
       "     ## The \"same\" with automatic column names:\n",
       "     data.frame(1, 1:10, sample(L3, 10, replace = TRUE))\n",
       "     \n",
       "     is.data.frame(d)\n",
       "     \n",
       "     ## do not convert to factor, using I() :\n",
       "     (dd <- cbind(d, char = I(letters[1:10])))\n",
       "     rbind(class = sapply(dd, class), mode = sapply(dd, mode))\n",
       "     \n",
       "     stopifnot(1:10 == row.names(d))  # {coercion}\n",
       "     \n",
       "     (d0  <- d[, FALSE])   # data frame with 0 columns and 10 rows\n",
       "     (d.0 <- d[FALSE, ])   # <0 rows> data frame  (3 named cols)\n",
       "     (d00 <- d0[FALSE, ])  # data frame with 0 columns and 0 rows\n",
       "     "
      ]
     },
     "metadata": {},
     "output_type": "display_data"
    }
   ],
   "source": [
    "?data.frame"
   ]
  },
  {
   "cell_type": "code",
   "execution_count": 278,
   "id": "5206a3cf-a1b6-40f8-ad31-d8319ca1c1ea",
   "metadata": {},
   "outputs": [
    {
     "name": "stdout",
     "output_type": "stream",
     "text": [
      "data frame with 0 columns and 0 rows\n"
     ]
    }
   ],
   "source": [
    "empty.dataframe <- data.frame()\n",
    "print(empty.dataframe)"
   ]
  },
  {
   "cell_type": "code",
   "execution_count": 280,
   "id": "bd579091-b034-4944-b2eb-1b9d93dc6399",
   "metadata": {},
   "outputs": [
    {
     "data": {
      "text/html": [
       "<table>\n",
       "<thead><tr><th scope=col>id</th><th scope=col>name</th><th scope=col>grade</th></tr></thead>\n",
       "<tbody>\n",
       "\t<tr><td>NA</td><td>NA</td><td>NA</td></tr>\n",
       "</tbody>\n",
       "</table>\n"
      ],
      "text/latex": [
       "\\begin{tabular}{r|lll}\n",
       " id & name & grade\\\\\n",
       "\\hline\n",
       "\t NA & NA & NA\\\\\n",
       "\\end{tabular}\n"
      ],
      "text/markdown": [
       "\n",
       "| id | name | grade |\n",
       "|---|---|---|\n",
       "| NA | NA | NA |\n",
       "\n"
      ],
      "text/plain": [
       "  id name grade\n",
       "1 NA NA   NA   "
      ]
     },
     "metadata": {},
     "output_type": "display_data"
    }
   ],
   "source": [
    "student.df <- data.frame('id'=NA, 'name'=NA, 'grade'=NA)\n",
    "student.df"
   ]
  },
  {
   "cell_type": "code",
   "execution_count": 282,
   "id": "069f1cd0-69a0-499e-9b5a-557100d9d460",
   "metadata": {},
   "outputs": [
    {
     "name": "stdout",
     "output_type": "stream",
     "text": [
      "'data.frame':\t1 obs. of  3 variables:\n",
      " $ id   : logi NA\n",
      " $ name : logi NA\n",
      " $ grade: logi NA\n"
     ]
    }
   ],
   "source": [
    "str(student.df)"
   ]
  },
  {
   "cell_type": "code",
   "execution_count": 284,
   "id": "f6d9b664-64e3-4ea6-9947-0563adcdcd87",
   "metadata": {},
   "outputs": [
    {
     "data": {
      "text/html": [
       "<table>\n",
       "<thead><tr><th scope=col>ids</th><th scope=col>names</th><th scope=col>grades</th></tr></thead>\n",
       "<tbody>\n",
       "\t<tr><td>1000   </td><td>Lucy   </td><td>3.4    </td></tr>\n",
       "\t<tr><td>1001   </td><td>Desmond</td><td>3.6    </td></tr>\n",
       "\t<tr><td>1002   </td><td>Peter  </td><td>7.0    </td></tr>\n",
       "\t<tr><td>1003   </td><td>Natasha</td><td>5.7    </td></tr>\n",
       "\t<tr><td>1004   </td><td>Tony   </td><td>5.9    </td></tr>\n",
       "\t<tr><td>1005   </td><td>Steve  </td><td>9.8    </td></tr>\n",
       "\t<tr><td>1006   </td><td>Pranoy </td><td>9.2    </td></tr>\n",
       "</tbody>\n",
       "</table>\n"
      ],
      "text/latex": [
       "\\begin{tabular}{r|lll}\n",
       " ids & names & grades\\\\\n",
       "\\hline\n",
       "\t 1000    & Lucy    & 3.4    \\\\\n",
       "\t 1001    & Desmond & 3.6    \\\\\n",
       "\t 1002    & Peter   & 7.0    \\\\\n",
       "\t 1003    & Natasha & 5.7    \\\\\n",
       "\t 1004    & Tony    & 5.9    \\\\\n",
       "\t 1005    & Steve   & 9.8    \\\\\n",
       "\t 1006    & Pranoy  & 9.2    \\\\\n",
       "\\end{tabular}\n"
      ],
      "text/markdown": [
       "\n",
       "| ids | names | grades |\n",
       "|---|---|---|\n",
       "| 1000    | Lucy    | 3.4     |\n",
       "| 1001    | Desmond | 3.6     |\n",
       "| 1002    | Peter   | 7.0     |\n",
       "| 1003    | Natasha | 5.7     |\n",
       "| 1004    | Tony    | 5.9     |\n",
       "| 1005    | Steve   | 9.8     |\n",
       "| 1006    | Pranoy  | 9.2     |\n",
       "\n"
      ],
      "text/plain": [
       "  ids  names   grades\n",
       "1 1000 Lucy    3.4   \n",
       "2 1001 Desmond 3.6   \n",
       "3 1002 Peter   7.0   \n",
       "4 1003 Natasha 5.7   \n",
       "5 1004 Tony    5.9   \n",
       "6 1005 Steve   9.8   \n",
       "7 1006 Pranoy  9.2   "
      ]
     },
     "metadata": {},
     "output_type": "display_data"
    }
   ],
   "source": [
    "ids <- 1000:1006\n",
    "names <- c('Lucy', 'Desmond', 'Peter', 'Natasha', 'Tony', 'Steve', 'Pranoy')\n",
    "grades <- c(3.4, 3.6, 7, 5.7, 5.9, 9.8, 9.2)\n",
    "\n",
    "students.df <-data.frame(ids, names, grades)\n",
    "students.df"
   ]
  },
  {
   "cell_type": "code",
   "execution_count": 286,
   "id": "91b0b509-50cf-4a45-bb89-1cc9a2eda767",
   "metadata": {},
   "outputs": [
    {
     "name": "stdout",
     "output_type": "stream",
     "text": [
      "'data.frame':\t7 obs. of  3 variables:\n",
      " $ ids   : int  1000 1001 1002 1003 1004 1005 1006\n",
      " $ names : Factor w/ 7 levels \"Desmond\",\"Lucy\",..: 2 1 4 3 7 6 5\n",
      " $ grades: num  3.4 3.6 7 5.7 5.9 9.8 9.2\n"
     ]
    }
   ],
   "source": [
    "str(students.df)"
   ]
  },
  {
   "cell_type": "code",
   "execution_count": 288,
   "id": "7acb980a-db69-4cb4-89d3-a446d8272ed7",
   "metadata": {},
   "outputs": [
    {
     "data": {
      "text/html": [
       "<table>\n",
       "<thead><tr><th scope=col>ids</th><th scope=col>names</th><th scope=col>grades</th></tr></thead>\n",
       "<tbody>\n",
       "\t<tr><td>1000   </td><td>Lucy   </td><td>3.4    </td></tr>\n",
       "\t<tr><td>1001   </td><td>Desmond</td><td>3.6    </td></tr>\n",
       "\t<tr><td>1002   </td><td>Peter  </td><td>7.0    </td></tr>\n",
       "\t<tr><td>1003   </td><td>Natasha</td><td>5.7    </td></tr>\n",
       "\t<tr><td>1004   </td><td>Tony   </td><td>5.9    </td></tr>\n",
       "\t<tr><td>1005   </td><td>Steve  </td><td>9.8    </td></tr>\n",
       "\t<tr><td>1006   </td><td>Pranoy </td><td>9.2    </td></tr>\n",
       "</tbody>\n",
       "</table>\n"
      ],
      "text/latex": [
       "\\begin{tabular}{r|lll}\n",
       " ids & names & grades\\\\\n",
       "\\hline\n",
       "\t 1000    & Lucy    & 3.4    \\\\\n",
       "\t 1001    & Desmond & 3.6    \\\\\n",
       "\t 1002    & Peter   & 7.0    \\\\\n",
       "\t 1003    & Natasha & 5.7    \\\\\n",
       "\t 1004    & Tony    & 5.9    \\\\\n",
       "\t 1005    & Steve   & 9.8    \\\\\n",
       "\t 1006    & Pranoy  & 9.2    \\\\\n",
       "\\end{tabular}\n"
      ],
      "text/markdown": [
       "\n",
       "| ids | names | grades |\n",
       "|---|---|---|\n",
       "| 1000    | Lucy    | 3.4     |\n",
       "| 1001    | Desmond | 3.6     |\n",
       "| 1002    | Peter   | 7.0     |\n",
       "| 1003    | Natasha | 5.7     |\n",
       "| 1004    | Tony    | 5.9     |\n",
       "| 1005    | Steve   | 9.8     |\n",
       "| 1006    | Pranoy  | 9.2     |\n",
       "\n"
      ],
      "text/plain": [
       "  ids  names   grades\n",
       "1 1000 Lucy    3.4   \n",
       "2 1001 Desmond 3.6   \n",
       "3 1002 Peter   7.0   \n",
       "4 1003 Natasha 5.7   \n",
       "5 1004 Tony    5.9   \n",
       "6 1005 Steve   9.8   \n",
       "7 1006 Pranoy  9.2   "
      ]
     },
     "metadata": {},
     "output_type": "display_data"
    }
   ],
   "source": [
    "students.df <-data.frame(ids, names, grades, stringsAsFactors = FALSE)\n",
    "students.df"
   ]
  },
  {
   "cell_type": "code",
   "execution_count": 290,
   "id": "fb5d784a-d5c7-40b1-ad1c-ee767115677a",
   "metadata": {},
   "outputs": [
    {
     "name": "stdout",
     "output_type": "stream",
     "text": [
      "'data.frame':\t7 obs. of  3 variables:\n",
      " $ ids   : int  1000 1001 1002 1003 1004 1005 1006\n",
      " $ names : chr  \"Lucy\" \"Desmond\" \"Peter\" \"Natasha\" ...\n",
      " $ grades: num  3.4 3.6 7 5.7 5.9 9.8 9.2\n"
     ]
    }
   ],
   "source": [
    "str(students.df)"
   ]
  },
  {
   "cell_type": "code",
   "execution_count": 292,
   "id": "a9cb57d7-e673-4dd2-bae3-808eee1d7843",
   "metadata": {},
   "outputs": [
    {
     "data": {
      "text/html": [
       "<table>\n",
       "<thead><tr><th scope=col>ids</th><th scope=col>names</th><th scope=col>grades</th></tr></thead>\n",
       "<tbody>\n",
       "\t<tr><td>1000   </td><td>Lucy   </td><td>3.4    </td></tr>\n",
       "\t<tr><td>1001   </td><td>Desmond</td><td>3.6    </td></tr>\n",
       "\t<tr><td>1002   </td><td>Peter  </td><td>7.0    </td></tr>\n",
       "</tbody>\n",
       "</table>\n"
      ],
      "text/latex": [
       "\\begin{tabular}{r|lll}\n",
       " ids & names & grades\\\\\n",
       "\\hline\n",
       "\t 1000    & Lucy    & 3.4    \\\\\n",
       "\t 1001    & Desmond & 3.6    \\\\\n",
       "\t 1002    & Peter   & 7.0    \\\\\n",
       "\\end{tabular}\n"
      ],
      "text/markdown": [
       "\n",
       "| ids | names | grades |\n",
       "|---|---|---|\n",
       "| 1000    | Lucy    | 3.4     |\n",
       "| 1001    | Desmond | 3.6     |\n",
       "| 1002    | Peter   | 7.0     |\n",
       "\n"
      ],
      "text/plain": [
       "  ids  names   grades\n",
       "1 1000 Lucy    3.4   \n",
       "2 1001 Desmond 3.6   \n",
       "3 1002 Peter   7.0   "
      ]
     },
     "metadata": {},
     "output_type": "display_data"
    }
   ],
   "source": [
    "head(students.df, 3)"
   ]
  },
  {
   "cell_type": "code",
   "execution_count": 294,
   "id": "eb267613-46e5-4552-abc7-b4b2a7fc6156",
   "metadata": {},
   "outputs": [
    {
     "data": {
      "text/html": [
       "<table>\n",
       "<thead><tr><th></th><th scope=col>ids</th><th scope=col>names</th><th scope=col>grades</th></tr></thead>\n",
       "<tbody>\n",
       "\t<tr><th scope=row>5</th><td>1004  </td><td>Tony  </td><td>5.9   </td></tr>\n",
       "\t<tr><th scope=row>6</th><td>1005  </td><td>Steve </td><td>9.8   </td></tr>\n",
       "\t<tr><th scope=row>7</th><td>1006  </td><td>Pranoy</td><td>9.2   </td></tr>\n",
       "</tbody>\n",
       "</table>\n"
      ],
      "text/latex": [
       "\\begin{tabular}{r|lll}\n",
       "  & ids & names & grades\\\\\n",
       "\\hline\n",
       "\t5 & 1004   & Tony   & 5.9   \\\\\n",
       "\t6 & 1005   & Steve  & 9.8   \\\\\n",
       "\t7 & 1006   & Pranoy & 9.2   \\\\\n",
       "\\end{tabular}\n"
      ],
      "text/markdown": [
       "\n",
       "| <!--/--> | ids | names | grades |\n",
       "|---|---|---|---|\n",
       "| 5 | 1004   | Tony   | 5.9    |\n",
       "| 6 | 1005   | Steve  | 9.8    |\n",
       "| 7 | 1006   | Pranoy | 9.2    |\n",
       "\n"
      ],
      "text/plain": [
       "  ids  names  grades\n",
       "5 1004 Tony   5.9   \n",
       "6 1005 Steve  9.8   \n",
       "7 1006 Pranoy 9.2   "
      ]
     },
     "metadata": {},
     "output_type": "display_data"
    }
   ],
   "source": [
    "tail(students.df, 3)"
   ]
  },
  {
   "cell_type": "code",
   "execution_count": 296,
   "id": "85006df2-e703-4642-8341-42c72a91fd91",
   "metadata": {},
   "outputs": [
    {
     "data": {
      "text/html": [
       "<table>\n",
       "<thead><tr><th scope=col>ID</th><th scope=col>Name</th><th scope=col>Grade</th></tr></thead>\n",
       "<tbody>\n",
       "\t<tr><td>1000   </td><td>Lucy   </td><td>3.4    </td></tr>\n",
       "\t<tr><td>1001   </td><td>Desmond</td><td>3.6    </td></tr>\n",
       "\t<tr><td>1002   </td><td>Peter  </td><td>7.0    </td></tr>\n",
       "\t<tr><td>1003   </td><td>Natasha</td><td>5.7    </td></tr>\n",
       "\t<tr><td>1004   </td><td>Tony   </td><td>5.9    </td></tr>\n",
       "\t<tr><td>1005   </td><td>Steve  </td><td>9.8    </td></tr>\n",
       "\t<tr><td>1006   </td><td>Pranoy </td><td>9.2    </td></tr>\n",
       "</tbody>\n",
       "</table>\n"
      ],
      "text/latex": [
       "\\begin{tabular}{r|lll}\n",
       " ID & Name & Grade\\\\\n",
       "\\hline\n",
       "\t 1000    & Lucy    & 3.4    \\\\\n",
       "\t 1001    & Desmond & 3.6    \\\\\n",
       "\t 1002    & Peter   & 7.0    \\\\\n",
       "\t 1003    & Natasha & 5.7    \\\\\n",
       "\t 1004    & Tony    & 5.9    \\\\\n",
       "\t 1005    & Steve   & 9.8    \\\\\n",
       "\t 1006    & Pranoy  & 9.2    \\\\\n",
       "\\end{tabular}\n"
      ],
      "text/markdown": [
       "\n",
       "| ID | Name | Grade |\n",
       "|---|---|---|\n",
       "| 1000    | Lucy    | 3.4     |\n",
       "| 1001    | Desmond | 3.6     |\n",
       "| 1002    | Peter   | 7.0     |\n",
       "| 1003    | Natasha | 5.7     |\n",
       "| 1004    | Tony    | 5.9     |\n",
       "| 1005    | Steve   | 9.8     |\n",
       "| 1006    | Pranoy  | 9.2     |\n",
       "\n"
      ],
      "text/plain": [
       "  ID   Name    Grade\n",
       "1 1000 Lucy    3.4  \n",
       "2 1001 Desmond 3.6  \n",
       "3 1002 Peter   7.0  \n",
       "4 1003 Natasha 5.7  \n",
       "5 1004 Tony    5.9  \n",
       "6 1005 Steve   9.8  \n",
       "7 1006 Pranoy  9.2  "
      ]
     },
     "metadata": {},
     "output_type": "display_data"
    }
   ],
   "source": [
    "students.df <-data.frame('ID'=ids, 'Name'=names, 'Grade'=grades, stringsAsFactors = FALSE)\n",
    "students.df"
   ]
  },
  {
   "cell_type": "code",
   "execution_count": 298,
   "id": "5ce82727-01df-4690-8686-a8a1b7d61f97",
   "metadata": {},
   "outputs": [
    {
     "data": {
      "text/plain": [
       "       ID           Name               Grade      \n",
       " Min.   :1000   Length:7           Min.   :3.400  \n",
       " 1st Qu.:1002   Class :character   1st Qu.:4.650  \n",
       " Median :1003   Mode  :character   Median :5.900  \n",
       " Mean   :1003                      Mean   :6.371  \n",
       " 3rd Qu.:1004                      3rd Qu.:8.100  \n",
       " Max.   :1006                      Max.   :9.800  "
      ]
     },
     "metadata": {},
     "output_type": "display_data"
    }
   ],
   "source": [
    "summary(students.df)"
   ]
  },
  {
   "cell_type": "code",
   "execution_count": 300,
   "id": "a74b9981-e5d7-4ab5-a5ea-fcfb7d2dee55",
   "metadata": {},
   "outputs": [
    {
     "data": {
      "text/html": [
       "<ol class=list-inline>\n",
       "\t<li>'ID'</li>\n",
       "\t<li>'Name'</li>\n",
       "\t<li>'Grade'</li>\n",
       "</ol>\n"
      ],
      "text/latex": [
       "\\begin{enumerate*}\n",
       "\\item 'ID'\n",
       "\\item 'Name'\n",
       "\\item 'Grade'\n",
       "\\end{enumerate*}\n"
      ],
      "text/markdown": [
       "1. 'ID'\n",
       "2. 'Name'\n",
       "3. 'Grade'\n",
       "\n",
       "\n"
      ],
      "text/plain": [
       "[1] \"ID\"    \"Name\"  \"Grade\""
      ]
     },
     "metadata": {},
     "output_type": "display_data"
    }
   ],
   "source": [
    "names(students.df)"
   ]
  },
  {
   "cell_type": "code",
   "execution_count": 302,
   "id": "30fee924-fcbb-4c8b-9626-265280532c47",
   "metadata": {},
   "outputs": [
    {
     "data": {
      "text/html": [
       "<ol class=list-inline>\n",
       "\t<li>'1'</li>\n",
       "\t<li>'2'</li>\n",
       "\t<li>'3'</li>\n",
       "\t<li>'4'</li>\n",
       "\t<li>'5'</li>\n",
       "\t<li>'6'</li>\n",
       "\t<li>'7'</li>\n",
       "</ol>\n"
      ],
      "text/latex": [
       "\\begin{enumerate*}\n",
       "\\item '1'\n",
       "\\item '2'\n",
       "\\item '3'\n",
       "\\item '4'\n",
       "\\item '5'\n",
       "\\item '6'\n",
       "\\item '7'\n",
       "\\end{enumerate*}\n"
      ],
      "text/markdown": [
       "1. '1'\n",
       "2. '2'\n",
       "3. '3'\n",
       "4. '4'\n",
       "5. '5'\n",
       "6. '6'\n",
       "7. '7'\n",
       "\n",
       "\n"
      ],
      "text/plain": [
       "[1] \"1\" \"2\" \"3\" \"4\" \"5\" \"6\" \"7\""
      ]
     },
     "metadata": {},
     "output_type": "display_data"
    }
   ],
   "source": [
    "rownames(students.df)"
   ]
  },
  {
   "cell_type": "code",
   "execution_count": 304,
   "id": "4bae0d2a-4e50-4229-82a4-f3b3f27d8f4b",
   "metadata": {},
   "outputs": [
    {
     "data": {
      "text/html": [
       "<table>\n",
       "<thead><tr><th></th><th scope=col>ID</th><th scope=col>Name</th><th scope=col>Grade</th></tr></thead>\n",
       "<tbody>\n",
       "\t<tr><th scope=row>A</th><td>1000   </td><td>Lucy   </td><td>3.4    </td></tr>\n",
       "\t<tr><th scope=row>B</th><td>1001   </td><td>Desmond</td><td>3.6    </td></tr>\n",
       "\t<tr><th scope=row>C</th><td>1002   </td><td>Peter  </td><td>7.0    </td></tr>\n",
       "\t<tr><th scope=row>D</th><td>1003   </td><td>Natasha</td><td>5.7    </td></tr>\n",
       "\t<tr><th scope=row>E</th><td>1004   </td><td>Tony   </td><td>5.9    </td></tr>\n",
       "\t<tr><th scope=row>F</th><td>1005   </td><td>Steve  </td><td>9.8    </td></tr>\n",
       "\t<tr><th scope=row>G</th><td>1006   </td><td>Pranoy </td><td>9.2    </td></tr>\n",
       "</tbody>\n",
       "</table>\n"
      ],
      "text/latex": [
       "\\begin{tabular}{r|lll}\n",
       "  & ID & Name & Grade\\\\\n",
       "\\hline\n",
       "\tA & 1000    & Lucy    & 3.4    \\\\\n",
       "\tB & 1001    & Desmond & 3.6    \\\\\n",
       "\tC & 1002    & Peter   & 7.0    \\\\\n",
       "\tD & 1003    & Natasha & 5.7    \\\\\n",
       "\tE & 1004    & Tony    & 5.9    \\\\\n",
       "\tF & 1005    & Steve   & 9.8    \\\\\n",
       "\tG & 1006    & Pranoy  & 9.2    \\\\\n",
       "\\end{tabular}\n"
      ],
      "text/markdown": [
       "\n",
       "| <!--/--> | ID | Name | Grade |\n",
       "|---|---|---|---|\n",
       "| A | 1000    | Lucy    | 3.4     |\n",
       "| B | 1001    | Desmond | 3.6     |\n",
       "| C | 1002    | Peter   | 7.0     |\n",
       "| D | 1003    | Natasha | 5.7     |\n",
       "| E | 1004    | Tony    | 5.9     |\n",
       "| F | 1005    | Steve   | 9.8     |\n",
       "| G | 1006    | Pranoy  | 9.2     |\n",
       "\n"
      ],
      "text/plain": [
       "  ID   Name    Grade\n",
       "A 1000 Lucy    3.4  \n",
       "B 1001 Desmond 3.6  \n",
       "C 1002 Peter   7.0  \n",
       "D 1003 Natasha 5.7  \n",
       "E 1004 Tony    5.9  \n",
       "F 1005 Steve   9.8  \n",
       "G 1006 Pranoy  9.2  "
      ]
     },
     "metadata": {},
     "output_type": "display_data"
    }
   ],
   "source": [
    "rownames(students.df) <- LETTERS[1:7]\n",
    "students.df"
   ]
  },
  {
   "cell_type": "code",
   "execution_count": 306,
   "id": "911b719d-3920-43f9-926b-d47de3c679c4",
   "metadata": {},
   "outputs": [
    {
     "data": {
      "text/html": [
       "<ol>\n",
       "\t<li><ol class=list-inline>\n",
       "\t<li>'A'</li>\n",
       "\t<li>'B'</li>\n",
       "\t<li>'C'</li>\n",
       "\t<li>'D'</li>\n",
       "\t<li>'E'</li>\n",
       "\t<li>'F'</li>\n",
       "\t<li>'G'</li>\n",
       "</ol>\n",
       "</li>\n",
       "\t<li><ol class=list-inline>\n",
       "\t<li>'ID'</li>\n",
       "\t<li>'Name'</li>\n",
       "\t<li>'Grade'</li>\n",
       "</ol>\n",
       "</li>\n",
       "</ol>\n"
      ],
      "text/latex": [
       "\\begin{enumerate}\n",
       "\\item \\begin{enumerate*}\n",
       "\\item 'A'\n",
       "\\item 'B'\n",
       "\\item 'C'\n",
       "\\item 'D'\n",
       "\\item 'E'\n",
       "\\item 'F'\n",
       "\\item 'G'\n",
       "\\end{enumerate*}\n",
       "\n",
       "\\item \\begin{enumerate*}\n",
       "\\item 'ID'\n",
       "\\item 'Name'\n",
       "\\item 'Grade'\n",
       "\\end{enumerate*}\n",
       "\n",
       "\\end{enumerate}\n"
      ],
      "text/markdown": [
       "1. 1. 'A'\n",
       "2. 'B'\n",
       "3. 'C'\n",
       "4. 'D'\n",
       "5. 'E'\n",
       "6. 'F'\n",
       "7. 'G'\n",
       "\n",
       "\n",
       "\n",
       "2. 1. 'ID'\n",
       "2. 'Name'\n",
       "3. 'Grade'\n",
       "\n",
       "\n",
       "\n",
       "\n",
       "\n"
      ],
      "text/plain": [
       "[[1]]\n",
       "[1] \"A\" \"B\" \"C\" \"D\" \"E\" \"F\" \"G\"\n",
       "\n",
       "[[2]]\n",
       "[1] \"ID\"    \"Name\"  \"Grade\"\n"
      ]
     },
     "metadata": {},
     "output_type": "display_data"
    }
   ],
   "source": [
    "dimnames(students.df)"
   ]
  },
  {
   "cell_type": "code",
   "execution_count": 308,
   "id": "4d7bca3d-7b52-4571-b0e7-66f732145cb1",
   "metadata": {},
   "outputs": [
    {
     "data": {
      "text/html": [
       "7"
      ],
      "text/latex": [
       "7"
      ],
      "text/markdown": [
       "7"
      ],
      "text/plain": [
       "[1] 7"
      ]
     },
     "metadata": {},
     "output_type": "display_data"
    }
   ],
   "source": [
    "nrow(students.df)"
   ]
  },
  {
   "cell_type": "code",
   "execution_count": 310,
   "id": "333ecffd-bdf7-4a16-a320-c6e701f966e9",
   "metadata": {},
   "outputs": [
    {
     "data": {
      "text/html": [
       "3"
      ],
      "text/latex": [
       "3"
      ],
      "text/markdown": [
       "3"
      ],
      "text/plain": [
       "[1] 3"
      ]
     },
     "metadata": {},
     "output_type": "display_data"
    }
   ],
   "source": [
    "ncol(students.df)"
   ]
  },
  {
   "cell_type": "code",
   "execution_count": 312,
   "id": "6818d6f8-abcc-4b8f-8dba-91d539ef3000",
   "metadata": {},
   "outputs": [
    {
     "data": {
      "text/html": [
       "<ol class=list-inline>\n",
       "\t<li>1000</li>\n",
       "\t<li>1001</li>\n",
       "\t<li>1002</li>\n",
       "\t<li>1003</li>\n",
       "\t<li>1004</li>\n",
       "\t<li>1005</li>\n",
       "\t<li>1006</li>\n",
       "</ol>\n"
      ],
      "text/latex": [
       "\\begin{enumerate*}\n",
       "\\item 1000\n",
       "\\item 1001\n",
       "\\item 1002\n",
       "\\item 1003\n",
       "\\item 1004\n",
       "\\item 1005\n",
       "\\item 1006\n",
       "\\end{enumerate*}\n"
      ],
      "text/markdown": [
       "1. 1000\n",
       "2. 1001\n",
       "3. 1002\n",
       "4. 1003\n",
       "5. 1004\n",
       "6. 1005\n",
       "7. 1006\n",
       "\n",
       "\n"
      ],
      "text/plain": [
       "[1] 1000 1001 1002 1003 1004 1005 1006"
      ]
     },
     "metadata": {},
     "output_type": "display_data"
    }
   ],
   "source": [
    "students.df[[1]]"
   ]
  },
  {
   "cell_type": "code",
   "execution_count": 314,
   "id": "0d196193-2032-4950-b0c5-d2c237a5422a",
   "metadata": {},
   "outputs": [
    {
     "data": {
      "text/html": [
       "<ol class=list-inline>\n",
       "\t<li>'Lucy'</li>\n",
       "\t<li>'Desmond'</li>\n",
       "\t<li>'Peter'</li>\n",
       "\t<li>'Natasha'</li>\n",
       "\t<li>'Tony'</li>\n",
       "\t<li>'Steve'</li>\n",
       "\t<li>'Pranoy'</li>\n",
       "</ol>\n"
      ],
      "text/latex": [
       "\\begin{enumerate*}\n",
       "\\item 'Lucy'\n",
       "\\item 'Desmond'\n",
       "\\item 'Peter'\n",
       "\\item 'Natasha'\n",
       "\\item 'Tony'\n",
       "\\item 'Steve'\n",
       "\\item 'Pranoy'\n",
       "\\end{enumerate*}\n"
      ],
      "text/markdown": [
       "1. 'Lucy'\n",
       "2. 'Desmond'\n",
       "3. 'Peter'\n",
       "4. 'Natasha'\n",
       "5. 'Tony'\n",
       "6. 'Steve'\n",
       "7. 'Pranoy'\n",
       "\n",
       "\n"
      ],
      "text/plain": [
       "[1] \"Lucy\"    \"Desmond\" \"Peter\"   \"Natasha\" \"Tony\"    \"Steve\"   \"Pranoy\" "
      ]
     },
     "metadata": {},
     "output_type": "display_data"
    }
   ],
   "source": [
    "students.df[[2]]"
   ]
  },
  {
   "cell_type": "code",
   "execution_count": 316,
   "id": "73711b28-b69f-4d12-9e63-9231ae0d2a59",
   "metadata": {},
   "outputs": [
    {
     "data": {
      "text/html": [
       "<ol class=list-inline>\n",
       "\t<li>'Lucy'</li>\n",
       "\t<li>'Desmond'</li>\n",
       "\t<li>'Peter'</li>\n",
       "\t<li>'Natasha'</li>\n",
       "\t<li>'Tony'</li>\n",
       "\t<li>'Steve'</li>\n",
       "\t<li>'Pranoy'</li>\n",
       "</ol>\n"
      ],
      "text/latex": [
       "\\begin{enumerate*}\n",
       "\\item 'Lucy'\n",
       "\\item 'Desmond'\n",
       "\\item 'Peter'\n",
       "\\item 'Natasha'\n",
       "\\item 'Tony'\n",
       "\\item 'Steve'\n",
       "\\item 'Pranoy'\n",
       "\\end{enumerate*}\n"
      ],
      "text/markdown": [
       "1. 'Lucy'\n",
       "2. 'Desmond'\n",
       "3. 'Peter'\n",
       "4. 'Natasha'\n",
       "5. 'Tony'\n",
       "6. 'Steve'\n",
       "7. 'Pranoy'\n",
       "\n",
       "\n"
      ],
      "text/plain": [
       "[1] \"Lucy\"    \"Desmond\" \"Peter\"   \"Natasha\" \"Tony\"    \"Steve\"   \"Pranoy\" "
      ]
     },
     "metadata": {},
     "output_type": "display_data"
    }
   ],
   "source": [
    "students.df$Name"
   ]
  },
  {
   "cell_type": "code",
   "execution_count": 318,
   "id": "f988df3b-065a-4c24-9e1a-c85743dbd39b",
   "metadata": {},
   "outputs": [
    {
     "data": {
      "text/html": [
       "'Lucy'"
      ],
      "text/latex": [
       "'Lucy'"
      ],
      "text/markdown": [
       "'Lucy'"
      ],
      "text/plain": [
       "[1] \"Lucy\""
      ]
     },
     "metadata": {},
     "output_type": "display_data"
    }
   ],
   "source": [
    "students.df[1,2]"
   ]
  },
  {
   "cell_type": "code",
   "execution_count": 320,
   "id": "ab6ddab7-738e-44ef-a792-2a6b89581458",
   "metadata": {},
   "outputs": [
    {
     "data": {
      "text/html": [
       "<ol class=list-inline>\n",
       "\t<li>'Lucy'</li>\n",
       "\t<li>'Desmond'</li>\n",
       "\t<li>'Peter'</li>\n",
       "\t<li>'Natasha'</li>\n",
       "\t<li>'Tony'</li>\n",
       "\t<li>'Steve'</li>\n",
       "\t<li>'Pranoy'</li>\n",
       "</ol>\n"
      ],
      "text/latex": [
       "\\begin{enumerate*}\n",
       "\\item 'Lucy'\n",
       "\\item 'Desmond'\n",
       "\\item 'Peter'\n",
       "\\item 'Natasha'\n",
       "\\item 'Tony'\n",
       "\\item 'Steve'\n",
       "\\item 'Pranoy'\n",
       "\\end{enumerate*}\n"
      ],
      "text/markdown": [
       "1. 'Lucy'\n",
       "2. 'Desmond'\n",
       "3. 'Peter'\n",
       "4. 'Natasha'\n",
       "5. 'Tony'\n",
       "6. 'Steve'\n",
       "7. 'Pranoy'\n",
       "\n",
       "\n"
      ],
      "text/plain": [
       "[1] \"Lucy\"    \"Desmond\" \"Peter\"   \"Natasha\" \"Tony\"    \"Steve\"   \"Pranoy\" "
      ]
     },
     "metadata": {},
     "output_type": "display_data"
    }
   ],
   "source": [
    "students.df[,2]"
   ]
  },
  {
   "cell_type": "code",
   "execution_count": 322,
   "id": "babd870c-0ccd-499b-a072-372de639a63b",
   "metadata": {},
   "outputs": [
    {
     "data": {
      "text/html": [
       "<table>\n",
       "<thead><tr><th></th><th scope=col>ID</th><th scope=col>Name</th><th scope=col>Grade</th></tr></thead>\n",
       "<tbody>\n",
       "\t<tr><th scope=row>C</th><td>1002 </td><td>Peter</td><td>7    </td></tr>\n",
       "</tbody>\n",
       "</table>\n"
      ],
      "text/latex": [
       "\\begin{tabular}{r|lll}\n",
       "  & ID & Name & Grade\\\\\n",
       "\\hline\n",
       "\tC & 1002  & Peter & 7    \\\\\n",
       "\\end{tabular}\n"
      ],
      "text/markdown": [
       "\n",
       "| <!--/--> | ID | Name | Grade |\n",
       "|---|---|---|---|\n",
       "| C | 1002  | Peter | 7     |\n",
       "\n"
      ],
      "text/plain": [
       "  ID   Name  Grade\n",
       "C 1002 Peter 7    "
      ]
     },
     "metadata": {},
     "output_type": "display_data"
    }
   ],
   "source": [
    "students.df[3,]"
   ]
  },
  {
   "cell_type": "code",
   "execution_count": 324,
   "id": "13a1f8a9-9f81-4268-bf90-7523670b27c2",
   "metadata": {},
   "outputs": [
    {
     "data": {
      "text/html": [
       "<table>\n",
       "<thead><tr><th></th><th scope=col>ID</th><th scope=col>Name</th><th scope=col>Grade</th></tr></thead>\n",
       "<tbody>\n",
       "\t<tr><th scope=row>C</th><td>1002   </td><td>Peter  </td><td>7.0    </td></tr>\n",
       "\t<tr><th scope=row>D</th><td>1003   </td><td>Natasha</td><td>5.7    </td></tr>\n",
       "\t<tr><th scope=row>E</th><td>1004   </td><td>Tony   </td><td>5.9    </td></tr>\n",
       "\t<tr><th scope=row>F</th><td>1005   </td><td>Steve  </td><td>9.8    </td></tr>\n",
       "\t<tr><th scope=row>G</th><td>1006   </td><td>Pranoy </td><td>9.2    </td></tr>\n",
       "</tbody>\n",
       "</table>\n"
      ],
      "text/latex": [
       "\\begin{tabular}{r|lll}\n",
       "  & ID & Name & Grade\\\\\n",
       "\\hline\n",
       "\tC & 1002    & Peter   & 7.0    \\\\\n",
       "\tD & 1003    & Natasha & 5.7    \\\\\n",
       "\tE & 1004    & Tony    & 5.9    \\\\\n",
       "\tF & 1005    & Steve   & 9.8    \\\\\n",
       "\tG & 1006    & Pranoy  & 9.2    \\\\\n",
       "\\end{tabular}\n"
      ],
      "text/markdown": [
       "\n",
       "| <!--/--> | ID | Name | Grade |\n",
       "|---|---|---|---|\n",
       "| C | 1002    | Peter   | 7.0     |\n",
       "| D | 1003    | Natasha | 5.7     |\n",
       "| E | 1004    | Tony    | 5.9     |\n",
       "| F | 1005    | Steve   | 9.8     |\n",
       "| G | 1006    | Pranoy  | 9.2     |\n",
       "\n"
      ],
      "text/plain": [
       "  ID   Name    Grade\n",
       "C 1002 Peter   7.0  \n",
       "D 1003 Natasha 5.7  \n",
       "E 1004 Tony    5.9  \n",
       "F 1005 Steve   9.8  \n",
       "G 1006 Pranoy  9.2  "
      ]
     },
     "metadata": {},
     "output_type": "display_data"
    }
   ],
   "source": [
    "students.df[3:7,]"
   ]
  },
  {
   "cell_type": "code",
   "execution_count": 326,
   "id": "324da09e-5848-45c0-ac7e-823d3d8cea4f",
   "metadata": {},
   "outputs": [
    {
     "data": {
      "text/html": [
       "<table>\n",
       "<thead><tr><th></th><th scope=col>ID</th><th scope=col>Name</th><th scope=col>Grade</th></tr></thead>\n",
       "<tbody>\n",
       "\t<tr><th scope=row>B</th><td>1001   </td><td>Desmond</td><td>3.6    </td></tr>\n",
       "\t<tr><th scope=row>E</th><td>1004   </td><td>Tony   </td><td>5.9    </td></tr>\n",
       "</tbody>\n",
       "</table>\n"
      ],
      "text/latex": [
       "\\begin{tabular}{r|lll}\n",
       "  & ID & Name & Grade\\\\\n",
       "\\hline\n",
       "\tB & 1001    & Desmond & 3.6    \\\\\n",
       "\tE & 1004    & Tony    & 5.9    \\\\\n",
       "\\end{tabular}\n"
      ],
      "text/markdown": [
       "\n",
       "| <!--/--> | ID | Name | Grade |\n",
       "|---|---|---|---|\n",
       "| B | 1001    | Desmond | 3.6     |\n",
       "| E | 1004    | Tony    | 5.9     |\n",
       "\n"
      ],
      "text/plain": [
       "  ID   Name    Grade\n",
       "B 1001 Desmond 3.6  \n",
       "E 1004 Tony    5.9  "
      ]
     },
     "metadata": {},
     "output_type": "display_data"
    }
   ],
   "source": [
    "students.df[c(2,5),]"
   ]
  },
  {
   "cell_type": "code",
   "execution_count": 328,
   "id": "3bd9f948-6c3c-4764-8aef-e5ebbb63352b",
   "metadata": {},
   "outputs": [
    {
     "data": {
      "text/html": [
       "<table>\n",
       "<thead><tr><th></th><th scope=col>Name</th></tr></thead>\n",
       "<tbody>\n",
       "\t<tr><th scope=row>C</th><td>Peter  </td></tr>\n",
       "\t<tr><th scope=row>D</th><td>Natasha</td></tr>\n",
       "\t<tr><th scope=row>E</th><td>Tony   </td></tr>\n",
       "\t<tr><th scope=row>F</th><td>Steve  </td></tr>\n",
       "\t<tr><th scope=row>G</th><td>Pranoy </td></tr>\n",
       "</tbody>\n",
       "</table>\n"
      ],
      "text/latex": [
       "\\begin{tabular}{r|l}\n",
       "  & Name\\\\\n",
       "\\hline\n",
       "\tC & Peter  \\\\\n",
       "\tD & Natasha\\\\\n",
       "\tE & Tony   \\\\\n",
       "\tF & Steve  \\\\\n",
       "\tG & Pranoy \\\\\n",
       "\\end{tabular}\n"
      ],
      "text/markdown": [
       "\n",
       "| <!--/--> | Name |\n",
       "|---|---|\n",
       "| C | Peter   |\n",
       "| D | Natasha |\n",
       "| E | Tony    |\n",
       "| F | Steve   |\n",
       "| G | Pranoy  |\n",
       "\n"
      ],
      "text/plain": [
       "  Name   \n",
       "C Peter  \n",
       "D Natasha\n",
       "E Tony   \n",
       "F Steve  \n",
       "G Pranoy "
      ]
     },
     "metadata": {},
     "output_type": "display_data"
    }
   ],
   "source": [
    "students.df[3:7,2,drop=FALSE]"
   ]
  },
  {
   "cell_type": "code",
   "execution_count": 330,
   "id": "217e3406-5f9b-446b-8c2b-851f37dfcf61",
   "metadata": {},
   "outputs": [
    {
     "data": {
      "text/html": [
       "<ol class=list-inline>\n",
       "\t<li>'Peter'</li>\n",
       "\t<li>'Natasha'</li>\n",
       "\t<li>'Tony'</li>\n",
       "\t<li>'Steve'</li>\n",
       "\t<li>'Pranoy'</li>\n",
       "</ol>\n"
      ],
      "text/latex": [
       "\\begin{enumerate*}\n",
       "\\item 'Peter'\n",
       "\\item 'Natasha'\n",
       "\\item 'Tony'\n",
       "\\item 'Steve'\n",
       "\\item 'Pranoy'\n",
       "\\end{enumerate*}\n"
      ],
      "text/markdown": [
       "1. 'Peter'\n",
       "2. 'Natasha'\n",
       "3. 'Tony'\n",
       "4. 'Steve'\n",
       "5. 'Pranoy'\n",
       "\n",
       "\n"
      ],
      "text/plain": [
       "[1] \"Peter\"   \"Natasha\" \"Tony\"    \"Steve\"   \"Pranoy\" "
      ]
     },
     "metadata": {},
     "output_type": "display_data"
    }
   ],
   "source": [
    "students.df[3:7,2,drop=TRUE]"
   ]
  },
  {
   "cell_type": "code",
   "execution_count": 332,
   "id": "d6c64786-6661-460e-b5a7-05e3bcbb8065",
   "metadata": {},
   "outputs": [
    {
     "data": {
      "text/html": [
       "<ol class=list-inline>\n",
       "\t<li>'Peter'</li>\n",
       "\t<li>'Natasha'</li>\n",
       "\t<li>'Tony'</li>\n",
       "\t<li>'Steve'</li>\n",
       "\t<li>'Pranoy'</li>\n",
       "</ol>\n"
      ],
      "text/latex": [
       "\\begin{enumerate*}\n",
       "\\item 'Peter'\n",
       "\\item 'Natasha'\n",
       "\\item 'Tony'\n",
       "\\item 'Steve'\n",
       "\\item 'Pranoy'\n",
       "\\end{enumerate*}\n"
      ],
      "text/markdown": [
       "1. 'Peter'\n",
       "2. 'Natasha'\n",
       "3. 'Tony'\n",
       "4. 'Steve'\n",
       "5. 'Pranoy'\n",
       "\n",
       "\n"
      ],
      "text/plain": [
       "[1] \"Peter\"   \"Natasha\" \"Tony\"    \"Steve\"   \"Pranoy\" "
      ]
     },
     "metadata": {},
     "output_type": "display_data"
    }
   ],
   "source": [
    "students.df[3:7,2]"
   ]
  },
  {
   "cell_type": "code",
   "execution_count": 334,
   "id": "d9d73f25-17d7-4c4f-b6d3-043c7b17efef",
   "metadata": {},
   "outputs": [
    {
     "data": {
      "text/html": [
       "<table>\n",
       "<thead><tr><th scope=col>id</th><th scope=col>name</th><th scope=col>department</th><th scope=col>salary</th></tr></thead>\n",
       "<tbody>\n",
       "\t<tr><td>1001                </td><td>Amanda              </td><td>Software Testing    </td><td>135000              </td></tr>\n",
       "\t<tr><td>1002                </td><td>Isaac               </td><td>Software Testing    </td><td> 28000              </td></tr>\n",
       "\t<tr><td>1003                </td><td>Philip              </td><td>Software Development</td><td> 90000              </td></tr>\n",
       "\t<tr><td>1004                </td><td>Peter               </td><td>Software Development</td><td>140000              </td></tr>\n",
       "\t<tr><td>1005                </td><td>Tony                </td><td>Opetrations         </td><td>200000              </td></tr>\n",
       "\t<tr><td>1006                </td><td>Kevin               </td><td>Sales               </td><td> 35000              </td></tr>\n",
       "\t<tr><td>1007                </td><td>Lily                </td><td>HR                  </td><td> 50000              </td></tr>\n",
       "</tbody>\n",
       "</table>\n"
      ],
      "text/latex": [
       "\\begin{tabular}{r|llll}\n",
       " id & name & department & salary\\\\\n",
       "\\hline\n",
       "\t 1001                 & Amanda               & Software Testing     & 135000              \\\\\n",
       "\t 1002                 & Isaac                & Software Testing     &  28000              \\\\\n",
       "\t 1003                 & Philip               & Software Development &  90000              \\\\\n",
       "\t 1004                 & Peter                & Software Development & 140000              \\\\\n",
       "\t 1005                 & Tony                 & Opetrations          & 200000              \\\\\n",
       "\t 1006                 & Kevin                & Sales                &  35000              \\\\\n",
       "\t 1007                 & Lily                 & HR                   &  50000              \\\\\n",
       "\\end{tabular}\n"
      ],
      "text/markdown": [
       "\n",
       "| id | name | department | salary |\n",
       "|---|---|---|---|\n",
       "| 1001                 | Amanda               | Software Testing     | 135000               |\n",
       "| 1002                 | Isaac                | Software Testing     |  28000               |\n",
       "| 1003                 | Philip               | Software Development |  90000               |\n",
       "| 1004                 | Peter                | Software Development | 140000               |\n",
       "| 1005                 | Tony                 | Opetrations          | 200000               |\n",
       "| 1006                 | Kevin                | Sales                |  35000               |\n",
       "| 1007                 | Lily                 | HR                   |  50000               |\n",
       "\n"
      ],
      "text/plain": [
       "  id   name   department           salary\n",
       "1 1001 Amanda Software Testing     135000\n",
       "2 1002 Isaac  Software Testing      28000\n",
       "3 1003 Philip Software Development  90000\n",
       "4 1004 Peter  Software Development 140000\n",
       "5 1005 Tony   Opetrations          200000\n",
       "6 1006 Kevin  Sales                 35000\n",
       "7 1007 Lily   HR                    50000"
      ]
     },
     "metadata": {},
     "output_type": "display_data"
    }
   ],
   "source": [
    "employee.df = data.frame(id = 1001:1007,\n",
    "                         name = c('Amanda','Isaac','Philip','Peter','Tony','Kevin','Lily'),\n",
    "                         department = c('Software Testing','Software Testing','Software Development','Software Development','Opetrations','Sales','HR'),\n",
    "                         salary = c(135000, 28000, 90000, 140000, 200000, 35000, 50000),\n",
    "                         stringsAsFactors = FALSE\n",
    "                        )\n",
    "employee.df"
   ]
  },
  {
   "cell_type": "code",
   "execution_count": 336,
   "id": "42be1dfd-4d5c-4f1f-90ec-18def20c2389",
   "metadata": {},
   "outputs": [
    {
     "data": {
      "text/plain": [
       "       id           name            department            salary      \n",
       " Min.   :1001   Length:7           Length:7           Min.   : 28000  \n",
       " 1st Qu.:1002   Class :character   Class :character   1st Qu.: 42500  \n",
       " Median :1004   Mode  :character   Mode  :character   Median : 90000  \n",
       " Mean   :1004                                         Mean   : 96857  \n",
       " 3rd Qu.:1006                                         3rd Qu.:137500  \n",
       " Max.   :1007                                         Max.   :200000  "
      ]
     },
     "metadata": {},
     "output_type": "display_data"
    }
   ],
   "source": [
    "summary(employee.df)"
   ]
  },
  {
   "cell_type": "code",
   "execution_count": 338,
   "id": "9b3a171b-a5cd-460d-a719-0602a34316de",
   "metadata": {},
   "outputs": [
    {
     "data": {
      "text/html": [
       "<table>\n",
       "<thead><tr><th></th><th scope=col>id</th><th scope=col>name</th><th scope=col>department</th><th scope=col>salary</th></tr></thead>\n",
       "<tbody>\n",
       "\t<tr><th scope=row>3</th><td>1003                </td><td>Philip              </td><td>Software Development</td><td> 90000              </td></tr>\n",
       "\t<tr><th scope=row>4</th><td>1004                </td><td>Peter               </td><td>Software Development</td><td>140000              </td></tr>\n",
       "</tbody>\n",
       "</table>\n"
      ],
      "text/latex": [
       "\\begin{tabular}{r|llll}\n",
       "  & id & name & department & salary\\\\\n",
       "\\hline\n",
       "\t3 & 1003                 & Philip               & Software Development &  90000              \\\\\n",
       "\t4 & 1004                 & Peter                & Software Development & 140000              \\\\\n",
       "\\end{tabular}\n"
      ],
      "text/markdown": [
       "\n",
       "| <!--/--> | id | name | department | salary |\n",
       "|---|---|---|---|---|\n",
       "| 3 | 1003                 | Philip               | Software Development |  90000               |\n",
       "| 4 | 1004                 | Peter                | Software Development | 140000               |\n",
       "\n"
      ],
      "text/plain": [
       "  id   name   department           salary\n",
       "3 1003 Philip Software Development  90000\n",
       "4 1004 Peter  Software Development 140000"
      ]
     },
     "metadata": {},
     "output_type": "display_data"
    }
   ],
   "source": [
    "software.employee.data <- employee.df[employee.df$department == 'Software Development',]\n",
    "software.employee.data"
   ]
  },
  {
   "cell_type": "code",
   "execution_count": 340,
   "id": "e20205fe-9f07-40d5-9f4d-d1faab92241b",
   "metadata": {},
   "outputs": [
    {
     "data": {
      "text/html": [
       "<table>\n",
       "<thead><tr><th scope=col>id</th><th scope=col>name</th><th scope=col>department</th><th scope=col>salary</th></tr></thead>\n",
       "<tbody>\n",
       "\t<tr><td>1001                </td><td>Amanda              </td><td>Software Testing    </td><td>135000              </td></tr>\n",
       "\t<tr><td>1002                </td><td>Isaac               </td><td>Software Testing    </td><td> 28000              </td></tr>\n",
       "\t<tr><td>1003                </td><td>Philip              </td><td>Software Development</td><td> 90000              </td></tr>\n",
       "\t<tr><td>1004                </td><td>Peter               </td><td>Software Development</td><td>140000              </td></tr>\n",
       "</tbody>\n",
       "</table>\n"
      ],
      "text/latex": [
       "\\begin{tabular}{r|llll}\n",
       " id & name & department & salary\\\\\n",
       "\\hline\n",
       "\t 1001                 & Amanda               & Software Testing     & 135000              \\\\\n",
       "\t 1002                 & Isaac                & Software Testing     &  28000              \\\\\n",
       "\t 1003                 & Philip               & Software Development &  90000              \\\\\n",
       "\t 1004                 & Peter                & Software Development & 140000              \\\\\n",
       "\\end{tabular}\n"
      ],
      "text/markdown": [
       "\n",
       "| id | name | department | salary |\n",
       "|---|---|---|---|\n",
       "| 1001                 | Amanda               | Software Testing     | 135000               |\n",
       "| 1002                 | Isaac                | Software Testing     |  28000               |\n",
       "| 1003                 | Philip               | Software Development |  90000               |\n",
       "| 1004                 | Peter                | Software Development | 140000               |\n",
       "\n"
      ],
      "text/plain": [
       "  id   name   department           salary\n",
       "1 1001 Amanda Software Testing     135000\n",
       "2 1002 Isaac  Software Testing      28000\n",
       "3 1003 Philip Software Development  90000\n",
       "4 1004 Peter  Software Development 140000"
      ]
     },
     "metadata": {},
     "output_type": "display_data"
    }
   ],
   "source": [
    "software.employee.data <- employee.df[grep(\"Software\", employee.df$department),]\n",
    "software.employee.data"
   ]
  },
  {
   "cell_type": "code",
   "execution_count": 342,
   "id": "ffdcde50-b14b-4029-b94f-b7955ab36e35",
   "metadata": {},
   "outputs": [
    {
     "data": {
      "text/html": [
       "<table>\n",
       "<thead><tr><th></th><th scope=col>id</th><th scope=col>name</th><th scope=col>department</th><th scope=col>salary</th></tr></thead>\n",
       "<tbody>\n",
       "\t<tr><th scope=row>1</th><td>1001                </td><td>Amanda              </td><td>Software Testing    </td><td>135000              </td></tr>\n",
       "\t<tr><th scope=row>4</th><td>1004                </td><td>Peter               </td><td>Software Development</td><td>140000              </td></tr>\n",
       "\t<tr><th scope=row>5</th><td>1005                </td><td>Tony                </td><td>Opetrations         </td><td>200000              </td></tr>\n",
       "</tbody>\n",
       "</table>\n"
      ],
      "text/latex": [
       "\\begin{tabular}{r|llll}\n",
       "  & id & name & department & salary\\\\\n",
       "\\hline\n",
       "\t1 & 1001                 & Amanda               & Software Testing     & 135000              \\\\\n",
       "\t4 & 1004                 & Peter                & Software Development & 140000              \\\\\n",
       "\t5 & 1005                 & Tony                 & Opetrations          & 200000              \\\\\n",
       "\\end{tabular}\n"
      ],
      "text/markdown": [
       "\n",
       "| <!--/--> | id | name | department | salary |\n",
       "|---|---|---|---|---|\n",
       "| 1 | 1001                 | Amanda               | Software Testing     | 135000               |\n",
       "| 4 | 1004                 | Peter                | Software Development | 140000               |\n",
       "| 5 | 1005                 | Tony                 | Opetrations          | 200000               |\n",
       "\n"
      ],
      "text/plain": [
       "  id   name   department           salary\n",
       "1 1001 Amanda Software Testing     135000\n",
       "4 1004 Peter  Software Development 140000\n",
       "5 1005 Tony   Opetrations          200000"
      ]
     },
     "metadata": {},
     "output_type": "display_data"
    }
   ],
   "source": [
    "employee.df[employee.df$salary >= 100000,]"
   ]
  },
  {
   "cell_type": "code",
   "execution_count": 344,
   "id": "714105b6-967a-4aef-93aa-b6e56a8e11f1",
   "metadata": {},
   "outputs": [
    {
     "data": {
      "text/html": [
       "<table>\n",
       "<thead><tr><th></th><th scope=col>id</th><th scope=col>name</th><th scope=col>department</th><th scope=col>salary</th></tr></thead>\n",
       "<tbody>\n",
       "\t<tr><th scope=row>2</th><td>1002            </td><td>Isaac           </td><td>Software Testing</td><td>28000           </td></tr>\n",
       "\t<tr><th scope=row>6</th><td>1006            </td><td>Kevin           </td><td>Sales           </td><td>35000           </td></tr>\n",
       "</tbody>\n",
       "</table>\n"
      ],
      "text/latex": [
       "\\begin{tabular}{r|llll}\n",
       "  & id & name & department & salary\\\\\n",
       "\\hline\n",
       "\t2 & 1002             & Isaac            & Software Testing & 28000           \\\\\n",
       "\t6 & 1006             & Kevin            & Sales            & 35000           \\\\\n",
       "\\end{tabular}\n"
      ],
      "text/markdown": [
       "\n",
       "| <!--/--> | id | name | department | salary |\n",
       "|---|---|---|---|---|\n",
       "| 2 | 1002             | Isaac            | Software Testing | 28000            |\n",
       "| 6 | 1006             | Kevin            | Sales            | 35000            |\n",
       "\n"
      ],
      "text/plain": [
       "  id   name  department       salary\n",
       "2 1002 Isaac Software Testing 28000 \n",
       "6 1006 Kevin Sales            35000 "
      ]
     },
     "metadata": {},
     "output_type": "display_data"
    }
   ],
   "source": [
    "employee.df[employee.df$salary < 50000 | employee.df$department == 'Sales',]"
   ]
  },
  {
   "cell_type": "code",
   "execution_count": 346,
   "id": "d64b31ad-2c3b-4b19-8c87-c94216c3eb6e",
   "metadata": {},
   "outputs": [
    {
     "data": {
      "text/html": [
       "<table>\n",
       "<thead><tr><th></th><th scope=col>id</th><th scope=col>name</th><th scope=col>department</th><th scope=col>salary</th></tr></thead>\n",
       "<tbody>\n",
       "\t<tr><th scope=row>6</th><td>1006 </td><td>Kevin</td><td>Sales</td><td>35000</td></tr>\n",
       "</tbody>\n",
       "</table>\n"
      ],
      "text/latex": [
       "\\begin{tabular}{r|llll}\n",
       "  & id & name & department & salary\\\\\n",
       "\\hline\n",
       "\t6 & 1006  & Kevin & Sales & 35000\\\\\n",
       "\\end{tabular}\n"
      ],
      "text/markdown": [
       "\n",
       "| <!--/--> | id | name | department | salary |\n",
       "|---|---|---|---|---|\n",
       "| 6 | 1006  | Kevin | Sales | 35000 |\n",
       "\n"
      ],
      "text/plain": [
       "  id   name  department salary\n",
       "6 1006 Kevin Sales      35000 "
      ]
     },
     "metadata": {},
     "output_type": "display_data"
    }
   ],
   "source": [
    "employee.df[employee.df$salary < 50000 & employee.df$department == 'Sales',]"
   ]
  },
  {
   "cell_type": "code",
   "execution_count": 348,
   "id": "6d10152e-7600-4708-aba8-628ef0e0d233",
   "metadata": {},
   "outputs": [
    {
     "data": {
      "text/html": [
       "<ol>\n",
       "\t<li>1010</li>\n",
       "\t<li>'Mark'</li>\n",
       "\t<li>'Sales'</li>\n",
       "\t<li>50000</li>\n",
       "</ol>\n"
      ],
      "text/latex": [
       "\\begin{enumerate}\n",
       "\\item 1010\n",
       "\\item 'Mark'\n",
       "\\item 'Sales'\n",
       "\\item 50000\n",
       "\\end{enumerate}\n"
      ],
      "text/markdown": [
       "1. 1010\n",
       "2. 'Mark'\n",
       "3. 'Sales'\n",
       "4. 50000\n",
       "\n",
       "\n"
      ],
      "text/plain": [
       "[[1]]\n",
       "[1] 1010\n",
       "\n",
       "[[2]]\n",
       "[1] \"Mark\"\n",
       "\n",
       "[[3]]\n",
       "[1] \"Sales\"\n",
       "\n",
       "[[4]]\n",
       "[1] 50000\n"
      ]
     },
     "metadata": {},
     "output_type": "display_data"
    }
   ],
   "source": [
    "mark <- list(1010, 'Mark', 'Sales', 50000)\n",
    "mark"
   ]
  },
  {
   "cell_type": "code",
   "execution_count": 350,
   "id": "371d1ed7-f364-47aa-a142-d1a7c685c2f9",
   "metadata": {},
   "outputs": [
    {
     "data": {
      "text/html": [
       "<table>\n",
       "<thead><tr><th scope=col>id</th><th scope=col>name</th><th scope=col>department</th><th scope=col>salary</th></tr></thead>\n",
       "<tbody>\n",
       "\t<tr><td>1001                </td><td>Amanda              </td><td>Software Testing    </td><td>135000              </td></tr>\n",
       "\t<tr><td>1002                </td><td>Isaac               </td><td>Software Testing    </td><td> 28000              </td></tr>\n",
       "\t<tr><td>1003                </td><td>Philip              </td><td>Software Development</td><td> 90000              </td></tr>\n",
       "\t<tr><td>1004                </td><td>Peter               </td><td>Software Development</td><td>140000              </td></tr>\n",
       "\t<tr><td>1005                </td><td>Tony                </td><td>Opetrations         </td><td>200000              </td></tr>\n",
       "\t<tr><td>1006                </td><td>Kevin               </td><td>Sales               </td><td> 35000              </td></tr>\n",
       "\t<tr><td>1007                </td><td>Lily                </td><td>HR                  </td><td> 50000              </td></tr>\n",
       "\t<tr><td>1010                </td><td>Mark                </td><td>Sales               </td><td> 50000              </td></tr>\n",
       "</tbody>\n",
       "</table>\n"
      ],
      "text/latex": [
       "\\begin{tabular}{r|llll}\n",
       " id & name & department & salary\\\\\n",
       "\\hline\n",
       "\t 1001                 & Amanda               & Software Testing     & 135000              \\\\\n",
       "\t 1002                 & Isaac                & Software Testing     &  28000              \\\\\n",
       "\t 1003                 & Philip               & Software Development &  90000              \\\\\n",
       "\t 1004                 & Peter                & Software Development & 140000              \\\\\n",
       "\t 1005                 & Tony                 & Opetrations          & 200000              \\\\\n",
       "\t 1006                 & Kevin                & Sales                &  35000              \\\\\n",
       "\t 1007                 & Lily                 & HR                   &  50000              \\\\\n",
       "\t 1010                 & Mark                 & Sales                &  50000              \\\\\n",
       "\\end{tabular}\n"
      ],
      "text/markdown": [
       "\n",
       "| id | name | department | salary |\n",
       "|---|---|---|---|\n",
       "| 1001                 | Amanda               | Software Testing     | 135000               |\n",
       "| 1002                 | Isaac                | Software Testing     |  28000               |\n",
       "| 1003                 | Philip               | Software Development |  90000               |\n",
       "| 1004                 | Peter                | Software Development | 140000               |\n",
       "| 1005                 | Tony                 | Opetrations          | 200000               |\n",
       "| 1006                 | Kevin                | Sales                |  35000               |\n",
       "| 1007                 | Lily                 | HR                   |  50000               |\n",
       "| 1010                 | Mark                 | Sales                |  50000               |\n",
       "\n"
      ],
      "text/plain": [
       "  id   name   department           salary\n",
       "1 1001 Amanda Software Testing     135000\n",
       "2 1002 Isaac  Software Testing      28000\n",
       "3 1003 Philip Software Development  90000\n",
       "4 1004 Peter  Software Development 140000\n",
       "5 1005 Tony   Opetrations          200000\n",
       "6 1006 Kevin  Sales                 35000\n",
       "7 1007 Lily   HR                    50000\n",
       "8 1010 Mark   Sales                 50000"
      ]
     },
     "metadata": {},
     "output_type": "display_data"
    }
   ],
   "source": [
    "employee.df <- rbind(employee.df, mark)\n",
    "employee.df"
   ]
  },
  {
   "cell_type": "code",
   "execution_count": 352,
   "id": "ae5c227b-47ed-476e-8cfa-a18c1c148757",
   "metadata": {},
   "outputs": [
    {
     "data": {
      "text/html": [
       "<table>\n",
       "<thead><tr><th></th><th scope=col>id</th><th scope=col>name</th><th scope=col>department</th><th scope=col>salary</th></tr></thead>\n",
       "<tbody>\n",
       "\t<tr><th scope=row>2</th><td>1002            </td><td>Isaac           </td><td>Software Testing</td><td>28000           </td></tr>\n",
       "\t<tr><th scope=row>6</th><td>1006            </td><td>Kevin           </td><td>Sales           </td><td>35000           </td></tr>\n",
       "\t<tr><th scope=row>7</th><td>1007            </td><td>Lily            </td><td>HR              </td><td>50000           </td></tr>\n",
       "\t<tr><th scope=row>8</th><td>1010            </td><td>Mark            </td><td>Sales           </td><td>50000           </td></tr>\n",
       "</tbody>\n",
       "</table>\n"
      ],
      "text/latex": [
       "\\begin{tabular}{r|llll}\n",
       "  & id & name & department & salary\\\\\n",
       "\\hline\n",
       "\t2 & 1002             & Isaac            & Software Testing & 28000           \\\\\n",
       "\t6 & 1006             & Kevin            & Sales            & 35000           \\\\\n",
       "\t7 & 1007             & Lily             & HR               & 50000           \\\\\n",
       "\t8 & 1010             & Mark             & Sales            & 50000           \\\\\n",
       "\\end{tabular}\n"
      ],
      "text/markdown": [
       "\n",
       "| <!--/--> | id | name | department | salary |\n",
       "|---|---|---|---|---|\n",
       "| 2 | 1002             | Isaac            | Software Testing | 28000            |\n",
       "| 6 | 1006             | Kevin            | Sales            | 35000            |\n",
       "| 7 | 1007             | Lily             | HR               | 50000            |\n",
       "| 8 | 1010             | Mark             | Sales            | 50000            |\n",
       "\n"
      ],
      "text/plain": [
       "  id   name  department       salary\n",
       "2 1002 Isaac Software Testing 28000 \n",
       "6 1006 Kevin Sales            35000 \n",
       "7 1007 Lily  HR               50000 \n",
       "8 1010 Mark  Sales            50000 "
      ]
     },
     "metadata": {},
     "output_type": "display_data"
    }
   ],
   "source": [
    "employee.df[employee.df$salary <= 50000,]"
   ]
  },
  {
   "cell_type": "code",
   "execution_count": 354,
   "id": "0e3299de-4e61-43a9-8872-79a36a0ab4b1",
   "metadata": {},
   "outputs": [
    {
     "data": {
      "text/html": [
       "<table>\n",
       "<thead><tr><th></th><th scope=col>id</th><th scope=col>name</th><th scope=col>department</th><th scope=col>salary</th></tr></thead>\n",
       "<tbody>\n",
       "\t<tr><th scope=row>7</th><td>1007 </td><td>Lily </td><td>HR   </td><td>50000</td></tr>\n",
       "\t<tr><th scope=row>8</th><td>1010 </td><td>Mark </td><td>Sales</td><td>50000</td></tr>\n",
       "</tbody>\n",
       "</table>\n"
      ],
      "text/latex": [
       "\\begin{tabular}{r|llll}\n",
       "  & id & name & department & salary\\\\\n",
       "\\hline\n",
       "\t7 & 1007  & Lily  & HR    & 50000\\\\\n",
       "\t8 & 1010  & Mark  & Sales & 50000\\\\\n",
       "\\end{tabular}\n"
      ],
      "text/markdown": [
       "\n",
       "| <!--/--> | id | name | department | salary |\n",
       "|---|---|---|---|---|\n",
       "| 7 | 1007  | Lily  | HR    | 50000 |\n",
       "| 8 | 1010  | Mark  | Sales | 50000 |\n",
       "\n"
      ],
      "text/plain": [
       "  id   name department salary\n",
       "7 1007 Lily HR         50000 \n",
       "8 1010 Mark Sales      50000 "
      ]
     },
     "metadata": {},
     "output_type": "display_data"
    }
   ],
   "source": [
    "employee.df[employee.df$salary == 50000,]"
   ]
  },
  {
   "cell_type": "code",
   "execution_count": 356,
   "id": "fe3197be-108b-4119-bf07-350d7de402d6",
   "metadata": {},
   "outputs": [
    {
     "data": {
      "text/html": [
       "<table>\n",
       "<thead><tr><th scope=col>id</th><th scope=col>name</th><th scope=col>department</th><th scope=col>salary</th></tr></thead>\n",
       "<tbody>\n",
       "\t<tr><td>1018                </td><td>Donal               </td><td>Software Development</td><td>135000              </td></tr>\n",
       "\t<tr><td>1019                </td><td>Robert              </td><td>Production          </td><td> 85000              </td></tr>\n",
       "\t<tr><td>1020                </td><td>Wanda               </td><td>HR                  </td><td> 45000              </td></tr>\n",
       "</tbody>\n",
       "</table>\n"
      ],
      "text/latex": [
       "\\begin{tabular}{r|llll}\n",
       " id & name & department & salary\\\\\n",
       "\\hline\n",
       "\t 1018                 & Donal                & Software Development & 135000              \\\\\n",
       "\t 1019                 & Robert               & Production           &  85000              \\\\\n",
       "\t 1020                 & Wanda                & HR                   &  45000              \\\\\n",
       "\\end{tabular}\n"
      ],
      "text/markdown": [
       "\n",
       "| id | name | department | salary |\n",
       "|---|---|---|---|\n",
       "| 1018                 | Donal                | Software Development | 135000               |\n",
       "| 1019                 | Robert               | Production           |  85000               |\n",
       "| 1020                 | Wanda                | HR                   |  45000               |\n",
       "\n"
      ],
      "text/plain": [
       "  id   name   department           salary\n",
       "1 1018 Donal  Software Development 135000\n",
       "2 1019 Robert Production            85000\n",
       "3 1020 Wanda  HR                    45000"
      ]
     },
     "metadata": {},
     "output_type": "display_data"
    }
   ],
   "source": [
    "employee.new <- data.frame(id = c(1018, 1019, 1020),\n",
    "                         name = c('Donal', 'Robert', 'Wanda'),\n",
    "                         department = c('Software Development', 'Production', 'HR'),\n",
    "                         salary = c(135000, 85000, 45000),\n",
    "                         stringsAsFactors = FALSE\n",
    "                        )\n",
    "employee.new"
   ]
  },
  {
   "cell_type": "code",
   "execution_count": 358,
   "id": "affa87ee-e2b6-4ddf-a2b1-82a54181b120",
   "metadata": {},
   "outputs": [
    {
     "data": {
      "text/html": [
       "<table>\n",
       "<thead><tr><th scope=col>id</th><th scope=col>name</th><th scope=col>department</th><th scope=col>salary</th></tr></thead>\n",
       "<tbody>\n",
       "\t<tr><td>1001                </td><td>Amanda              </td><td>Software Testing    </td><td>135000              </td></tr>\n",
       "\t<tr><td>1002                </td><td>Isaac               </td><td>Software Testing    </td><td> 28000              </td></tr>\n",
       "\t<tr><td>1003                </td><td>Philip              </td><td>Software Development</td><td> 90000              </td></tr>\n",
       "\t<tr><td>1004                </td><td>Peter               </td><td>Software Development</td><td>140000              </td></tr>\n",
       "\t<tr><td>1005                </td><td>Tony                </td><td>Opetrations         </td><td>200000              </td></tr>\n",
       "\t<tr><td>1006                </td><td>Kevin               </td><td>Sales               </td><td> 35000              </td></tr>\n",
       "\t<tr><td>1007                </td><td>Lily                </td><td>HR                  </td><td> 50000              </td></tr>\n",
       "\t<tr><td>1010                </td><td>Mark                </td><td>Sales               </td><td> 50000              </td></tr>\n",
       "\t<tr><td>1018                </td><td>Donal               </td><td>Software Development</td><td>135000              </td></tr>\n",
       "\t<tr><td>1019                </td><td>Robert              </td><td>Production          </td><td> 85000              </td></tr>\n",
       "\t<tr><td>1020                </td><td>Wanda               </td><td>HR                  </td><td> 45000              </td></tr>\n",
       "</tbody>\n",
       "</table>\n"
      ],
      "text/latex": [
       "\\begin{tabular}{r|llll}\n",
       " id & name & department & salary\\\\\n",
       "\\hline\n",
       "\t 1001                 & Amanda               & Software Testing     & 135000              \\\\\n",
       "\t 1002                 & Isaac                & Software Testing     &  28000              \\\\\n",
       "\t 1003                 & Philip               & Software Development &  90000              \\\\\n",
       "\t 1004                 & Peter                & Software Development & 140000              \\\\\n",
       "\t 1005                 & Tony                 & Opetrations          & 200000              \\\\\n",
       "\t 1006                 & Kevin                & Sales                &  35000              \\\\\n",
       "\t 1007                 & Lily                 & HR                   &  50000              \\\\\n",
       "\t 1010                 & Mark                 & Sales                &  50000              \\\\\n",
       "\t 1018                 & Donal                & Software Development & 135000              \\\\\n",
       "\t 1019                 & Robert               & Production           &  85000              \\\\\n",
       "\t 1020                 & Wanda                & HR                   &  45000              \\\\\n",
       "\\end{tabular}\n"
      ],
      "text/markdown": [
       "\n",
       "| id | name | department | salary |\n",
       "|---|---|---|---|\n",
       "| 1001                 | Amanda               | Software Testing     | 135000               |\n",
       "| 1002                 | Isaac                | Software Testing     |  28000               |\n",
       "| 1003                 | Philip               | Software Development |  90000               |\n",
       "| 1004                 | Peter                | Software Development | 140000               |\n",
       "| 1005                 | Tony                 | Opetrations          | 200000               |\n",
       "| 1006                 | Kevin                | Sales                |  35000               |\n",
       "| 1007                 | Lily                 | HR                   |  50000               |\n",
       "| 1010                 | Mark                 | Sales                |  50000               |\n",
       "| 1018                 | Donal                | Software Development | 135000               |\n",
       "| 1019                 | Robert               | Production           |  85000               |\n",
       "| 1020                 | Wanda                | HR                   |  45000               |\n",
       "\n"
      ],
      "text/plain": [
       "   id   name   department           salary\n",
       "1  1001 Amanda Software Testing     135000\n",
       "2  1002 Isaac  Software Testing      28000\n",
       "3  1003 Philip Software Development  90000\n",
       "4  1004 Peter  Software Development 140000\n",
       "5  1005 Tony   Opetrations          200000\n",
       "6  1006 Kevin  Sales                 35000\n",
       "7  1007 Lily   HR                    50000\n",
       "8  1010 Mark   Sales                 50000\n",
       "9  1018 Donal  Software Development 135000\n",
       "10 1019 Robert Production            85000\n",
       "11 1020 Wanda  HR                    45000"
      ]
     },
     "metadata": {},
     "output_type": "display_data"
    }
   ],
   "source": [
    "employee.df <- rbind(employee.df, employee.new)\n",
    "employee.df"
   ]
  },
  {
   "cell_type": "code",
   "execution_count": 360,
   "id": "8a11c4d8-5f1b-47c2-ad0f-a4188cf7f03b",
   "metadata": {},
   "outputs": [
    {
     "data": {
      "text/html": [
       "<ol class=list-inline>\n",
       "\t<li>'Contract'</li>\n",
       "\t<li>'Contract'</li>\n",
       "\t<li>'Contract'</li>\n",
       "\t<li>'Fulltime'</li>\n",
       "\t<li>'Fulltime'</li>\n",
       "\t<li>'Fulltime'</li>\n",
       "\t<li>'Contract'</li>\n",
       "\t<li>'Fulltime'</li>\n",
       "\t<li>'Fulltime'</li>\n",
       "\t<li>'Fulltime'</li>\n",
       "\t<li>'Contract'</li>\n",
       "</ol>\n"
      ],
      "text/latex": [
       "\\begin{enumerate*}\n",
       "\\item 'Contract'\n",
       "\\item 'Contract'\n",
       "\\item 'Contract'\n",
       "\\item 'Fulltime'\n",
       "\\item 'Fulltime'\n",
       "\\item 'Fulltime'\n",
       "\\item 'Contract'\n",
       "\\item 'Fulltime'\n",
       "\\item 'Fulltime'\n",
       "\\item 'Fulltime'\n",
       "\\item 'Contract'\n",
       "\\end{enumerate*}\n"
      ],
      "text/markdown": [
       "1. 'Contract'\n",
       "2. 'Contract'\n",
       "3. 'Contract'\n",
       "4. 'Fulltime'\n",
       "5. 'Fulltime'\n",
       "6. 'Fulltime'\n",
       "7. 'Contract'\n",
       "8. 'Fulltime'\n",
       "9. 'Fulltime'\n",
       "10. 'Fulltime'\n",
       "11. 'Contract'\n",
       "\n",
       "\n"
      ],
      "text/plain": [
       " [1] \"Contract\" \"Contract\" \"Contract\" \"Fulltime\" \"Fulltime\" \"Fulltime\"\n",
       " [7] \"Contract\" \"Fulltime\" \"Fulltime\" \"Fulltime\" \"Contract\""
      ]
     },
     "metadata": {},
     "output_type": "display_data"
    }
   ],
   "source": [
    "employee.type <- sample(c('Contract', 'Fulltime'), size = nrow(employee.df), replace = TRUE)\n",
    "employee.type"
   ]
  },
  {
   "cell_type": "code",
   "execution_count": 362,
   "id": "ad631bba-08f6-4adf-8f52-316031b5656f",
   "metadata": {},
   "outputs": [
    {
     "data": {
      "text/html": [
       "<table>\n",
       "<thead><tr><th scope=col>id</th><th scope=col>name</th><th scope=col>department</th><th scope=col>salary</th><th scope=col>type</th></tr></thead>\n",
       "<tbody>\n",
       "\t<tr><td>1001                </td><td>Amanda              </td><td>Software Testing    </td><td>135000              </td><td>Contract            </td></tr>\n",
       "\t<tr><td>1002                </td><td>Isaac               </td><td>Software Testing    </td><td> 28000              </td><td>Contract            </td></tr>\n",
       "\t<tr><td>1003                </td><td>Philip              </td><td>Software Development</td><td> 90000              </td><td>Contract            </td></tr>\n",
       "\t<tr><td>1004                </td><td>Peter               </td><td>Software Development</td><td>140000              </td><td>Fulltime            </td></tr>\n",
       "\t<tr><td>1005                </td><td>Tony                </td><td>Opetrations         </td><td>200000              </td><td>Fulltime            </td></tr>\n",
       "\t<tr><td>1006                </td><td>Kevin               </td><td>Sales               </td><td> 35000              </td><td>Fulltime            </td></tr>\n",
       "\t<tr><td>1007                </td><td>Lily                </td><td>HR                  </td><td> 50000              </td><td>Contract            </td></tr>\n",
       "\t<tr><td>1010                </td><td>Mark                </td><td>Sales               </td><td> 50000              </td><td>Fulltime            </td></tr>\n",
       "\t<tr><td>1018                </td><td>Donal               </td><td>Software Development</td><td>135000              </td><td>Fulltime            </td></tr>\n",
       "\t<tr><td>1019                </td><td>Robert              </td><td>Production          </td><td> 85000              </td><td>Fulltime            </td></tr>\n",
       "\t<tr><td>1020                </td><td>Wanda               </td><td>HR                  </td><td> 45000              </td><td>Contract            </td></tr>\n",
       "</tbody>\n",
       "</table>\n"
      ],
      "text/latex": [
       "\\begin{tabular}{r|lllll}\n",
       " id & name & department & salary & type\\\\\n",
       "\\hline\n",
       "\t 1001                 & Amanda               & Software Testing     & 135000               & Contract            \\\\\n",
       "\t 1002                 & Isaac                & Software Testing     &  28000               & Contract            \\\\\n",
       "\t 1003                 & Philip               & Software Development &  90000               & Contract            \\\\\n",
       "\t 1004                 & Peter                & Software Development & 140000               & Fulltime            \\\\\n",
       "\t 1005                 & Tony                 & Opetrations          & 200000               & Fulltime            \\\\\n",
       "\t 1006                 & Kevin                & Sales                &  35000               & Fulltime            \\\\\n",
       "\t 1007                 & Lily                 & HR                   &  50000               & Contract            \\\\\n",
       "\t 1010                 & Mark                 & Sales                &  50000               & Fulltime            \\\\\n",
       "\t 1018                 & Donal                & Software Development & 135000               & Fulltime            \\\\\n",
       "\t 1019                 & Robert               & Production           &  85000               & Fulltime            \\\\\n",
       "\t 1020                 & Wanda                & HR                   &  45000               & Contract            \\\\\n",
       "\\end{tabular}\n"
      ],
      "text/markdown": [
       "\n",
       "| id | name | department | salary | type |\n",
       "|---|---|---|---|---|\n",
       "| 1001                 | Amanda               | Software Testing     | 135000               | Contract             |\n",
       "| 1002                 | Isaac                | Software Testing     |  28000               | Contract             |\n",
       "| 1003                 | Philip               | Software Development |  90000               | Contract             |\n",
       "| 1004                 | Peter                | Software Development | 140000               | Fulltime             |\n",
       "| 1005                 | Tony                 | Opetrations          | 200000               | Fulltime             |\n",
       "| 1006                 | Kevin                | Sales                |  35000               | Fulltime             |\n",
       "| 1007                 | Lily                 | HR                   |  50000               | Contract             |\n",
       "| 1010                 | Mark                 | Sales                |  50000               | Fulltime             |\n",
       "| 1018                 | Donal                | Software Development | 135000               | Fulltime             |\n",
       "| 1019                 | Robert               | Production           |  85000               | Fulltime             |\n",
       "| 1020                 | Wanda                | HR                   |  45000               | Contract             |\n",
       "\n"
      ],
      "text/plain": [
       "   id   name   department           salary type    \n",
       "1  1001 Amanda Software Testing     135000 Contract\n",
       "2  1002 Isaac  Software Testing      28000 Contract\n",
       "3  1003 Philip Software Development  90000 Contract\n",
       "4  1004 Peter  Software Development 140000 Fulltime\n",
       "5  1005 Tony   Opetrations          200000 Fulltime\n",
       "6  1006 Kevin  Sales                 35000 Fulltime\n",
       "7  1007 Lily   HR                    50000 Contract\n",
       "8  1010 Mark   Sales                 50000 Fulltime\n",
       "9  1018 Donal  Software Development 135000 Fulltime\n",
       "10 1019 Robert Production            85000 Fulltime\n",
       "11 1020 Wanda  HR                    45000 Contract"
      ]
     },
     "metadata": {},
     "output_type": "display_data"
    }
   ],
   "source": [
    "employee.df <- cbind(employee.df, type=employee.type)\n",
    "employee.df"
   ]
  },
  {
   "cell_type": "code",
   "execution_count": 364,
   "id": "c7abf74f-732f-4d15-9bf0-2f586aeda96f",
   "metadata": {},
   "outputs": [
    {
     "data": {
      "text/html": [
       "<table>\n",
       "<thead><tr><th scope=col>id</th><th scope=col>name</th><th scope=col>department</th><th scope=col>salary</th><th scope=col>type</th><th scope=col>gender</th></tr></thead>\n",
       "<tbody>\n",
       "\t<tr><td>1001                </td><td>Amanda              </td><td>Software Testing    </td><td>135000              </td><td>Contract            </td><td>F                   </td></tr>\n",
       "\t<tr><td>1002                </td><td>Isaac               </td><td>Software Testing    </td><td> 28000              </td><td>Contract            </td><td>M                   </td></tr>\n",
       "\t<tr><td>1003                </td><td>Philip              </td><td>Software Development</td><td> 90000              </td><td>Contract            </td><td>M                   </td></tr>\n",
       "\t<tr><td>1004                </td><td>Peter               </td><td>Software Development</td><td>140000              </td><td>Fulltime            </td><td>M                   </td></tr>\n",
       "\t<tr><td>1005                </td><td>Tony                </td><td>Opetrations         </td><td>200000              </td><td>Fulltime            </td><td>M                   </td></tr>\n",
       "\t<tr><td>1006                </td><td>Kevin               </td><td>Sales               </td><td> 35000              </td><td>Fulltime            </td><td>M                   </td></tr>\n",
       "\t<tr><td>1007                </td><td>Lily                </td><td>HR                  </td><td> 50000              </td><td>Contract            </td><td>F                   </td></tr>\n",
       "\t<tr><td>1010                </td><td>Mark                </td><td>Sales               </td><td> 50000              </td><td>Fulltime            </td><td>M                   </td></tr>\n",
       "\t<tr><td>1018                </td><td>Donal               </td><td>Software Development</td><td>135000              </td><td>Fulltime            </td><td>F                   </td></tr>\n",
       "\t<tr><td>1019                </td><td>Robert              </td><td>Production          </td><td> 85000              </td><td>Fulltime            </td><td>M                   </td></tr>\n",
       "\t<tr><td>1020                </td><td>Wanda               </td><td>HR                  </td><td> 45000              </td><td>Contract            </td><td>F                   </td></tr>\n",
       "</tbody>\n",
       "</table>\n"
      ],
      "text/latex": [
       "\\begin{tabular}{r|llllll}\n",
       " id & name & department & salary & type & gender\\\\\n",
       "\\hline\n",
       "\t 1001                 & Amanda               & Software Testing     & 135000               & Contract             & F                   \\\\\n",
       "\t 1002                 & Isaac                & Software Testing     &  28000               & Contract             & M                   \\\\\n",
       "\t 1003                 & Philip               & Software Development &  90000               & Contract             & M                   \\\\\n",
       "\t 1004                 & Peter                & Software Development & 140000               & Fulltime             & M                   \\\\\n",
       "\t 1005                 & Tony                 & Opetrations          & 200000               & Fulltime             & M                   \\\\\n",
       "\t 1006                 & Kevin                & Sales                &  35000               & Fulltime             & M                   \\\\\n",
       "\t 1007                 & Lily                 & HR                   &  50000               & Contract             & F                   \\\\\n",
       "\t 1010                 & Mark                 & Sales                &  50000               & Fulltime             & M                   \\\\\n",
       "\t 1018                 & Donal                & Software Development & 135000               & Fulltime             & F                   \\\\\n",
       "\t 1019                 & Robert               & Production           &  85000               & Fulltime             & M                   \\\\\n",
       "\t 1020                 & Wanda                & HR                   &  45000               & Contract             & F                   \\\\\n",
       "\\end{tabular}\n"
      ],
      "text/markdown": [
       "\n",
       "| id | name | department | salary | type | gender |\n",
       "|---|---|---|---|---|---|\n",
       "| 1001                 | Amanda               | Software Testing     | 135000               | Contract             | F                    |\n",
       "| 1002                 | Isaac                | Software Testing     |  28000               | Contract             | M                    |\n",
       "| 1003                 | Philip               | Software Development |  90000               | Contract             | M                    |\n",
       "| 1004                 | Peter                | Software Development | 140000               | Fulltime             | M                    |\n",
       "| 1005                 | Tony                 | Opetrations          | 200000               | Fulltime             | M                    |\n",
       "| 1006                 | Kevin                | Sales                |  35000               | Fulltime             | M                    |\n",
       "| 1007                 | Lily                 | HR                   |  50000               | Contract             | F                    |\n",
       "| 1010                 | Mark                 | Sales                |  50000               | Fulltime             | M                    |\n",
       "| 1018                 | Donal                | Software Development | 135000               | Fulltime             | F                    |\n",
       "| 1019                 | Robert               | Production           |  85000               | Fulltime             | M                    |\n",
       "| 1020                 | Wanda                | HR                   |  45000               | Contract             | F                    |\n",
       "\n"
      ],
      "text/plain": [
       "   id   name   department           salary type     gender\n",
       "1  1001 Amanda Software Testing     135000 Contract F     \n",
       "2  1002 Isaac  Software Testing      28000 Contract M     \n",
       "3  1003 Philip Software Development  90000 Contract M     \n",
       "4  1004 Peter  Software Development 140000 Fulltime M     \n",
       "5  1005 Tony   Opetrations          200000 Fulltime M     \n",
       "6  1006 Kevin  Sales                 35000 Fulltime M     \n",
       "7  1007 Lily   HR                    50000 Contract F     \n",
       "8  1010 Mark   Sales                 50000 Fulltime M     \n",
       "9  1018 Donal  Software Development 135000 Fulltime F     \n",
       "10 1019 Robert Production            85000 Fulltime M     \n",
       "11 1020 Wanda  HR                    45000 Contract F     "
      ]
     },
     "metadata": {},
     "output_type": "display_data"
    }
   ],
   "source": [
    "employee.df$gender <- c('F', 'M', 'M', 'M', 'M', 'M', 'F', 'M', 'F', 'M', 'F')\n",
    "employee.df"
   ]
  },
  {
   "cell_type": "code",
   "execution_count": 368,
   "id": "7ff6253b-79e7-4432-b651-5c51cd3a4903",
   "metadata": {},
   "outputs": [
    {
     "data": {
      "text/html": [
       "<table>\n",
       "<thead><tr><th scope=col>id</th><th scope=col>name</th><th scope=col>department</th><th scope=col>salary</th><th scope=col>type</th><th scope=col>gender</th><th scope=col>indcrement</th></tr></thead>\n",
       "<tbody>\n",
       "\t<tr><td>1001                </td><td>Amanda              </td><td>Software Testing    </td><td>135000              </td><td>Contract            </td><td>F                   </td><td>   0                </td></tr>\n",
       "\t<tr><td>1002                </td><td>Isaac               </td><td>Software Testing    </td><td> 28000              </td><td>Contract            </td><td>M                   </td><td>2800                </td></tr>\n",
       "\t<tr><td>1003                </td><td>Philip              </td><td>Software Development</td><td> 90000              </td><td>Contract            </td><td>M                   </td><td>   0                </td></tr>\n",
       "\t<tr><td>1004                </td><td>Peter               </td><td>Software Development</td><td>140000              </td><td>Fulltime            </td><td>M                   </td><td>   0                </td></tr>\n",
       "\t<tr><td>1005                </td><td>Tony                </td><td>Opetrations         </td><td>200000              </td><td>Fulltime            </td><td>M                   </td><td>   0                </td></tr>\n",
       "\t<tr><td>1006                </td><td>Kevin               </td><td>Sales               </td><td> 35000              </td><td>Fulltime            </td><td>M                   </td><td>3500                </td></tr>\n",
       "\t<tr><td>1007                </td><td>Lily                </td><td>HR                  </td><td> 50000              </td><td>Contract            </td><td>F                   </td><td>   0                </td></tr>\n",
       "\t<tr><td>1010                </td><td>Mark                </td><td>Sales               </td><td> 50000              </td><td>Fulltime            </td><td>M                   </td><td>   0                </td></tr>\n",
       "\t<tr><td>1018                </td><td>Donal               </td><td>Software Development</td><td>135000              </td><td>Fulltime            </td><td>F                   </td><td>   0                </td></tr>\n",
       "\t<tr><td>1019                </td><td>Robert              </td><td>Production          </td><td> 85000              </td><td>Fulltime            </td><td>M                   </td><td>   0                </td></tr>\n",
       "\t<tr><td>1020                </td><td>Wanda               </td><td>HR                  </td><td> 45000              </td><td>Contract            </td><td>F                   </td><td>4500                </td></tr>\n",
       "</tbody>\n",
       "</table>\n"
      ],
      "text/latex": [
       "\\begin{tabular}{r|lllllll}\n",
       " id & name & department & salary & type & gender & indcrement\\\\\n",
       "\\hline\n",
       "\t 1001                 & Amanda               & Software Testing     & 135000               & Contract             & F                    &    0                \\\\\n",
       "\t 1002                 & Isaac                & Software Testing     &  28000               & Contract             & M                    & 2800                \\\\\n",
       "\t 1003                 & Philip               & Software Development &  90000               & Contract             & M                    &    0                \\\\\n",
       "\t 1004                 & Peter                & Software Development & 140000               & Fulltime             & M                    &    0                \\\\\n",
       "\t 1005                 & Tony                 & Opetrations          & 200000               & Fulltime             & M                    &    0                \\\\\n",
       "\t 1006                 & Kevin                & Sales                &  35000               & Fulltime             & M                    & 3500                \\\\\n",
       "\t 1007                 & Lily                 & HR                   &  50000               & Contract             & F                    &    0                \\\\\n",
       "\t 1010                 & Mark                 & Sales                &  50000               & Fulltime             & M                    &    0                \\\\\n",
       "\t 1018                 & Donal                & Software Development & 135000               & Fulltime             & F                    &    0                \\\\\n",
       "\t 1019                 & Robert               & Production           &  85000               & Fulltime             & M                    &    0                \\\\\n",
       "\t 1020                 & Wanda                & HR                   &  45000               & Contract             & F                    & 4500                \\\\\n",
       "\\end{tabular}\n"
      ],
      "text/markdown": [
       "\n",
       "| id | name | department | salary | type | gender | indcrement |\n",
       "|---|---|---|---|---|---|---|\n",
       "| 1001                 | Amanda               | Software Testing     | 135000               | Contract             | F                    |    0                 |\n",
       "| 1002                 | Isaac                | Software Testing     |  28000               | Contract             | M                    | 2800                 |\n",
       "| 1003                 | Philip               | Software Development |  90000               | Contract             | M                    |    0                 |\n",
       "| 1004                 | Peter                | Software Development | 140000               | Fulltime             | M                    |    0                 |\n",
       "| 1005                 | Tony                 | Opetrations          | 200000               | Fulltime             | M                    |    0                 |\n",
       "| 1006                 | Kevin                | Sales                |  35000               | Fulltime             | M                    | 3500                 |\n",
       "| 1007                 | Lily                 | HR                   |  50000               | Contract             | F                    |    0                 |\n",
       "| 1010                 | Mark                 | Sales                |  50000               | Fulltime             | M                    |    0                 |\n",
       "| 1018                 | Donal                | Software Development | 135000               | Fulltime             | F                    |    0                 |\n",
       "| 1019                 | Robert               | Production           |  85000               | Fulltime             | M                    |    0                 |\n",
       "| 1020                 | Wanda                | HR                   |  45000               | Contract             | F                    | 4500                 |\n",
       "\n"
      ],
      "text/plain": [
       "   id   name   department           salary type     gender indcrement\n",
       "1  1001 Amanda Software Testing     135000 Contract F         0      \n",
       "2  1002 Isaac  Software Testing      28000 Contract M      2800      \n",
       "3  1003 Philip Software Development  90000 Contract M         0      \n",
       "4  1004 Peter  Software Development 140000 Fulltime M         0      \n",
       "5  1005 Tony   Opetrations          200000 Fulltime M         0      \n",
       "6  1006 Kevin  Sales                 35000 Fulltime M      3500      \n",
       "7  1007 Lily   HR                    50000 Contract F         0      \n",
       "8  1010 Mark   Sales                 50000 Fulltime M         0      \n",
       "9  1018 Donal  Software Development 135000 Fulltime F         0      \n",
       "10 1019 Robert Production            85000 Fulltime M         0      \n",
       "11 1020 Wanda  HR                    45000 Contract F      4500      "
      ]
     },
     "metadata": {},
     "output_type": "display_data"
    }
   ],
   "source": [
    "employee.df$indcrement <- ifelse(employee.df$salary < 50000,\n",
    "                                0.1 * employee.df$salary,\n",
    "                                0)\n",
    "employee.df"
   ]
  },
  {
   "cell_type": "code",
   "execution_count": 370,
   "id": "6923d8b6-c320-427b-9a6d-ffea43c7134f",
   "metadata": {},
   "outputs": [
    {
     "data": {
      "text/html": [
       "<table>\n",
       "<thead><tr><th scope=col>id</th><th scope=col>name</th><th scope=col>department</th><th scope=col>salary</th><th scope=col>type</th><th scope=col>gender</th><th scope=col>indcrement</th><th scope=col>NewSalary</th></tr></thead>\n",
       "<tbody>\n",
       "\t<tr><td>1001                </td><td>Amanda              </td><td>Software Testing    </td><td>135000              </td><td>Contract            </td><td>F                   </td><td>   0                </td><td>135000              </td></tr>\n",
       "\t<tr><td>1002                </td><td>Isaac               </td><td>Software Testing    </td><td> 28000              </td><td>Contract            </td><td>M                   </td><td>2800                </td><td> 30800              </td></tr>\n",
       "\t<tr><td>1003                </td><td>Philip              </td><td>Software Development</td><td> 90000              </td><td>Contract            </td><td>M                   </td><td>   0                </td><td> 90000              </td></tr>\n",
       "\t<tr><td>1004                </td><td>Peter               </td><td>Software Development</td><td>140000              </td><td>Fulltime            </td><td>M                   </td><td>   0                </td><td>140000              </td></tr>\n",
       "\t<tr><td>1005                </td><td>Tony                </td><td>Opetrations         </td><td>200000              </td><td>Fulltime            </td><td>M                   </td><td>   0                </td><td>200000              </td></tr>\n",
       "\t<tr><td>1006                </td><td>Kevin               </td><td>Sales               </td><td> 35000              </td><td>Fulltime            </td><td>M                   </td><td>3500                </td><td> 38500              </td></tr>\n",
       "\t<tr><td>1007                </td><td>Lily                </td><td>HR                  </td><td> 50000              </td><td>Contract            </td><td>F                   </td><td>   0                </td><td> 50000              </td></tr>\n",
       "\t<tr><td>1010                </td><td>Mark                </td><td>Sales               </td><td> 50000              </td><td>Fulltime            </td><td>M                   </td><td>   0                </td><td> 50000              </td></tr>\n",
       "\t<tr><td>1018                </td><td>Donal               </td><td>Software Development</td><td>135000              </td><td>Fulltime            </td><td>F                   </td><td>   0                </td><td>135000              </td></tr>\n",
       "\t<tr><td>1019                </td><td>Robert              </td><td>Production          </td><td> 85000              </td><td>Fulltime            </td><td>M                   </td><td>   0                </td><td> 85000              </td></tr>\n",
       "\t<tr><td>1020                </td><td>Wanda               </td><td>HR                  </td><td> 45000              </td><td>Contract            </td><td>F                   </td><td>4500                </td><td> 49500              </td></tr>\n",
       "</tbody>\n",
       "</table>\n"
      ],
      "text/latex": [
       "\\begin{tabular}{r|llllllll}\n",
       " id & name & department & salary & type & gender & indcrement & NewSalary\\\\\n",
       "\\hline\n",
       "\t 1001                 & Amanda               & Software Testing     & 135000               & Contract             & F                    &    0                 & 135000              \\\\\n",
       "\t 1002                 & Isaac                & Software Testing     &  28000               & Contract             & M                    & 2800                 &  30800              \\\\\n",
       "\t 1003                 & Philip               & Software Development &  90000               & Contract             & M                    &    0                 &  90000              \\\\\n",
       "\t 1004                 & Peter                & Software Development & 140000               & Fulltime             & M                    &    0                 & 140000              \\\\\n",
       "\t 1005                 & Tony                 & Opetrations          & 200000               & Fulltime             & M                    &    0                 & 200000              \\\\\n",
       "\t 1006                 & Kevin                & Sales                &  35000               & Fulltime             & M                    & 3500                 &  38500              \\\\\n",
       "\t 1007                 & Lily                 & HR                   &  50000               & Contract             & F                    &    0                 &  50000              \\\\\n",
       "\t 1010                 & Mark                 & Sales                &  50000               & Fulltime             & M                    &    0                 &  50000              \\\\\n",
       "\t 1018                 & Donal                & Software Development & 135000               & Fulltime             & F                    &    0                 & 135000              \\\\\n",
       "\t 1019                 & Robert               & Production           &  85000               & Fulltime             & M                    &    0                 &  85000              \\\\\n",
       "\t 1020                 & Wanda                & HR                   &  45000               & Contract             & F                    & 4500                 &  49500              \\\\\n",
       "\\end{tabular}\n"
      ],
      "text/markdown": [
       "\n",
       "| id | name | department | salary | type | gender | indcrement | NewSalary |\n",
       "|---|---|---|---|---|---|---|---|\n",
       "| 1001                 | Amanda               | Software Testing     | 135000               | Contract             | F                    |    0                 | 135000               |\n",
       "| 1002                 | Isaac                | Software Testing     |  28000               | Contract             | M                    | 2800                 |  30800               |\n",
       "| 1003                 | Philip               | Software Development |  90000               | Contract             | M                    |    0                 |  90000               |\n",
       "| 1004                 | Peter                | Software Development | 140000               | Fulltime             | M                    |    0                 | 140000               |\n",
       "| 1005                 | Tony                 | Opetrations          | 200000               | Fulltime             | M                    |    0                 | 200000               |\n",
       "| 1006                 | Kevin                | Sales                |  35000               | Fulltime             | M                    | 3500                 |  38500               |\n",
       "| 1007                 | Lily                 | HR                   |  50000               | Contract             | F                    |    0                 |  50000               |\n",
       "| 1010                 | Mark                 | Sales                |  50000               | Fulltime             | M                    |    0                 |  50000               |\n",
       "| 1018                 | Donal                | Software Development | 135000               | Fulltime             | F                    |    0                 | 135000               |\n",
       "| 1019                 | Robert               | Production           |  85000               | Fulltime             | M                    |    0                 |  85000               |\n",
       "| 1020                 | Wanda                | HR                   |  45000               | Contract             | F                    | 4500                 |  49500               |\n",
       "\n"
      ],
      "text/plain": [
       "   id   name   department           salary type     gender indcrement NewSalary\n",
       "1  1001 Amanda Software Testing     135000 Contract F         0       135000   \n",
       "2  1002 Isaac  Software Testing      28000 Contract M      2800        30800   \n",
       "3  1003 Philip Software Development  90000 Contract M         0        90000   \n",
       "4  1004 Peter  Software Development 140000 Fulltime M         0       140000   \n",
       "5  1005 Tony   Opetrations          200000 Fulltime M         0       200000   \n",
       "6  1006 Kevin  Sales                 35000 Fulltime M      3500        38500   \n",
       "7  1007 Lily   HR                    50000 Contract F         0        50000   \n",
       "8  1010 Mark   Sales                 50000 Fulltime M         0        50000   \n",
       "9  1018 Donal  Software Development 135000 Fulltime F         0       135000   \n",
       "10 1019 Robert Production            85000 Fulltime M         0        85000   \n",
       "11 1020 Wanda  HR                    45000 Contract F      4500        49500   "
      ]
     },
     "metadata": {},
     "output_type": "display_data"
    }
   ],
   "source": [
    "employee.df$NewSalary <- employee.df$salary + employee.df$indcrement\n",
    "employee.df"
   ]
  },
  {
   "cell_type": "code",
   "execution_count": 1,
   "id": "bde67edf-bdfc-4f72-85df-ff0b0a4ad43f",
   "metadata": {},
   "outputs": [],
   "source": [
    "df1 <- data.frame(\n",
    "  ID = c(1, 2, 3, 4),\n",
    "  Name = c(\"Alice\", \"Bob\", \"Charlie\", \"David\"),\n",
    "  Age = c(25, 30, 35, 40)\n",
    ")\n",
    "\n",
    "df2 <- data.frame(\n",
    "  ID = c(3, 4, 5, 6),\n",
    "  City = c(\"New York\", \"Los Angeles\", \"Chicago\", \"Houston\"),\n",
    "  Salary = c(70000, 80000, 90000, 100000)\n",
    ")\n"
   ]
  },
  {
   "cell_type": "code",
   "execution_count": 3,
   "id": "e6adf56c-44b2-42ac-9769-11859ef3510f",
   "metadata": {},
   "outputs": [
    {
     "data": {
      "text/html": [
       "<table>\n",
       "<thead><tr><th scope=col>ID</th><th scope=col>Name</th><th scope=col>Age</th></tr></thead>\n",
       "<tbody>\n",
       "\t<tr><td>1      </td><td>Alice  </td><td>25     </td></tr>\n",
       "\t<tr><td>2      </td><td>Bob    </td><td>30     </td></tr>\n",
       "\t<tr><td>3      </td><td>Charlie</td><td>35     </td></tr>\n",
       "\t<tr><td>4      </td><td>David  </td><td>40     </td></tr>\n",
       "</tbody>\n",
       "</table>\n"
      ],
      "text/latex": [
       "\\begin{tabular}{r|lll}\n",
       " ID & Name & Age\\\\\n",
       "\\hline\n",
       "\t 1       & Alice   & 25     \\\\\n",
       "\t 2       & Bob     & 30     \\\\\n",
       "\t 3       & Charlie & 35     \\\\\n",
       "\t 4       & David   & 40     \\\\\n",
       "\\end{tabular}\n"
      ],
      "text/markdown": [
       "\n",
       "| ID | Name | Age |\n",
       "|---|---|---|\n",
       "| 1       | Alice   | 25      |\n",
       "| 2       | Bob     | 30      |\n",
       "| 3       | Charlie | 35      |\n",
       "| 4       | David   | 40      |\n",
       "\n"
      ],
      "text/plain": [
       "  ID Name    Age\n",
       "1 1  Alice   25 \n",
       "2 2  Bob     30 \n",
       "3 3  Charlie 35 \n",
       "4 4  David   40 "
      ]
     },
     "metadata": {},
     "output_type": "display_data"
    }
   ],
   "source": [
    "df1"
   ]
  },
  {
   "cell_type": "code",
   "execution_count": 5,
   "id": "57bc2714-6564-4dc6-a528-5ce0851c0a21",
   "metadata": {},
   "outputs": [
    {
     "data": {
      "text/html": [
       "<table>\n",
       "<thead><tr><th scope=col>ID</th><th scope=col>City</th><th scope=col>Salary</th></tr></thead>\n",
       "<tbody>\n",
       "\t<tr><td>3          </td><td>New York   </td><td>7e+04      </td></tr>\n",
       "\t<tr><td>4          </td><td>Los Angeles</td><td>8e+04      </td></tr>\n",
       "\t<tr><td>5          </td><td>Chicago    </td><td>9e+04      </td></tr>\n",
       "\t<tr><td>6          </td><td>Houston    </td><td>1e+05      </td></tr>\n",
       "</tbody>\n",
       "</table>\n"
      ],
      "text/latex": [
       "\\begin{tabular}{r|lll}\n",
       " ID & City & Salary\\\\\n",
       "\\hline\n",
       "\t 3           & New York    & 7e+04      \\\\\n",
       "\t 4           & Los Angeles & 8e+04      \\\\\n",
       "\t 5           & Chicago     & 9e+04      \\\\\n",
       "\t 6           & Houston     & 1e+05      \\\\\n",
       "\\end{tabular}\n"
      ],
      "text/markdown": [
       "\n",
       "| ID | City | Salary |\n",
       "|---|---|---|\n",
       "| 3           | New York    | 7e+04       |\n",
       "| 4           | Los Angeles | 8e+04       |\n",
       "| 5           | Chicago     | 9e+04       |\n",
       "| 6           | Houston     | 1e+05       |\n",
       "\n"
      ],
      "text/plain": [
       "  ID City        Salary\n",
       "1 3  New York    7e+04 \n",
       "2 4  Los Angeles 8e+04 \n",
       "3 5  Chicago     9e+04 \n",
       "4 6  Houston     1e+05 "
      ]
     },
     "metadata": {},
     "output_type": "display_data"
    }
   ],
   "source": [
    "df2"
   ]
  },
  {
   "cell_type": "code",
   "execution_count": 7,
   "id": "04278607-37ab-4661-a604-c03363f6c164",
   "metadata": {},
   "outputs": [
    {
     "data": {
      "text/html": [
       "<table>\n",
       "<thead><tr><th scope=col>ID</th><th scope=col>Name</th><th scope=col>Age</th><th scope=col>City</th><th scope=col>Salary</th></tr></thead>\n",
       "<tbody>\n",
       "\t<tr><td>3          </td><td>Charlie    </td><td>35         </td><td>New York   </td><td>70000      </td></tr>\n",
       "\t<tr><td>4          </td><td>David      </td><td>40         </td><td>Los Angeles</td><td>80000      </td></tr>\n",
       "</tbody>\n",
       "</table>\n"
      ],
      "text/latex": [
       "\\begin{tabular}{r|lllll}\n",
       " ID & Name & Age & City & Salary\\\\\n",
       "\\hline\n",
       "\t 3           & Charlie     & 35          & New York    & 70000      \\\\\n",
       "\t 4           & David       & 40          & Los Angeles & 80000      \\\\\n",
       "\\end{tabular}\n"
      ],
      "text/markdown": [
       "\n",
       "| ID | Name | Age | City | Salary |\n",
       "|---|---|---|---|---|\n",
       "| 3           | Charlie     | 35          | New York    | 70000       |\n",
       "| 4           | David       | 40          | Los Angeles | 80000       |\n",
       "\n"
      ],
      "text/plain": [
       "  ID Name    Age City        Salary\n",
       "1 3  Charlie 35  New York    70000 \n",
       "2 4  David   40  Los Angeles 80000 "
      ]
     },
     "metadata": {},
     "output_type": "display_data"
    }
   ],
   "source": [
    "merge(df1, df2)"
   ]
  },
  {
   "cell_type": "code",
   "execution_count": 9,
   "id": "407058c5-3643-42d5-a8f4-a8e2b7695fe9",
   "metadata": {},
   "outputs": [
    {
     "data": {
      "text/html": [
       "<table>\n",
       "<thead><tr><th scope=col>ID</th><th scope=col>Name</th><th scope=col>Age</th><th scope=col>IDs</th><th scope=col>Cities</th><th scope=col>Salary</th></tr></thead>\n",
       "<tbody>\n",
       "\t<tr><td>1          </td><td>Alice      </td><td>25         </td><td>3          </td><td>New York   </td><td>7e+04      </td></tr>\n",
       "\t<tr><td>2          </td><td>Bob        </td><td>30         </td><td>3          </td><td>New York   </td><td>7e+04      </td></tr>\n",
       "\t<tr><td>3          </td><td>Charlie    </td><td>35         </td><td>3          </td><td>New York   </td><td>7e+04      </td></tr>\n",
       "\t<tr><td>4          </td><td>David      </td><td>40         </td><td>3          </td><td>New York   </td><td>7e+04      </td></tr>\n",
       "\t<tr><td>1          </td><td>Alice      </td><td>25         </td><td>4          </td><td>Los Angeles</td><td>8e+04      </td></tr>\n",
       "\t<tr><td>2          </td><td>Bob        </td><td>30         </td><td>4          </td><td>Los Angeles</td><td>8e+04      </td></tr>\n",
       "\t<tr><td>3          </td><td>Charlie    </td><td>35         </td><td>4          </td><td>Los Angeles</td><td>8e+04      </td></tr>\n",
       "\t<tr><td>4          </td><td>David      </td><td>40         </td><td>4          </td><td>Los Angeles</td><td>8e+04      </td></tr>\n",
       "\t<tr><td>1          </td><td>Alice      </td><td>25         </td><td>5          </td><td>Chicago    </td><td>9e+04      </td></tr>\n",
       "\t<tr><td>2          </td><td>Bob        </td><td>30         </td><td>5          </td><td>Chicago    </td><td>9e+04      </td></tr>\n",
       "\t<tr><td>3          </td><td>Charlie    </td><td>35         </td><td>5          </td><td>Chicago    </td><td>9e+04      </td></tr>\n",
       "\t<tr><td>4          </td><td>David      </td><td>40         </td><td>5          </td><td>Chicago    </td><td>9e+04      </td></tr>\n",
       "\t<tr><td>1          </td><td>Alice      </td><td>25         </td><td>6          </td><td>Houston    </td><td>1e+05      </td></tr>\n",
       "\t<tr><td>2          </td><td>Bob        </td><td>30         </td><td>6          </td><td>Houston    </td><td>1e+05      </td></tr>\n",
       "\t<tr><td>3          </td><td>Charlie    </td><td>35         </td><td>6          </td><td>Houston    </td><td>1e+05      </td></tr>\n",
       "\t<tr><td>4          </td><td>David      </td><td>40         </td><td>6          </td><td>Houston    </td><td>1e+05      </td></tr>\n",
       "</tbody>\n",
       "</table>\n"
      ],
      "text/latex": [
       "\\begin{tabular}{r|llllll}\n",
       " ID & Name & Age & IDs & Cities & Salary\\\\\n",
       "\\hline\n",
       "\t 1           & Alice       & 25          & 3           & New York    & 7e+04      \\\\\n",
       "\t 2           & Bob         & 30          & 3           & New York    & 7e+04      \\\\\n",
       "\t 3           & Charlie     & 35          & 3           & New York    & 7e+04      \\\\\n",
       "\t 4           & David       & 40          & 3           & New York    & 7e+04      \\\\\n",
       "\t 1           & Alice       & 25          & 4           & Los Angeles & 8e+04      \\\\\n",
       "\t 2           & Bob         & 30          & 4           & Los Angeles & 8e+04      \\\\\n",
       "\t 3           & Charlie     & 35          & 4           & Los Angeles & 8e+04      \\\\\n",
       "\t 4           & David       & 40          & 4           & Los Angeles & 8e+04      \\\\\n",
       "\t 1           & Alice       & 25          & 5           & Chicago     & 9e+04      \\\\\n",
       "\t 2           & Bob         & 30          & 5           & Chicago     & 9e+04      \\\\\n",
       "\t 3           & Charlie     & 35          & 5           & Chicago     & 9e+04      \\\\\n",
       "\t 4           & David       & 40          & 5           & Chicago     & 9e+04      \\\\\n",
       "\t 1           & Alice       & 25          & 6           & Houston     & 1e+05      \\\\\n",
       "\t 2           & Bob         & 30          & 6           & Houston     & 1e+05      \\\\\n",
       "\t 3           & Charlie     & 35          & 6           & Houston     & 1e+05      \\\\\n",
       "\t 4           & David       & 40          & 6           & Houston     & 1e+05      \\\\\n",
       "\\end{tabular}\n"
      ],
      "text/markdown": [
       "\n",
       "| ID | Name | Age | IDs | Cities | Salary |\n",
       "|---|---|---|---|---|---|\n",
       "| 1           | Alice       | 25          | 3           | New York    | 7e+04       |\n",
       "| 2           | Bob         | 30          | 3           | New York    | 7e+04       |\n",
       "| 3           | Charlie     | 35          | 3           | New York    | 7e+04       |\n",
       "| 4           | David       | 40          | 3           | New York    | 7e+04       |\n",
       "| 1           | Alice       | 25          | 4           | Los Angeles | 8e+04       |\n",
       "| 2           | Bob         | 30          | 4           | Los Angeles | 8e+04       |\n",
       "| 3           | Charlie     | 35          | 4           | Los Angeles | 8e+04       |\n",
       "| 4           | David       | 40          | 4           | Los Angeles | 8e+04       |\n",
       "| 1           | Alice       | 25          | 5           | Chicago     | 9e+04       |\n",
       "| 2           | Bob         | 30          | 5           | Chicago     | 9e+04       |\n",
       "| 3           | Charlie     | 35          | 5           | Chicago     | 9e+04       |\n",
       "| 4           | David       | 40          | 5           | Chicago     | 9e+04       |\n",
       "| 1           | Alice       | 25          | 6           | Houston     | 1e+05       |\n",
       "| 2           | Bob         | 30          | 6           | Houston     | 1e+05       |\n",
       "| 3           | Charlie     | 35          | 6           | Houston     | 1e+05       |\n",
       "| 4           | David       | 40          | 6           | Houston     | 1e+05       |\n",
       "\n"
      ],
      "text/plain": [
       "   ID Name    Age IDs Cities      Salary\n",
       "1  1  Alice   25  3   New York    7e+04 \n",
       "2  2  Bob     30  3   New York    7e+04 \n",
       "3  3  Charlie 35  3   New York    7e+04 \n",
       "4  4  David   40  3   New York    7e+04 \n",
       "5  1  Alice   25  4   Los Angeles 8e+04 \n",
       "6  2  Bob     30  4   Los Angeles 8e+04 \n",
       "7  3  Charlie 35  4   Los Angeles 8e+04 \n",
       "8  4  David   40  4   Los Angeles 8e+04 \n",
       "9  1  Alice   25  5   Chicago     9e+04 \n",
       "10 2  Bob     30  5   Chicago     9e+04 \n",
       "11 3  Charlie 35  5   Chicago     9e+04 \n",
       "12 4  David   40  5   Chicago     9e+04 \n",
       "13 1  Alice   25  6   Houston     1e+05 \n",
       "14 2  Bob     30  6   Houston     1e+05 \n",
       "15 3  Charlie 35  6   Houston     1e+05 \n",
       "16 4  David   40  6   Houston     1e+05 "
      ]
     },
     "metadata": {},
     "output_type": "display_data"
    }
   ],
   "source": [
    "df1 <- data.frame(\n",
    "  ID = c(1, 2, 3, 4),\n",
    "  Name = c(\"Alice\", \"Bob\", \"Charlie\", \"David\"),\n",
    "  Age = c(25, 30, 35, 40)\n",
    ")\n",
    "\n",
    "df2 <- data.frame(\n",
    "  IDs = c(3, 4, 5, 6),\n",
    "  Cities = c(\"New York\", \"Los Angeles\", \"Chicago\", \"Houston\"),\n",
    "  Salary = c(70000, 80000, 90000, 100000)\n",
    ")\n",
    "merge(df1, df2)"
   ]
  },
  {
   "cell_type": "code",
   "execution_count": 11,
   "id": "5fae6595-de16-4800-81f9-a3edfe0a1d36",
   "metadata": {},
   "outputs": [
    {
     "data": {
      "text/html": [
       "<table>\n",
       "<thead><tr><th scope=col>ID</th><th scope=col>Name</th><th scope=col>Age</th><th scope=col>Cities</th><th scope=col>Salary</th></tr></thead>\n",
       "<tbody>\n",
       "\t<tr><td>3          </td><td>Charlie    </td><td>35         </td><td>New York   </td><td>70000      </td></tr>\n",
       "\t<tr><td>4          </td><td>David      </td><td>40         </td><td>Los Angeles</td><td>80000      </td></tr>\n",
       "</tbody>\n",
       "</table>\n"
      ],
      "text/latex": [
       "\\begin{tabular}{r|lllll}\n",
       " ID & Name & Age & Cities & Salary\\\\\n",
       "\\hline\n",
       "\t 3           & Charlie     & 35          & New York    & 70000      \\\\\n",
       "\t 4           & David       & 40          & Los Angeles & 80000      \\\\\n",
       "\\end{tabular}\n"
      ],
      "text/markdown": [
       "\n",
       "| ID | Name | Age | Cities | Salary |\n",
       "|---|---|---|---|---|\n",
       "| 3           | Charlie     | 35          | New York    | 70000       |\n",
       "| 4           | David       | 40          | Los Angeles | 80000       |\n",
       "\n"
      ],
      "text/plain": [
       "  ID Name    Age Cities      Salary\n",
       "1 3  Charlie 35  New York    70000 \n",
       "2 4  David   40  Los Angeles 80000 "
      ]
     },
     "metadata": {},
     "output_type": "display_data"
    }
   ],
   "source": [
    "merge(df1, df2, by.x='ID', by.y='IDs')"
   ]
  },
  {
   "cell_type": "code",
   "execution_count": 14,
   "id": "70513bb8-8790-440b-b34e-197ad2d4ee9d",
   "metadata": {},
   "outputs": [
    {
     "data": {
      "text/html": [
       "<ol class=list-inline>\n",
       "\t<li>'Male'</li>\n",
       "\t<li>'Female'</li>\n",
       "\t<li>'Male'</li>\n",
       "\t<li>'Female'</li>\n",
       "\t<li>'Male'</li>\n",
       "\t<li>'Female'</li>\n",
       "</ol>\n"
      ],
      "text/latex": [
       "\\begin{enumerate*}\n",
       "\\item 'Male'\n",
       "\\item 'Female'\n",
       "\\item 'Male'\n",
       "\\item 'Female'\n",
       "\\item 'Male'\n",
       "\\item 'Female'\n",
       "\\end{enumerate*}\n"
      ],
      "text/markdown": [
       "1. 'Male'\n",
       "2. 'Female'\n",
       "3. 'Male'\n",
       "4. 'Female'\n",
       "5. 'Male'\n",
       "6. 'Female'\n",
       "\n",
       "\n"
      ],
      "text/plain": [
       "[1] \"Male\"   \"Female\" \"Male\"   \"Female\" \"Male\"   \"Female\""
      ]
     },
     "metadata": {},
     "output_type": "display_data"
    }
   ],
   "source": [
    "gender <- c('Male', 'Female','Male', 'Female','Male', 'Female')\n",
    "gender"
   ]
  },
  {
   "cell_type": "code",
   "execution_count": 16,
   "id": "dee599fe-db07-4462-8984-6145bf89a77d",
   "metadata": {},
   "outputs": [
    {
     "data": {
      "text/html": [
       "'character'"
      ],
      "text/latex": [
       "'character'"
      ],
      "text/markdown": [
       "'character'"
      ],
      "text/plain": [
       "[1] \"character\""
      ]
     },
     "metadata": {},
     "output_type": "display_data"
    }
   ],
   "source": [
    "class(gender)"
   ]
  },
  {
   "cell_type": "code",
   "execution_count": 18,
   "id": "13befed2-f708-41f4-96d5-177a804aedf1",
   "metadata": {},
   "outputs": [
    {
     "data": {
      "text/html": [
       "<ol class=list-inline>\n",
       "\t<li>Male</li>\n",
       "\t<li>Female</li>\n",
       "\t<li>Male</li>\n",
       "\t<li>Female</li>\n",
       "\t<li>Male</li>\n",
       "\t<li>Female</li>\n",
       "</ol>\n",
       "\n",
       "<details>\n",
       "\t<summary style=display:list-item;cursor:pointer>\n",
       "\t\t<strong>Levels</strong>:\n",
       "\t</summary>\n",
       "\t<ol class=list-inline>\n",
       "\t\t<li>'Female'</li>\n",
       "\t\t<li>'Male'</li>\n",
       "\t</ol>\n",
       "</details>"
      ],
      "text/latex": [
       "\\begin{enumerate*}\n",
       "\\item Male\n",
       "\\item Female\n",
       "\\item Male\n",
       "\\item Female\n",
       "\\item Male\n",
       "\\item Female\n",
       "\\end{enumerate*}\n",
       "\n",
       "\\emph{Levels}: \\begin{enumerate*}\n",
       "\\item 'Female'\n",
       "\\item 'Male'\n",
       "\\end{enumerate*}\n"
      ],
      "text/markdown": [
       "1. Male\n",
       "2. Female\n",
       "3. Male\n",
       "4. Female\n",
       "5. Male\n",
       "6. Female\n",
       "\n",
       "\n",
       "\n",
       "**Levels**: 1. 'Female'\n",
       "2. 'Male'\n",
       "\n",
       "\n"
      ],
      "text/plain": [
       "[1] Male   Female Male   Female Male   Female\n",
       "Levels: Female Male"
      ]
     },
     "metadata": {},
     "output_type": "display_data"
    }
   ],
   "source": [
    "gender.factor <- factor(gender)\n",
    "gender.factor"
   ]
  },
  {
   "cell_type": "code",
   "execution_count": 20,
   "id": "4d1070d2-5dc1-4998-8b02-4dd260a8d1d9",
   "metadata": {},
   "outputs": [
    {
     "data": {
      "text/html": [
       "'factor'"
      ],
      "text/latex": [
       "'factor'"
      ],
      "text/markdown": [
       "'factor'"
      ],
      "text/plain": [
       "[1] \"factor\""
      ]
     },
     "metadata": {},
     "output_type": "display_data"
    }
   ],
   "source": [
    "class(gender.factor)"
   ]
  },
  {
   "cell_type": "code",
   "execution_count": 22,
   "id": "66907821-4a2d-4c98-9ecf-4e5b069b3dd4",
   "metadata": {},
   "outputs": [
    {
     "name": "stdout",
     "output_type": "stream",
     "text": [
      " Factor w/ 2 levels \"Female\",\"Male\": 2 1 2 1 2 1\n"
     ]
    }
   ],
   "source": [
    "str(gender.factor)"
   ]
  },
  {
   "cell_type": "code",
   "execution_count": 24,
   "id": "27edcfd9-f1c4-4fb5-a77c-6a53e3dd7b26",
   "metadata": {},
   "outputs": [
    {
     "data": {
      "text/html": [
       "<ol class=list-inline>\n",
       "\t<li>2</li>\n",
       "\t<li>1</li>\n",
       "\t<li>2</li>\n",
       "\t<li>1</li>\n",
       "\t<li>2</li>\n",
       "\t<li>1</li>\n",
       "</ol>\n"
      ],
      "text/latex": [
       "\\begin{enumerate*}\n",
       "\\item 2\n",
       "\\item 1\n",
       "\\item 2\n",
       "\\item 1\n",
       "\\item 2\n",
       "\\item 1\n",
       "\\end{enumerate*}\n"
      ],
      "text/markdown": [
       "1. 2\n",
       "2. 1\n",
       "3. 2\n",
       "4. 1\n",
       "5. 2\n",
       "6. 1\n",
       "\n",
       "\n"
      ],
      "text/plain": [
       "[1] 2 1 2 1 2 1\n",
       "attr(,\"levels\")\n",
       "[1] \"Female\" \"Male\"  "
      ]
     },
     "metadata": {},
     "output_type": "display_data"
    }
   ],
   "source": [
    "unclass(gender.factor)"
   ]
  },
  {
   "cell_type": "code",
   "execution_count": 26,
   "id": "7ecbfff9-4834-4d73-b5b7-1cdbc2f5710b",
   "metadata": {},
   "outputs": [
    {
     "data": {
      "text/html": [
       "<ol class=list-inline>\n",
       "\t<li>Male</li>\n",
       "\t<li>Female</li>\n",
       "\t<li>Male</li>\n",
       "\t<li>Female</li>\n",
       "\t<li>Male</li>\n",
       "\t<li>Female</li>\n",
       "</ol>\n",
       "\n",
       "<details>\n",
       "\t<summary style=display:list-item;cursor:pointer>\n",
       "\t\t<strong>Levels</strong>:\n",
       "\t</summary>\n",
       "\t<ol class=list-inline>\n",
       "\t\t<li>'Female'</li>\n",
       "\t\t<li>'Male'</li>\n",
       "\t\t<li>'Other'</li>\n",
       "\t</ol>\n",
       "</details>"
      ],
      "text/latex": [
       "\\begin{enumerate*}\n",
       "\\item Male\n",
       "\\item Female\n",
       "\\item Male\n",
       "\\item Female\n",
       "\\item Male\n",
       "\\item Female\n",
       "\\end{enumerate*}\n",
       "\n",
       "\\emph{Levels}: \\begin{enumerate*}\n",
       "\\item 'Female'\n",
       "\\item 'Male'\n",
       "\\item 'Other'\n",
       "\\end{enumerate*}\n"
      ],
      "text/markdown": [
       "1. Male\n",
       "2. Female\n",
       "3. Male\n",
       "4. Female\n",
       "5. Male\n",
       "6. Female\n",
       "\n",
       "\n",
       "\n",
       "**Levels**: 1. 'Female'\n",
       "2. 'Male'\n",
       "3. 'Other'\n",
       "\n",
       "\n"
      ],
      "text/plain": [
       "[1] Male   Female Male   Female Male   Female\n",
       "Levels: Female Male Other"
      ]
     },
     "metadata": {},
     "output_type": "display_data"
    }
   ],
   "source": [
    "gender.factor <- factor(gender, levels=c('Female', 'Male', 'Other'))\n",
    "gender.factor"
   ]
  },
  {
   "cell_type": "code",
   "execution_count": 28,
   "id": "5e7e7196-0e5f-464c-9102-f9650ff07b2f",
   "metadata": {},
   "outputs": [
    {
     "data": {
      "text/html": [
       "<ol class=list-inline>\n",
       "\t<li>Male</li>\n",
       "\t<li>Female</li>\n",
       "\t<li>Male</li>\n",
       "\t<li>Female</li>\n",
       "\t<li>Male</li>\n",
       "\t<li>Female</li>\n",
       "\t<li>Other</li>\n",
       "</ol>\n",
       "\n",
       "<details>\n",
       "\t<summary style=display:list-item;cursor:pointer>\n",
       "\t\t<strong>Levels</strong>:\n",
       "\t</summary>\n",
       "\t<ol class=list-inline>\n",
       "\t\t<li>'Female'</li>\n",
       "\t\t<li>'Male'</li>\n",
       "\t\t<li>'Other'</li>\n",
       "\t</ol>\n",
       "</details>"
      ],
      "text/latex": [
       "\\begin{enumerate*}\n",
       "\\item Male\n",
       "\\item Female\n",
       "\\item Male\n",
       "\\item Female\n",
       "\\item Male\n",
       "\\item Female\n",
       "\\item Other\n",
       "\\end{enumerate*}\n",
       "\n",
       "\\emph{Levels}: \\begin{enumerate*}\n",
       "\\item 'Female'\n",
       "\\item 'Male'\n",
       "\\item 'Other'\n",
       "\\end{enumerate*}\n"
      ],
      "text/markdown": [
       "1. Male\n",
       "2. Female\n",
       "3. Male\n",
       "4. Female\n",
       "5. Male\n",
       "6. Female\n",
       "7. Other\n",
       "\n",
       "\n",
       "\n",
       "**Levels**: 1. 'Female'\n",
       "2. 'Male'\n",
       "3. 'Other'\n",
       "\n",
       "\n"
      ],
      "text/plain": [
       "[1] Male   Female Male   Female Male   Female Other \n",
       "Levels: Female Male Other"
      ]
     },
     "metadata": {},
     "output_type": "display_data"
    }
   ],
   "source": [
    "gender.factor[7] <- 'Other'\n",
    "\n",
    "gender.factor"
   ]
  },
  {
   "cell_type": "code",
   "execution_count": 30,
   "id": "da74e80b-25c3-4f1e-b26f-ba5194c02ccf",
   "metadata": {},
   "outputs": [
    {
     "data": {
      "text/html": [
       "<ol class=list-inline>\n",
       "\t<li>'Female'</li>\n",
       "\t<li>'Male'</li>\n",
       "\t<li>'Other'</li>\n",
       "</ol>\n"
      ],
      "text/latex": [
       "\\begin{enumerate*}\n",
       "\\item 'Female'\n",
       "\\item 'Male'\n",
       "\\item 'Other'\n",
       "\\end{enumerate*}\n"
      ],
      "text/markdown": [
       "1. 'Female'\n",
       "2. 'Male'\n",
       "3. 'Other'\n",
       "\n",
       "\n"
      ],
      "text/plain": [
       "[1] \"Female\" \"Male\"   \"Other\" "
      ]
     },
     "metadata": {},
     "output_type": "display_data"
    }
   ],
   "source": [
    "levels(gender.factor)"
   ]
  },
  {
   "cell_type": "code",
   "execution_count": 32,
   "id": "592e2540-56c1-491d-9221-554868ad4adf",
   "metadata": {},
   "outputs": [
    {
     "name": "stdout",
     "output_type": "stream",
     "text": [
      " Factor w/ 3 levels \"Female\",\"Male\",..: 2 1 2 1 2 1 3\n"
     ]
    }
   ],
   "source": [
    "str(gender.factor)"
   ]
  },
  {
   "cell_type": "code",
   "execution_count": 34,
   "id": "9a7057c9-eae4-49d6-a176-596d8485a9b2",
   "metadata": {},
   "outputs": [
    {
     "data": {
      "text/html": [
       "<dl class=dl-horizontal>\n",
       "\t<dt>Female</dt>\n",
       "\t\t<dd>3</dd>\n",
       "\t<dt>Male</dt>\n",
       "\t\t<dd>3</dd>\n",
       "\t<dt>Other</dt>\n",
       "\t\t<dd>1</dd>\n",
       "</dl>\n"
      ],
      "text/latex": [
       "\\begin{description*}\n",
       "\\item[Female] 3\n",
       "\\item[Male] 3\n",
       "\\item[Other] 1\n",
       "\\end{description*}\n"
      ],
      "text/markdown": [
       "Female\n",
       ":   3Male\n",
       ":   3Other\n",
       ":   1\n",
       "\n"
      ],
      "text/plain": [
       "Female   Male  Other \n",
       "     3      3      1 "
      ]
     },
     "metadata": {},
     "output_type": "display_data"
    }
   ],
   "source": [
    "summary(gender.factor)"
   ]
  }
 ],
 "metadata": {
  "kernelspec": {
   "display_name": "R",
   "language": "R",
   "name": "ir"
  },
  "language_info": {
   "codemirror_mode": "r",
   "file_extension": ".r",
   "mimetype": "text/x-r-source",
   "name": "R",
   "pygments_lexer": "r",
   "version": "3.6.1"
  }
 },
 "nbformat": 4,
 "nbformat_minor": 5
}
