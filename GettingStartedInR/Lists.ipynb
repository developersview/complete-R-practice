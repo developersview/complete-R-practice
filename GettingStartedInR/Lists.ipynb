{
 "cells": [
  {
   "cell_type": "code",
   "execution_count": 1,
   "id": "c42570e4-ff86-483e-8249-ad5ada673d05",
   "metadata": {},
   "outputs": [
    {
     "data": {
      "text/html": [
       "<ol>\n",
       "\t<li>10</li>\n",
       "\t<li>11</li>\n",
       "\t<li>12</li>\n",
       "\t<li>13</li>\n",
       "\t<li>14</li>\n",
       "\t<li>15</li>\n",
       "</ol>\n"
      ],
      "text/latex": [
       "\\begin{enumerate}\n",
       "\\item 10\n",
       "\\item 11\n",
       "\\item 12\n",
       "\\item 13\n",
       "\\item 14\n",
       "\\item 15\n",
       "\\end{enumerate}\n"
      ],
      "text/markdown": [
       "1. 10\n",
       "2. 11\n",
       "3. 12\n",
       "4. 13\n",
       "5. 14\n",
       "6. 15\n",
       "\n",
       "\n"
      ],
      "text/plain": [
       "[[1]]\n",
       "[1] 10\n",
       "\n",
       "[[2]]\n",
       "[1] 11\n",
       "\n",
       "[[3]]\n",
       "[1] 12\n",
       "\n",
       "[[4]]\n",
       "[1] 13\n",
       "\n",
       "[[5]]\n",
       "[1] 14\n",
       "\n",
       "[[6]]\n",
       "[1] 15\n"
      ]
     },
     "metadata": {},
     "output_type": "display_data"
    }
   ],
   "source": [
    "num <- list(10,11,12,13,14,15)\n",
    "num"
   ]
  },
  {
   "cell_type": "code",
   "execution_count": 3,
   "id": "08d28957-94ca-4ab0-8b21-5f82c9e350c7",
   "metadata": {},
   "outputs": [
    {
     "data": {
      "text/html": [
       "'list'"
      ],
      "text/latex": [
       "'list'"
      ],
      "text/markdown": [
       "'list'"
      ],
      "text/plain": [
       "[1] \"list\""
      ]
     },
     "metadata": {},
     "output_type": "display_data"
    }
   ],
   "source": [
    "class(num)"
   ]
  },
  {
   "cell_type": "code",
   "execution_count": 5,
   "id": "aa450852-e200-46a6-ba95-a13c1efe8720",
   "metadata": {},
   "outputs": [
    {
     "data": {
      "text/html": [
       "'list'"
      ],
      "text/latex": [
       "'list'"
      ],
      "text/markdown": [
       "'list'"
      ],
      "text/plain": [
       "[1] \"list\""
      ]
     },
     "metadata": {},
     "output_type": "display_data"
    }
   ],
   "source": [
    "typeof(num)"
   ]
  },
  {
   "cell_type": "code",
   "execution_count": 7,
   "id": "b12483f0-a5f7-4d1e-ae33-cc9339f64e26",
   "metadata": {},
   "outputs": [
    {
     "name": "stdout",
     "output_type": "stream",
     "text": [
      "[[1]]\n",
      "[1] 10\n",
      "\n",
      "[[2]]\n",
      "[1] 11\n",
      "\n",
      "[[3]]\n",
      "[1] 12\n",
      "\n",
      "[[4]]\n",
      "[1] 13\n",
      "\n",
      "[[5]]\n",
      "[1] 14\n",
      "\n",
      "[[6]]\n",
      "[1] 15\n",
      "\n"
     ]
    }
   ],
   "source": [
    "print(num)"
   ]
  },
  {
   "cell_type": "code",
   "execution_count": 9,
   "id": "2280ecbc-ab0b-4390-a289-741b84b20111",
   "metadata": {},
   "outputs": [
    {
     "data": {
      "text/html": [
       "TRUE"
      ],
      "text/latex": [
       "TRUE"
      ],
      "text/markdown": [
       "TRUE"
      ],
      "text/plain": [
       "[1] TRUE"
      ]
     },
     "metadata": {},
     "output_type": "display_data"
    }
   ],
   "source": [
    "is.vector(num)"
   ]
  },
  {
   "cell_type": "code",
   "execution_count": 11,
   "id": "557eb318-d5bf-41cd-8ab2-a71477c54275",
   "metadata": {},
   "outputs": [
    {
     "data": {
      "text/html": [
       "<ol>\n",
       "\t<li>12345</li>\n",
       "\t<li>'Peter'</li>\n",
       "\t<li>'Data Science'</li>\n",
       "\t<li>TRUE</li>\n",
       "</ol>\n"
      ],
      "text/latex": [
       "\\begin{enumerate}\n",
       "\\item 12345\n",
       "\\item 'Peter'\n",
       "\\item 'Data Science'\n",
       "\\item TRUE\n",
       "\\end{enumerate}\n"
      ],
      "text/markdown": [
       "1. 12345\n",
       "2. 'Peter'\n",
       "3. 'Data Science'\n",
       "4. TRUE\n",
       "\n",
       "\n"
      ],
      "text/plain": [
       "[[1]]\n",
       "[1] 12345\n",
       "\n",
       "[[2]]\n",
       "[1] \"Peter\"\n",
       "\n",
       "[[3]]\n",
       "[1] \"Data Science\"\n",
       "\n",
       "[[4]]\n",
       "[1] TRUE\n"
      ]
     },
     "metadata": {},
     "output_type": "display_data"
    }
   ],
   "source": [
    "student <- list(12345, 'Peter', 'Data Science', TRUE)\n",
    "student"
   ]
  },
  {
   "cell_type": "code",
   "execution_count": 19,
   "id": "c946acd8-2e17-4214-ab0b-85672dc023ae",
   "metadata": {},
   "outputs": [
    {
     "data": {
      "text/html": [
       "<ol>\n",
       "\t<li>'Peter'</li>\n",
       "</ol>\n"
      ],
      "text/latex": [
       "\\begin{enumerate}\n",
       "\\item 'Peter'\n",
       "\\end{enumerate}\n"
      ],
      "text/markdown": [
       "1. 'Peter'\n",
       "\n",
       "\n"
      ],
      "text/plain": [
       "[[1]]\n",
       "[1] \"Peter\"\n"
      ]
     },
     "metadata": {},
     "output_type": "display_data"
    }
   ],
   "source": [
    "student[2]"
   ]
  },
  {
   "cell_type": "code",
   "execution_count": 21,
   "id": "a6359361-3589-4f99-bfbe-7e8c498060b6",
   "metadata": {},
   "outputs": [
    {
     "data": {
      "text/html": [
       "'list'"
      ],
      "text/latex": [
       "'list'"
      ],
      "text/markdown": [
       "'list'"
      ],
      "text/plain": [
       "[1] \"list\""
      ]
     },
     "metadata": {},
     "output_type": "display_data"
    }
   ],
   "source": [
    "class(student[2])"
   ]
  },
  {
   "cell_type": "code",
   "execution_count": 23,
   "id": "11149681-7a22-48e4-bc0f-2c8485685b52",
   "metadata": {},
   "outputs": [
    {
     "data": {
      "text/html": [
       "12345"
      ],
      "text/latex": [
       "12345"
      ],
      "text/markdown": [
       "12345"
      ],
      "text/plain": [
       "[1] 12345"
      ]
     },
     "metadata": {},
     "output_type": "display_data"
    }
   ],
   "source": [
    "student[[1]]"
   ]
  },
  {
   "cell_type": "code",
   "execution_count": 25,
   "id": "82d42b10-df60-4639-8f2f-38adf33cb7d3",
   "metadata": {},
   "outputs": [
    {
     "data": {
      "text/html": [
       "'Peter'"
      ],
      "text/latex": [
       "'Peter'"
      ],
      "text/markdown": [
       "'Peter'"
      ],
      "text/plain": [
       "[1] \"Peter\""
      ]
     },
     "metadata": {},
     "output_type": "display_data"
    }
   ],
   "source": [
    "student[[2]]"
   ]
  },
  {
   "cell_type": "code",
   "execution_count": 27,
   "id": "3c775e73-cdc2-44aa-8d5e-6cd5628e017a",
   "metadata": {},
   "outputs": [
    {
     "data": {
      "text/html": [
       "'character'"
      ],
      "text/latex": [
       "'character'"
      ],
      "text/markdown": [
       "'character'"
      ],
      "text/plain": [
       "[1] \"character\""
      ]
     },
     "metadata": {},
     "output_type": "display_data"
    }
   ],
   "source": [
    "class(student[[2]])"
   ]
  },
  {
   "cell_type": "code",
   "execution_count": 31,
   "id": "ae5bf94d-6f0e-47aa-b3d3-e1ac6a153429",
   "metadata": {},
   "outputs": [
    {
     "ename": "ERROR",
     "evalue": "Error in student[[1:3]]: recursive indexing failed at level 2\n\n",
     "output_type": "error",
     "traceback": [
      "Error in student[[1:3]]: recursive indexing failed at level 2\n\nTraceback:\n"
     ]
    }
   ],
   "source": [
    "student[[1:3]]"
   ]
  },
  {
   "cell_type": "code",
   "execution_count": 33,
   "id": "07e12dcb-790f-4c8a-bf7b-3a8e15aba243",
   "metadata": {},
   "outputs": [
    {
     "data": {
      "text/html": [
       "<ol>\n",
       "\t<li>12345</li>\n",
       "\t<li>'Peter'</li>\n",
       "\t<li>'Data Science'</li>\n",
       "</ol>\n"
      ],
      "text/latex": [
       "\\begin{enumerate}\n",
       "\\item 12345\n",
       "\\item 'Peter'\n",
       "\\item 'Data Science'\n",
       "\\end{enumerate}\n"
      ],
      "text/markdown": [
       "1. 12345\n",
       "2. 'Peter'\n",
       "3. 'Data Science'\n",
       "\n",
       "\n"
      ],
      "text/plain": [
       "[[1]]\n",
       "[1] 12345\n",
       "\n",
       "[[2]]\n",
       "[1] \"Peter\"\n",
       "\n",
       "[[3]]\n",
       "[1] \"Data Science\"\n"
      ]
     },
     "metadata": {},
     "output_type": "display_data"
    }
   ],
   "source": [
    "student[1:3]"
   ]
  },
  {
   "cell_type": "code",
   "execution_count": 41,
   "id": "a8bc61b4-16c2-4e7e-8cc4-5ed573cffebb",
   "metadata": {},
   "outputs": [
    {
     "data": {
      "text/html": [
       "<dl>\n",
       "\t<dt>$id</dt>\n",
       "\t\t<dd>12345</dd>\n",
       "\t<dt>$name</dt>\n",
       "\t\t<dd>'Pranoy'</dd>\n",
       "\t<dt>$major</dt>\n",
       "\t\t<dd>'Data Science'</dd>\n",
       "\t<dt>$university</dt>\n",
       "\t\t<dd>'Amity'</dd>\n",
       "\t<dt>$enrolled</dt>\n",
       "\t\t<dd>TRUE</dd>\n",
       "</dl>\n"
      ],
      "text/latex": [
       "\\begin{description}\n",
       "\\item[\\$id] 12345\n",
       "\\item[\\$name] 'Pranoy'\n",
       "\\item[\\$major] 'Data Science'\n",
       "\\item[\\$university] 'Amity'\n",
       "\\item[\\$enrolled] TRUE\n",
       "\\end{description}\n"
      ],
      "text/markdown": [
       "$id\n",
       ":   12345\n",
       "$name\n",
       ":   'Pranoy'\n",
       "$major\n",
       ":   'Data Science'\n",
       "$university\n",
       ":   'Amity'\n",
       "$enrolled\n",
       ":   TRUE\n",
       "\n",
       "\n"
      ],
      "text/plain": [
       "$id\n",
       "[1] 12345\n",
       "\n",
       "$name\n",
       "[1] \"Pranoy\"\n",
       "\n",
       "$major\n",
       "[1] \"Data Science\"\n",
       "\n",
       "$university\n",
       "[1] \"Amity\"\n",
       "\n",
       "$enrolled\n",
       "[1] TRUE\n"
      ]
     },
     "metadata": {},
     "output_type": "display_data"
    }
   ],
   "source": [
    "pranoy <- list(id=12345, name='Pranoy', major='Data Science', university='Amity', enrolled=TRUE)\n",
    "pranoy"
   ]
  },
  {
   "cell_type": "code",
   "execution_count": 43,
   "id": "1858314f-c739-479d-a863-4eb9dcb73705",
   "metadata": {},
   "outputs": [
    {
     "data": {
      "text/html": [
       "12345"
      ],
      "text/latex": [
       "12345"
      ],
      "text/markdown": [
       "12345"
      ],
      "text/plain": [
       "[1] 12345"
      ]
     },
     "metadata": {},
     "output_type": "display_data"
    }
   ],
   "source": [
    "pranoy$id"
   ]
  },
  {
   "cell_type": "code",
   "execution_count": 45,
   "id": "23811722-d170-44fc-92d8-188a83790e4e",
   "metadata": {},
   "outputs": [
    {
     "data": {
      "text/html": [
       "'Data Science'"
      ],
      "text/latex": [
       "'Data Science'"
      ],
      "text/markdown": [
       "'Data Science'"
      ],
      "text/plain": [
       "[1] \"Data Science\""
      ]
     },
     "metadata": {},
     "output_type": "display_data"
    }
   ],
   "source": [
    "pranoy$major"
   ]
  },
  {
   "cell_type": "code",
   "execution_count": 49,
   "id": "d538f5e7-dd4c-4c4f-b51b-94ac20d39750",
   "metadata": {},
   "outputs": [
    {
     "data": {
      "text/html": [
       "'Amity'"
      ],
      "text/latex": [
       "'Amity'"
      ],
      "text/markdown": [
       "'Amity'"
      ],
      "text/plain": [
       "[1] \"Amity\""
      ]
     },
     "metadata": {},
     "output_type": "display_data"
    }
   ],
   "source": [
    "pranoy$university"
   ]
  },
  {
   "cell_type": "code",
   "execution_count": 51,
   "id": "ddae3710-4258-4da2-998d-594bfe96599b",
   "metadata": {},
   "outputs": [
    {
     "data": {
      "text/html": [
       "TRUE"
      ],
      "text/latex": [
       "TRUE"
      ],
      "text/markdown": [
       "TRUE"
      ],
      "text/plain": [
       "[1] TRUE"
      ]
     },
     "metadata": {},
     "output_type": "display_data"
    }
   ],
   "source": [
    "pranoy$enrolled"
   ]
  },
  {
   "cell_type": "code",
   "execution_count": 53,
   "id": "f1aa72fa-4fb7-4088-9dfc-6779a511e9b1",
   "metadata": {},
   "outputs": [
    {
     "data": {
      "text/html": [
       "'Data Science'"
      ],
      "text/latex": [
       "'Data Science'"
      ],
      "text/markdown": [
       "'Data Science'"
      ],
      "text/plain": [
       "[1] \"Data Science\""
      ]
     },
     "metadata": {},
     "output_type": "display_data"
    }
   ],
   "source": [
    "pranoy[['major']]"
   ]
  },
  {
   "cell_type": "code",
   "execution_count": 55,
   "id": "dd6a025a-848f-41d6-b4ae-92acd3eec3fa",
   "metadata": {},
   "outputs": [
    {
     "data": {
      "text/html": [
       "<dl class=dl-horizontal>\n",
       "\t<dt>id</dt>\n",
       "\t\t<dd>'12345'</dd>\n",
       "\t<dt>name</dt>\n",
       "\t\t<dd>'Pranoy'</dd>\n",
       "\t<dt>major</dt>\n",
       "\t\t<dd>'Data Science'</dd>\n",
       "\t<dt>university</dt>\n",
       "\t\t<dd>'Amity'</dd>\n",
       "\t<dt>enrolled</dt>\n",
       "\t\t<dd>'TRUE'</dd>\n",
       "</dl>\n"
      ],
      "text/latex": [
       "\\begin{description*}\n",
       "\\item[id] '12345'\n",
       "\\item[name] 'Pranoy'\n",
       "\\item[major] 'Data Science'\n",
       "\\item[university] 'Amity'\n",
       "\\item[enrolled] 'TRUE'\n",
       "\\end{description*}\n"
      ],
      "text/markdown": [
       "id\n",
       ":   '12345'name\n",
       ":   'Pranoy'major\n",
       ":   'Data Science'university\n",
       ":   'Amity'enrolled\n",
       ":   'TRUE'\n",
       "\n"
      ],
      "text/plain": [
       "            id           name          major     university       enrolled \n",
       "       \"12345\"       \"Pranoy\" \"Data Science\"        \"Amity\"         \"TRUE\" "
      ]
     },
     "metadata": {},
     "output_type": "display_data"
    }
   ],
   "source": [
    "values <- unlist(pranoy)\n",
    "values"
   ]
  },
  {
   "cell_type": "code",
   "execution_count": 57,
   "id": "4dae1dcf-5f2d-471f-8276-08a222572a45",
   "metadata": {},
   "outputs": [
    {
     "data": {
      "text/html": [
       "<dl>\n",
       "\t<dt>$ids</dt>\n",
       "\t\t<dd><ol>\n",
       "\t<li><ol class=list-inline>\n",
       "\t<li>101</li>\n",
       "\t<li>102</li>\n",
       "\t<li>103</li>\n",
       "\t<li>104</li>\n",
       "\t<li>105</li>\n",
       "\t<li>106</li>\n",
       "\t<li>107</li>\n",
       "</ol>\n",
       "</li>\n",
       "</ol>\n",
       "</dd>\n",
       "\t<dt>$courses</dt>\n",
       "\t\t<dd><ol>\n",
       "\t<li>'R'</li>\n",
       "\t<li>'Python'</li>\n",
       "\t<li>'Java'</li>\n",
       "\t<li>'C++'</li>\n",
       "</ol>\n",
       "</dd>\n",
       "</dl>\n"
      ],
      "text/latex": [
       "\\begin{description}\n",
       "\\item[\\$ids] \\begin{enumerate}\n",
       "\\item \\begin{enumerate*}\n",
       "\\item 101\n",
       "\\item 102\n",
       "\\item 103\n",
       "\\item 104\n",
       "\\item 105\n",
       "\\item 106\n",
       "\\item 107\n",
       "\\end{enumerate*}\n",
       "\n",
       "\\end{enumerate}\n",
       "\n",
       "\\item[\\$courses] \\begin{enumerate}\n",
       "\\item 'R'\n",
       "\\item 'Python'\n",
       "\\item 'Java'\n",
       "\\item 'C++'\n",
       "\\end{enumerate}\n",
       "\n",
       "\\end{description}\n"
      ],
      "text/markdown": [
       "$ids\n",
       ":   1. 1. 101\n",
       "2. 102\n",
       "3. 103\n",
       "4. 104\n",
       "5. 105\n",
       "6. 106\n",
       "7. 107\n",
       "\n",
       "\n",
       "\n",
       "\n",
       "\n",
       "\n",
       "$courses\n",
       ":   1. 'R'\n",
       "2. 'Python'\n",
       "3. 'Java'\n",
       "4. 'C++'\n",
       "\n",
       "\n",
       "\n",
       "\n",
       "\n"
      ],
      "text/plain": [
       "$ids\n",
       "$ids[[1]]\n",
       "[1] 101 102 103 104 105 106 107\n",
       "\n",
       "\n",
       "$courses\n",
       "$courses[[1]]\n",
       "[1] \"R\"\n",
       "\n",
       "$courses[[2]]\n",
       "[1] \"Python\"\n",
       "\n",
       "$courses[[3]]\n",
       "[1] \"Java\"\n",
       "\n",
       "$courses[[4]]\n",
       "[1] \"C++\"\n",
       "\n"
      ]
     },
     "metadata": {},
     "output_type": "display_data"
    }
   ],
   "source": [
    "courses.list <- list('ids'=list(101:107),\n",
    "                'courses'=list('R', 'Python', 'Java', 'C++'))\n",
    "courses.list"
   ]
  },
  {
   "cell_type": "code",
   "execution_count": 59,
   "id": "70b5d533-060b-4bf6-9fa8-889a312ddb4a",
   "metadata": {},
   "outputs": [
    {
     "data": {
      "text/html": [
       "<dl>\n",
       "\t<dt>$ids</dt>\n",
       "\t\t<dd><ol>\n",
       "\t<li><ol class=list-inline>\n",
       "\t<li>101</li>\n",
       "\t<li>102</li>\n",
       "\t<li>103</li>\n",
       "\t<li>104</li>\n",
       "\t<li>105</li>\n",
       "\t<li>106</li>\n",
       "\t<li>107</li>\n",
       "</ol>\n",
       "</li>\n",
       "</ol>\n",
       "</dd>\n",
       "\t<dt>$courses</dt>\n",
       "\t\t<dd><ol>\n",
       "\t<li>'R'</li>\n",
       "\t<li>'Python'</li>\n",
       "\t<li>'Java'</li>\n",
       "\t<li>'C++'</li>\n",
       "</ol>\n",
       "</dd>\n",
       "\t<dt>$available</dt>\n",
       "\t\t<dd><ol>\n",
       "\t<li>TRUE</li>\n",
       "\t<li>TRUE</li>\n",
       "\t<li>FALSE</li>\n",
       "\t<li>TRUE</li>\n",
       "</ol>\n",
       "</dd>\n",
       "</dl>\n"
      ],
      "text/latex": [
       "\\begin{description}\n",
       "\\item[\\$ids] \\begin{enumerate}\n",
       "\\item \\begin{enumerate*}\n",
       "\\item 101\n",
       "\\item 102\n",
       "\\item 103\n",
       "\\item 104\n",
       "\\item 105\n",
       "\\item 106\n",
       "\\item 107\n",
       "\\end{enumerate*}\n",
       "\n",
       "\\end{enumerate}\n",
       "\n",
       "\\item[\\$courses] \\begin{enumerate}\n",
       "\\item 'R'\n",
       "\\item 'Python'\n",
       "\\item 'Java'\n",
       "\\item 'C++'\n",
       "\\end{enumerate}\n",
       "\n",
       "\\item[\\$available] \\begin{enumerate}\n",
       "\\item TRUE\n",
       "\\item TRUE\n",
       "\\item FALSE\n",
       "\\item TRUE\n",
       "\\end{enumerate}\n",
       "\n",
       "\\end{description}\n"
      ],
      "text/markdown": [
       "$ids\n",
       ":   1. 1. 101\n",
       "2. 102\n",
       "3. 103\n",
       "4. 104\n",
       "5. 105\n",
       "6. 106\n",
       "7. 107\n",
       "\n",
       "\n",
       "\n",
       "\n",
       "\n",
       "\n",
       "$courses\n",
       ":   1. 'R'\n",
       "2. 'Python'\n",
       "3. 'Java'\n",
       "4. 'C++'\n",
       "\n",
       "\n",
       "\n",
       "$available\n",
       ":   1. TRUE\n",
       "2. TRUE\n",
       "3. FALSE\n",
       "4. TRUE\n",
       "\n",
       "\n",
       "\n",
       "\n",
       "\n"
      ],
      "text/plain": [
       "$ids\n",
       "$ids[[1]]\n",
       "[1] 101 102 103 104 105 106 107\n",
       "\n",
       "\n",
       "$courses\n",
       "$courses[[1]]\n",
       "[1] \"R\"\n",
       "\n",
       "$courses[[2]]\n",
       "[1] \"Python\"\n",
       "\n",
       "$courses[[3]]\n",
       "[1] \"Java\"\n",
       "\n",
       "$courses[[4]]\n",
       "[1] \"C++\"\n",
       "\n",
       "\n",
       "$available\n",
       "$available[[1]]\n",
       "[1] TRUE\n",
       "\n",
       "$available[[2]]\n",
       "[1] TRUE\n",
       "\n",
       "$available[[3]]\n",
       "[1] FALSE\n",
       "\n",
       "$available[[4]]\n",
       "[1] TRUE\n",
       "\n"
      ]
     },
     "metadata": {},
     "output_type": "display_data"
    }
   ],
   "source": [
    "courses.list$available <- list(TRUE, TRUE, FALSE, TRUE)\n",
    "courses.list"
   ]
  },
  {
   "cell_type": "code",
   "execution_count": 61,
   "id": "56381841-b498-4db6-8b2d-bd52409030ae",
   "metadata": {},
   "outputs": [
    {
     "data": {
      "text/html": [
       "<ol>\n",
       "\t<li><ol class=list-inline>\n",
       "\t<li>1</li>\n",
       "\t<li>2</li>\n",
       "\t<li>3</li>\n",
       "\t<li>4</li>\n",
       "\t<li>5</li>\n",
       "\t<li>6</li>\n",
       "</ol>\n",
       "</li>\n",
       "</ol>\n"
      ],
      "text/latex": [
       "\\begin{enumerate}\n",
       "\\item \\begin{enumerate*}\n",
       "\\item 1\n",
       "\\item 2\n",
       "\\item 3\n",
       "\\item 4\n",
       "\\item 5\n",
       "\\item 6\n",
       "\\end{enumerate*}\n",
       "\n",
       "\\end{enumerate}\n"
      ],
      "text/markdown": [
       "1. 1. 1\n",
       "2. 2\n",
       "3. 3\n",
       "4. 4\n",
       "5. 5\n",
       "6. 6\n",
       "\n",
       "\n",
       "\n",
       "\n",
       "\n"
      ],
      "text/plain": [
       "[[1]]\n",
       "[1] 1 2 3 4 5 6\n"
      ]
     },
     "metadata": {},
     "output_type": "display_data"
    }
   ],
   "source": [
    "some.list <- list(1:6)\n",
    "some.list"
   ]
  },
  {
   "cell_type": "code",
   "execution_count": 63,
   "id": "25a9b35e-d091-41d4-a918-cb82c1ee55bd",
   "metadata": {},
   "outputs": [
    {
     "data": {
      "text/html": [
       "FALSE"
      ],
      "text/latex": [
       "FALSE"
      ],
      "text/markdown": [
       "FALSE"
      ],
      "text/plain": [
       "[1] FALSE"
      ]
     },
     "metadata": {},
     "output_type": "display_data"
    }
   ],
   "source": [
    "is.atomic(some.list)"
   ]
  },
  {
   "cell_type": "code",
   "execution_count": 65,
   "id": "13bd885f-1ac5-410e-853e-e84568bf140b",
   "metadata": {},
   "outputs": [
    {
     "data": {
      "text/html": [
       "TRUE"
      ],
      "text/latex": [
       "TRUE"
      ],
      "text/markdown": [
       "TRUE"
      ],
      "text/plain": [
       "[1] TRUE"
      ]
     },
     "metadata": {},
     "output_type": "display_data"
    }
   ],
   "source": [
    "is.recursive(some.list)"
   ]
  },
  {
   "cell_type": "code",
   "execution_count": 67,
   "id": "9217f532-2ced-4545-85cf-90c7b4d8ac16",
   "metadata": {},
   "outputs": [],
   "source": [
    "re = list(\"nested\" = list(1,2,3,4,5,6))"
   ]
  },
  {
   "cell_type": "code",
   "execution_count": 69,
   "id": "aa5eaa13-a0d7-4527-aabd-5744de940767",
   "metadata": {},
   "outputs": [
    {
     "data": {
      "text/html": [
       "<strong>$nested</strong> = <ol>\n",
       "\t<li>1</li>\n",
       "\t<li>2</li>\n",
       "\t<li>3</li>\n",
       "\t<li>4</li>\n",
       "\t<li>5</li>\n",
       "\t<li>6</li>\n",
       "</ol>\n"
      ],
      "text/latex": [
       "\\textbf{\\$nested} = \\begin{enumerate}\n",
       "\\item 1\n",
       "\\item 2\n",
       "\\item 3\n",
       "\\item 4\n",
       "\\item 5\n",
       "\\item 6\n",
       "\\end{enumerate}\n"
      ],
      "text/markdown": [
       "**$nested** = 1. 1\n",
       "2. 2\n",
       "3. 3\n",
       "4. 4\n",
       "5. 5\n",
       "6. 6\n",
       "\n",
       "\n"
      ],
      "text/plain": [
       "$nested\n",
       "$nested[[1]]\n",
       "[1] 1\n",
       "\n",
       "$nested[[2]]\n",
       "[1] 2\n",
       "\n",
       "$nested[[3]]\n",
       "[1] 3\n",
       "\n",
       "$nested[[4]]\n",
       "[1] 4\n",
       "\n",
       "$nested[[5]]\n",
       "[1] 5\n",
       "\n",
       "$nested[[6]]\n",
       "[1] 6\n",
       "\n"
      ]
     },
     "metadata": {},
     "output_type": "display_data"
    }
   ],
   "source": [
    "re"
   ]
  },
  {
   "cell_type": "code",
   "execution_count": 85,
   "id": "391b493a-b15d-4c7c-bff4-dab19de111ce",
   "metadata": {},
   "outputs": [],
   "source": [
    "lst = list(2,3,5,6,7,8,1,4)"
   ]
  },
  {
   "cell_type": "code",
   "execution_count": 87,
   "id": "ccb0e9b7-582b-456b-9dba-1e7714e84c9b",
   "metadata": {},
   "outputs": [
    {
     "ename": "ERROR",
     "evalue": "Error in lst[[2:4]]: recursive indexing failed at level 2\n\n",
     "output_type": "error",
     "traceback": [
      "Error in lst[[2:4]]: recursive indexing failed at level 2\n\nTraceback:\n"
     ]
    }
   ],
   "source": [
    "lst[[2:4]]"
   ]
  },
  {
   "cell_type": "code",
   "execution_count": 89,
   "id": "3c618bd4-273e-4cd6-9d71-d23939a9a29f",
   "metadata": {},
   "outputs": [
    {
     "data": {
      "text/html": [
       "<table>\n",
       "<tbody>\n",
       "\t<tr><td>10</td><td>30</td></tr>\n",
       "\t<tr><td>20</td><td>40</td></tr>\n",
       "</tbody>\n",
       "</table>\n"
      ],
      "text/latex": [
       "\\begin{tabular}{ll}\n",
       "\t 10 & 30\\\\\n",
       "\t 20 & 40\\\\\n",
       "\\end{tabular}\n"
      ],
      "text/markdown": [
       "\n",
       "| 10 | 30 |\n",
       "| 20 | 40 |\n",
       "\n"
      ],
      "text/plain": [
       "     [,1] [,2]\n",
       "[1,] 10   30  \n",
       "[2,] 20   40  "
      ]
     },
     "metadata": {},
     "output_type": "display_data"
    }
   ],
   "source": [
    "num = matrix(c(10,20,30,40), ncol=2)\n",
    "num"
   ]
  },
  {
   "cell_type": "code",
   "execution_count": 91,
   "id": "b9c7fb43-1579-46f1-870a-18b76bc5d55d",
   "metadata": {},
   "outputs": [],
   "source": [
    "dim(num) <- c(1,4)"
   ]
  },
  {
   "cell_type": "code",
   "execution_count": 93,
   "id": "240e3ba7-1f3a-48f2-a4fa-f8f488107c0a",
   "metadata": {},
   "outputs": [
    {
     "data": {
      "text/html": [
       "<table>\n",
       "<tbody>\n",
       "\t<tr><td>10</td><td>20</td><td>30</td><td>40</td></tr>\n",
       "</tbody>\n",
       "</table>\n"
      ],
      "text/latex": [
       "\\begin{tabular}{llll}\n",
       "\t 10 & 20 & 30 & 40\\\\\n",
       "\\end{tabular}\n"
      ],
      "text/markdown": [
       "\n",
       "| 10 | 20 | 30 | 40 |\n",
       "\n"
      ],
      "text/plain": [
       "     [,1] [,2] [,3] [,4]\n",
       "[1,] 10   20   30   40  "
      ]
     },
     "metadata": {},
     "output_type": "display_data"
    }
   ],
   "source": [
    "num"
   ]
  }
 ],
 "metadata": {
  "kernelspec": {
   "display_name": "R",
   "language": "R",
   "name": "ir"
  },
  "language_info": {
   "codemirror_mode": "r",
   "file_extension": ".r",
   "mimetype": "text/x-r-source",
   "name": "R",
   "pygments_lexer": "r",
   "version": "3.6.1"
  }
 },
 "nbformat": 4,
 "nbformat_minor": 5
}
